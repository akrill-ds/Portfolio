{
 "cells": [
  {
   "cell_type": "markdown",
   "id": "980bb905",
   "metadata": {},
   "source": [
    "Привет, меня зовут Артем. Сегодня я проверю твой проект.\n",
    "<br> Дальнейшее общение будет происходить на \"ты\" если это не вызывает никаких проблем.\n",
    "<br> Желательно реагировать на каждый мой комментарий ('исправил', 'не понятно как исправить ошибку', ...)\n",
    "<br> Пожалуйста, не удаляй комментарии ревьюера, так как они повышают качество повторного ревью.\n",
    "\n",
    "Комментарии будут в <font color='green'>зеленой</font>, <font color='blue'>синей</font> или <font color='red'>красной</font> рамках:\n",
    "\n",
    "<div class=\"alert alert-block alert-success\">\n",
    "<b>Успех:</b> Если все сделано отлично\n",
    "</div>\n",
    "\n",
    "<div class=\"alert alert-block alert-info\">\n",
    "<b>Совет: </b> Если можно немного улучшить\n",
    "</div>\n",
    "\n",
    "<div class=\"alert alert-block alert-danger\">\n",
    "<b>Ошибка:</b> Если требуются исправления. Работа не может быть принята с красными комментариями.\n",
    "</div>\n",
    "\n",
    "-------------------\n",
    "\n",
    "Будет очень хорошо, если ты будешь помечать свои действия следующим образом:\n",
    "<div class=\"alert alert-block alert-warning\">\n",
    "<b>Комментарий студента:</b> ...\n",
    "</div>\n",
    "\n",
    "<div class=\"alert alert-block alert-warning\">\n",
    "<b>Изменения:</b> Были внесены следующие изменения ...\n",
    "</div>\n",
    "\n",
    "### <font color='orange'>Общее впечатление</font>\n",
    "* Большое спасибо за проделанную работу. Видно, что приложено много усилий.\n",
    "* Выводы и рассуждения получились содержательными, их было интересно читать.\n",
    "* Радует, что тебе удалось разобраться с техникой бутстрапа.\n",
    "* Отлично, что доверительный интервал и риск убытков посчитаны верно.\n",
    "* Над этим проектом нужно будет еще немного поработать. Однако, изменения не должны занять много времени.\n",
    "* В работе я оставил несколько советов. Буду рад, если ты учтешь их.\n",
    "* С радостью отвечу на твои вопросы, если они есть. Лучше всего их собрать в следующей ячейке. Жду новую версию проекта."
   ]
  },
  {
   "cell_type": "markdown",
   "id": "9e0bf9bf",
   "metadata": {},
   "source": [
    "<div class=\"alert alert-block alert-warning\">\n",
    "<b>Привет, Артём! Спасибо за советы.</b><br>\n",
    "</div>"
   ]
  },
  {
   "cell_type": "markdown",
   "id": "10386c43",
   "metadata": {},
   "source": [
    "<div class=\"alert alert-block alert-warning\">\n",
    "<b>У меня несколько вопросов:</b><br>\n",
    "    1. Насколько тщательно необходимо делать очистку данных для ML(дубликаты, выбросы, пропуски)?<br>\n",
    "    \n",
    "> Зависит от конкретной задачи и времени. Дубликаты почти всегда лучше удалять. Пропуски – зависит от модели, некоторые с ними могут справляться. Выбросы можно удалять из треина всегда, а вот из валидации/теста только если есть уверенность, что это ошибки.\n",
    "    \n",
    "    2. В данной задаче нужно ли было масштабировать признаки? И, вообще, когда нужно, а когда нет?<br>\n",
    "    \n",
    "> Можно было попробовать, но на качестве это бы не сказалось. Если признаки слишком разные, то перед применением линейных моделей стоит это сделать. В данном случае признаки примерно из похожего распределения.\n",
    "    \n",
    "    3. Принято ли среди профессионалов в ML многое делать через функции, как я делал в этом проекте?<br>\n",
    "    \n",
    "> Да, функции – это отлично!\n",
    "    \n",
    "    4. Подобный финансово-экономический расчёт (в добавку непосредственно к ML) часто встречается в практике?\n",
    "    \n",
    "> Зависит от компании/проекта/человека. Обобщенно сложно сказать.\n",
    "    \n",
    "</div>"
   ]
  },
  {
   "cell_type": "markdown",
   "id": "34d05c72",
   "metadata": {},
   "source": [
    "### <font color='orange'>Общее впечатление (ревью 2)</font>\n",
    "* После исправлений проект улучшился и теперь он может быть зачтен.\n",
    "* Для удобства все новые комментарии обозначены фразой \"ревью 2\".\n",
    "* Удачи в дальнейшем обучении и следующих работах!"
   ]
  },
  {
   "cell_type": "markdown",
   "id": "c865cbfb",
   "metadata": {
    "toc": true
   },
   "source": [
    "<h1>Table of Contents<span class=\"tocSkip\"></span></h1>\n",
    "<div class=\"toc\"><ul class=\"toc-item\"><li><ul class=\"toc-item\"><li><span><a href=\"#Общее-впечатление\" data-toc-modified-id=\"Общее-впечатление--1.1\"><span class=\"toc-item-num\">-1.1&nbsp;&nbsp;</span><font color=\"orange\">Общее впечатление</font></a></span></li><li><span><a href=\"#Общее-впечатление-(ревью-2)\" data-toc-modified-id=\"Общее-впечатление-(ревью-2)--1.2\"><span class=\"toc-item-num\">-1.2&nbsp;&nbsp;</span><font color=\"orange\">Общее впечатление (ревью 2)</font></a></span></li></ul></li><li><span><a href=\"#Описание-проекта\" data-toc-modified-id=\"Описание-проекта-0\"><span class=\"toc-item-num\">0&nbsp;&nbsp;</span>Описание проекта</a></span></li><li><span><a href=\"#Загрузка-и-подготовка-данных\" data-toc-modified-id=\"Загрузка-и-подготовка-данных-1\"><span class=\"toc-item-num\">1&nbsp;&nbsp;</span>Загрузка и подготовка данных</a></span><ul class=\"toc-item\"><li><span><a href=\"#Общая-информация-о-данных\" data-toc-modified-id=\"Общая-информация-о-данных-1.1\"><span class=\"toc-item-num\">1.1&nbsp;&nbsp;</span>Общая информация о данных</a></span></li><li><span><a href=\"#Предобработка-данных\" data-toc-modified-id=\"Предобработка-данных-1.2\"><span class=\"toc-item-num\">1.2&nbsp;&nbsp;</span>Предобработка данных</a></span><ul class=\"toc-item\"><li><span><a href=\"#Обработка-пропусков\" data-toc-modified-id=\"Обработка-пропусков-1.2.1\"><span class=\"toc-item-num\">1.2.1&nbsp;&nbsp;</span>Обработка пропусков</a></span></li><li><span><a href=\"#Обработка-аномальных-значений\" data-toc-modified-id=\"Обработка-аномальных-значений-1.2.2\"><span class=\"toc-item-num\">1.2.2&nbsp;&nbsp;</span>Обработка аномальных значений</a></span></li><li><span><a href=\"#Обработка-дубликатов\" data-toc-modified-id=\"Обработка-дубликатов-1.2.3\"><span class=\"toc-item-num\">1.2.3&nbsp;&nbsp;</span>Обработка дубликатов</a></span></li></ul></li><li><span><a href=\"#Исследование-данных\" data-toc-modified-id=\"Исследование-данных-1.3\"><span class=\"toc-item-num\">1.3&nbsp;&nbsp;</span>Исследование данных</a></span></li><li><span><a href=\"#Вывод-1\" data-toc-modified-id=\"Вывод-1-1.4\"><span class=\"toc-item-num\">1.4&nbsp;&nbsp;</span>Вывод 1</a></span></li></ul></li><li><span><a href=\"#Обучение-и-проверка-моделей-для-каждого-региона\" data-toc-modified-id=\"Обучение-и-проверка-моделей-для-каждого-региона-2\"><span class=\"toc-item-num\">2&nbsp;&nbsp;</span>Обучение и проверка моделей для каждого региона</a></span><ul class=\"toc-item\"><li><span><a href=\"#Разделение-выборки\" data-toc-modified-id=\"Разделение-выборки-2.1\"><span class=\"toc-item-num\">2.1&nbsp;&nbsp;</span>Разделение выборки</a></span></li><li><span><a href=\"#Масштабирование-числовых-данных-в-выборках\" data-toc-modified-id=\"Масштабирование-числовых-данных-в-выборках-2.2\"><span class=\"toc-item-num\">2.2&nbsp;&nbsp;</span>Масштабирование числовых данных в выборках</a></span></li><li><span><a href=\"#Обучение-моделей\" data-toc-modified-id=\"Обучение-моделей-2.3\"><span class=\"toc-item-num\">2.3&nbsp;&nbsp;</span>Обучение моделей</a></span></li><li><span><a href=\"#Вывод-2\" data-toc-modified-id=\"Вывод-2-2.4\"><span class=\"toc-item-num\">2.4&nbsp;&nbsp;</span>Вывод 2</a></span></li></ul></li><li><span><a href=\"#Расчёт-достаточного-объёма-сырья\" data-toc-modified-id=\"Расчёт-достаточного-объёма-сырья-3\"><span class=\"toc-item-num\">3&nbsp;&nbsp;</span>Расчёт достаточного объёма сырья</a></span></li><li><span><a href=\"#Функция-расчёта-прибыли-по-лучшим-предсказанным-скважинам\" data-toc-modified-id=\"Функция-расчёта-прибыли-по-лучшим-предсказанным-скважинам-4\"><span class=\"toc-item-num\">4&nbsp;&nbsp;</span>Функция расчёта прибыли по лучшим предсказанным скважинам</a></span></li><li><span><a href=\"#Расчёт-рисков-и-прибыли-для-регионов\" data-toc-modified-id=\"Расчёт-рисков-и-прибыли-для-регионов-5\"><span class=\"toc-item-num\">5&nbsp;&nbsp;</span>Расчёт рисков и прибыли для регионов</a></span><ul class=\"toc-item\"><li><span><a href=\"#Распределение-прибыли\" data-toc-modified-id=\"Распределение-прибыли-5.1\"><span class=\"toc-item-num\">5.1&nbsp;&nbsp;</span>Распределение прибыли</a></span></li><li><span><a href=\"#Статистики-распределения-прибыли\" data-toc-modified-id=\"Статистики-распределения-прибыли-5.2\"><span class=\"toc-item-num\">5.2&nbsp;&nbsp;</span>Статистики распределения прибыли</a></span></li><li><span><a href=\"#Выводы\" data-toc-modified-id=\"Выводы-5.3\"><span class=\"toc-item-num\">5.3&nbsp;&nbsp;</span>Выводы</a></span></li></ul></li></ul></div>"
   ]
  },
  {
   "cell_type": "markdown",
   "id": "770f6894",
   "metadata": {},
   "source": [
    "## Описание проекта"
   ]
  },
  {
   "cell_type": "markdown",
   "id": "92b2a472",
   "metadata": {},
   "source": [
    "<font size=5><b>Определение региона нефтедобычи</b></font><br><br>\n",
    "<b>Описание:</b><br>\n",
    "Добывающей компании «ГлавРосГосНефть» нужно решить, где бурить новую скважину. \n",
    "Шаги для выбора локации обычно такие:\n",
    "1. В избранном регионе собирают характеристики для скважин: качество нефти и объём её запасов;\n",
    "1. Строят модель для предсказания объёма запасов в новых скважинах;\n",
    "1. Выбирают скважины с самыми высокими оценками значений;\n",
    "1. Определяют регион с максимальной суммарной прибылью отобранных скважин.<br><br>\n",
    "\n",
    "<b>Цель:</b><br>\n",
    "Предоставлены пробы нефти в трёх регионах. Характеристики для каждой скважины в регионе уже известны. Постройте модель для определения региона, где добыча принесёт наибольшую прибыль. Проанализируйте возможную прибыль и риски техникой Bootstrap.<br><br>\n",
    "<b>Исходные данные:</b><br>\n",
    "Данные геологоразведки трёх регионов находятся в трёх датасетах: *geo_data_0.csv*, *geo_data_1.csv*, *geo_data_2.csv*. Данные содержат информацию:\n",
    "* `id` — уникальный идентификатор скважины;\n",
    "* `f0`, `f1`, `f2` — три признака точек;\n",
    "* `product` — объём запасов в скважине (тыс. баррелей).<br><br>\n",
    "\n",
    "<b>Условия:</b><br>\n",
    "* Для обучения модели подходит только линейная регрессия (остальные — недостаточно предсказуемые).\n",
    "* При разведке региона исследуют 500 точек, из которых с помощью машинного обучения выбирают 200 лучших для разработки.\n",
    "* Бюджет на разработку скважин в регионе — 10 млрд. рублей.\n",
    "* При нынешних ценах один баррель сырья приносит 450 рублей дохода. Доход с каждой единицы продукта составляет 450 тыс. рублей, поскольку объём указан в тысячах баррелей.\n",
    "* После оценки рисков нужно оставить лишь те регионы, в которых вероятность убытков меньше 2.5%. Среди них выбирают регион с наибольшей средней прибылью.\n",
    "\n",
    "\n",
    "<b>Задачи:</b><br>\n",
    "1. Загрузка и подготовка данных:<br>\n",
    "    1.1. Общая информация о данных;<br>\n",
    "    1.2. Предообработка данных;<br>\n",
    "    1.3. Исследование данных.<br><br>\n",
    "2. Обучение и проверка моделей для каждого региона:<br>\n",
    "    2.1. Разбивка данных на обучающую и валидационную выборки;<br>\n",
    "    2.2. Обучение моделей и предсказания на валидационной выборке;<br>\n",
    "    2.4. Вычисление среднего запаса предсказанного сырья и RMSE моделей;<br>\n",
    "    2.5. Анализ результатов.<br><br>\n",
    "3. Подготовка к расчёту прибыли:<br>\n",
    "    3.1. Рассчёт достаточного объёма сырья для безубыточной разработки новой скважины;<br>\n",
    "    3.2. Сравнение полученного объёма сырья со средним запасом в каждом регионе;<br>\n",
    "    3.3. Анализ результатов.<br><br>\n",
    "4. Разработка функции для расчёта прибыли по выбранным скважинам и предсказаниям модели:<br>\n",
    "    4.1. Выбор скважины с максимальными значениями предсказаний;<br>\n",
    "    4.2. Рассчёт целевого значение объёма сырья, соответствующее этим предсказаниям;<br>\n",
    "    4.3. Рассчёт прибыли для полученного объёма сырья.<br><br>\n",
    "5. Расчёт рисков и прибыли для каждого региона:<br>\n",
    "    5.1. Расчёт распределения прибыли методом Bootstrap;<br>\n",
    "    5.2. Расчёт средней прибыли, 95%-й доверительного интервала и риска убытков;<br>\n",
    "    5.3. Выводы."
   ]
  },
  {
   "cell_type": "markdown",
   "id": "8e333e9c",
   "metadata": {},
   "source": [
    "## Загрузка и подготовка данных"
   ]
  },
  {
   "cell_type": "markdown",
   "id": "bf3d4c1b",
   "metadata": {},
   "source": [
    "### Общая информация о данных"
   ]
  },
  {
   "cell_type": "markdown",
   "id": "4062dd3e",
   "metadata": {},
   "source": [
    "Импорт библиотек, загрузка данных, изучение общей информации о данных"
   ]
  },
  {
   "cell_type": "code",
   "execution_count": 1,
   "id": "5f6d4a7e",
   "metadata": {},
   "outputs": [],
   "source": [
    "import pandas as pd\n",
    "import numpy as np\n",
    "\n",
    "import matplotlib.pyplot as plt\n",
    "import seaborn as sns\n",
    "\n",
    "from sklearn.model_selection import train_test_split, cross_val_score\n",
    "from sklearn.preprocessing import StandardScaler\n",
    "from sklearn.linear_model import LinearRegression\n",
    "from sklearn.metrics import mean_squared_error\n",
    "\n",
    "rstate = 5903"
   ]
  },
  {
   "cell_type": "markdown",
   "id": "73c8faa4",
   "metadata": {},
   "source": [
    "<div class=\"alert alert-block alert-success\">\n",
    "<b>Успех:</b> Отлично, что все импорты собраны в первой ячейке ноутбука! Если у того, кто будет запускать твой ноутбук будут отсутствовать некоторые библиотеки, то он это увидит сразу, а не в процессе!\n",
    "</div>"
   ]
  },
  {
   "cell_type": "code",
   "execution_count": 2,
   "id": "2c60e4f2",
   "metadata": {},
   "outputs": [],
   "source": [
    "# для Яндекс.Практикум\n",
    "try:\n",
    "    df0 = pd.read_csv('/datasets/geo_data_0.csv')\n",
    "    df1 = pd.read_csv('/datasets/geo_data_1.csv')\n",
    "    df2 = pd.read_csv('/datasets/geo_data_2.csv')\n",
    "# для локального использования\n",
    "except:\n",
    "    df0 = pd.read_csv('geo_data_0.csv')\n",
    "    df1 = pd.read_csv('geo_data_1.csv')\n",
    "    df2 = pd.read_csv('geo_data_2.csv')\n",
    "    \n",
    "# словарь датафреймов\n",
    "df_dict = {'geo_data_0': df0,\n",
    "           'geo_data_1': df1,\n",
    "           'geo_data_2': df2}\n",
    "\n",
    "numeric_features = df0.select_dtypes(float).columns"
   ]
  },
  {
   "cell_type": "code",
   "execution_count": 3,
   "id": "867d1a5e",
   "metadata": {},
   "outputs": [],
   "source": [
    "# функция выводит общие данные о датафрейме\n",
    "def get_data_info(data):\n",
    "    print(f'Количество объектов: {data.shape[0]}\\nКоличество признаков: {data.shape[1]}')\n",
    "    display(data.head())\n",
    "    display(data.info())\n",
    "    print()"
   ]
  },
  {
   "cell_type": "markdown",
   "id": "10412ad1",
   "metadata": {},
   "source": [
    "Выведем общую информацию о датафреймах."
   ]
  },
  {
   "cell_type": "code",
   "execution_count": 4,
   "id": "c070b7fe",
   "metadata": {},
   "outputs": [
    {
     "name": "stdout",
     "output_type": "stream",
     "text": [
      "************\n",
      " geo_data_0 \n",
      "************\n",
      "Количество объектов: 100000\n",
      "Количество признаков: 5\n"
     ]
    },
    {
     "data": {
      "text/html": [
       "<div>\n",
       "<style scoped>\n",
       "    .dataframe tbody tr th:only-of-type {\n",
       "        vertical-align: middle;\n",
       "    }\n",
       "\n",
       "    .dataframe tbody tr th {\n",
       "        vertical-align: top;\n",
       "    }\n",
       "\n",
       "    .dataframe thead th {\n",
       "        text-align: right;\n",
       "    }\n",
       "</style>\n",
       "<table border=\"1\" class=\"dataframe\">\n",
       "  <thead>\n",
       "    <tr style=\"text-align: right;\">\n",
       "      <th></th>\n",
       "      <th>id</th>\n",
       "      <th>f0</th>\n",
       "      <th>f1</th>\n",
       "      <th>f2</th>\n",
       "      <th>product</th>\n",
       "    </tr>\n",
       "  </thead>\n",
       "  <tbody>\n",
       "    <tr>\n",
       "      <th>0</th>\n",
       "      <td>txEyH</td>\n",
       "      <td>0.705745</td>\n",
       "      <td>-0.497823</td>\n",
       "      <td>1.221170</td>\n",
       "      <td>105.280062</td>\n",
       "    </tr>\n",
       "    <tr>\n",
       "      <th>1</th>\n",
       "      <td>2acmU</td>\n",
       "      <td>1.334711</td>\n",
       "      <td>-0.340164</td>\n",
       "      <td>4.365080</td>\n",
       "      <td>73.037750</td>\n",
       "    </tr>\n",
       "    <tr>\n",
       "      <th>2</th>\n",
       "      <td>409Wp</td>\n",
       "      <td>1.022732</td>\n",
       "      <td>0.151990</td>\n",
       "      <td>1.419926</td>\n",
       "      <td>85.265647</td>\n",
       "    </tr>\n",
       "    <tr>\n",
       "      <th>3</th>\n",
       "      <td>iJLyR</td>\n",
       "      <td>-0.032172</td>\n",
       "      <td>0.139033</td>\n",
       "      <td>2.978566</td>\n",
       "      <td>168.620776</td>\n",
       "    </tr>\n",
       "    <tr>\n",
       "      <th>4</th>\n",
       "      <td>Xdl7t</td>\n",
       "      <td>1.988431</td>\n",
       "      <td>0.155413</td>\n",
       "      <td>4.751769</td>\n",
       "      <td>154.036647</td>\n",
       "    </tr>\n",
       "  </tbody>\n",
       "</table>\n",
       "</div>"
      ],
      "text/plain": [
       "      id        f0        f1        f2     product\n",
       "0  txEyH  0.705745 -0.497823  1.221170  105.280062\n",
       "1  2acmU  1.334711 -0.340164  4.365080   73.037750\n",
       "2  409Wp  1.022732  0.151990  1.419926   85.265647\n",
       "3  iJLyR -0.032172  0.139033  2.978566  168.620776\n",
       "4  Xdl7t  1.988431  0.155413  4.751769  154.036647"
      ]
     },
     "metadata": {},
     "output_type": "display_data"
    },
    {
     "name": "stdout",
     "output_type": "stream",
     "text": [
      "<class 'pandas.core.frame.DataFrame'>\n",
      "RangeIndex: 100000 entries, 0 to 99999\n",
      "Data columns (total 5 columns):\n",
      " #   Column   Non-Null Count   Dtype  \n",
      "---  ------   --------------   -----  \n",
      " 0   id       100000 non-null  object \n",
      " 1   f0       100000 non-null  float64\n",
      " 2   f1       100000 non-null  float64\n",
      " 3   f2       100000 non-null  float64\n",
      " 4   product  100000 non-null  float64\n",
      "dtypes: float64(4), object(1)\n",
      "memory usage: 3.8+ MB\n"
     ]
    },
    {
     "data": {
      "text/plain": [
       "None"
      ]
     },
     "metadata": {},
     "output_type": "display_data"
    },
    {
     "name": "stdout",
     "output_type": "stream",
     "text": [
      "\n",
      "************\n",
      " geo_data_1 \n",
      "************\n",
      "Количество объектов: 100000\n",
      "Количество признаков: 5\n"
     ]
    },
    {
     "data": {
      "text/html": [
       "<div>\n",
       "<style scoped>\n",
       "    .dataframe tbody tr th:only-of-type {\n",
       "        vertical-align: middle;\n",
       "    }\n",
       "\n",
       "    .dataframe tbody tr th {\n",
       "        vertical-align: top;\n",
       "    }\n",
       "\n",
       "    .dataframe thead th {\n",
       "        text-align: right;\n",
       "    }\n",
       "</style>\n",
       "<table border=\"1\" class=\"dataframe\">\n",
       "  <thead>\n",
       "    <tr style=\"text-align: right;\">\n",
       "      <th></th>\n",
       "      <th>id</th>\n",
       "      <th>f0</th>\n",
       "      <th>f1</th>\n",
       "      <th>f2</th>\n",
       "      <th>product</th>\n",
       "    </tr>\n",
       "  </thead>\n",
       "  <tbody>\n",
       "    <tr>\n",
       "      <th>0</th>\n",
       "      <td>kBEdx</td>\n",
       "      <td>-15.001348</td>\n",
       "      <td>-8.276000</td>\n",
       "      <td>-0.005876</td>\n",
       "      <td>3.179103</td>\n",
       "    </tr>\n",
       "    <tr>\n",
       "      <th>1</th>\n",
       "      <td>62mP7</td>\n",
       "      <td>14.272088</td>\n",
       "      <td>-3.475083</td>\n",
       "      <td>0.999183</td>\n",
       "      <td>26.953261</td>\n",
       "    </tr>\n",
       "    <tr>\n",
       "      <th>2</th>\n",
       "      <td>vyE1P</td>\n",
       "      <td>6.263187</td>\n",
       "      <td>-5.948386</td>\n",
       "      <td>5.001160</td>\n",
       "      <td>134.766305</td>\n",
       "    </tr>\n",
       "    <tr>\n",
       "      <th>3</th>\n",
       "      <td>KcrkZ</td>\n",
       "      <td>-13.081196</td>\n",
       "      <td>-11.506057</td>\n",
       "      <td>4.999415</td>\n",
       "      <td>137.945408</td>\n",
       "    </tr>\n",
       "    <tr>\n",
       "      <th>4</th>\n",
       "      <td>AHL4O</td>\n",
       "      <td>12.702195</td>\n",
       "      <td>-8.147433</td>\n",
       "      <td>5.004363</td>\n",
       "      <td>134.766305</td>\n",
       "    </tr>\n",
       "  </tbody>\n",
       "</table>\n",
       "</div>"
      ],
      "text/plain": [
       "      id         f0         f1        f2     product\n",
       "0  kBEdx -15.001348  -8.276000 -0.005876    3.179103\n",
       "1  62mP7  14.272088  -3.475083  0.999183   26.953261\n",
       "2  vyE1P   6.263187  -5.948386  5.001160  134.766305\n",
       "3  KcrkZ -13.081196 -11.506057  4.999415  137.945408\n",
       "4  AHL4O  12.702195  -8.147433  5.004363  134.766305"
      ]
     },
     "metadata": {},
     "output_type": "display_data"
    },
    {
     "name": "stdout",
     "output_type": "stream",
     "text": [
      "<class 'pandas.core.frame.DataFrame'>\n",
      "RangeIndex: 100000 entries, 0 to 99999\n",
      "Data columns (total 5 columns):\n",
      " #   Column   Non-Null Count   Dtype  \n",
      "---  ------   --------------   -----  \n",
      " 0   id       100000 non-null  object \n",
      " 1   f0       100000 non-null  float64\n",
      " 2   f1       100000 non-null  float64\n",
      " 3   f2       100000 non-null  float64\n",
      " 4   product  100000 non-null  float64\n",
      "dtypes: float64(4), object(1)\n",
      "memory usage: 3.8+ MB\n"
     ]
    },
    {
     "data": {
      "text/plain": [
       "None"
      ]
     },
     "metadata": {},
     "output_type": "display_data"
    },
    {
     "name": "stdout",
     "output_type": "stream",
     "text": [
      "\n",
      "************\n",
      " geo_data_2 \n",
      "************\n",
      "Количество объектов: 100000\n",
      "Количество признаков: 5\n"
     ]
    },
    {
     "data": {
      "text/html": [
       "<div>\n",
       "<style scoped>\n",
       "    .dataframe tbody tr th:only-of-type {\n",
       "        vertical-align: middle;\n",
       "    }\n",
       "\n",
       "    .dataframe tbody tr th {\n",
       "        vertical-align: top;\n",
       "    }\n",
       "\n",
       "    .dataframe thead th {\n",
       "        text-align: right;\n",
       "    }\n",
       "</style>\n",
       "<table border=\"1\" class=\"dataframe\">\n",
       "  <thead>\n",
       "    <tr style=\"text-align: right;\">\n",
       "      <th></th>\n",
       "      <th>id</th>\n",
       "      <th>f0</th>\n",
       "      <th>f1</th>\n",
       "      <th>f2</th>\n",
       "      <th>product</th>\n",
       "    </tr>\n",
       "  </thead>\n",
       "  <tbody>\n",
       "    <tr>\n",
       "      <th>0</th>\n",
       "      <td>fwXo0</td>\n",
       "      <td>-1.146987</td>\n",
       "      <td>0.963328</td>\n",
       "      <td>-0.828965</td>\n",
       "      <td>27.758673</td>\n",
       "    </tr>\n",
       "    <tr>\n",
       "      <th>1</th>\n",
       "      <td>WJtFt</td>\n",
       "      <td>0.262778</td>\n",
       "      <td>0.269839</td>\n",
       "      <td>-2.530187</td>\n",
       "      <td>56.069697</td>\n",
       "    </tr>\n",
       "    <tr>\n",
       "      <th>2</th>\n",
       "      <td>ovLUW</td>\n",
       "      <td>0.194587</td>\n",
       "      <td>0.289035</td>\n",
       "      <td>-5.586433</td>\n",
       "      <td>62.871910</td>\n",
       "    </tr>\n",
       "    <tr>\n",
       "      <th>3</th>\n",
       "      <td>q6cA6</td>\n",
       "      <td>2.236060</td>\n",
       "      <td>-0.553760</td>\n",
       "      <td>0.930038</td>\n",
       "      <td>114.572842</td>\n",
       "    </tr>\n",
       "    <tr>\n",
       "      <th>4</th>\n",
       "      <td>WPMUX</td>\n",
       "      <td>-0.515993</td>\n",
       "      <td>1.716266</td>\n",
       "      <td>5.899011</td>\n",
       "      <td>149.600746</td>\n",
       "    </tr>\n",
       "  </tbody>\n",
       "</table>\n",
       "</div>"
      ],
      "text/plain": [
       "      id        f0        f1        f2     product\n",
       "0  fwXo0 -1.146987  0.963328 -0.828965   27.758673\n",
       "1  WJtFt  0.262778  0.269839 -2.530187   56.069697\n",
       "2  ovLUW  0.194587  0.289035 -5.586433   62.871910\n",
       "3  q6cA6  2.236060 -0.553760  0.930038  114.572842\n",
       "4  WPMUX -0.515993  1.716266  5.899011  149.600746"
      ]
     },
     "metadata": {},
     "output_type": "display_data"
    },
    {
     "name": "stdout",
     "output_type": "stream",
     "text": [
      "<class 'pandas.core.frame.DataFrame'>\n",
      "RangeIndex: 100000 entries, 0 to 99999\n",
      "Data columns (total 5 columns):\n",
      " #   Column   Non-Null Count   Dtype  \n",
      "---  ------   --------------   -----  \n",
      " 0   id       100000 non-null  object \n",
      " 1   f0       100000 non-null  float64\n",
      " 2   f1       100000 non-null  float64\n",
      " 3   f2       100000 non-null  float64\n",
      " 4   product  100000 non-null  float64\n",
      "dtypes: float64(4), object(1)\n",
      "memory usage: 3.8+ MB\n"
     ]
    },
    {
     "data": {
      "text/plain": [
       "None"
      ]
     },
     "metadata": {},
     "output_type": "display_data"
    },
    {
     "name": "stdout",
     "output_type": "stream",
     "text": [
      "\n"
     ]
    }
   ],
   "source": [
    "for df_name, df in df_dict.items():\n",
    "    print('************\\n', df_name, '\\n************')\n",
    "    get_data_info(df)"
   ]
  },
  {
   "cell_type": "markdown",
   "id": "f068ab31",
   "metadata": {},
   "source": [
    "### Предобработка данных"
   ]
  },
  {
   "cell_type": "markdown",
   "id": "028249a3",
   "metadata": {},
   "source": [
    "#### Обработка пропусков"
   ]
  },
  {
   "cell_type": "code",
   "execution_count": 5,
   "id": "68b29a5c",
   "metadata": {},
   "outputs": [
    {
     "name": "stdout",
     "output_type": "stream",
     "text": [
      "************\n",
      " geo_data_0 \n",
      "************\n"
     ]
    },
    {
     "data": {
      "text/plain": [
       "id         0\n",
       "f0         0\n",
       "f1         0\n",
       "f2         0\n",
       "product    0\n",
       "dtype: int64"
      ]
     },
     "metadata": {},
     "output_type": "display_data"
    },
    {
     "name": "stdout",
     "output_type": "stream",
     "text": [
      "************\n",
      " geo_data_1 \n",
      "************\n"
     ]
    },
    {
     "data": {
      "text/plain": [
       "id         0\n",
       "f0         0\n",
       "f1         0\n",
       "f2         0\n",
       "product    0\n",
       "dtype: int64"
      ]
     },
     "metadata": {},
     "output_type": "display_data"
    },
    {
     "name": "stdout",
     "output_type": "stream",
     "text": [
      "************\n",
      " geo_data_2 \n",
      "************\n"
     ]
    },
    {
     "data": {
      "text/plain": [
       "id         0\n",
       "f0         0\n",
       "f1         0\n",
       "f2         0\n",
       "product    0\n",
       "dtype: int64"
      ]
     },
     "metadata": {},
     "output_type": "display_data"
    }
   ],
   "source": [
    "for df_name, df in df_dict.items():\n",
    "    print('************\\n', df_name, '\\n************')\n",
    "    display(df.isna().sum())"
   ]
  },
  {
   "cell_type": "markdown",
   "id": "2ff107bd",
   "metadata": {},
   "source": [
    "Пропущенных значений не обнаружено."
   ]
  },
  {
   "cell_type": "markdown",
   "id": "58ebafb4",
   "metadata": {},
   "source": [
    "#### Обработка аномальных значений"
   ]
  },
  {
   "cell_type": "code",
   "execution_count": 6,
   "id": "cd066c85",
   "metadata": {},
   "outputs": [],
   "source": [
    "# функция строит boxplot для четырёх признаков\n",
    "def show_boxes(data, name):\n",
    "    fig, (ax0, ax1, ax2, ax3) = plt.subplots(nrows = 1,  ncols = 4, figsize = (12, 6))    \n",
    "    sns.boxplot(y=data['f0'], ax = ax0)\n",
    "    ax0.set_title('f0', fontsize = 14)\n",
    "    sns.boxplot(y=data['f1'], ax = ax1)\n",
    "    ax1.set_title('f1', fontsize = 14)\n",
    "    sns.boxplot(y=data['f2'], ax = ax2)\n",
    "    ax2.set_title('f2', fontsize = 14)\n",
    "    sns.boxplot(y=data['product'], ax = ax3)\n",
    "    ax3.set_title('product', fontsize = 14)\n",
    "    fig.suptitle(name, fontsize=20)\n",
    "    plt.tight_layout()  \n",
    "    plt.show()"
   ]
  },
  {
   "cell_type": "code",
   "execution_count": 7,
   "id": "601f8e5c",
   "metadata": {
    "scrolled": false
   },
   "outputs": [
    {
     "data": {
      "image/png": "[encoded data removed]",
      "text/plain": [
       "<Figure size 864x432 with 4 Axes>"
      ]
     },
     "metadata": {
      "needs_background": "light"
     },
     "output_type": "display_data"
    },
    {
     "data": {
      "image/png": "[encoded data removed]",
      "text/plain": [
       "<Figure size 864x432 with 4 Axes>"
      ]
     },
     "metadata": {
      "needs_background": "light"
     },
     "output_type": "display_data"
    },
    {
     "data": {
      "image/png": "[encoded data removed]",
      "text/plain": [
       "<Figure size 864x432 with 4 Axes>"
      ]
     },
     "metadata": {
      "needs_background": "light"
     },
     "output_type": "display_data"
    }
   ],
   "source": [
    "for df_name, df in df_dict.items():\n",
    "    show_boxes(df, df_name)"
   ]
  },
  {
   "cell_type": "markdown",
   "id": "ee5dfc1f",
   "metadata": {},
   "source": [
    "У всех датасетов есть выбросы в разных признаках. Но причин для их удаления нет, так как это могу быть реальные действительные данные."
   ]
  },
  {
   "cell_type": "markdown",
   "id": "1ac46cb1",
   "metadata": {},
   "source": [
    "<div class=\"alert alert-block alert-danger\">\n",
    "<b>Ошибка:</b> Удалять выбросы просто так – нельзя. Необходимо доказать, что это ошибки. В нашем случае это доказать не удастся.\n",
    "</div>"
   ]
  },
  {
   "cell_type": "markdown",
   "id": "f8f58dd1",
   "metadata": {},
   "source": [
    "<div class=\"alert alert-block alert-warning\">\n",
    "<b>Комментарий студента:</b> да, я понял. Я подошёл слишком формально к этому вопросу, чисто статистически, чего делать нельзя.\n",
    "</div>\n",
    "\n",
    "<div class=\"alert alert-block alert-warning\">\n",
    "<b>Изменения:</b> Выбросы больше не удаляются, и это повлияло в дальнейшем на итоговые результаты!😨\n",
    "</div>"
   ]
  },
  {
   "cell_type": "markdown",
   "id": "68bdc604",
   "metadata": {},
   "source": [
    "#### Обработка дубликатов"
   ]
  },
  {
   "cell_type": "markdown",
   "id": "9e8d0e7c",
   "metadata": {},
   "source": [
    "Дубликаты могут быть только в столбце **id**. Проверим его."
   ]
  },
  {
   "cell_type": "code",
   "execution_count": 8,
   "id": "0fa125b4",
   "metadata": {},
   "outputs": [
    {
     "name": "stdout",
     "output_type": "stream",
     "text": [
      "geo_data_0 : 10 пар дубликатов\n",
      "66136    74z30\n",
      "64022    74z30\n",
      "51970    A5aEY\n",
      "3389     A5aEY\n",
      "69163    AGS9W\n",
      "42529    AGS9W\n",
      "931      HZww2\n",
      "7530     HZww2\n",
      "63593    QcMuo\n",
      "1949     QcMuo\n",
      "75715    Tdehs\n",
      "21426    Tdehs\n",
      "92341    TtcGQ\n",
      "60140    TtcGQ\n",
      "89582    bsk9y\n",
      "97785    bsk9y\n",
      "41724    bxg6G\n",
      "1364     bxg6G\n",
      "16633    fiKDv\n",
      "90815    fiKDv\n",
      "Name: id, dtype: object\n",
      "\n",
      "geo_data_1 : 4 пар дубликатов\n",
      "5849     5ltQ6\n",
      "84461    5ltQ6\n",
      "1305     LHZR0\n",
      "41906    LHZR0\n",
      "2721     bfPNe\n",
      "82178    bfPNe\n",
      "47591    wt4Uk\n",
      "82873    wt4Uk\n",
      "Name: id, dtype: object\n",
      "\n",
      "geo_data_2 : 4 пар дубликатов\n",
      "45404    KUPhW\n",
      "55967    KUPhW\n",
      "11449    VF7Jo\n",
      "49564    VF7Jo\n",
      "44378    Vcm5J\n",
      "95090    Vcm5J\n",
      "28039    xCHr8\n",
      "43233    xCHr8\n",
      "Name: id, dtype: object\n",
      "\n"
     ]
    }
   ],
   "source": [
    "for df_name, df in df_dict.items():\n",
    "    print(f'{df_name} : {df.duplicated(subset=\"id\").sum()} пар дубликатов')\n",
    "    print(df[df.duplicated(subset='id', keep=False)]['id'].sort_values())\n",
    "    print()"
   ]
  },
  {
   "cell_type": "markdown",
   "id": "05b1c3f6",
   "metadata": {},
   "source": [
    "Проверка на дубликаты выявила в каждом наборе данных несколько пар дублирующих по **id** объектов. Так как этот параметр не может повторяться (разные скважины), то дубликаты должны быть удалены. У каждой пары дубликатов сильно различаются остальные признаки, что не позволяет решить, какой объект оставить. Поэтому все дубликаты подлежат удалению, тем более, их немного."
   ]
  },
  {
   "cell_type": "code",
   "execution_count": 9,
   "id": "a1443194",
   "metadata": {},
   "outputs": [],
   "source": [
    "df0 = df0.drop_duplicates(subset='id', keep=False)\n",
    "df1 = df1.drop_duplicates(subset='id', keep=False)\n",
    "df2 = df2.drop_duplicates(subset='id', keep=False)"
   ]
  },
  {
   "cell_type": "code",
   "execution_count": 10,
   "id": "c111685c",
   "metadata": {},
   "outputs": [
    {
     "data": {
      "text/plain": [
       "(99980, 99992, 99992)"
      ]
     },
     "execution_count": 10,
     "metadata": {},
     "output_type": "execute_result"
    }
   ],
   "source": [
    "df0.shape[0], df1.shape[0], df2.shape[0]"
   ]
  },
  {
   "cell_type": "markdown",
   "id": "92a3d84d",
   "metadata": {},
   "source": [
    "### Исследование данных"
   ]
  },
  {
   "cell_type": "code",
   "execution_count": 11,
   "id": "0faac651",
   "metadata": {},
   "outputs": [
    {
     "data": {
      "text/html": [
       "<div>\n",
       "<style scoped>\n",
       "    .dataframe tbody tr th:only-of-type {\n",
       "        vertical-align: middle;\n",
       "    }\n",
       "\n",
       "    .dataframe tbody tr th {\n",
       "        vertical-align: top;\n",
       "    }\n",
       "\n",
       "    .dataframe thead th {\n",
       "        text-align: right;\n",
       "    }\n",
       "</style>\n",
       "<table border=\"1\" class=\"dataframe\">\n",
       "  <thead>\n",
       "    <tr style=\"text-align: right;\">\n",
       "      <th></th>\n",
       "      <th>f0</th>\n",
       "      <th>f1</th>\n",
       "      <th>f2</th>\n",
       "      <th>product</th>\n",
       "    </tr>\n",
       "  </thead>\n",
       "  <tbody>\n",
       "    <tr>\n",
       "      <th>count</th>\n",
       "      <td>99980.000000</td>\n",
       "      <td>99980.000000</td>\n",
       "      <td>99980.000000</td>\n",
       "      <td>99980.000000</td>\n",
       "    </tr>\n",
       "    <tr>\n",
       "      <th>mean</th>\n",
       "      <td>0.500447</td>\n",
       "      <td>0.250147</td>\n",
       "      <td>2.502638</td>\n",
       "      <td>92.499166</td>\n",
       "    </tr>\n",
       "    <tr>\n",
       "      <th>std</th>\n",
       "      <td>0.871879</td>\n",
       "      <td>0.504431</td>\n",
       "      <td>3.248056</td>\n",
       "      <td>44.289044</td>\n",
       "    </tr>\n",
       "    <tr>\n",
       "      <th>min</th>\n",
       "      <td>-1.408605</td>\n",
       "      <td>-0.848218</td>\n",
       "      <td>-12.088328</td>\n",
       "      <td>0.000000</td>\n",
       "    </tr>\n",
       "    <tr>\n",
       "      <th>25%</th>\n",
       "      <td>-0.072674</td>\n",
       "      <td>-0.200869</td>\n",
       "      <td>0.288010</td>\n",
       "      <td>56.496513</td>\n",
       "    </tr>\n",
       "    <tr>\n",
       "      <th>50%</th>\n",
       "      <td>0.502374</td>\n",
       "      <td>0.250252</td>\n",
       "      <td>2.516005</td>\n",
       "      <td>91.847928</td>\n",
       "    </tr>\n",
       "    <tr>\n",
       "      <th>75%</th>\n",
       "      <td>1.073692</td>\n",
       "      <td>0.700646</td>\n",
       "      <td>4.714884</td>\n",
       "      <td>128.564089</td>\n",
       "    </tr>\n",
       "    <tr>\n",
       "      <th>max</th>\n",
       "      <td>2.362331</td>\n",
       "      <td>1.343769</td>\n",
       "      <td>16.003790</td>\n",
       "      <td>185.364347</td>\n",
       "    </tr>\n",
       "  </tbody>\n",
       "</table>\n",
       "</div>"
      ],
      "text/plain": [
       "                 f0            f1            f2       product\n",
       "count  99980.000000  99980.000000  99980.000000  99980.000000\n",
       "mean       0.500447      0.250147      2.502638     92.499166\n",
       "std        0.871879      0.504431      3.248056     44.289044\n",
       "min       -1.408605     -0.848218    -12.088328      0.000000\n",
       "25%       -0.072674     -0.200869      0.288010     56.496513\n",
       "50%        0.502374      0.250252      2.516005     91.847928\n",
       "75%        1.073692      0.700646      4.714884    128.564089\n",
       "max        2.362331      1.343769     16.003790    185.364347"
      ]
     },
     "metadata": {},
     "output_type": "display_data"
    },
    {
     "data": {
      "text/html": [
       "<div>\n",
       "<style scoped>\n",
       "    .dataframe tbody tr th:only-of-type {\n",
       "        vertical-align: middle;\n",
       "    }\n",
       "\n",
       "    .dataframe tbody tr th {\n",
       "        vertical-align: top;\n",
       "    }\n",
       "\n",
       "    .dataframe thead th {\n",
       "        text-align: right;\n",
       "    }\n",
       "</style>\n",
       "<table border=\"1\" class=\"dataframe\">\n",
       "  <thead>\n",
       "    <tr style=\"text-align: right;\">\n",
       "      <th></th>\n",
       "      <th>f0</th>\n",
       "      <th>f1</th>\n",
       "      <th>f2</th>\n",
       "      <th>product</th>\n",
       "    </tr>\n",
       "  </thead>\n",
       "  <tbody>\n",
       "    <tr>\n",
       "      <th>count</th>\n",
       "      <td>99992.000000</td>\n",
       "      <td>99992.000000</td>\n",
       "      <td>99992.000000</td>\n",
       "      <td>99992.000000</td>\n",
       "    </tr>\n",
       "    <tr>\n",
       "      <th>mean</th>\n",
       "      <td>1.141363</td>\n",
       "      <td>-4.796522</td>\n",
       "      <td>2.494511</td>\n",
       "      <td>68.824148</td>\n",
       "    </tr>\n",
       "    <tr>\n",
       "      <th>std</th>\n",
       "      <td>8.965805</td>\n",
       "      <td>5.119934</td>\n",
       "      <td>1.703587</td>\n",
       "      <td>45.944889</td>\n",
       "    </tr>\n",
       "    <tr>\n",
       "      <th>min</th>\n",
       "      <td>-31.609576</td>\n",
       "      <td>-26.358598</td>\n",
       "      <td>-0.018144</td>\n",
       "      <td>0.000000</td>\n",
       "    </tr>\n",
       "    <tr>\n",
       "      <th>25%</th>\n",
       "      <td>-6.298525</td>\n",
       "      <td>-8.267985</td>\n",
       "      <td>1.000021</td>\n",
       "      <td>26.953261</td>\n",
       "    </tr>\n",
       "    <tr>\n",
       "      <th>50%</th>\n",
       "      <td>1.153190</td>\n",
       "      <td>-4.813005</td>\n",
       "      <td>2.011475</td>\n",
       "      <td>57.085625</td>\n",
       "    </tr>\n",
       "    <tr>\n",
       "      <th>75%</th>\n",
       "      <td>8.620964</td>\n",
       "      <td>-1.332704</td>\n",
       "      <td>3.999904</td>\n",
       "      <td>107.813044</td>\n",
       "    </tr>\n",
       "    <tr>\n",
       "      <th>max</th>\n",
       "      <td>29.421755</td>\n",
       "      <td>18.734063</td>\n",
       "      <td>5.019721</td>\n",
       "      <td>137.945408</td>\n",
       "    </tr>\n",
       "  </tbody>\n",
       "</table>\n",
       "</div>"
      ],
      "text/plain": [
       "                 f0            f1            f2       product\n",
       "count  99992.000000  99992.000000  99992.000000  99992.000000\n",
       "mean       1.141363     -4.796522      2.494511     68.824148\n",
       "std        8.965805      5.119934      1.703587     45.944889\n",
       "min      -31.609576    -26.358598     -0.018144      0.000000\n",
       "25%       -6.298525     -8.267985      1.000021     26.953261\n",
       "50%        1.153190     -4.813005      2.011475     57.085625\n",
       "75%        8.620964     -1.332704      3.999904    107.813044\n",
       "max       29.421755     18.734063      5.019721    137.945408"
      ]
     },
     "metadata": {},
     "output_type": "display_data"
    },
    {
     "data": {
      "text/html": [
       "<div>\n",
       "<style scoped>\n",
       "    .dataframe tbody tr th:only-of-type {\n",
       "        vertical-align: middle;\n",
       "    }\n",
       "\n",
       "    .dataframe tbody tr th {\n",
       "        vertical-align: top;\n",
       "    }\n",
       "\n",
       "    .dataframe thead th {\n",
       "        text-align: right;\n",
       "    }\n",
       "</style>\n",
       "<table border=\"1\" class=\"dataframe\">\n",
       "  <thead>\n",
       "    <tr style=\"text-align: right;\">\n",
       "      <th></th>\n",
       "      <th>f0</th>\n",
       "      <th>f1</th>\n",
       "      <th>f2</th>\n",
       "      <th>product</th>\n",
       "    </tr>\n",
       "  </thead>\n",
       "  <tbody>\n",
       "    <tr>\n",
       "      <th>count</th>\n",
       "      <td>99992.000000</td>\n",
       "      <td>99992.000000</td>\n",
       "      <td>99992.000000</td>\n",
       "      <td>99992.000000</td>\n",
       "    </tr>\n",
       "    <tr>\n",
       "      <th>mean</th>\n",
       "      <td>0.001975</td>\n",
       "      <td>-0.002113</td>\n",
       "      <td>2.495088</td>\n",
       "      <td>94.998767</td>\n",
       "    </tr>\n",
       "    <tr>\n",
       "      <th>std</th>\n",
       "      <td>1.732061</td>\n",
       "      <td>1.730404</td>\n",
       "      <td>3.473491</td>\n",
       "      <td>44.747763</td>\n",
       "    </tr>\n",
       "    <tr>\n",
       "      <th>min</th>\n",
       "      <td>-8.760004</td>\n",
       "      <td>-7.084020</td>\n",
       "      <td>-11.970335</td>\n",
       "      <td>0.000000</td>\n",
       "    </tr>\n",
       "    <tr>\n",
       "      <th>25%</th>\n",
       "      <td>-1.162328</td>\n",
       "      <td>-1.174820</td>\n",
       "      <td>0.130269</td>\n",
       "      <td>59.450441</td>\n",
       "    </tr>\n",
       "    <tr>\n",
       "      <th>50%</th>\n",
       "      <td>0.009411</td>\n",
       "      <td>-0.009580</td>\n",
       "      <td>2.484236</td>\n",
       "      <td>94.925026</td>\n",
       "    </tr>\n",
       "    <tr>\n",
       "      <th>75%</th>\n",
       "      <td>1.158442</td>\n",
       "      <td>1.163592</td>\n",
       "      <td>4.858662</td>\n",
       "      <td>130.585544</td>\n",
       "    </tr>\n",
       "    <tr>\n",
       "      <th>max</th>\n",
       "      <td>7.238262</td>\n",
       "      <td>7.844801</td>\n",
       "      <td>16.739402</td>\n",
       "      <td>190.029838</td>\n",
       "    </tr>\n",
       "  </tbody>\n",
       "</table>\n",
       "</div>"
      ],
      "text/plain": [
       "                 f0            f1            f2       product\n",
       "count  99992.000000  99992.000000  99992.000000  99992.000000\n",
       "mean       0.001975     -0.002113      2.495088     94.998767\n",
       "std        1.732061      1.730404      3.473491     44.747763\n",
       "min       -8.760004     -7.084020    -11.970335      0.000000\n",
       "25%       -1.162328     -1.174820      0.130269     59.450441\n",
       "50%        0.009411     -0.009580      2.484236     94.925026\n",
       "75%        1.158442      1.163592      4.858662    130.585544\n",
       "max        7.238262      7.844801     16.739402    190.029838"
      ]
     },
     "metadata": {},
     "output_type": "display_data"
    }
   ],
   "source": [
    "display(df0.describe())\n",
    "display(df1.describe())\n",
    "display(df2.describe())"
   ]
  },
  {
   "cell_type": "markdown",
   "id": "97ca1312",
   "metadata": {},
   "source": [
    "Рассмотрим, как распределены признаки в трёх датасетах."
   ]
  },
  {
   "cell_type": "code",
   "execution_count": 12,
   "id": "c8f79557",
   "metadata": {},
   "outputs": [
    {
     "data": {
      "image/png": "[encoded data removed]",
      "text/plain": [
       "<Figure size 720x720 with 4 Axes>"
      ]
     },
     "metadata": {
      "needs_background": "light"
     },
     "output_type": "display_data"
    }
   ],
   "source": [
    "df0.hist(bins=20, figsize=(10, 10));"
   ]
  },
  {
   "cell_type": "markdown",
   "id": "1d5eb75e",
   "metadata": {},
   "source": [
    "Признаки **f0**, **f1** и **product** ненормально распределены (прослеживается несколько мод).<br>\n",
    "Признак **f2** распределён нормально."
   ]
  },
  {
   "cell_type": "code",
   "execution_count": 13,
   "id": "90884f2e",
   "metadata": {},
   "outputs": [
    {
     "data": {
      "image/png": "[encoded data removed]",
      "text/plain": [
       "<Figure size 720x720 with 4 Axes>"
      ]
     },
     "metadata": {
      "needs_background": "light"
     },
     "output_type": "display_data"
    }
   ],
   "source": [
    "df1.hist(bins=20, figsize=(10, 10));"
   ]
  },
  {
   "cell_type": "markdown",
   "id": "a5ab6890",
   "metadata": {},
   "source": [
    "Признаки **f0** распределён бимодально.<br>\n",
    "Признак **f1** распределён нормально.<br>\n",
    "Признаки **f2** и **product** распределены мультимодально (почти дискретные значения). "
   ]
  },
  {
   "cell_type": "code",
   "execution_count": 14,
   "id": "8587be8c",
   "metadata": {
    "scrolled": false
   },
   "outputs": [
    {
     "data": {
      "image/png": "[encoded data removed]",
      "text/plain": [
       "<Figure size 720x720 with 4 Axes>"
      ]
     },
     "metadata": {
      "needs_background": "light"
     },
     "output_type": "display_data"
    }
   ],
   "source": [
    "df2.hist(bins=20, figsize=(10, 10));"
   ]
  },
  {
   "cell_type": "markdown",
   "id": "5ab76e37",
   "metadata": {},
   "source": [
    "Признаки **f0**, **f1** и **f2** распределены нормально.<br>\n",
    "Признак **product** ненормально распределён (плосковершинное распределение)."
   ]
  },
  {
   "cell_type": "markdown",
   "id": "dbcfcc76",
   "metadata": {},
   "source": [
    "Корреляция признаков."
   ]
  },
  {
   "cell_type": "code",
   "execution_count": 15,
   "id": "f255bbde",
   "metadata": {},
   "outputs": [
    {
     "data": {
      "text/html": [
       "<style  type=\"text/css\" >\n",
       "#T_36d8a_row0_col0,#T_36d8a_row1_col1,#T_36d8a_row2_col2,#T_36d8a_row3_col3{\n",
       "            background-color:  #b40426;\n",
       "            color:  #f1f1f1;\n",
       "        }#T_36d8a_row0_col1,#T_36d8a_row1_col0{\n",
       "            background-color:  #97b8ff;\n",
       "            color:  #000000;\n",
       "        }#T_36d8a_row0_col2,#T_36d8a_row2_col0{\n",
       "            background-color:  #dcdddd;\n",
       "            color:  #000000;\n",
       "        }#T_36d8a_row0_col3,#T_36d8a_row3_col0{\n",
       "            background-color:  #edd1c2;\n",
       "            color:  #000000;\n",
       "        }#T_36d8a_row1_col2,#T_36d8a_row2_col1{\n",
       "            background-color:  #dddcdc;\n",
       "            color:  #000000;\n",
       "        }#T_36d8a_row1_col3,#T_36d8a_row3_col1{\n",
       "            background-color:  #c1d4f4;\n",
       "            color:  #000000;\n",
       "        }#T_36d8a_row2_col3,#T_36d8a_row3_col2{\n",
       "            background-color:  #f59d7e;\n",
       "            color:  #000000;\n",
       "        }</style><table id=\"T_36d8a_\" ><thead>    <tr>        <th class=\"blank level0\" ></th>        <th class=\"col_heading level0 col0\" >f0</th>        <th class=\"col_heading level0 col1\" >f1</th>        <th class=\"col_heading level0 col2\" >f2</th>        <th class=\"col_heading level0 col3\" >product</th>    </tr></thead><tbody>\n",
       "                <tr>\n",
       "                        <th id=\"T_36d8a_level0_row0\" class=\"row_heading level0 row0\" >f0</th>\n",
       "                        <td id=\"T_36d8a_row0_col0\" class=\"data row0 col0\" >1.000000</td>\n",
       "                        <td id=\"T_36d8a_row0_col1\" class=\"data row0 col1\" >-0.440724</td>\n",
       "                        <td id=\"T_36d8a_row0_col2\" class=\"data row0 col2\" >-0.003204</td>\n",
       "                        <td id=\"T_36d8a_row0_col3\" class=\"data row0 col3\" >0.143504</td>\n",
       "            </tr>\n",
       "            <tr>\n",
       "                        <th id=\"T_36d8a_level0_row1\" class=\"row_heading level0 row1\" >f1</th>\n",
       "                        <td id=\"T_36d8a_row1_col0\" class=\"data row1 col0\" >-0.440724</td>\n",
       "                        <td id=\"T_36d8a_row1_col1\" class=\"data row1 col1\" >1.000000</td>\n",
       "                        <td id=\"T_36d8a_row1_col2\" class=\"data row1 col2\" >0.001783</td>\n",
       "                        <td id=\"T_36d8a_row1_col3\" class=\"data row1 col3\" >-0.192338</td>\n",
       "            </tr>\n",
       "            <tr>\n",
       "                        <th id=\"T_36d8a_level0_row2\" class=\"row_heading level0 row2\" >f2</th>\n",
       "                        <td id=\"T_36d8a_row2_col0\" class=\"data row2 col0\" >-0.003204</td>\n",
       "                        <td id=\"T_36d8a_row2_col1\" class=\"data row2 col1\" >0.001783</td>\n",
       "                        <td id=\"T_36d8a_row2_col2\" class=\"data row2 col2\" >1.000000</td>\n",
       "                        <td id=\"T_36d8a_row2_col3\" class=\"data row2 col3\" >0.483628</td>\n",
       "            </tr>\n",
       "            <tr>\n",
       "                        <th id=\"T_36d8a_level0_row3\" class=\"row_heading level0 row3\" >product</th>\n",
       "                        <td id=\"T_36d8a_row3_col0\" class=\"data row3 col0\" >0.143504</td>\n",
       "                        <td id=\"T_36d8a_row3_col1\" class=\"data row3 col1\" >-0.192338</td>\n",
       "                        <td id=\"T_36d8a_row3_col2\" class=\"data row3 col2\" >0.483628</td>\n",
       "                        <td id=\"T_36d8a_row3_col3\" class=\"data row3 col3\" >1.000000</td>\n",
       "            </tr>\n",
       "    </tbody></table>"
      ],
      "text/plain": [
       "<pandas.io.formats.style.Styler at 0x7fb3feef9df0>"
      ]
     },
     "execution_count": 15,
     "metadata": {},
     "output_type": "execute_result"
    }
   ],
   "source": [
    "df0.corr().style.background_gradient(cmap='coolwarm', vmin=-1, vmax=1)"
   ]
  },
  {
   "cell_type": "markdown",
   "id": "751e7e86",
   "metadata": {},
   "source": [
    "Умеренно-положительная корреляция между признаками **product** и **f2**.<br>\n",
    "Умеренно-отрицательная корреляция между признаками **f0** и **f1**.<br>"
   ]
  },
  {
   "cell_type": "code",
   "execution_count": 16,
   "id": "26baa034",
   "metadata": {},
   "outputs": [
    {
     "data": {
      "text/html": [
       "<style  type=\"text/css\" >\n",
       "#T_c3194_row0_col0,#T_c3194_row1_col1,#T_c3194_row2_col2,#T_c3194_row2_col3,#T_c3194_row3_col2,#T_c3194_row3_col3{\n",
       "            background-color:  #b40426;\n",
       "            color:  #f1f1f1;\n",
       "        }#T_c3194_row0_col1,#T_c3194_row1_col0{\n",
       "            background-color:  #f1cdba;\n",
       "            color:  #000000;\n",
       "        }#T_c3194_row0_col2,#T_c3194_row1_col2,#T_c3194_row2_col0,#T_c3194_row2_col1{\n",
       "            background-color:  #dcdddd;\n",
       "            color:  #000000;\n",
       "        }#T_c3194_row0_col3,#T_c3194_row3_col0{\n",
       "            background-color:  #d9dce1;\n",
       "            color:  #000000;\n",
       "        }#T_c3194_row1_col3,#T_c3194_row3_col1{\n",
       "            background-color:  #dbdcde;\n",
       "            color:  #000000;\n",
       "        }</style><table id=\"T_c3194_\" ><thead>    <tr>        <th class=\"blank level0\" ></th>        <th class=\"col_heading level0 col0\" >f0</th>        <th class=\"col_heading level0 col1\" >f1</th>        <th class=\"col_heading level0 col2\" >f2</th>        <th class=\"col_heading level0 col3\" >product</th>    </tr></thead><tbody>\n",
       "                <tr>\n",
       "                        <th id=\"T_c3194_level0_row0\" class=\"row_heading level0 row0\" >f0</th>\n",
       "                        <td id=\"T_c3194_row0_col0\" class=\"data row0 col0\" >1.000000</td>\n",
       "                        <td id=\"T_c3194_row0_col1\" class=\"data row0 col1\" >0.182263</td>\n",
       "                        <td id=\"T_c3194_row0_col2\" class=\"data row0 col2\" >-0.001821</td>\n",
       "                        <td id=\"T_c3194_row0_col3\" class=\"data row0 col3\" >-0.030534</td>\n",
       "            </tr>\n",
       "            <tr>\n",
       "                        <th id=\"T_c3194_level0_row1\" class=\"row_heading level0 row1\" >f1</th>\n",
       "                        <td id=\"T_c3194_row1_col0\" class=\"data row1 col0\" >0.182263</td>\n",
       "                        <td id=\"T_c3194_row1_col1\" class=\"data row1 col1\" >1.000000</td>\n",
       "                        <td id=\"T_c3194_row1_col2\" class=\"data row1 col2\" >-0.002608</td>\n",
       "                        <td id=\"T_c3194_row1_col3\" class=\"data row1 col3\" >-0.010167</td>\n",
       "            </tr>\n",
       "            <tr>\n",
       "                        <th id=\"T_c3194_level0_row2\" class=\"row_heading level0 row2\" >f2</th>\n",
       "                        <td id=\"T_c3194_row2_col0\" class=\"data row2 col0\" >-0.001821</td>\n",
       "                        <td id=\"T_c3194_row2_col1\" class=\"data row2 col1\" >-0.002608</td>\n",
       "                        <td id=\"T_c3194_row2_col2\" class=\"data row2 col2\" >1.000000</td>\n",
       "                        <td id=\"T_c3194_row2_col3\" class=\"data row2 col3\" >0.999397</td>\n",
       "            </tr>\n",
       "            <tr>\n",
       "                        <th id=\"T_c3194_level0_row3\" class=\"row_heading level0 row3\" >product</th>\n",
       "                        <td id=\"T_c3194_row3_col0\" class=\"data row3 col0\" >-0.030534</td>\n",
       "                        <td id=\"T_c3194_row3_col1\" class=\"data row3 col1\" >-0.010167</td>\n",
       "                        <td id=\"T_c3194_row3_col2\" class=\"data row3 col2\" >0.999397</td>\n",
       "                        <td id=\"T_c3194_row3_col3\" class=\"data row3 col3\" >1.000000</td>\n",
       "            </tr>\n",
       "    </tbody></table>"
      ],
      "text/plain": [
       "<pandas.io.formats.style.Styler at 0x7fb407484eb0>"
      ]
     },
     "execution_count": 16,
     "metadata": {},
     "output_type": "execute_result"
    }
   ],
   "source": [
    "df1.corr().style.background_gradient(cmap='coolwarm', vmin=-1, vmax=1)"
   ]
  },
  {
   "cell_type": "markdown",
   "id": "78145b3b",
   "metadata": {},
   "source": [
    "Практическая полная положительная корреляция между признаками **product** и **f2**.<br>"
   ]
  },
  {
   "cell_type": "code",
   "execution_count": 17,
   "id": "21c34616",
   "metadata": {},
   "outputs": [
    {
     "data": {
      "text/html": [
       "<style  type=\"text/css\" >\n",
       "#T_3aa52_row0_col0,#T_3aa52_row1_col1,#T_3aa52_row2_col2,#T_3aa52_row3_col3{\n",
       "            background-color:  #b40426;\n",
       "            color:  #f1f1f1;\n",
       "        }#T_3aa52_row0_col1,#T_3aa52_row1_col0,#T_3aa52_row1_col2,#T_3aa52_row2_col1{\n",
       "            background-color:  #dddcdc;\n",
       "            color:  #000000;\n",
       "        }#T_3aa52_row0_col2,#T_3aa52_row0_col3,#T_3aa52_row1_col3,#T_3aa52_row2_col0,#T_3aa52_row3_col0,#T_3aa52_row3_col1{\n",
       "            background-color:  #dcdddd;\n",
       "            color:  #000000;\n",
       "        }#T_3aa52_row2_col3,#T_3aa52_row3_col2{\n",
       "            background-color:  #f6a385;\n",
       "            color:  #000000;\n",
       "        }</style><table id=\"T_3aa52_\" ><thead>    <tr>        <th class=\"blank level0\" ></th>        <th class=\"col_heading level0 col0\" >f0</th>        <th class=\"col_heading level0 col1\" >f1</th>        <th class=\"col_heading level0 col2\" >f2</th>        <th class=\"col_heading level0 col3\" >product</th>    </tr></thead><tbody>\n",
       "                <tr>\n",
       "                        <th id=\"T_3aa52_level0_row0\" class=\"row_heading level0 row0\" >f0</th>\n",
       "                        <td id=\"T_3aa52_row0_col0\" class=\"data row0 col0\" >1.000000</td>\n",
       "                        <td id=\"T_3aa52_row0_col1\" class=\"data row0 col1\" >0.000501</td>\n",
       "                        <td id=\"T_3aa52_row0_col2\" class=\"data row0 col2\" >-0.000454</td>\n",
       "                        <td id=\"T_3aa52_row0_col3\" class=\"data row0 col3\" >-0.001974</td>\n",
       "            </tr>\n",
       "            <tr>\n",
       "                        <th id=\"T_3aa52_level0_row1\" class=\"row_heading level0 row1\" >f1</th>\n",
       "                        <td id=\"T_3aa52_row1_col0\" class=\"data row1 col0\" >0.000501</td>\n",
       "                        <td id=\"T_3aa52_row1_col1\" class=\"data row1 col1\" >1.000000</td>\n",
       "                        <td id=\"T_3aa52_row1_col2\" class=\"data row1 col2\" >0.000763</td>\n",
       "                        <td id=\"T_3aa52_row1_col3\" class=\"data row1 col3\" >-0.001046</td>\n",
       "            </tr>\n",
       "            <tr>\n",
       "                        <th id=\"T_3aa52_level0_row2\" class=\"row_heading level0 row2\" >f2</th>\n",
       "                        <td id=\"T_3aa52_row2_col0\" class=\"data row2 col0\" >-0.000454</td>\n",
       "                        <td id=\"T_3aa52_row2_col1\" class=\"data row2 col1\" >0.000763</td>\n",
       "                        <td id=\"T_3aa52_row2_col2\" class=\"data row2 col2\" >1.000000</td>\n",
       "                        <td id=\"T_3aa52_row2_col3\" class=\"data row2 col3\" >0.445873</td>\n",
       "            </tr>\n",
       "            <tr>\n",
       "                        <th id=\"T_3aa52_level0_row3\" class=\"row_heading level0 row3\" >product</th>\n",
       "                        <td id=\"T_3aa52_row3_col0\" class=\"data row3 col0\" >-0.001974</td>\n",
       "                        <td id=\"T_3aa52_row3_col1\" class=\"data row3 col1\" >-0.001046</td>\n",
       "                        <td id=\"T_3aa52_row3_col2\" class=\"data row3 col2\" >0.445873</td>\n",
       "                        <td id=\"T_3aa52_row3_col3\" class=\"data row3 col3\" >1.000000</td>\n",
       "            </tr>\n",
       "    </tbody></table>"
      ],
      "text/plain": [
       "<pandas.io.formats.style.Styler at 0x7fb3fef6be20>"
      ]
     },
     "execution_count": 17,
     "metadata": {},
     "output_type": "execute_result"
    }
   ],
   "source": [
    "df2.corr().style.background_gradient(cmap='coolwarm', vmin=-1, vmax=1)"
   ]
  },
  {
   "cell_type": "markdown",
   "id": "d91d9884",
   "metadata": {},
   "source": [
    "Умеренно-положительная корреляция между признаками **product** и **f2**.<br>"
   ]
  },
  {
   "cell_type": "markdown",
   "id": "bf97f1aa",
   "metadata": {},
   "source": [
    "### Вывод 1"
   ]
  },
  {
   "cell_type": "markdown",
   "id": "80b82c30",
   "metadata": {},
   "source": [
    "* Исходные данные содержат информацию о 5 признаках у 100000 объектов;\n",
    "* Типы данных: категориальные (`id`) и непрерывные (`f0`, `f1`, `f2` , `product`);\n",
    "* Целевой признак - **`product`**;\n",
    "* объекты с пропущенными значениями не найдены;\n",
    "* дубликаты были удалены;\n",
    "* выбросы определены и удалены;\n",
    "* данные для трёх месторождений отличаются, особенно второе (заметно меньше средний объём запасов);\n",
    "* признаки в трёх наборах данных распределены по разному;\n",
    "* между признаками прослеживается корреляция (в т.ч. и с целевым признаком);"
   ]
  },
  {
   "cell_type": "markdown",
   "id": "bae7dc0a",
   "metadata": {},
   "source": [
    "<div class=\"alert alert-block alert-success\">\n",
    "<b>Успех:</b> Данные загружены и осмотрены корректно.\n",
    "</div>"
   ]
  },
  {
   "cell_type": "markdown",
   "id": "0a1ba9a2",
   "metadata": {},
   "source": [
    "## Обучение и проверка моделей для каждого региона"
   ]
  },
  {
   "cell_type": "markdown",
   "id": "fb47b91b",
   "metadata": {},
   "source": [
    "### Разделение выборки"
   ]
  },
  {
   "cell_type": "markdown",
   "id": "142faaf7",
   "metadata": {},
   "source": [
    "Разделим исходные данные на целевой признак и признаки для обучения, а потом  на три части: обучающая, валидационная и тестовая - в пропорции 75/25."
   ]
  },
  {
   "cell_type": "code",
   "execution_count": 18,
   "id": "e9ab4463",
   "metadata": {},
   "outputs": [],
   "source": [
    "# функция разделяет входные данные на четыре части\n",
    "def split_data(data):\n",
    "    features = data.drop(['id', 'product'], axis=1)\n",
    "    target = data['product']\n",
    "    return train_test_split(features, target, test_size=0.25, random_state=rstate)"
   ]
  },
  {
   "cell_type": "code",
   "execution_count": 19,
   "id": "cfa9d1b7",
   "metadata": {},
   "outputs": [
    {
     "name": "stdout",
     "output_type": "stream",
     "text": [
      "geo_data_0\n",
      "Размер обучающей выборки:\t(74985, 3)\n",
      "Размер валидационной выборки:\t(24995, 3)\n",
      "geo_data_1\n",
      "Размер обучающей выборки:\t(74994, 3)\n",
      "Размер валидационной выборки:\t(24998, 3)\n",
      "geo_data_2\n",
      "Размер обучающей выборки:\t(74994, 3)\n",
      "Размер валидационной выборки:\t(24998, 3)\n"
     ]
    }
   ],
   "source": [
    "X_train0, X_valid0, y_train0, y_valid0 = split_data(df0)\n",
    "print('geo_data_0')\n",
    "print(f'Размер обучающей выборки:\\t{X_train0.shape}')\n",
    "print(f'Размер валидационной выборки:\\t{X_valid0.shape}')\n",
    "\n",
    "X_train1, X_valid1, y_train1, y_valid1 = split_data(df1)\n",
    "print('geo_data_1')\n",
    "print(f'Размер обучающей выборки:\\t{X_train1.shape}')\n",
    "print(f'Размер валидационной выборки:\\t{X_valid1.shape}')\n",
    "\n",
    "X_train2, X_valid2, y_train2, y_valid2 = split_data(df2)\n",
    "print('geo_data_2')\n",
    "print(f'Размер обучающей выборки:\\t{X_train2.shape}')\n",
    "print(f'Размер валидационной выборки:\\t{X_valid2.shape}')"
   ]
  },
  {
   "cell_type": "markdown",
   "id": "87552a89",
   "metadata": {},
   "source": [
    "### Масштабирование числовых данных в выборках"
   ]
  },
  {
   "cell_type": "code",
   "execution_count": 20,
   "id": "88e52618",
   "metadata": {},
   "outputs": [],
   "source": [
    "# нормализация двух наборов данных с сохранением индексов и названий колонок\n",
    "def scale_data(data_train, data_valid):\n",
    "    scaler = StandardScaler()\n",
    "    scaler.fit(data_train)\n",
    "    return pd.DataFrame(scaler.transform(data_train), index=data_train.index, columns=data_train.columns), \\\n",
    "           pd.DataFrame(scaler.transform(data_valid), index=data_valid.index, columns=data_valid.columns)"
   ]
  },
  {
   "cell_type": "code",
   "execution_count": 21,
   "id": "f158c68f",
   "metadata": {},
   "outputs": [
    {
     "data": {
      "text/html": [
       "<div>\n",
       "<style scoped>\n",
       "    .dataframe tbody tr th:only-of-type {\n",
       "        vertical-align: middle;\n",
       "    }\n",
       "\n",
       "    .dataframe tbody tr th {\n",
       "        vertical-align: top;\n",
       "    }\n",
       "\n",
       "    .dataframe thead th {\n",
       "        text-align: right;\n",
       "    }\n",
       "</style>\n",
       "<table border=\"1\" class=\"dataframe\">\n",
       "  <thead>\n",
       "    <tr style=\"text-align: right;\">\n",
       "      <th></th>\n",
       "      <th>f0</th>\n",
       "      <th>f1</th>\n",
       "      <th>f2</th>\n",
       "    </tr>\n",
       "  </thead>\n",
       "  <tbody>\n",
       "    <tr>\n",
       "      <th>mean</th>\n",
       "      <td>0.0</td>\n",
       "      <td>0.0</td>\n",
       "      <td>-0.0</td>\n",
       "    </tr>\n",
       "    <tr>\n",
       "      <th>std</th>\n",
       "      <td>1.0</td>\n",
       "      <td>1.0</td>\n",
       "      <td>1.0</td>\n",
       "    </tr>\n",
       "  </tbody>\n",
       "</table>\n",
       "</div>"
      ],
      "text/plain": [
       "       f0   f1   f2\n",
       "mean  0.0  0.0 -0.0\n",
       "std   1.0  1.0  1.0"
      ]
     },
     "metadata": {},
     "output_type": "display_data"
    },
    {
     "data": {
      "text/html": [
       "<div>\n",
       "<style scoped>\n",
       "    .dataframe tbody tr th:only-of-type {\n",
       "        vertical-align: middle;\n",
       "    }\n",
       "\n",
       "    .dataframe tbody tr th {\n",
       "        vertical-align: top;\n",
       "    }\n",
       "\n",
       "    .dataframe thead th {\n",
       "        text-align: right;\n",
       "    }\n",
       "</style>\n",
       "<table border=\"1\" class=\"dataframe\">\n",
       "  <thead>\n",
       "    <tr style=\"text-align: right;\">\n",
       "      <th></th>\n",
       "      <th>f0</th>\n",
       "      <th>f1</th>\n",
       "      <th>f2</th>\n",
       "    </tr>\n",
       "  </thead>\n",
       "  <tbody>\n",
       "    <tr>\n",
       "      <th>mean</th>\n",
       "      <td>0.0</td>\n",
       "      <td>-0.0</td>\n",
       "      <td>0.0</td>\n",
       "    </tr>\n",
       "    <tr>\n",
       "      <th>std</th>\n",
       "      <td>1.0</td>\n",
       "      <td>1.0</td>\n",
       "      <td>1.0</td>\n",
       "    </tr>\n",
       "  </tbody>\n",
       "</table>\n",
       "</div>"
      ],
      "text/plain": [
       "       f0   f1   f2\n",
       "mean  0.0 -0.0  0.0\n",
       "std   1.0  1.0  1.0"
      ]
     },
     "metadata": {},
     "output_type": "display_data"
    },
    {
     "data": {
      "text/html": [
       "<div>\n",
       "<style scoped>\n",
       "    .dataframe tbody tr th:only-of-type {\n",
       "        vertical-align: middle;\n",
       "    }\n",
       "\n",
       "    .dataframe tbody tr th {\n",
       "        vertical-align: top;\n",
       "    }\n",
       "\n",
       "    .dataframe thead th {\n",
       "        text-align: right;\n",
       "    }\n",
       "</style>\n",
       "<table border=\"1\" class=\"dataframe\">\n",
       "  <thead>\n",
       "    <tr style=\"text-align: right;\">\n",
       "      <th></th>\n",
       "      <th>f0</th>\n",
       "      <th>f1</th>\n",
       "      <th>f2</th>\n",
       "    </tr>\n",
       "  </thead>\n",
       "  <tbody>\n",
       "    <tr>\n",
       "      <th>mean</th>\n",
       "      <td>0.0</td>\n",
       "      <td>0.0</td>\n",
       "      <td>0.0</td>\n",
       "    </tr>\n",
       "    <tr>\n",
       "      <th>std</th>\n",
       "      <td>1.0</td>\n",
       "      <td>1.0</td>\n",
       "      <td>1.0</td>\n",
       "    </tr>\n",
       "  </tbody>\n",
       "</table>\n",
       "</div>"
      ],
      "text/plain": [
       "       f0   f1   f2\n",
       "mean  0.0  0.0  0.0\n",
       "std   1.0  1.0  1.0"
      ]
     },
     "metadata": {},
     "output_type": "display_data"
    }
   ],
   "source": [
    "X_train0, X_valid0 = scale_data(X_train0, X_valid0)\n",
    "X_train1, X_valid1 = scale_data(X_train1, X_valid1)\n",
    "X_train2, X_valid2 = scale_data(X_train2, X_valid2)\n",
    "\n",
    "display(X_train0.agg(['mean', 'std']).round(2))\n",
    "display(X_train1.agg(['mean', 'std']).round(2))\n",
    "display(X_train2.agg(['mean', 'std']).round(2))"
   ]
  },
  {
   "cell_type": "markdown",
   "id": "28bbaf87",
   "metadata": {},
   "source": [
    "<div class=\"alert alert-block alert-success\">\n",
    "<b>Успех:</b> Отлично, что scaler был обучен только на треине!\n",
    "</div>"
   ]
  },
  {
   "cell_type": "markdown",
   "id": "cd1b6ebc",
   "metadata": {},
   "source": [
    "### Обучение моделей"
   ]
  },
  {
   "cell_type": "code",
   "execution_count": 22,
   "id": "d30ae0bb",
   "metadata": {},
   "outputs": [],
   "source": [
    "# функция получает на вход признаки для обучения и предсказания\n",
    "# возвращает обученную модель и предсказанные значения\n",
    "def get_linreg_prediction(data_train, target_train, data_valid):\n",
    "    model = LinearRegression()\n",
    "    model.fit(data_train, target_train)\n",
    "    pred_valid = model.predict(data_valid)\n",
    "    return model, pred_valid"
   ]
  },
  {
   "cell_type": "code",
   "execution_count": 23,
   "id": "b03cec49",
   "metadata": {},
   "outputs": [
    {
     "name": "stdout",
     "output_type": "stream",
     "text": [
      "Mean predicted product = 92.38, rmse = 37.47\n",
      "Mean predicted product = 68.34, rmse = 0.89\n",
      "Mean predicted product = 94.93, rmse = 40.18\n"
     ]
    }
   ],
   "source": [
    "model0, predicted_valid0 = get_linreg_prediction(X_train0, y_train0, X_valid0)\n",
    "pred_mean0 = predicted_valid0.mean()\n",
    "rmse0 = mean_squared_error(y_valid0, predicted_valid0, squared=False)\n",
    "print(f'Mean predicted product = {pred_mean0:.2f}, rmse = {rmse0:.2f}')\n",
    "\n",
    "model1, predicted_valid1 = get_linreg_prediction(X_train1, y_train1, X_valid1)\n",
    "pred_mean1 = predicted_valid1.mean()\n",
    "rmse1 = mean_squared_error(y_valid1, predicted_valid1, squared=False)\n",
    "print(f'Mean predicted product = {pred_mean1:.2f}, rmse = {rmse1:.2f}')\n",
    "\n",
    "model2, predicted_valid2 = get_linreg_prediction(X_train2, y_train2, X_valid2)\n",
    "pred_mean2 = predicted_valid2.mean()\n",
    "rmse2 = mean_squared_error(y_valid2, predicted_valid2, squared=False)\n",
    "print(f'Mean predicted product = {pred_mean2:.2f}, rmse = {rmse2:.2f}')"
   ]
  },
  {
   "cell_type": "markdown",
   "id": "b33e8086",
   "metadata": {},
   "source": [
    "### Вывод 2"
   ]
  },
  {
   "cell_type": "markdown",
   "id": "0ffb216c",
   "metadata": {},
   "source": [
    "* Предсказания линейной регрессии для регионов **0** и **2** дают близкие результаты по среднему значению объёмов запаса (в исходных данных этот факт также прослеживается), но при этом очень большая ошибка rmse;\n",
    "* Предсказания для региона **1** дают более низкое среднее значением объёмов запаса, но ошибка rmse значительно меньше, что говорит о большей надёжности сделанных предсказаний."
   ]
  },
  {
   "cell_type": "markdown",
   "id": "d0164d73",
   "metadata": {},
   "source": [
    "<div class=\"alert alert-block alert-success\">\n",
    "<b>Успех:</b> Модели обучены корректно. Радует, что ты активно используешь функции. Это помогает избежать дублирования кода, а значит уменьшает вероятность совершить ошибку/опечатку!\n",
    "</div>"
   ]
  },
  {
   "cell_type": "markdown",
   "id": "aa420d71",
   "metadata": {},
   "source": [
    "## Расчёт достаточного объёма сырья"
   ]
  },
  {
   "cell_type": "markdown",
   "id": "d30f7718",
   "metadata": {},
   "source": [
    "Рассчитаем достаточный объём сырья для безубыточной разработки новых скважин для каждого региона."
   ]
  },
  {
   "cell_type": "code",
   "execution_count": 24,
   "id": "ff8200d3",
   "metadata": {},
   "outputs": [
    {
     "name": "stdout",
     "output_type": "stream",
     "text": [
      "Безубыточный объём сырья: 111.1 тыс. баррелей на одну скважину\n"
     ]
    }
   ],
   "source": [
    "# бюджет на разработку [рублей]\n",
    "DEV_BUDGET = 10e9\n",
    "# бюджет на разработку [рублей / тыс. баррелей]\n",
    "PRICE = 450000\n",
    "# количество исследуемых скважин\n",
    "WELL_AMOUNT = 500\n",
    "# количество лучших скважин, которые и будут разрабатываться\n",
    "BEST_WELL_AMOUNT = 200\n",
    "# количество samples для Bootstrap\n",
    "N_SAMPLES = 1000\n",
    "\n",
    "# достаточный объём сырья для одной скважины [тыс. баррелей] для достижения безубыточности\n",
    "suff_amount_1well = DEV_BUDGET / PRICE / BEST_WELL_AMOUNT\n",
    "print(f'Безубыточный объём сырья: {suff_amount_1well:.1f} тыс. баррелей на одну скважину')"
   ]
  },
  {
   "cell_type": "markdown",
   "id": "e7c85ab7",
   "metadata": {},
   "source": [
    "Сравним полученный объём сырья со средним запасом в каждом регионе."
   ]
  },
  {
   "cell_type": "code",
   "execution_count": 25,
   "id": "d58215df",
   "metadata": {},
   "outputs": [
    {
     "name": "stdout",
     "output_type": "stream",
     "text": [
      "Средний объём сырья в регионе 0: 92.5 тыс. баррелей на одну скважину\n",
      "Средний объём сырья в регионе 1: 68.8 тыс. баррелей на одну скважину\n",
      "Средний объём сырья в регионе 2: 95.0 тыс. баррелей на одну скважину\n"
     ]
    }
   ],
   "source": [
    "print(f'Средний объём сырья в регионе 0: {df0[\"product\"].mean():.1f} тыс. баррелей на одну скважину')\n",
    "print(f'Средний объём сырья в регионе 1: {df1[\"product\"].mean():.1f} тыс. баррелей на одну скважину')\n",
    "print(f'Средний объём сырья в регионе 2: {df2[\"product\"].mean():.1f} тыс. баррелей на одну скважину')"
   ]
  },
  {
   "cell_type": "markdown",
   "id": "bce90979",
   "metadata": {},
   "source": [
    "* Чтобы скважина была безубыточной, её запасы сырья должны быть не меньше **111.1 тыс.** баррелей;\n",
    "* В среднем скважины ни в одном из регионов не соответствуют этому критерию (для 200 скважин);\n",
    "* Поэтому необходимо найти и отобрать **200 лучших** скважин, чтобы сделать месторождение безубыточным;"
   ]
  },
  {
   "cell_type": "markdown",
   "id": "d6d07379",
   "metadata": {},
   "source": [
    "<div class=\"alert alert-block alert-success\">\n",
    "<b>Успех:</b> Точка безубыточности найдена верно, сравнение проведено!\n",
    "</div>"
   ]
  },
  {
   "cell_type": "markdown",
   "id": "81cd7b01",
   "metadata": {},
   "source": [
    "## Функция расчёта прибыли по лучшим предсказанным скважинам"
   ]
  },
  {
   "cell_type": "code",
   "execution_count": 26,
   "id": "f2a005a7",
   "metadata": {},
   "outputs": [],
   "source": [
    "# функция получает на вход целевой признак и предсказанные значения\n",
    "# возвращает суммарную чистую прибыль для 200 лучших скважин\n",
    "def calculate_netprofit(target, pred_data):\n",
    "    data = pd.DataFrame({'target': target, 'predicted': pred_data})\n",
    "    volume_biggest200 = data.sort_values(by='predicted', ascending=False)[:BEST_WELL_AMOUNT]['target'].sum()\n",
    "    return volume_biggest200 * PRICE - DEV_BUDGET"
   ]
  },
  {
   "cell_type": "markdown",
   "id": "6c27565f",
   "metadata": {},
   "source": [
    "<div class=\"alert alert-block alert-success\">\n",
    "<b>Успех:</b> Верно.\n",
    "</div>"
   ]
  },
  {
   "cell_type": "markdown",
   "id": "44fe2c00",
   "metadata": {},
   "source": [
    "## Расчёт рисков и прибыли для регионов"
   ]
  },
  {
   "cell_type": "markdown",
   "id": "94195a5c",
   "metadata": {},
   "source": [
    "### Распределение прибыли"
   ]
  },
  {
   "cell_type": "markdown",
   "id": "ba1f1998",
   "metadata": {},
   "source": [
    "Найдём распределение прибыли техникой Bootstrap: создадим 1000 выборок из **пятисот** скважин и рассчитаем прибыль для **двухсот** лучших по предсказаниям модели для каждого региона."
   ]
  },
  {
   "cell_type": "code",
   "execution_count": 27,
   "id": "097dc5a4",
   "metadata": {
    "scrolled": false
   },
   "outputs": [],
   "source": [
    "# фунцкия принимает на вход обученную модель, валидационные признаки и целевой признак\n",
    "# возвращает объект Series с чистой прибылью для каждого sample\n",
    "def get_netprofit_distr(modeln, X_valid, y_valid):\n",
    "    state = np.random.RandomState(rstate)\n",
    "    netprofit_values = []\n",
    "    for i in range(N_SAMPLES):\n",
    "        y_valid_sample = y_valid.sample(n=WELL_AMOUNT, replace=True, random_state=state)\n",
    "        X_valid_sample = X_valid.loc[y_valid_sample.index]\n",
    "        predicted_sample = modeln.predict(X_valid_sample)    \n",
    "        netprofit_values.append(calculate_netprofit(y_valid_sample, predicted_sample))\n",
    "    return pd.Series(netprofit_values)"
   ]
  },
  {
   "cell_type": "markdown",
   "id": "e4b623e9",
   "metadata": {},
   "source": [
    "Построим распределение чистой прибыли для каждого региона."
   ]
  },
  {
   "cell_type": "code",
   "execution_count": 28,
   "id": "c0bdc0bd",
   "metadata": {},
   "outputs": [
    {
     "data": {
      "image/png": "[encoded data removed]",
      "text/plain": [
       "<Figure size 720x288 with 3 Axes>"
      ]
     },
     "metadata": {
      "needs_background": "light"
     },
     "output_type": "display_data"
    }
   ],
   "source": [
    "netprofit0_distr = get_netprofit_distr(model0, X_valid0, y_valid0)\n",
    "netprofit1_distr = get_netprofit_distr(model1, X_valid1, y_valid1)\n",
    "netprofit2_distr = get_netprofit_distr(model2, X_valid2, y_valid2)\n",
    "\n",
    "fig, (ax0, ax1, ax2) = plt.subplots(nrows = 1,  ncols = 3, figsize = (10, 4))    \n",
    "sns.histplot(netprofit0_distr, ax = ax0)\n",
    "ax0.set_title('Регион 0', fontsize = 14)\n",
    "sns.histplot(netprofit1_distr, ax = ax1)\n",
    "ax1.set_title('Регион 1', fontsize = 14)\n",
    "sns.histplot(netprofit2_distr, ax = ax2)\n",
    "ax2.set_title('Регион 2', fontsize = 14)\n",
    "fig.suptitle('Распределение чистой прибыли по регионам', fontsize=20)\n",
    "plt.tight_layout()  \n",
    "plt.show()"
   ]
  },
  {
   "cell_type": "markdown",
   "id": "39718cc1",
   "metadata": {},
   "source": [
    "### Статистики распределения прибыли"
   ]
  },
  {
   "cell_type": "code",
   "execution_count": 29,
   "id": "fb2ec8cd",
   "metadata": {},
   "outputs": [],
   "source": [
    "# функция печатает статистики распределения прибыли\n",
    "def show_distr_stats(distr):\n",
    "    print(f'Средняя чистая прибыль: {distr.mean() / 1e9 :.3f} млрд. рублей')\n",
    "    print(f'95% доверительный интервал: ({distr.quantile(q=0.025) / 1e9 :.3f}, {distr.quantile(q=0.975) / 1e9 :.3f}) млрд. рублей')\n",
    "    risk_of_loss = (distr < 0).mean()\n",
    "    if risk_of_loss > 0.025:\n",
    "        print(f'Риск убыков: {risk_of_loss:.2%} => НЕ соответствует критерию\\n')\n",
    "    else:\n",
    "        print(f'Риск убыков: {risk_of_loss:.2%} => соответствует критерию\\n')"
   ]
  },
  {
   "cell_type": "markdown",
   "id": "9b44364a",
   "metadata": {},
   "source": [
    "<div class=\"alert alert-block alert-success\">\n",
    "<b>Успех:</b> Отлично, что для подсчета доверительного интервала использовался именно метод квантилей!\n",
    "</div>\n",
    "\n",
    "\n",
    "<div class=\"alert alert-block alert-info\">\n",
    "\n",
    "<b>Совет: </b> Риск можно было найти чуть проще: `(values < 0).mean()`, если объект типа pandas Series или numpy array.\n",
    "</div>"
   ]
  },
  {
   "cell_type": "markdown",
   "id": "8900649d",
   "metadata": {},
   "source": [
    "<div class=\"alert alert-block alert-warning\">\n",
    "<b>Комментарий студента:</b> Спасибо за совет.\n",
    "</div>\n",
    "\n",
    "<div class=\"alert alert-block alert-warning\">\n",
    "<b>Изменения:</b> Исправил подсчёт риска на более простой.\n",
    "</div>"
   ]
  },
  {
   "cell_type": "code",
   "execution_count": 30,
   "id": "8cc62f30",
   "metadata": {},
   "outputs": [
    {
     "name": "stdout",
     "output_type": "stream",
     "text": [
      "Регион 0\n",
      "Средняя чистая прибыль: 0.410 млрд. рублей\n",
      "95% доверительный интервал: (-0.117, 0.932) млрд. рублей\n",
      "Риск убыков: 6.20% => НЕ соответствует критерию\n",
      "\n",
      "Регион 1\n",
      "Средняя чистая прибыль: 0.412 млрд. рублей\n",
      "95% доверительный интервал: (-0.006, 0.819) млрд. рублей\n",
      "Риск убыков: 2.90% => НЕ соответствует критерию\n",
      "\n",
      "Регион 2\n",
      "Средняя чистая прибыль: 0.386 млрд. рублей\n",
      "95% доверительный интервал: (-0.193, 0.898) млрд. рублей\n",
      "Риск убыков: 8.40% => НЕ соответствует критерию\n",
      "\n"
     ]
    }
   ],
   "source": [
    "print('Регион 0')\n",
    "show_distr_stats(netprofit0_distr)\n",
    "print('Регион 1')\n",
    "show_distr_stats(netprofit1_distr)\n",
    "print('Регион 2')\n",
    "show_distr_stats(netprofit2_distr)"
   ]
  },
  {
   "cell_type": "markdown",
   "id": "e5f0b03a",
   "metadata": {},
   "source": [
    "<div class=\"alert alert-block alert-warning\">\n",
    "<b>Комментарий студента:</b> Без удаления выбросов результаты изменились. Теперь ни один из регионов не подходит под критерии.\n",
    "</div>"
   ]
  },
  {
   "cell_type": "markdown",
   "id": "020fcdf8",
   "metadata": {},
   "source": [
    "### Выводы"
   ]
  },
  {
   "cell_type": "markdown",
   "id": "a394aea6",
   "metadata": {},
   "source": [
    "По результатам моделирования можно заключить, что во **всех регионах** риск убытков **больше** требуемого критерия (< 2.5%). При этом в **регионе 1** самый высокий средний уровень чистой прибыли (0.412 млрд. рублей) и самый низкий риск убытков (2.9%). Исходя из представленных данных нет возможности порекомендовать какой-либо из регионов."
   ]
  },
  {
   "cell_type": "markdown",
   "id": "ee4d1b50",
   "metadata": {},
   "source": [
    "<div class=\"alert alert-block alert-success\">\n",
    "<b>Успех:</b> С выбором региона согласен.\n",
    "</div>"
   ]
  },
  {
   "cell_type": "markdown",
   "id": "87f5aa5b",
   "metadata": {},
   "source": [
    "<div class=\"alert alert-block alert-warning\">\n",
    "<b>Комментарий студента:</b> Пришлось переписать выводы.\n",
    "</div>"
   ]
  }
 ],
 "metadata": {
  "ExecuteTimeLog": [
   {
    "duration": 861,
    "start_time": "2023-07-06T16:22:51.124Z"
   },
   {
    "duration": 10,
    "start_time": "2023-07-06T16:22:51.987Z"
   },
   {
    "duration": 49,
    "start_time": "2023-07-06T16:22:51.999Z"
   },
   {
    "duration": 102,
    "start_time": "2023-07-06T16:22:52.050Z"
   },
   {
    "duration": 0,
    "start_time": "2023-07-06T16:22:52.156Z"
   },
   {
    "duration": 0,
    "start_time": "2023-07-06T16:22:52.157Z"
   },
   {
    "duration": 0,
    "start_time": "2023-07-06T16:22:52.159Z"
   },
   {
    "duration": 0,
    "start_time": "2023-07-06T16:22:52.160Z"
   },
   {
    "duration": 0,
    "start_time": "2023-07-06T16:22:52.162Z"
   },
   {
    "duration": 0,
    "start_time": "2023-07-06T16:22:52.163Z"
   },
   {
    "duration": 0,
    "start_time": "2023-07-06T16:22:52.165Z"
   },
   {
    "duration": 0,
    "start_time": "2023-07-06T16:22:52.166Z"
   },
   {
    "duration": 0,
    "start_time": "2023-07-06T16:22:52.168Z"
   },
   {
    "duration": 0,
    "start_time": "2023-07-06T16:22:52.169Z"
   },
   {
    "duration": 0,
    "start_time": "2023-07-06T16:22:52.171Z"
   },
   {
    "duration": 0,
    "start_time": "2023-07-06T16:22:52.172Z"
   },
   {
    "duration": 0,
    "start_time": "2023-07-06T16:22:52.174Z"
   },
   {
    "duration": 0,
    "start_time": "2023-07-06T16:22:52.175Z"
   },
   {
    "duration": 0,
    "start_time": "2023-07-06T16:22:52.176Z"
   },
   {
    "duration": 0,
    "start_time": "2023-07-06T16:22:52.177Z"
   },
   {
    "duration": 0,
    "start_time": "2023-07-06T16:22:52.178Z"
   },
   {
    "duration": 0,
    "start_time": "2023-07-06T16:22:52.179Z"
   },
   {
    "duration": 0,
    "start_time": "2023-07-06T16:22:52.180Z"
   },
   {
    "duration": 1,
    "start_time": "2023-07-06T16:22:52.181Z"
   },
   {
    "duration": 0,
    "start_time": "2023-07-06T16:22:52.183Z"
   },
   {
    "duration": 0,
    "start_time": "2023-07-06T16:22:52.184Z"
   },
   {
    "duration": 0,
    "start_time": "2023-07-06T16:22:52.185Z"
   },
   {
    "duration": 0,
    "start_time": "2023-07-06T16:22:52.186Z"
   },
   {
    "duration": 0,
    "start_time": "2023-07-06T16:22:52.187Z"
   },
   {
    "duration": 0,
    "start_time": "2023-07-06T16:22:52.188Z"
   },
   {
    "duration": 0,
    "start_time": "2023-07-06T16:22:52.189Z"
   },
   {
    "duration": 0,
    "start_time": "2023-07-06T16:22:52.190Z"
   },
   {
    "duration": 0,
    "start_time": "2023-07-06T16:22:52.191Z"
   },
   {
    "duration": 0,
    "start_time": "2023-07-06T16:22:52.193Z"
   },
   {
    "duration": 0,
    "start_time": "2023-07-06T16:22:52.194Z"
   },
   {
    "duration": 0,
    "start_time": "2023-07-06T16:22:52.195Z"
   },
   {
    "duration": 0,
    "start_time": "2023-07-06T16:22:52.196Z"
   },
   {
    "duration": 0,
    "start_time": "2023-07-06T16:22:52.197Z"
   },
   {
    "duration": 0,
    "start_time": "2023-07-06T16:22:52.259Z"
   },
   {
    "duration": 0,
    "start_time": "2023-07-06T16:22:52.261Z"
   },
   {
    "duration": 0,
    "start_time": "2023-07-06T16:22:52.262Z"
   },
   {
    "duration": 0,
    "start_time": "2023-07-06T16:22:52.263Z"
   },
   {
    "duration": 0,
    "start_time": "2023-07-06T16:22:52.264Z"
   },
   {
    "duration": 0,
    "start_time": "2023-07-06T16:22:52.265Z"
   },
   {
    "duration": 0,
    "start_time": "2023-07-06T16:22:52.266Z"
   },
   {
    "duration": 0,
    "start_time": "2023-07-06T16:22:52.267Z"
   },
   {
    "duration": 0,
    "start_time": "2023-07-06T16:22:52.268Z"
   },
   {
    "duration": 0,
    "start_time": "2023-07-06T16:22:52.269Z"
   },
   {
    "duration": 0,
    "start_time": "2023-07-06T16:22:52.271Z"
   },
   {
    "duration": 0,
    "start_time": "2023-07-06T16:22:52.272Z"
   },
   {
    "duration": 0,
    "start_time": "2023-07-06T16:22:52.273Z"
   },
   {
    "duration": 0,
    "start_time": "2023-07-06T16:22:52.274Z"
   },
   {
    "duration": 0,
    "start_time": "2023-07-06T16:22:52.275Z"
   },
   {
    "duration": 0,
    "start_time": "2023-07-06T16:22:52.276Z"
   },
   {
    "duration": 0,
    "start_time": "2023-07-06T16:22:52.277Z"
   },
   {
    "duration": 0,
    "start_time": "2023-07-06T16:22:52.278Z"
   },
   {
    "duration": 0,
    "start_time": "2023-07-06T16:22:52.279Z"
   },
   {
    "duration": 0,
    "start_time": "2023-07-06T16:22:52.280Z"
   },
   {
    "duration": 0,
    "start_time": "2023-07-06T16:22:52.281Z"
   },
   {
    "duration": 0,
    "start_time": "2023-07-06T16:22:52.282Z"
   },
   {
    "duration": 0,
    "start_time": "2023-07-06T16:22:52.283Z"
   },
   {
    "duration": 0,
    "start_time": "2023-07-06T16:22:52.284Z"
   },
   {
    "duration": 0,
    "start_time": "2023-07-06T16:22:52.285Z"
   },
   {
    "duration": 1569,
    "start_time": "2023-07-07T12:48:35.120Z"
   },
   {
    "duration": 859,
    "start_time": "2023-07-07T12:48:51.943Z"
   },
   {
    "duration": 39,
    "start_time": "2023-07-07T12:48:52.804Z"
   },
   {
    "duration": 15,
    "start_time": "2023-07-07T12:48:52.845Z"
   },
   {
    "duration": 2152,
    "start_time": "2023-07-07T12:48:52.862Z"
   },
   {
    "duration": 10,
    "start_time": "2023-07-07T12:48:55.017Z"
   },
   {
    "duration": 35,
    "start_time": "2023-07-07T12:48:55.029Z"
   },
   {
    "duration": 5,
    "start_time": "2023-07-07T12:48:55.066Z"
   },
   {
    "duration": 208,
    "start_time": "2023-07-07T12:48:55.073Z"
   },
   {
    "duration": 5,
    "start_time": "2023-07-07T12:48:55.283Z"
   },
   {
    "duration": 137,
    "start_time": "2023-07-07T12:48:55.290Z"
   },
   {
    "duration": 15,
    "start_time": "2023-07-07T12:48:55.429Z"
   },
   {
    "duration": 37,
    "start_time": "2023-07-07T12:48:55.446Z"
   },
   {
    "duration": 44,
    "start_time": "2023-07-07T12:48:55.485Z"
   },
   {
    "duration": 13,
    "start_time": "2023-07-07T12:48:55.532Z"
   },
   {
    "duration": 29,
    "start_time": "2023-07-07T12:48:55.547Z"
   },
   {
    "duration": 63,
    "start_time": "2023-07-07T12:48:55.578Z"
   },
   {
    "duration": 33,
    "start_time": "2023-07-07T12:48:55.643Z"
   },
   {
    "duration": 21,
    "start_time": "2023-07-07T12:48:55.678Z"
   },
   {
    "duration": 82,
    "start_time": "2023-07-07T12:48:55.701Z"
   },
   {
    "duration": 34,
    "start_time": "2023-07-07T12:48:55.784Z"
   },
   {
    "duration": 168,
    "start_time": "2023-07-07T12:48:55.820Z"
   },
   {
    "duration": 20,
    "start_time": "2023-07-07T12:48:55.990Z"
   },
   {
    "duration": 89,
    "start_time": "2023-07-07T12:48:56.013Z"
   },
   {
    "duration": 178,
    "start_time": "2023-07-07T12:48:56.104Z"
   },
   {
    "duration": 4,
    "start_time": "2023-07-07T12:48:56.284Z"
   },
   {
    "duration": 42,
    "start_time": "2023-07-07T12:48:56.289Z"
   },
   {
    "duration": 69,
    "start_time": "2023-07-07T12:48:56.333Z"
   },
   {
    "duration": 89,
    "start_time": "2023-07-07T12:48:56.404Z"
   },
   {
    "duration": 51,
    "start_time": "2023-07-07T12:48:56.495Z"
   },
   {
    "duration": 72,
    "start_time": "2023-07-07T12:48:56.548Z"
   },
   {
    "duration": 158,
    "start_time": "2023-07-07T12:48:56.622Z"
   },
   {
    "duration": 23,
    "start_time": "2023-07-07T12:48:56.782Z"
   },
   {
    "duration": 521,
    "start_time": "2023-07-07T12:48:56.806Z"
   },
   {
    "duration": 195,
    "start_time": "2023-07-07T12:48:57.328Z"
   },
   {
    "duration": 186,
    "start_time": "2023-07-07T12:48:57.524Z"
   },
   {
    "duration": 179,
    "start_time": "2023-07-07T12:48:57.711Z"
   },
   {
    "duration": 186,
    "start_time": "2023-07-07T12:48:57.892Z"
   },
   {
    "duration": 197,
    "start_time": "2023-07-07T12:48:58.080Z"
   },
   {
    "duration": 190,
    "start_time": "2023-07-07T12:48:58.279Z"
   },
   {
    "duration": 186,
    "start_time": "2023-07-07T12:48:58.471Z"
   },
   {
    "duration": 147,
    "start_time": "2023-07-07T12:48:58.662Z"
   },
   {
    "duration": 8,
    "start_time": "2023-07-07T12:48:58.811Z"
   },
   {
    "duration": 199,
    "start_time": "2023-07-07T12:48:58.821Z"
   },
   {
    "duration": 219,
    "start_time": "2023-07-07T12:48:59.022Z"
   },
   {
    "duration": 293,
    "start_time": "2023-07-07T12:48:59.243Z"
   },
   {
    "duration": 230,
    "start_time": "2023-07-07T12:48:59.537Z"
   },
   {
    "duration": 167,
    "start_time": "2023-07-07T12:48:59.768Z"
   },
   {
    "duration": 156,
    "start_time": "2023-07-07T12:48:59.937Z"
   },
   {
    "duration": 193,
    "start_time": "2023-07-07T12:49:00.095Z"
   },
   {
    "duration": 15,
    "start_time": "2023-07-07T12:49:00.290Z"
   },
   {
    "duration": 48,
    "start_time": "2023-07-07T12:49:00.307Z"
   },
   {
    "duration": 335,
    "start_time": "2023-07-07T12:49:00.357Z"
   },
   {
    "duration": 224,
    "start_time": "2023-07-07T12:49:00.706Z"
   },
   {
    "duration": 233,
    "start_time": "2023-07-07T12:49:00.932Z"
   },
   {
    "duration": 200,
    "start_time": "2023-07-07T12:49:01.167Z"
   },
   {
    "duration": 138,
    "start_time": "2023-07-07T12:49:01.369Z"
   },
   {
    "duration": 143,
    "start_time": "2023-07-07T12:49:01.509Z"
   },
   {
    "duration": 184,
    "start_time": "2023-07-07T12:49:01.654Z"
   },
   {
    "duration": 150,
    "start_time": "2023-07-07T12:49:01.840Z"
   },
   {
    "duration": 10,
    "start_time": "2023-07-07T12:49:01.993Z"
   },
   {
    "duration": 49,
    "start_time": "2023-07-07T12:49:02.005Z"
   },
   {
    "duration": 51,
    "start_time": "2023-07-07T12:49:02.056Z"
   },
   {
    "duration": 319,
    "start_time": "2023-07-07T12:49:02.110Z"
   },
   {
    "duration": 310,
    "start_time": "2023-07-07T12:52:02.824Z"
   },
   {
    "duration": 179,
    "start_time": "2023-07-07T12:52:08.158Z"
   },
   {
    "duration": 191,
    "start_time": "2023-07-07T12:52:12.888Z"
   },
   {
    "duration": 173,
    "start_time": "2023-07-07T12:52:29.782Z"
   },
   {
    "duration": 173,
    "start_time": "2023-07-07T12:52:37.695Z"
   },
   {
    "duration": 194,
    "start_time": "2023-07-07T12:52:47.491Z"
   },
   {
    "duration": 153,
    "start_time": "2023-07-07T12:53:03.275Z"
   },
   {
    "duration": 159,
    "start_time": "2023-07-07T12:53:26.362Z"
   },
   {
    "duration": 261,
    "start_time": "2023-07-07T12:58:41.525Z"
   },
   {
    "duration": 211,
    "start_time": "2023-07-07T12:58:45.985Z"
   },
   {
    "duration": 180,
    "start_time": "2023-07-07T12:59:10.514Z"
   },
   {
    "duration": 170,
    "start_time": "2023-07-07T12:59:19.934Z"
   },
   {
    "duration": 167,
    "start_time": "2023-07-07T12:59:27.460Z"
   },
   {
    "duration": 902,
    "start_time": "2023-07-07T12:59:40.306Z"
   },
   {
    "duration": 56,
    "start_time": "2023-07-07T12:59:41.210Z"
   },
   {
    "duration": 35,
    "start_time": "2023-07-07T12:59:41.269Z"
   },
   {
    "duration": 2236,
    "start_time": "2023-07-07T12:59:41.307Z"
   },
   {
    "duration": 10,
    "start_time": "2023-07-07T12:59:43.547Z"
   },
   {
    "duration": 12,
    "start_time": "2023-07-07T12:59:43.559Z"
   },
   {
    "duration": 5,
    "start_time": "2023-07-07T12:59:43.573Z"
   },
   {
    "duration": 185,
    "start_time": "2023-07-07T12:59:43.580Z"
   },
   {
    "duration": 6,
    "start_time": "2023-07-07T12:59:43.767Z"
   },
   {
    "duration": 135,
    "start_time": "2023-07-07T12:59:43.774Z"
   },
   {
    "duration": 17,
    "start_time": "2023-07-07T12:59:43.911Z"
   },
   {
    "duration": 10,
    "start_time": "2023-07-07T12:59:43.931Z"
   },
   {
    "duration": 27,
    "start_time": "2023-07-07T12:59:43.944Z"
   },
   {
    "duration": 38,
    "start_time": "2023-07-07T12:59:43.976Z"
   },
   {
    "duration": 18,
    "start_time": "2023-07-07T12:59:44.017Z"
   },
   {
    "duration": 38,
    "start_time": "2023-07-07T12:59:44.037Z"
   },
   {
    "duration": 34,
    "start_time": "2023-07-07T12:59:44.078Z"
   },
   {
    "duration": 6,
    "start_time": "2023-07-07T12:59:44.115Z"
   },
   {
    "duration": 84,
    "start_time": "2023-07-07T12:59:44.123Z"
   },
   {
    "duration": 6,
    "start_time": "2023-07-07T12:59:44.209Z"
   },
   {
    "duration": 162,
    "start_time": "2023-07-07T12:59:44.217Z"
   },
   {
    "duration": 10,
    "start_time": "2023-07-07T12:59:44.380Z"
   },
   {
    "duration": 33,
    "start_time": "2023-07-07T12:59:44.402Z"
   },
   {
    "duration": 185,
    "start_time": "2023-07-07T12:59:44.436Z"
   },
   {
    "duration": 5,
    "start_time": "2023-07-07T12:59:44.623Z"
   },
   {
    "duration": 21,
    "start_time": "2023-07-07T12:59:44.630Z"
   },
   {
    "duration": 11,
    "start_time": "2023-07-07T12:59:44.653Z"
   },
   {
    "duration": 50,
    "start_time": "2023-07-07T12:59:44.666Z"
   },
   {
    "duration": 6,
    "start_time": "2023-07-07T12:59:44.718Z"
   },
   {
    "duration": 55,
    "start_time": "2023-07-07T12:59:44.726Z"
   },
   {
    "duration": 133,
    "start_time": "2023-07-07T12:59:44.783Z"
   },
   {
    "duration": 10,
    "start_time": "2023-07-07T12:59:44.918Z"
   },
   {
    "duration": 523,
    "start_time": "2023-07-07T12:59:44.929Z"
   },
   {
    "duration": 205,
    "start_time": "2023-07-07T12:59:45.454Z"
   },
   {
    "duration": 198,
    "start_time": "2023-07-07T12:59:45.662Z"
   },
   {
    "duration": 185,
    "start_time": "2023-07-07T12:59:45.863Z"
   },
   {
    "duration": 219,
    "start_time": "2023-07-07T12:59:46.051Z"
   },
   {
    "duration": 222,
    "start_time": "2023-07-07T12:59:46.273Z"
   },
   {
    "duration": 205,
    "start_time": "2023-07-07T12:59:46.497Z"
   },
   {
    "duration": 181,
    "start_time": "2023-07-07T12:59:46.704Z"
   },
   {
    "duration": 154,
    "start_time": "2023-07-07T12:59:46.890Z"
   },
   {
    "duration": 8,
    "start_time": "2023-07-07T12:59:47.046Z"
   },
   {
    "duration": 206,
    "start_time": "2023-07-07T12:59:47.056Z"
   },
   {
    "duration": 217,
    "start_time": "2023-07-07T12:59:47.264Z"
   },
   {
    "duration": 306,
    "start_time": "2023-07-07T12:59:47.484Z"
   },
   {
    "duration": 201,
    "start_time": "2023-07-07T12:59:47.791Z"
   },
   {
    "duration": 165,
    "start_time": "2023-07-07T12:59:47.994Z"
   },
   {
    "duration": 152,
    "start_time": "2023-07-07T12:59:48.161Z"
   },
   {
    "duration": 203,
    "start_time": "2023-07-07T12:59:48.316Z"
   },
   {
    "duration": 7,
    "start_time": "2023-07-07T12:59:48.521Z"
   },
   {
    "duration": 26,
    "start_time": "2023-07-07T12:59:48.531Z"
   },
   {
    "duration": 245,
    "start_time": "2023-07-07T12:59:48.559Z"
   },
   {
    "duration": 218,
    "start_time": "2023-07-07T12:59:48.806Z"
   },
   {
    "duration": 244,
    "start_time": "2023-07-07T12:59:49.026Z"
   },
   {
    "duration": 213,
    "start_time": "2023-07-07T12:59:49.272Z"
   },
   {
    "duration": 151,
    "start_time": "2023-07-07T12:59:49.487Z"
   },
   {
    "duration": 137,
    "start_time": "2023-07-07T12:59:49.641Z"
   },
   {
    "duration": 174,
    "start_time": "2023-07-07T12:59:49.780Z"
   },
   {
    "duration": 146,
    "start_time": "2023-07-07T12:59:49.956Z"
   },
   {
    "duration": 7,
    "start_time": "2023-07-07T12:59:50.104Z"
   },
   {
    "duration": 46,
    "start_time": "2023-07-07T12:59:50.113Z"
   },
   {
    "duration": 23,
    "start_time": "2023-07-07T12:59:50.161Z"
   },
   {
    "duration": 280,
    "start_time": "2023-07-07T12:59:50.185Z"
   },
   {
    "duration": 282,
    "start_time": "2023-07-07T13:01:20.925Z"
   },
   {
    "duration": 225,
    "start_time": "2023-07-07T13:01:29.001Z"
   },
   {
    "duration": 145,
    "start_time": "2023-07-07T13:01:32.106Z"
   },
   {
    "duration": 6,
    "start_time": "2023-07-07T13:01:37.689Z"
   },
   {
    "duration": 8,
    "start_time": "2023-07-07T13:01:40.086Z"
   },
   {
    "duration": 137,
    "start_time": "2023-07-07T13:01:44.611Z"
   },
   {
    "duration": 873,
    "start_time": "2023-07-07T13:02:07.193Z"
   },
   {
    "duration": 38,
    "start_time": "2023-07-07T13:02:08.068Z"
   },
   {
    "duration": 15,
    "start_time": "2023-07-07T13:02:08.107Z"
   },
   {
    "duration": 2139,
    "start_time": "2023-07-07T13:02:08.124Z"
   },
   {
    "duration": 10,
    "start_time": "2023-07-07T13:02:10.264Z"
   },
   {
    "duration": 15,
    "start_time": "2023-07-07T13:02:10.276Z"
   },
   {
    "duration": 4,
    "start_time": "2023-07-07T13:02:10.293Z"
   },
   {
    "duration": 189,
    "start_time": "2023-07-07T13:02:10.301Z"
   },
   {
    "duration": 6,
    "start_time": "2023-07-07T13:02:10.501Z"
   },
   {
    "duration": 168,
    "start_time": "2023-07-07T13:02:10.511Z"
   },
   {
    "duration": 24,
    "start_time": "2023-07-07T13:02:10.681Z"
   },
   {
    "duration": 8,
    "start_time": "2023-07-07T13:02:10.707Z"
   },
   {
    "duration": 24,
    "start_time": "2023-07-07T13:02:10.717Z"
   },
   {
    "duration": 14,
    "start_time": "2023-07-07T13:02:10.743Z"
   },
   {
    "duration": 11,
    "start_time": "2023-07-07T13:02:10.759Z"
   },
   {
    "duration": 55,
    "start_time": "2023-07-07T13:02:10.772Z"
   },
   {
    "duration": 26,
    "start_time": "2023-07-07T13:02:10.829Z"
   },
   {
    "duration": 7,
    "start_time": "2023-07-07T13:02:10.856Z"
   },
   {
    "duration": 89,
    "start_time": "2023-07-07T13:02:10.865Z"
   },
   {
    "duration": 7,
    "start_time": "2023-07-07T13:02:10.956Z"
   },
   {
    "duration": 148,
    "start_time": "2023-07-07T13:02:10.965Z"
   },
   {
    "duration": 10,
    "start_time": "2023-07-07T13:02:11.115Z"
   },
   {
    "duration": 28,
    "start_time": "2023-07-07T13:02:11.127Z"
   },
   {
    "duration": 184,
    "start_time": "2023-07-07T13:02:11.158Z"
   },
   {
    "duration": 4,
    "start_time": "2023-07-07T13:02:11.344Z"
   },
   {
    "duration": 14,
    "start_time": "2023-07-07T13:02:11.350Z"
   },
   {
    "duration": 23,
    "start_time": "2023-07-07T13:02:11.366Z"
   },
   {
    "duration": 34,
    "start_time": "2023-07-07T13:02:11.393Z"
   },
   {
    "duration": 12,
    "start_time": "2023-07-07T13:02:11.429Z"
   },
   {
    "duration": 35,
    "start_time": "2023-07-07T13:02:11.443Z"
   },
   {
    "duration": 146,
    "start_time": "2023-07-07T13:02:11.480Z"
   },
   {
    "duration": 10,
    "start_time": "2023-07-07T13:02:11.628Z"
   },
   {
    "duration": 539,
    "start_time": "2023-07-07T13:02:11.640Z"
   },
   {
    "duration": 231,
    "start_time": "2023-07-07T13:02:12.181Z"
   },
   {
    "duration": 194,
    "start_time": "2023-07-07T13:02:12.414Z"
   },
   {
    "duration": 174,
    "start_time": "2023-07-07T13:02:12.610Z"
   },
   {
    "duration": 206,
    "start_time": "2023-07-07T13:02:12.786Z"
   },
   {
    "duration": 199,
    "start_time": "2023-07-07T13:02:12.994Z"
   },
   {
    "duration": 182,
    "start_time": "2023-07-07T13:02:13.195Z"
   },
   {
    "duration": 178,
    "start_time": "2023-07-07T13:02:13.379Z"
   },
   {
    "duration": 168,
    "start_time": "2023-07-07T13:02:13.559Z"
   },
   {
    "duration": 10,
    "start_time": "2023-07-07T13:02:13.729Z"
   },
   {
    "duration": 208,
    "start_time": "2023-07-07T13:02:13.740Z"
   },
   {
    "duration": 236,
    "start_time": "2023-07-07T13:02:13.951Z"
   },
   {
    "duration": 296,
    "start_time": "2023-07-07T13:02:14.188Z"
   },
   {
    "duration": 189,
    "start_time": "2023-07-07T13:02:14.486Z"
   },
   {
    "duration": 160,
    "start_time": "2023-07-07T13:02:14.677Z"
   },
   {
    "duration": 149,
    "start_time": "2023-07-07T13:02:14.839Z"
   },
   {
    "duration": 191,
    "start_time": "2023-07-07T13:02:14.989Z"
   },
   {
    "duration": 20,
    "start_time": "2023-07-07T13:02:15.184Z"
   },
   {
    "duration": 33,
    "start_time": "2023-07-07T13:02:15.206Z"
   },
   {
    "duration": 233,
    "start_time": "2023-07-07T13:02:15.241Z"
   },
   {
    "duration": 218,
    "start_time": "2023-07-07T13:02:15.476Z"
   },
   {
    "duration": 226,
    "start_time": "2023-07-07T13:02:15.696Z"
   },
   {
    "duration": 200,
    "start_time": "2023-07-07T13:02:15.924Z"
   },
   {
    "duration": 135,
    "start_time": "2023-07-07T13:02:16.127Z"
   },
   {
    "duration": 139,
    "start_time": "2023-07-07T13:02:16.264Z"
   },
   {
    "duration": 166,
    "start_time": "2023-07-07T13:02:16.405Z"
   },
   {
    "duration": 133,
    "start_time": "2023-07-07T13:02:16.572Z"
   },
   {
    "duration": 6,
    "start_time": "2023-07-07T13:02:16.707Z"
   },
   {
    "duration": 36,
    "start_time": "2023-07-07T13:02:16.714Z"
   },
   {
    "duration": 8,
    "start_time": "2023-07-07T13:02:16.752Z"
   },
   {
    "duration": 283,
    "start_time": "2023-07-07T13:02:16.762Z"
   },
   {
    "duration": 272,
    "start_time": "2023-07-07T13:02:34.415Z"
   },
   {
    "duration": 150,
    "start_time": "2023-07-07T13:02:49.489Z"
   },
   {
    "duration": 146,
    "start_time": "2023-07-07T13:03:34.548Z"
   },
   {
    "duration": 200,
    "start_time": "2023-07-07T13:03:49.857Z"
   },
   {
    "duration": 164,
    "start_time": "2023-07-07T13:03:58.516Z"
   },
   {
    "duration": 191,
    "start_time": "2023-07-07T13:04:02.380Z"
   },
   {
    "duration": 193,
    "start_time": "2023-07-07T13:04:06.399Z"
   },
   {
    "duration": 220,
    "start_time": "2023-07-07T13:04:10.484Z"
   },
   {
    "duration": 181,
    "start_time": "2023-07-07T13:04:15.167Z"
   },
   {
    "duration": 86,
    "start_time": "2023-07-07T13:04:20.252Z"
   },
   {
    "duration": 148,
    "start_time": "2023-07-07T13:04:24.915Z"
   },
   {
    "duration": 181,
    "start_time": "2023-07-07T13:04:40.202Z"
   },
   {
    "duration": 155,
    "start_time": "2023-07-07T13:04:43.903Z"
   },
   {
    "duration": 229,
    "start_time": "2023-07-07T13:04:52.869Z"
   },
   {
    "duration": 270,
    "start_time": "2023-07-07T13:05:02.061Z"
   },
   {
    "duration": 223,
    "start_time": "2023-07-07T13:05:12.293Z"
   },
   {
    "duration": 228,
    "start_time": "2023-07-07T13:05:22.591Z"
   },
   {
    "duration": 199,
    "start_time": "2023-07-07T13:05:28.649Z"
   },
   {
    "duration": 129,
    "start_time": "2023-07-07T13:05:33.486Z"
   },
   {
    "duration": 291,
    "start_time": "2023-07-07T13:05:37.303Z"
   },
   {
    "duration": 177,
    "start_time": "2023-07-07T13:05:41.081Z"
   },
   {
    "duration": 134,
    "start_time": "2023-07-07T13:05:45.957Z"
   },
   {
    "duration": 290,
    "start_time": "2023-07-07T13:05:53.805Z"
   },
   {
    "duration": 280,
    "start_time": "2023-07-07T13:06:00.093Z"
   },
   {
    "duration": 300,
    "start_time": "2023-07-07T13:06:05.397Z"
   },
   {
    "duration": 301,
    "start_time": "2023-07-07T13:06:19.117Z"
   },
   {
    "duration": 817,
    "start_time": "2023-07-07T13:06:42.119Z"
   },
   {
    "duration": 33,
    "start_time": "2023-07-07T13:06:42.939Z"
   },
   {
    "duration": 32,
    "start_time": "2023-07-07T13:06:42.974Z"
   },
   {
    "duration": 2094,
    "start_time": "2023-07-07T13:06:43.009Z"
   },
   {
    "duration": 10,
    "start_time": "2023-07-07T13:06:45.105Z"
   },
   {
    "duration": 21,
    "start_time": "2023-07-07T13:06:45.116Z"
   },
   {
    "duration": 16,
    "start_time": "2023-07-07T13:06:45.139Z"
   },
   {
    "duration": 178,
    "start_time": "2023-07-07T13:06:45.156Z"
   },
   {
    "duration": 6,
    "start_time": "2023-07-07T13:06:45.336Z"
   },
   {
    "duration": 126,
    "start_time": "2023-07-07T13:06:45.345Z"
   },
   {
    "duration": 15,
    "start_time": "2023-07-07T13:06:45.473Z"
   },
   {
    "duration": 48,
    "start_time": "2023-07-07T13:06:45.490Z"
   },
   {
    "duration": 39,
    "start_time": "2023-07-07T13:06:45.540Z"
   },
   {
    "duration": 19,
    "start_time": "2023-07-07T13:06:45.580Z"
   },
   {
    "duration": 16,
    "start_time": "2023-07-07T13:06:45.601Z"
   },
   {
    "duration": 49,
    "start_time": "2023-07-07T13:06:45.619Z"
   },
   {
    "duration": 42,
    "start_time": "2023-07-07T13:06:45.670Z"
   },
   {
    "duration": 5,
    "start_time": "2023-07-07T13:06:45.714Z"
   },
   {
    "duration": 82,
    "start_time": "2023-07-07T13:06:45.721Z"
   },
   {
    "duration": 5,
    "start_time": "2023-07-07T13:06:45.805Z"
   },
   {
    "duration": 157,
    "start_time": "2023-07-07T13:06:45.812Z"
   },
   {
    "duration": 9,
    "start_time": "2023-07-07T13:06:45.971Z"
   },
   {
    "duration": 34,
    "start_time": "2023-07-07T13:06:45.981Z"
   },
   {
    "duration": 167,
    "start_time": "2023-07-07T13:06:46.016Z"
   },
   {
    "duration": 4,
    "start_time": "2023-07-07T13:06:46.185Z"
   },
   {
    "duration": 21,
    "start_time": "2023-07-07T13:06:46.201Z"
   },
   {
    "duration": 42,
    "start_time": "2023-07-07T13:06:46.223Z"
   },
   {
    "duration": 40,
    "start_time": "2023-07-07T13:06:46.270Z"
   },
   {
    "duration": 11,
    "start_time": "2023-07-07T13:06:46.311Z"
   },
   {
    "duration": 51,
    "start_time": "2023-07-07T13:06:46.323Z"
   },
   {
    "duration": 151,
    "start_time": "2023-07-07T13:06:46.376Z"
   },
   {
    "duration": 11,
    "start_time": "2023-07-07T13:06:46.529Z"
   },
   {
    "duration": 526,
    "start_time": "2023-07-07T13:06:46.541Z"
   },
   {
    "duration": 202,
    "start_time": "2023-07-07T13:06:47.069Z"
   },
   {
    "duration": 186,
    "start_time": "2023-07-07T13:06:47.273Z"
   },
   {
    "duration": 177,
    "start_time": "2023-07-07T13:06:47.461Z"
   },
   {
    "duration": 201,
    "start_time": "2023-07-07T13:06:47.640Z"
   },
   {
    "duration": 202,
    "start_time": "2023-07-07T13:06:47.842Z"
   },
   {
    "duration": 190,
    "start_time": "2023-07-07T13:06:48.045Z"
   },
   {
    "duration": 185,
    "start_time": "2023-07-07T13:06:48.237Z"
   },
   {
    "duration": 160,
    "start_time": "2023-07-07T13:06:48.424Z"
   },
   {
    "duration": 17,
    "start_time": "2023-07-07T13:06:48.585Z"
   },
   {
    "duration": 180,
    "start_time": "2023-07-07T13:06:48.604Z"
   },
   {
    "duration": 207,
    "start_time": "2023-07-07T13:06:48.786Z"
   },
   {
    "duration": 296,
    "start_time": "2023-07-07T13:06:48.995Z"
   },
   {
    "duration": 184,
    "start_time": "2023-07-07T13:06:49.293Z"
   },
   {
    "duration": 170,
    "start_time": "2023-07-07T13:06:49.478Z"
   },
   {
    "duration": 154,
    "start_time": "2023-07-07T13:06:49.650Z"
   },
   {
    "duration": 197,
    "start_time": "2023-07-07T13:06:49.806Z"
   },
   {
    "duration": 6,
    "start_time": "2023-07-07T13:06:50.005Z"
   },
   {
    "duration": 29,
    "start_time": "2023-07-07T13:06:50.013Z"
   },
   {
    "duration": 251,
    "start_time": "2023-07-07T13:06:50.043Z"
   },
   {
    "duration": 282,
    "start_time": "2023-07-07T13:06:50.296Z"
   },
   {
    "duration": 266,
    "start_time": "2023-07-07T13:06:50.580Z"
   },
   {
    "duration": 191,
    "start_time": "2023-07-07T13:06:50.848Z"
   },
   {
    "duration": 131,
    "start_time": "2023-07-07T13:06:51.041Z"
   },
   {
    "duration": 152,
    "start_time": "2023-07-07T13:06:51.173Z"
   },
   {
    "duration": 175,
    "start_time": "2023-07-07T13:06:51.327Z"
   },
   {
    "duration": 160,
    "start_time": "2023-07-07T13:06:51.504Z"
   },
   {
    "duration": 8,
    "start_time": "2023-07-07T13:06:51.666Z"
   },
   {
    "duration": 41,
    "start_time": "2023-07-07T13:06:51.675Z"
   },
   {
    "duration": 9,
    "start_time": "2023-07-07T13:06:51.718Z"
   },
   {
    "duration": 320,
    "start_time": "2023-07-07T13:06:51.729Z"
   },
   {
    "duration": 836,
    "start_time": "2023-07-07T14:09:39.994Z"
   },
   {
    "duration": 11,
    "start_time": "2023-07-07T14:09:40.833Z"
   },
   {
    "duration": 24,
    "start_time": "2023-07-07T14:09:40.845Z"
   },
   {
    "duration": 86,
    "start_time": "2023-07-07T14:09:40.871Z"
   },
   {
    "duration": 0,
    "start_time": "2023-07-07T14:09:40.960Z"
   },
   {
    "duration": 0,
    "start_time": "2023-07-07T14:09:40.962Z"
   },
   {
    "duration": 0,
    "start_time": "2023-07-07T14:09:40.963Z"
   },
   {
    "duration": 0,
    "start_time": "2023-07-07T14:09:40.968Z"
   },
   {
    "duration": 0,
    "start_time": "2023-07-07T14:09:40.970Z"
   },
   {
    "duration": 0,
    "start_time": "2023-07-07T14:09:40.971Z"
   },
   {
    "duration": 0,
    "start_time": "2023-07-07T14:09:40.972Z"
   },
   {
    "duration": 0,
    "start_time": "2023-07-07T14:09:40.973Z"
   },
   {
    "duration": 0,
    "start_time": "2023-07-07T14:09:40.974Z"
   },
   {
    "duration": 0,
    "start_time": "2023-07-07T14:09:40.975Z"
   },
   {
    "duration": 0,
    "start_time": "2023-07-07T14:09:40.976Z"
   },
   {
    "duration": 0,
    "start_time": "2023-07-07T14:09:40.977Z"
   },
   {
    "duration": 0,
    "start_time": "2023-07-07T14:09:40.978Z"
   },
   {
    "duration": 0,
    "start_time": "2023-07-07T14:09:40.979Z"
   },
   {
    "duration": 0,
    "start_time": "2023-07-07T14:09:40.980Z"
   },
   {
    "duration": 0,
    "start_time": "2023-07-07T14:09:40.981Z"
   },
   {
    "duration": 0,
    "start_time": "2023-07-07T14:09:40.982Z"
   },
   {
    "duration": 0,
    "start_time": "2023-07-07T14:09:40.983Z"
   },
   {
    "duration": 0,
    "start_time": "2023-07-07T14:09:40.984Z"
   },
   {
    "duration": 0,
    "start_time": "2023-07-07T14:09:40.985Z"
   },
   {
    "duration": 0,
    "start_time": "2023-07-07T14:09:40.986Z"
   },
   {
    "duration": 0,
    "start_time": "2023-07-07T14:09:40.987Z"
   },
   {
    "duration": 0,
    "start_time": "2023-07-07T14:09:40.988Z"
   },
   {
    "duration": 0,
    "start_time": "2023-07-07T14:09:40.989Z"
   },
   {
    "duration": 0,
    "start_time": "2023-07-07T14:09:40.990Z"
   },
   {
    "duration": 0,
    "start_time": "2023-07-07T14:09:40.991Z"
   },
   {
    "duration": 0,
    "start_time": "2023-07-07T14:09:40.992Z"
   },
   {
    "duration": 0,
    "start_time": "2023-07-07T14:09:40.993Z"
   },
   {
    "duration": 0,
    "start_time": "2023-07-07T14:09:40.994Z"
   },
   {
    "duration": 0,
    "start_time": "2023-07-07T14:09:40.995Z"
   },
   {
    "duration": 0,
    "start_time": "2023-07-07T14:09:40.995Z"
   },
   {
    "duration": 0,
    "start_time": "2023-07-07T14:09:40.996Z"
   },
   {
    "duration": 0,
    "start_time": "2023-07-07T14:09:40.997Z"
   },
   {
    "duration": 0,
    "start_time": "2023-07-07T14:09:40.998Z"
   },
   {
    "duration": 0,
    "start_time": "2023-07-07T14:09:40.999Z"
   },
   {
    "duration": 0,
    "start_time": "2023-07-07T14:09:41.000Z"
   },
   {
    "duration": 0,
    "start_time": "2023-07-07T14:09:41.001Z"
   },
   {
    "duration": 0,
    "start_time": "2023-07-07T14:09:41.002Z"
   },
   {
    "duration": 0,
    "start_time": "2023-07-07T14:09:41.003Z"
   },
   {
    "duration": 0,
    "start_time": "2023-07-07T14:09:41.004Z"
   },
   {
    "duration": 0,
    "start_time": "2023-07-07T14:09:41.005Z"
   },
   {
    "duration": 0,
    "start_time": "2023-07-07T14:09:41.069Z"
   },
   {
    "duration": 0,
    "start_time": "2023-07-07T14:09:41.071Z"
   },
   {
    "duration": 0,
    "start_time": "2023-07-07T14:09:41.072Z"
   },
   {
    "duration": 0,
    "start_time": "2023-07-07T14:09:41.074Z"
   },
   {
    "duration": 0,
    "start_time": "2023-07-07T14:09:41.075Z"
   },
   {
    "duration": 0,
    "start_time": "2023-07-07T14:09:41.076Z"
   },
   {
    "duration": 0,
    "start_time": "2023-07-07T14:09:41.078Z"
   },
   {
    "duration": 0,
    "start_time": "2023-07-07T14:09:41.079Z"
   },
   {
    "duration": 0,
    "start_time": "2023-07-07T14:09:41.080Z"
   },
   {
    "duration": 0,
    "start_time": "2023-07-07T14:09:41.082Z"
   },
   {
    "duration": 0,
    "start_time": "2023-07-07T14:09:41.083Z"
   },
   {
    "duration": 0,
    "start_time": "2023-07-07T14:09:41.084Z"
   },
   {
    "duration": 0,
    "start_time": "2023-07-07T14:09:41.085Z"
   },
   {
    "duration": 0,
    "start_time": "2023-07-07T14:09:41.086Z"
   },
   {
    "duration": 0,
    "start_time": "2023-07-07T14:09:41.087Z"
   },
   {
    "duration": 0,
    "start_time": "2023-07-07T14:09:41.088Z"
   },
   {
    "duration": 0,
    "start_time": "2023-07-07T14:09:41.089Z"
   },
   {
    "duration": 0,
    "start_time": "2023-07-07T14:09:41.090Z"
   },
   {
    "duration": 832,
    "start_time": "2023-07-07T14:10:01.562Z"
   },
   {
    "duration": 40,
    "start_time": "2023-07-07T14:10:02.397Z"
   },
   {
    "duration": 35,
    "start_time": "2023-07-07T14:10:02.440Z"
   },
   {
    "duration": 2032,
    "start_time": "2023-07-07T14:10:02.478Z"
   },
   {
    "duration": 9,
    "start_time": "2023-07-07T14:10:04.513Z"
   },
   {
    "duration": 19,
    "start_time": "2023-07-07T14:10:04.524Z"
   },
   {
    "duration": 4,
    "start_time": "2023-07-07T14:10:04.545Z"
   },
   {
    "duration": 176,
    "start_time": "2023-07-07T14:10:04.551Z"
   },
   {
    "duration": 5,
    "start_time": "2023-07-07T14:10:04.729Z"
   },
   {
    "duration": 125,
    "start_time": "2023-07-07T14:10:04.736Z"
   },
   {
    "duration": 17,
    "start_time": "2023-07-07T14:10:04.863Z"
   },
   {
    "duration": 5,
    "start_time": "2023-07-07T14:10:04.881Z"
   },
   {
    "duration": 17,
    "start_time": "2023-07-07T14:10:04.887Z"
   },
   {
    "duration": 15,
    "start_time": "2023-07-07T14:10:04.907Z"
   },
   {
    "duration": 11,
    "start_time": "2023-07-07T14:10:04.924Z"
   },
   {
    "duration": 59,
    "start_time": "2023-07-07T14:10:04.936Z"
   },
   {
    "duration": 24,
    "start_time": "2023-07-07T14:10:04.998Z"
   },
   {
    "duration": 5,
    "start_time": "2023-07-07T14:10:05.024Z"
   },
   {
    "duration": 84,
    "start_time": "2023-07-07T14:10:05.030Z"
   },
   {
    "duration": 11,
    "start_time": "2023-07-07T14:10:05.116Z"
   },
   {
    "duration": 153,
    "start_time": "2023-07-07T14:10:05.129Z"
   },
   {
    "duration": 9,
    "start_time": "2023-07-07T14:10:05.284Z"
   },
   {
    "duration": 32,
    "start_time": "2023-07-07T14:10:05.295Z"
   },
   {
    "duration": 168,
    "start_time": "2023-07-07T14:10:05.329Z"
   },
   {
    "duration": 5,
    "start_time": "2023-07-07T14:10:05.499Z"
   },
   {
    "duration": 19,
    "start_time": "2023-07-07T14:10:05.507Z"
   },
   {
    "duration": 25,
    "start_time": "2023-07-07T14:10:05.528Z"
   },
   {
    "duration": 35,
    "start_time": "2023-07-07T14:10:05.555Z"
   },
   {
    "duration": 5,
    "start_time": "2023-07-07T14:10:05.592Z"
   },
   {
    "duration": 48,
    "start_time": "2023-07-07T14:10:05.599Z"
   },
   {
    "duration": 139,
    "start_time": "2023-07-07T14:10:05.649Z"
   },
   {
    "duration": 12,
    "start_time": "2023-07-07T14:10:05.791Z"
   },
   {
    "duration": 489,
    "start_time": "2023-07-07T14:10:05.805Z"
   },
   {
    "duration": 192,
    "start_time": "2023-07-07T14:10:06.296Z"
   },
   {
    "duration": 190,
    "start_time": "2023-07-07T14:10:06.490Z"
   },
   {
    "duration": 219,
    "start_time": "2023-07-07T14:10:06.682Z"
   },
   {
    "duration": 248,
    "start_time": "2023-07-07T14:10:06.903Z"
   },
   {
    "duration": 232,
    "start_time": "2023-07-07T14:10:07.153Z"
   },
   {
    "duration": 194,
    "start_time": "2023-07-07T14:10:07.387Z"
   },
   {
    "duration": 190,
    "start_time": "2023-07-07T14:10:07.583Z"
   },
   {
    "duration": 149,
    "start_time": "2023-07-07T14:10:07.778Z"
   },
   {
    "duration": 10,
    "start_time": "2023-07-07T14:10:07.929Z"
   },
   {
    "duration": 191,
    "start_time": "2023-07-07T14:10:07.940Z"
   },
   {
    "duration": 201,
    "start_time": "2023-07-07T14:10:08.133Z"
   },
   {
    "duration": 286,
    "start_time": "2023-07-07T14:10:08.335Z"
   },
   {
    "duration": 203,
    "start_time": "2023-07-07T14:10:08.624Z"
   },
   {
    "duration": 157,
    "start_time": "2023-07-07T14:10:08.829Z"
   },
   {
    "duration": 158,
    "start_time": "2023-07-07T14:10:08.988Z"
   },
   {
    "duration": 185,
    "start_time": "2023-07-07T14:10:09.148Z"
   },
   {
    "duration": 6,
    "start_time": "2023-07-07T14:10:09.335Z"
   },
   {
    "duration": 37,
    "start_time": "2023-07-07T14:10:09.342Z"
   },
   {
    "duration": 259,
    "start_time": "2023-07-07T14:10:09.381Z"
   },
   {
    "duration": 240,
    "start_time": "2023-07-07T14:10:09.642Z"
   },
   {
    "duration": 278,
    "start_time": "2023-07-07T14:10:09.884Z"
   },
   {
    "duration": 186,
    "start_time": "2023-07-07T14:10:10.171Z"
   },
   {
    "duration": 133,
    "start_time": "2023-07-07T14:10:10.359Z"
   },
   {
    "duration": 135,
    "start_time": "2023-07-07T14:10:10.493Z"
   },
   {
    "duration": 164,
    "start_time": "2023-07-07T14:10:10.629Z"
   },
   {
    "duration": 132,
    "start_time": "2023-07-07T14:10:10.795Z"
   },
   {
    "duration": 6,
    "start_time": "2023-07-07T14:10:10.928Z"
   },
   {
    "duration": 40,
    "start_time": "2023-07-07T14:10:10.936Z"
   },
   {
    "duration": 8,
    "start_time": "2023-07-07T14:10:10.977Z"
   },
   {
    "duration": 308,
    "start_time": "2023-07-07T14:10:10.987Z"
   },
   {
    "duration": 14,
    "start_time": "2023-07-07T14:14:10.551Z"
   },
   {
    "duration": 275,
    "start_time": "2023-07-07T14:14:13.838Z"
   },
   {
    "duration": 267,
    "start_time": "2023-07-07T14:14:33.823Z"
   },
   {
    "duration": 109,
    "start_time": "2023-07-07T14:14:38.857Z"
   },
   {
    "duration": 8,
    "start_time": "2023-07-07T14:14:46.674Z"
   },
   {
    "duration": 1248,
    "start_time": "2023-07-08T08:30:55.123Z"
   },
   {
    "duration": 375,
    "start_time": "2023-07-08T08:30:57.243Z"
   },
   {
    "duration": 39,
    "start_time": "2023-07-08T08:31:00.991Z"
   },
   {
    "duration": 17,
    "start_time": "2023-07-08T08:32:22.813Z"
   },
   {
    "duration": 2257,
    "start_time": "2023-07-08T08:32:25.926Z"
   },
   {
    "duration": 4,
    "start_time": "2023-07-08T08:36:54.048Z"
   },
   {
    "duration": 148,
    "start_time": "2023-07-08T08:36:54.055Z"
   },
   {
    "duration": 37,
    "start_time": "2023-07-08T08:36:54.206Z"
   },
   {
    "duration": 60,
    "start_time": "2023-07-08T08:36:54.244Z"
   },
   {
    "duration": 2989,
    "start_time": "2023-07-08T08:36:54.308Z"
   },
   {
    "duration": 24,
    "start_time": "2023-07-08T08:36:57.299Z"
   },
   {
    "duration": 92,
    "start_time": "2023-07-08T08:36:57.325Z"
   },
   {
    "duration": 73,
    "start_time": "2023-07-08T08:36:57.420Z"
   },
   {
    "duration": 281,
    "start_time": "2023-07-08T08:36:57.495Z"
   },
   {
    "duration": 7,
    "start_time": "2023-07-08T08:36:57.778Z"
   },
   {
    "duration": 168,
    "start_time": "2023-07-08T08:36:57.787Z"
   },
   {
    "duration": 23,
    "start_time": "2023-07-08T08:36:57.957Z"
   },
   {
    "duration": 27,
    "start_time": "2023-07-08T08:36:57.984Z"
   },
   {
    "duration": 62,
    "start_time": "2023-07-08T08:36:58.014Z"
   },
   {
    "duration": 9,
    "start_time": "2023-07-08T08:37:07.265Z"
   },
   {
    "duration": 13,
    "start_time": "2023-07-08T08:38:01.039Z"
   },
   {
    "duration": 38,
    "start_time": "2023-07-08T08:38:02.197Z"
   },
   {
    "duration": 26,
    "start_time": "2023-07-08T08:38:18.231Z"
   },
   {
    "duration": 6,
    "start_time": "2023-07-08T08:38:30.999Z"
   },
   {
    "duration": 4,
    "start_time": "2023-07-08T08:42:18.632Z"
   },
   {
    "duration": 76,
    "start_time": "2023-07-08T08:42:43.369Z"
   },
   {
    "duration": 9,
    "start_time": "2023-07-08T08:42:49.927Z"
   },
   {
    "duration": 6,
    "start_time": "2023-07-08T08:42:53.698Z"
   },
   {
    "duration": 71,
    "start_time": "2023-07-08T08:43:25.428Z"
   },
   {
    "duration": 6,
    "start_time": "2023-07-08T08:43:26.683Z"
   },
   {
    "duration": 126,
    "start_time": "2023-07-08T08:45:51.253Z"
   },
   {
    "duration": 156,
    "start_time": "2023-07-08T08:46:35.223Z"
   },
   {
    "duration": 188,
    "start_time": "2023-07-08T08:46:59.528Z"
   },
   {
    "duration": 289,
    "start_time": "2023-07-08T08:47:09.457Z"
   },
   {
    "duration": 168,
    "start_time": "2023-07-08T08:48:51.356Z"
   },
   {
    "duration": 162,
    "start_time": "2023-07-08T08:57:55.333Z"
   },
   {
    "duration": 11,
    "start_time": "2023-07-08T08:58:08.123Z"
   },
   {
    "duration": 119,
    "start_time": "2023-07-08T08:58:18.791Z"
   },
   {
    "duration": 134,
    "start_time": "2023-07-08T08:58:43.125Z"
   },
   {
    "duration": 146,
    "start_time": "2023-07-08T08:58:49.350Z"
   },
   {
    "duration": 9,
    "start_time": "2023-07-08T09:00:29.601Z"
   },
   {
    "duration": 181,
    "start_time": "2023-07-08T09:00:42.928Z"
   },
   {
    "duration": 9,
    "start_time": "2023-07-08T09:01:57.691Z"
   },
   {
    "duration": 171,
    "start_time": "2023-07-08T09:02:03.440Z"
   },
   {
    "duration": 11,
    "start_time": "2023-07-08T09:02:37.372Z"
   },
   {
    "duration": 188,
    "start_time": "2023-07-08T09:02:38.707Z"
   },
   {
    "duration": 191,
    "start_time": "2023-07-08T09:03:30.565Z"
   },
   {
    "duration": 217,
    "start_time": "2023-07-08T09:05:09.301Z"
   },
   {
    "duration": 3,
    "start_time": "2023-07-08T09:05:14.541Z"
   },
   {
    "duration": 124,
    "start_time": "2023-07-08T09:05:14.547Z"
   },
   {
    "duration": 24,
    "start_time": "2023-07-08T09:05:14.673Z"
   },
   {
    "duration": 16,
    "start_time": "2023-07-08T09:05:14.710Z"
   },
   {
    "duration": 2259,
    "start_time": "2023-07-08T09:05:14.728Z"
   },
   {
    "duration": 20,
    "start_time": "2023-07-08T09:05:16.989Z"
   },
   {
    "duration": 12,
    "start_time": "2023-07-08T09:05:17.011Z"
   },
   {
    "duration": 4,
    "start_time": "2023-07-08T09:05:17.025Z"
   },
   {
    "duration": 186,
    "start_time": "2023-07-08T09:05:17.032Z"
   },
   {
    "duration": 5,
    "start_time": "2023-07-08T09:05:17.220Z"
   },
   {
    "duration": 133,
    "start_time": "2023-07-08T09:05:17.227Z"
   },
   {
    "duration": 15,
    "start_time": "2023-07-08T09:05:17.362Z"
   },
   {
    "duration": 43,
    "start_time": "2023-07-08T09:05:17.379Z"
   },
   {
    "duration": 71,
    "start_time": "2023-07-08T09:05:17.424Z"
   },
   {
    "duration": 14,
    "start_time": "2023-07-08T09:05:17.497Z"
   },
   {
    "duration": 32,
    "start_time": "2023-07-08T09:05:17.512Z"
   },
   {
    "duration": 61,
    "start_time": "2023-07-08T09:05:17.546Z"
   },
   {
    "duration": 30,
    "start_time": "2023-07-08T09:05:17.609Z"
   },
   {
    "duration": 49,
    "start_time": "2023-07-08T09:05:17.641Z"
   },
   {
    "duration": 85,
    "start_time": "2023-07-08T09:05:17.692Z"
   },
   {
    "duration": 6,
    "start_time": "2023-07-08T09:05:17.779Z"
   },
   {
    "duration": 198,
    "start_time": "2023-07-08T09:05:17.787Z"
   },
   {
    "duration": 10,
    "start_time": "2023-07-08T09:05:17.987Z"
   },
   {
    "duration": 78,
    "start_time": "2023-07-08T09:05:18.008Z"
   },
   {
    "duration": 300,
    "start_time": "2023-07-08T09:05:18.088Z"
   },
   {
    "duration": 4,
    "start_time": "2023-07-08T09:05:18.390Z"
   },
   {
    "duration": 22,
    "start_time": "2023-07-08T09:05:18.396Z"
   },
   {
    "duration": 8,
    "start_time": "2023-07-08T09:05:18.419Z"
   },
   {
    "duration": 31,
    "start_time": "2023-07-08T09:05:18.428Z"
   },
   {
    "duration": 5,
    "start_time": "2023-07-08T09:05:18.461Z"
   },
   {
    "duration": 48,
    "start_time": "2023-07-08T09:05:18.468Z"
   },
   {
    "duration": 158,
    "start_time": "2023-07-08T09:05:18.517Z"
   },
   {
    "duration": 10,
    "start_time": "2023-07-08T09:05:18.677Z"
   },
   {
    "duration": 200,
    "start_time": "2023-07-08T09:05:18.688Z"
   },
   {
    "duration": 9,
    "start_time": "2023-07-08T09:05:18.890Z"
   },
   {
    "duration": 183,
    "start_time": "2023-07-08T09:05:18.910Z"
   },
   {
    "duration": 235,
    "start_time": "2023-07-08T09:05:19.095Z"
   },
   {
    "duration": 445,
    "start_time": "2023-07-08T09:05:19.332Z"
   },
   {
    "duration": 222,
    "start_time": "2023-07-08T09:05:19.778Z"
   },
   {
    "duration": 193,
    "start_time": "2023-07-08T09:05:20.003Z"
   },
   {
    "duration": 184,
    "start_time": "2023-07-08T09:05:20.198Z"
   },
   {
    "duration": 314,
    "start_time": "2023-07-08T09:05:20.384Z"
   },
   {
    "duration": 218,
    "start_time": "2023-07-08T09:05:20.699Z"
   },
   {
    "duration": 206,
    "start_time": "2023-07-08T09:05:20.918Z"
   },
   {
    "duration": 190,
    "start_time": "2023-07-08T09:05:21.126Z"
   },
   {
    "duration": 159,
    "start_time": "2023-07-08T09:05:21.318Z"
   },
   {
    "duration": 8,
    "start_time": "2023-07-08T09:05:21.479Z"
   },
   {
    "duration": 197,
    "start_time": "2023-07-08T09:05:21.489Z"
   },
   {
    "duration": 207,
    "start_time": "2023-07-08T09:05:21.688Z"
   },
   {
    "duration": 194,
    "start_time": "2023-07-08T09:05:21.897Z"
   },
   {
    "duration": 188,
    "start_time": "2023-07-08T09:05:22.093Z"
   },
   {
    "duration": 171,
    "start_time": "2023-07-08T09:05:22.283Z"
   },
   {
    "duration": 158,
    "start_time": "2023-07-08T09:05:22.455Z"
   },
   {
    "duration": 117,
    "start_time": "2023-07-08T09:06:19.643Z"
   },
   {
    "duration": 375,
    "start_time": "2023-07-08T09:06:25.702Z"
   },
   {
    "duration": 154,
    "start_time": "2023-07-08T09:06:44.020Z"
   },
   {
    "duration": 183,
    "start_time": "2023-07-08T09:07:41.172Z"
   },
   {
    "duration": 173,
    "start_time": "2023-07-08T09:08:00.962Z"
   },
   {
    "duration": 271,
    "start_time": "2023-07-08T09:08:11.963Z"
   },
   {
    "duration": 203,
    "start_time": "2023-07-08T09:08:22.117Z"
   },
   {
    "duration": 175,
    "start_time": "2023-07-08T09:11:04.936Z"
   },
   {
    "duration": 19,
    "start_time": "2023-07-08T09:20:54.254Z"
   },
   {
    "duration": 28,
    "start_time": "2023-07-08T09:23:22.920Z"
   },
   {
    "duration": 34,
    "start_time": "2023-07-08T09:23:29.698Z"
   },
   {
    "duration": 233,
    "start_time": "2023-07-08T09:24:03.574Z"
   },
   {
    "duration": 208,
    "start_time": "2023-07-08T09:24:26.319Z"
   },
   {
    "duration": 23,
    "start_time": "2023-07-08T09:24:47.643Z"
   },
   {
    "duration": 38,
    "start_time": "2023-07-08T09:24:51.599Z"
   },
   {
    "duration": 24,
    "start_time": "2023-07-08T09:25:10.738Z"
   },
   {
    "duration": 1346,
    "start_time": "2023-07-08T09:25:23.302Z"
   },
   {
    "duration": 5,
    "start_time": "2023-07-08T09:25:38.352Z"
   },
   {
    "duration": 13,
    "start_time": "2023-07-08T09:25:50.551Z"
   },
   {
    "duration": 205,
    "start_time": "2023-07-08T09:26:04.892Z"
   },
   {
    "duration": 181,
    "start_time": "2023-07-08T09:26:38.082Z"
   },
   {
    "duration": 33,
    "start_time": "2023-07-08T09:26:55.911Z"
   },
   {
    "duration": 25,
    "start_time": "2023-07-08T09:27:34.671Z"
   },
   {
    "duration": 12,
    "start_time": "2023-07-08T09:27:50.327Z"
   },
   {
    "duration": 12,
    "start_time": "2023-07-08T09:28:04.705Z"
   },
   {
    "duration": 6581,
    "start_time": "2023-07-08T09:28:19.379Z"
   },
   {
    "duration": 239,
    "start_time": "2023-07-08T09:28:42.146Z"
   },
   {
    "duration": 10,
    "start_time": "2023-07-08T09:29:33.719Z"
   },
   {
    "duration": 15,
    "start_time": "2023-07-08T09:29:49.906Z"
   },
   {
    "duration": 365,
    "start_time": "2023-07-08T09:36:45.859Z"
   },
   {
    "duration": 671,
    "start_time": "2023-07-08T09:37:25.419Z"
   },
   {
    "duration": 217,
    "start_time": "2023-07-08T09:37:33.904Z"
   },
   {
    "duration": 762,
    "start_time": "2023-07-08T09:37:44.404Z"
   },
   {
    "duration": 101,
    "start_time": "2023-07-08T09:37:45.168Z"
   },
   {
    "duration": 27,
    "start_time": "2023-07-08T09:37:45.271Z"
   },
   {
    "duration": 34,
    "start_time": "2023-07-08T09:37:45.300Z"
   },
   {
    "duration": 2385,
    "start_time": "2023-07-08T09:37:45.338Z"
   },
   {
    "duration": 10,
    "start_time": "2023-07-08T09:37:47.725Z"
   },
   {
    "duration": 22,
    "start_time": "2023-07-08T09:37:47.737Z"
   },
   {
    "duration": 23,
    "start_time": "2023-07-08T09:37:47.761Z"
   },
   {
    "duration": 227,
    "start_time": "2023-07-08T09:37:47.786Z"
   },
   {
    "duration": 7,
    "start_time": "2023-07-08T09:37:48.015Z"
   },
   {
    "duration": 146,
    "start_time": "2023-07-08T09:37:48.024Z"
   },
   {
    "duration": 15,
    "start_time": "2023-07-08T09:37:48.173Z"
   },
   {
    "duration": 52,
    "start_time": "2023-07-08T09:37:48.191Z"
   },
   {
    "duration": 35,
    "start_time": "2023-07-08T09:37:48.247Z"
   },
   {
    "duration": 15,
    "start_time": "2023-07-08T09:37:48.284Z"
   },
   {
    "duration": 26,
    "start_time": "2023-07-08T09:37:48.300Z"
   },
   {
    "duration": 52,
    "start_time": "2023-07-08T09:37:48.327Z"
   },
   {
    "duration": 25,
    "start_time": "2023-07-08T09:37:48.381Z"
   },
   {
    "duration": 11,
    "start_time": "2023-07-08T09:37:48.409Z"
   },
   {
    "duration": 85,
    "start_time": "2023-07-08T09:37:48.422Z"
   },
   {
    "duration": 28,
    "start_time": "2023-07-08T09:37:48.509Z"
   },
   {
    "duration": 178,
    "start_time": "2023-07-08T09:37:48.539Z"
   },
   {
    "duration": 10,
    "start_time": "2023-07-08T09:37:48.721Z"
   },
   {
    "duration": 28,
    "start_time": "2023-07-08T09:37:48.733Z"
   },
   {
    "duration": 201,
    "start_time": "2023-07-08T09:37:48.763Z"
   },
   {
    "duration": 5,
    "start_time": "2023-07-08T09:37:48.967Z"
   },
   {
    "duration": 46,
    "start_time": "2023-07-08T09:37:48.973Z"
   },
   {
    "duration": 13,
    "start_time": "2023-07-08T09:37:49.025Z"
   },
   {
    "duration": 33,
    "start_time": "2023-07-08T09:37:49.040Z"
   },
   {
    "duration": 20,
    "start_time": "2023-07-08T09:37:49.075Z"
   },
   {
    "duration": 84,
    "start_time": "2023-07-08T09:37:49.097Z"
   },
   {
    "duration": 186,
    "start_time": "2023-07-08T09:37:49.183Z"
   },
   {
    "duration": 12,
    "start_time": "2023-07-08T09:37:49.371Z"
   },
   {
    "duration": 297,
    "start_time": "2023-07-08T09:37:49.386Z"
   },
   {
    "duration": 10,
    "start_time": "2023-07-08T09:37:49.686Z"
   },
   {
    "duration": 223,
    "start_time": "2023-07-08T09:37:49.698Z"
   },
   {
    "duration": 410,
    "start_time": "2023-07-08T09:37:49.924Z"
   },
   {
    "duration": 447,
    "start_time": "2023-07-08T09:37:50.336Z"
   },
   {
    "duration": 240,
    "start_time": "2023-07-08T09:37:50.786Z"
   },
   {
    "duration": 211,
    "start_time": "2023-07-08T09:37:51.027Z"
   },
   {
    "duration": 215,
    "start_time": "2023-07-08T09:37:51.242Z"
   },
   {
    "duration": 213,
    "start_time": "2023-07-08T09:37:51.459Z"
   },
   {
    "duration": 251,
    "start_time": "2023-07-08T09:37:51.674Z"
   },
   {
    "duration": 204,
    "start_time": "2023-07-08T09:37:51.928Z"
   },
   {
    "duration": 196,
    "start_time": "2023-07-08T09:37:52.134Z"
   },
   {
    "duration": 256,
    "start_time": "2023-07-08T09:37:52.332Z"
   },
   {
    "duration": 8,
    "start_time": "2023-07-08T09:37:52.589Z"
   },
   {
    "duration": 223,
    "start_time": "2023-07-08T09:37:52.599Z"
   },
   {
    "duration": 211,
    "start_time": "2023-07-08T09:37:52.824Z"
   },
   {
    "duration": 194,
    "start_time": "2023-07-08T09:37:53.037Z"
   },
   {
    "duration": 198,
    "start_time": "2023-07-08T09:37:53.233Z"
   },
   {
    "duration": 188,
    "start_time": "2023-07-08T09:37:53.433Z"
   },
   {
    "duration": 157,
    "start_time": "2023-07-08T09:37:53.622Z"
   },
   {
    "duration": 218,
    "start_time": "2023-07-08T09:37:53.781Z"
   },
   {
    "duration": 171,
    "start_time": "2023-07-08T09:37:54.001Z"
   },
   {
    "duration": 6,
    "start_time": "2023-07-08T09:37:54.174Z"
   },
   {
    "duration": 42,
    "start_time": "2023-07-08T09:37:54.181Z"
   },
   {
    "duration": 249,
    "start_time": "2023-07-08T09:37:54.225Z"
   },
   {
    "duration": 271,
    "start_time": "2023-07-08T09:37:54.476Z"
   },
   {
    "duration": 349,
    "start_time": "2023-07-08T09:37:54.749Z"
   },
   {
    "duration": 227,
    "start_time": "2023-07-08T09:37:55.100Z"
   },
   {
    "duration": 132,
    "start_time": "2023-07-08T09:37:55.329Z"
   },
   {
    "duration": 163,
    "start_time": "2023-07-08T09:37:55.462Z"
   },
   {
    "duration": 196,
    "start_time": "2023-07-08T09:37:55.628Z"
   },
   {
    "duration": 199,
    "start_time": "2023-07-08T09:37:55.826Z"
   },
   {
    "duration": 9,
    "start_time": "2023-07-08T09:37:56.027Z"
   },
   {
    "duration": 66,
    "start_time": "2023-07-08T09:37:56.038Z"
   },
   {
    "duration": 18,
    "start_time": "2023-07-08T09:37:56.106Z"
   },
   {
    "duration": 216,
    "start_time": "2023-07-08T09:37:56.130Z"
   },
   {
    "duration": 315,
    "start_time": "2023-07-08T09:37:56.349Z"
   },
   {
    "duration": 9,
    "start_time": "2023-07-08T09:43:17.332Z"
   },
   {
    "duration": 193,
    "start_time": "2023-07-08T09:43:26.806Z"
   },
   {
    "duration": 216,
    "start_time": "2023-07-08T09:43:54.979Z"
   },
   {
    "duration": 197,
    "start_time": "2023-07-08T09:44:01.587Z"
   },
   {
    "duration": 231,
    "start_time": "2023-07-08T09:44:08.825Z"
   },
   {
    "duration": 709,
    "start_time": "2023-07-08T09:44:32.430Z"
   },
   {
    "duration": 105,
    "start_time": "2023-07-08T09:44:33.141Z"
   },
   {
    "duration": 27,
    "start_time": "2023-07-08T09:44:33.248Z"
   },
   {
    "duration": 36,
    "start_time": "2023-07-08T09:44:33.277Z"
   },
   {
    "duration": 2187,
    "start_time": "2023-07-08T09:44:33.316Z"
   },
   {
    "duration": 16,
    "start_time": "2023-07-08T09:44:35.505Z"
   },
   {
    "duration": 32,
    "start_time": "2023-07-08T09:44:35.523Z"
   },
   {
    "duration": 6,
    "start_time": "2023-07-08T09:44:35.557Z"
   },
   {
    "duration": 211,
    "start_time": "2023-07-08T09:44:35.565Z"
   },
   {
    "duration": 8,
    "start_time": "2023-07-08T09:44:35.778Z"
   },
   {
    "duration": 153,
    "start_time": "2023-07-08T09:44:35.790Z"
   },
   {
    "duration": 21,
    "start_time": "2023-07-08T09:44:35.945Z"
   },
   {
    "duration": 21,
    "start_time": "2023-07-08T09:44:35.968Z"
   },
   {
    "duration": 58,
    "start_time": "2023-07-08T09:44:35.993Z"
   },
   {
    "duration": 15,
    "start_time": "2023-07-08T09:44:36.053Z"
   },
   {
    "duration": 10,
    "start_time": "2023-07-08T09:44:36.070Z"
   },
   {
    "duration": 44,
    "start_time": "2023-07-08T09:44:36.082Z"
   },
   {
    "duration": 27,
    "start_time": "2023-07-08T09:44:36.129Z"
   },
   {
    "duration": 7,
    "start_time": "2023-07-08T09:44:36.158Z"
   },
   {
    "duration": 90,
    "start_time": "2023-07-08T09:44:36.167Z"
   },
   {
    "duration": 8,
    "start_time": "2023-07-08T09:44:36.259Z"
   },
   {
    "duration": 176,
    "start_time": "2023-07-08T09:44:36.269Z"
   },
   {
    "duration": 10,
    "start_time": "2023-07-08T09:44:36.448Z"
   },
   {
    "duration": 56,
    "start_time": "2023-07-08T09:44:36.460Z"
   },
   {
    "duration": 173,
    "start_time": "2023-07-08T09:44:36.522Z"
   },
   {
    "duration": 4,
    "start_time": "2023-07-08T09:44:36.697Z"
   },
   {
    "duration": 45,
    "start_time": "2023-07-08T09:44:36.711Z"
   },
   {
    "duration": 96,
    "start_time": "2023-07-08T09:44:36.758Z"
   },
   {
    "duration": 36,
    "start_time": "2023-07-08T09:44:36.856Z"
   },
   {
    "duration": 30,
    "start_time": "2023-07-08T09:44:36.893Z"
   },
   {
    "duration": 26,
    "start_time": "2023-07-08T09:44:36.925Z"
   },
   {
    "duration": 164,
    "start_time": "2023-07-08T09:44:36.953Z"
   },
   {
    "duration": 10,
    "start_time": "2023-07-08T09:44:37.123Z"
   },
   {
    "duration": 191,
    "start_time": "2023-07-08T09:44:37.135Z"
   },
   {
    "duration": 11,
    "start_time": "2023-07-08T09:44:37.328Z"
   },
   {
    "duration": 200,
    "start_time": "2023-07-08T09:44:37.341Z"
   },
   {
    "duration": 390,
    "start_time": "2023-07-08T09:44:37.543Z"
   },
   {
    "duration": 422,
    "start_time": "2023-07-08T09:44:37.934Z"
   },
   {
    "duration": 216,
    "start_time": "2023-07-08T09:44:38.358Z"
   },
   {
    "duration": 204,
    "start_time": "2023-07-08T09:44:38.576Z"
   },
   {
    "duration": 196,
    "start_time": "2023-07-08T09:44:38.785Z"
   },
   {
    "duration": 217,
    "start_time": "2023-07-08T09:44:38.983Z"
   },
   {
    "duration": 238,
    "start_time": "2023-07-08T09:44:39.202Z"
   },
   {
    "duration": 225,
    "start_time": "2023-07-08T09:44:39.442Z"
   },
   {
    "duration": 201,
    "start_time": "2023-07-08T09:44:39.669Z"
   },
   {
    "duration": 286,
    "start_time": "2023-07-08T09:44:39.872Z"
   },
   {
    "duration": 8,
    "start_time": "2023-07-08T09:44:40.160Z"
   },
   {
    "duration": 212,
    "start_time": "2023-07-08T09:44:40.170Z"
   },
   {
    "duration": 216,
    "start_time": "2023-07-08T09:44:40.384Z"
   },
   {
    "duration": 189,
    "start_time": "2023-07-08T09:44:40.602Z"
   },
   {
    "duration": 202,
    "start_time": "2023-07-08T09:44:40.793Z"
   },
   {
    "duration": 176,
    "start_time": "2023-07-08T09:44:40.997Z"
   },
   {
    "duration": 164,
    "start_time": "2023-07-08T09:44:41.175Z"
   },
   {
    "duration": 209,
    "start_time": "2023-07-08T09:44:41.341Z"
   },
   {
    "duration": 183,
    "start_time": "2023-07-08T09:44:41.552Z"
   },
   {
    "duration": 7,
    "start_time": "2023-07-08T09:44:41.736Z"
   },
   {
    "duration": 35,
    "start_time": "2023-07-08T09:44:41.744Z"
   },
   {
    "duration": 276,
    "start_time": "2023-07-08T09:44:41.781Z"
   },
   {
    "duration": 265,
    "start_time": "2023-07-08T09:44:42.058Z"
   },
   {
    "duration": 350,
    "start_time": "2023-07-08T09:44:42.325Z"
   },
   {
    "duration": 200,
    "start_time": "2023-07-08T09:44:42.677Z"
   },
   {
    "duration": 149,
    "start_time": "2023-07-08T09:44:42.879Z"
   },
   {
    "duration": 160,
    "start_time": "2023-07-08T09:44:43.029Z"
   },
   {
    "duration": 187,
    "start_time": "2023-07-08T09:44:43.191Z"
   },
   {
    "duration": 159,
    "start_time": "2023-07-08T09:44:43.380Z"
   },
   {
    "duration": 7,
    "start_time": "2023-07-08T09:44:43.540Z"
   },
   {
    "duration": 31,
    "start_time": "2023-07-08T09:44:43.549Z"
   },
   {
    "duration": 38,
    "start_time": "2023-07-08T09:44:43.582Z"
   },
   {
    "duration": 204,
    "start_time": "2023-07-08T09:44:43.623Z"
   },
   {
    "duration": 326,
    "start_time": "2023-07-08T09:44:43.829Z"
   },
   {
    "duration": 1136,
    "start_time": "2023-07-08T14:09:48.574Z"
   },
   {
    "duration": 216,
    "start_time": "2023-07-08T14:09:49.767Z"
   },
   {
    "duration": 28,
    "start_time": "2023-07-08T14:09:49.985Z"
   },
   {
    "duration": 71,
    "start_time": "2023-07-08T14:09:50.015Z"
   },
   {
    "duration": 2153,
    "start_time": "2023-07-08T14:09:50.089Z"
   },
   {
    "duration": 10,
    "start_time": "2023-07-08T14:09:52.244Z"
   },
   {
    "duration": 20,
    "start_time": "2023-07-08T14:09:52.256Z"
   },
   {
    "duration": 4,
    "start_time": "2023-07-08T14:09:52.278Z"
   },
   {
    "duration": 175,
    "start_time": "2023-07-08T14:09:52.284Z"
   },
   {
    "duration": 11,
    "start_time": "2023-07-08T14:09:52.460Z"
   },
   {
    "duration": 131,
    "start_time": "2023-07-08T14:09:52.473Z"
   },
   {
    "duration": 15,
    "start_time": "2023-07-08T14:09:52.605Z"
   },
   {
    "duration": 22,
    "start_time": "2023-07-08T14:09:52.622Z"
   },
   {
    "duration": 25,
    "start_time": "2023-07-08T14:09:52.649Z"
   },
   {
    "duration": 13,
    "start_time": "2023-07-08T14:09:52.677Z"
   },
   {
    "duration": 12,
    "start_time": "2023-07-08T14:09:52.692Z"
   },
   {
    "duration": 50,
    "start_time": "2023-07-08T14:09:52.706Z"
   },
   {
    "duration": 29,
    "start_time": "2023-07-08T14:09:52.758Z"
   },
   {
    "duration": 9,
    "start_time": "2023-07-08T14:09:52.789Z"
   },
   {
    "duration": 71,
    "start_time": "2023-07-08T14:09:52.800Z"
   },
   {
    "duration": 6,
    "start_time": "2023-07-08T14:09:52.872Z"
   },
   {
    "duration": 143,
    "start_time": "2023-07-08T14:09:52.879Z"
   },
   {
    "duration": 8,
    "start_time": "2023-07-08T14:09:53.024Z"
   },
   {
    "duration": 55,
    "start_time": "2023-07-08T14:09:53.033Z"
   },
   {
    "duration": 152,
    "start_time": "2023-07-08T14:09:53.090Z"
   },
   {
    "duration": 7,
    "start_time": "2023-07-08T14:09:53.244Z"
   },
   {
    "duration": 18,
    "start_time": "2023-07-08T14:09:53.253Z"
   },
   {
    "duration": 15,
    "start_time": "2023-07-08T14:09:53.272Z"
   },
   {
    "duration": 38,
    "start_time": "2023-07-08T14:09:53.289Z"
   },
   {
    "duration": 5,
    "start_time": "2023-07-08T14:09:53.329Z"
   },
   {
    "duration": 53,
    "start_time": "2023-07-08T14:09:53.336Z"
   },
   {
    "duration": 146,
    "start_time": "2023-07-08T14:09:53.391Z"
   },
   {
    "duration": 8,
    "start_time": "2023-07-08T14:09:53.539Z"
   },
   {
    "duration": 165,
    "start_time": "2023-07-08T14:09:53.549Z"
   },
   {
    "duration": 10,
    "start_time": "2023-07-08T14:09:53.716Z"
   },
   {
    "duration": 165,
    "start_time": "2023-07-08T14:09:53.727Z"
   },
   {
    "duration": 355,
    "start_time": "2023-07-08T14:09:53.894Z"
   },
   {
    "duration": 348,
    "start_time": "2023-07-08T14:09:54.251Z"
   },
   {
    "duration": 167,
    "start_time": "2023-07-08T14:09:54.601Z"
   },
   {
    "duration": 166,
    "start_time": "2023-07-08T14:09:54.770Z"
   },
   {
    "duration": 161,
    "start_time": "2023-07-08T14:09:54.940Z"
   },
   {
    "duration": 163,
    "start_time": "2023-07-08T14:09:55.103Z"
   },
   {
    "duration": 175,
    "start_time": "2023-07-08T14:09:55.267Z"
   },
   {
    "duration": 168,
    "start_time": "2023-07-08T14:09:55.444Z"
   },
   {
    "duration": 165,
    "start_time": "2023-07-08T14:09:55.613Z"
   },
   {
    "duration": 219,
    "start_time": "2023-07-08T14:09:55.780Z"
   },
   {
    "duration": 7,
    "start_time": "2023-07-08T14:09:56.001Z"
   },
   {
    "duration": 177,
    "start_time": "2023-07-08T14:09:56.010Z"
   },
   {
    "duration": 175,
    "start_time": "2023-07-08T14:09:56.188Z"
   },
   {
    "duration": 159,
    "start_time": "2023-07-08T14:09:56.367Z"
   },
   {
    "duration": 156,
    "start_time": "2023-07-08T14:09:56.527Z"
   },
   {
    "duration": 150,
    "start_time": "2023-07-08T14:09:56.684Z"
   },
   {
    "duration": 132,
    "start_time": "2023-07-08T14:09:56.836Z"
   },
   {
    "duration": 159,
    "start_time": "2023-07-08T14:09:56.970Z"
   },
   {
    "duration": 166,
    "start_time": "2023-07-08T14:09:57.131Z"
   },
   {
    "duration": 7,
    "start_time": "2023-07-08T14:09:57.299Z"
   },
   {
    "duration": 22,
    "start_time": "2023-07-08T14:09:57.307Z"
   },
   {
    "duration": 276,
    "start_time": "2023-07-08T14:09:57.331Z"
   },
   {
    "duration": 250,
    "start_time": "2023-07-08T14:09:57.609Z"
   },
   {
    "duration": 312,
    "start_time": "2023-07-08T14:09:57.862Z"
   },
   {
    "duration": 181,
    "start_time": "2023-07-08T14:09:58.175Z"
   },
   {
    "duration": 151,
    "start_time": "2023-07-08T14:09:58.357Z"
   },
   {
    "duration": 144,
    "start_time": "2023-07-08T14:09:58.510Z"
   },
   {
    "duration": 175,
    "start_time": "2023-07-08T14:09:58.657Z"
   },
   {
    "duration": 142,
    "start_time": "2023-07-08T14:09:58.834Z"
   },
   {
    "duration": 6,
    "start_time": "2023-07-08T14:09:58.978Z"
   },
   {
    "duration": 29,
    "start_time": "2023-07-08T14:09:58.985Z"
   },
   {
    "duration": 8,
    "start_time": "2023-07-08T14:09:59.016Z"
   },
   {
    "duration": 215,
    "start_time": "2023-07-08T14:09:59.026Z"
   },
   {
    "duration": 300,
    "start_time": "2023-07-08T14:09:59.243Z"
   },
   {
    "duration": 1568,
    "start_time": "2023-07-19T07:55:44.912Z"
   },
   {
    "duration": 289,
    "start_time": "2023-07-19T07:55:46.482Z"
   },
   {
    "duration": 13,
    "start_time": "2023-07-19T07:55:46.773Z"
   },
   {
    "duration": 24,
    "start_time": "2023-07-19T07:55:46.788Z"
   },
   {
    "duration": 13,
    "start_time": "2023-07-19T07:55:46.815Z"
   },
   {
    "duration": 22,
    "start_time": "2023-07-19T07:55:46.830Z"
   },
   {
    "duration": 10,
    "start_time": "2023-07-19T07:55:46.854Z"
   },
   {
    "duration": 33,
    "start_time": "2023-07-19T07:55:46.865Z"
   },
   {
    "duration": 13,
    "start_time": "2023-07-19T07:55:46.900Z"
   },
   {
    "duration": 11,
    "start_time": "2023-07-19T07:55:46.915Z"
   },
   {
    "duration": 9,
    "start_time": "2023-07-19T07:55:46.927Z"
   },
   {
    "duration": 15,
    "start_time": "2023-07-19T07:55:46.937Z"
   },
   {
    "duration": 6,
    "start_time": "2023-07-19T07:55:46.954Z"
   },
   {
    "duration": 10,
    "start_time": "2023-07-19T07:55:46.965Z"
   },
   {
    "duration": 5,
    "start_time": "2023-07-19T07:55:46.977Z"
   },
   {
    "duration": 40,
    "start_time": "2023-07-19T07:55:46.983Z"
   },
   {
    "duration": 13,
    "start_time": "2023-07-19T07:55:47.025Z"
   },
   {
    "duration": 190,
    "start_time": "2023-07-19T07:55:47.040Z"
   },
   {
    "duration": 7,
    "start_time": "2023-07-19T07:55:47.232Z"
   },
   {
    "duration": 84,
    "start_time": "2023-07-19T07:55:47.241Z"
   },
   {
    "duration": 204,
    "start_time": "2023-07-19T07:55:47.327Z"
   },
   {
    "duration": 117,
    "start_time": "2023-07-19T07:55:47.533Z"
   },
   {
    "duration": 196,
    "start_time": "2023-07-19T07:55:47.651Z"
   },
   {
    "duration": 194,
    "start_time": "2023-07-19T07:55:47.849Z"
   },
   {
    "duration": 29,
    "start_time": "2023-07-19T07:55:48.045Z"
   },
   {
    "duration": 10,
    "start_time": "2023-07-19T07:55:48.075Z"
   },
   {
    "duration": 300,
    "start_time": "2023-07-19T07:55:48.086Z"
   },
   {
    "duration": 344,
    "start_time": "2023-07-19T07:55:48.388Z"
   },
   {
    "duration": 34,
    "start_time": "2023-07-19T07:55:48.734Z"
   },
   {
    "duration": 180,
    "start_time": "2023-07-19T07:55:48.770Z"
   },
   {
    "duration": 3,
    "start_time": "2023-07-19T07:55:48.952Z"
   },
   {
    "duration": 25,
    "start_time": "2023-07-19T07:55:48.957Z"
   },
   {
    "duration": 172,
    "start_time": "2023-07-19T07:55:48.984Z"
   },
   {
    "duration": 5,
    "start_time": "2023-07-19T07:55:49.158Z"
   },
   {
    "duration": 23,
    "start_time": "2023-07-19T07:55:49.164Z"
   },
   {
    "duration": 21,
    "start_time": "2023-07-19T07:55:49.188Z"
   },
   {
    "duration": 239,
    "start_time": "2023-07-19T07:55:49.211Z"
   },
   {
    "duration": 6,
    "start_time": "2023-07-19T07:55:49.452Z"
   },
   {
    "duration": 122,
    "start_time": "2023-07-19T07:55:49.460Z"
   },
   {
    "duration": 201,
    "start_time": "2023-07-19T07:55:49.584Z"
   },
   {
    "duration": 6,
    "start_time": "2023-07-19T07:55:49.789Z"
   },
   {
    "duration": 17,
    "start_time": "2023-07-19T07:55:49.797Z"
   },
   {
    "duration": 163,
    "start_time": "2023-07-19T07:55:49.815Z"
   },
   {
    "duration": 4,
    "start_time": "2023-07-19T07:55:49.980Z"
   },
   {
    "duration": 6,
    "start_time": "2023-07-19T08:05:50.287Z"
   },
   {
    "duration": 8,
    "start_time": "2023-07-19T08:10:20.996Z"
   },
   {
    "duration": 121,
    "start_time": "2023-07-19T08:15:40.224Z"
   },
   {
    "duration": 54,
    "start_time": "2023-07-19T13:27:15.824Z"
   },
   {
    "duration": 1472,
    "start_time": "2023-07-19T13:28:16.177Z"
   },
   {
    "duration": 519,
    "start_time": "2023-07-19T13:28:20.153Z"
   },
   {
    "duration": 13,
    "start_time": "2023-07-19T13:28:21.825Z"
   },
   {
    "duration": 11,
    "start_time": "2023-07-19T13:28:25.128Z"
   },
   {
    "duration": 8,
    "start_time": "2023-07-19T13:28:26.528Z"
   },
   {
    "duration": 13,
    "start_time": "2023-07-19T13:28:26.948Z"
   },
   {
    "duration": 8,
    "start_time": "2023-07-19T13:28:28.505Z"
   },
   {
    "duration": 16,
    "start_time": "2023-07-19T13:28:29.066Z"
   },
   {
    "duration": 6,
    "start_time": "2023-07-19T13:28:35.176Z"
   },
   {
    "duration": 8,
    "start_time": "2023-07-19T13:28:35.717Z"
   },
   {
    "duration": 6,
    "start_time": "2023-07-19T13:28:36.355Z"
   },
   {
    "duration": 11,
    "start_time": "2023-07-19T13:28:38.875Z"
   },
   {
    "duration": 7,
    "start_time": "2023-07-19T13:28:41.375Z"
   },
   {
    "duration": 9,
    "start_time": "2023-07-19T13:28:55.373Z"
   },
   {
    "duration": 8,
    "start_time": "2023-07-19T13:29:05.656Z"
   },
   {
    "duration": 10,
    "start_time": "2023-07-19T13:31:28.830Z"
   },
   {
    "duration": 5,
    "start_time": "2023-07-19T13:31:33.935Z"
   },
   {
    "duration": 9,
    "start_time": "2023-07-19T13:31:34.804Z"
   },
   {
    "duration": 11,
    "start_time": "2023-07-19T13:31:47.715Z"
   },
   {
    "duration": 6,
    "start_time": "2023-07-19T13:36:18.000Z"
   },
   {
    "duration": 7,
    "start_time": "2023-07-19T13:36:34.941Z"
   },
   {
    "duration": 112,
    "start_time": "2023-07-19T13:36:37.763Z"
   },
   {
    "duration": 201,
    "start_time": "2023-07-19T13:36:47.691Z"
   },
   {
    "duration": 151,
    "start_time": "2023-07-19T13:37:13.633Z"
   },
   {
    "duration": 160,
    "start_time": "2023-07-19T13:37:21.132Z"
   },
   {
    "duration": 139,
    "start_time": "2023-07-19T13:37:27.413Z"
   },
   {
    "duration": 154,
    "start_time": "2023-07-19T13:37:57.412Z"
   },
   {
    "duration": 182,
    "start_time": "2023-07-19T13:39:13.815Z"
   },
   {
    "duration": 173,
    "start_time": "2023-07-19T13:39:54.817Z"
   },
   {
    "duration": 176,
    "start_time": "2023-07-19T13:42:37.450Z"
   },
   {
    "duration": 164,
    "start_time": "2023-07-19T13:42:50.012Z"
   },
   {
    "duration": 169,
    "start_time": "2023-07-19T13:43:02.087Z"
   },
   {
    "duration": 155,
    "start_time": "2023-07-19T13:43:21.387Z"
   },
   {
    "duration": 165,
    "start_time": "2023-07-19T13:43:29.085Z"
   },
   {
    "duration": 601,
    "start_time": "2023-07-19T13:43:59.103Z"
   },
   {
    "duration": 165,
    "start_time": "2023-07-19T13:44:07.759Z"
   },
   {
    "duration": 159,
    "start_time": "2023-07-19T13:44:13.193Z"
   },
   {
    "duration": 7,
    "start_time": "2023-07-19T13:46:24.097Z"
   },
   {
    "duration": 6,
    "start_time": "2023-07-19T13:46:29.079Z"
   },
   {
    "duration": 10,
    "start_time": "2023-07-19T13:47:00.846Z"
   },
   {
    "duration": 14,
    "start_time": "2023-07-19T13:47:43.155Z"
   },
   {
    "duration": 9,
    "start_time": "2023-07-19T13:47:56.311Z"
   },
   {
    "duration": 268,
    "start_time": "2023-07-19T13:48:53.291Z"
   },
   {
    "duration": 209,
    "start_time": "2023-07-19T13:49:15.239Z"
   },
   {
    "duration": 155,
    "start_time": "2023-07-19T13:49:47.682Z"
   },
   {
    "duration": 199,
    "start_time": "2023-07-19T13:49:57.141Z"
   },
   {
    "duration": 195,
    "start_time": "2023-07-19T13:50:13.078Z"
   },
   {
    "duration": 191,
    "start_time": "2023-07-19T13:50:18.690Z"
   },
   {
    "duration": 191,
    "start_time": "2023-07-19T13:50:40.237Z"
   },
   {
    "duration": 201,
    "start_time": "2023-07-19T13:52:09.421Z"
   },
   {
    "duration": 187,
    "start_time": "2023-07-19T13:52:17.726Z"
   },
   {
    "duration": 11,
    "start_time": "2023-07-19T13:53:02.676Z"
   },
   {
    "duration": 230,
    "start_time": "2023-07-19T13:53:37.448Z"
   },
   {
    "duration": 226,
    "start_time": "2023-07-19T13:54:09.026Z"
   },
   {
    "duration": 291,
    "start_time": "2023-07-19T13:57:11.802Z"
   },
   {
    "duration": 230,
    "start_time": "2023-07-19T13:57:27.499Z"
   },
   {
    "duration": 253,
    "start_time": "2023-07-19T13:57:37.926Z"
   },
   {
    "duration": 9,
    "start_time": "2023-07-19T13:58:02.972Z"
   },
   {
    "duration": 15,
    "start_time": "2023-07-19T13:58:09.227Z"
   },
   {
    "duration": 1922,
    "start_time": "2023-07-19T13:58:28.507Z"
   },
   {
    "duration": 8,
    "start_time": "2023-07-19T13:58:32.078Z"
   },
   {
    "duration": 6,
    "start_time": "2023-07-19T13:58:48.244Z"
   },
   {
    "duration": 6,
    "start_time": "2023-07-19T13:58:55.900Z"
   },
   {
    "duration": 8,
    "start_time": "2023-07-19T13:58:58.499Z"
   },
   {
    "duration": 7,
    "start_time": "2023-07-19T13:59:02.008Z"
   },
   {
    "duration": 6,
    "start_time": "2023-07-19T14:00:58.399Z"
   },
   {
    "duration": 6,
    "start_time": "2023-07-19T14:01:49.135Z"
   },
   {
    "duration": 9,
    "start_time": "2023-07-19T14:12:14.721Z"
   },
   {
    "duration": 4,
    "start_time": "2023-07-19T14:12:26.712Z"
   },
   {
    "duration": 78,
    "start_time": "2023-07-19T14:12:26.717Z"
   },
   {
    "duration": 9,
    "start_time": "2023-07-19T14:12:26.796Z"
   },
   {
    "duration": 17,
    "start_time": "2023-07-19T14:12:26.807Z"
   },
   {
    "duration": 16,
    "start_time": "2023-07-19T14:12:26.826Z"
   },
   {
    "duration": 31,
    "start_time": "2023-07-19T14:12:26.843Z"
   },
   {
    "duration": 9,
    "start_time": "2023-07-19T14:12:26.876Z"
   },
   {
    "duration": 31,
    "start_time": "2023-07-19T14:12:26.886Z"
   },
   {
    "duration": 33,
    "start_time": "2023-07-19T14:12:26.920Z"
   },
   {
    "duration": 8,
    "start_time": "2023-07-19T14:12:26.955Z"
   },
   {
    "duration": 12,
    "start_time": "2023-07-19T14:12:26.965Z"
   },
   {
    "duration": 21,
    "start_time": "2023-07-19T14:12:26.979Z"
   },
   {
    "duration": 26,
    "start_time": "2023-07-19T14:12:27.001Z"
   },
   {
    "duration": 24,
    "start_time": "2023-07-19T14:12:27.029Z"
   },
   {
    "duration": 12,
    "start_time": "2023-07-19T14:12:27.055Z"
   },
   {
    "duration": 7,
    "start_time": "2023-07-19T14:12:27.070Z"
   },
   {
    "duration": 19,
    "start_time": "2023-07-19T14:12:27.079Z"
   },
   {
    "duration": 11,
    "start_time": "2023-07-19T14:12:27.100Z"
   },
   {
    "duration": 10,
    "start_time": "2023-07-19T14:12:27.113Z"
   },
   {
    "duration": 178,
    "start_time": "2023-07-19T14:12:27.125Z"
   },
   {
    "duration": 5,
    "start_time": "2023-07-19T14:12:27.305Z"
   },
   {
    "duration": 86,
    "start_time": "2023-07-19T14:12:27.311Z"
   },
   {
    "duration": 13,
    "start_time": "2023-07-19T14:12:27.398Z"
   },
   {
    "duration": 209,
    "start_time": "2023-07-19T14:12:27.415Z"
   },
   {
    "duration": 112,
    "start_time": "2023-07-19T14:12:27.626Z"
   },
   {
    "duration": 19,
    "start_time": "2023-07-19T14:12:27.740Z"
   },
   {
    "duration": 240,
    "start_time": "2023-07-19T14:12:27.761Z"
   },
   {
    "duration": 10,
    "start_time": "2023-07-19T14:12:28.004Z"
   },
   {
    "duration": 235,
    "start_time": "2023-07-19T14:12:28.016Z"
   },
   {
    "duration": 8,
    "start_time": "2023-07-19T14:12:28.253Z"
   },
   {
    "duration": 31,
    "start_time": "2023-07-19T14:12:28.263Z"
   },
   {
    "duration": 14,
    "start_time": "2023-07-19T14:12:34.132Z"
   },
   {
    "duration": 23,
    "start_time": "2023-07-19T14:12:59.354Z"
   },
   {
    "duration": 22,
    "start_time": "2023-07-19T14:13:08.722Z"
   },
   {
    "duration": 25,
    "start_time": "2023-07-19T14:13:13.053Z"
   },
   {
    "duration": 249,
    "start_time": "2023-07-19T14:15:05.599Z"
   },
   {
    "duration": 191,
    "start_time": "2023-07-19T14:15:32.378Z"
   },
   {
    "duration": 686,
    "start_time": "2023-07-19T14:16:06.158Z"
   },
   {
    "duration": 250,
    "start_time": "2023-07-19T14:18:17.184Z"
   },
   {
    "duration": 256,
    "start_time": "2023-07-19T14:18:22.358Z"
   },
   {
    "duration": 252,
    "start_time": "2023-07-19T14:18:41.158Z"
   },
   {
    "duration": 241,
    "start_time": "2023-07-19T14:18:54.306Z"
   },
   {
    "duration": 270,
    "start_time": "2023-07-19T14:19:01.818Z"
   },
   {
    "duration": 274,
    "start_time": "2023-07-19T14:19:23.060Z"
   },
   {
    "duration": 286,
    "start_time": "2023-07-19T14:21:47.932Z"
   },
   {
    "duration": 304,
    "start_time": "2023-07-19T14:21:54.258Z"
   },
   {
    "duration": 293,
    "start_time": "2023-07-19T14:22:00.999Z"
   },
   {
    "duration": 385,
    "start_time": "2023-07-19T14:22:13.162Z"
   },
   {
    "duration": 305,
    "start_time": "2023-07-19T14:22:23.084Z"
   },
   {
    "duration": 294,
    "start_time": "2023-07-19T14:22:47.014Z"
   },
   {
    "duration": 314,
    "start_time": "2023-07-19T14:23:02.292Z"
   },
   {
    "duration": 806,
    "start_time": "2023-07-19T14:23:09.837Z"
   },
   {
    "duration": 8,
    "start_time": "2023-07-19T14:24:02.375Z"
   },
   {
    "duration": 7,
    "start_time": "2023-07-19T14:24:15.601Z"
   },
   {
    "duration": 4,
    "start_time": "2023-07-19T14:24:40.257Z"
   },
   {
    "duration": 3,
    "start_time": "2023-07-19T14:25:25.988Z"
   },
   {
    "duration": 74,
    "start_time": "2023-07-19T14:25:25.993Z"
   },
   {
    "duration": 11,
    "start_time": "2023-07-19T14:25:26.070Z"
   },
   {
    "duration": 14,
    "start_time": "2023-07-19T14:25:26.082Z"
   },
   {
    "duration": 13,
    "start_time": "2023-07-19T14:25:26.098Z"
   },
   {
    "duration": 13,
    "start_time": "2023-07-19T14:25:26.113Z"
   },
   {
    "duration": 8,
    "start_time": "2023-07-19T14:25:26.128Z"
   },
   {
    "duration": 31,
    "start_time": "2023-07-19T14:25:26.137Z"
   },
   {
    "duration": 8,
    "start_time": "2023-07-19T14:25:26.170Z"
   },
   {
    "duration": 7,
    "start_time": "2023-07-19T14:25:26.181Z"
   },
   {
    "duration": 6,
    "start_time": "2023-07-19T14:25:26.677Z"
   },
   {
    "duration": 11,
    "start_time": "2023-07-19T14:25:26.685Z"
   },
   {
    "duration": 18,
    "start_time": "2023-07-19T14:25:26.698Z"
   },
   {
    "duration": 11,
    "start_time": "2023-07-19T14:25:26.718Z"
   },
   {
    "duration": 13,
    "start_time": "2023-07-19T14:25:26.731Z"
   },
   {
    "duration": 21,
    "start_time": "2023-07-19T14:25:26.746Z"
   },
   {
    "duration": 24,
    "start_time": "2023-07-19T14:25:26.768Z"
   },
   {
    "duration": 19,
    "start_time": "2023-07-19T14:25:26.794Z"
   },
   {
    "duration": 23,
    "start_time": "2023-07-19T14:25:26.815Z"
   },
   {
    "duration": 167,
    "start_time": "2023-07-19T14:25:26.852Z"
   },
   {
    "duration": 6,
    "start_time": "2023-07-19T14:25:27.021Z"
   },
   {
    "duration": 94,
    "start_time": "2023-07-19T14:25:27.028Z"
   },
   {
    "duration": 9,
    "start_time": "2023-07-19T14:25:27.124Z"
   },
   {
    "duration": 229,
    "start_time": "2023-07-19T14:25:27.136Z"
   },
   {
    "duration": 103,
    "start_time": "2023-07-19T14:25:27.367Z"
   },
   {
    "duration": 13,
    "start_time": "2023-07-19T14:25:27.471Z"
   },
   {
    "duration": 268,
    "start_time": "2023-07-19T14:25:27.485Z"
   },
   {
    "duration": 11,
    "start_time": "2023-07-19T14:25:27.755Z"
   },
   {
    "duration": 218,
    "start_time": "2023-07-19T14:25:27.768Z"
   },
   {
    "duration": 6,
    "start_time": "2023-07-19T14:25:27.988Z"
   },
   {
    "duration": 37,
    "start_time": "2023-07-19T14:25:27.996Z"
   },
   {
    "duration": 29,
    "start_time": "2023-07-19T14:25:28.035Z"
   },
   {
    "duration": 25,
    "start_time": "2023-07-19T14:25:28.067Z"
   },
   {
    "duration": 8,
    "start_time": "2023-07-19T14:25:28.094Z"
   },
   {
    "duration": 319,
    "start_time": "2023-07-19T14:25:28.104Z"
   },
   {
    "duration": 336,
    "start_time": "2023-07-19T14:25:28.424Z"
   },
   {
    "duration": 4,
    "start_time": "2023-07-19T14:25:28.761Z"
   },
   {
    "duration": 4,
    "start_time": "2023-07-19T14:25:34.034Z"
   },
   {
    "duration": 6,
    "start_time": "2023-07-19T14:25:40.334Z"
   },
   {
    "duration": 7,
    "start_time": "2023-07-19T14:25:47.680Z"
   },
   {
    "duration": 36,
    "start_time": "2023-07-19T14:26:03.260Z"
   },
   {
    "duration": 5,
    "start_time": "2023-07-19T14:27:19.032Z"
   },
   {
    "duration": 18,
    "start_time": "2023-07-19T14:28:29.147Z"
   },
   {
    "duration": 4,
    "start_time": "2023-07-19T14:28:50.640Z"
   },
   {
    "duration": 73,
    "start_time": "2023-07-19T14:28:50.645Z"
   },
   {
    "duration": 8,
    "start_time": "2023-07-19T14:28:50.720Z"
   },
   {
    "duration": 27,
    "start_time": "2023-07-19T14:28:50.730Z"
   },
   {
    "duration": 15,
    "start_time": "2023-07-19T14:28:50.760Z"
   },
   {
    "duration": 39,
    "start_time": "2023-07-19T14:28:50.777Z"
   },
   {
    "duration": 19,
    "start_time": "2023-07-19T14:28:50.818Z"
   },
   {
    "duration": 33,
    "start_time": "2023-07-19T14:28:50.839Z"
   },
   {
    "duration": 15,
    "start_time": "2023-07-19T14:28:50.873Z"
   },
   {
    "duration": 24,
    "start_time": "2023-07-19T14:28:50.889Z"
   },
   {
    "duration": 22,
    "start_time": "2023-07-19T14:28:50.914Z"
   },
   {
    "duration": 12,
    "start_time": "2023-07-19T14:28:50.939Z"
   },
   {
    "duration": 7,
    "start_time": "2023-07-19T14:28:51.028Z"
   },
   {
    "duration": 24,
    "start_time": "2023-07-19T14:28:51.037Z"
   },
   {
    "duration": 14,
    "start_time": "2023-07-19T14:28:51.062Z"
   },
   {
    "duration": 18,
    "start_time": "2023-07-19T14:28:51.078Z"
   },
   {
    "duration": 9,
    "start_time": "2023-07-19T14:28:51.098Z"
   },
   {
    "duration": 19,
    "start_time": "2023-07-19T14:28:51.109Z"
   },
   {
    "duration": 8,
    "start_time": "2023-07-19T14:28:51.130Z"
   },
   {
    "duration": 177,
    "start_time": "2023-07-19T14:28:51.139Z"
   },
   {
    "duration": 6,
    "start_time": "2023-07-19T14:28:51.318Z"
   },
   {
    "duration": 85,
    "start_time": "2023-07-19T14:28:51.325Z"
   },
   {
    "duration": 8,
    "start_time": "2023-07-19T14:28:51.412Z"
   },
   {
    "duration": 196,
    "start_time": "2023-07-19T14:28:51.422Z"
   },
   {
    "duration": 99,
    "start_time": "2023-07-19T14:28:51.620Z"
   },
   {
    "duration": 9,
    "start_time": "2023-07-19T14:28:51.721Z"
   },
   {
    "duration": 224,
    "start_time": "2023-07-19T14:28:51.731Z"
   },
   {
    "duration": 9,
    "start_time": "2023-07-19T14:28:51.956Z"
   },
   {
    "duration": 234,
    "start_time": "2023-07-19T14:28:51.967Z"
   },
   {
    "duration": 6,
    "start_time": "2023-07-19T14:28:52.203Z"
   },
   {
    "duration": 100,
    "start_time": "2023-07-19T14:28:52.211Z"
   },
   {
    "duration": 10,
    "start_time": "2023-07-19T14:28:52.313Z"
   },
   {
    "duration": 44,
    "start_time": "2023-07-19T14:28:52.326Z"
   },
   {
    "duration": 16,
    "start_time": "2023-07-19T14:28:52.372Z"
   },
   {
    "duration": 305,
    "start_time": "2023-07-19T14:28:52.392Z"
   },
   {
    "duration": 297,
    "start_time": "2023-07-19T14:28:52.699Z"
   },
   {
    "duration": 7,
    "start_time": "2023-07-19T14:28:52.997Z"
   },
   {
    "duration": 16,
    "start_time": "2023-07-19T14:30:10.663Z"
   },
   {
    "duration": 57,
    "start_time": "2023-07-19T14:30:46.264Z"
   },
   {
    "duration": 21,
    "start_time": "2023-07-19T14:31:26.436Z"
   },
   {
    "duration": 52,
    "start_time": "2023-07-19T14:31:53.832Z"
   },
   {
    "duration": 45,
    "start_time": "2023-07-19T14:32:53.324Z"
   },
   {
    "duration": 46,
    "start_time": "2023-07-19T14:33:05.694Z"
   },
   {
    "duration": 46,
    "start_time": "2023-07-19T14:33:15.722Z"
   },
   {
    "duration": 45,
    "start_time": "2023-07-19T14:33:22.107Z"
   },
   {
    "duration": 7,
    "start_time": "2023-07-19T14:35:54.288Z"
   },
   {
    "duration": 12,
    "start_time": "2023-07-19T14:35:56.190Z"
   },
   {
    "duration": 12,
    "start_time": "2023-07-19T14:36:22.540Z"
   },
   {
    "duration": 13,
    "start_time": "2023-07-19T14:36:51.692Z"
   },
   {
    "duration": 14,
    "start_time": "2023-07-19T14:38:23.177Z"
   },
   {
    "duration": 15,
    "start_time": "2023-07-19T14:40:43.405Z"
   },
   {
    "duration": 4,
    "start_time": "2023-07-19T14:44:16.531Z"
   },
   {
    "duration": 201,
    "start_time": "2023-07-19T14:44:21.908Z"
   },
   {
    "duration": 6,
    "start_time": "2023-07-19T14:45:39.814Z"
   },
   {
    "duration": 6,
    "start_time": "2023-07-19T14:45:58.021Z"
   },
   {
    "duration": 6,
    "start_time": "2023-07-19T14:46:26.170Z"
   },
   {
    "duration": 3,
    "start_time": "2023-07-19T14:55:59.353Z"
   },
   {
    "duration": 93,
    "start_time": "2023-07-19T14:55:59.359Z"
   },
   {
    "duration": 9,
    "start_time": "2023-07-19T14:55:59.454Z"
   },
   {
    "duration": 11,
    "start_time": "2023-07-19T14:55:59.465Z"
   },
   {
    "duration": 10,
    "start_time": "2023-07-19T14:55:59.479Z"
   },
   {
    "duration": 16,
    "start_time": "2023-07-19T14:55:59.491Z"
   },
   {
    "duration": 20,
    "start_time": "2023-07-19T14:55:59.509Z"
   },
   {
    "duration": 17,
    "start_time": "2023-07-19T14:55:59.531Z"
   },
   {
    "duration": 7,
    "start_time": "2023-07-19T14:55:59.794Z"
   },
   {
    "duration": 7,
    "start_time": "2023-07-19T14:55:59.804Z"
   },
   {
    "duration": 9,
    "start_time": "2023-07-19T14:55:59.812Z"
   },
   {
    "duration": 22,
    "start_time": "2023-07-19T14:55:59.822Z"
   },
   {
    "duration": 9,
    "start_time": "2023-07-19T14:55:59.846Z"
   },
   {
    "duration": 13,
    "start_time": "2023-07-19T14:55:59.856Z"
   },
   {
    "duration": 8,
    "start_time": "2023-07-19T14:55:59.871Z"
   },
   {
    "duration": 4,
    "start_time": "2023-07-19T14:55:59.881Z"
   },
   {
    "duration": 9,
    "start_time": "2023-07-19T14:55:59.949Z"
   },
   {
    "duration": 10,
    "start_time": "2023-07-19T14:55:59.960Z"
   },
   {
    "duration": 6,
    "start_time": "2023-07-19T14:55:59.972Z"
   },
   {
    "duration": 192,
    "start_time": "2023-07-19T14:55:59.980Z"
   },
   {
    "duration": 5,
    "start_time": "2023-07-19T14:56:00.174Z"
   },
   {
    "duration": 116,
    "start_time": "2023-07-19T14:56:00.181Z"
   },
   {
    "duration": 13,
    "start_time": "2023-07-19T14:56:00.299Z"
   },
   {
    "duration": 221,
    "start_time": "2023-07-19T14:56:00.314Z"
   },
   {
    "duration": 102,
    "start_time": "2023-07-19T14:56:00.537Z"
   },
   {
    "duration": 22,
    "start_time": "2023-07-19T14:56:00.640Z"
   },
   {
    "duration": 239,
    "start_time": "2023-07-19T14:56:00.664Z"
   },
   {
    "duration": 11,
    "start_time": "2023-07-19T14:56:00.905Z"
   },
   {
    "duration": 258,
    "start_time": "2023-07-19T14:56:00.919Z"
   },
   {
    "duration": 6,
    "start_time": "2023-07-19T14:56:01.179Z"
   },
   {
    "duration": 83,
    "start_time": "2023-07-19T14:56:01.187Z"
   },
   {
    "duration": 58,
    "start_time": "2023-07-19T14:56:01.271Z"
   },
   {
    "duration": 60,
    "start_time": "2023-07-19T14:56:01.331Z"
   },
   {
    "duration": 28,
    "start_time": "2023-07-19T14:56:01.393Z"
   },
   {
    "duration": 329,
    "start_time": "2023-07-19T14:56:01.422Z"
   },
   {
    "duration": 951,
    "start_time": "2023-07-19T14:56:01.753Z"
   },
   {
    "duration": 6,
    "start_time": "2023-07-19T14:56:02.706Z"
   },
   {
    "duration": 91,
    "start_time": "2023-07-19T14:56:02.714Z"
   },
   {
    "duration": 14,
    "start_time": "2023-07-19T14:56:02.807Z"
   },
   {
    "duration": 41,
    "start_time": "2023-07-19T14:56:02.823Z"
   },
   {
    "duration": 0,
    "start_time": "2023-07-19T14:56:02.866Z"
   },
   {
    "duration": 0,
    "start_time": "2023-07-19T14:56:02.867Z"
   },
   {
    "duration": 0,
    "start_time": "2023-07-19T14:56:02.869Z"
   },
   {
    "duration": 0,
    "start_time": "2023-07-19T14:56:02.870Z"
   },
   {
    "duration": 0,
    "start_time": "2023-07-19T14:56:02.871Z"
   },
   {
    "duration": 0,
    "start_time": "2023-07-19T14:56:02.873Z"
   },
   {
    "duration": 0,
    "start_time": "2023-07-19T14:56:02.874Z"
   },
   {
    "duration": 0,
    "start_time": "2023-07-19T14:56:02.875Z"
   },
   {
    "duration": 6,
    "start_time": "2023-07-19T14:56:22.122Z"
   },
   {
    "duration": 64,
    "start_time": "2023-07-19T14:56:22.153Z"
   },
   {
    "duration": 9,
    "start_time": "2023-07-19T14:56:22.219Z"
   },
   {
    "duration": 13,
    "start_time": "2023-07-19T14:56:22.230Z"
   },
   {
    "duration": 16,
    "start_time": "2023-07-19T14:56:22.245Z"
   },
   {
    "duration": 21,
    "start_time": "2023-07-19T14:56:22.263Z"
   },
   {
    "duration": 7,
    "start_time": "2023-07-19T14:56:22.286Z"
   },
   {
    "duration": 12,
    "start_time": "2023-07-19T14:56:22.294Z"
   },
   {
    "duration": 14,
    "start_time": "2023-07-19T14:56:22.308Z"
   },
   {
    "duration": 7,
    "start_time": "2023-07-19T14:56:22.324Z"
   },
   {
    "duration": 7,
    "start_time": "2023-07-19T14:56:22.332Z"
   },
   {
    "duration": 20,
    "start_time": "2023-07-19T14:56:22.340Z"
   },
   {
    "duration": 8,
    "start_time": "2023-07-19T14:56:22.362Z"
   },
   {
    "duration": 11,
    "start_time": "2023-07-19T14:56:22.504Z"
   },
   {
    "duration": 8,
    "start_time": "2023-07-19T14:56:22.517Z"
   },
   {
    "duration": 3,
    "start_time": "2023-07-19T14:56:22.527Z"
   },
   {
    "duration": 28,
    "start_time": "2023-07-19T14:56:22.532Z"
   },
   {
    "duration": 14,
    "start_time": "2023-07-19T14:56:22.563Z"
   },
   {
    "duration": 6,
    "start_time": "2023-07-19T14:56:22.579Z"
   },
   {
    "duration": 176,
    "start_time": "2023-07-19T14:56:22.587Z"
   },
   {
    "duration": 6,
    "start_time": "2023-07-19T14:56:22.765Z"
   },
   {
    "duration": 70,
    "start_time": "2023-07-19T14:56:22.772Z"
   },
   {
    "duration": 9,
    "start_time": "2023-07-19T14:56:22.859Z"
   },
   {
    "duration": 213,
    "start_time": "2023-07-19T14:56:22.869Z"
   },
   {
    "duration": 116,
    "start_time": "2023-07-19T14:56:23.085Z"
   },
   {
    "duration": 10,
    "start_time": "2023-07-19T14:56:23.204Z"
   },
   {
    "duration": 236,
    "start_time": "2023-07-19T14:56:23.216Z"
   },
   {
    "duration": 12,
    "start_time": "2023-07-19T14:56:23.454Z"
   },
   {
    "duration": 220,
    "start_time": "2023-07-19T14:56:23.468Z"
   },
   {
    "duration": 6,
    "start_time": "2023-07-19T14:56:23.690Z"
   },
   {
    "duration": 36,
    "start_time": "2023-07-19T14:56:23.697Z"
   },
   {
    "duration": 10,
    "start_time": "2023-07-19T14:56:23.735Z"
   },
   {
    "duration": 22,
    "start_time": "2023-07-19T14:56:23.760Z"
   },
   {
    "duration": 7,
    "start_time": "2023-07-19T14:56:23.784Z"
   },
   {
    "duration": 354,
    "start_time": "2023-07-19T14:56:23.793Z"
   },
   {
    "duration": 349,
    "start_time": "2023-07-19T14:56:24.149Z"
   },
   {
    "duration": 7,
    "start_time": "2023-07-19T14:56:24.499Z"
   },
   {
    "duration": 57,
    "start_time": "2023-07-19T14:56:24.508Z"
   },
   {
    "duration": 14,
    "start_time": "2023-07-19T14:56:24.567Z"
   },
   {
    "duration": 11,
    "start_time": "2023-07-19T14:56:24.583Z"
   },
   {
    "duration": 0,
    "start_time": "2023-07-19T14:56:24.596Z"
   },
   {
    "duration": 0,
    "start_time": "2023-07-19T14:56:24.598Z"
   },
   {
    "duration": 0,
    "start_time": "2023-07-19T14:56:24.599Z"
   },
   {
    "duration": 0,
    "start_time": "2023-07-19T14:56:24.600Z"
   },
   {
    "duration": 0,
    "start_time": "2023-07-19T14:56:24.601Z"
   },
   {
    "duration": 0,
    "start_time": "2023-07-19T14:56:24.602Z"
   },
   {
    "duration": 0,
    "start_time": "2023-07-19T14:56:24.604Z"
   },
   {
    "duration": 0,
    "start_time": "2023-07-19T14:56:24.605Z"
   },
   {
    "duration": 17,
    "start_time": "2023-07-19T14:57:27.216Z"
   },
   {
    "duration": 53,
    "start_time": "2023-07-19T14:57:33.559Z"
   },
   {
    "duration": 52,
    "start_time": "2023-07-19T14:57:49.092Z"
   },
   {
    "duration": 3,
    "start_time": "2023-07-19T14:58:02.397Z"
   },
   {
    "duration": 69,
    "start_time": "2023-07-19T14:58:02.406Z"
   },
   {
    "duration": 10,
    "start_time": "2023-07-19T14:58:02.478Z"
   },
   {
    "duration": 29,
    "start_time": "2023-07-19T14:58:02.490Z"
   },
   {
    "duration": 29,
    "start_time": "2023-07-19T14:58:02.521Z"
   },
   {
    "duration": 30,
    "start_time": "2023-07-19T14:58:02.552Z"
   },
   {
    "duration": 29,
    "start_time": "2023-07-19T14:58:02.584Z"
   },
   {
    "duration": 30,
    "start_time": "2023-07-19T14:58:02.615Z"
   },
   {
    "duration": 20,
    "start_time": "2023-07-19T14:58:02.647Z"
   },
   {
    "duration": 25,
    "start_time": "2023-07-19T14:58:02.669Z"
   },
   {
    "duration": 22,
    "start_time": "2023-07-19T14:58:02.695Z"
   },
   {
    "duration": 20,
    "start_time": "2023-07-19T14:58:02.718Z"
   },
   {
    "duration": 29,
    "start_time": "2023-07-19T14:58:02.740Z"
   },
   {
    "duration": 46,
    "start_time": "2023-07-19T14:58:02.771Z"
   },
   {
    "duration": 8,
    "start_time": "2023-07-19T14:58:02.819Z"
   },
   {
    "duration": 17,
    "start_time": "2023-07-19T14:58:02.829Z"
   },
   {
    "duration": 20,
    "start_time": "2023-07-19T14:58:02.848Z"
   },
   {
    "duration": 11,
    "start_time": "2023-07-19T14:58:02.870Z"
   },
   {
    "duration": 6,
    "start_time": "2023-07-19T14:58:02.883Z"
   },
   {
    "duration": 190,
    "start_time": "2023-07-19T14:58:02.890Z"
   },
   {
    "duration": 5,
    "start_time": "2023-07-19T14:58:03.082Z"
   },
   {
    "duration": 88,
    "start_time": "2023-07-19T14:58:03.089Z"
   },
   {
    "duration": 9,
    "start_time": "2023-07-19T14:58:03.178Z"
   },
   {
    "duration": 208,
    "start_time": "2023-07-19T14:58:03.188Z"
   },
   {
    "duration": 115,
    "start_time": "2023-07-19T14:58:03.398Z"
   },
   {
    "duration": 9,
    "start_time": "2023-07-19T14:58:03.516Z"
   },
   {
    "duration": 225,
    "start_time": "2023-07-19T14:58:03.526Z"
   },
   {
    "duration": 13,
    "start_time": "2023-07-19T14:58:03.752Z"
   },
   {
    "duration": 222,
    "start_time": "2023-07-19T14:58:03.767Z"
   },
   {
    "duration": 6,
    "start_time": "2023-07-19T14:58:03.991Z"
   },
   {
    "duration": 35,
    "start_time": "2023-07-19T14:58:03.998Z"
   },
   {
    "duration": 32,
    "start_time": "2023-07-19T14:58:04.036Z"
   },
   {
    "duration": 39,
    "start_time": "2023-07-19T14:58:04.070Z"
   },
   {
    "duration": 9,
    "start_time": "2023-07-19T14:58:04.111Z"
   },
   {
    "duration": 340,
    "start_time": "2023-07-19T14:58:04.123Z"
   },
   {
    "duration": 321,
    "start_time": "2023-07-19T14:58:04.464Z"
   },
   {
    "duration": 7,
    "start_time": "2023-07-19T14:58:04.787Z"
   },
   {
    "duration": 65,
    "start_time": "2023-07-19T14:58:04.795Z"
   },
   {
    "duration": 16,
    "start_time": "2023-07-19T14:58:04.862Z"
   },
   {
    "duration": 9,
    "start_time": "2023-07-19T14:58:04.879Z"
   },
   {
    "duration": 8,
    "start_time": "2023-07-19T14:58:04.890Z"
   },
   {
    "duration": 13,
    "start_time": "2023-07-19T14:58:04.900Z"
   },
   {
    "duration": 217,
    "start_time": "2023-07-19T14:58:04.915Z"
   },
   {
    "duration": 5,
    "start_time": "2023-07-19T14:58:05.134Z"
   },
   {
    "duration": 22,
    "start_time": "2023-07-19T14:58:05.141Z"
   },
   {
    "duration": 4,
    "start_time": "2023-07-19T14:58:05.165Z"
   },
   {
    "duration": 266,
    "start_time": "2023-07-19T14:58:05.170Z"
   },
   {
    "duration": 6,
    "start_time": "2023-07-19T14:58:05.439Z"
   },
   {
    "duration": 7,
    "start_time": "2023-07-19T14:58:35.210Z"
   },
   {
    "duration": 275,
    "start_time": "2023-07-19T15:00:01.684Z"
   },
   {
    "duration": 3,
    "start_time": "2023-07-19T15:07:11.248Z"
   },
   {
    "duration": 10,
    "start_time": "2023-07-19T15:07:58.248Z"
   },
   {
    "duration": 19800,
    "start_time": "2023-07-19T15:08:12.113Z"
   },
   {
    "duration": 12802,
    "start_time": "2023-07-19T15:08:42.978Z"
   },
   {
    "duration": 4,
    "start_time": "2023-07-19T15:09:23.452Z"
   },
   {
    "duration": 6,
    "start_time": "2023-07-19T15:09:43.100Z"
   },
   {
    "duration": 4,
    "start_time": "2023-07-19T15:09:48.453Z"
   },
   {
    "duration": 4,
    "start_time": "2023-07-19T15:09:49.802Z"
   },
   {
    "duration": 4,
    "start_time": "2023-07-19T15:09:53.052Z"
   },
   {
    "duration": 5,
    "start_time": "2023-07-19T15:10:06.250Z"
   },
   {
    "duration": 4,
    "start_time": "2023-07-19T15:10:34.450Z"
   },
   {
    "duration": 5,
    "start_time": "2023-07-19T15:10:42.967Z"
   },
   {
    "duration": 4,
    "start_time": "2023-07-19T15:10:48.372Z"
   },
   {
    "duration": 5,
    "start_time": "2023-07-19T15:11:02.565Z"
   },
   {
    "duration": 5,
    "start_time": "2023-07-19T15:11:18.617Z"
   },
   {
    "duration": 1162,
    "start_time": "2023-07-19T15:11:37.093Z"
   },
   {
    "duration": 68,
    "start_time": "2023-07-19T15:11:38.258Z"
   },
   {
    "duration": 14,
    "start_time": "2023-07-19T15:11:38.327Z"
   },
   {
    "duration": 16,
    "start_time": "2023-07-19T15:11:38.342Z"
   },
   {
    "duration": 12,
    "start_time": "2023-07-19T15:11:38.362Z"
   },
   {
    "duration": 25,
    "start_time": "2023-07-19T15:11:38.376Z"
   },
   {
    "duration": 7,
    "start_time": "2023-07-19T15:11:38.402Z"
   },
   {
    "duration": 10,
    "start_time": "2023-07-19T15:11:38.411Z"
   },
   {
    "duration": 7,
    "start_time": "2023-07-19T15:11:38.422Z"
   },
   {
    "duration": 7,
    "start_time": "2023-07-19T15:11:38.430Z"
   },
   {
    "duration": 23,
    "start_time": "2023-07-19T15:11:38.439Z"
   },
   {
    "duration": 15,
    "start_time": "2023-07-19T15:11:38.464Z"
   },
   {
    "duration": 11,
    "start_time": "2023-07-19T15:11:38.480Z"
   },
   {
    "duration": 14,
    "start_time": "2023-07-19T15:11:38.494Z"
   },
   {
    "duration": 8,
    "start_time": "2023-07-19T15:11:38.510Z"
   },
   {
    "duration": 8,
    "start_time": "2023-07-19T15:11:38.519Z"
   },
   {
    "duration": 15,
    "start_time": "2023-07-19T15:11:38.529Z"
   },
   {
    "duration": 19,
    "start_time": "2023-07-19T15:11:38.558Z"
   },
   {
    "duration": 31,
    "start_time": "2023-07-19T15:11:38.579Z"
   },
   {
    "duration": 222,
    "start_time": "2023-07-19T15:11:38.611Z"
   },
   {
    "duration": 5,
    "start_time": "2023-07-19T15:11:38.835Z"
   },
   {
    "duration": 89,
    "start_time": "2023-07-19T15:11:38.841Z"
   },
   {
    "duration": 9,
    "start_time": "2023-07-19T15:11:38.932Z"
   },
   {
    "duration": 219,
    "start_time": "2023-07-19T15:11:38.942Z"
   },
   {
    "duration": 101,
    "start_time": "2023-07-19T15:11:39.162Z"
   },
   {
    "duration": 9,
    "start_time": "2023-07-19T15:11:39.264Z"
   },
   {
    "duration": 214,
    "start_time": "2023-07-19T15:11:39.274Z"
   },
   {
    "duration": 9,
    "start_time": "2023-07-19T15:11:39.490Z"
   },
   {
    "duration": 203,
    "start_time": "2023-07-19T15:11:39.500Z"
   },
   {
    "duration": 7,
    "start_time": "2023-07-19T15:11:39.705Z"
   },
   {
    "duration": 61,
    "start_time": "2023-07-19T15:11:39.713Z"
   },
   {
    "duration": 10,
    "start_time": "2023-07-19T15:11:39.775Z"
   },
   {
    "duration": 22,
    "start_time": "2023-07-19T15:11:39.787Z"
   },
   {
    "duration": 6,
    "start_time": "2023-07-19T15:11:39.811Z"
   },
   {
    "duration": 312,
    "start_time": "2023-07-19T15:11:39.819Z"
   },
   {
    "duration": 395,
    "start_time": "2023-07-19T15:11:40.133Z"
   },
   {
    "duration": 8,
    "start_time": "2023-07-19T15:11:40.530Z"
   },
   {
    "duration": 63,
    "start_time": "2023-07-19T15:11:40.540Z"
   },
   {
    "duration": 14,
    "start_time": "2023-07-19T15:11:40.606Z"
   },
   {
    "duration": 13,
    "start_time": "2023-07-19T15:11:40.622Z"
   },
   {
    "duration": 4,
    "start_time": "2023-07-19T15:11:40.638Z"
   },
   {
    "duration": 5,
    "start_time": "2023-07-19T15:11:40.659Z"
   },
   {
    "duration": 208,
    "start_time": "2023-07-19T15:11:40.666Z"
   },
   {
    "duration": 6,
    "start_time": "2023-07-19T15:11:40.876Z"
   },
   {
    "duration": 16,
    "start_time": "2023-07-19T15:11:40.884Z"
   },
   {
    "duration": 6,
    "start_time": "2023-07-19T15:11:40.901Z"
   },
   {
    "duration": 291,
    "start_time": "2023-07-19T15:11:40.909Z"
   },
   {
    "duration": 6,
    "start_time": "2023-07-19T15:11:41.202Z"
   },
   {
    "duration": 7,
    "start_time": "2023-07-19T15:11:41.210Z"
   },
   {
    "duration": 3,
    "start_time": "2023-07-19T15:11:57.818Z"
   },
   {
    "duration": 5,
    "start_time": "2023-07-19T15:11:58.931Z"
   },
   {
    "duration": 5,
    "start_time": "2023-07-19T15:12:10.270Z"
   },
   {
    "duration": 5,
    "start_time": "2023-07-19T15:13:15.089Z"
   },
   {
    "duration": 5,
    "start_time": "2023-07-19T15:13:26.031Z"
   },
   {
    "duration": 5,
    "start_time": "2023-07-19T15:13:35.193Z"
   },
   {
    "duration": 5,
    "start_time": "2023-07-19T15:13:39.572Z"
   },
   {
    "duration": 6,
    "start_time": "2023-07-19T15:13:47.222Z"
   },
   {
    "duration": 5,
    "start_time": "2023-07-19T15:13:52.454Z"
   },
   {
    "duration": 4,
    "start_time": "2023-07-19T15:13:59.393Z"
   },
   {
    "duration": 4,
    "start_time": "2023-07-19T15:14:13.723Z"
   },
   {
    "duration": 5,
    "start_time": "2023-07-19T15:14:25.454Z"
   },
   {
    "duration": 5,
    "start_time": "2023-07-19T15:14:28.082Z"
   },
   {
    "duration": 5,
    "start_time": "2023-07-19T15:14:35.943Z"
   },
   {
    "duration": 5,
    "start_time": "2023-07-19T15:14:39.102Z"
   },
   {
    "duration": 5,
    "start_time": "2023-07-19T15:14:41.961Z"
   },
   {
    "duration": 5,
    "start_time": "2023-07-19T15:14:44.911Z"
   },
   {
    "duration": 5,
    "start_time": "2023-07-19T15:14:48.213Z"
   },
   {
    "duration": 5,
    "start_time": "2023-07-19T15:15:00.611Z"
   },
   {
    "duration": 104,
    "start_time": "2023-07-19T15:15:55.023Z"
   },
   {
    "duration": 145,
    "start_time": "2023-07-19T15:15:58.368Z"
   },
   {
    "duration": 139,
    "start_time": "2023-07-19T15:16:18.129Z"
   },
   {
    "duration": 109,
    "start_time": "2023-07-19T15:16:24.702Z"
   },
   {
    "duration": 5,
    "start_time": "2023-07-19T15:17:19.767Z"
   },
   {
    "duration": 5,
    "start_time": "2023-07-19T15:18:07.810Z"
   },
   {
    "duration": 4,
    "start_time": "2023-07-19T15:18:29.197Z"
   },
   {
    "duration": 19,
    "start_time": "2023-07-19T15:18:37.501Z"
   },
   {
    "duration": 111,
    "start_time": "2023-07-19T15:18:40.362Z"
   },
   {
    "duration": 125,
    "start_time": "2023-07-19T15:19:03.909Z"
   },
   {
    "duration": 37,
    "start_time": "2023-07-19T15:19:18.381Z"
   },
   {
    "duration": 110,
    "start_time": "2023-07-19T15:19:22.821Z"
   },
   {
    "duration": 4,
    "start_time": "2023-07-19T15:20:49.510Z"
   },
   {
    "duration": 5,
    "start_time": "2023-07-19T15:20:54.927Z"
   },
   {
    "duration": 3,
    "start_time": "2023-07-19T15:21:32.512Z"
   },
   {
    "duration": 68,
    "start_time": "2023-07-19T15:21:34.165Z"
   },
   {
    "duration": 22,
    "start_time": "2023-07-19T15:21:54.314Z"
   },
   {
    "duration": 23,
    "start_time": "2023-07-19T15:22:26.602Z"
   },
   {
    "duration": 154,
    "start_time": "2023-07-19T15:22:43.995Z"
   },
   {
    "duration": 22,
    "start_time": "2023-07-19T15:22:51.349Z"
   },
   {
    "duration": 24,
    "start_time": "2023-07-19T15:23:00.801Z"
   },
   {
    "duration": 4,
    "start_time": "2023-07-19T15:23:13.853Z"
   },
   {
    "duration": 5,
    "start_time": "2023-07-19T15:23:17.772Z"
   },
   {
    "duration": 22,
    "start_time": "2023-07-19T15:23:22.954Z"
   },
   {
    "duration": 24,
    "start_time": "2023-07-19T15:23:50.275Z"
   },
   {
    "duration": 23,
    "start_time": "2023-07-19T15:23:59.293Z"
   },
   {
    "duration": 21,
    "start_time": "2023-07-19T15:24:09.461Z"
   },
   {
    "duration": 55,
    "start_time": "2023-07-19T15:24:41.469Z"
   },
   {
    "duration": 21,
    "start_time": "2023-07-19T15:25:11.725Z"
   },
   {
    "duration": 1184,
    "start_time": "2023-07-19T15:27:08.849Z"
   },
   {
    "duration": 71,
    "start_time": "2023-07-19T15:27:10.035Z"
   },
   {
    "duration": 12,
    "start_time": "2023-07-19T15:27:10.108Z"
   },
   {
    "duration": 11,
    "start_time": "2023-07-19T15:27:10.121Z"
   },
   {
    "duration": 12,
    "start_time": "2023-07-19T15:27:10.134Z"
   },
   {
    "duration": 19,
    "start_time": "2023-07-19T15:27:10.147Z"
   },
   {
    "duration": 7,
    "start_time": "2023-07-19T15:27:10.167Z"
   },
   {
    "duration": 24,
    "start_time": "2023-07-19T15:27:10.176Z"
   },
   {
    "duration": 11,
    "start_time": "2023-07-19T15:27:10.202Z"
   },
   {
    "duration": 12,
    "start_time": "2023-07-19T15:27:10.215Z"
   },
   {
    "duration": 15,
    "start_time": "2023-07-19T15:27:10.229Z"
   },
   {
    "duration": 22,
    "start_time": "2023-07-19T15:27:10.245Z"
   },
   {
    "duration": 11,
    "start_time": "2023-07-19T15:27:10.269Z"
   },
   {
    "duration": 11,
    "start_time": "2023-07-19T15:27:10.283Z"
   },
   {
    "duration": 8,
    "start_time": "2023-07-19T15:27:10.295Z"
   },
   {
    "duration": 19,
    "start_time": "2023-07-19T15:27:10.305Z"
   },
   {
    "duration": 22,
    "start_time": "2023-07-19T15:27:10.326Z"
   },
   {
    "duration": 10,
    "start_time": "2023-07-19T15:27:10.350Z"
   },
   {
    "duration": 6,
    "start_time": "2023-07-19T15:27:10.361Z"
   },
   {
    "duration": 166,
    "start_time": "2023-07-19T15:27:10.368Z"
   },
   {
    "duration": 5,
    "start_time": "2023-07-19T15:27:10.536Z"
   },
   {
    "duration": 75,
    "start_time": "2023-07-19T15:27:10.543Z"
   },
   {
    "duration": 7,
    "start_time": "2023-07-19T15:27:10.620Z"
   },
   {
    "duration": 187,
    "start_time": "2023-07-19T15:27:10.628Z"
   },
   {
    "duration": 107,
    "start_time": "2023-07-19T15:27:10.817Z"
   },
   {
    "duration": 10,
    "start_time": "2023-07-19T15:27:10.926Z"
   },
   {
    "duration": 222,
    "start_time": "2023-07-19T15:27:10.937Z"
   },
   {
    "duration": 8,
    "start_time": "2023-07-19T15:27:11.161Z"
   },
   {
    "duration": 271,
    "start_time": "2023-07-19T15:27:11.171Z"
   },
   {
    "duration": 15,
    "start_time": "2023-07-19T15:27:11.444Z"
   },
   {
    "duration": 38,
    "start_time": "2023-07-19T15:27:11.460Z"
   },
   {
    "duration": 9,
    "start_time": "2023-07-19T15:27:11.500Z"
   },
   {
    "duration": 29,
    "start_time": "2023-07-19T15:27:11.510Z"
   },
   {
    "duration": 5,
    "start_time": "2023-07-19T15:27:11.541Z"
   },
   {
    "duration": 294,
    "start_time": "2023-07-19T15:27:11.548Z"
   },
   {
    "duration": 394,
    "start_time": "2023-07-19T15:27:11.844Z"
   },
   {
    "duration": 6,
    "start_time": "2023-07-19T15:27:12.240Z"
   },
   {
    "duration": 74,
    "start_time": "2023-07-19T15:27:12.247Z"
   },
   {
    "duration": 14,
    "start_time": "2023-07-19T15:27:12.322Z"
   },
   {
    "duration": 8,
    "start_time": "2023-07-19T15:27:12.337Z"
   },
   {
    "duration": 10,
    "start_time": "2023-07-19T15:27:12.348Z"
   },
   {
    "duration": 7,
    "start_time": "2023-07-19T15:27:12.359Z"
   },
   {
    "duration": 196,
    "start_time": "2023-07-19T15:27:12.368Z"
   },
   {
    "duration": 4,
    "start_time": "2023-07-19T15:27:12.566Z"
   },
   {
    "duration": 17,
    "start_time": "2023-07-19T15:27:12.572Z"
   },
   {
    "duration": 4,
    "start_time": "2023-07-19T15:27:12.590Z"
   },
   {
    "duration": 271,
    "start_time": "2023-07-19T15:27:12.595Z"
   },
   {
    "duration": 5,
    "start_time": "2023-07-19T15:27:12.868Z"
   },
   {
    "duration": 15,
    "start_time": "2023-07-19T15:27:12.874Z"
   },
   {
    "duration": 63,
    "start_time": "2023-07-19T15:27:12.891Z"
   },
   {
    "duration": 5,
    "start_time": "2023-07-19T15:27:12.956Z"
   },
   {
    "duration": 159,
    "start_time": "2023-07-19T15:27:12.962Z"
   },
   {
    "duration": 5,
    "start_time": "2023-07-19T15:27:13.122Z"
   },
   {
    "duration": 8,
    "start_time": "2023-07-19T15:28:37.156Z"
   },
   {
    "duration": 1214,
    "start_time": "2023-07-19T18:46:25.112Z"
   },
   {
    "duration": 99,
    "start_time": "2023-07-19T18:46:26.328Z"
   },
   {
    "duration": 11,
    "start_time": "2023-07-19T18:46:26.429Z"
   },
   {
    "duration": 11,
    "start_time": "2023-07-19T18:46:26.441Z"
   },
   {
    "duration": 12,
    "start_time": "2023-07-19T18:46:26.453Z"
   },
   {
    "duration": 11,
    "start_time": "2023-07-19T18:46:26.467Z"
   },
   {
    "duration": 10,
    "start_time": "2023-07-19T18:46:26.479Z"
   },
   {
    "duration": 30,
    "start_time": "2023-07-19T18:46:26.491Z"
   },
   {
    "duration": 10,
    "start_time": "2023-07-19T18:46:26.522Z"
   },
   {
    "duration": 15,
    "start_time": "2023-07-19T18:46:26.535Z"
   },
   {
    "duration": 6,
    "start_time": "2023-07-19T18:46:26.551Z"
   },
   {
    "duration": 11,
    "start_time": "2023-07-19T18:46:26.559Z"
   },
   {
    "duration": 9,
    "start_time": "2023-07-19T18:46:26.571Z"
   },
   {
    "duration": 18,
    "start_time": "2023-07-19T18:46:26.581Z"
   },
   {
    "duration": 19,
    "start_time": "2023-07-19T18:46:26.601Z"
   },
   {
    "duration": 4,
    "start_time": "2023-07-19T18:46:26.622Z"
   },
   {
    "duration": 12,
    "start_time": "2023-07-19T18:46:26.628Z"
   },
   {
    "duration": 12,
    "start_time": "2023-07-19T18:46:26.642Z"
   },
   {
    "duration": 7,
    "start_time": "2023-07-19T18:46:26.656Z"
   },
   {
    "duration": 222,
    "start_time": "2023-07-19T18:46:26.665Z"
   },
   {
    "duration": 6,
    "start_time": "2023-07-19T18:46:26.888Z"
   },
   {
    "duration": 82,
    "start_time": "2023-07-19T18:46:26.896Z"
   },
   {
    "duration": 8,
    "start_time": "2023-07-19T18:46:26.980Z"
   },
   {
    "duration": 174,
    "start_time": "2023-07-19T18:46:26.990Z"
   },
   {
    "duration": 97,
    "start_time": "2023-07-19T18:46:27.166Z"
   },
   {
    "duration": 10,
    "start_time": "2023-07-19T18:46:27.264Z"
   },
   {
    "duration": 214,
    "start_time": "2023-07-19T18:46:27.276Z"
   },
   {
    "duration": 8,
    "start_time": "2023-07-19T18:46:27.493Z"
   },
   {
    "duration": 246,
    "start_time": "2023-07-19T18:46:27.503Z"
   },
   {
    "duration": 8,
    "start_time": "2023-07-19T18:46:27.751Z"
   },
   {
    "duration": 28,
    "start_time": "2023-07-19T18:46:27.760Z"
   },
   {
    "duration": 32,
    "start_time": "2023-07-19T18:46:27.790Z"
   },
   {
    "duration": 20,
    "start_time": "2023-07-19T18:46:27.824Z"
   },
   {
    "duration": 9,
    "start_time": "2023-07-19T18:46:27.846Z"
   },
   {
    "duration": 279,
    "start_time": "2023-07-19T18:46:27.857Z"
   },
   {
    "duration": 319,
    "start_time": "2023-07-19T18:46:28.138Z"
   },
   {
    "duration": 8,
    "start_time": "2023-07-19T18:46:28.459Z"
   },
   {
    "duration": 66,
    "start_time": "2023-07-19T18:46:28.468Z"
   },
   {
    "duration": 13,
    "start_time": "2023-07-19T18:46:28.536Z"
   },
   {
    "duration": 25,
    "start_time": "2023-07-19T18:46:28.550Z"
   },
   {
    "duration": 18,
    "start_time": "2023-07-19T18:46:28.577Z"
   },
   {
    "duration": 8,
    "start_time": "2023-07-19T18:46:28.597Z"
   },
   {
    "duration": 173,
    "start_time": "2023-07-19T18:46:28.607Z"
   },
   {
    "duration": 5,
    "start_time": "2023-07-19T18:46:28.781Z"
   },
   {
    "duration": 20,
    "start_time": "2023-07-19T18:46:28.787Z"
   },
   {
    "duration": 13,
    "start_time": "2023-07-19T18:46:28.809Z"
   },
   {
    "duration": 245,
    "start_time": "2023-07-19T18:46:28.823Z"
   },
   {
    "duration": 6,
    "start_time": "2023-07-19T18:46:29.070Z"
   },
   {
    "duration": 12,
    "start_time": "2023-07-19T18:46:29.077Z"
   },
   {
    "duration": 36,
    "start_time": "2023-07-19T18:46:29.091Z"
   },
   {
    "duration": 5,
    "start_time": "2023-07-19T18:46:29.129Z"
   },
   {
    "duration": 145,
    "start_time": "2023-07-19T18:46:29.135Z"
   },
   {
    "duration": 4,
    "start_time": "2023-07-19T18:46:29.282Z"
   },
   {
    "duration": 96,
    "start_time": "2023-07-19T18:54:16.375Z"
   },
   {
    "duration": 8,
    "start_time": "2023-07-19T18:54:30.706Z"
   },
   {
    "duration": 113,
    "start_time": "2023-07-19T18:54:32.806Z"
   },
   {
    "duration": 1491,
    "start_time": "2023-07-20T03:07:15.038Z"
   },
   {
    "duration": 189,
    "start_time": "2023-07-20T03:07:16.532Z"
   },
   {
    "duration": 12,
    "start_time": "2023-07-20T03:07:16.723Z"
   },
   {
    "duration": 11,
    "start_time": "2023-07-20T03:07:16.737Z"
   },
   {
    "duration": 11,
    "start_time": "2023-07-20T03:07:16.750Z"
   },
   {
    "duration": 17,
    "start_time": "2023-07-20T03:07:16.763Z"
   },
   {
    "duration": 8,
    "start_time": "2023-07-20T03:07:16.782Z"
   },
   {
    "duration": 15,
    "start_time": "2023-07-20T03:07:16.791Z"
   },
   {
    "duration": 12,
    "start_time": "2023-07-20T03:07:16.808Z"
   },
   {
    "duration": 8,
    "start_time": "2023-07-20T03:07:16.822Z"
   },
   {
    "duration": 21,
    "start_time": "2023-07-20T03:07:16.831Z"
   },
   {
    "duration": 7,
    "start_time": "2023-07-20T03:07:16.854Z"
   },
   {
    "duration": 18,
    "start_time": "2023-07-20T03:07:16.862Z"
   },
   {
    "duration": 10,
    "start_time": "2023-07-20T03:07:16.883Z"
   },
   {
    "duration": 7,
    "start_time": "2023-07-20T03:07:16.895Z"
   },
   {
    "duration": 5,
    "start_time": "2023-07-20T03:07:16.903Z"
   },
   {
    "duration": 13,
    "start_time": "2023-07-20T03:07:16.910Z"
   },
   {
    "duration": 32,
    "start_time": "2023-07-20T03:07:16.925Z"
   },
   {
    "duration": 6,
    "start_time": "2023-07-20T03:07:16.958Z"
   },
   {
    "duration": 166,
    "start_time": "2023-07-20T03:07:16.965Z"
   },
   {
    "duration": 5,
    "start_time": "2023-07-20T03:07:17.133Z"
   },
   {
    "duration": 71,
    "start_time": "2023-07-20T03:07:17.139Z"
   },
   {
    "duration": 8,
    "start_time": "2023-07-20T03:07:17.212Z"
   },
   {
    "duration": 189,
    "start_time": "2023-07-20T03:07:17.222Z"
   },
   {
    "duration": 99,
    "start_time": "2023-07-20T03:07:17.414Z"
   },
   {
    "duration": 9,
    "start_time": "2023-07-20T03:07:17.516Z"
   },
   {
    "duration": 202,
    "start_time": "2023-07-20T03:07:17.527Z"
   },
   {
    "duration": 21,
    "start_time": "2023-07-20T03:07:17.731Z"
   },
   {
    "duration": 190,
    "start_time": "2023-07-20T03:07:17.754Z"
   },
   {
    "duration": 6,
    "start_time": "2023-07-20T03:07:17.951Z"
   },
   {
    "duration": 27,
    "start_time": "2023-07-20T03:07:17.958Z"
   },
   {
    "duration": 8,
    "start_time": "2023-07-20T03:07:17.987Z"
   },
   {
    "duration": 18,
    "start_time": "2023-07-20T03:07:17.997Z"
   },
   {
    "duration": 5,
    "start_time": "2023-07-20T03:07:18.017Z"
   },
   {
    "duration": 316,
    "start_time": "2023-07-20T03:07:18.052Z"
   },
   {
    "duration": 371,
    "start_time": "2023-07-20T03:07:18.371Z"
   },
   {
    "duration": 11,
    "start_time": "2023-07-20T03:07:18.744Z"
   },
   {
    "duration": 53,
    "start_time": "2023-07-20T03:07:18.756Z"
   },
   {
    "duration": 14,
    "start_time": "2023-07-20T03:07:18.811Z"
   },
   {
    "duration": 10,
    "start_time": "2023-07-20T03:07:18.826Z"
   },
   {
    "duration": 3,
    "start_time": "2023-07-20T03:07:18.851Z"
   },
   {
    "duration": 11,
    "start_time": "2023-07-20T03:07:18.856Z"
   },
   {
    "duration": 191,
    "start_time": "2023-07-20T03:07:18.869Z"
   },
   {
    "duration": 5,
    "start_time": "2023-07-20T03:07:19.062Z"
   },
   {
    "duration": 11,
    "start_time": "2023-07-20T03:07:19.068Z"
   },
   {
    "duration": 3,
    "start_time": "2023-07-20T03:07:19.080Z"
   },
   {
    "duration": 280,
    "start_time": "2023-07-20T03:07:19.085Z"
   },
   {
    "duration": 6,
    "start_time": "2023-07-20T03:07:19.367Z"
   },
   {
    "duration": 7,
    "start_time": "2023-07-20T03:07:19.374Z"
   },
   {
    "duration": 25,
    "start_time": "2023-07-20T03:07:19.383Z"
   },
   {
    "duration": 122,
    "start_time": "2023-07-20T03:07:34.011Z"
   },
   {
    "duration": 4,
    "start_time": "2023-07-20T03:09:41.579Z"
   },
   {
    "duration": 4,
    "start_time": "2023-07-20T03:09:47.700Z"
   },
   {
    "duration": 5,
    "start_time": "2023-07-20T03:09:55.899Z"
   },
   {
    "duration": 14,
    "start_time": "2023-07-20T03:13:22.346Z"
   },
   {
    "duration": 14,
    "start_time": "2023-07-20T03:14:18.802Z"
   },
   {
    "duration": 14,
    "start_time": "2023-07-20T03:15:21.490Z"
   },
   {
    "duration": 15,
    "start_time": "2023-07-20T03:16:22.767Z"
   },
   {
    "duration": 1625,
    "start_time": "2023-07-20T03:18:29.775Z"
   },
   {
    "duration": 67,
    "start_time": "2023-07-20T03:18:31.402Z"
   },
   {
    "duration": 12,
    "start_time": "2023-07-20T03:18:31.470Z"
   },
   {
    "duration": 42,
    "start_time": "2023-07-20T03:18:31.484Z"
   },
   {
    "duration": 40,
    "start_time": "2023-07-20T03:18:31.529Z"
   },
   {
    "duration": 40,
    "start_time": "2023-07-20T03:18:31.571Z"
   },
   {
    "duration": 55,
    "start_time": "2023-07-20T03:18:31.612Z"
   },
   {
    "duration": 32,
    "start_time": "2023-07-20T03:18:31.669Z"
   },
   {
    "duration": 40,
    "start_time": "2023-07-20T03:18:31.703Z"
   },
   {
    "duration": 37,
    "start_time": "2023-07-20T03:18:31.744Z"
   },
   {
    "duration": 18,
    "start_time": "2023-07-20T03:18:31.783Z"
   },
   {
    "duration": 25,
    "start_time": "2023-07-20T03:18:31.803Z"
   },
   {
    "duration": 30,
    "start_time": "2023-07-20T03:18:31.830Z"
   },
   {
    "duration": 27,
    "start_time": "2023-07-20T03:18:31.863Z"
   },
   {
    "duration": 22,
    "start_time": "2023-07-20T03:18:31.891Z"
   },
   {
    "duration": 18,
    "start_time": "2023-07-20T03:18:31.915Z"
   },
   {
    "duration": 49,
    "start_time": "2023-07-20T03:18:31.934Z"
   },
   {
    "duration": 32,
    "start_time": "2023-07-20T03:18:31.985Z"
   },
   {
    "duration": 16,
    "start_time": "2023-07-20T03:18:32.018Z"
   },
   {
    "duration": 173,
    "start_time": "2023-07-20T03:18:32.036Z"
   },
   {
    "duration": 5,
    "start_time": "2023-07-20T03:18:32.211Z"
   },
   {
    "duration": 79,
    "start_time": "2023-07-20T03:18:32.217Z"
   },
   {
    "duration": 8,
    "start_time": "2023-07-20T03:18:32.298Z"
   },
   {
    "duration": 195,
    "start_time": "2023-07-20T03:18:32.308Z"
   },
   {
    "duration": 93,
    "start_time": "2023-07-20T03:18:32.504Z"
   },
   {
    "duration": 9,
    "start_time": "2023-07-20T03:18:32.599Z"
   },
   {
    "duration": 207,
    "start_time": "2023-07-20T03:18:32.609Z"
   },
   {
    "duration": 8,
    "start_time": "2023-07-20T03:18:32.818Z"
   },
   {
    "duration": 216,
    "start_time": "2023-07-20T03:18:32.828Z"
   },
   {
    "duration": 10,
    "start_time": "2023-07-20T03:18:33.045Z"
   },
   {
    "duration": 37,
    "start_time": "2023-07-20T03:18:33.057Z"
   },
   {
    "duration": 9,
    "start_time": "2023-07-20T03:18:33.096Z"
   },
   {
    "duration": 22,
    "start_time": "2023-07-20T03:18:33.106Z"
   },
   {
    "duration": 24,
    "start_time": "2023-07-20T03:18:33.130Z"
   },
   {
    "duration": 283,
    "start_time": "2023-07-20T03:18:33.155Z"
   },
   {
    "duration": 352,
    "start_time": "2023-07-20T03:18:33.440Z"
   },
   {
    "duration": 6,
    "start_time": "2023-07-20T03:18:33.793Z"
   },
   {
    "duration": 55,
    "start_time": "2023-07-20T03:18:33.801Z"
   },
   {
    "duration": 14,
    "start_time": "2023-07-20T03:18:33.858Z"
   },
   {
    "duration": 6,
    "start_time": "2023-07-20T03:18:33.873Z"
   },
   {
    "duration": 5,
    "start_time": "2023-07-20T03:18:33.883Z"
   },
   {
    "duration": 13,
    "start_time": "2023-07-20T03:18:33.889Z"
   },
   {
    "duration": 211,
    "start_time": "2023-07-20T03:18:33.904Z"
   },
   {
    "duration": 5,
    "start_time": "2023-07-20T03:18:34.117Z"
   },
   {
    "duration": 11,
    "start_time": "2023-07-20T03:18:34.123Z"
   },
   {
    "duration": 17,
    "start_time": "2023-07-20T03:18:34.135Z"
   },
   {
    "duration": 268,
    "start_time": "2023-07-20T03:18:34.154Z"
   },
   {
    "duration": 5,
    "start_time": "2023-07-20T03:18:34.424Z"
   },
   {
    "duration": 8,
    "start_time": "2023-07-20T03:18:34.431Z"
   },
   {
    "duration": 27,
    "start_time": "2023-07-20T03:18:34.441Z"
   },
   {
    "duration": 136,
    "start_time": "2023-07-20T03:18:34.470Z"
   },
   {
    "duration": 4,
    "start_time": "2023-07-20T03:18:34.608Z"
   },
   {
    "duration": 148,
    "start_time": "2023-07-20T03:18:34.614Z"
   },
   {
    "duration": 4,
    "start_time": "2023-07-20T03:18:34.763Z"
   },
   {
    "duration": 4,
    "start_time": "2023-07-20T03:42:51.916Z"
   },
   {
    "duration": 5,
    "start_time": "2023-07-20T03:43:07.636Z"
   },
   {
    "duration": 4,
    "start_time": "2023-07-20T03:43:15.213Z"
   },
   {
    "duration": 5,
    "start_time": "2023-07-20T03:43:22.110Z"
   },
   {
    "duration": 4,
    "start_time": "2023-07-20T03:43:28.174Z"
   },
   {
    "duration": 5,
    "start_time": "2023-07-20T03:44:10.832Z"
   },
   {
    "duration": 8,
    "start_time": "2023-07-20T03:44:14.940Z"
   },
   {
    "duration": 6,
    "start_time": "2023-07-20T03:44:20.080Z"
   },
   {
    "duration": 5,
    "start_time": "2023-07-20T03:44:24.671Z"
   },
   {
    "duration": 4,
    "start_time": "2023-07-20T03:44:29.411Z"
   },
   {
    "duration": 4,
    "start_time": "2023-07-20T03:44:32.841Z"
   },
   {
    "duration": 4,
    "start_time": "2023-07-20T03:44:36.241Z"
   },
   {
    "duration": 4,
    "start_time": "2023-07-20T03:44:42.080Z"
   },
   {
    "duration": 5,
    "start_time": "2023-07-20T03:44:45.970Z"
   },
   {
    "duration": 5,
    "start_time": "2023-07-20T03:44:48.810Z"
   },
   {
    "duration": 5,
    "start_time": "2023-07-20T03:44:52.851Z"
   },
   {
    "duration": 4,
    "start_time": "2023-07-20T03:44:56.471Z"
   },
   {
    "duration": 4,
    "start_time": "2023-07-20T03:45:18.871Z"
   },
   {
    "duration": 1216,
    "start_time": "2023-07-20T03:53:41.152Z"
   },
   {
    "duration": 65,
    "start_time": "2023-07-20T03:53:42.370Z"
   },
   {
    "duration": 13,
    "start_time": "2023-07-20T03:53:42.437Z"
   },
   {
    "duration": 10,
    "start_time": "2023-07-20T03:53:42.452Z"
   },
   {
    "duration": 23,
    "start_time": "2023-07-20T03:53:42.466Z"
   },
   {
    "duration": 15,
    "start_time": "2023-07-20T03:53:42.491Z"
   },
   {
    "duration": 6,
    "start_time": "2023-07-20T03:53:42.508Z"
   },
   {
    "duration": 17,
    "start_time": "2023-07-20T03:53:42.516Z"
   },
   {
    "duration": 7,
    "start_time": "2023-07-20T03:53:42.535Z"
   },
   {
    "duration": 11,
    "start_time": "2023-07-20T03:53:42.544Z"
   },
   {
    "duration": 14,
    "start_time": "2023-07-20T03:53:42.557Z"
   },
   {
    "duration": 12,
    "start_time": "2023-07-20T03:53:42.572Z"
   },
   {
    "duration": 9,
    "start_time": "2023-07-20T03:53:42.585Z"
   },
   {
    "duration": 12,
    "start_time": "2023-07-20T03:53:42.598Z"
   },
   {
    "duration": 8,
    "start_time": "2023-07-20T03:53:42.612Z"
   },
   {
    "duration": 5,
    "start_time": "2023-07-20T03:53:42.622Z"
   },
   {
    "duration": 35,
    "start_time": "2023-07-20T03:53:42.628Z"
   },
   {
    "duration": 11,
    "start_time": "2023-07-20T03:53:42.664Z"
   },
   {
    "duration": 10,
    "start_time": "2023-07-20T03:53:42.676Z"
   },
   {
    "duration": 175,
    "start_time": "2023-07-20T03:53:42.688Z"
   },
   {
    "duration": 5,
    "start_time": "2023-07-20T03:53:42.865Z"
   },
   {
    "duration": 67,
    "start_time": "2023-07-20T03:53:42.872Z"
   },
   {
    "duration": 9,
    "start_time": "2023-07-20T03:53:42.951Z"
   },
   {
    "duration": 185,
    "start_time": "2023-07-20T03:53:42.961Z"
   },
   {
    "duration": 89,
    "start_time": "2023-07-20T03:53:43.151Z"
   },
   {
    "duration": 9,
    "start_time": "2023-07-20T03:53:43.252Z"
   },
   {
    "duration": 225,
    "start_time": "2023-07-20T03:53:43.262Z"
   },
   {
    "duration": 10,
    "start_time": "2023-07-20T03:53:43.489Z"
   },
   {
    "duration": 202,
    "start_time": "2023-07-20T03:53:43.500Z"
   },
   {
    "duration": 8,
    "start_time": "2023-07-20T03:53:43.704Z"
   },
   {
    "duration": 39,
    "start_time": "2023-07-20T03:53:43.713Z"
   },
   {
    "duration": 9,
    "start_time": "2023-07-20T03:53:43.754Z"
   },
   {
    "duration": 20,
    "start_time": "2023-07-20T03:53:43.765Z"
   },
   {
    "duration": 6,
    "start_time": "2023-07-20T03:53:43.787Z"
   },
   {
    "duration": 308,
    "start_time": "2023-07-20T03:53:43.795Z"
   },
   {
    "duration": 366,
    "start_time": "2023-07-20T03:53:44.105Z"
   },
   {
    "duration": 7,
    "start_time": "2023-07-20T03:53:44.473Z"
   },
   {
    "duration": 77,
    "start_time": "2023-07-20T03:53:44.482Z"
   },
   {
    "duration": 13,
    "start_time": "2023-07-20T03:53:44.560Z"
   },
   {
    "duration": 19,
    "start_time": "2023-07-20T03:53:44.575Z"
   },
   {
    "duration": 3,
    "start_time": "2023-07-20T03:53:44.598Z"
   },
   {
    "duration": 22,
    "start_time": "2023-07-20T03:53:44.602Z"
   },
   {
    "duration": 196,
    "start_time": "2023-07-20T03:53:44.625Z"
   },
   {
    "duration": 5,
    "start_time": "2023-07-20T03:53:44.823Z"
   },
   {
    "duration": 22,
    "start_time": "2023-07-20T03:53:44.829Z"
   },
   {
    "duration": 4,
    "start_time": "2023-07-20T03:53:44.853Z"
   },
   {
    "duration": 296,
    "start_time": "2023-07-20T03:53:44.858Z"
   },
   {
    "duration": 6,
    "start_time": "2023-07-20T03:53:45.156Z"
   },
   {
    "duration": 25,
    "start_time": "2023-07-20T03:53:45.164Z"
   },
   {
    "duration": 26,
    "start_time": "2023-07-20T03:53:45.191Z"
   },
   {
    "duration": 187,
    "start_time": "2023-07-20T03:53:45.219Z"
   },
   {
    "duration": 6,
    "start_time": "2023-07-20T03:53:45.408Z"
   },
   {
    "duration": 153,
    "start_time": "2023-07-20T03:53:45.416Z"
   },
   {
    "duration": 5,
    "start_time": "2023-07-20T03:53:45.571Z"
   },
   {
    "duration": 1153,
    "start_time": "2023-07-20T07:35:47.648Z"
   },
   {
    "duration": 108,
    "start_time": "2023-07-20T07:35:48.803Z"
   },
   {
    "duration": 13,
    "start_time": "2023-07-20T07:35:48.913Z"
   },
   {
    "duration": 11,
    "start_time": "2023-07-20T07:35:48.928Z"
   },
   {
    "duration": 12,
    "start_time": "2023-07-20T07:35:48.943Z"
   },
   {
    "duration": 32,
    "start_time": "2023-07-20T07:35:48.956Z"
   },
   {
    "duration": 9,
    "start_time": "2023-07-20T07:35:48.990Z"
   },
   {
    "duration": 17,
    "start_time": "2023-07-20T07:35:49.001Z"
   },
   {
    "duration": 9,
    "start_time": "2023-07-20T07:35:49.020Z"
   },
   {
    "duration": 15,
    "start_time": "2023-07-20T07:35:49.030Z"
   },
   {
    "duration": 10,
    "start_time": "2023-07-20T07:35:49.047Z"
   },
   {
    "duration": 12,
    "start_time": "2023-07-20T07:35:49.058Z"
   },
   {
    "duration": 41,
    "start_time": "2023-07-20T07:35:49.072Z"
   },
   {
    "duration": 47,
    "start_time": "2023-07-20T07:35:49.116Z"
   },
   {
    "duration": 10,
    "start_time": "2023-07-20T07:35:49.164Z"
   },
   {
    "duration": 5,
    "start_time": "2023-07-20T07:35:49.176Z"
   },
   {
    "duration": 16,
    "start_time": "2023-07-20T07:35:49.183Z"
   },
   {
    "duration": 13,
    "start_time": "2023-07-20T07:35:49.201Z"
   },
   {
    "duration": 11,
    "start_time": "2023-07-20T07:35:49.216Z"
   },
   {
    "duration": 203,
    "start_time": "2023-07-20T07:35:49.228Z"
   },
   {
    "duration": 5,
    "start_time": "2023-07-20T07:35:49.434Z"
   },
   {
    "duration": 80,
    "start_time": "2023-07-20T07:35:49.441Z"
   },
   {
    "duration": 9,
    "start_time": "2023-07-20T07:35:49.523Z"
   },
   {
    "duration": 246,
    "start_time": "2023-07-20T07:35:49.533Z"
   },
   {
    "duration": 123,
    "start_time": "2023-07-20T07:35:49.782Z"
   },
   {
    "duration": 11,
    "start_time": "2023-07-20T07:35:49.907Z"
   },
   {
    "duration": 222,
    "start_time": "2023-07-20T07:35:49.920Z"
   },
   {
    "duration": 10,
    "start_time": "2023-07-20T07:35:50.144Z"
   },
   {
    "duration": 216,
    "start_time": "2023-07-20T07:35:50.155Z"
   },
   {
    "duration": 7,
    "start_time": "2023-07-20T07:35:50.374Z"
   },
   {
    "duration": 43,
    "start_time": "2023-07-20T07:35:50.382Z"
   },
   {
    "duration": 10,
    "start_time": "2023-07-20T07:35:50.427Z"
   },
   {
    "duration": 41,
    "start_time": "2023-07-20T07:35:50.438Z"
   },
   {
    "duration": 6,
    "start_time": "2023-07-20T07:35:50.480Z"
   },
   {
    "duration": 305,
    "start_time": "2023-07-20T07:35:50.488Z"
   },
   {
    "duration": 395,
    "start_time": "2023-07-20T07:35:50.795Z"
   },
   {
    "duration": 7,
    "start_time": "2023-07-20T07:35:51.192Z"
   },
   {
    "duration": 55,
    "start_time": "2023-07-20T07:35:51.214Z"
   },
   {
    "duration": 17,
    "start_time": "2023-07-20T07:35:51.271Z"
   },
   {
    "duration": 24,
    "start_time": "2023-07-20T07:35:51.290Z"
   },
   {
    "duration": 8,
    "start_time": "2023-07-20T07:35:51.319Z"
   },
   {
    "duration": 18,
    "start_time": "2023-07-20T07:35:51.329Z"
   },
   {
    "duration": 231,
    "start_time": "2023-07-20T07:35:51.349Z"
   },
   {
    "duration": 5,
    "start_time": "2023-07-20T07:35:51.582Z"
   },
   {
    "duration": 14,
    "start_time": "2023-07-20T07:35:51.589Z"
   },
   {
    "duration": 3,
    "start_time": "2023-07-20T07:35:51.614Z"
   },
   {
    "duration": 309,
    "start_time": "2023-07-20T07:35:51.619Z"
   },
   {
    "duration": 6,
    "start_time": "2023-07-20T07:35:51.929Z"
   },
   {
    "duration": 22,
    "start_time": "2023-07-20T07:35:51.937Z"
   },
   {
    "duration": 29,
    "start_time": "2023-07-20T07:35:51.961Z"
   },
   {
    "duration": 152,
    "start_time": "2023-07-20T07:35:51.991Z"
   },
   {
    "duration": 4,
    "start_time": "2023-07-20T07:35:52.145Z"
   },
   {
    "duration": 157,
    "start_time": "2023-07-20T07:35:52.151Z"
   },
   {
    "duration": 5,
    "start_time": "2023-07-20T07:35:52.312Z"
   },
   {
    "duration": 104,
    "start_time": "2023-07-20T07:39:41.308Z"
   },
   {
    "duration": 101,
    "start_time": "2023-07-20T07:40:28.525Z"
   },
   {
    "duration": 48,
    "start_time": "2023-07-20T07:41:29.591Z"
   },
   {
    "duration": 32,
    "start_time": "2023-07-20T07:41:35.341Z"
   },
   {
    "duration": 31,
    "start_time": "2023-07-20T07:41:43.369Z"
   },
   {
    "duration": 148,
    "start_time": "2023-07-20T07:42:09.397Z"
   },
   {
    "duration": 5,
    "start_time": "2023-07-20T07:42:14.887Z"
   },
   {
    "duration": 5,
    "start_time": "2023-07-20T07:42:21.858Z"
   },
   {
    "duration": 4,
    "start_time": "2023-07-20T07:42:26.043Z"
   },
   {
    "duration": 5,
    "start_time": "2023-07-20T07:42:29.704Z"
   },
   {
    "duration": 14,
    "start_time": "2023-07-20T07:42:32.959Z"
   },
   {
    "duration": 24,
    "start_time": "2023-07-20T07:42:37.469Z"
   },
   {
    "duration": 33,
    "start_time": "2023-07-20T07:42:55.046Z"
   },
   {
    "duration": 26,
    "start_time": "2023-07-20T07:43:09.206Z"
   },
   {
    "duration": 112,
    "start_time": "2023-07-20T07:43:54.247Z"
   },
   {
    "duration": 197,
    "start_time": "2023-07-28T13:34:23.922Z"
   },
   {
    "duration": 1392,
    "start_time": "2023-07-29T07:16:57.154Z"
   },
   {
    "duration": 103,
    "start_time": "2023-07-29T07:16:58.548Z"
   },
   {
    "duration": 21,
    "start_time": "2023-07-29T07:16:58.652Z"
   },
   {
    "duration": 4,
    "start_time": "2023-07-29T07:16:58.682Z"
   },
   {
    "duration": 18,
    "start_time": "2023-07-29T07:16:58.688Z"
   },
   {
    "duration": 5,
    "start_time": "2023-07-29T07:16:58.707Z"
   },
   {
    "duration": 6,
    "start_time": "2023-07-29T07:16:58.713Z"
   },
   {
    "duration": 16,
    "start_time": "2023-07-29T07:16:58.720Z"
   },
   {
    "duration": 19,
    "start_time": "2023-07-29T07:16:58.738Z"
   },
   {
    "duration": 25,
    "start_time": "2023-07-29T07:16:58.758Z"
   },
   {
    "duration": 13,
    "start_time": "2023-07-29T07:16:58.785Z"
   },
   {
    "duration": 12,
    "start_time": "2023-07-29T07:16:58.799Z"
   },
   {
    "duration": 15,
    "start_time": "2023-07-29T07:16:58.813Z"
   },
   {
    "duration": 18,
    "start_time": "2023-07-29T07:16:58.832Z"
   },
   {
    "duration": 46,
    "start_time": "2023-07-29T07:16:58.852Z"
   },
   {
    "duration": 16,
    "start_time": "2023-07-29T07:16:58.900Z"
   },
   {
    "duration": 7,
    "start_time": "2023-07-29T07:16:58.918Z"
   },
   {
    "duration": 9,
    "start_time": "2023-07-29T07:16:58.927Z"
   },
   {
    "duration": 4,
    "start_time": "2023-07-29T07:17:27.820Z"
   },
   {
    "duration": 10,
    "start_time": "2023-07-29T07:17:34.512Z"
   },
   {
    "duration": 118,
    "start_time": "2023-07-29T07:17:45.959Z"
   },
   {
    "duration": 28,
    "start_time": "2023-07-29T07:17:56.307Z"
   },
   {
    "duration": 10,
    "start_time": "2023-07-29T07:18:00.426Z"
   },
   {
    "duration": 9,
    "start_time": "2023-07-29T07:18:25.512Z"
   },
   {
    "duration": 9,
    "start_time": "2023-07-29T07:18:28.160Z"
   },
   {
    "duration": 12,
    "start_time": "2023-07-29T07:20:13.788Z"
   },
   {
    "duration": 8,
    "start_time": "2023-07-29T07:20:51.423Z"
   },
   {
    "duration": 6,
    "start_time": "2023-07-29T07:33:12.783Z"
   },
   {
    "duration": 5,
    "start_time": "2023-07-29T07:33:32.196Z"
   },
   {
    "duration": 6,
    "start_time": "2023-07-29T07:34:27.686Z"
   },
   {
    "duration": 8,
    "start_time": "2023-07-29T07:34:40.951Z"
   },
   {
    "duration": 21,
    "start_time": "2023-07-29T07:34:45.222Z"
   },
   {
    "duration": 8,
    "start_time": "2023-07-29T07:34:55.794Z"
   },
   {
    "duration": 15,
    "start_time": "2023-07-29T07:35:08.470Z"
   },
   {
    "duration": 8,
    "start_time": "2023-07-29T07:36:16.366Z"
   },
   {
    "duration": 9,
    "start_time": "2023-07-29T07:36:31.420Z"
   },
   {
    "duration": 9,
    "start_time": "2023-07-29T07:36:47.640Z"
   },
   {
    "duration": 14,
    "start_time": "2023-07-29T07:36:51.468Z"
   },
   {
    "duration": 11,
    "start_time": "2023-07-29T07:37:11.383Z"
   },
   {
    "duration": 9,
    "start_time": "2023-07-29T07:39:10.901Z"
   },
   {
    "duration": 7,
    "start_time": "2023-07-29T07:41:34.439Z"
   },
   {
    "duration": 5,
    "start_time": "2023-07-29T07:41:38.251Z"
   },
   {
    "duration": 6,
    "start_time": "2023-07-29T07:41:51.893Z"
   },
   {
    "duration": 6,
    "start_time": "2023-07-29T07:42:01.894Z"
   },
   {
    "duration": 5,
    "start_time": "2023-07-29T07:42:35.678Z"
   },
   {
    "duration": 3,
    "start_time": "2023-07-29T07:53:00.606Z"
   },
   {
    "duration": 101,
    "start_time": "2023-07-29T07:53:00.613Z"
   },
   {
    "duration": 14,
    "start_time": "2023-07-29T07:53:00.716Z"
   },
   {
    "duration": 83,
    "start_time": "2023-07-29T07:53:00.732Z"
   },
   {
    "duration": 79,
    "start_time": "2023-07-29T07:53:00.818Z"
   },
   {
    "duration": 52,
    "start_time": "2023-07-29T07:53:00.899Z"
   },
   {
    "duration": 51,
    "start_time": "2023-07-29T07:53:00.953Z"
   },
   {
    "duration": 103,
    "start_time": "2023-07-29T07:53:01.006Z"
   },
   {
    "duration": 53,
    "start_time": "2023-07-29T07:53:01.110Z"
   },
   {
    "duration": 87,
    "start_time": "2023-07-29T07:53:01.164Z"
   },
   {
    "duration": 120,
    "start_time": "2023-07-29T07:53:01.254Z"
   },
   {
    "duration": 91,
    "start_time": "2023-07-29T07:53:01.376Z"
   },
   {
    "duration": 85,
    "start_time": "2023-07-29T07:53:01.469Z"
   },
   {
    "duration": 99,
    "start_time": "2023-07-29T07:53:01.555Z"
   },
   {
    "duration": 82,
    "start_time": "2023-07-29T07:53:01.656Z"
   },
   {
    "duration": 6,
    "start_time": "2023-07-29T07:53:10.243Z"
   },
   {
    "duration": 5,
    "start_time": "2023-07-29T07:53:13.122Z"
   },
   {
    "duration": 24,
    "start_time": "2023-07-29T07:53:21.548Z"
   },
   {
    "duration": 17,
    "start_time": "2023-07-29T07:53:46.766Z"
   },
   {
    "duration": 135,
    "start_time": "2023-07-29T07:54:24.996Z"
   },
   {
    "duration": 133,
    "start_time": "2023-07-29T07:54:50.670Z"
   },
   {
    "duration": 167,
    "start_time": "2023-07-29T07:55:05.722Z"
   },
   {
    "duration": 93,
    "start_time": "2023-07-29T07:55:16.435Z"
   },
   {
    "duration": 163,
    "start_time": "2023-07-29T07:55:20.800Z"
   },
   {
    "duration": 186,
    "start_time": "2023-07-29T07:57:56.148Z"
   },
   {
    "duration": 172,
    "start_time": "2023-07-29T07:58:04.136Z"
   },
   {
    "duration": 8,
    "start_time": "2023-07-29T07:58:15.818Z"
   },
   {
    "duration": 11,
    "start_time": "2023-07-29T07:58:30.433Z"
   },
   {
    "duration": 279,
    "start_time": "2023-07-29T07:58:57.512Z"
   },
   {
    "duration": 10,
    "start_time": "2023-07-29T07:59:17.653Z"
   },
   {
    "duration": 13,
    "start_time": "2023-07-29T07:59:44.868Z"
   },
   {
    "duration": 13,
    "start_time": "2023-07-29T08:00:04.679Z"
   },
   {
    "duration": 9,
    "start_time": "2023-07-29T08:00:09.126Z"
   },
   {
    "duration": 9,
    "start_time": "2023-07-29T08:00:29.001Z"
   },
   {
    "duration": 11,
    "start_time": "2023-07-29T08:00:39.641Z"
   },
   {
    "duration": 12,
    "start_time": "2023-07-29T08:01:25.654Z"
   },
   {
    "duration": 12,
    "start_time": "2023-07-29T08:01:37.329Z"
   },
   {
    "duration": 15,
    "start_time": "2023-07-29T08:01:47.461Z"
   },
   {
    "duration": 18,
    "start_time": "2023-07-29T08:07:05.545Z"
   },
   {
    "duration": 28,
    "start_time": "2023-07-29T08:11:22.517Z"
   },
   {
    "duration": 22,
    "start_time": "2023-07-29T08:11:28.233Z"
   },
   {
    "duration": 33,
    "start_time": "2023-07-29T08:11:59.935Z"
   },
   {
    "duration": 32,
    "start_time": "2023-07-29T08:12:53.944Z"
   },
   {
    "duration": 40,
    "start_time": "2023-07-29T08:13:04.745Z"
   },
   {
    "duration": 42,
    "start_time": "2023-07-29T08:13:18.082Z"
   },
   {
    "duration": 33,
    "start_time": "2023-07-29T08:13:32.796Z"
   },
   {
    "duration": 4,
    "start_time": "2023-07-29T08:13:36.100Z"
   },
   {
    "duration": 73,
    "start_time": "2023-07-29T08:13:36.106Z"
   },
   {
    "duration": 19,
    "start_time": "2023-07-29T08:13:36.181Z"
   },
   {
    "duration": 15,
    "start_time": "2023-07-29T08:13:36.202Z"
   },
   {
    "duration": 20,
    "start_time": "2023-07-29T08:13:36.219Z"
   },
   {
    "duration": 8,
    "start_time": "2023-07-29T08:13:36.241Z"
   },
   {
    "duration": 32,
    "start_time": "2023-07-29T08:13:36.251Z"
   },
   {
    "duration": 50,
    "start_time": "2023-07-29T08:13:36.293Z"
   },
   {
    "duration": 34,
    "start_time": "2023-07-29T08:13:36.346Z"
   },
   {
    "duration": 25,
    "start_time": "2023-07-29T08:13:36.385Z"
   },
   {
    "duration": 32,
    "start_time": "2023-07-29T08:13:36.411Z"
   },
   {
    "duration": 29,
    "start_time": "2023-07-29T08:13:36.446Z"
   },
   {
    "duration": 47,
    "start_time": "2023-07-29T08:13:36.480Z"
   },
   {
    "duration": 22,
    "start_time": "2023-07-29T08:13:36.529Z"
   },
   {
    "duration": 35,
    "start_time": "2023-07-29T08:13:36.553Z"
   },
   {
    "duration": 34,
    "start_time": "2023-07-29T08:13:36.591Z"
   },
   {
    "duration": 24,
    "start_time": "2023-07-29T08:13:36.627Z"
   },
   {
    "duration": 22,
    "start_time": "2023-07-29T08:13:36.653Z"
   },
   {
    "duration": 42,
    "start_time": "2023-07-29T08:13:36.678Z"
   },
   {
    "duration": 6,
    "start_time": "2023-07-29T08:13:36.722Z"
   },
   {
    "duration": 10,
    "start_time": "2023-07-29T08:13:36.729Z"
   },
   {
    "duration": 220,
    "start_time": "2023-07-29T08:13:36.740Z"
   },
   {
    "duration": 16,
    "start_time": "2023-07-29T08:13:36.962Z"
   },
   {
    "duration": 25,
    "start_time": "2023-07-29T08:13:36.986Z"
   },
   {
    "duration": 243,
    "start_time": "2023-07-29T08:13:37.013Z"
   },
   {
    "duration": 40,
    "start_time": "2023-07-29T08:13:37.258Z"
   },
   {
    "duration": 0,
    "start_time": "2023-07-29T08:13:37.301Z"
   },
   {
    "duration": 0,
    "start_time": "2023-07-29T08:13:37.303Z"
   },
   {
    "duration": 0,
    "start_time": "2023-07-29T08:13:37.305Z"
   },
   {
    "duration": 0,
    "start_time": "2023-07-29T08:13:37.306Z"
   },
   {
    "duration": 0,
    "start_time": "2023-07-29T08:13:37.307Z"
   },
   {
    "duration": 26,
    "start_time": "2023-07-29T08:13:43.722Z"
   },
   {
    "duration": 7,
    "start_time": "2023-07-29T08:14:27.384Z"
   },
   {
    "duration": 15,
    "start_time": "2023-07-29T08:14:40.642Z"
   },
   {
    "duration": 5,
    "start_time": "2023-07-29T08:14:51.784Z"
   },
   {
    "duration": 6,
    "start_time": "2023-07-29T08:15:02.609Z"
   },
   {
    "duration": 47,
    "start_time": "2023-07-29T11:52:23.119Z"
   },
   {
    "duration": 1337,
    "start_time": "2023-07-29T11:52:36.021Z"
   },
   {
    "duration": 108,
    "start_time": "2023-07-29T11:52:37.360Z"
   },
   {
    "duration": 18,
    "start_time": "2023-07-29T11:52:37.469Z"
   },
   {
    "duration": 4,
    "start_time": "2023-07-29T11:52:37.488Z"
   },
   {
    "duration": 32,
    "start_time": "2023-07-29T11:52:37.494Z"
   },
   {
    "duration": 19,
    "start_time": "2023-07-29T11:52:37.528Z"
   },
   {
    "duration": 8,
    "start_time": "2023-07-29T11:52:37.549Z"
   },
   {
    "duration": 15,
    "start_time": "2023-07-29T11:52:37.559Z"
   },
   {
    "duration": 15,
    "start_time": "2023-07-29T11:52:37.576Z"
   },
   {
    "duration": 5,
    "start_time": "2023-07-29T11:52:37.592Z"
   },
   {
    "duration": 20,
    "start_time": "2023-07-29T11:52:37.599Z"
   },
   {
    "duration": 8,
    "start_time": "2023-07-29T11:52:37.620Z"
   },
   {
    "duration": 11,
    "start_time": "2023-07-29T11:52:37.629Z"
   },
   {
    "duration": 16,
    "start_time": "2023-07-29T11:52:37.643Z"
   },
   {
    "duration": 18,
    "start_time": "2023-07-29T11:52:37.660Z"
   },
   {
    "duration": 42,
    "start_time": "2023-07-29T11:52:37.679Z"
   },
   {
    "duration": 26,
    "start_time": "2023-07-29T11:52:37.722Z"
   },
   {
    "duration": 13,
    "start_time": "2023-07-29T11:52:37.750Z"
   },
   {
    "duration": 51,
    "start_time": "2023-07-29T11:52:37.764Z"
   },
   {
    "duration": 20,
    "start_time": "2023-07-29T11:52:37.838Z"
   },
   {
    "duration": 12,
    "start_time": "2023-07-29T11:52:37.860Z"
   },
   {
    "duration": 209,
    "start_time": "2023-07-29T11:52:37.874Z"
   },
   {
    "duration": 20,
    "start_time": "2023-07-29T11:52:38.085Z"
   },
   {
    "duration": 11,
    "start_time": "2023-07-29T11:52:38.106Z"
   },
   {
    "duration": 235,
    "start_time": "2023-07-29T11:52:38.119Z"
   },
   {
    "duration": 94,
    "start_time": "2023-07-29T11:52:38.355Z"
   },
   {
    "duration": 0,
    "start_time": "2023-07-29T11:52:38.450Z"
   },
   {
    "duration": 0,
    "start_time": "2023-07-29T11:52:38.452Z"
   },
   {
    "duration": 0,
    "start_time": "2023-07-29T11:52:38.452Z"
   },
   {
    "duration": 0,
    "start_time": "2023-07-29T11:52:38.453Z"
   },
   {
    "duration": 0,
    "start_time": "2023-07-29T11:52:38.454Z"
   },
   {
    "duration": 1238,
    "start_time": "2023-07-29T11:52:59.198Z"
   },
   {
    "duration": 54,
    "start_time": "2023-07-29T11:53:00.438Z"
   },
   {
    "duration": 33,
    "start_time": "2023-07-29T11:53:00.494Z"
   },
   {
    "duration": 46,
    "start_time": "2023-07-29T11:53:00.529Z"
   },
   {
    "duration": 63,
    "start_time": "2023-07-29T11:53:00.577Z"
   },
   {
    "duration": 30,
    "start_time": "2023-07-29T11:53:00.642Z"
   },
   {
    "duration": 54,
    "start_time": "2023-07-29T11:53:00.674Z"
   },
   {
    "duration": 43,
    "start_time": "2023-07-29T11:53:00.729Z"
   },
   {
    "duration": 62,
    "start_time": "2023-07-29T11:53:00.773Z"
   },
   {
    "duration": 41,
    "start_time": "2023-07-29T11:53:00.838Z"
   },
   {
    "duration": 52,
    "start_time": "2023-07-29T11:53:00.881Z"
   },
   {
    "duration": 48,
    "start_time": "2023-07-29T11:53:00.935Z"
   },
   {
    "duration": 58,
    "start_time": "2023-07-29T11:53:00.985Z"
   },
   {
    "duration": 36,
    "start_time": "2023-07-29T11:53:01.044Z"
   },
   {
    "duration": 71,
    "start_time": "2023-07-29T11:53:01.081Z"
   },
   {
    "duration": 28,
    "start_time": "2023-07-29T11:53:01.153Z"
   },
   {
    "duration": 50,
    "start_time": "2023-07-29T11:53:01.183Z"
   },
   {
    "duration": 37,
    "start_time": "2023-07-29T11:53:01.236Z"
   },
   {
    "duration": 18,
    "start_time": "2023-07-29T11:53:01.274Z"
   },
   {
    "duration": 37,
    "start_time": "2023-07-29T11:53:01.293Z"
   },
   {
    "duration": 29,
    "start_time": "2023-07-29T11:53:01.332Z"
   },
   {
    "duration": 228,
    "start_time": "2023-07-29T11:53:01.363Z"
   },
   {
    "duration": 30,
    "start_time": "2023-07-29T11:53:01.592Z"
   },
   {
    "duration": 31,
    "start_time": "2023-07-29T11:53:01.624Z"
   },
   {
    "duration": 219,
    "start_time": "2023-07-29T11:53:01.656Z"
   },
   {
    "duration": 119,
    "start_time": "2023-07-29T11:53:01.876Z"
   },
   {
    "duration": 0,
    "start_time": "2023-07-29T11:53:02.011Z"
   },
   {
    "duration": 0,
    "start_time": "2023-07-29T11:53:02.013Z"
   },
   {
    "duration": 0,
    "start_time": "2023-07-29T11:53:02.013Z"
   },
   {
    "duration": 0,
    "start_time": "2023-07-29T11:53:02.014Z"
   },
   {
    "duration": 0,
    "start_time": "2023-07-29T11:53:02.015Z"
   },
   {
    "duration": 52,
    "start_time": "2023-07-29T11:53:47.025Z"
   },
   {
    "duration": 6637,
    "start_time": "2023-07-29T11:54:00.328Z"
   },
   {
    "duration": 5,
    "start_time": "2023-07-29T11:54:18.155Z"
   },
   {
    "duration": 6221,
    "start_time": "2023-07-29T11:54:23.563Z"
   },
   {
    "duration": 4083,
    "start_time": "2023-07-29T11:54:33.476Z"
   },
   {
    "duration": 2,
    "start_time": "2023-07-29T11:54:59.387Z"
   },
   {
    "duration": 64,
    "start_time": "2023-07-29T11:54:59.391Z"
   },
   {
    "duration": 13,
    "start_time": "2023-07-29T11:54:59.457Z"
   },
   {
    "duration": 19,
    "start_time": "2023-07-29T11:54:59.472Z"
   },
   {
    "duration": 63,
    "start_time": "2023-07-29T11:54:59.494Z"
   },
   {
    "duration": 4,
    "start_time": "2023-07-29T11:54:59.559Z"
   },
   {
    "duration": 16,
    "start_time": "2023-07-29T11:54:59.564Z"
   },
   {
    "duration": 41,
    "start_time": "2023-07-29T11:54:59.581Z"
   },
   {
    "duration": 5,
    "start_time": "2023-07-29T11:55:10.763Z"
   },
   {
    "duration": 4,
    "start_time": "2023-07-29T11:55:17.042Z"
   },
   {
    "duration": 20,
    "start_time": "2023-07-29T11:55:33.778Z"
   },
   {
    "duration": 4,
    "start_time": "2023-07-29T11:56:49.120Z"
   },
   {
    "duration": 56,
    "start_time": "2023-07-29T11:56:49.127Z"
   },
   {
    "duration": 13,
    "start_time": "2023-07-29T11:56:49.185Z"
   },
   {
    "duration": 30,
    "start_time": "2023-07-29T11:56:49.199Z"
   },
   {
    "duration": 35,
    "start_time": "2023-07-29T11:56:49.231Z"
   },
   {
    "duration": 16,
    "start_time": "2023-07-29T11:56:49.267Z"
   },
   {
    "duration": 8,
    "start_time": "2023-07-29T11:56:49.285Z"
   },
   {
    "duration": 36,
    "start_time": "2023-07-29T11:56:49.295Z"
   },
   {
    "duration": 33,
    "start_time": "2023-07-29T11:56:49.333Z"
   },
   {
    "duration": 8,
    "start_time": "2023-07-29T11:56:49.368Z"
   },
   {
    "duration": 6,
    "start_time": "2023-07-29T11:56:49.377Z"
   },
   {
    "duration": 5,
    "start_time": "2023-07-29T11:56:49.385Z"
   },
   {
    "duration": 47,
    "start_time": "2023-07-29T11:56:49.391Z"
   },
   {
    "duration": 16,
    "start_time": "2023-07-29T11:56:49.442Z"
   },
   {
    "duration": 16,
    "start_time": "2023-07-29T11:56:49.460Z"
   },
   {
    "duration": 11,
    "start_time": "2023-07-29T11:56:49.478Z"
   },
   {
    "duration": 24,
    "start_time": "2023-07-29T11:56:49.491Z"
   },
   {
    "duration": 30,
    "start_time": "2023-07-29T11:56:49.522Z"
   },
   {
    "duration": 12,
    "start_time": "2023-07-29T11:56:49.554Z"
   },
   {
    "duration": 10,
    "start_time": "2023-07-29T11:56:49.567Z"
   },
   {
    "duration": 7,
    "start_time": "2023-07-29T11:56:49.578Z"
   },
   {
    "duration": 195,
    "start_time": "2023-07-29T11:56:49.587Z"
   },
   {
    "duration": 11,
    "start_time": "2023-07-29T11:57:38.626Z"
   },
   {
    "duration": 8,
    "start_time": "2023-07-29T11:58:22.721Z"
   },
   {
    "duration": 7,
    "start_time": "2023-07-29T11:58:26.546Z"
   },
   {
    "duration": 11,
    "start_time": "2023-07-29T11:59:45.199Z"
   },
   {
    "duration": 105,
    "start_time": "2023-07-29T11:59:45.214Z"
   },
   {
    "duration": 18,
    "start_time": "2023-07-29T11:59:45.328Z"
   },
   {
    "duration": 17,
    "start_time": "2023-07-29T11:59:45.348Z"
   },
   {
    "duration": 58,
    "start_time": "2023-07-29T11:59:45.367Z"
   },
   {
    "duration": 12,
    "start_time": "2023-07-29T11:59:45.430Z"
   },
   {
    "duration": 10,
    "start_time": "2023-07-29T11:59:45.443Z"
   },
   {
    "duration": 17,
    "start_time": "2023-07-29T11:59:45.454Z"
   },
   {
    "duration": 17,
    "start_time": "2023-07-29T11:59:45.473Z"
   },
   {
    "duration": 5,
    "start_time": "2023-07-29T11:59:45.492Z"
   },
   {
    "duration": 38,
    "start_time": "2023-07-29T11:59:45.499Z"
   },
   {
    "duration": 9,
    "start_time": "2023-07-29T11:59:45.539Z"
   },
   {
    "duration": 12,
    "start_time": "2023-07-29T11:59:45.551Z"
   },
   {
    "duration": 104,
    "start_time": "2023-07-29T11:59:45.565Z"
   },
   {
    "duration": 19,
    "start_time": "2023-07-29T11:59:45.672Z"
   },
   {
    "duration": 32,
    "start_time": "2023-07-29T11:59:45.699Z"
   },
   {
    "duration": 17,
    "start_time": "2023-07-29T11:59:45.732Z"
   },
   {
    "duration": 13,
    "start_time": "2023-07-29T11:59:45.750Z"
   },
   {
    "duration": 10,
    "start_time": "2023-07-29T11:59:45.764Z"
   },
   {
    "duration": 6,
    "start_time": "2023-07-29T11:59:45.776Z"
   },
   {
    "duration": 25,
    "start_time": "2023-07-29T11:59:45.801Z"
   },
   {
    "duration": 210,
    "start_time": "2023-07-29T11:59:45.827Z"
   },
   {
    "duration": 10,
    "start_time": "2023-07-29T11:59:46.039Z"
   },
   {
    "duration": 15,
    "start_time": "2023-07-29T11:59:46.051Z"
   },
   {
    "duration": 13,
    "start_time": "2023-07-29T11:59:46.068Z"
   },
   {
    "duration": 313,
    "start_time": "2023-07-29T11:59:46.085Z"
   },
   {
    "duration": 15,
    "start_time": "2023-07-29T12:00:09.814Z"
   },
   {
    "duration": 9,
    "start_time": "2023-07-29T12:00:28.795Z"
   },
   {
    "duration": 16,
    "start_time": "2023-07-29T12:00:34.699Z"
   },
   {
    "duration": 6,
    "start_time": "2023-07-29T12:00:45.750Z"
   },
   {
    "duration": 5,
    "start_time": "2023-07-29T12:00:51.549Z"
   },
   {
    "duration": 22,
    "start_time": "2023-07-29T12:01:07.531Z"
   },
   {
    "duration": 6,
    "start_time": "2023-07-29T12:01:19.619Z"
   },
   {
    "duration": 18,
    "start_time": "2023-07-29T12:02:05.214Z"
   },
   {
    "duration": 5,
    "start_time": "2023-07-29T12:02:14.731Z"
   },
   {
    "duration": 4,
    "start_time": "2023-07-29T12:02:18.425Z"
   },
   {
    "duration": 6,
    "start_time": "2023-07-29T12:02:29.044Z"
   },
   {
    "duration": 10,
    "start_time": "2023-07-29T12:02:32.331Z"
   },
   {
    "duration": 9,
    "start_time": "2023-07-29T12:02:57.119Z"
   },
   {
    "duration": 6,
    "start_time": "2023-07-29T12:03:11.634Z"
   },
   {
    "duration": 5,
    "start_time": "2023-07-29T12:03:24.534Z"
   },
   {
    "duration": 3,
    "start_time": "2023-07-29T12:03:48.347Z"
   },
   {
    "duration": 77,
    "start_time": "2023-07-29T12:03:48.352Z"
   },
   {
    "duration": 11,
    "start_time": "2023-07-29T12:03:48.431Z"
   },
   {
    "duration": 27,
    "start_time": "2023-07-29T12:03:48.444Z"
   },
   {
    "duration": 60,
    "start_time": "2023-07-29T12:03:48.473Z"
   },
   {
    "duration": 28,
    "start_time": "2023-07-29T12:03:48.535Z"
   },
   {
    "duration": 13,
    "start_time": "2023-07-29T12:03:48.565Z"
   },
   {
    "duration": 33,
    "start_time": "2023-07-29T12:03:48.580Z"
   },
   {
    "duration": 46,
    "start_time": "2023-07-29T12:03:48.614Z"
   },
   {
    "duration": 12,
    "start_time": "2023-07-29T12:03:48.661Z"
   },
   {
    "duration": 30,
    "start_time": "2023-07-29T12:03:48.675Z"
   },
   {
    "duration": 6,
    "start_time": "2023-07-29T12:03:48.706Z"
   },
   {
    "duration": 17,
    "start_time": "2023-07-29T12:03:48.713Z"
   },
   {
    "duration": 38,
    "start_time": "2023-07-29T12:03:48.732Z"
   },
   {
    "duration": 48,
    "start_time": "2023-07-29T12:03:48.771Z"
   },
   {
    "duration": 25,
    "start_time": "2023-07-29T12:03:48.820Z"
   },
   {
    "duration": 21,
    "start_time": "2023-07-29T12:03:48.847Z"
   },
   {
    "duration": 15,
    "start_time": "2023-07-29T12:03:48.869Z"
   },
   {
    "duration": 46,
    "start_time": "2023-07-29T12:03:48.885Z"
   },
   {
    "duration": 24,
    "start_time": "2023-07-29T12:03:48.934Z"
   },
   {
    "duration": 26,
    "start_time": "2023-07-29T12:03:48.959Z"
   },
   {
    "duration": 197,
    "start_time": "2023-07-29T12:03:48.987Z"
   },
   {
    "duration": 32,
    "start_time": "2023-07-29T12:03:49.185Z"
   },
   {
    "duration": 46,
    "start_time": "2023-07-29T12:03:49.218Z"
   },
   {
    "duration": 31,
    "start_time": "2023-07-29T12:03:49.266Z"
   },
   {
    "duration": 241,
    "start_time": "2023-07-29T12:03:49.301Z"
   },
   {
    "duration": 11,
    "start_time": "2023-07-29T12:03:49.544Z"
   },
   {
    "duration": 7,
    "start_time": "2023-07-29T12:03:49.556Z"
   },
   {
    "duration": 27,
    "start_time": "2023-07-29T12:03:49.565Z"
   },
   {
    "duration": 41,
    "start_time": "2023-07-29T12:03:49.593Z"
   },
   {
    "duration": 13,
    "start_time": "2023-07-29T12:03:49.635Z"
   },
   {
    "duration": 17,
    "start_time": "2023-07-29T12:03:49.650Z"
   },
   {
    "duration": 28,
    "start_time": "2023-07-29T12:03:49.669Z"
   },
   {
    "duration": 23,
    "start_time": "2023-07-29T12:03:59.199Z"
   },
   {
    "duration": 8,
    "start_time": "2023-07-29T12:04:04.919Z"
   },
   {
    "duration": 43,
    "start_time": "2023-07-29T12:04:36.878Z"
   },
   {
    "duration": 25,
    "start_time": "2023-07-29T12:04:59.512Z"
   },
   {
    "duration": 22,
    "start_time": "2023-07-29T12:05:03.722Z"
   },
   {
    "duration": 39,
    "start_time": "2023-07-29T12:05:45.274Z"
   },
   {
    "duration": 40,
    "start_time": "2023-07-29T12:06:12.397Z"
   },
   {
    "duration": 30,
    "start_time": "2023-07-29T12:06:19.045Z"
   },
   {
    "duration": 10,
    "start_time": "2023-07-29T12:06:44.047Z"
   },
   {
    "duration": 9,
    "start_time": "2023-07-29T12:06:51.483Z"
   },
   {
    "duration": 10,
    "start_time": "2023-07-29T12:07:15.579Z"
   },
   {
    "duration": 12,
    "start_time": "2023-07-29T12:07:22.019Z"
   },
   {
    "duration": 4378,
    "start_time": "2023-07-29T12:07:35.499Z"
   },
   {
    "duration": 17,
    "start_time": "2023-07-29T12:07:44.281Z"
   },
   {
    "duration": 35,
    "start_time": "2023-07-29T12:07:58.388Z"
   },
   {
    "duration": 19,
    "start_time": "2023-07-29T12:08:38.852Z"
   },
   {
    "duration": 10,
    "start_time": "2023-07-29T12:09:00.044Z"
   },
   {
    "duration": 15,
    "start_time": "2023-07-29T12:09:07.159Z"
   },
   {
    "duration": 17,
    "start_time": "2023-07-29T12:09:30.573Z"
   },
   {
    "duration": 23,
    "start_time": "2023-07-29T12:11:30.036Z"
   },
   {
    "duration": 39,
    "start_time": "2023-07-29T12:12:34.318Z"
   },
   {
    "duration": 21,
    "start_time": "2023-07-29T12:12:52.321Z"
   },
   {
    "duration": 49,
    "start_time": "2023-07-29T12:14:24.875Z"
   },
   {
    "duration": 18,
    "start_time": "2023-07-29T12:14:30.372Z"
   },
   {
    "duration": 27,
    "start_time": "2023-07-29T12:15:28.619Z"
   },
   {
    "duration": 26,
    "start_time": "2023-07-29T12:16:39.448Z"
   },
   {
    "duration": 16,
    "start_time": "2023-07-29T12:22:50.182Z"
   },
   {
    "duration": 17,
    "start_time": "2023-07-29T12:23:13.019Z"
   },
   {
    "duration": 21,
    "start_time": "2023-07-29T12:23:43.800Z"
   },
   {
    "duration": 23,
    "start_time": "2023-07-29T12:25:28.731Z"
   },
   {
    "duration": 5,
    "start_time": "2023-07-29T12:25:51.476Z"
   },
   {
    "duration": 17,
    "start_time": "2023-07-29T12:26:02.057Z"
   },
   {
    "duration": 32,
    "start_time": "2023-07-29T12:26:08.093Z"
   },
   {
    "duration": 329,
    "start_time": "2023-07-29T12:30:41.527Z"
   },
   {
    "duration": 11,
    "start_time": "2023-07-29T12:35:56.684Z"
   },
   {
    "duration": 18,
    "start_time": "2023-07-29T12:36:07.516Z"
   },
   {
    "duration": 24,
    "start_time": "2023-07-29T12:36:37.219Z"
   },
   {
    "duration": 23,
    "start_time": "2023-07-29T12:37:09.916Z"
   },
   {
    "duration": 16,
    "start_time": "2023-07-29T12:37:19.917Z"
   },
   {
    "duration": 12,
    "start_time": "2023-07-29T12:37:59.436Z"
   },
   {
    "duration": 8,
    "start_time": "2023-07-29T12:38:09.151Z"
   },
   {
    "duration": 9,
    "start_time": "2023-07-29T12:38:24.732Z"
   },
   {
    "duration": 43,
    "start_time": "2023-07-29T12:39:19.159Z"
   },
   {
    "duration": 9,
    "start_time": "2023-07-29T12:39:26.977Z"
   },
   {
    "duration": 285,
    "start_time": "2023-07-29T12:41:34.982Z"
   },
   {
    "duration": 290,
    "start_time": "2023-07-29T12:42:14.329Z"
   },
   {
    "duration": 10,
    "start_time": "2023-07-29T13:01:22.117Z"
   },
   {
    "duration": 8,
    "start_time": "2023-07-29T13:01:38.372Z"
   },
   {
    "duration": 23,
    "start_time": "2023-07-29T13:06:55.714Z"
   },
   {
    "duration": 189,
    "start_time": "2023-07-29T13:07:00.435Z"
   },
   {
    "duration": 8,
    "start_time": "2023-07-29T13:09:08.587Z"
   },
   {
    "duration": 3,
    "start_time": "2023-07-29T13:09:15.040Z"
   },
   {
    "duration": 117,
    "start_time": "2023-07-29T13:09:15.045Z"
   },
   {
    "duration": 13,
    "start_time": "2023-07-29T13:09:15.164Z"
   },
   {
    "duration": 45,
    "start_time": "2023-07-29T13:09:15.178Z"
   },
   {
    "duration": 36,
    "start_time": "2023-07-29T13:09:15.227Z"
   },
   {
    "duration": 15,
    "start_time": "2023-07-29T13:09:15.265Z"
   },
   {
    "duration": 14,
    "start_time": "2023-07-29T13:09:15.282Z"
   },
   {
    "duration": 45,
    "start_time": "2023-07-29T13:09:15.298Z"
   },
   {
    "duration": 27,
    "start_time": "2023-07-29T13:09:15.346Z"
   },
   {
    "duration": 7,
    "start_time": "2023-07-29T13:09:15.375Z"
   },
   {
    "duration": 42,
    "start_time": "2023-07-29T13:09:15.385Z"
   },
   {
    "duration": 21,
    "start_time": "2023-07-29T13:09:15.428Z"
   },
   {
    "duration": 18,
    "start_time": "2023-07-29T13:09:15.451Z"
   },
   {
    "duration": 222,
    "start_time": "2023-07-29T13:09:15.471Z"
   },
   {
    "duration": 25,
    "start_time": "2023-07-29T13:09:15.695Z"
   },
   {
    "duration": 36,
    "start_time": "2023-07-29T13:09:15.722Z"
   },
   {
    "duration": 19,
    "start_time": "2023-07-29T13:09:15.760Z"
   },
   {
    "duration": 15,
    "start_time": "2023-07-29T13:09:15.780Z"
   },
   {
    "duration": 14,
    "start_time": "2023-07-29T13:09:15.809Z"
   },
   {
    "duration": 9,
    "start_time": "2023-07-29T13:09:15.825Z"
   },
   {
    "duration": 15,
    "start_time": "2023-07-29T13:09:15.836Z"
   },
   {
    "duration": 187,
    "start_time": "2023-07-29T13:09:15.852Z"
   },
   {
    "duration": 11,
    "start_time": "2023-07-29T13:09:16.042Z"
   },
   {
    "duration": 23,
    "start_time": "2023-07-29T13:09:16.055Z"
   },
   {
    "duration": 21,
    "start_time": "2023-07-29T13:09:16.080Z"
   },
   {
    "duration": 276,
    "start_time": "2023-07-29T13:09:16.104Z"
   },
   {
    "duration": 35,
    "start_time": "2023-07-29T13:09:16.381Z"
   },
   {
    "duration": 5,
    "start_time": "2023-07-29T13:09:16.418Z"
   },
   {
    "duration": 21,
    "start_time": "2023-07-29T13:09:16.426Z"
   },
   {
    "duration": 17,
    "start_time": "2023-07-29T13:09:16.449Z"
   },
   {
    "duration": 4,
    "start_time": "2023-07-29T13:09:16.468Z"
   },
   {
    "duration": 21,
    "start_time": "2023-07-29T13:09:16.474Z"
   },
   {
    "duration": 39,
    "start_time": "2023-07-29T13:09:16.497Z"
   },
   {
    "duration": 20,
    "start_time": "2023-07-29T13:09:16.538Z"
   },
   {
    "duration": 18,
    "start_time": "2023-07-29T13:09:16.559Z"
   },
   {
    "duration": 14,
    "start_time": "2023-07-29T13:09:16.579Z"
   },
   {
    "duration": 7,
    "start_time": "2023-07-29T13:09:16.606Z"
   },
   {
    "duration": 302,
    "start_time": "2023-07-29T13:09:16.618Z"
   },
   {
    "duration": 5,
    "start_time": "2023-07-29T13:09:16.922Z"
   },
   {
    "duration": 266,
    "start_time": "2023-07-29T13:09:16.929Z"
   },
   {
    "duration": 21,
    "start_time": "2023-07-29T13:28:06.116Z"
   },
   {
    "duration": 11,
    "start_time": "2023-07-29T13:28:30.176Z"
   },
   {
    "duration": 3,
    "start_time": "2023-07-29T13:28:42.421Z"
   },
   {
    "duration": 32,
    "start_time": "2023-07-29T13:29:09.116Z"
   },
   {
    "duration": 6,
    "start_time": "2023-07-29T13:29:12.181Z"
   },
   {
    "duration": 6,
    "start_time": "2023-07-29T13:29:18.015Z"
   },
   {
    "duration": 197,
    "start_time": "2023-07-29T13:29:44.788Z"
   },
   {
    "duration": 126,
    "start_time": "2023-07-29T13:30:51.194Z"
   },
   {
    "duration": 3,
    "start_time": "2023-07-29T13:31:22.192Z"
   },
   {
    "duration": 66,
    "start_time": "2023-07-29T13:31:22.198Z"
   },
   {
    "duration": 12,
    "start_time": "2023-07-29T13:31:22.266Z"
   },
   {
    "duration": 5,
    "start_time": "2023-07-29T13:31:22.280Z"
   },
   {
    "duration": 26,
    "start_time": "2023-07-29T13:31:22.287Z"
   },
   {
    "duration": 20,
    "start_time": "2023-07-29T13:31:22.315Z"
   },
   {
    "duration": 13,
    "start_time": "2023-07-29T13:31:22.336Z"
   },
   {
    "duration": 15,
    "start_time": "2023-07-29T13:31:22.350Z"
   },
   {
    "duration": 26,
    "start_time": "2023-07-29T13:31:22.366Z"
   },
   {
    "duration": 4,
    "start_time": "2023-07-29T13:31:22.393Z"
   },
   {
    "duration": 28,
    "start_time": "2023-07-29T13:31:22.400Z"
   },
   {
    "duration": 5,
    "start_time": "2023-07-29T13:31:22.430Z"
   },
   {
    "duration": 17,
    "start_time": "2023-07-29T13:31:22.437Z"
   },
   {
    "duration": 15,
    "start_time": "2023-07-29T13:31:22.456Z"
   },
   {
    "duration": 33,
    "start_time": "2023-07-29T13:31:22.472Z"
   },
   {
    "duration": 15,
    "start_time": "2023-07-29T13:31:22.506Z"
   },
   {
    "duration": 14,
    "start_time": "2023-07-29T13:31:22.522Z"
   },
   {
    "duration": 12,
    "start_time": "2023-07-29T13:31:22.537Z"
   },
   {
    "duration": 14,
    "start_time": "2023-07-29T13:31:22.551Z"
   },
   {
    "duration": 6,
    "start_time": "2023-07-29T13:31:22.567Z"
   },
   {
    "duration": 30,
    "start_time": "2023-07-29T13:31:22.575Z"
   },
   {
    "duration": 146,
    "start_time": "2023-07-29T13:31:22.612Z"
   },
   {
    "duration": 7,
    "start_time": "2023-07-29T13:31:22.760Z"
   },
   {
    "duration": 9,
    "start_time": "2023-07-29T13:31:22.768Z"
   },
   {
    "duration": 30,
    "start_time": "2023-07-29T13:31:22.779Z"
   },
   {
    "duration": 175,
    "start_time": "2023-07-29T13:31:22.816Z"
   },
   {
    "duration": 15,
    "start_time": "2023-07-29T13:31:22.992Z"
   },
   {
    "duration": 17,
    "start_time": "2023-07-29T13:31:23.008Z"
   },
   {
    "duration": 6,
    "start_time": "2023-07-29T13:31:23.027Z"
   },
   {
    "duration": 12,
    "start_time": "2023-07-29T13:31:23.034Z"
   },
   {
    "duration": 18,
    "start_time": "2023-07-29T13:31:23.047Z"
   },
   {
    "duration": 8,
    "start_time": "2023-07-29T13:31:23.066Z"
   },
   {
    "duration": 19,
    "start_time": "2023-07-29T13:31:23.076Z"
   },
   {
    "duration": 38,
    "start_time": "2023-07-29T13:31:23.096Z"
   },
   {
    "duration": 24,
    "start_time": "2023-07-29T13:31:23.137Z"
   },
   {
    "duration": 14,
    "start_time": "2023-07-29T13:31:23.162Z"
   },
   {
    "duration": 5,
    "start_time": "2023-07-29T13:31:23.178Z"
   },
   {
    "duration": 290,
    "start_time": "2023-07-29T13:31:23.185Z"
   },
   {
    "duration": 5,
    "start_time": "2023-07-29T13:31:23.476Z"
   },
   {
    "duration": 272,
    "start_time": "2023-07-29T13:31:23.483Z"
   },
   {
    "duration": 200,
    "start_time": "2023-07-29T13:31:23.756Z"
   },
   {
    "duration": 15,
    "start_time": "2023-07-29T13:31:23.957Z"
   },
   {
    "duration": 10,
    "start_time": "2023-07-29T13:31:23.973Z"
   },
   {
    "duration": 53,
    "start_time": "2023-07-29T13:31:24.009Z"
   },
   {
    "duration": 20,
    "start_time": "2023-07-29T13:31:24.063Z"
   },
   {
    "duration": 5,
    "start_time": "2023-07-29T13:31:24.085Z"
   },
   {
    "duration": 21,
    "start_time": "2023-07-29T13:31:24.092Z"
   },
   {
    "duration": 185,
    "start_time": "2023-07-29T13:31:33.886Z"
   },
   {
    "duration": 33,
    "start_time": "2023-07-29T13:31:38.551Z"
   },
   {
    "duration": 116,
    "start_time": "2023-07-29T13:33:25.218Z"
   },
   {
    "duration": 124,
    "start_time": "2023-07-29T13:34:09.418Z"
   },
   {
    "duration": 223,
    "start_time": "2023-07-29T13:35:38.274Z"
   },
   {
    "duration": 466,
    "start_time": "2023-07-29T13:35:52.173Z"
   },
   {
    "duration": 243,
    "start_time": "2023-07-29T13:35:57.956Z"
   },
   {
    "duration": 277,
    "start_time": "2023-07-29T13:36:11.915Z"
   },
   {
    "duration": 265,
    "start_time": "2023-07-29T13:36:31.184Z"
   },
   {
    "duration": 282,
    "start_time": "2023-07-29T13:37:21.946Z"
   },
   {
    "duration": 277,
    "start_time": "2023-07-29T13:37:43.023Z"
   },
   {
    "duration": 274,
    "start_time": "2023-07-29T13:37:53.030Z"
   },
   {
    "duration": 535,
    "start_time": "2023-07-29T13:38:23.776Z"
   },
   {
    "duration": 9,
    "start_time": "2023-07-29T13:43:37.026Z"
   },
   {
    "duration": 5,
    "start_time": "2023-07-29T13:43:40.692Z"
   },
   {
    "duration": 14,
    "start_time": "2023-07-29T13:43:41.492Z"
   },
   {
    "duration": 3,
    "start_time": "2023-07-29T13:46:54.320Z"
   },
   {
    "duration": 80,
    "start_time": "2023-07-29T13:46:54.325Z"
   },
   {
    "duration": 12,
    "start_time": "2023-07-29T13:46:54.415Z"
   },
   {
    "duration": 93,
    "start_time": "2023-07-29T13:46:54.429Z"
   },
   {
    "duration": 16,
    "start_time": "2023-07-29T13:46:54.525Z"
   },
   {
    "duration": 4,
    "start_time": "2023-07-29T13:46:54.543Z"
   },
   {
    "duration": 18,
    "start_time": "2023-07-29T13:46:54.548Z"
   },
   {
    "duration": 29,
    "start_time": "2023-07-29T13:46:54.567Z"
   },
   {
    "duration": 31,
    "start_time": "2023-07-29T13:46:54.597Z"
   },
   {
    "duration": 6,
    "start_time": "2023-07-29T13:46:54.630Z"
   },
   {
    "duration": 22,
    "start_time": "2023-07-29T13:46:54.639Z"
   },
   {
    "duration": 15,
    "start_time": "2023-07-29T13:46:54.663Z"
   },
   {
    "duration": 36,
    "start_time": "2023-07-29T13:46:54.680Z"
   },
   {
    "duration": 20,
    "start_time": "2023-07-29T13:46:54.717Z"
   },
   {
    "duration": 19,
    "start_time": "2023-07-29T13:46:54.738Z"
   },
   {
    "duration": 17,
    "start_time": "2023-07-29T13:46:54.759Z"
   },
   {
    "duration": 34,
    "start_time": "2023-07-29T13:46:54.777Z"
   },
   {
    "duration": 14,
    "start_time": "2023-07-29T13:46:54.813Z"
   },
   {
    "duration": 29,
    "start_time": "2023-07-29T13:46:54.829Z"
   },
   {
    "duration": 18,
    "start_time": "2023-07-29T13:46:54.860Z"
   },
   {
    "duration": 32,
    "start_time": "2023-07-29T13:46:54.879Z"
   },
   {
    "duration": 180,
    "start_time": "2023-07-29T13:46:54.914Z"
   },
   {
    "duration": 12,
    "start_time": "2023-07-29T13:46:55.096Z"
   },
   {
    "duration": 21,
    "start_time": "2023-07-29T13:46:55.115Z"
   },
   {
    "duration": 18,
    "start_time": "2023-07-29T13:46:55.137Z"
   },
   {
    "duration": 195,
    "start_time": "2023-07-29T13:46:55.156Z"
   },
   {
    "duration": 10,
    "start_time": "2023-07-29T13:46:55.352Z"
   },
   {
    "duration": 5,
    "start_time": "2023-07-29T13:46:55.364Z"
   },
   {
    "duration": 42,
    "start_time": "2023-07-29T13:46:55.372Z"
   },
   {
    "duration": 9,
    "start_time": "2023-07-29T13:46:55.416Z"
   },
   {
    "duration": 6,
    "start_time": "2023-07-29T13:46:55.427Z"
   },
   {
    "duration": 9,
    "start_time": "2023-07-29T13:46:55.434Z"
   },
   {
    "duration": 19,
    "start_time": "2023-07-29T13:46:55.444Z"
   },
   {
    "duration": 16,
    "start_time": "2023-07-29T13:46:55.465Z"
   },
   {
    "duration": 44,
    "start_time": "2023-07-29T13:46:55.483Z"
   },
   {
    "duration": 43,
    "start_time": "2023-07-29T13:46:55.529Z"
   },
   {
    "duration": 6,
    "start_time": "2023-07-29T13:46:55.574Z"
   },
   {
    "duration": 298,
    "start_time": "2023-07-29T13:46:55.582Z"
   },
   {
    "duration": 6,
    "start_time": "2023-07-29T13:46:55.885Z"
   },
   {
    "duration": 353,
    "start_time": "2023-07-29T13:46:55.893Z"
   },
   {
    "duration": 199,
    "start_time": "2023-07-29T13:46:56.247Z"
   },
   {
    "duration": 13,
    "start_time": "2023-07-29T13:46:56.448Z"
   },
   {
    "duration": 11,
    "start_time": "2023-07-29T13:46:56.463Z"
   },
   {
    "duration": 28,
    "start_time": "2023-07-29T13:46:56.475Z"
   },
   {
    "duration": 44,
    "start_time": "2023-07-29T13:46:56.504Z"
   },
   {
    "duration": 9,
    "start_time": "2023-07-29T13:46:56.549Z"
   },
   {
    "duration": 17,
    "start_time": "2023-07-29T13:46:56.559Z"
   },
   {
    "duration": 308,
    "start_time": "2023-07-29T13:46:56.577Z"
   },
   {
    "duration": 274,
    "start_time": "2023-07-29T13:46:56.887Z"
   },
   {
    "duration": 6,
    "start_time": "2023-07-29T13:46:57.163Z"
   },
   {
    "duration": 5,
    "start_time": "2023-07-29T13:46:58.988Z"
   },
   {
    "duration": 9,
    "start_time": "2023-07-29T13:46:59.734Z"
   },
   {
    "duration": 180,
    "start_time": "2023-07-29T13:47:43.229Z"
   },
   {
    "duration": 192,
    "start_time": "2023-07-29T13:48:09.427Z"
   },
   {
    "duration": 5,
    "start_time": "2023-07-29T13:48:42.990Z"
   },
   {
    "duration": 8,
    "start_time": "2023-07-29T13:48:43.988Z"
   },
   {
    "duration": 175,
    "start_time": "2023-07-29T13:49:45.134Z"
   },
   {
    "duration": 177,
    "start_time": "2023-07-29T13:49:52.877Z"
   },
   {
    "duration": 6,
    "start_time": "2023-07-29T13:51:12.850Z"
   },
   {
    "duration": 9,
    "start_time": "2023-07-29T13:51:14.030Z"
   },
   {
    "duration": 291,
    "start_time": "2023-07-29T13:52:40.994Z"
   },
   {
    "duration": 306,
    "start_time": "2023-07-29T13:52:43.875Z"
   },
   {
    "duration": 5,
    "start_time": "2023-07-29T13:55:09.630Z"
   },
   {
    "duration": 23,
    "start_time": "2023-07-29T13:55:15.996Z"
   },
   {
    "duration": 166,
    "start_time": "2023-07-29T13:56:10.332Z"
   },
   {
    "duration": 182,
    "start_time": "2023-07-29T13:56:15.146Z"
   },
   {
    "duration": 5,
    "start_time": "2023-07-29T13:56:39.177Z"
   },
   {
    "duration": 9,
    "start_time": "2023-07-29T13:56:40.229Z"
   },
   {
    "duration": 12,
    "start_time": "2023-07-29T13:58:31.881Z"
   },
   {
    "duration": 10,
    "start_time": "2023-07-29T13:58:39.429Z"
   },
   {
    "duration": 10,
    "start_time": "2023-07-29T13:59:12.954Z"
   },
   {
    "duration": 174,
    "start_time": "2023-07-29T13:59:22.393Z"
   },
   {
    "duration": 229,
    "start_time": "2023-07-29T13:59:25.980Z"
   },
   {
    "duration": 202,
    "start_time": "2023-07-29T14:04:33.133Z"
   },
   {
    "duration": 206,
    "start_time": "2023-07-29T14:04:39.338Z"
   },
   {
    "duration": 1823,
    "start_time": "2023-07-30T03:11:50.359Z"
   },
   {
    "duration": 152,
    "start_time": "2023-07-30T03:11:52.185Z"
   },
   {
    "duration": 28,
    "start_time": "2023-07-30T03:11:52.341Z"
   },
   {
    "duration": 38,
    "start_time": "2023-07-30T03:11:52.373Z"
   },
   {
    "duration": 32,
    "start_time": "2023-07-30T03:11:52.414Z"
   },
   {
    "duration": 28,
    "start_time": "2023-07-30T03:11:52.450Z"
   },
   {
    "duration": 4,
    "start_time": "2023-07-30T03:11:52.480Z"
   },
   {
    "duration": 48,
    "start_time": "2023-07-30T03:11:52.486Z"
   },
   {
    "duration": 23,
    "start_time": "2023-07-30T03:11:52.537Z"
   },
   {
    "duration": 14,
    "start_time": "2023-07-30T03:11:52.564Z"
   },
   {
    "duration": 7,
    "start_time": "2023-07-30T03:11:52.579Z"
   },
   {
    "duration": 10,
    "start_time": "2023-07-30T03:11:52.597Z"
   },
   {
    "duration": 42,
    "start_time": "2023-07-30T03:11:52.609Z"
   },
   {
    "duration": 30,
    "start_time": "2023-07-30T03:11:52.653Z"
   },
   {
    "duration": 55,
    "start_time": "2023-07-30T03:11:52.685Z"
   },
   {
    "duration": 20,
    "start_time": "2023-07-30T03:11:52.742Z"
   },
   {
    "duration": 36,
    "start_time": "2023-07-30T03:11:52.764Z"
   },
   {
    "duration": 24,
    "start_time": "2023-07-30T03:11:52.805Z"
   },
   {
    "duration": 11,
    "start_time": "2023-07-30T03:11:52.831Z"
   },
   {
    "duration": 7,
    "start_time": "2023-07-30T03:11:52.844Z"
   },
   {
    "duration": 13,
    "start_time": "2023-07-30T03:11:52.854Z"
   },
   {
    "duration": 245,
    "start_time": "2023-07-30T03:11:52.869Z"
   },
   {
    "duration": 14,
    "start_time": "2023-07-30T03:11:53.115Z"
   },
   {
    "duration": 16,
    "start_time": "2023-07-30T03:11:53.131Z"
   },
   {
    "duration": 7,
    "start_time": "2023-07-30T03:11:53.149Z"
   },
   {
    "duration": 270,
    "start_time": "2023-07-30T03:11:53.159Z"
   },
   {
    "duration": 15,
    "start_time": "2023-07-30T03:11:53.430Z"
   },
   {
    "duration": 6,
    "start_time": "2023-07-30T03:11:53.449Z"
   },
   {
    "duration": 8,
    "start_time": "2023-07-30T03:11:53.456Z"
   },
   {
    "duration": 17,
    "start_time": "2023-07-30T03:11:53.492Z"
   },
   {
    "duration": 9,
    "start_time": "2023-07-30T03:11:53.510Z"
   },
   {
    "duration": 10,
    "start_time": "2023-07-30T03:11:53.522Z"
   },
   {
    "duration": 30,
    "start_time": "2023-07-30T03:11:53.537Z"
   },
   {
    "duration": 49,
    "start_time": "2023-07-30T03:11:53.569Z"
   },
   {
    "duration": 27,
    "start_time": "2023-07-30T03:11:53.619Z"
   },
   {
    "duration": 22,
    "start_time": "2023-07-30T03:11:53.648Z"
   },
   {
    "duration": 15,
    "start_time": "2023-07-30T03:11:53.672Z"
   },
   {
    "duration": 503,
    "start_time": "2023-07-30T03:11:53.690Z"
   },
   {
    "duration": 8,
    "start_time": "2023-07-30T03:11:54.198Z"
   },
   {
    "duration": 363,
    "start_time": "2023-07-30T03:11:54.208Z"
   },
   {
    "duration": 322,
    "start_time": "2023-07-30T03:11:54.573Z"
   },
   {
    "duration": 31,
    "start_time": "2023-07-30T03:11:54.898Z"
   },
   {
    "duration": 23,
    "start_time": "2023-07-30T03:11:54.938Z"
   },
   {
    "duration": 16,
    "start_time": "2023-07-30T03:11:54.964Z"
   },
   {
    "duration": 49,
    "start_time": "2023-07-30T03:11:54.982Z"
   },
   {
    "duration": 9,
    "start_time": "2023-07-30T03:11:55.033Z"
   },
   {
    "duration": 19,
    "start_time": "2023-07-30T03:11:55.044Z"
   },
   {
    "duration": 686,
    "start_time": "2023-07-30T03:11:55.065Z"
   },
   {
    "duration": 463,
    "start_time": "2023-07-30T03:11:55.753Z"
   },
   {
    "duration": 21,
    "start_time": "2023-07-30T03:11:56.225Z"
   },
   {
    "duration": 248,
    "start_time": "2023-07-30T03:11:56.249Z"
   },
   {
    "duration": 242,
    "start_time": "2023-07-30T03:11:56.500Z"
   },
   {
    "duration": 21,
    "start_time": "2023-07-30T03:11:56.744Z"
   },
   {
    "duration": 208,
    "start_time": "2023-07-30T03:11:56.767Z"
   },
   {
    "duration": 215,
    "start_time": "2023-07-30T03:11:56.977Z"
   },
   {
    "duration": 14,
    "start_time": "2023-07-30T03:11:57.196Z"
   },
   {
    "duration": 253,
    "start_time": "2023-07-30T03:11:57.215Z"
   },
   {
    "duration": 213,
    "start_time": "2023-07-30T03:11:57.470Z"
   },
   {
    "duration": 131,
    "start_time": "2023-07-30T03:12:27.588Z"
   },
   {
    "duration": 8,
    "start_time": "2023-07-30T03:12:48.427Z"
   },
   {
    "duration": 10,
    "start_time": "2023-07-30T03:12:59.918Z"
   },
   {
    "duration": 5,
    "start_time": "2023-07-30T03:13:50.335Z"
   },
   {
    "duration": 6,
    "start_time": "2023-07-30T03:14:08.463Z"
   },
   {
    "duration": 6,
    "start_time": "2023-07-30T03:14:14.785Z"
   },
   {
    "duration": 5,
    "start_time": "2023-07-30T03:14:26.334Z"
   },
   {
    "duration": 5,
    "start_time": "2023-07-30T03:14:29.528Z"
   },
   {
    "duration": 217,
    "start_time": "2023-07-30T03:15:00.202Z"
   },
   {
    "duration": 206,
    "start_time": "2023-07-30T03:15:21.014Z"
   },
   {
    "duration": 215,
    "start_time": "2023-07-30T03:15:39.926Z"
   },
   {
    "duration": 15,
    "start_time": "2023-07-30T03:16:15.455Z"
   },
   {
    "duration": 11,
    "start_time": "2023-07-30T03:16:20.213Z"
   },
   {
    "duration": 8,
    "start_time": "2023-07-30T03:17:34.716Z"
   },
   {
    "duration": 12,
    "start_time": "2023-07-30T03:17:48.289Z"
   },
   {
    "duration": 9,
    "start_time": "2023-07-30T03:19:10.220Z"
   },
   {
    "duration": 9,
    "start_time": "2023-07-30T03:19:17.892Z"
   },
   {
    "duration": 6,
    "start_time": "2023-07-30T03:19:44.150Z"
   },
   {
    "duration": 9,
    "start_time": "2023-07-30T03:19:47.509Z"
   },
   {
    "duration": 7,
    "start_time": "2023-07-30T03:19:51.572Z"
   },
   {
    "duration": 9,
    "start_time": "2023-07-30T03:19:54.876Z"
   },
   {
    "duration": 9,
    "start_time": "2023-07-30T03:20:14.848Z"
   },
   {
    "duration": 8,
    "start_time": "2023-07-30T03:20:29.618Z"
   },
   {
    "duration": 8,
    "start_time": "2023-07-30T03:20:33.557Z"
   },
   {
    "duration": 243,
    "start_time": "2023-07-30T03:20:59.290Z"
   },
   {
    "duration": 7,
    "start_time": "2023-07-30T03:26:24.555Z"
   },
   {
    "duration": 4,
    "start_time": "2023-07-30T03:41:51.666Z"
   },
   {
    "duration": 81,
    "start_time": "2023-07-30T03:41:51.672Z"
   },
   {
    "duration": 15,
    "start_time": "2023-07-30T03:41:51.755Z"
   },
   {
    "duration": 7,
    "start_time": "2023-07-30T03:41:51.773Z"
   },
   {
    "duration": 25,
    "start_time": "2023-07-30T03:41:51.783Z"
   },
   {
    "duration": 13,
    "start_time": "2023-07-30T03:41:51.810Z"
   },
   {
    "duration": 4,
    "start_time": "2023-07-30T03:41:51.828Z"
   },
   {
    "duration": 23,
    "start_time": "2023-07-30T03:41:51.834Z"
   },
   {
    "duration": 40,
    "start_time": "2023-07-30T03:41:51.859Z"
   },
   {
    "duration": 7,
    "start_time": "2023-07-30T03:41:51.901Z"
   },
   {
    "duration": 14,
    "start_time": "2023-07-30T03:41:51.917Z"
   },
   {
    "duration": 8,
    "start_time": "2023-07-30T03:41:51.932Z"
   },
   {
    "duration": 20,
    "start_time": "2023-07-30T03:41:51.942Z"
   },
   {
    "duration": 31,
    "start_time": "2023-07-30T03:41:51.989Z"
   },
   {
    "duration": 22,
    "start_time": "2023-07-30T03:41:52.022Z"
   },
   {
    "duration": 14,
    "start_time": "2023-07-30T03:41:52.046Z"
   },
   {
    "duration": 53,
    "start_time": "2023-07-30T03:41:52.062Z"
   },
   {
    "duration": 24,
    "start_time": "2023-07-30T03:41:52.123Z"
   },
   {
    "duration": 17,
    "start_time": "2023-07-30T03:41:52.149Z"
   },
   {
    "duration": 5,
    "start_time": "2023-07-30T03:41:52.168Z"
   },
   {
    "duration": 31,
    "start_time": "2023-07-30T03:41:52.174Z"
   },
   {
    "duration": 200,
    "start_time": "2023-07-30T03:41:52.208Z"
   },
   {
    "duration": 9,
    "start_time": "2023-07-30T03:41:52.409Z"
   },
   {
    "duration": 26,
    "start_time": "2023-07-30T03:41:52.420Z"
   },
   {
    "duration": 7,
    "start_time": "2023-07-30T03:41:52.448Z"
   },
   {
    "duration": 265,
    "start_time": "2023-07-30T03:41:52.457Z"
   },
   {
    "duration": 15,
    "start_time": "2023-07-30T03:41:52.723Z"
   },
   {
    "duration": 5,
    "start_time": "2023-07-30T03:41:52.740Z"
   },
   {
    "duration": 6,
    "start_time": "2023-07-30T03:41:52.749Z"
   },
   {
    "duration": 35,
    "start_time": "2023-07-30T03:41:52.757Z"
   },
   {
    "duration": 11,
    "start_time": "2023-07-30T03:41:52.794Z"
   },
   {
    "duration": 8,
    "start_time": "2023-07-30T03:41:52.807Z"
   },
   {
    "duration": 24,
    "start_time": "2023-07-30T03:41:52.817Z"
   },
   {
    "duration": 20,
    "start_time": "2023-07-30T03:41:52.843Z"
   },
   {
    "duration": 56,
    "start_time": "2023-07-30T03:41:52.865Z"
   },
   {
    "duration": 18,
    "start_time": "2023-07-30T03:41:52.923Z"
   },
   {
    "duration": 8,
    "start_time": "2023-07-30T03:41:52.943Z"
   },
   {
    "duration": 772,
    "start_time": "2023-07-30T03:41:52.953Z"
   },
   {
    "duration": 8,
    "start_time": "2023-07-30T03:41:53.728Z"
   },
   {
    "duration": 401,
    "start_time": "2023-07-30T03:41:53.738Z"
   },
   {
    "duration": 288,
    "start_time": "2023-07-30T03:41:54.141Z"
   },
   {
    "duration": 29,
    "start_time": "2023-07-30T03:41:54.433Z"
   },
   {
    "duration": 13,
    "start_time": "2023-07-30T03:41:54.464Z"
   },
   {
    "duration": 13,
    "start_time": "2023-07-30T03:41:54.489Z"
   },
   {
    "duration": 42,
    "start_time": "2023-07-30T03:41:54.507Z"
   },
   {
    "duration": 10,
    "start_time": "2023-07-30T03:41:54.551Z"
   },
   {
    "duration": 9,
    "start_time": "2023-07-30T03:41:54.563Z"
   },
   {
    "duration": 439,
    "start_time": "2023-07-30T03:41:54.574Z"
   },
   {
    "duration": 465,
    "start_time": "2023-07-30T03:41:55.016Z"
   },
   {
    "duration": 31,
    "start_time": "2023-07-30T03:41:55.483Z"
   },
   {
    "duration": 206,
    "start_time": "2023-07-30T03:41:55.519Z"
   },
   {
    "duration": 215,
    "start_time": "2023-07-30T03:41:55.728Z"
   },
   {
    "duration": 15,
    "start_time": "2023-07-30T03:41:55.945Z"
   },
   {
    "duration": 224,
    "start_time": "2023-07-30T03:41:55.962Z"
   },
   {
    "duration": 218,
    "start_time": "2023-07-30T03:41:56.191Z"
   },
   {
    "duration": 13,
    "start_time": "2023-07-30T03:41:56.418Z"
   },
   {
    "duration": 227,
    "start_time": "2023-07-30T03:41:56.433Z"
   },
   {
    "duration": 216,
    "start_time": "2023-07-30T03:41:56.662Z"
   },
   {
    "duration": 24,
    "start_time": "2023-07-30T03:41:56.880Z"
   },
   {
    "duration": 233,
    "start_time": "2023-07-30T03:41:56.913Z"
   },
   {
    "duration": 6,
    "start_time": "2023-07-30T03:41:57.148Z"
   },
   {
    "duration": 228,
    "start_time": "2023-07-30T03:41:57.156Z"
   },
   {
    "duration": 30,
    "start_time": "2023-07-30T03:41:57.386Z"
   },
   {
    "duration": 21,
    "start_time": "2023-07-30T03:41:57.418Z"
   },
   {
    "duration": 17,
    "start_time": "2023-07-30T03:42:13.267Z"
   },
   {
    "duration": 19,
    "start_time": "2023-07-30T03:49:56.428Z"
   },
   {
    "duration": 19,
    "start_time": "2023-07-30T03:51:57.744Z"
   },
   {
    "duration": 3,
    "start_time": "2023-07-30T04:03:07.820Z"
   },
   {
    "duration": 112,
    "start_time": "2023-07-30T04:03:07.826Z"
   },
   {
    "duration": 18,
    "start_time": "2023-07-30T04:03:07.939Z"
   },
   {
    "duration": 38,
    "start_time": "2023-07-30T04:03:07.959Z"
   },
   {
    "duration": 41,
    "start_time": "2023-07-30T04:03:08.000Z"
   },
   {
    "duration": 29,
    "start_time": "2023-07-30T04:03:08.044Z"
   },
   {
    "duration": 37,
    "start_time": "2023-07-30T04:03:08.075Z"
   },
   {
    "duration": 55,
    "start_time": "2023-07-30T04:03:08.117Z"
   },
   {
    "duration": 57,
    "start_time": "2023-07-30T04:03:08.174Z"
   },
   {
    "duration": 14,
    "start_time": "2023-07-30T04:03:08.233Z"
   },
   {
    "duration": 60,
    "start_time": "2023-07-30T04:03:08.250Z"
   },
   {
    "duration": 7,
    "start_time": "2023-07-30T04:03:08.316Z"
   },
   {
    "duration": 55,
    "start_time": "2023-07-30T04:03:08.325Z"
   },
   {
    "duration": 53,
    "start_time": "2023-07-30T04:03:08.389Z"
   },
   {
    "duration": 22,
    "start_time": "2023-07-30T04:03:08.445Z"
   },
   {
    "duration": 47,
    "start_time": "2023-07-30T04:03:08.469Z"
   },
   {
    "duration": 27,
    "start_time": "2023-07-30T04:03:08.518Z"
   },
   {
    "duration": 26,
    "start_time": "2023-07-30T04:03:08.547Z"
   },
   {
    "duration": 46,
    "start_time": "2023-07-30T04:03:08.575Z"
   },
   {
    "duration": 48,
    "start_time": "2023-07-30T04:03:08.624Z"
   },
   {
    "duration": 62,
    "start_time": "2023-07-30T04:03:08.674Z"
   },
   {
    "duration": 296,
    "start_time": "2023-07-30T04:03:08.739Z"
   },
   {
    "duration": 9,
    "start_time": "2023-07-30T04:03:09.037Z"
   },
   {
    "duration": 33,
    "start_time": "2023-07-30T04:03:09.048Z"
   },
   {
    "duration": 52,
    "start_time": "2023-07-30T04:03:09.083Z"
   },
   {
    "duration": 282,
    "start_time": "2023-07-30T04:03:09.136Z"
   },
   {
    "duration": 13,
    "start_time": "2023-07-30T04:03:09.419Z"
   },
   {
    "duration": 61,
    "start_time": "2023-07-30T04:03:09.434Z"
   },
   {
    "duration": 41,
    "start_time": "2023-07-30T04:03:09.505Z"
   },
   {
    "duration": 58,
    "start_time": "2023-07-30T04:03:09.549Z"
   },
   {
    "duration": 41,
    "start_time": "2023-07-30T04:03:09.611Z"
   },
   {
    "duration": 112,
    "start_time": "2023-07-30T04:03:09.655Z"
   },
   {
    "duration": 182,
    "start_time": "2023-07-30T04:03:09.768Z"
   },
   {
    "duration": 34,
    "start_time": "2023-07-30T04:03:09.952Z"
   },
   {
    "duration": 43,
    "start_time": "2023-07-30T04:03:09.987Z"
   },
   {
    "duration": 21,
    "start_time": "2023-07-30T04:03:10.032Z"
   },
   {
    "duration": 54,
    "start_time": "2023-07-30T04:03:10.055Z"
   },
   {
    "duration": 404,
    "start_time": "2023-07-30T04:03:10.111Z"
   },
   {
    "duration": 8,
    "start_time": "2023-07-30T04:03:10.522Z"
   },
   {
    "duration": 354,
    "start_time": "2023-07-30T04:03:10.532Z"
   },
   {
    "duration": 271,
    "start_time": "2023-07-30T04:03:10.904Z"
   },
   {
    "duration": 44,
    "start_time": "2023-07-30T04:03:11.178Z"
   },
   {
    "duration": 13,
    "start_time": "2023-07-30T04:03:11.227Z"
   },
   {
    "duration": 49,
    "start_time": "2023-07-30T04:03:11.243Z"
   },
   {
    "duration": 54,
    "start_time": "2023-07-30T04:03:11.294Z"
   },
   {
    "duration": 7,
    "start_time": "2023-07-30T04:03:11.350Z"
   },
   {
    "duration": 28,
    "start_time": "2023-07-30T04:03:11.359Z"
   },
   {
    "duration": 356,
    "start_time": "2023-07-30T04:03:11.395Z"
   },
   {
    "duration": 347,
    "start_time": "2023-07-30T04:03:11.752Z"
   },
   {
    "duration": 20,
    "start_time": "2023-07-30T04:03:12.102Z"
   },
   {
    "duration": 209,
    "start_time": "2023-07-30T04:03:12.124Z"
   },
   {
    "duration": 211,
    "start_time": "2023-07-30T04:03:12.335Z"
   },
   {
    "duration": 12,
    "start_time": "2023-07-30T04:03:12.548Z"
   },
   {
    "duration": 276,
    "start_time": "2023-07-30T04:03:12.562Z"
   },
   {
    "duration": 242,
    "start_time": "2023-07-30T04:03:12.840Z"
   },
   {
    "duration": 27,
    "start_time": "2023-07-30T04:03:13.084Z"
   },
   {
    "duration": 222,
    "start_time": "2023-07-30T04:03:13.112Z"
   },
   {
    "duration": 201,
    "start_time": "2023-07-30T04:03:13.335Z"
   },
   {
    "duration": 6,
    "start_time": "2023-07-30T04:03:13.538Z"
   },
   {
    "duration": 266,
    "start_time": "2023-07-30T04:03:13.546Z"
   },
   {
    "duration": 13,
    "start_time": "2023-07-30T04:03:13.814Z"
   },
   {
    "duration": 734,
    "start_time": "2023-07-30T04:03:13.829Z"
   },
   {
    "duration": 38,
    "start_time": "2023-07-30T04:03:14.565Z"
   },
   {
    "duration": 33,
    "start_time": "2023-07-30T04:03:14.605Z"
   },
   {
    "duration": 17,
    "start_time": "2023-07-30T04:03:14.640Z"
   },
   {
    "duration": 22,
    "start_time": "2023-07-30T04:03:14.660Z"
   },
   {
    "duration": 322,
    "start_time": "2023-07-30T04:03:14.685Z"
   },
   {
    "duration": 10,
    "start_time": "2023-07-30T04:03:15.009Z"
   },
   {
    "duration": 251,
    "start_time": "2023-07-30T04:04:03.040Z"
   },
   {
    "duration": 229,
    "start_time": "2023-07-30T04:04:18.019Z"
   },
   {
    "duration": 239,
    "start_time": "2023-07-30T04:04:23.152Z"
   },
   {
    "duration": 7,
    "start_time": "2023-07-30T04:05:21.514Z"
   },
   {
    "duration": 10,
    "start_time": "2023-07-30T04:05:29.813Z"
   },
   {
    "duration": 6,
    "start_time": "2023-07-30T04:09:31.591Z"
   },
   {
    "duration": 17,
    "start_time": "2023-07-30T04:09:46.281Z"
   },
   {
    "duration": 289,
    "start_time": "2023-07-30T04:09:47.236Z"
   },
   {
    "duration": 6,
    "start_time": "2023-07-30T04:09:53.661Z"
   },
   {
    "duration": 22,
    "start_time": "2023-07-30T04:16:07.686Z"
   },
   {
    "duration": 304,
    "start_time": "2023-07-30T04:16:12.760Z"
   },
   {
    "duration": 6,
    "start_time": "2023-07-30T04:16:55.374Z"
   },
   {
    "duration": 5,
    "start_time": "2023-07-30T04:19:43.567Z"
   },
   {
    "duration": 5,
    "start_time": "2023-07-30T04:19:57.044Z"
   },
   {
    "duration": 1379,
    "start_time": "2023-07-30T04:34:39.178Z"
   },
   {
    "duration": 78,
    "start_time": "2023-07-30T04:34:40.559Z"
   },
   {
    "duration": 23,
    "start_time": "2023-07-30T04:34:40.640Z"
   },
   {
    "duration": 3,
    "start_time": "2023-07-30T04:34:40.666Z"
   },
   {
    "duration": 32,
    "start_time": "2023-07-30T04:34:40.671Z"
   },
   {
    "duration": 15,
    "start_time": "2023-07-30T04:34:40.709Z"
   },
   {
    "duration": 9,
    "start_time": "2023-07-30T04:34:40.726Z"
   },
   {
    "duration": 25,
    "start_time": "2023-07-30T04:34:40.737Z"
   },
   {
    "duration": 48,
    "start_time": "2023-07-30T04:34:40.763Z"
   },
   {
    "duration": 8,
    "start_time": "2023-07-30T04:34:40.827Z"
   },
   {
    "duration": 25,
    "start_time": "2023-07-30T04:34:40.838Z"
   },
   {
    "duration": 9,
    "start_time": "2023-07-30T04:34:40.865Z"
   },
   {
    "duration": 36,
    "start_time": "2023-07-30T04:34:40.876Z"
   },
   {
    "duration": 51,
    "start_time": "2023-07-30T04:34:40.915Z"
   },
   {
    "duration": 32,
    "start_time": "2023-07-30T04:34:40.968Z"
   },
   {
    "duration": 31,
    "start_time": "2023-07-30T04:34:41.002Z"
   },
   {
    "duration": 24,
    "start_time": "2023-07-30T04:34:41.039Z"
   },
   {
    "duration": 15,
    "start_time": "2023-07-30T04:34:41.065Z"
   },
   {
    "duration": 20,
    "start_time": "2023-07-30T04:34:41.101Z"
   },
   {
    "duration": 7,
    "start_time": "2023-07-30T04:34:41.123Z"
   },
   {
    "duration": 12,
    "start_time": "2023-07-30T04:34:41.132Z"
   },
   {
    "duration": 232,
    "start_time": "2023-07-30T04:34:41.146Z"
   },
   {
    "duration": 18,
    "start_time": "2023-07-30T04:34:41.380Z"
   },
   {
    "duration": 11,
    "start_time": "2023-07-30T04:34:41.400Z"
   },
   {
    "duration": 12,
    "start_time": "2023-07-30T04:34:41.413Z"
   },
   {
    "duration": 249,
    "start_time": "2023-07-30T04:34:41.434Z"
   },
   {
    "duration": 17,
    "start_time": "2023-07-30T04:34:41.684Z"
   },
   {
    "duration": 17,
    "start_time": "2023-07-30T04:34:41.707Z"
   },
   {
    "duration": 17,
    "start_time": "2023-07-30T04:34:41.725Z"
   },
   {
    "duration": 12,
    "start_time": "2023-07-30T04:34:41.744Z"
   },
   {
    "duration": 4,
    "start_time": "2023-07-30T04:34:41.758Z"
   },
   {
    "duration": 7,
    "start_time": "2023-07-30T04:34:41.764Z"
   },
   {
    "duration": 33,
    "start_time": "2023-07-30T04:34:41.773Z"
   },
   {
    "duration": 29,
    "start_time": "2023-07-30T04:34:41.808Z"
   },
   {
    "duration": 24,
    "start_time": "2023-07-30T04:34:41.839Z"
   },
   {
    "duration": 46,
    "start_time": "2023-07-30T04:34:41.865Z"
   },
   {
    "duration": 7,
    "start_time": "2023-07-30T04:34:41.913Z"
   },
   {
    "duration": 406,
    "start_time": "2023-07-30T04:34:41.922Z"
   },
   {
    "duration": 8,
    "start_time": "2023-07-30T04:34:42.332Z"
   },
   {
    "duration": 367,
    "start_time": "2023-07-30T04:34:42.342Z"
   },
   {
    "duration": 249,
    "start_time": "2023-07-30T04:34:42.710Z"
   },
   {
    "duration": 29,
    "start_time": "2023-07-30T04:34:42.961Z"
   },
   {
    "duration": 27,
    "start_time": "2023-07-30T04:34:42.998Z"
   },
   {
    "duration": 10,
    "start_time": "2023-07-30T04:34:43.027Z"
   },
   {
    "duration": 82,
    "start_time": "2023-07-30T04:34:43.038Z"
   },
   {
    "duration": 9,
    "start_time": "2023-07-30T04:34:43.122Z"
   },
   {
    "duration": 7,
    "start_time": "2023-07-30T04:34:43.136Z"
   },
   {
    "duration": 380,
    "start_time": "2023-07-30T04:34:43.145Z"
   },
   {
    "duration": 421,
    "start_time": "2023-07-30T04:34:43.527Z"
   },
   {
    "duration": 12,
    "start_time": "2023-07-30T04:34:43.950Z"
   },
   {
    "duration": 203,
    "start_time": "2023-07-30T04:34:43.963Z"
   },
   {
    "duration": 227,
    "start_time": "2023-07-30T04:34:44.168Z"
   },
   {
    "duration": 16,
    "start_time": "2023-07-30T04:34:44.399Z"
   },
   {
    "duration": 177,
    "start_time": "2023-07-30T04:34:44.416Z"
   },
   {
    "duration": 234,
    "start_time": "2023-07-30T04:34:44.594Z"
   },
   {
    "duration": 12,
    "start_time": "2023-07-30T04:34:44.832Z"
   },
   {
    "duration": 227,
    "start_time": "2023-07-30T04:34:44.846Z"
   },
   {
    "duration": 217,
    "start_time": "2023-07-30T04:34:45.076Z"
   },
   {
    "duration": 22,
    "start_time": "2023-07-30T04:34:45.294Z"
   },
   {
    "duration": 238,
    "start_time": "2023-07-30T04:34:45.322Z"
   },
   {
    "duration": 7,
    "start_time": "2023-07-30T04:34:45.561Z"
   },
   {
    "duration": 254,
    "start_time": "2023-07-30T04:34:45.569Z"
   },
   {
    "duration": 16,
    "start_time": "2023-07-30T04:34:45.825Z"
   },
   {
    "duration": 18,
    "start_time": "2023-07-30T04:34:45.842Z"
   },
   {
    "duration": 17,
    "start_time": "2023-07-30T04:34:45.862Z"
   },
   {
    "duration": 23,
    "start_time": "2023-07-30T04:34:45.891Z"
   },
   {
    "duration": 266,
    "start_time": "2023-07-30T04:34:45.916Z"
   },
   {
    "duration": 20,
    "start_time": "2023-07-30T04:34:46.187Z"
   },
   {
    "duration": 27,
    "start_time": "2023-07-30T04:34:46.211Z"
   },
   {
    "duration": 413,
    "start_time": "2023-07-30T04:34:46.240Z"
   },
   {
    "duration": 6,
    "start_time": "2023-07-30T04:34:46.655Z"
   },
   {
    "duration": 8,
    "start_time": "2023-07-30T04:35:56.166Z"
   },
   {
    "duration": 54,
    "start_time": "2023-07-30T04:42:23.287Z"
   },
   {
    "duration": 6,
    "start_time": "2023-07-30T04:47:18.069Z"
   },
   {
    "duration": 4,
    "start_time": "2023-07-30T04:47:24.456Z"
   },
   {
    "duration": 100,
    "start_time": "2023-07-30T04:47:24.467Z"
   },
   {
    "duration": 26,
    "start_time": "2023-07-30T04:47:24.569Z"
   },
   {
    "duration": 6,
    "start_time": "2023-07-30T04:47:24.596Z"
   },
   {
    "duration": 38,
    "start_time": "2023-07-30T04:47:24.604Z"
   },
   {
    "duration": 8,
    "start_time": "2023-07-30T04:47:24.650Z"
   },
   {
    "duration": 23,
    "start_time": "2023-07-30T04:47:24.660Z"
   },
   {
    "duration": 66,
    "start_time": "2023-07-30T04:47:24.689Z"
   },
   {
    "duration": 52,
    "start_time": "2023-07-30T04:47:24.759Z"
   },
   {
    "duration": 9,
    "start_time": "2023-07-30T04:47:24.814Z"
   },
   {
    "duration": 7,
    "start_time": "2023-07-30T04:47:24.825Z"
   },
   {
    "duration": 6,
    "start_time": "2023-07-30T04:47:24.834Z"
   },
   {
    "duration": 55,
    "start_time": "2023-07-30T04:47:24.842Z"
   },
   {
    "duration": 38,
    "start_time": "2023-07-30T04:47:24.902Z"
   },
   {
    "duration": 47,
    "start_time": "2023-07-30T04:47:24.946Z"
   },
   {
    "duration": 55,
    "start_time": "2023-07-30T04:47:24.998Z"
   },
   {
    "duration": 22,
    "start_time": "2023-07-30T04:47:25.062Z"
   },
   {
    "duration": 24,
    "start_time": "2023-07-30T04:47:25.098Z"
   },
   {
    "duration": 23,
    "start_time": "2023-07-30T04:47:25.123Z"
   },
   {
    "duration": 26,
    "start_time": "2023-07-30T04:47:25.150Z"
   },
   {
    "duration": 329,
    "start_time": "2023-07-30T04:47:25.179Z"
   },
   {
    "duration": 12,
    "start_time": "2023-07-30T04:47:35.530Z"
   },
   {
    "duration": 1724,
    "start_time": "2023-07-30T04:53:00.751Z"
   },
   {
    "duration": 88,
    "start_time": "2023-07-30T04:53:02.482Z"
   },
   {
    "duration": 27,
    "start_time": "2023-07-30T04:53:02.573Z"
   },
   {
    "duration": 43,
    "start_time": "2023-07-30T04:53:02.608Z"
   },
   {
    "duration": 53,
    "start_time": "2023-07-30T04:53:02.654Z"
   },
   {
    "duration": 10,
    "start_time": "2023-07-30T04:53:02.709Z"
   },
   {
    "duration": 18,
    "start_time": "2023-07-30T04:53:02.721Z"
   },
   {
    "duration": 49,
    "start_time": "2023-07-30T04:53:02.741Z"
   },
   {
    "duration": 23,
    "start_time": "2023-07-30T04:53:02.792Z"
   },
   {
    "duration": 6,
    "start_time": "2023-07-30T04:53:02.819Z"
   },
   {
    "duration": 30,
    "start_time": "2023-07-30T04:53:02.827Z"
   },
   {
    "duration": 68,
    "start_time": "2023-07-30T04:53:02.859Z"
   },
   {
    "duration": 30,
    "start_time": "2023-07-30T04:53:02.931Z"
   },
   {
    "duration": 63,
    "start_time": "2023-07-30T04:53:02.963Z"
   },
   {
    "duration": 33,
    "start_time": "2023-07-30T04:53:03.028Z"
   },
   {
    "duration": 32,
    "start_time": "2023-07-30T04:53:03.065Z"
   },
   {
    "duration": 24,
    "start_time": "2023-07-30T04:53:03.099Z"
   },
   {
    "duration": 22,
    "start_time": "2023-07-30T04:53:03.130Z"
   },
   {
    "duration": 46,
    "start_time": "2023-07-30T04:53:03.155Z"
   },
   {
    "duration": 110,
    "start_time": "2023-07-30T04:53:03.209Z"
   },
   {
    "duration": 246,
    "start_time": "2023-07-30T04:53:03.321Z"
   },
   {
    "duration": 10,
    "start_time": "2023-07-30T04:53:03.570Z"
   },
   {
    "duration": 279,
    "start_time": "2023-07-30T04:53:03.590Z"
   },
   {
    "duration": 14,
    "start_time": "2023-07-30T04:53:03.872Z"
   },
   {
    "duration": 45,
    "start_time": "2023-07-30T04:53:03.895Z"
   },
   {
    "duration": 7,
    "start_time": "2023-07-30T04:53:03.942Z"
   },
   {
    "duration": 60,
    "start_time": "2023-07-30T04:53:03.952Z"
   },
   {
    "duration": 29,
    "start_time": "2023-07-30T04:53:04.024Z"
   },
   {
    "duration": 30,
    "start_time": "2023-07-30T04:53:04.055Z"
   },
   {
    "duration": 44,
    "start_time": "2023-07-30T04:53:04.087Z"
   },
   {
    "duration": 42,
    "start_time": "2023-07-30T04:53:04.134Z"
   },
   {
    "duration": 29,
    "start_time": "2023-07-30T04:53:04.178Z"
   },
   {
    "duration": 26,
    "start_time": "2023-07-30T04:53:04.209Z"
   },
   {
    "duration": 26,
    "start_time": "2023-07-30T04:53:04.237Z"
   },
   {
    "duration": 36,
    "start_time": "2023-07-30T04:53:04.265Z"
   },
   {
    "duration": 455,
    "start_time": "2023-07-30T04:53:04.306Z"
   },
   {
    "duration": 10,
    "start_time": "2023-07-30T04:53:04.767Z"
   },
   {
    "duration": 548,
    "start_time": "2023-07-30T04:53:04.779Z"
   },
   {
    "duration": 380,
    "start_time": "2023-07-30T04:53:05.329Z"
   },
   {
    "duration": 23,
    "start_time": "2023-07-30T04:53:05.713Z"
   },
   {
    "duration": 16,
    "start_time": "2023-07-30T04:53:05.738Z"
   },
   {
    "duration": 7,
    "start_time": "2023-07-30T04:53:05.758Z"
   },
   {
    "duration": 48,
    "start_time": "2023-07-30T04:53:05.767Z"
   },
   {
    "duration": 19,
    "start_time": "2023-07-30T04:53:05.822Z"
   },
   {
    "duration": 12,
    "start_time": "2023-07-30T04:53:05.846Z"
   },
   {
    "duration": 501,
    "start_time": "2023-07-30T04:53:05.861Z"
   },
   {
    "duration": 591,
    "start_time": "2023-07-30T04:53:06.365Z"
   },
   {
    "duration": 13,
    "start_time": "2023-07-30T04:53:06.963Z"
   },
   {
    "duration": 197,
    "start_time": "2023-07-30T04:53:06.987Z"
   },
   {
    "duration": 286,
    "start_time": "2023-07-30T04:53:07.191Z"
   },
   {
    "duration": 32,
    "start_time": "2023-07-30T04:53:07.480Z"
   },
   {
    "duration": 283,
    "start_time": "2023-07-30T04:53:07.515Z"
   },
   {
    "duration": 297,
    "start_time": "2023-07-30T04:53:07.801Z"
   },
   {
    "duration": 27,
    "start_time": "2023-07-30T04:53:08.105Z"
   },
   {
    "duration": 306,
    "start_time": "2023-07-30T04:53:08.138Z"
   },
   {
    "duration": 269,
    "start_time": "2023-07-30T04:53:08.451Z"
   },
   {
    "duration": 19,
    "start_time": "2023-07-30T04:53:08.722Z"
   },
   {
    "duration": 303,
    "start_time": "2023-07-30T04:53:08.746Z"
   },
   {
    "duration": 12,
    "start_time": "2023-07-30T04:53:09.055Z"
   },
   {
    "duration": 279,
    "start_time": "2023-07-30T04:53:09.069Z"
   },
   {
    "duration": 17,
    "start_time": "2023-07-30T04:53:09.350Z"
   },
   {
    "duration": 56,
    "start_time": "2023-07-30T04:53:09.369Z"
   },
   {
    "duration": 24,
    "start_time": "2023-07-30T04:53:09.426Z"
   },
   {
    "duration": 40,
    "start_time": "2023-07-30T04:53:09.454Z"
   },
   {
    "duration": 266,
    "start_time": "2023-07-30T04:53:09.496Z"
   },
   {
    "duration": 5,
    "start_time": "2023-07-30T04:53:09.764Z"
   },
   {
    "duration": 30,
    "start_time": "2023-07-30T04:53:09.771Z"
   },
   {
    "duration": 469,
    "start_time": "2023-07-30T04:53:09.802Z"
   },
   {
    "duration": 5,
    "start_time": "2023-07-30T04:53:10.274Z"
   },
   {
    "duration": 1325,
    "start_time": "2023-07-30T04:58:46.546Z"
   },
   {
    "duration": 78,
    "start_time": "2023-07-30T04:58:47.874Z"
   },
   {
    "duration": 23,
    "start_time": "2023-07-30T04:58:47.955Z"
   },
   {
    "duration": 9,
    "start_time": "2023-07-30T04:58:47.982Z"
   },
   {
    "duration": 24,
    "start_time": "2023-07-30T04:58:48.003Z"
   },
   {
    "duration": 11,
    "start_time": "2023-07-30T04:58:48.030Z"
   },
   {
    "duration": 4,
    "start_time": "2023-07-30T04:58:48.044Z"
   },
   {
    "duration": 28,
    "start_time": "2023-07-30T04:58:48.050Z"
   },
   {
    "duration": 36,
    "start_time": "2023-07-30T04:58:48.081Z"
   },
   {
    "duration": 10,
    "start_time": "2023-07-30T04:58:48.120Z"
   },
   {
    "duration": 7,
    "start_time": "2023-07-30T04:58:48.132Z"
   },
   {
    "duration": 7,
    "start_time": "2023-07-30T04:58:48.140Z"
   },
   {
    "duration": 14,
    "start_time": "2023-07-30T04:58:48.148Z"
   },
   {
    "duration": 48,
    "start_time": "2023-07-30T04:58:48.164Z"
   },
   {
    "duration": 38,
    "start_time": "2023-07-30T04:58:48.214Z"
   },
   {
    "duration": 225,
    "start_time": "2023-07-30T04:58:48.255Z"
   },
   {
    "duration": 47,
    "start_time": "2023-07-30T04:58:48.482Z"
   },
   {
    "duration": 36,
    "start_time": "2023-07-30T04:58:48.531Z"
   },
   {
    "duration": 11,
    "start_time": "2023-07-30T04:58:48.569Z"
   },
   {
    "duration": 13,
    "start_time": "2023-07-30T04:58:48.582Z"
   },
   {
    "duration": 15,
    "start_time": "2023-07-30T04:58:48.600Z"
   },
   {
    "duration": 10,
    "start_time": "2023-07-30T04:58:48.617Z"
   },
   {
    "duration": 326,
    "start_time": "2023-07-30T04:58:48.631Z"
   },
   {
    "duration": 16,
    "start_time": "2023-07-30T04:58:48.959Z"
   },
   {
    "duration": 28,
    "start_time": "2023-07-30T04:58:48.978Z"
   },
   {
    "duration": 28,
    "start_time": "2023-07-30T04:58:49.013Z"
   },
   {
    "duration": 8,
    "start_time": "2023-07-30T04:58:49.044Z"
   },
   {
    "duration": 18,
    "start_time": "2023-07-30T04:58:49.057Z"
   },
   {
    "duration": 5,
    "start_time": "2023-07-30T04:58:49.078Z"
   },
   {
    "duration": 36,
    "start_time": "2023-07-30T04:58:49.085Z"
   },
   {
    "duration": 37,
    "start_time": "2023-07-30T04:58:49.122Z"
   },
   {
    "duration": 37,
    "start_time": "2023-07-30T04:58:49.161Z"
   },
   {
    "duration": 22,
    "start_time": "2023-07-30T04:58:49.200Z"
   },
   {
    "duration": 26,
    "start_time": "2023-07-30T04:58:49.223Z"
   },
   {
    "duration": 13,
    "start_time": "2023-07-30T04:58:49.251Z"
   },
   {
    "duration": 391,
    "start_time": "2023-07-30T04:58:49.266Z"
   },
   {
    "duration": 8,
    "start_time": "2023-07-30T04:58:49.660Z"
   },
   {
    "duration": 469,
    "start_time": "2023-07-30T04:58:49.671Z"
   },
   {
    "duration": 270,
    "start_time": "2023-07-30T04:58:50.142Z"
   },
   {
    "duration": 25,
    "start_time": "2023-07-30T04:58:50.413Z"
   },
   {
    "duration": 12,
    "start_time": "2023-07-30T04:58:50.440Z"
   },
   {
    "duration": 12,
    "start_time": "2023-07-30T04:58:50.454Z"
   },
   {
    "duration": 59,
    "start_time": "2023-07-30T04:58:50.468Z"
   },
   {
    "duration": 10,
    "start_time": "2023-07-30T04:58:50.529Z"
   },
   {
    "duration": 45,
    "start_time": "2023-07-30T04:58:50.541Z"
   },
   {
    "duration": 471,
    "start_time": "2023-07-30T04:58:50.588Z"
   },
   {
    "duration": 367,
    "start_time": "2023-07-30T04:58:51.062Z"
   },
   {
    "duration": 13,
    "start_time": "2023-07-30T04:58:51.430Z"
   },
   {
    "duration": 207,
    "start_time": "2023-07-30T04:58:51.444Z"
   },
   {
    "duration": 230,
    "start_time": "2023-07-30T04:58:51.653Z"
   },
   {
    "duration": 30,
    "start_time": "2023-07-30T04:58:51.885Z"
   },
   {
    "duration": 188,
    "start_time": "2023-07-30T04:58:51.919Z"
   },
   {
    "duration": 250,
    "start_time": "2023-07-30T04:58:52.114Z"
   },
   {
    "duration": 35,
    "start_time": "2023-07-30T04:58:52.367Z"
   },
   {
    "duration": 264,
    "start_time": "2023-07-30T04:58:52.414Z"
   },
   {
    "duration": 262,
    "start_time": "2023-07-30T04:58:52.680Z"
   },
   {
    "duration": 9,
    "start_time": "2023-07-30T04:58:52.945Z"
   },
   {
    "duration": 296,
    "start_time": "2023-07-30T04:58:52.957Z"
   },
   {
    "duration": 7,
    "start_time": "2023-07-30T04:58:53.255Z"
   },
   {
    "duration": 252,
    "start_time": "2023-07-30T04:58:53.264Z"
   },
   {
    "duration": 18,
    "start_time": "2023-07-30T04:58:53.518Z"
   },
   {
    "duration": 26,
    "start_time": "2023-07-30T04:58:53.538Z"
   },
   {
    "duration": 22,
    "start_time": "2023-07-30T04:58:53.566Z"
   },
   {
    "duration": 25,
    "start_time": "2023-07-30T04:58:53.594Z"
   },
   {
    "duration": 359,
    "start_time": "2023-07-30T04:58:53.624Z"
   },
   {
    "duration": 14,
    "start_time": "2023-07-30T04:58:54.002Z"
   },
   {
    "duration": 26,
    "start_time": "2023-07-30T04:58:54.021Z"
   },
   {
    "duration": 319,
    "start_time": "2023-07-30T04:58:54.049Z"
   },
   {
    "duration": 6,
    "start_time": "2023-07-30T04:58:54.370Z"
   },
   {
    "duration": 1437,
    "start_time": "2023-07-30T05:03:19.238Z"
   },
   {
    "duration": 81,
    "start_time": "2023-07-30T05:03:20.678Z"
   },
   {
    "duration": 21,
    "start_time": "2023-07-30T05:03:20.761Z"
   },
   {
    "duration": 27,
    "start_time": "2023-07-30T05:03:20.785Z"
   },
   {
    "duration": 63,
    "start_time": "2023-07-30T05:03:20.815Z"
   },
   {
    "duration": 55,
    "start_time": "2023-07-30T05:03:20.881Z"
   },
   {
    "duration": 33,
    "start_time": "2023-07-30T05:03:20.938Z"
   },
   {
    "duration": 52,
    "start_time": "2023-07-30T05:03:20.974Z"
   },
   {
    "duration": 29,
    "start_time": "2023-07-30T05:03:21.029Z"
   },
   {
    "duration": 27,
    "start_time": "2023-07-30T05:03:21.061Z"
   },
   {
    "duration": 71,
    "start_time": "2023-07-30T05:03:21.090Z"
   },
   {
    "duration": 45,
    "start_time": "2023-07-30T05:03:21.163Z"
   },
   {
    "duration": 61,
    "start_time": "2023-07-30T05:03:21.211Z"
   },
   {
    "duration": 54,
    "start_time": "2023-07-30T05:03:21.275Z"
   },
   {
    "duration": 37,
    "start_time": "2023-07-30T05:03:21.332Z"
   },
   {
    "duration": 222,
    "start_time": "2023-07-30T05:03:21.371Z"
   },
   {
    "duration": 23,
    "start_time": "2023-07-30T05:03:21.595Z"
   },
   {
    "duration": 65,
    "start_time": "2023-07-30T05:03:21.619Z"
   },
   {
    "duration": 52,
    "start_time": "2023-07-30T05:03:21.686Z"
   },
   {
    "duration": 36,
    "start_time": "2023-07-30T05:03:21.743Z"
   },
   {
    "duration": 33,
    "start_time": "2023-07-30T05:03:21.781Z"
   },
   {
    "duration": 28,
    "start_time": "2023-07-30T05:03:21.816Z"
   },
   {
    "duration": 360,
    "start_time": "2023-07-30T05:03:21.846Z"
   },
   {
    "duration": 28,
    "start_time": "2023-07-30T05:03:22.211Z"
   },
   {
    "duration": 18,
    "start_time": "2023-07-30T05:03:22.241Z"
   },
   {
    "duration": 7,
    "start_time": "2023-07-30T05:03:22.261Z"
   },
   {
    "duration": 10,
    "start_time": "2023-07-30T05:03:22.269Z"
   },
   {
    "duration": 31,
    "start_time": "2023-07-30T05:03:22.284Z"
   },
   {
    "duration": 12,
    "start_time": "2023-07-30T05:03:22.318Z"
   },
   {
    "duration": 16,
    "start_time": "2023-07-30T05:03:22.332Z"
   },
   {
    "duration": 26,
    "start_time": "2023-07-30T05:03:22.351Z"
   },
   {
    "duration": 49,
    "start_time": "2023-07-30T05:03:22.379Z"
   },
   {
    "duration": 40,
    "start_time": "2023-07-30T05:03:22.431Z"
   },
   {
    "duration": 22,
    "start_time": "2023-07-30T05:03:22.474Z"
   },
   {
    "duration": 20,
    "start_time": "2023-07-30T05:03:22.498Z"
   },
   {
    "duration": 447,
    "start_time": "2023-07-30T05:03:22.523Z"
   },
   {
    "duration": 5,
    "start_time": "2023-07-30T05:03:22.972Z"
   },
   {
    "duration": 377,
    "start_time": "2023-07-30T05:03:22.979Z"
   },
   {
    "duration": 301,
    "start_time": "2023-07-30T05:03:23.359Z"
   },
   {
    "duration": 35,
    "start_time": "2023-07-30T05:03:23.662Z"
   },
   {
    "duration": 20,
    "start_time": "2023-07-30T05:03:23.701Z"
   },
   {
    "duration": 5,
    "start_time": "2023-07-30T05:03:23.728Z"
   },
   {
    "duration": 49,
    "start_time": "2023-07-30T05:03:23.735Z"
   },
   {
    "duration": 17,
    "start_time": "2023-07-30T05:03:23.786Z"
   },
   {
    "duration": 10,
    "start_time": "2023-07-30T05:03:23.816Z"
   },
   {
    "duration": 475,
    "start_time": "2023-07-30T05:03:23.828Z"
   },
   {
    "duration": 385,
    "start_time": "2023-07-30T05:03:24.308Z"
   },
   {
    "duration": 16,
    "start_time": "2023-07-30T05:03:24.694Z"
   },
   {
    "duration": 257,
    "start_time": "2023-07-30T05:03:24.712Z"
   },
   {
    "duration": 292,
    "start_time": "2023-07-30T05:03:24.971Z"
   },
   {
    "duration": 24,
    "start_time": "2023-07-30T05:03:25.265Z"
   },
   {
    "duration": 277,
    "start_time": "2023-07-30T05:03:25.301Z"
   },
   {
    "duration": 265,
    "start_time": "2023-07-30T05:03:25.581Z"
   },
   {
    "duration": 15,
    "start_time": "2023-07-30T05:03:25.848Z"
   },
   {
    "duration": 237,
    "start_time": "2023-07-30T05:03:25.866Z"
   },
   {
    "duration": 215,
    "start_time": "2023-07-30T05:03:26.108Z"
   },
   {
    "duration": 11,
    "start_time": "2023-07-30T05:03:26.327Z"
   },
   {
    "duration": 342,
    "start_time": "2023-07-30T05:03:26.341Z"
   },
   {
    "duration": 21,
    "start_time": "2023-07-30T05:03:26.694Z"
   },
   {
    "duration": 232,
    "start_time": "2023-07-30T05:03:26.725Z"
   },
   {
    "duration": 18,
    "start_time": "2023-07-30T05:03:26.960Z"
   },
   {
    "duration": 46,
    "start_time": "2023-07-30T05:03:26.988Z"
   },
   {
    "duration": 24,
    "start_time": "2023-07-30T05:03:27.036Z"
   },
   {
    "duration": 22,
    "start_time": "2023-07-30T05:03:27.062Z"
   },
   {
    "duration": 443,
    "start_time": "2023-07-30T05:03:27.086Z"
   },
   {
    "duration": 9,
    "start_time": "2023-07-30T05:03:27.533Z"
   },
   {
    "duration": 28,
    "start_time": "2023-07-30T05:03:27.544Z"
   },
   {
    "duration": 321,
    "start_time": "2023-07-30T05:03:27.575Z"
   },
   {
    "duration": 9,
    "start_time": "2023-07-30T05:03:27.902Z"
   },
   {
    "duration": 1261,
    "start_time": "2023-07-30T10:13:53.421Z"
   },
   {
    "duration": 98,
    "start_time": "2023-07-30T10:13:54.685Z"
   },
   {
    "duration": 19,
    "start_time": "2023-07-30T10:13:54.784Z"
   },
   {
    "duration": 3,
    "start_time": "2023-07-30T10:13:54.806Z"
   },
   {
    "duration": 32,
    "start_time": "2023-07-30T10:13:54.811Z"
   },
   {
    "duration": 5,
    "start_time": "2023-07-30T10:13:54.844Z"
   },
   {
    "duration": 13,
    "start_time": "2023-07-30T10:13:54.850Z"
   },
   {
    "duration": 19,
    "start_time": "2023-07-30T10:13:54.865Z"
   },
   {
    "duration": 14,
    "start_time": "2023-07-30T10:13:54.886Z"
   },
   {
    "duration": 4,
    "start_time": "2023-07-30T10:13:54.903Z"
   },
   {
    "duration": 14,
    "start_time": "2023-07-30T10:13:54.909Z"
   },
   {
    "duration": 7,
    "start_time": "2023-07-30T10:13:54.924Z"
   },
   {
    "duration": 11,
    "start_time": "2023-07-30T10:13:54.932Z"
   },
   {
    "duration": 32,
    "start_time": "2023-07-30T10:13:54.944Z"
   },
   {
    "duration": 19,
    "start_time": "2023-07-30T10:13:54.978Z"
   },
   {
    "duration": 198,
    "start_time": "2023-07-30T10:13:54.999Z"
   },
   {
    "duration": 14,
    "start_time": "2023-07-30T10:13:55.199Z"
   },
   {
    "duration": 16,
    "start_time": "2023-07-30T10:13:55.215Z"
   },
   {
    "duration": 8,
    "start_time": "2023-07-30T10:13:55.232Z"
   },
   {
    "duration": 20,
    "start_time": "2023-07-30T10:13:55.242Z"
   },
   {
    "duration": 17,
    "start_time": "2023-07-30T10:13:55.264Z"
   },
   {
    "duration": 26,
    "start_time": "2023-07-30T10:13:55.282Z"
   },
   {
    "duration": 257,
    "start_time": "2023-07-30T10:13:55.310Z"
   },
   {
    "duration": 8,
    "start_time": "2023-07-30T10:13:55.569Z"
   },
   {
    "duration": 32,
    "start_time": "2023-07-30T10:13:55.579Z"
   },
   {
    "duration": 44,
    "start_time": "2023-07-30T10:13:55.612Z"
   },
   {
    "duration": 41,
    "start_time": "2023-07-30T10:13:55.657Z"
   },
   {
    "duration": 15,
    "start_time": "2023-07-30T10:13:55.700Z"
   },
   {
    "duration": 9,
    "start_time": "2023-07-30T10:13:55.717Z"
   },
   {
    "duration": 28,
    "start_time": "2023-07-30T10:13:55.728Z"
   },
   {
    "duration": 35,
    "start_time": "2023-07-30T10:13:55.758Z"
   },
   {
    "duration": 32,
    "start_time": "2023-07-30T10:13:55.795Z"
   },
   {
    "duration": 35,
    "start_time": "2023-07-30T10:13:55.828Z"
   },
   {
    "duration": 21,
    "start_time": "2023-07-30T10:13:55.865Z"
   },
   {
    "duration": 24,
    "start_time": "2023-07-30T10:13:55.888Z"
   },
   {
    "duration": 322,
    "start_time": "2023-07-30T10:13:55.913Z"
   },
   {
    "duration": 329,
    "start_time": "2023-07-30T10:14:44.373Z"
   },
   {
    "duration": 1615,
    "start_time": "2023-09-11T07:26:04.112Z"
   },
   {
    "duration": 1580,
    "start_time": "2023-09-11T07:26:05.729Z"
   },
   {
    "duration": 3,
    "start_time": "2023-09-11T07:26:07.311Z"
   },
   {
    "duration": 78,
    "start_time": "2023-09-11T07:26:07.316Z"
   },
   {
    "duration": 55,
    "start_time": "2023-09-11T07:26:07.396Z"
   },
   {
    "duration": 4,
    "start_time": "2023-09-11T07:26:07.452Z"
   },
   {
    "duration": 1206,
    "start_time": "2023-09-11T07:26:07.458Z"
   },
   {
    "duration": 95,
    "start_time": "2023-09-11T07:26:08.666Z"
   },
   {
    "duration": 59,
    "start_time": "2023-09-11T07:26:08.763Z"
   },
   {
    "duration": 5,
    "start_time": "2023-09-11T07:26:08.825Z"
   },
   {
    "duration": 100,
    "start_time": "2023-09-11T07:26:08.845Z"
   },
   {
    "duration": 336,
    "start_time": "2023-09-11T07:26:08.947Z"
   },
   {
    "duration": 343,
    "start_time": "2023-09-11T07:26:09.285Z"
   },
   {
    "duration": 333,
    "start_time": "2023-09-11T07:26:09.630Z"
   },
   {
    "duration": 106,
    "start_time": "2023-09-11T07:26:09.964Z"
   },
   {
    "duration": 0,
    "start_time": "2023-09-11T07:26:10.073Z"
   },
   {
    "duration": 0,
    "start_time": "2023-09-11T07:26:10.074Z"
   },
   {
    "duration": 0,
    "start_time": "2023-09-11T07:26:10.076Z"
   },
   {
    "duration": 0,
    "start_time": "2023-09-11T07:26:10.077Z"
   },
   {
    "duration": 0,
    "start_time": "2023-09-11T07:26:10.078Z"
   },
   {
    "duration": 0,
    "start_time": "2023-09-11T07:26:10.080Z"
   },
   {
    "duration": 0,
    "start_time": "2023-09-11T07:26:10.081Z"
   },
   {
    "duration": 0,
    "start_time": "2023-09-11T07:26:10.083Z"
   },
   {
    "duration": 0,
    "start_time": "2023-09-11T07:26:10.084Z"
   },
   {
    "duration": 0,
    "start_time": "2023-09-11T07:26:10.086Z"
   },
   {
    "duration": 0,
    "start_time": "2023-09-11T07:26:10.087Z"
   },
   {
    "duration": 0,
    "start_time": "2023-09-11T07:26:10.088Z"
   },
   {
    "duration": 0,
    "start_time": "2023-09-11T07:26:10.090Z"
   },
   {
    "duration": 0,
    "start_time": "2023-09-11T07:26:10.091Z"
   },
   {
    "duration": 0,
    "start_time": "2023-09-11T07:26:10.093Z"
   },
   {
    "duration": 5,
    "start_time": "2023-09-11T07:27:07.497Z"
   },
   {
    "duration": 1094,
    "start_time": "2023-09-11T07:27:08.453Z"
   },
   {
    "duration": 5,
    "start_time": "2023-09-11T07:27:16.256Z"
   },
   {
    "duration": 1370,
    "start_time": "2023-09-11T07:27:17.633Z"
   },
   {
    "duration": 4,
    "start_time": "2023-09-11T07:49:39.434Z"
   },
   {
    "duration": 1161,
    "start_time": "2023-09-11T07:49:40.896Z"
   },
   {
    "duration": 5,
    "start_time": "2023-09-11T07:50:17.289Z"
   },
   {
    "duration": 1461,
    "start_time": "2023-09-11T07:50:18.145Z"
   },
   {
    "duration": 5,
    "start_time": "2023-09-11T07:50:25.749Z"
   },
   {
    "duration": 1381,
    "start_time": "2023-09-11T07:50:26.509Z"
   },
   {
    "duration": 494,
    "start_time": "2023-09-11T07:50:56.197Z"
   },
   {
    "duration": 683,
    "start_time": "2023-09-11T07:51:03.129Z"
   },
   {
    "duration": 468,
    "start_time": "2023-09-11T07:51:07.398Z"
   },
   {
    "duration": 53,
    "start_time": "2023-09-11T07:51:18.565Z"
   },
   {
    "duration": 19,
    "start_time": "2023-09-11T07:51:28.463Z"
   },
   {
    "duration": 11,
    "start_time": "2023-09-11T07:51:31.675Z"
   },
   {
    "duration": 17,
    "start_time": "2023-09-11T07:51:35.484Z"
   },
   {
    "duration": 4,
    "start_time": "2023-09-11T07:51:43.491Z"
   },
   {
    "duration": 37,
    "start_time": "2023-09-11T07:51:44.026Z"
   },
   {
    "duration": 4,
    "start_time": "2023-09-11T07:51:50.454Z"
   },
   {
    "duration": 60,
    "start_time": "2023-09-11T07:51:51.505Z"
   },
   {
    "duration": 4,
    "start_time": "2023-09-11T07:51:55.689Z"
   },
   {
    "duration": 166,
    "start_time": "2023-09-11T07:51:56.484Z"
   },
   {
    "duration": 4,
    "start_time": "2023-09-11T07:52:04.257Z"
   },
   {
    "duration": 6,
    "start_time": "2023-09-11T07:52:06.452Z"
   },
   {
    "duration": 3,
    "start_time": "2023-09-11T07:52:10.251Z"
   },
   {
    "duration": 4,
    "start_time": "2023-09-11T07:52:13.078Z"
   },
   {
    "duration": 6657,
    "start_time": "2023-09-11T07:52:14.967Z"
   },
   {
    "duration": 3,
    "start_time": "2023-09-11T07:52:34.607Z"
   },
   {
    "duration": 11,
    "start_time": "2023-09-11T07:52:37.473Z"
   },
   {
    "duration": 4,
    "start_time": "2023-09-11T07:53:14.338Z"
   },
   {
    "duration": 11,
    "start_time": "2023-09-11T07:53:16.591Z"
   },
   {
    "duration": 4,
    "start_time": "2023-09-11T07:57:32.802Z"
   },
   {
    "duration": 11,
    "start_time": "2023-09-11T07:57:34.577Z"
   },
   {
    "duration": 1365,
    "start_time": "2023-09-11T07:59:43.281Z"
   },
   {
    "duration": 408,
    "start_time": "2023-09-11T07:59:44.648Z"
   },
   {
    "duration": 3,
    "start_time": "2023-09-11T07:59:45.058Z"
   },
   {
    "duration": 84,
    "start_time": "2023-09-11T07:59:45.063Z"
   },
   {
    "duration": 23,
    "start_time": "2023-09-11T07:59:45.148Z"
   },
   {
    "duration": 4,
    "start_time": "2023-09-11T07:59:45.173Z"
   },
   {
    "duration": 1435,
    "start_time": "2023-09-11T07:59:45.178Z"
   },
   {
    "duration": 96,
    "start_time": "2023-09-11T07:59:46.615Z"
   },
   {
    "duration": 69,
    "start_time": "2023-09-11T07:59:46.713Z"
   },
   {
    "duration": 4,
    "start_time": "2023-09-11T07:59:46.785Z"
   },
   {
    "duration": 102,
    "start_time": "2023-09-11T07:59:46.790Z"
   },
   {
    "duration": 436,
    "start_time": "2023-09-11T07:59:46.893Z"
   },
   {
    "duration": 466,
    "start_time": "2023-09-11T07:59:47.330Z"
   },
   {
    "duration": 518,
    "start_time": "2023-09-11T07:59:47.798Z"
   },
   {
    "duration": 150,
    "start_time": "2023-09-11T07:59:48.317Z"
   },
   {
    "duration": 20,
    "start_time": "2023-09-11T07:59:48.468Z"
   },
   {
    "duration": 17,
    "start_time": "2023-09-11T07:59:48.490Z"
   },
   {
    "duration": 2,
    "start_time": "2023-09-11T07:59:48.509Z"
   },
   {
    "duration": 56,
    "start_time": "2023-09-11T07:59:48.513Z"
   },
   {
    "duration": 3,
    "start_time": "2023-09-11T07:59:48.571Z"
   },
   {
    "duration": 70,
    "start_time": "2023-09-11T07:59:48.576Z"
   },
   {
    "duration": 3,
    "start_time": "2023-09-11T07:59:48.648Z"
   },
   {
    "duration": 201,
    "start_time": "2023-09-11T07:59:48.652Z"
   },
   {
    "duration": 9,
    "start_time": "2023-09-11T07:59:48.946Z"
   },
   {
    "duration": 6,
    "start_time": "2023-09-11T07:59:49.044Z"
   },
   {
    "duration": 4,
    "start_time": "2023-09-11T07:59:49.052Z"
   },
   {
    "duration": 9,
    "start_time": "2023-09-11T07:59:49.058Z"
   },
   {
    "duration": 6740,
    "start_time": "2023-09-11T07:59:49.069Z"
   },
   {
    "duration": 3,
    "start_time": "2023-09-11T07:59:55.810Z"
   },
   {
    "duration": 11,
    "start_time": "2023-09-11T07:59:55.815Z"
   }
  ],
  "celltoolbar": "Отсутствует",
  "kernelspec": {
   "display_name": "Python 3 (ipykernel)",
   "language": "python",
   "name": "python3"
  },
  "language_info": {
   "codemirror_mode": {
    "name": "ipython",
    "version": 3
   },
   "file_extension": ".py",
   "mimetype": "text/x-python",
   "name": "python",
   "nbconvert_exporter": "python",
   "pygments_lexer": "ipython3",
   "version": "3.10.9"
  },
  "toc": {
   "base_numbering": "0",
   "nav_menu": {
    "height": "309.5px",
    "width": "350.5px"
   },
   "number_sections": true,
   "sideBar": true,
   "skip_h1_title": true,
   "title_cell": "Table of Contents",
   "title_sidebar": "Contents",
   "toc_cell": true,
   "toc_position": {
    "height": "calc(100% - 180px)",
    "left": "10px",
    "top": "150px",
    "width": "430px"
   },
   "toc_section_display": true,
   "toc_window_display": false
  }
 },
 "nbformat": 4,
 "nbformat_minor": 5
}
