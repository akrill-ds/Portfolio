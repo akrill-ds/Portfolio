{
 "cells": [
  {
   "cell_type": "markdown",
   "id": "92b2a472",
   "metadata": {},
   "source": [
    "<div style=\"border:solid steelblue 3px; padding: 20px; border-radius: 10px\">\n",
    "\n",
    "<font size=6><b>Прогнозирование оттока клиентов</b></font><br><br>\n",
    "<b>Описание:</b><br>\n",
    "Из «Бета-Банка» стали уходить клиенты. Каждый месяц. Немного, но заметно. Банковские маркетологи посчитали: сохранять текущих клиентов дешевле, чем привлекать новых.<br><br>\n",
    "<b>Цель:</b><br>\n",
    "Нужно спрогнозировать, уйдёт клиент из банка в ближайшее время или нет (F1-мера $\\ge$ 0.59).<br><br>\n",
    "<b>Исходные данные:</b><br>\n",
    "Исторические данные о поведении клиентов и расторжении договоров с банком: один набор данных \"<u>Churn.csv</u>\", содержащий сведения о клиентах, счёте и используемых продуктах банка.<br><br>\n",
    "<b>Задачи:</b><br>\n",
    "1. Изучение общей информации;<br>\n",
    "1. Предобработка данных;<br>\n",
    "1. Исследовательский анализ данных;<br>\n",
    "1. Обработка признаков;<br>\n",
    "1. Разделение исходные данных на обучающую, валидационную и тестовую выборки;<br> \n",
    "1. Исследование баланса классов;<br>\n",
    "1. Построение моделей на несбалансированной выборке и исследование их качества;<br>\n",
    "1. Балансирование классов;<br>\n",
    "1. Построение моделей на сбалансированной выборке и исследование их качества;<br>\n",
    "1. Проверка качества лучшей модели на тестовой выборке;<br> \n",
    "1. Проверка модели на вменяемость;<br>\n",
    "1. Выводы и рекомендации."
   ]
  },
  {
   "cell_type": "markdown",
   "id": "c865cbfb",
   "metadata": {
    "toc": true
   },
   "source": [
    "<h1>Table of Contents<span class=\"tocSkip\"></span></h1>\n",
    "<div class=\"toc\"><ul class=\"toc-item\"><li><span><a href=\"#Ознакомление-с-данными\" data-toc-modified-id=\"Ознакомление-с-данными-1\"><span class=\"toc-item-num\">1&nbsp;&nbsp;</span>Ознакомление с данными</a></span><ul class=\"toc-item\"><li><span><a href=\"#Базовая-информация-о-данных\" data-toc-modified-id=\"Базовая-информация-о-данных-1.1\"><span class=\"toc-item-num\">1.1&nbsp;&nbsp;</span>Базовая информация о данных</a></span></li><li><span><a href=\"#Вывод-1\" data-toc-modified-id=\"Вывод-1-1.2\"><span class=\"toc-item-num\">1.2&nbsp;&nbsp;</span>Вывод 1</a></span></li></ul></li><li><span><a href=\"#Предобработка-данных\" data-toc-modified-id=\"Предобработка-данных-2\"><span class=\"toc-item-num\">2&nbsp;&nbsp;</span>Предобработка данных</a></span><ul class=\"toc-item\"><li><span><a href=\"#Обработка-дубликатов\" data-toc-modified-id=\"Обработка-дубликатов-2.1\"><span class=\"toc-item-num\">2.1&nbsp;&nbsp;</span>Обработка дубликатов</a></span></li><li><span><a href=\"#Обработка-аномалий-в-данных\" data-toc-modified-id=\"Обработка-аномалий-в-данных-2.2\"><span class=\"toc-item-num\">2.2&nbsp;&nbsp;</span>Обработка аномалий в данных</a></span></li><li><span><a href=\"#Обработка-пропусков\" data-toc-modified-id=\"Обработка-пропусков-2.3\"><span class=\"toc-item-num\">2.3&nbsp;&nbsp;</span>Обработка пропусков</a></span></li><li><span><a href=\"#Вывод-2\" data-toc-modified-id=\"Вывод-2-2.4\"><span class=\"toc-item-num\">2.4&nbsp;&nbsp;</span>Вывод 2</a></span></li></ul></li><li><span><a href=\"#Исследование-данных\" data-toc-modified-id=\"Исследование-данных-3\"><span class=\"toc-item-num\">3&nbsp;&nbsp;</span>Исследование данных</a></span><ul class=\"toc-item\"><li><span><a href=\"#Категориальные-признаки\" data-toc-modified-id=\"Категориальные-признаки-3.1\"><span class=\"toc-item-num\">3.1&nbsp;&nbsp;</span>Категориальные признаки</a></span></li><li><span><a href=\"#Числовые-признаки\" data-toc-modified-id=\"Числовые-признаки-3.2\"><span class=\"toc-item-num\">3.2&nbsp;&nbsp;</span>Числовые признаки</a></span></li><li><span><a href=\"#Корелляция-признаков\" data-toc-modified-id=\"Корелляция-признаков-3.3\"><span class=\"toc-item-num\">3.3&nbsp;&nbsp;</span>Корелляция признаков</a></span></li><li><span><a href=\"#Вывод-3\" data-toc-modified-id=\"Вывод-3-3.4\"><span class=\"toc-item-num\">3.4&nbsp;&nbsp;</span>Вывод 3</a></span></li></ul></li><li><span><a href=\"#Обработка-признаков\" data-toc-modified-id=\"Обработка-признаков-4\"><span class=\"toc-item-num\">4&nbsp;&nbsp;</span>Обработка признаков</a></span><ul class=\"toc-item\"><li><span><a href=\"#Выбор-признаков\" data-toc-modified-id=\"Выбор-признаков-4.1\"><span class=\"toc-item-num\">4.1&nbsp;&nbsp;</span>Выбор признаков</a></span></li><li><span><a href=\"#Вывод-4\" data-toc-modified-id=\"Вывод-4-4.2\"><span class=\"toc-item-num\">4.2&nbsp;&nbsp;</span>Вывод 4</a></span></li></ul></li><li><span><a href=\"#Подготовка-данных-для-обучения\" data-toc-modified-id=\"Подготовка-данных-для-обучения-5\"><span class=\"toc-item-num\">5&nbsp;&nbsp;</span>Подготовка данных для обучения</a></span><ul class=\"toc-item\"><li><span><a href=\"#Разделение-выборки\" data-toc-modified-id=\"Разделение-выборки-5.1\"><span class=\"toc-item-num\">5.1&nbsp;&nbsp;</span>Разделение выборки</a></span></li><li><span><a href=\"#Масштабирование-числовых-данных-в-выборках\" data-toc-modified-id=\"Масштабирование-числовых-данных-в-выборках-5.2\"><span class=\"toc-item-num\">5.2&nbsp;&nbsp;</span>Масштабирование числовых данных в выборках</a></span></li><li><span><a href=\"#Кодирование-признаков\" data-toc-modified-id=\"Кодирование-признаков-5.3\"><span class=\"toc-item-num\">5.3&nbsp;&nbsp;</span>Кодирование признаков</a></span></li><li><span><a href=\"#Вывод-3\" data-toc-modified-id=\"Вывод-3-5.4\"><span class=\"toc-item-num\">5.4&nbsp;&nbsp;</span>Вывод 3</a></span></li></ul></li><li><span><a href=\"#Исследование-баланса-классов\" data-toc-modified-id=\"Исследование-баланса-классов-6\"><span class=\"toc-item-num\">6&nbsp;&nbsp;</span>Исследование баланса классов</a></span></li><li><span><a href=\"#Построение-моделей-на-несбалансированной-выборке-и-исследование-их-качества\" data-toc-modified-id=\"Построение-моделей-на-несбалансированной-выборке-и-исследование-их-качества-7\"><span class=\"toc-item-num\">7&nbsp;&nbsp;</span>Построение моделей на несбалансированной выборке и исследование их качества</a></span><ul class=\"toc-item\"><li><span><a href=\"#Логистическая-регрессия\" data-toc-modified-id=\"Логистическая-регрессия-7.1\"><span class=\"toc-item-num\">7.1&nbsp;&nbsp;</span>Логистическая регрессия</a></span></li><li><span><a href=\"#Решающее-дерево\" data-toc-modified-id=\"Решающее-дерево-7.2\"><span class=\"toc-item-num\">7.2&nbsp;&nbsp;</span>Решающее дерево</a></span></li><li><span><a href=\"#Random-forest\" data-toc-modified-id=\"Random-forest-7.3\"><span class=\"toc-item-num\">7.3&nbsp;&nbsp;</span>Random forest</a></span></li><li><span><a href=\"#Сравнение-моделей\" data-toc-modified-id=\"Сравнение-моделей-7.4\"><span class=\"toc-item-num\">7.4&nbsp;&nbsp;</span>Сравнение моделей</a></span></li><li><span><a href=\"#Вывод-4\" data-toc-modified-id=\"Вывод-4-7.5\"><span class=\"toc-item-num\">7.5&nbsp;&nbsp;</span>Вывод 4</a></span></li></ul></li><li><span><a href=\"#Балансирование-классов-целевого-признака\" data-toc-modified-id=\"Балансирование-классов-целевого-признака-8\"><span class=\"toc-item-num\">8&nbsp;&nbsp;</span>Балансирование классов целевого признака</a></span></li><li><span><a href=\"#Построение-моделей-на-сбалансированной-выборке-и-исследование-их-качества\" data-toc-modified-id=\"Построение-моделей-на-сбалансированной-выборке-и-исследование-их-качества-9\"><span class=\"toc-item-num\">9&nbsp;&nbsp;</span>Построение моделей на сбалансированной выборке и исследование их качества</a></span><ul class=\"toc-item\"><li><span><a href=\"#Логистическая-регрессия-(сбалансированная-выборка)\" data-toc-modified-id=\"Логистическая-регрессия-(сбалансированная-выборка)-9.1\"><span class=\"toc-item-num\">9.1&nbsp;&nbsp;</span>Логистическая регрессия (сбалансированная выборка)</a></span><ul class=\"toc-item\"><li><span><a href=\"#Обучение-модели-с-Upsampling-выборкой\" data-toc-modified-id=\"Обучение-модели-с-Upsampling-выборкой-9.1.1\"><span class=\"toc-item-num\">9.1.1&nbsp;&nbsp;</span>Обучение модели с Upsampling-выборкой</a></span></li><li><span><a href=\"#Обучение-модели-с-Downsampling-выборкой\" data-toc-modified-id=\"Обучение-модели-с-Downsampling-выборкой-9.1.2\"><span class=\"toc-item-num\">9.1.2&nbsp;&nbsp;</span>Обучение модели с Downsampling-выборкой</a></span></li></ul></li><li><span><a href=\"#Решающее-дерево-(сбалансированная-выборка)\" data-toc-modified-id=\"Решающее-дерево-(сбалансированная-выборка)-9.2\"><span class=\"toc-item-num\">9.2&nbsp;&nbsp;</span>Решающее дерево (сбалансированная выборка)</a></span><ul class=\"toc-item\"><li><span><a href=\"#Обучение-модели-с-Upsampling-выборкой\" data-toc-modified-id=\"Обучение-модели-с-Upsampling-выборкой-9.2.1\"><span class=\"toc-item-num\">9.2.1&nbsp;&nbsp;</span>Обучение модели с Upsampling-выборкой</a></span></li><li><span><a href=\"#Обучение-модели-с-Downsampling-выборкой\" data-toc-modified-id=\"Обучение-модели-с-Downsampling-выборкой-9.2.2\"><span class=\"toc-item-num\">9.2.2&nbsp;&nbsp;</span>Обучение модели с Downsampling-выборкой</a></span></li></ul></li><li><span><a href=\"#Random-forest-(сбалансированная-выборка)\" data-toc-modified-id=\"Random-forest-(сбалансированная-выборка)-9.3\"><span class=\"toc-item-num\">9.3&nbsp;&nbsp;</span>Random forest (сбалансированная выборка)</a></span><ul class=\"toc-item\"><li><span><a href=\"#Обучение-модели-с-Upsampling-выборкой\" data-toc-modified-id=\"Обучение-модели-с-Upsampling-выборкой-9.3.1\"><span class=\"toc-item-num\">9.3.1&nbsp;&nbsp;</span>Обучение модели с Upsampling-выборкой</a></span></li><li><span><a href=\"#Обучение-модели-с-Downsampling-выборкой\" data-toc-modified-id=\"Обучение-модели-с-Downsampling-выборкой-9.3.2\"><span class=\"toc-item-num\">9.3.2&nbsp;&nbsp;</span>Обучение модели с Downsampling-выборкой</a></span></li></ul></li><li><span><a href=\"#Сравнение-моделей\" data-toc-modified-id=\"Сравнение-моделей-9.4\"><span class=\"toc-item-num\">9.4&nbsp;&nbsp;</span>Сравнение моделей</a></span></li><li><span><a href=\"#Вывод-4\" data-toc-modified-id=\"Вывод-4-9.5\"><span class=\"toc-item-num\">9.5&nbsp;&nbsp;</span>Вывод 4</a></span></li></ul></li><li><span><a href=\"#Проверка-качества-модели-на-тестовой-выборке\" data-toc-modified-id=\"Проверка-качества-модели-на-тестовой-выборке-10\"><span class=\"toc-item-num\">10&nbsp;&nbsp;</span>Проверка качества модели на тестовой выборке</a></span></li><li><span><a href=\"#Проверка-модели-на-вменяемость\" data-toc-modified-id=\"Проверка-модели-на-вменяемость-11\"><span class=\"toc-item-num\">11&nbsp;&nbsp;</span>Проверка модели на вменяемость</a></span></li><li><span><a href=\"#Выводы\" data-toc-modified-id=\"Выводы-12\"><span class=\"toc-item-num\">12&nbsp;&nbsp;</span>Выводы</a></span></li></ul></div>"
   ]
  },
  {
   "cell_type": "markdown",
   "id": "8e333e9c",
   "metadata": {},
   "source": [
    "## Ознакомление с данными"
   ]
  },
  {
   "cell_type": "markdown",
   "id": "bf3d4c1b",
   "metadata": {},
   "source": [
    "### Базовая информация о данных"
   ]
  },
  {
   "cell_type": "markdown",
   "id": "4062dd3e",
   "metadata": {},
   "source": [
    "Импорт библиотек, загрузка данных, изучение общей информации о данных"
   ]
  },
  {
   "cell_type": "code",
   "execution_count": 42,
   "id": "5f6d4a7e",
   "metadata": {},
   "outputs": [],
   "source": [
    "import pandas as pd\n",
    "import numpy as np\n",
    "\n",
    "import matplotlib.pyplot as plt\n",
    "import seaborn as sns\n",
    "\n",
    "from sklearn.model_selection import train_test_split\n",
    "from sklearn.preprocessing import StandardScaler, OneHotEncoder\n",
    "from imblearn.over_sampling import SMOTE\n",
    "from imblearn.under_sampling import RandomUnderSampler\n",
    "from sklearn.utils import shuffle\n",
    "from sklearn.linear_model import LogisticRegression\n",
    "from sklearn.tree import DecisionTreeClassifier\n",
    "from sklearn.ensemble import RandomForestClassifier\n",
    "from sklearn.dummy import DummyClassifier\n",
    "from sklearn.metrics import f1_score, roc_curve, roc_auc_score, confusion_matrix, recall_score\n",
    "\n",
    "from IPython.display import clear_output\n",
    "from warnings import filterwarnings\n",
    "filterwarnings('ignore')\n",
    "\n",
    "rstate = 5903"
   ]
  },
  {
   "cell_type": "code",
   "execution_count": 2,
   "id": "2c60e4f2",
   "metadata": {},
   "outputs": [],
   "source": [
    "df = pd.read_csv('Churn.csv', sep=',', index_col=0)"
   ]
  },
  {
   "cell_type": "code",
   "execution_count": 3,
   "id": "867d1a5e",
   "metadata": {},
   "outputs": [
    {
     "data": {
      "text/html": [
       "<div>\n",
       "<style scoped>\n",
       "    .dataframe tbody tr th:only-of-type {\n",
       "        vertical-align: middle;\n",
       "    }\n",
       "\n",
       "    .dataframe tbody tr th {\n",
       "        vertical-align: top;\n",
       "    }\n",
       "\n",
       "    .dataframe thead th {\n",
       "        text-align: right;\n",
       "    }\n",
       "</style>\n",
       "<table border=\"1\" class=\"dataframe\">\n",
       "  <thead>\n",
       "    <tr style=\"text-align: right;\">\n",
       "      <th></th>\n",
       "      <th>CustomerId</th>\n",
       "      <th>Surname</th>\n",
       "      <th>CreditScore</th>\n",
       "      <th>Geography</th>\n",
       "      <th>Gender</th>\n",
       "      <th>Age</th>\n",
       "      <th>Tenure</th>\n",
       "      <th>Balance</th>\n",
       "      <th>NumOfProducts</th>\n",
       "      <th>HasCrCard</th>\n",
       "      <th>IsActiveMember</th>\n",
       "      <th>EstimatedSalary</th>\n",
       "      <th>Exited</th>\n",
       "    </tr>\n",
       "    <tr>\n",
       "      <th>RowNumber</th>\n",
       "      <th></th>\n",
       "      <th></th>\n",
       "      <th></th>\n",
       "      <th></th>\n",
       "      <th></th>\n",
       "      <th></th>\n",
       "      <th></th>\n",
       "      <th></th>\n",
       "      <th></th>\n",
       "      <th></th>\n",
       "      <th></th>\n",
       "      <th></th>\n",
       "      <th></th>\n",
       "    </tr>\n",
       "  </thead>\n",
       "  <tbody>\n",
       "    <tr>\n",
       "      <th>1</th>\n",
       "      <td>15634602</td>\n",
       "      <td>Hargrave</td>\n",
       "      <td>619</td>\n",
       "      <td>France</td>\n",
       "      <td>Female</td>\n",
       "      <td>42</td>\n",
       "      <td>2.0</td>\n",
       "      <td>0.00</td>\n",
       "      <td>1</td>\n",
       "      <td>1</td>\n",
       "      <td>1</td>\n",
       "      <td>101348.88</td>\n",
       "      <td>1</td>\n",
       "    </tr>\n",
       "    <tr>\n",
       "      <th>2</th>\n",
       "      <td>15647311</td>\n",
       "      <td>Hill</td>\n",
       "      <td>608</td>\n",
       "      <td>Spain</td>\n",
       "      <td>Female</td>\n",
       "      <td>41</td>\n",
       "      <td>1.0</td>\n",
       "      <td>83807.86</td>\n",
       "      <td>1</td>\n",
       "      <td>0</td>\n",
       "      <td>1</td>\n",
       "      <td>112542.58</td>\n",
       "      <td>0</td>\n",
       "    </tr>\n",
       "    <tr>\n",
       "      <th>3</th>\n",
       "      <td>15619304</td>\n",
       "      <td>Onio</td>\n",
       "      <td>502</td>\n",
       "      <td>France</td>\n",
       "      <td>Female</td>\n",
       "      <td>42</td>\n",
       "      <td>8.0</td>\n",
       "      <td>159660.80</td>\n",
       "      <td>3</td>\n",
       "      <td>1</td>\n",
       "      <td>0</td>\n",
       "      <td>113931.57</td>\n",
       "      <td>1</td>\n",
       "    </tr>\n",
       "    <tr>\n",
       "      <th>4</th>\n",
       "      <td>15701354</td>\n",
       "      <td>Boni</td>\n",
       "      <td>699</td>\n",
       "      <td>France</td>\n",
       "      <td>Female</td>\n",
       "      <td>39</td>\n",
       "      <td>1.0</td>\n",
       "      <td>0.00</td>\n",
       "      <td>2</td>\n",
       "      <td>0</td>\n",
       "      <td>0</td>\n",
       "      <td>93826.63</td>\n",
       "      <td>0</td>\n",
       "    </tr>\n",
       "    <tr>\n",
       "      <th>5</th>\n",
       "      <td>15737888</td>\n",
       "      <td>Mitchell</td>\n",
       "      <td>850</td>\n",
       "      <td>Spain</td>\n",
       "      <td>Female</td>\n",
       "      <td>43</td>\n",
       "      <td>2.0</td>\n",
       "      <td>125510.82</td>\n",
       "      <td>1</td>\n",
       "      <td>1</td>\n",
       "      <td>1</td>\n",
       "      <td>79084.10</td>\n",
       "      <td>0</td>\n",
       "    </tr>\n",
       "  </tbody>\n",
       "</table>\n",
       "</div>"
      ],
      "text/plain": [
       "           CustomerId   Surname  CreditScore Geography  Gender  Age  Tenure  \\\n",
       "RowNumber                                                                     \n",
       "1            15634602  Hargrave          619    France  Female   42     2.0   \n",
       "2            15647311      Hill          608     Spain  Female   41     1.0   \n",
       "3            15619304      Onio          502    France  Female   42     8.0   \n",
       "4            15701354      Boni          699    France  Female   39     1.0   \n",
       "5            15737888  Mitchell          850     Spain  Female   43     2.0   \n",
       "\n",
       "             Balance  NumOfProducts  HasCrCard  IsActiveMember  \\\n",
       "RowNumber                                                        \n",
       "1               0.00              1          1               1   \n",
       "2           83807.86              1          0               1   \n",
       "3          159660.80              3          1               0   \n",
       "4               0.00              2          0               0   \n",
       "5          125510.82              1          1               1   \n",
       "\n",
       "           EstimatedSalary  Exited  \n",
       "RowNumber                           \n",
       "1                101348.88       1  \n",
       "2                112542.58       0  \n",
       "3                113931.57       1  \n",
       "4                 93826.63       0  \n",
       "5                 79084.10       0  "
      ]
     },
     "execution_count": 3,
     "metadata": {},
     "output_type": "execute_result"
    }
   ],
   "source": [
    "df.head()"
   ]
  },
  {
   "cell_type": "code",
   "execution_count": 4,
   "id": "630f64fb",
   "metadata": {},
   "outputs": [
    {
     "name": "stdout",
     "output_type": "stream",
     "text": [
      "Количество объектов: 10000\n",
      "Количество признаков: 13\n"
     ]
    }
   ],
   "source": [
    "print(f'Количество объектов: {df.shape[0]}\\nКоличество признаков: {df.shape[1]}')"
   ]
  },
  {
   "cell_type": "code",
   "execution_count": 5,
   "id": "e0b277ed",
   "metadata": {
    "scrolled": true
   },
   "outputs": [
    {
     "name": "stdout",
     "output_type": "stream",
     "text": [
      "<class 'pandas.core.frame.DataFrame'>\n",
      "Index: 10000 entries, 1 to 10000\n",
      "Data columns (total 13 columns):\n",
      " #   Column           Non-Null Count  Dtype  \n",
      "---  ------           --------------  -----  \n",
      " 0   CustomerId       10000 non-null  int64  \n",
      " 1   Surname          10000 non-null  object \n",
      " 2   CreditScore      10000 non-null  int64  \n",
      " 3   Geography        10000 non-null  object \n",
      " 4   Gender           10000 non-null  object \n",
      " 5   Age              10000 non-null  int64  \n",
      " 6   Tenure           9091 non-null   float64\n",
      " 7   Balance          10000 non-null  float64\n",
      " 8   NumOfProducts    10000 non-null  int64  \n",
      " 9   HasCrCard        10000 non-null  int64  \n",
      " 10  IsActiveMember   10000 non-null  int64  \n",
      " 11  EstimatedSalary  10000 non-null  float64\n",
      " 12  Exited           10000 non-null  int64  \n",
      "dtypes: float64(3), int64(7), object(3)\n",
      "memory usage: 1.1+ MB\n"
     ]
    }
   ],
   "source": [
    "df.info()"
   ]
  },
  {
   "cell_type": "markdown",
   "id": "bf97f1aa",
   "metadata": {},
   "source": [
    "### Вывод 1"
   ]
  },
  {
   "cell_type": "markdown",
   "id": "80b82c30",
   "metadata": {},
   "source": [
    "<div style=\"border:solid steelblue 3px; padding: 20px; border-radius: 10px\">\n",
    "    \n",
    "Исходные данные содержат информацию о 14 признаках у 10000 объектов.<br>\n",
    "Признак `Tenure` содержит пропуски.<br>\n",
    "Типы данных:\n",
    "* бинарные (`Gender`(obj), `HasCrCard`(int), `IsActiveMember`(int), `Exited`(int));\n",
    "* категориальные (`Surname`, `Geography`);\n",
    "* целочисленные (`RowNumber`, `CustomerId`, `CreditScore`, `Age`, `NumOfProducts`)\n",
    "* непрерывные (`Tenure`, `Balance`, `EstimatedSalary`).\n",
    "\n",
    "Целевой признак - **`Exited`**."
   ]
  },
  {
   "cell_type": "markdown",
   "id": "fc71e1af",
   "metadata": {},
   "source": [
    "## Предобработка данных"
   ]
  },
  {
   "cell_type": "markdown",
   "id": "13f7ce81",
   "metadata": {},
   "source": [
    "### Обработка дубликатов"
   ]
  },
  {
   "cell_type": "markdown",
   "id": "15b89bb4",
   "metadata": {},
   "source": [
    "Так все признаки, кроме `CustomerId` могут повторяться, то проверку на дубликаты проведём только для этого одного признака."
   ]
  },
  {
   "cell_type": "code",
   "execution_count": 6,
   "id": "2d2426dc",
   "metadata": {},
   "outputs": [
    {
     "data": {
      "text/plain": [
       "0"
      ]
     },
     "execution_count": 6,
     "metadata": {},
     "output_type": "execute_result"
    }
   ],
   "source": [
    "df.duplicated(subset=['CustomerId']).sum()"
   ]
  },
  {
   "cell_type": "markdown",
   "id": "53d6a1e4",
   "metadata": {},
   "source": [
    "Дубликатов не обнаружено."
   ]
  },
  {
   "cell_type": "markdown",
   "id": "177e2645",
   "metadata": {},
   "source": [
    "### Обработка аномалий в данных"
   ]
  },
  {
   "cell_type": "markdown",
   "id": "e2dbe4e0",
   "metadata": {},
   "source": [
    "Построим boxplot для следующих признаков: `CreditScore`, `Age`, `Tenure`, `Balance`, `EstimatedSalary`"
   ]
  },
  {
   "cell_type": "code",
   "execution_count": 7,
   "id": "36dab17c",
   "metadata": {
    "scrolled": false
   },
   "outputs": [
    {
     "data": {
      "image/png": "[encoded data removed]",
      "text/plain": [
       "<Figure size 2000x800 with 5 Axes>"
      ]
     },
     "metadata": {},
     "output_type": "display_data"
    }
   ],
   "source": [
    "df[['CreditScore', 'Age', 'Tenure', 'Balance', 'EstimatedSalary']].plot.box(subplots=True, figsize=(20, 8));"
   ]
  },
  {
   "cell_type": "markdown",
   "id": "ae18b15e",
   "metadata": {},
   "source": [
    "В данных о кредитном рейтинге и возрасте есть значения выходящие за три межквартильных размаха. Рассмотрим подробнее данные для возраста больше 60 лет и кредитного рейтинга меньше 400."
   ]
  },
  {
   "cell_type": "code",
   "execution_count": 8,
   "id": "80728a69",
   "metadata": {},
   "outputs": [
    {
     "data": {
      "text/plain": [
       "count    10000.000000\n",
       "mean       650.528800\n",
       "std         96.653299\n",
       "min        350.000000\n",
       "25%        584.000000\n",
       "50%        652.000000\n",
       "75%        718.000000\n",
       "max        850.000000\n",
       "Name: CreditScore, dtype: float64"
      ]
     },
     "execution_count": 8,
     "metadata": {},
     "output_type": "execute_result"
    }
   ],
   "source": [
    "df['CreditScore'].describe()"
   ]
  },
  {
   "cell_type": "code",
   "execution_count": 9,
   "id": "8f36f41f",
   "metadata": {},
   "outputs": [
    {
     "data": {
      "text/plain": [
       "19"
      ]
     },
     "execution_count": 9,
     "metadata": {},
     "output_type": "execute_result"
    }
   ],
   "source": [
    "(df['CreditScore'] < 400).sum()"
   ]
  },
  {
   "cell_type": "markdown",
   "id": "84e936f5",
   "metadata": {},
   "source": [
    "19 низких значений кредитного рейтинга не будем считать выбросами, т.к. они не сильно отличаются от общей массы значений и могут нести важную информацию."
   ]
  },
  {
   "cell_type": "code",
   "execution_count": 10,
   "id": "94734bef",
   "metadata": {},
   "outputs": [
    {
     "data": {
      "image/png": "[encoded data removed]",
      "text/plain": [
       "<Figure size 640x480 with 1 Axes>"
      ]
     },
     "metadata": {},
     "output_type": "display_data"
    }
   ],
   "source": [
    "df['CreditScore'].hist(bins=20, log=True)\n",
    "df[df['Age'] >= 60]['CreditScore'].hist(bins=20)\n",
    "plt.title('Сравнение кредитного рейтинга для двух групп возрастов')\n",
    "plt.xlabel('Кредитный рейтинг')\n",
    "plt.ylabel('log(Количество)')\n",
    "plt.legend(['Возраст < 60', 'Возраст >= 60']);"
   ]
  },
  {
   "cell_type": "markdown",
   "id": "83f0464f",
   "metadata": {},
   "source": [
    "Кредитный рейтинг для возрастов больше 60 распределён сходным образом, как и вся выборка. Поэтому выбросами высокие значения возраста считать не будем."
   ]
  },
  {
   "cell_type": "markdown",
   "id": "4bf7d61d",
   "metadata": {},
   "source": [
    "### Обработка пропусков"
   ]
  },
  {
   "cell_type": "code",
   "execution_count": 11,
   "id": "28c74538",
   "metadata": {},
   "outputs": [
    {
     "data": {
      "text/plain": [
       "CustomerId         0.00\n",
       "Surname            0.00\n",
       "CreditScore        0.00\n",
       "Geography          0.00\n",
       "Gender             0.00\n",
       "Age                0.00\n",
       "Tenure             9.09\n",
       "Balance            0.00\n",
       "NumOfProducts      0.00\n",
       "HasCrCard          0.00\n",
       "IsActiveMember     0.00\n",
       "EstimatedSalary    0.00\n",
       "Exited             0.00\n",
       "dtype: float64"
      ]
     },
     "execution_count": 11,
     "metadata": {},
     "output_type": "execute_result"
    }
   ],
   "source": [
    "df.isna().sum() / len(df) * 100"
   ]
  },
  {
   "cell_type": "markdown",
   "id": "19acaca1",
   "metadata": {},
   "source": [
    "Признак `Tenure` имеет больше 9% пропусков.<br>\n",
    "Проверим есть ли какая-либо взаимосвязь между `Tenure` и остальными признаками."
   ]
  },
  {
   "cell_type": "code",
   "execution_count": 14,
   "id": "b8102005",
   "metadata": {},
   "outputs": [
    {
     "data": {
      "text/plain": [
       "Tenure             1.00\n",
       "HasCrCard          0.03\n",
       "IsActiveMember     0.03\n",
       "CustomerId         0.02\n",
       "Exited             0.02\n",
       "Age                0.01\n",
       "Balance            0.01\n",
       "NumOfProducts      0.01\n",
       "EstimatedSalary    0.01\n",
       "CreditScore        0.00\n",
       "Name: Tenure, dtype: float64"
      ]
     },
     "execution_count": 14,
     "metadata": {},
     "output_type": "execute_result"
    }
   ],
   "source": [
    "df.corr(numeric_only=True)['Tenure'].abs().round(2).sort_values(ascending=False)"
   ]
  },
  {
   "cell_type": "markdown",
   "id": "ee9581b6",
   "metadata": {},
   "source": [
    "Никакой зависимости не прослеживается."
   ]
  },
  {
   "cell_type": "markdown",
   "id": "46115a12",
   "metadata": {},
   "source": [
    "Проверим, есть ли разница в распределении кредитного рейтинга для клиентов с указанным `Tenure` и без него."
   ]
  },
  {
   "cell_type": "code",
   "execution_count": 15,
   "id": "c89999f6",
   "metadata": {},
   "outputs": [
    {
     "data": {
      "image/png": "[encoded data removed]",
      "text/plain": [
       "<Figure size 640x480 with 1 Axes>"
      ]
     },
     "metadata": {},
     "output_type": "display_data"
    }
   ],
   "source": [
    "df.query('~Tenure.isna()')['CreditScore'].hist(bins=20, log=True)\n",
    "df.query('Tenure.isna()')['CreditScore'].hist(bins=20);\n",
    "plt.title('Распределение кредитного рейтинга')\n",
    "plt.xlabel('Кредитный рейтинг')\n",
    "plt.ylabel('log(Количество)')\n",
    "plt.legend(['Tenure: есть данные', 'Tenure: нет данных']);"
   ]
  },
  {
   "cell_type": "markdown",
   "id": "d62a4d97",
   "metadata": {},
   "source": [
    "Распределения сходны."
   ]
  },
  {
   "cell_type": "markdown",
   "id": "6d762149",
   "metadata": {},
   "source": [
    "Исходя из анализа проведённого выше лучшим решением будет удаление объектов с пропусками. Это не слишком обеднит данные, т.к. почти 91% данных останется. А заполнение данных может привести к смещению при обучении.<br>\n",
    "Удалим объекты с пропущенными значениями в этом признаке."
   ]
  },
  {
   "cell_type": "code",
   "execution_count": 16,
   "id": "110420cd",
   "metadata": {},
   "outputs": [
    {
     "name": "stdout",
     "output_type": "stream",
     "text": [
      "Количество пропусков: 909\n",
      "Размер исходного датасета: (10000, 13)\n",
      "Количество пропусков: 0\n",
      "Размер очищенного датасета: (9091, 13)\n"
     ]
    }
   ],
   "source": [
    "df1 = df.dropna()\n",
    "\n",
    "print('Количество пропусков:', df.isna().sum().sum())\n",
    "print('Размер исходного датасета:', df.shape)\n",
    "print('Количество пропусков:', df1.isna().sum().sum())\n",
    "print('Размер очищенного датасета:', df1.shape)"
   ]
  },
  {
   "cell_type": "markdown",
   "id": "361980bd",
   "metadata": {},
   "source": [
    "### Вывод 2"
   ]
  },
  {
   "cell_type": "markdown",
   "id": "de534622",
   "metadata": {},
   "source": [
    "<div style=\"border:solid steelblue 3px; padding: 20px; border-radius: 10px\">\n",
    "\n",
    "Была выполнена предобработка данных:\n",
    "* дубликаты не выявлены;<br>\n",
    "* выбросы не найдены;<br>\n",
    "* объекты с пропущенными значениями удалены.<br>"
   ]
  },
  {
   "cell_type": "markdown",
   "id": "a8e92476",
   "metadata": {},
   "source": [
    "## Исследование данных"
   ]
  },
  {
   "cell_type": "code",
   "execution_count": 17,
   "id": "b328668a",
   "metadata": {},
   "outputs": [
    {
     "data": {
      "text/plain": [
       "CustomerId         9091\n",
       "Surname            2787\n",
       "CreditScore         458\n",
       "Geography             3\n",
       "Gender                2\n",
       "Age                  70\n",
       "Tenure               11\n",
       "Balance            5807\n",
       "NumOfProducts         4\n",
       "HasCrCard             2\n",
       "IsActiveMember        2\n",
       "EstimatedSalary    9090\n",
       "Exited                2\n",
       "dtype: int64"
      ]
     },
     "execution_count": 17,
     "metadata": {},
     "output_type": "execute_result"
    }
   ],
   "source": [
    "df1.nunique()"
   ]
  },
  {
   "cell_type": "markdown",
   "id": "d405c09c",
   "metadata": {},
   "source": [
    "### Категориальные признаки"
   ]
  },
  {
   "cell_type": "code",
   "execution_count": 18,
   "id": "a95cda28",
   "metadata": {},
   "outputs": [
    {
     "name": "stdout",
     "output_type": "stream",
     "text": [
      "--------- Geography ---------\n"
     ]
    },
    {
     "data": {
      "text/plain": [
       "Geography\n",
       "France     0.500495\n",
       "Germany    0.252227\n",
       "Spain      0.247278\n",
       "Name: proportion, dtype: float64"
      ]
     },
     "metadata": {},
     "output_type": "display_data"
    },
    {
     "name": "stdout",
     "output_type": "stream",
     "text": [
      "--------- Gender ---------\n"
     ]
    },
    {
     "data": {
      "text/plain": [
       "Gender\n",
       "Male      0.547135\n",
       "Female    0.452865\n",
       "Name: proportion, dtype: float64"
      ]
     },
     "metadata": {},
     "output_type": "display_data"
    },
    {
     "name": "stdout",
     "output_type": "stream",
     "text": [
      "--------- HasCrCard ---------\n"
     ]
    },
    {
     "data": {
      "text/plain": [
       "HasCrCard\n",
       "1    0.704983\n",
       "0    0.295017\n",
       "Name: proportion, dtype: float64"
      ]
     },
     "metadata": {},
     "output_type": "display_data"
    },
    {
     "name": "stdout",
     "output_type": "stream",
     "text": [
      "--------- IsActiveMember ---------\n"
     ]
    },
    {
     "data": {
      "text/plain": [
       "IsActiveMember\n",
       "1    0.515565\n",
       "0    0.484435\n",
       "Name: proportion, dtype: float64"
      ]
     },
     "metadata": {},
     "output_type": "display_data"
    },
    {
     "name": "stdout",
     "output_type": "stream",
     "text": [
      "--------- Exited ---------\n"
     ]
    },
    {
     "data": {
      "text/plain": [
       "Exited\n",
       "0    0.796062\n",
       "1    0.203938\n",
       "Name: proportion, dtype: float64"
      ]
     },
     "metadata": {},
     "output_type": "display_data"
    }
   ],
   "source": [
    "cat_cols = ['Geography', 'Gender', 'HasCrCard', 'IsActiveMember', 'Exited']\n",
    "for col in cat_cols:\n",
    "    print('---------', col, '---------')\n",
    "    display(df1[col].value_counts(normalize=True))"
   ]
  },
  {
   "cell_type": "markdown",
   "id": "4cefe82a",
   "metadata": {},
   "source": [
    "### Числовые признаки"
   ]
  },
  {
   "cell_type": "code",
   "execution_count": 19,
   "id": "6cf685c6",
   "metadata": {
    "scrolled": false
   },
   "outputs": [
    {
     "data": {
      "image/png": "[encoded data removed]",
      "text/plain": [
       "<Figure size 1000x1000 with 6 Axes>"
      ]
     },
     "metadata": {},
     "output_type": "display_data"
    }
   ],
   "source": [
    "num_cols = ['CreditScore', 'Age', 'Tenure', 'Balance', 'NumOfProducts', 'EstimatedSalary']\n",
    "df[num_cols].hist(bins=11, figsize=(10,10));"
   ]
  },
  {
   "cell_type": "markdown",
   "id": "8f689d6d",
   "metadata": {},
   "source": [
    "### Корелляция признаков"
   ]
  },
  {
   "cell_type": "code",
   "execution_count": 21,
   "id": "b29d353b",
   "metadata": {},
   "outputs": [
    {
     "data": {
      "text/html": [
       "<style type=\"text/css\">\n",
       "#T_3f061_row0_col0, #T_3f061_row1_col1, #T_3f061_row2_col2, #T_3f061_row3_col3, #T_3f061_row4_col4, #T_3f061_row5_col5, #T_3f061_row6_col6, #T_3f061_row7_col7, #T_3f061_row8_col8, #T_3f061_row9_col9 {\n",
       "  background-color: #3b4cc0;\n",
       "  color: #f1f1f1;\n",
       "}\n",
       "#T_3f061_row0_col1, #T_3f061_row0_col4, #T_3f061_row0_col9, #T_3f061_row1_col0, #T_3f061_row1_col2, #T_3f061_row1_col3, #T_3f061_row1_col6, #T_3f061_row2_col1, #T_3f061_row2_col8, #T_3f061_row3_col1, #T_3f061_row4_col0, #T_3f061_row4_col7, #T_3f061_row6_col1, #T_3f061_row6_col8, #T_3f061_row6_col9, #T_3f061_row7_col4, #T_3f061_row8_col2, #T_3f061_row8_col6, #T_3f061_row9_col0, #T_3f061_row9_col6 {\n",
       "  background-color: #dddcdc;\n",
       "  color: #000000;\n",
       "}\n",
       "#T_3f061_row0_col2, #T_3f061_row0_col5, #T_3f061_row0_col8, #T_3f061_row1_col5, #T_3f061_row2_col0, #T_3f061_row3_col5, #T_3f061_row3_col8, #T_3f061_row4_col8, #T_3f061_row5_col0, #T_3f061_row5_col1, #T_3f061_row5_col3, #T_3f061_row5_col7, #T_3f061_row5_col8, #T_3f061_row7_col5, #T_3f061_row8_col0, #T_3f061_row8_col3, #T_3f061_row8_col4, #T_3f061_row8_col5 {\n",
       "  background-color: #dbdcde;\n",
       "  color: #000000;\n",
       "}\n",
       "#T_3f061_row0_col3, #T_3f061_row0_col6, #T_3f061_row3_col0, #T_3f061_row3_col9, #T_3f061_row4_col6, #T_3f061_row6_col0, #T_3f061_row6_col4, #T_3f061_row7_col8, #T_3f061_row8_col7, #T_3f061_row9_col3 {\n",
       "  background-color: #dfdbd9;\n",
       "  color: #000000;\n",
       "}\n",
       "#T_3f061_row0_col7, #T_3f061_row1_col4, #T_3f061_row1_col8, #T_3f061_row4_col1, #T_3f061_row5_col6, #T_3f061_row6_col5, #T_3f061_row7_col0, #T_3f061_row8_col1 {\n",
       "  background-color: #dcdddd;\n",
       "  color: #000000;\n",
       "}\n",
       "#T_3f061_row1_col7, #T_3f061_row3_col6, #T_3f061_row6_col3, #T_3f061_row7_col1 {\n",
       "  background-color: #d9dce1;\n",
       "  color: #000000;\n",
       "}\n",
       "#T_3f061_row1_col9, #T_3f061_row9_col1 {\n",
       "  background-color: #e0dbd8;\n",
       "  color: #000000;\n",
       "}\n",
       "#T_3f061_row2_col3, #T_3f061_row2_col6, #T_3f061_row3_col2, #T_3f061_row3_col4, #T_3f061_row4_col3, #T_3f061_row6_col2, #T_3f061_row6_col7, #T_3f061_row7_col6 {\n",
       "  background-color: #dedcdb;\n",
       "  color: #000000;\n",
       "}\n",
       "#T_3f061_row2_col4, #T_3f061_row4_col2 {\n",
       "  background-color: #d8dce2;\n",
       "  color: #000000;\n",
       "}\n",
       "#T_3f061_row2_col5, #T_3f061_row3_col7, #T_3f061_row5_col2, #T_3f061_row7_col3 {\n",
       "  background-color: #e1dad6;\n",
       "  color: #000000;\n",
       "}\n",
       "#T_3f061_row2_col7, #T_3f061_row7_col2 {\n",
       "  background-color: #d2dbe8;\n",
       "  color: #000000;\n",
       "}\n",
       "#T_3f061_row2_col9, #T_3f061_row9_col2 {\n",
       "  background-color: #b2ccfb;\n",
       "  color: #000000;\n",
       "}\n",
       "#T_3f061_row4_col5, #T_3f061_row5_col4 {\n",
       "  background-color: #f6bda2;\n",
       "  color: #000000;\n",
       "}\n",
       "#T_3f061_row4_col9, #T_3f061_row9_col4 {\n",
       "  background-color: #ccd9ed;\n",
       "  color: #000000;\n",
       "}\n",
       "#T_3f061_row5_col9, #T_3f061_row9_col5 {\n",
       "  background-color: #e3d9d3;\n",
       "  color: #000000;\n",
       "}\n",
       "#T_3f061_row7_col9, #T_3f061_row9_col7 {\n",
       "  background-color: #eed0c0;\n",
       "  color: #000000;\n",
       "}\n",
       "#T_3f061_row8_col9, #T_3f061_row9_col8 {\n",
       "  background-color: #dadce0;\n",
       "  color: #000000;\n",
       "}\n",
       "</style>\n",
       "<table id=\"T_3f061\">\n",
       "  <thead>\n",
       "    <tr>\n",
       "      <th class=\"blank level0\" >&nbsp;</th>\n",
       "      <th id=\"T_3f061_level0_col0\" class=\"col_heading level0 col0\" >CustomerId</th>\n",
       "      <th id=\"T_3f061_level0_col1\" class=\"col_heading level0 col1\" >CreditScore</th>\n",
       "      <th id=\"T_3f061_level0_col2\" class=\"col_heading level0 col2\" >Age</th>\n",
       "      <th id=\"T_3f061_level0_col3\" class=\"col_heading level0 col3\" >Tenure</th>\n",
       "      <th id=\"T_3f061_level0_col4\" class=\"col_heading level0 col4\" >Balance</th>\n",
       "      <th id=\"T_3f061_level0_col5\" class=\"col_heading level0 col5\" >NumOfProducts</th>\n",
       "      <th id=\"T_3f061_level0_col6\" class=\"col_heading level0 col6\" >HasCrCard</th>\n",
       "      <th id=\"T_3f061_level0_col7\" class=\"col_heading level0 col7\" >IsActiveMember</th>\n",
       "      <th id=\"T_3f061_level0_col8\" class=\"col_heading level0 col8\" >EstimatedSalary</th>\n",
       "      <th id=\"T_3f061_level0_col9\" class=\"col_heading level0 col9\" >Exited</th>\n",
       "    </tr>\n",
       "  </thead>\n",
       "  <tbody>\n",
       "    <tr>\n",
       "      <th id=\"T_3f061_level0_row0\" class=\"row_heading level0 row0\" >CustomerId</th>\n",
       "      <td id=\"T_3f061_row0_col0\" class=\"data row0 col0\" >1.000000</td>\n",
       "      <td id=\"T_3f061_row0_col1\" class=\"data row0 col1\" >-0.001610</td>\n",
       "      <td id=\"T_3f061_row0_col2\" class=\"data row0 col2\" >0.010379</td>\n",
       "      <td id=\"T_3f061_row0_col3\" class=\"data row0 col3\" >-0.021418</td>\n",
       "      <td id=\"T_3f061_row0_col4\" class=\"data row0 col4\" >-0.007445</td>\n",
       "      <td id=\"T_3f061_row0_col5\" class=\"data row0 col5\" >0.014604</td>\n",
       "      <td id=\"T_3f061_row0_col6\" class=\"data row0 col6\" >-0.019891</td>\n",
       "      <td id=\"T_3f061_row0_col7\" class=\"data row0 col7\" >0.001499</td>\n",
       "      <td id=\"T_3f061_row0_col8\" class=\"data row0 col8\" >0.010029</td>\n",
       "      <td id=\"T_3f061_row0_col9\" class=\"data row0 col9\" >-0.007040</td>\n",
       "    </tr>\n",
       "    <tr>\n",
       "      <th id=\"T_3f061_level0_row1\" class=\"row_heading level0 row1\" >CreditScore</th>\n",
       "      <td id=\"T_3f061_row1_col0\" class=\"data row1 col0\" >-0.001610</td>\n",
       "      <td id=\"T_3f061_row1_col1\" class=\"data row1 col1\" >1.000000</td>\n",
       "      <td id=\"T_3f061_row1_col2\" class=\"data row1 col2\" >-0.004504</td>\n",
       "      <td id=\"T_3f061_row1_col3\" class=\"data row1 col3\" >-0.000062</td>\n",
       "      <td id=\"T_3f061_row1_col4\" class=\"data row1 col4\" >0.002804</td>\n",
       "      <td id=\"T_3f061_row1_col5\" class=\"data row1 col5\" >0.011090</td>\n",
       "      <td id=\"T_3f061_row1_col6\" class=\"data row1 col6\" >-0.003937</td>\n",
       "      <td id=\"T_3f061_row1_col7\" class=\"data row1 col7\" >0.030947</td>\n",
       "      <td id=\"T_3f061_row1_col8\" class=\"data row1 col8\" >0.005182</td>\n",
       "      <td id=\"T_3f061_row1_col9\" class=\"data row1 col9\" >-0.023950</td>\n",
       "    </tr>\n",
       "    <tr>\n",
       "      <th id=\"T_3f061_level0_row2\" class=\"row_heading level0 row2\" >Age</th>\n",
       "      <td id=\"T_3f061_row2_col0\" class=\"data row2 col0\" >0.010379</td>\n",
       "      <td id=\"T_3f061_row2_col1\" class=\"data row2 col1\" >-0.004504</td>\n",
       "      <td id=\"T_3f061_row2_col2\" class=\"data row2 col2\" >1.000000</td>\n",
       "      <td id=\"T_3f061_row2_col3\" class=\"data row2 col3\" >-0.013134</td>\n",
       "      <td id=\"T_3f061_row2_col4\" class=\"data row2 col4\" >0.031481</td>\n",
       "      <td id=\"T_3f061_row2_col5\" class=\"data row2 col5\" >-0.031877</td>\n",
       "      <td id=\"T_3f061_row2_col6\" class=\"data row2 col6\" >-0.014129</td>\n",
       "      <td id=\"T_3f061_row2_col7\" class=\"data row2 col7\" >0.082269</td>\n",
       "      <td id=\"T_3f061_row2_col8\" class=\"data row2 col8\" >-0.007037</td>\n",
       "      <td id=\"T_3f061_row2_col9\" class=\"data row2 col9\" >0.283017</td>\n",
       "    </tr>\n",
       "    <tr>\n",
       "      <th id=\"T_3f061_level0_row3\" class=\"row_heading level0 row3\" >Tenure</th>\n",
       "      <td id=\"T_3f061_row3_col0\" class=\"data row3 col0\" >-0.021418</td>\n",
       "      <td id=\"T_3f061_row3_col1\" class=\"data row3 col1\" >-0.000062</td>\n",
       "      <td id=\"T_3f061_row3_col2\" class=\"data row3 col2\" >-0.013134</td>\n",
       "      <td id=\"T_3f061_row3_col3\" class=\"data row3 col3\" >1.000000</td>\n",
       "      <td id=\"T_3f061_row3_col4\" class=\"data row3 col4\" >-0.007911</td>\n",
       "      <td id=\"T_3f061_row3_col5\" class=\"data row3 col5\" >0.011979</td>\n",
       "      <td id=\"T_3f061_row3_col6\" class=\"data row3 col6\" >0.027232</td>\n",
       "      <td id=\"T_3f061_row3_col7\" class=\"data row3 col7\" >-0.032178</td>\n",
       "      <td id=\"T_3f061_row3_col8\" class=\"data row3 col8\" >0.010520</td>\n",
       "      <td id=\"T_3f061_row3_col9\" class=\"data row3 col9\" >-0.016761</td>\n",
       "    </tr>\n",
       "    <tr>\n",
       "      <th id=\"T_3f061_level0_row4\" class=\"row_heading level0 row4\" >Balance</th>\n",
       "      <td id=\"T_3f061_row4_col0\" class=\"data row4 col0\" >-0.007445</td>\n",
       "      <td id=\"T_3f061_row4_col1\" class=\"data row4 col1\" >0.002804</td>\n",
       "      <td id=\"T_3f061_row4_col2\" class=\"data row4 col2\" >0.031481</td>\n",
       "      <td id=\"T_3f061_row4_col3\" class=\"data row4 col3\" >-0.007911</td>\n",
       "      <td id=\"T_3f061_row4_col4\" class=\"data row4 col4\" >1.000000</td>\n",
       "      <td id=\"T_3f061_row4_col5\" class=\"data row4 col5\" >-0.301858</td>\n",
       "      <td id=\"T_3f061_row4_col6\" class=\"data row4 col6\" >-0.019055</td>\n",
       "      <td id=\"T_3f061_row4_col7\" class=\"data row4 col7\" >-0.003285</td>\n",
       "      <td id=\"T_3f061_row4_col8\" class=\"data row4 col8\" >0.014351</td>\n",
       "      <td id=\"T_3f061_row4_col9\" class=\"data row4 col9\" >0.117218</td>\n",
       "    </tr>\n",
       "    <tr>\n",
       "      <th id=\"T_3f061_level0_row5\" class=\"row_heading level0 row5\" >NumOfProducts</th>\n",
       "      <td id=\"T_3f061_row5_col0\" class=\"data row5 col0\" >0.014604</td>\n",
       "      <td id=\"T_3f061_row5_col1\" class=\"data row5 col1\" >0.011090</td>\n",
       "      <td id=\"T_3f061_row5_col2\" class=\"data row5 col2\" >-0.031877</td>\n",
       "      <td id=\"T_3f061_row5_col3\" class=\"data row5 col3\" >0.011979</td>\n",
       "      <td id=\"T_3f061_row5_col4\" class=\"data row5 col4\" >-0.301858</td>\n",
       "      <td id=\"T_3f061_row5_col5\" class=\"data row5 col5\" >1.000000</td>\n",
       "      <td id=\"T_3f061_row5_col6\" class=\"data row5 col6\" >0.005805</td>\n",
       "      <td id=\"T_3f061_row5_col7\" class=\"data row5 col7\" >0.009084</td>\n",
       "      <td id=\"T_3f061_row5_col8\" class=\"data row5 col8\" >0.013990</td>\n",
       "      <td id=\"T_3f061_row5_col9\" class=\"data row5 col9\" >-0.050271</td>\n",
       "    </tr>\n",
       "    <tr>\n",
       "      <th id=\"T_3f061_level0_row6\" class=\"row_heading level0 row6\" >HasCrCard</th>\n",
       "      <td id=\"T_3f061_row6_col0\" class=\"data row6 col0\" >-0.019891</td>\n",
       "      <td id=\"T_3f061_row6_col1\" class=\"data row6 col1\" >-0.003937</td>\n",
       "      <td id=\"T_3f061_row6_col2\" class=\"data row6 col2\" >-0.014129</td>\n",
       "      <td id=\"T_3f061_row6_col3\" class=\"data row6 col3\" >0.027232</td>\n",
       "      <td id=\"T_3f061_row6_col4\" class=\"data row6 col4\" >-0.019055</td>\n",
       "      <td id=\"T_3f061_row6_col5\" class=\"data row6 col5\" >0.005805</td>\n",
       "      <td id=\"T_3f061_row6_col6\" class=\"data row6 col6\" >1.000000</td>\n",
       "      <td id=\"T_3f061_row6_col7\" class=\"data row6 col7\" >-0.008810</td>\n",
       "      <td id=\"T_3f061_row6_col8\" class=\"data row6 col8\" >-0.006136</td>\n",
       "      <td id=\"T_3f061_row6_col9\" class=\"data row6 col9\" >-0.005411</td>\n",
       "    </tr>\n",
       "    <tr>\n",
       "      <th id=\"T_3f061_level0_row7\" class=\"row_heading level0 row7\" >IsActiveMember</th>\n",
       "      <td id=\"T_3f061_row7_col0\" class=\"data row7 col0\" >0.001499</td>\n",
       "      <td id=\"T_3f061_row7_col1\" class=\"data row7 col1\" >0.030947</td>\n",
       "      <td id=\"T_3f061_row7_col2\" class=\"data row7 col2\" >0.082269</td>\n",
       "      <td id=\"T_3f061_row7_col3\" class=\"data row7 col3\" >-0.032178</td>\n",
       "      <td id=\"T_3f061_row7_col4\" class=\"data row7 col4\" >-0.003285</td>\n",
       "      <td id=\"T_3f061_row7_col5\" class=\"data row7 col5\" >0.009084</td>\n",
       "      <td id=\"T_3f061_row7_col6\" class=\"data row7 col6\" >-0.008810</td>\n",
       "      <td id=\"T_3f061_row7_col7\" class=\"data row7 col7\" >1.000000</td>\n",
       "      <td id=\"T_3f061_row7_col8\" class=\"data row7 col8\" >-0.020049</td>\n",
       "      <td id=\"T_3f061_row7_col9\" class=\"data row7 col9\" >-0.155062</td>\n",
       "    </tr>\n",
       "    <tr>\n",
       "      <th id=\"T_3f061_level0_row8\" class=\"row_heading level0 row8\" >EstimatedSalary</th>\n",
       "      <td id=\"T_3f061_row8_col0\" class=\"data row8 col0\" >0.010029</td>\n",
       "      <td id=\"T_3f061_row8_col1\" class=\"data row8 col1\" >0.005182</td>\n",
       "      <td id=\"T_3f061_row8_col2\" class=\"data row8 col2\" >-0.007037</td>\n",
       "      <td id=\"T_3f061_row8_col3\" class=\"data row8 col3\" >0.010520</td>\n",
       "      <td id=\"T_3f061_row8_col4\" class=\"data row8 col4\" >0.014351</td>\n",
       "      <td id=\"T_3f061_row8_col5\" class=\"data row8 col5\" >0.013990</td>\n",
       "      <td id=\"T_3f061_row8_col6\" class=\"data row8 col6\" >-0.006136</td>\n",
       "      <td id=\"T_3f061_row8_col7\" class=\"data row8 col7\" >-0.020049</td>\n",
       "      <td id=\"T_3f061_row8_col8\" class=\"data row8 col8\" >1.000000</td>\n",
       "      <td id=\"T_3f061_row8_col9\" class=\"data row8 col9\" >0.016029</td>\n",
       "    </tr>\n",
       "    <tr>\n",
       "      <th id=\"T_3f061_level0_row9\" class=\"row_heading level0 row9\" >Exited</th>\n",
       "      <td id=\"T_3f061_row9_col0\" class=\"data row9 col0\" >-0.007040</td>\n",
       "      <td id=\"T_3f061_row9_col1\" class=\"data row9 col1\" >-0.023950</td>\n",
       "      <td id=\"T_3f061_row9_col2\" class=\"data row9 col2\" >0.283017</td>\n",
       "      <td id=\"T_3f061_row9_col3\" class=\"data row9 col3\" >-0.016761</td>\n",
       "      <td id=\"T_3f061_row9_col4\" class=\"data row9 col4\" >0.117218</td>\n",
       "      <td id=\"T_3f061_row9_col5\" class=\"data row9 col5\" >-0.050271</td>\n",
       "      <td id=\"T_3f061_row9_col6\" class=\"data row9 col6\" >-0.005411</td>\n",
       "      <td id=\"T_3f061_row9_col7\" class=\"data row9 col7\" >-0.155062</td>\n",
       "      <td id=\"T_3f061_row9_col8\" class=\"data row9 col8\" >0.016029</td>\n",
       "      <td id=\"T_3f061_row9_col9\" class=\"data row9 col9\" >1.000000</td>\n",
       "    </tr>\n",
       "  </tbody>\n",
       "</table>\n"
      ],
      "text/plain": [
       "<pandas.io.formats.style.Styler at 0x1e5f58fad70>"
      ]
     },
     "execution_count": 21,
     "metadata": {},
     "output_type": "execute_result"
    }
   ],
   "source": [
    "df1.corr(numeric_only=True).style.background_gradient(cmap='coolwarm_r', vmin=-1, vmax=1)"
   ]
  },
  {
   "cell_type": "markdown",
   "id": "e5b32c47",
   "metadata": {},
   "source": [
    "Сгруппируем данные по категориальным признакам и вычислим средние значения числовых признаков по этим группам."
   ]
  },
  {
   "cell_type": "code",
   "execution_count": 25,
   "id": "4b0068ca",
   "metadata": {
    "scrolled": false
   },
   "outputs": [
    {
     "data": {
      "text/html": [
       "<div>\n",
       "<style scoped>\n",
       "    .dataframe tbody tr th:only-of-type {\n",
       "        vertical-align: middle;\n",
       "    }\n",
       "\n",
       "    .dataframe tbody tr th {\n",
       "        vertical-align: top;\n",
       "    }\n",
       "\n",
       "    .dataframe thead th {\n",
       "        text-align: right;\n",
       "    }\n",
       "</style>\n",
       "<table border=\"1\" class=\"dataframe\">\n",
       "  <thead>\n",
       "    <tr style=\"text-align: right;\">\n",
       "      <th></th>\n",
       "      <th>CreditScore</th>\n",
       "      <th>Age</th>\n",
       "      <th>Tenure</th>\n",
       "      <th>Balance</th>\n",
       "      <th>NumOfProducts</th>\n",
       "      <th>EstimatedSalary</th>\n",
       "    </tr>\n",
       "    <tr>\n",
       "      <th>Geography</th>\n",
       "      <th></th>\n",
       "      <th></th>\n",
       "      <th></th>\n",
       "      <th></th>\n",
       "      <th></th>\n",
       "      <th></th>\n",
       "    </tr>\n",
       "  </thead>\n",
       "  <tbody>\n",
       "    <tr>\n",
       "      <th>France</th>\n",
       "      <td>650.6</td>\n",
       "      <td>38.6</td>\n",
       "      <td>5.0</td>\n",
       "      <td>62157.7</td>\n",
       "      <td>1.5</td>\n",
       "      <td>100149.9</td>\n",
       "    </tr>\n",
       "    <tr>\n",
       "      <th>Germany</th>\n",
       "      <td>650.8</td>\n",
       "      <td>39.8</td>\n",
       "      <td>5.0</td>\n",
       "      <td>119631.1</td>\n",
       "      <td>1.5</td>\n",
       "      <td>101327.2</td>\n",
       "    </tr>\n",
       "    <tr>\n",
       "      <th>Spain</th>\n",
       "      <td>651.0</td>\n",
       "      <td>38.8</td>\n",
       "      <td>5.0</td>\n",
       "      <td>61626.7</td>\n",
       "      <td>1.5</td>\n",
       "      <td>99075.5</td>\n",
       "    </tr>\n",
       "  </tbody>\n",
       "</table>\n",
       "</div>"
      ],
      "text/plain": [
       "           CreditScore   Age  Tenure   Balance  NumOfProducts  EstimatedSalary\n",
       "Geography                                                                     \n",
       "France           650.6  38.6     5.0   62157.7            1.5         100149.9\n",
       "Germany          650.8  39.8     5.0  119631.1            1.5         101327.2\n",
       "Spain            651.0  38.8     5.0   61626.7            1.5          99075.5"
      ]
     },
     "metadata": {},
     "output_type": "display_data"
    },
    {
     "data": {
      "text/html": [
       "<div>\n",
       "<style scoped>\n",
       "    .dataframe tbody tr th:only-of-type {\n",
       "        vertical-align: middle;\n",
       "    }\n",
       "\n",
       "    .dataframe tbody tr th {\n",
       "        vertical-align: top;\n",
       "    }\n",
       "\n",
       "    .dataframe thead th {\n",
       "        text-align: right;\n",
       "    }\n",
       "</style>\n",
       "<table border=\"1\" class=\"dataframe\">\n",
       "  <thead>\n",
       "    <tr style=\"text-align: right;\">\n",
       "      <th></th>\n",
       "      <th>CreditScore</th>\n",
       "      <th>Age</th>\n",
       "      <th>Tenure</th>\n",
       "      <th>Balance</th>\n",
       "      <th>NumOfProducts</th>\n",
       "      <th>EstimatedSalary</th>\n",
       "    </tr>\n",
       "    <tr>\n",
       "      <th>Gender</th>\n",
       "      <th></th>\n",
       "      <th></th>\n",
       "      <th></th>\n",
       "      <th></th>\n",
       "      <th></th>\n",
       "      <th></th>\n",
       "    </tr>\n",
       "  </thead>\n",
       "  <tbody>\n",
       "    <tr>\n",
       "      <th>Female</th>\n",
       "      <td>651.6</td>\n",
       "      <td>39.2</td>\n",
       "      <td>5.0</td>\n",
       "      <td>75287.6</td>\n",
       "      <td>1.5</td>\n",
       "      <td>100349.6</td>\n",
       "    </tr>\n",
       "    <tr>\n",
       "      <th>Male</th>\n",
       "      <td>650.0</td>\n",
       "      <td>38.7</td>\n",
       "      <td>5.0</td>\n",
       "      <td>77545.1</td>\n",
       "      <td>1.5</td>\n",
       "      <td>100041.9</td>\n",
       "    </tr>\n",
       "  </tbody>\n",
       "</table>\n",
       "</div>"
      ],
      "text/plain": [
       "        CreditScore   Age  Tenure  Balance  NumOfProducts  EstimatedSalary\n",
       "Gender                                                                    \n",
       "Female        651.6  39.2     5.0  75287.6            1.5         100349.6\n",
       "Male          650.0  38.7     5.0  77545.1            1.5         100041.9"
      ]
     },
     "metadata": {},
     "output_type": "display_data"
    },
    {
     "data": {
      "text/html": [
       "<div>\n",
       "<style scoped>\n",
       "    .dataframe tbody tr th:only-of-type {\n",
       "        vertical-align: middle;\n",
       "    }\n",
       "\n",
       "    .dataframe tbody tr th {\n",
       "        vertical-align: top;\n",
       "    }\n",
       "\n",
       "    .dataframe thead th {\n",
       "        text-align: right;\n",
       "    }\n",
       "</style>\n",
       "<table border=\"1\" class=\"dataframe\">\n",
       "  <thead>\n",
       "    <tr style=\"text-align: right;\">\n",
       "      <th></th>\n",
       "      <th>CreditScore</th>\n",
       "      <th>Age</th>\n",
       "      <th>Tenure</th>\n",
       "      <th>Balance</th>\n",
       "      <th>NumOfProducts</th>\n",
       "      <th>EstimatedSalary</th>\n",
       "    </tr>\n",
       "    <tr>\n",
       "      <th>HasCrCard</th>\n",
       "      <th></th>\n",
       "      <th></th>\n",
       "      <th></th>\n",
       "      <th></th>\n",
       "      <th></th>\n",
       "      <th></th>\n",
       "    </tr>\n",
       "  </thead>\n",
       "  <tbody>\n",
       "    <tr>\n",
       "      <th>0</th>\n",
       "      <td>651.3</td>\n",
       "      <td>39.2</td>\n",
       "      <td>4.9</td>\n",
       "      <td>78358.6</td>\n",
       "      <td>1.5</td>\n",
       "      <td>100727.8</td>\n",
       "    </tr>\n",
       "    <tr>\n",
       "      <th>1</th>\n",
       "      <td>650.5</td>\n",
       "      <td>38.9</td>\n",
       "      <td>5.0</td>\n",
       "      <td>75754.5</td>\n",
       "      <td>1.5</td>\n",
       "      <td>99952.5</td>\n",
       "    </tr>\n",
       "  </tbody>\n",
       "</table>\n",
       "</div>"
      ],
      "text/plain": [
       "           CreditScore   Age  Tenure  Balance  NumOfProducts  EstimatedSalary\n",
       "HasCrCard                                                                    \n",
       "0                651.3  39.2     4.9  78358.6            1.5         100727.8\n",
       "1                650.5  38.9     5.0  75754.5            1.5          99952.5"
      ]
     },
     "metadata": {},
     "output_type": "display_data"
    },
    {
     "data": {
      "text/html": [
       "<div>\n",
       "<style scoped>\n",
       "    .dataframe tbody tr th:only-of-type {\n",
       "        vertical-align: middle;\n",
       "    }\n",
       "\n",
       "    .dataframe tbody tr th {\n",
       "        vertical-align: top;\n",
       "    }\n",
       "\n",
       "    .dataframe thead th {\n",
       "        text-align: right;\n",
       "    }\n",
       "</style>\n",
       "<table border=\"1\" class=\"dataframe\">\n",
       "  <thead>\n",
       "    <tr style=\"text-align: right;\">\n",
       "      <th></th>\n",
       "      <th>CreditScore</th>\n",
       "      <th>Age</th>\n",
       "      <th>Tenure</th>\n",
       "      <th>Balance</th>\n",
       "      <th>NumOfProducts</th>\n",
       "      <th>EstimatedSalary</th>\n",
       "    </tr>\n",
       "    <tr>\n",
       "      <th>IsActiveMember</th>\n",
       "      <th></th>\n",
       "      <th></th>\n",
       "      <th></th>\n",
       "      <th></th>\n",
       "      <th></th>\n",
       "      <th></th>\n",
       "    </tr>\n",
       "  </thead>\n",
       "  <tbody>\n",
       "    <tr>\n",
       "      <th>0</th>\n",
       "      <td>647.7</td>\n",
       "      <td>38.1</td>\n",
       "      <td>5.1</td>\n",
       "      <td>76733.9</td>\n",
       "      <td>1.5</td>\n",
       "      <td>101373.0</td>\n",
       "    </tr>\n",
       "    <tr>\n",
       "      <th>1</th>\n",
       "      <td>653.6</td>\n",
       "      <td>39.8</td>\n",
       "      <td>4.9</td>\n",
       "      <td>76324.3</td>\n",
       "      <td>1.5</td>\n",
       "      <td>99061.4</td>\n",
       "    </tr>\n",
       "  </tbody>\n",
       "</table>\n",
       "</div>"
      ],
      "text/plain": [
       "                CreditScore   Age  Tenure  Balance  NumOfProducts  \\\n",
       "IsActiveMember                                                      \n",
       "0                     647.7  38.1     5.1  76733.9            1.5   \n",
       "1                     653.6  39.8     4.9  76324.3            1.5   \n",
       "\n",
       "                EstimatedSalary  \n",
       "IsActiveMember                   \n",
       "0                      101373.0  \n",
       "1                       99061.4  "
      ]
     },
     "metadata": {},
     "output_type": "display_data"
    },
    {
     "data": {
      "text/html": [
       "<div>\n",
       "<style scoped>\n",
       "    .dataframe tbody tr th:only-of-type {\n",
       "        vertical-align: middle;\n",
       "    }\n",
       "\n",
       "    .dataframe tbody tr th {\n",
       "        vertical-align: top;\n",
       "    }\n",
       "\n",
       "    .dataframe thead th {\n",
       "        text-align: right;\n",
       "    }\n",
       "</style>\n",
       "<table border=\"1\" class=\"dataframe\">\n",
       "  <thead>\n",
       "    <tr style=\"text-align: right;\">\n",
       "      <th></th>\n",
       "      <th>CreditScore</th>\n",
       "      <th>Age</th>\n",
       "      <th>Tenure</th>\n",
       "      <th>Balance</th>\n",
       "      <th>NumOfProducts</th>\n",
       "      <th>EstimatedSalary</th>\n",
       "    </tr>\n",
       "    <tr>\n",
       "      <th>Exited</th>\n",
       "      <th></th>\n",
       "      <th></th>\n",
       "      <th></th>\n",
       "      <th></th>\n",
       "      <th></th>\n",
       "      <th></th>\n",
       "    </tr>\n",
       "  </thead>\n",
       "  <tbody>\n",
       "    <tr>\n",
       "      <th>0</th>\n",
       "      <td>651.9</td>\n",
       "      <td>37.4</td>\n",
       "      <td>5.0</td>\n",
       "      <td>72825.0</td>\n",
       "      <td>1.5</td>\n",
       "      <td>99713.7</td>\n",
       "    </tr>\n",
       "    <tr>\n",
       "      <th>1</th>\n",
       "      <td>646.2</td>\n",
       "      <td>44.9</td>\n",
       "      <td>4.9</td>\n",
       "      <td>90956.8</td>\n",
       "      <td>1.5</td>\n",
       "      <td>102006.1</td>\n",
       "    </tr>\n",
       "  </tbody>\n",
       "</table>\n",
       "</div>"
      ],
      "text/plain": [
       "        CreditScore   Age  Tenure  Balance  NumOfProducts  EstimatedSalary\n",
       "Exited                                                                    \n",
       "0             651.9  37.4     5.0  72825.0            1.5          99713.7\n",
       "1             646.2  44.9     4.9  90956.8            1.5         102006.1"
      ]
     },
     "metadata": {},
     "output_type": "display_data"
    }
   ],
   "source": [
    "cat_cols = pd.Series(['Geography', 'Gender', 'HasCrCard', 'IsActiveMember', 'Exited'])\n",
    "for col in cat_cols:\n",
    "    display(df1.groupby(col)[['CreditScore', 'Age', 'Tenure', 'Balance', 'NumOfProducts', 'EstimatedSalary']].mean().round(1))"
   ]
  },
  {
   "cell_type": "code",
   "execution_count": 26,
   "id": "2f6bd7ab",
   "metadata": {},
   "outputs": [
    {
     "data": {
      "image/png": "[encoded data removed]",
      "text/plain": [
       "<Figure size 640x480 with 1 Axes>"
      ]
     },
     "metadata": {},
     "output_type": "display_data"
    }
   ],
   "source": [
    "df1.loc[df1['Exited'] == 0, 'Age'].hist(bins=20)\n",
    "df1.loc[df1['Exited'] == 1, 'Age'].hist(bins=20, alpha=0.75);\n",
    "plt.title('Сравнение возрастов\\n для ушедших и не ушедших из банка клиентов')\n",
    "plt.xlabel('Возраст')\n",
    "plt.ylabel('Количество клиентов')\n",
    "plt.legend(['Клиенты не ушли из банка', 'Клиенты ушли из банка']);"
   ]
  },
  {
   "cell_type": "markdown",
   "id": "599d6e1e",
   "metadata": {},
   "source": [
    "Уход клиентов как-то связан с возрастом."
   ]
  },
  {
   "cell_type": "markdown",
   "id": "76a39192",
   "metadata": {},
   "source": [
    "Рассмотрим баланс счёта."
   ]
  },
  {
   "cell_type": "code",
   "execution_count": 27,
   "id": "fc204763",
   "metadata": {},
   "outputs": [
    {
     "name": "stdout",
     "output_type": "stream",
     "text": [
      "Доля клиентов с нулевым счётом: 36%\n"
     ]
    }
   ],
   "source": [
    "print('Доля клиентов с нулевым счётом: {:.0%}'.format((df1['Balance'] == 0).sum() / len(df1)))"
   ]
  },
  {
   "cell_type": "code",
   "execution_count": 28,
   "id": "61d9b740",
   "metadata": {},
   "outputs": [
    {
     "data": {
      "image/png": "[encoded data removed]",
      "text/plain": [
       "<Figure size 640x480 with 1 Axes>"
      ]
     },
     "metadata": {},
     "output_type": "display_data"
    }
   ],
   "source": [
    "df1.loc[df1['Balance'] > 0, 'NumOfProducts'].hist(bins=20)\n",
    "df1.loc[df1['Balance'] == 0, 'NumOfProducts'].hist(bins=20, alpha=0.5)\n",
    "plt.title('Сравнение количества используемых продуктов\\n при разном балансе счёта клиентов')\n",
    "plt.xlabel('Количество продуктов')\n",
    "plt.ylabel('Количество клиентов')\n",
    "plt.legend(['Баланс > 0', 'Баланс = 0']);"
   ]
  },
  {
   "cell_type": "markdown",
   "id": "95fc2996",
   "metadata": {},
   "source": [
    "Пользователи с **нулевым** балансом пользуются **бóльшим** количеством продуктов."
   ]
  },
  {
   "cell_type": "code",
   "execution_count": 29,
   "id": "694a4871",
   "metadata": {},
   "outputs": [
    {
     "name": "stdout",
     "output_type": "stream",
     "text": [
      "Доля клиентов с положительным балансом среди ушедших из банка : 76%\n",
      "Доля клиентов с нулевым балансом среди ушедших из банка : 24%\n"
     ]
    }
   ],
   "source": [
    "zero_balance_cnt = df1['Exited'].value_counts()[1]\n",
    "print('Доля клиентов с положительным балансом среди ушедших из банка', end=' : ')\n",
    "print('{:.0%}'.format(df1.loc[(df1['Balance'] > 0)  & (df1['Exited'] == 1)]['Exited'].count() / zero_balance_cnt))\n",
    "print('Доля клиентов с нулевым балансом среди ушедших из банка', end=' : ')\n",
    "print('{:.0%}'.format(df1.loc[(df1['Balance'] == 0)  & (df1['Exited'] == 1)]['Exited'].count() / zero_balance_cnt))\n"
   ]
  },
  {
   "cell_type": "markdown",
   "id": "21e02590",
   "metadata": {},
   "source": [
    "Клиенты с **положительным** балансом уходят из банка в **3 раза чаще**, чем клиенты с нулевым."
   ]
  },
  {
   "cell_type": "markdown",
   "id": "f8d53286",
   "metadata": {},
   "source": [
    "Рассмотрим связь между фактом ухода клиента из банка, страной его проживания и полом."
   ]
  },
  {
   "cell_type": "code",
   "execution_count": 30,
   "id": "d0bac126",
   "metadata": {},
   "outputs": [
    {
     "data": {
      "text/html": [
       "<div>\n",
       "<style scoped>\n",
       "    .dataframe tbody tr th:only-of-type {\n",
       "        vertical-align: middle;\n",
       "    }\n",
       "\n",
       "    .dataframe tbody tr th {\n",
       "        vertical-align: top;\n",
       "    }\n",
       "\n",
       "    .dataframe thead th {\n",
       "        text-align: right;\n",
       "    }\n",
       "</style>\n",
       "<table border=\"1\" class=\"dataframe\">\n",
       "  <thead>\n",
       "    <tr style=\"text-align: right;\">\n",
       "      <th>Exited</th>\n",
       "      <th>0</th>\n",
       "      <th>1</th>\n",
       "      <th>All</th>\n",
       "    </tr>\n",
       "    <tr>\n",
       "      <th>Geography</th>\n",
       "      <th></th>\n",
       "      <th></th>\n",
       "      <th></th>\n",
       "    </tr>\n",
       "  </thead>\n",
       "  <tbody>\n",
       "    <tr>\n",
       "      <th>France</th>\n",
       "      <td>0.84</td>\n",
       "      <td>0.16</td>\n",
       "      <td>1.0</td>\n",
       "    </tr>\n",
       "    <tr>\n",
       "      <th>Germany</th>\n",
       "      <td>0.67</td>\n",
       "      <td>0.33</td>\n",
       "      <td>1.0</td>\n",
       "    </tr>\n",
       "    <tr>\n",
       "      <th>Spain</th>\n",
       "      <td>0.84</td>\n",
       "      <td>0.16</td>\n",
       "      <td>1.0</td>\n",
       "    </tr>\n",
       "    <tr>\n",
       "      <th>All</th>\n",
       "      <td>0.80</td>\n",
       "      <td>0.20</td>\n",
       "      <td>1.0</td>\n",
       "    </tr>\n",
       "  </tbody>\n",
       "</table>\n",
       "</div>"
      ],
      "text/plain": [
       "Exited        0     1  All\n",
       "Geography                 \n",
       "France     0.84  0.16  1.0\n",
       "Germany    0.67  0.33  1.0\n",
       "Spain      0.84  0.16  1.0\n",
       "All        0.80  0.20  1.0"
      ]
     },
     "execution_count": 30,
     "metadata": {},
     "output_type": "execute_result"
    }
   ],
   "source": [
    "geo_exit = pd.pivot_table(df1, \n",
    "                          index = 'Geography', \n",
    "                          columns='Exited', \n",
    "                          values='CustomerId', \n",
    "                          aggfunc='count', \n",
    "                          margins=True)\n",
    "geo_exit = geo_exit.div(geo_exit['All'], axis=0).round(2)\n",
    "geo_exit"
   ]
  },
  {
   "cell_type": "markdown",
   "id": "37b7809f",
   "metadata": {},
   "source": [
    "Отношение ушедших клиентов к оставшимся самое больше в **Германии**."
   ]
  },
  {
   "cell_type": "code",
   "execution_count": 31,
   "id": "b4112f93",
   "metadata": {
    "scrolled": true
   },
   "outputs": [
    {
     "data": {
      "text/html": [
       "<div>\n",
       "<style scoped>\n",
       "    .dataframe tbody tr th:only-of-type {\n",
       "        vertical-align: middle;\n",
       "    }\n",
       "\n",
       "    .dataframe tbody tr th {\n",
       "        vertical-align: top;\n",
       "    }\n",
       "\n",
       "    .dataframe thead th {\n",
       "        text-align: right;\n",
       "    }\n",
       "</style>\n",
       "<table border=\"1\" class=\"dataframe\">\n",
       "  <thead>\n",
       "    <tr style=\"text-align: right;\">\n",
       "      <th>Exited</th>\n",
       "      <th>0</th>\n",
       "      <th>1</th>\n",
       "      <th>All</th>\n",
       "    </tr>\n",
       "    <tr>\n",
       "      <th>Gender</th>\n",
       "      <th></th>\n",
       "      <th></th>\n",
       "      <th></th>\n",
       "    </tr>\n",
       "  </thead>\n",
       "  <tbody>\n",
       "    <tr>\n",
       "      <th>Female</th>\n",
       "      <td>0.75</td>\n",
       "      <td>0.25</td>\n",
       "      <td>1.0</td>\n",
       "    </tr>\n",
       "    <tr>\n",
       "      <th>Male</th>\n",
       "      <td>0.84</td>\n",
       "      <td>0.16</td>\n",
       "      <td>1.0</td>\n",
       "    </tr>\n",
       "    <tr>\n",
       "      <th>All</th>\n",
       "      <td>0.80</td>\n",
       "      <td>0.20</td>\n",
       "      <td>1.0</td>\n",
       "    </tr>\n",
       "  </tbody>\n",
       "</table>\n",
       "</div>"
      ],
      "text/plain": [
       "Exited     0     1  All\n",
       "Gender                 \n",
       "Female  0.75  0.25  1.0\n",
       "Male    0.84  0.16  1.0\n",
       "All     0.80  0.20  1.0"
      ]
     },
     "execution_count": 31,
     "metadata": {},
     "output_type": "execute_result"
    }
   ],
   "source": [
    "gender_exit = pd.pivot_table(df1, \n",
    "                             index = 'Gender', \n",
    "                             columns='Exited', \n",
    "                             values='CustomerId', \n",
    "                             aggfunc='count', \n",
    "                             margins=True)\n",
    "gender_exit = gender_exit.div(gender_exit['All'], axis=0).round(2)\n",
    "gender_exit"
   ]
  },
  {
   "cell_type": "markdown",
   "id": "fef5608e",
   "metadata": {},
   "source": [
    "Отношение ушедших клиентов к оставшимся самое большое для **женщин**."
   ]
  },
  {
   "cell_type": "markdown",
   "id": "bd77dc7f",
   "metadata": {},
   "source": [
    "### Вывод 3"
   ]
  },
  {
   "cell_type": "markdown",
   "id": "5fe0b525",
   "metadata": {},
   "source": [
    "<div style=\"border:solid steelblue 3px; padding: 20px; border-radius: 10px\">\n",
    "\n",
    "В результате исследовательского анализа данных можно заключить:\n",
    "* клиентов из Франции столько же сколько из Испании и Германии вместе взятых;\n",
    "* клиентов мужчин чуть больше (55%), чем женщин(45%);\n",
    "* большая часть клиентов (70%) имеет кредитные карты;\n",
    "* активных клиентов почти столько же сколько неактивных;\n",
    "* 20% клиентов ушли;\n",
    "* предполагаемая зарплата и срок пребывания клиентом банка распределены равномерно;\n",
    "* возраст и кредитный рейтинг распределены близко к нормальному с хвостами справа и слева соответственно;\n",
    "* большинство клиентов пользуются 1-2 продуктами банка;\n",
    "* большое количество клиентов (36%) имеют нулевой баланс счёта и пользуются бóльшим количеством продуктов банка;\n",
    "* имеет место слабая положительная корреляция (0.28)  между фактом ухода клиента и его возрастом;\n",
    "* имеет место слабая отрицательная корреляция (-0.30) между количеством используемых клиентом продуктов и его балансом;\n",
    "* средний баланс счёта клиентов из Германии существенно выше, чем у клиентов из других стран;\n",
    "* ушедшие из банка клиенты характеризуются более высокими средним возрастом и балансом счёта;\n",
    "* клиенты с положительным балансом уходят из банка в 3 раза чаще, чем клиенты с нулевым;\n",
    "* клиенты из Германии чаще уходят из банка в пропорциональном отношении к оставшимся клиентами;\n",
    "* женщины чаще уходят из банка в пропорциональном отношении к оставшимся клиентами;"
   ]
  },
  {
   "cell_type": "markdown",
   "id": "0a1ba9a2",
   "metadata": {},
   "source": [
    "## Обработка признаков"
   ]
  },
  {
   "cell_type": "markdown",
   "id": "feefcbb1",
   "metadata": {},
   "source": [
    "### Выбор признаков"
   ]
  },
  {
   "cell_type": "markdown",
   "id": "f6582ae2",
   "metadata": {},
   "source": [
    "Для обучения моделей будем использовать следующие признаки и методы их обработки:"
   ]
  },
  {
   "cell_type": "code",
   "execution_count": 33,
   "id": "314ea077",
   "metadata": {},
   "outputs": [
    {
     "data": {
      "text/html": [
       "<div>\n",
       "<style scoped>\n",
       "    .dataframe tbody tr th:only-of-type {\n",
       "        vertical-align: middle;\n",
       "    }\n",
       "\n",
       "    .dataframe tbody tr th {\n",
       "        vertical-align: top;\n",
       "    }\n",
       "\n",
       "    .dataframe thead th {\n",
       "        text-align: right;\n",
       "    }\n",
       "</style>\n",
       "<table border=\"1\" class=\"dataframe\">\n",
       "  <thead>\n",
       "    <tr style=\"text-align: right;\">\n",
       "      <th></th>\n",
       "      <th>dtype</th>\n",
       "      <th>unique_values</th>\n",
       "      <th>mean</th>\n",
       "      <th>preproc</th>\n",
       "    </tr>\n",
       "  </thead>\n",
       "  <tbody>\n",
       "    <tr>\n",
       "      <th>CreditScore</th>\n",
       "      <td>int64</td>\n",
       "      <td>458</td>\n",
       "      <td>650.7</td>\n",
       "      <td>масштабирование</td>\n",
       "    </tr>\n",
       "    <tr>\n",
       "      <th>Geography</th>\n",
       "      <td>object</td>\n",
       "      <td>3</td>\n",
       "      <td>-</td>\n",
       "      <td>OHE</td>\n",
       "    </tr>\n",
       "    <tr>\n",
       "      <th>Gender</th>\n",
       "      <td>object</td>\n",
       "      <td>2</td>\n",
       "      <td>-</td>\n",
       "      <td>OHE</td>\n",
       "    </tr>\n",
       "    <tr>\n",
       "      <th>Age</th>\n",
       "      <td>int64</td>\n",
       "      <td>70</td>\n",
       "      <td>38.9</td>\n",
       "      <td>масштабирование</td>\n",
       "    </tr>\n",
       "    <tr>\n",
       "      <th>Tenure</th>\n",
       "      <td>float64</td>\n",
       "      <td>11</td>\n",
       "      <td>5.0</td>\n",
       "      <td>масштабирование</td>\n",
       "    </tr>\n",
       "    <tr>\n",
       "      <th>Balance</th>\n",
       "      <td>float64</td>\n",
       "      <td>5807</td>\n",
       "      <td>76522.7</td>\n",
       "      <td>масштабирование</td>\n",
       "    </tr>\n",
       "    <tr>\n",
       "      <th>NumOfProducts</th>\n",
       "      <td>int64</td>\n",
       "      <td>4</td>\n",
       "      <td>1.5</td>\n",
       "      <td>-</td>\n",
       "    </tr>\n",
       "    <tr>\n",
       "      <th>HasCrCard</th>\n",
       "      <td>int64</td>\n",
       "      <td>2</td>\n",
       "      <td>0.7</td>\n",
       "      <td>-</td>\n",
       "    </tr>\n",
       "    <tr>\n",
       "      <th>IsActiveMember</th>\n",
       "      <td>int64</td>\n",
       "      <td>2</td>\n",
       "      <td>0.5</td>\n",
       "      <td>-</td>\n",
       "    </tr>\n",
       "    <tr>\n",
       "      <th>EstimatedSalary</th>\n",
       "      <td>float64</td>\n",
       "      <td>9090</td>\n",
       "      <td>100181.2</td>\n",
       "      <td>масштабирование</td>\n",
       "    </tr>\n",
       "    <tr>\n",
       "      <th>Exited</th>\n",
       "      <td>int64</td>\n",
       "      <td>2</td>\n",
       "      <td>0.2</td>\n",
       "      <td>TARGET</td>\n",
       "    </tr>\n",
       "  </tbody>\n",
       "</table>\n",
       "</div>"
      ],
      "text/plain": [
       "                   dtype  unique_values      mean          preproc\n",
       "CreditScore        int64            458     650.7  масштабирование\n",
       "Geography         object              3         -              OHE\n",
       "Gender            object              2         -              OHE\n",
       "Age                int64             70      38.9  масштабирование\n",
       "Tenure           float64             11       5.0  масштабирование\n",
       "Balance          float64           5807   76522.7  масштабирование\n",
       "NumOfProducts      int64              4       1.5                -\n",
       "HasCrCard          int64              2       0.7                -\n",
       "IsActiveMember     int64              2       0.5                -\n",
       "EstimatedSalary  float64           9090  100181.2  масштабирование\n",
       "Exited             int64              2       0.2           TARGET"
      ]
     },
     "execution_count": 33,
     "metadata": {},
     "output_type": "execute_result"
    }
   ],
   "source": [
    "feat_descr = pd.concat([df1.dtypes, df1.nunique(), df1.mean(numeric_only=True).round(1)], axis=1).iloc[2:].fillna('-')\n",
    "feat_descr.columns = ['dtype', 'unique_values', 'mean']\n",
    "def get_preproc(row):\n",
    "    if row['dtype'] == object:\n",
    "        return 'OHE'\n",
    "    elif row['unique_values'] > 4:\n",
    "        return 'масштабирование'\n",
    "    else:\n",
    "        return '-'\n",
    "feat_descr['preproc'] = feat_descr.apply(get_preproc, axis=1)\n",
    "feat_descr.loc['Exited', 'preproc'] = 'TARGET'\n",
    "feat_descr"
   ]
  },
  {
   "cell_type": "code",
   "execution_count": 35,
   "id": "28f7f187",
   "metadata": {},
   "outputs": [],
   "source": [
    "# признаки для масштабирования\n",
    "numeric_features = ['CreditScore', 'Age', 'Tenure', 'Balance', 'EstimatedSalary']"
   ]
  },
  {
   "cell_type": "markdown",
   "id": "4b47ab87",
   "metadata": {},
   "source": [
    "Для обучения моделей **не будут** использоваться `CustomerId` и `Surname`, так как они не несут полезной для обучения информации."
   ]
  },
  {
   "cell_type": "code",
   "execution_count": 36,
   "id": "f7587d3a",
   "metadata": {},
   "outputs": [
    {
     "name": "stdout",
     "output_type": "stream",
     "text": [
      "Размеры датасета: (9091, 11)\n"
     ]
    }
   ],
   "source": [
    "df1 = df1.drop(['CustomerId', 'Surname'], axis=1)\n",
    "print(f'Размеры датасета: {df1.shape}')"
   ]
  },
  {
   "cell_type": "markdown",
   "id": "0662b61b",
   "metadata": {},
   "source": [
    "### Вывод 4"
   ]
  },
  {
   "cell_type": "markdown",
   "id": "49db205f",
   "metadata": {},
   "source": [
    "<div style=\"border:solid steelblue 3px; padding: 20px; border-radius: 10px\">\n",
    "    \n",
    "* Признаки `CreditScore`, `Age`, `Tenure`, `Balance`, `EstimatedSalary` будут нормализованы после разделения выборки;\n",
    "* Признаки `CustomerId`, `Surname` были удалены, т.к. не несут полезной для обучения информации."
   ]
  },
  {
   "cell_type": "markdown",
   "id": "5a97fa18",
   "metadata": {},
   "source": [
    "## Подготовка данных для обучения"
   ]
  },
  {
   "cell_type": "markdown",
   "id": "0bed5078",
   "metadata": {},
   "source": [
    "### Разделение выборки"
   ]
  },
  {
   "cell_type": "markdown",
   "id": "06d56117",
   "metadata": {},
   "source": [
    "Целевой признак, который будет необходимо предсказывать с помощью модели - это факт ухода из банка (`Exited`). Он принимает два значения: 0(человек остаётся клиентом банка) и 1(человек перестал быть клиентом банка), то есть является категориальным. Отобранные в предыдущем пункту признаки будут использоваться в качестве данных для обучения и предсказания. Таким образом, нам предстоит построить модель бинарной классификации."
   ]
  },
  {
   "cell_type": "markdown",
   "id": "142faaf7",
   "metadata": {},
   "source": [
    "Разделим исходные данные на целевой признак и признаки для обучения."
   ]
  },
  {
   "cell_type": "code",
   "execution_count": 38,
   "id": "c57015ba",
   "metadata": {},
   "outputs": [
    {
     "name": "stdout",
     "output_type": "stream",
     "text": [
      "Целевой признак: (9091,)\n",
      "Обучающие признаки: (9091, 10)\n"
     ]
    }
   ],
   "source": [
    "features = df1.drop('Exited', axis=1)\n",
    "target = df1['Exited']\n",
    "print(f'Целевой признак: {target.shape}')\n",
    "print(f'Обучающие признаки: {features.shape}')"
   ]
  },
  {
   "cell_type": "markdown",
   "id": "a3a74737",
   "metadata": {},
   "source": [
    "Разделим данные о признаках на три части: обучающая, валидационная и тестовая - в пропорции 3:1:1."
   ]
  },
  {
   "cell_type": "code",
   "execution_count": 39,
   "id": "9ddfb172",
   "metadata": {},
   "outputs": [
    {
     "name": "stdout",
     "output_type": "stream",
     "text": [
      "Размер обучающей выборки:\t5454\n",
      "Размер валидационной выборки:\t1818\n",
      "Размер тестовой выборки:\t1819\n"
     ]
    }
   ],
   "source": [
    "# разделяем на обучающую и тестовая+валидационная выборки (3:2 -> 0.40)\n",
    "X_train, X_t_v, y_train, y_t_v = train_test_split(features, \n",
    "                                                  target, \n",
    "                                                  test_size=0.40,\n",
    "                                                  stratify=target,\n",
    "                                                  random_state=rstate)\n",
    "# разделяем на тестовую и валидационную выборки (1:1 -> 0.50)\n",
    "X_valid, X_test, y_valid, y_test = train_test_split(X_t_v, \n",
    "                                                    y_t_v, \n",
    "                                                    test_size=0.50, \n",
    "                                                    stratify=y_t_v,\n",
    "                                                    random_state=rstate)\n",
    "\n",
    "print(f'Размер обучающей выборки:\\t{len(X_train)}')\n",
    "print(f'Размер валидационной выборки:\\t{len(X_valid)}')\n",
    "print(f'Размер тестовой выборки:\\t{len(X_test)}')"
   ]
  },
  {
   "cell_type": "markdown",
   "id": "87552a89",
   "metadata": {},
   "source": [
    "### Масштабирование числовых данных в выборках"
   ]
  },
  {
   "cell_type": "markdown",
   "id": "6ef39057",
   "metadata": {},
   "source": [
    "Отмасштабируем чисовые признаки методом нормализации."
   ]
  },
  {
   "cell_type": "code",
   "execution_count": 43,
   "id": "88e52618",
   "metadata": {
    "scrolled": true
   },
   "outputs": [
    {
     "data": {
      "text/html": [
       "<div>\n",
       "<style scoped>\n",
       "    .dataframe tbody tr th:only-of-type {\n",
       "        vertical-align: middle;\n",
       "    }\n",
       "\n",
       "    .dataframe tbody tr th {\n",
       "        vertical-align: top;\n",
       "    }\n",
       "\n",
       "    .dataframe thead th {\n",
       "        text-align: right;\n",
       "    }\n",
       "</style>\n",
       "<table border=\"1\" class=\"dataframe\">\n",
       "  <thead>\n",
       "    <tr style=\"text-align: right;\">\n",
       "      <th></th>\n",
       "      <th>CreditScore</th>\n",
       "      <th>Age</th>\n",
       "      <th>Tenure</th>\n",
       "      <th>Balance</th>\n",
       "      <th>EstimatedSalary</th>\n",
       "    </tr>\n",
       "  </thead>\n",
       "  <tbody>\n",
       "    <tr>\n",
       "      <th>mean</th>\n",
       "      <td>-0.0</td>\n",
       "      <td>-0.0</td>\n",
       "      <td>0.0</td>\n",
       "      <td>-0.0</td>\n",
       "      <td>0.0</td>\n",
       "    </tr>\n",
       "    <tr>\n",
       "      <th>std</th>\n",
       "      <td>1.0</td>\n",
       "      <td>1.0</td>\n",
       "      <td>1.0</td>\n",
       "      <td>1.0</td>\n",
       "      <td>1.0</td>\n",
       "    </tr>\n",
       "  </tbody>\n",
       "</table>\n",
       "</div>"
      ],
      "text/plain": [
       "      CreditScore  Age  Tenure  Balance  EstimatedSalary\n",
       "mean         -0.0 -0.0     0.0     -0.0              0.0\n",
       "std           1.0  1.0     1.0      1.0              1.0"
      ]
     },
     "execution_count": 43,
     "metadata": {},
     "output_type": "execute_result"
    }
   ],
   "source": [
    "scaler = StandardScaler()\n",
    "scaler.fit(X_train[numeric_features])\n",
    "\n",
    "X_train[numeric_features] = scaler.transform(X_train[numeric_features])\n",
    "X_valid[numeric_features] = scaler.transform(X_valid[numeric_features])\n",
    "X_test[numeric_features]  = scaler.transform(X_test[numeric_features])\n",
    "\n",
    "X_train[numeric_features].agg(['mean', 'std']).round(2)"
   ]
  },
  {
   "cell_type": "markdown",
   "id": "b0f20f49",
   "metadata": {},
   "source": [
    "### Кодирование признаков"
   ]
  },
  {
   "cell_type": "code",
   "execution_count": 44,
   "id": "c1bced53",
   "metadata": {},
   "outputs": [
    {
     "name": "stdout",
     "output_type": "stream",
     "text": [
      "Признаки для кодирования в обучающей выборке:  ['Geography', 'Gender']\n",
      "Признаки для кодирования в валидац. выборке:  ['Geography', 'Gender']\n",
      "Признаки для кодирования в тестовой выборке:  ['Geography', 'Gender']\n"
     ]
    },
    {
     "data": {
      "text/html": [
       "<style>#sk-container-id-1 {color: black;background-color: white;}#sk-container-id-1 pre{padding: 0;}#sk-container-id-1 div.sk-toggleable {background-color: white;}#sk-container-id-1 label.sk-toggleable__label {cursor: pointer;display: block;width: 100%;margin-bottom: 0;padding: 0.3em;box-sizing: border-box;text-align: center;}#sk-container-id-1 label.sk-toggleable__label-arrow:before {content: \"▸\";float: left;margin-right: 0.25em;color: #696969;}#sk-container-id-1 label.sk-toggleable__label-arrow:hover:before {color: black;}#sk-container-id-1 div.sk-estimator:hover label.sk-toggleable__label-arrow:before {color: black;}#sk-container-id-1 div.sk-toggleable__content {max-height: 0;max-width: 0;overflow: hidden;text-align: left;background-color: #f0f8ff;}#sk-container-id-1 div.sk-toggleable__content pre {margin: 0.2em;color: black;border-radius: 0.25em;background-color: #f0f8ff;}#sk-container-id-1 input.sk-toggleable__control:checked~div.sk-toggleable__content {max-height: 200px;max-width: 100%;overflow: auto;}#sk-container-id-1 input.sk-toggleable__control:checked~label.sk-toggleable__label-arrow:before {content: \"▾\";}#sk-container-id-1 div.sk-estimator input.sk-toggleable__control:checked~label.sk-toggleable__label {background-color: #d4ebff;}#sk-container-id-1 div.sk-label input.sk-toggleable__control:checked~label.sk-toggleable__label {background-color: #d4ebff;}#sk-container-id-1 input.sk-hidden--visually {border: 0;clip: rect(1px 1px 1px 1px);clip: rect(1px, 1px, 1px, 1px);height: 1px;margin: -1px;overflow: hidden;padding: 0;position: absolute;width: 1px;}#sk-container-id-1 div.sk-estimator {font-family: monospace;background-color: #f0f8ff;border: 1px dotted black;border-radius: 0.25em;box-sizing: border-box;margin-bottom: 0.5em;}#sk-container-id-1 div.sk-estimator:hover {background-color: #d4ebff;}#sk-container-id-1 div.sk-parallel-item::after {content: \"\";width: 100%;border-bottom: 1px solid gray;flex-grow: 1;}#sk-container-id-1 div.sk-label:hover label.sk-toggleable__label {background-color: #d4ebff;}#sk-container-id-1 div.sk-serial::before {content: \"\";position: absolute;border-left: 1px solid gray;box-sizing: border-box;top: 0;bottom: 0;left: 50%;z-index: 0;}#sk-container-id-1 div.sk-serial {display: flex;flex-direction: column;align-items: center;background-color: white;padding-right: 0.2em;padding-left: 0.2em;position: relative;}#sk-container-id-1 div.sk-item {position: relative;z-index: 1;}#sk-container-id-1 div.sk-parallel {display: flex;align-items: stretch;justify-content: center;background-color: white;position: relative;}#sk-container-id-1 div.sk-item::before, #sk-container-id-1 div.sk-parallel-item::before {content: \"\";position: absolute;border-left: 1px solid gray;box-sizing: border-box;top: 0;bottom: 0;left: 50%;z-index: -1;}#sk-container-id-1 div.sk-parallel-item {display: flex;flex-direction: column;z-index: 1;position: relative;background-color: white;}#sk-container-id-1 div.sk-parallel-item:first-child::after {align-self: flex-end;width: 50%;}#sk-container-id-1 div.sk-parallel-item:last-child::after {align-self: flex-start;width: 50%;}#sk-container-id-1 div.sk-parallel-item:only-child::after {width: 0;}#sk-container-id-1 div.sk-dashed-wrapped {border: 1px dashed gray;margin: 0 0.4em 0.5em 0.4em;box-sizing: border-box;padding-bottom: 0.4em;background-color: white;}#sk-container-id-1 div.sk-label label {font-family: monospace;font-weight: bold;display: inline-block;line-height: 1.2em;}#sk-container-id-1 div.sk-label-container {text-align: center;}#sk-container-id-1 div.sk-container {/* jupyter's `normalize.less` sets `[hidden] { display: none; }` but bootstrap.min.css set `[hidden] { display: none !important; }` so we also need the `!important` here to be able to override the default hidden behavior on the sphinx rendered scikit-learn.org. See: https://github.com/scikit-learn/scikit-learn/issues/21755 */display: inline-block !important;position: relative;}#sk-container-id-1 div.sk-text-repr-fallback {display: none;}</style><div id=\"sk-container-id-1\" class=\"sk-top-container\"><div class=\"sk-text-repr-fallback\"><pre>OneHotEncoder(drop=&#x27;first&#x27;, handle_unknown=&#x27;ignore&#x27;, sparse=False)</pre><b>In a Jupyter environment, please rerun this cell to show the HTML representation or trust the notebook. <br />On GitHub, the HTML representation is unable to render, please try loading this page with nbviewer.org.</b></div><div class=\"sk-container\" hidden><div class=\"sk-item\"><div class=\"sk-estimator sk-toggleable\"><input class=\"sk-toggleable__control sk-hidden--visually\" id=\"sk-estimator-id-1\" type=\"checkbox\" checked><label for=\"sk-estimator-id-1\" class=\"sk-toggleable__label sk-toggleable__label-arrow\">OneHotEncoder</label><div class=\"sk-toggleable__content\"><pre>OneHotEncoder(drop=&#x27;first&#x27;, handle_unknown=&#x27;ignore&#x27;, sparse=False)</pre></div></div></div></div></div>"
      ],
      "text/plain": [
       "OneHotEncoder(drop='first', handle_unknown='ignore', sparse=False)"
      ]
     },
     "execution_count": 44,
     "metadata": {},
     "output_type": "execute_result"
    }
   ],
   "source": [
    "train_features_ohe = X_train.select_dtypes('object').columns.to_list()\n",
    "valid_features_ohe = X_valid.select_dtypes('object').columns.to_list()\n",
    "test_features_ohe = X_test.select_dtypes('object').columns.to_list()\n",
    "print('Признаки для кодирования в обучающей выборке: ', train_features_ohe)\n",
    "print('Признаки для кодирования в валидац. выборке: ', valid_features_ohe)\n",
    "print('Признаки для кодирования в тестовой выборке: ', test_features_ohe)\n",
    "\n",
    "ohe_encoder = OneHotEncoder(drop='first', handle_unknown='ignore', sparse=False)\n",
    "ohe_encoder.fit(df1[train_features_ohe])"
   ]
  },
  {
   "cell_type": "code",
   "execution_count": 45,
   "id": "48fac97e",
   "metadata": {},
   "outputs": [
    {
     "name": "stdout",
     "output_type": "stream",
     "text": [
      "Размер обучающей выборки с закодированными признаками: (5454, 11)\n",
      "Размер валидац. выборки с закодированными признаками: (1818, 11)\n",
      "Размер тестовой выборки с закодированными признаками: (1819, 11)\n"
     ]
    }
   ],
   "source": [
    "# кодирование обучающей выборки\n",
    "X_train[ohe_encoder.get_feature_names_out()] = ohe_encoder.transform(X_train[train_features_ohe])\n",
    "X_train = X_train.drop(train_features_ohe, axis=1)\n",
    "\n",
    "# кодирование валидационной выборки\n",
    "X_valid[ohe_encoder.get_feature_names_out()] = ohe_encoder.transform(X_valid[valid_features_ohe])\n",
    "X_valid = X_valid.drop(valid_features_ohe, axis=1)\n",
    "\n",
    "# кодирование тестовой выборки\n",
    "X_test[ohe_encoder.get_feature_names_out()] = ohe_encoder.transform(X_test[test_features_ohe])\n",
    "X_test = X_test.drop(test_features_ohe, axis=1)\n",
    "\n",
    "print('Размер обучающей выборки с закодированными признаками:', X_train.shape)\n",
    "print('Размер валидац. выборки с закодированными признаками:', X_valid.shape)\n",
    "print('Размер тестовой выборки с закодированными признаками:', X_test.shape)"
   ]
  },
  {
   "cell_type": "markdown",
   "id": "5197b63a",
   "metadata": {},
   "source": [
    "Проверим кодирование признаков."
   ]
  },
  {
   "cell_type": "code",
   "execution_count": 46,
   "id": "7d164754",
   "metadata": {
    "scrolled": true
   },
   "outputs": [
    {
     "data": {
      "text/html": [
       "<div>\n",
       "<style scoped>\n",
       "    .dataframe tbody tr th:only-of-type {\n",
       "        vertical-align: middle;\n",
       "    }\n",
       "\n",
       "    .dataframe tbody tr th {\n",
       "        vertical-align: top;\n",
       "    }\n",
       "\n",
       "    .dataframe thead th {\n",
       "        text-align: right;\n",
       "    }\n",
       "</style>\n",
       "<table border=\"1\" class=\"dataframe\">\n",
       "  <thead>\n",
       "    <tr style=\"text-align: right;\">\n",
       "      <th></th>\n",
       "      <th>CreditScore</th>\n",
       "      <th>Age</th>\n",
       "      <th>Tenure</th>\n",
       "      <th>Balance</th>\n",
       "      <th>NumOfProducts</th>\n",
       "      <th>HasCrCard</th>\n",
       "      <th>IsActiveMember</th>\n",
       "      <th>EstimatedSalary</th>\n",
       "      <th>Geography_Germany</th>\n",
       "      <th>Geography_Spain</th>\n",
       "      <th>Gender_Male</th>\n",
       "    </tr>\n",
       "    <tr>\n",
       "      <th>RowNumber</th>\n",
       "      <th></th>\n",
       "      <th></th>\n",
       "      <th></th>\n",
       "      <th></th>\n",
       "      <th></th>\n",
       "      <th></th>\n",
       "      <th></th>\n",
       "      <th></th>\n",
       "      <th></th>\n",
       "      <th></th>\n",
       "      <th></th>\n",
       "    </tr>\n",
       "  </thead>\n",
       "  <tbody>\n",
       "    <tr>\n",
       "      <th>4032</th>\n",
       "      <td>0.371545</td>\n",
       "      <td>-0.179719</td>\n",
       "      <td>0.697964</td>\n",
       "      <td>0.985665</td>\n",
       "      <td>2</td>\n",
       "      <td>1</td>\n",
       "      <td>1</td>\n",
       "      <td>0.236611</td>\n",
       "      <td>0.0</td>\n",
       "      <td>1.0</td>\n",
       "      <td>1.0</td>\n",
       "    </tr>\n",
       "    <tr>\n",
       "      <th>3006</th>\n",
       "      <td>0.319098</td>\n",
       "      <td>0.010516</td>\n",
       "      <td>-0.339565</td>\n",
       "      <td>-1.233172</td>\n",
       "      <td>2</td>\n",
       "      <td>1</td>\n",
       "      <td>0</td>\n",
       "      <td>1.233615</td>\n",
       "      <td>0.0</td>\n",
       "      <td>0.0</td>\n",
       "      <td>1.0</td>\n",
       "    </tr>\n",
       "    <tr>\n",
       "      <th>2</th>\n",
       "      <td>-0.467607</td>\n",
       "      <td>0.200751</td>\n",
       "      <td>-1.377094</td>\n",
       "      <td>0.112751</td>\n",
       "      <td>1</td>\n",
       "      <td>0</td>\n",
       "      <td>1</td>\n",
       "      <td>0.212739</td>\n",
       "      <td>0.0</td>\n",
       "      <td>1.0</td>\n",
       "      <td>0.0</td>\n",
       "    </tr>\n",
       "  </tbody>\n",
       "</table>\n",
       "</div>"
      ],
      "text/plain": [
       "           CreditScore       Age    Tenure   Balance  NumOfProducts  \\\n",
       "RowNumber                                                             \n",
       "4032          0.371545 -0.179719  0.697964  0.985665              2   \n",
       "3006          0.319098  0.010516 -0.339565 -1.233172              2   \n",
       "2            -0.467607  0.200751 -1.377094  0.112751              1   \n",
       "\n",
       "           HasCrCard  IsActiveMember  EstimatedSalary  Geography_Germany  \\\n",
       "RowNumber                                                                  \n",
       "4032               1               1         0.236611                0.0   \n",
       "3006               1               0         1.233615                0.0   \n",
       "2                  0               1         0.212739                0.0   \n",
       "\n",
       "           Geography_Spain  Gender_Male  \n",
       "RowNumber                                \n",
       "4032                   1.0          1.0  \n",
       "3006                   0.0          1.0  \n",
       "2                      1.0          0.0  "
      ]
     },
     "execution_count": 46,
     "metadata": {},
     "output_type": "execute_result"
    }
   ],
   "source": [
    "X_train.sample(3)"
   ]
  },
  {
   "cell_type": "markdown",
   "id": "c6d9ac06",
   "metadata": {},
   "source": [
    "### Вывод 3"
   ]
  },
  {
   "cell_type": "markdown",
   "id": "612df28f",
   "metadata": {},
   "source": [
    "<div style=\"border:solid steelblue 3px; padding: 20px; border-radius: 10px\">\n",
    "\n",
    "* Исходные данные разделены на три части (обучающая, валидационная, тестовая) с количеством объектов в каждой: 5454 / 1818 / 1819;\n",
    "* Числовые признаки (кредитный рейтинг, возраст, срок пребывания клиентом, баланс счёта, оценка зарплаты) были нормализованы;\n",
    "* Категориальные признаки (страна проживания и пол) были закодированы методом One-Hot Encoding."
   ]
  },
  {
   "cell_type": "markdown",
   "id": "aa420d71",
   "metadata": {},
   "source": [
    "## Исследование баланса классов"
   ]
  },
  {
   "cell_type": "markdown",
   "id": "d30f7718",
   "metadata": {},
   "source": [
    "Целевой признак `Exited` - бинарный. Изучим, как распределены его значения в тренировочной выборке."
   ]
  },
  {
   "cell_type": "code",
   "execution_count": 47,
   "id": "ff8200d3",
   "metadata": {},
   "outputs": [
    {
     "data": {
      "text/plain": [
       "Exited\n",
       "0    0.8\n",
       "1    0.2\n",
       "Name: proportion, dtype: float64"
      ]
     },
     "execution_count": 47,
     "metadata": {},
     "output_type": "execute_result"
    }
   ],
   "source": [
    "y_train.value_counts(normalize=True).round(2)"
   ]
  },
  {
   "cell_type": "markdown",
   "id": "fbeb60e8",
   "metadata": {},
   "source": [
    "Значение 0 - 80%, значение 1 - 20%. Выборка несбалансированная, т.к. одно значение встречается в **4 раза чаще**."
   ]
  },
  {
   "cell_type": "markdown",
   "id": "b0dba482",
   "metadata": {},
   "source": [
    "Построим модель сначала на несбалансированной выборке, оценим её качество. Затем сбалансируем выборку, построим новую модель и оценим её качество. Сравним два результата."
   ]
  },
  {
   "cell_type": "markdown",
   "id": "81cd7b01",
   "metadata": {},
   "source": [
    "## Построение моделей на несбалансированной выборке и исследование их качества"
   ]
  },
  {
   "cell_type": "markdown",
   "id": "b4e53586",
   "metadata": {},
   "source": [
    "Исходя из того, что необходимо предсказывать бинарный категориальный признак, построим три модели, позволяющие производить классификацию: **логистическая регрессия**, **решающее дерево** и **случайный лес**. После построения моделей оценим их качество и выберем наилучшую. В качестве метрики качества модели будем использовать **F1-меру** и **AUC-ROC**."
   ]
  },
  {
   "cell_type": "markdown",
   "id": "f4c78ca9",
   "metadata": {},
   "source": [
    "### Логистическая регрессия"
   ]
  },
  {
   "cell_type": "code",
   "execution_count": 48,
   "id": "efc07cbf",
   "metadata": {},
   "outputs": [
    {
     "name": "stdout",
     "output_type": "stream",
     "text": [
      "Логистическая регрессия: F1-мера = 0.37109375\n",
      "Логистическая регрессия: AUC-ROC = 0.7757922795932471\n"
     ]
    }
   ],
   "source": [
    "model_logreg = LogisticRegression(random_state=rstate, solver='liblinear')\n",
    "model_logreg.fit(X_train, y_train)\n",
    "predicted_valid = model_logreg.predict(X_valid)\n",
    "probabilities = model_logreg.predict_proba(X_valid)\n",
    "auc_roc_logreg = roc_auc_score(y_valid, probabilities[:, 1])\n",
    "f1_logreg = f1_score(y_valid, predicted_valid)\n",
    "print(f'Логистическая регрессия: F1-мера = {f1_logreg}')\n",
    "print(f'Логистическая регрессия: AUC-ROC = {auc_roc_logreg}')"
   ]
  },
  {
   "cell_type": "markdown",
   "id": "e36d4c0f",
   "metadata": {},
   "source": [
    "### Решающее дерево"
   ]
  },
  {
   "cell_type": "markdown",
   "id": "5b11e4a2",
   "metadata": {},
   "source": [
    "Подберём гиперпараметр **max_depth** и найдём лучшую модель."
   ]
  },
  {
   "cell_type": "code",
   "execution_count": 49,
   "id": "10a7fac3",
   "metadata": {
    "scrolled": true
   },
   "outputs": [
    {
     "name": "stdout",
     "output_type": "stream",
     "text": [
      "Лучшая модель (решающее дерево): max глубина = 5\n",
      "Решающее дерево: F1-мера = 0.5714285714285714\n",
      "Решающее дерево: AUC-ROC = 0.8481578207165302\n"
     ]
    }
   ],
   "source": [
    "best_model_tree = None\n",
    "best_f1_tree = 0\n",
    "# перебор глубины деревьев (1..10)\n",
    "for depth in range(1, 11):\n",
    "    model = DecisionTreeClassifier(random_state=rstate, \n",
    "                                   max_depth=depth, \n",
    "                                   #splitter='random',\n",
    "                                   #min_samples_leaf=2\n",
    "                                  )\n",
    "    model.fit(X_train, y_train)\n",
    "    predicted_valid = model.predict(X_valid)    \n",
    "    f1_measure = f1_score(y_valid, predicted_valid)    \n",
    "    if f1_measure > best_f1_tree:\n",
    "        best_model_tree = model\n",
    "        opt_depth_tree = depth\n",
    "        best_f1_tree = f1_measure\n",
    "        probabilities = model.predict_proba(X_valid)\n",
    "        auc_roc_tree = roc_auc_score(y_valid, probabilities[:, 1])\n",
    "\n",
    "print(f'Лучшая модель (решающее дерево): max глубина = {opt_depth_tree}')\n",
    "print(f'Решающее дерево: F1-мера = {best_f1_tree}')\n",
    "print(f'Решающее дерево: AUC-ROC = {auc_roc_tree}')"
   ]
  },
  {
   "cell_type": "markdown",
   "id": "f84aa8b5",
   "metadata": {},
   "source": [
    "### Random forest"
   ]
  },
  {
   "cell_type": "markdown",
   "id": "aa9113af",
   "metadata": {},
   "source": [
    "Подберём гиперпараметры **max_depth** и **n_estimators** и найдём лучшую модель."
   ]
  },
  {
   "cell_type": "code",
   "execution_count": 50,
   "id": "0e485cf8",
   "metadata": {},
   "outputs": [
    {
     "name": "stdout",
     "output_type": "stream",
     "text": [
      "Лучшая модель (random forest): количество деревьев = 13, глубина = 12\n",
      "Решающее дерево: F1-мера = 0.5862646566164155\n",
      "Решающее дерево: AUC-ROC = 0.8480982123065288\n"
     ]
    }
   ],
   "source": [
    "best_model_rndforest = None\n",
    "best_f1_rndforest = 0\n",
    "# перебор количества деревьев в лесу (1..50)\n",
    "for n_trees in range(1, 51):\n",
    "    # перебор глубины деревьев (1..15)\n",
    "    for depth in range(1, 16):\n",
    "        model = RandomForestClassifier(random_state=rstate, n_estimators=n_trees, max_depth=depth, n_jobs=-1)\n",
    "        model.fit(X_train, y_train)\n",
    "        predicted_valid = model.predict(X_valid)\n",
    "        f1_measure = f1_score(y_valid, predicted_valid)\n",
    "        if f1_measure > best_f1_rndforest:\n",
    "            best_model_rndforest = model\n",
    "            opt_depth_rndforest = depth\n",
    "            opt_n_trees = n_trees\n",
    "            best_f1_rndforest = f1_measure\n",
    "            probabilities = model.predict_proba(X_valid)\n",
    "            auc_roc_rndforest = roc_auc_score(y_valid, probabilities[:, 1])\n",
    "\n",
    "print(f'Лучшая модель (random forest): количество деревьев = {opt_n_trees}, глубина = {opt_depth_rndforest}')\n",
    "print(f'Решающее дерево: F1-мера = {best_f1_rndforest}')\n",
    "print(f'Решающее дерево: AUC-ROC = {auc_roc_rndforest}')"
   ]
  },
  {
   "cell_type": "markdown",
   "id": "dfb66e97",
   "metadata": {},
   "source": [
    "### Сравнение моделей"
   ]
  },
  {
   "cell_type": "markdown",
   "id": "2d4b2e3a",
   "metadata": {},
   "source": [
    "Сравним f1-меры лучших построенных моделей."
   ]
  },
  {
   "cell_type": "code",
   "execution_count": 51,
   "id": "747019a0",
   "metadata": {},
   "outputs": [
    {
     "name": "stdout",
     "output_type": "stream",
     "text": [
      "Несбалансированная выборка\n",
      "Логистическая регрессия: F1-мера = 0.371, AUC-ROC = 0.776\n",
      "Решающее дерево:\t F1-мера = 0.571, AUC-ROC = 0.848\n",
      "Random forest:\t\t F1-мера = 0.586, AUC-ROC = 0.848\n"
     ]
    }
   ],
   "source": [
    "print('Несбалансированная выборка')\n",
    "print(f'Логистическая регрессия: F1-мера = {round(f1_logreg, 3)}, AUC-ROC = {round(auc_roc_logreg, 3)}')\n",
    "print(f'Решающее дерево:\\t F1-мера = {round(best_f1_tree, 3)}, AUC-ROC = {round(auc_roc_tree, 3)}')\n",
    "print(f'Random forest:\\t\\t F1-мера = {round(best_f1_rndforest, 3)}, AUC-ROC = {round(auc_roc_rndforest, 3)}')"
   ]
  },
  {
   "cell_type": "markdown",
   "id": "01fec7bc",
   "metadata": {},
   "source": [
    "Построим графики ROC-кривых для лучших построенных моделей."
   ]
  },
  {
   "cell_type": "code",
   "execution_count": 52,
   "id": "8248824f",
   "metadata": {},
   "outputs": [
    {
     "data": {
      "image/png": "[encoded data removed]",
      "text/plain": [
       "<Figure size 1000x800 with 1 Axes>"
      ]
     },
     "metadata": {},
     "output_type": "display_data"
    }
   ],
   "source": [
    "plt.figure(figsize=(10, 8))\n",
    "probs_valid = model_logreg.predict_proba(X_valid)\n",
    "fpr, tpr, thres = roc_curve(y_valid, probs_valid[:, 1])\n",
    "plt.plot(fpr, tpr)\n",
    "probs_valid = best_model_tree.predict_proba(X_valid)\n",
    "fpr, tpr, thres = roc_curve(y_valid, probs_valid[:, 1])\n",
    "plt.plot(fpr, tpr)\n",
    "probs_valid = best_model_rndforest.predict_proba(X_valid)\n",
    "fpr, tpr, thres = roc_curve(y_valid, probs_valid[:, 1])\n",
    "plt.plot(fpr, tpr)\n",
    "plt.plot([0, 1], [0, 1], linestyle='--')\n",
    "plt.xlim(0, 1)\n",
    "plt.ylim(0, 1)\n",
    "plt.grid()\n",
    "plt.legend(['Логистическая регрессия', 'Решающее дерево', 'Random forest'])\n",
    "plt.xlabel('False Positive Rate')\n",
    "plt.ylabel('True Positive Rate')\n",
    "plt.title('ROC-кривые: несбалансированная выборка')\n",
    "plt.show()"
   ]
  },
  {
   "cell_type": "markdown",
   "id": "5c60dfe7",
   "metadata": {},
   "source": [
    "### Вывод 4"
   ]
  },
  {
   "cell_type": "markdown",
   "id": "0f891d24",
   "metadata": {},
   "source": [
    "<div style=\"border:solid steelblue 3px; padding: 20px; border-radius: 10px\">\n",
    "\n",
    "* были построены три модели: логистическая регрессия, решающее дерево, random forest;\n",
    "* на валидационной выборке произведена оценка f1-меры и AUC-ROC для каждой из моделей для разных значений гиперпараметров (глубина дерева, количество деревьев);\n",
    "* наибольшее значение f1-меры (**0.586**) и AUC-ROC (**0.848**)  bу модели **\"random forest\"** с гиперпараметрами: **n_estimators=13, max_depth=12**;\n",
    "* построены ROC-кривые, на которых видна динамика изменения количества истинноположительных результатов(TPR) по отношению к ложноположительным (FPR): для небольшого количества FPR лучшие результаты показывает модель RandomForest, в дальнейшем же её отличия от более быстрой модели решающего дерева нивелируются;\n",
    "* для несбалансированной выборки значение F1-меры оказалось недостаточной даже для самой лучшей модели, требуется сбалансирвать выборку и обучить модели на ней."
   ]
  },
  {
   "cell_type": "markdown",
   "id": "2f3e0a44",
   "metadata": {},
   "source": [
    "## Балансирование классов целевого признака"
   ]
  },
  {
   "cell_type": "markdown",
   "id": "a857208f",
   "metadata": {},
   "source": [
    "Сбалансируем классы целевого признака методами **Upsampling / Downsampling** и потом сравним их эффективность в обучении моделей."
   ]
  },
  {
   "cell_type": "markdown",
   "id": "a5ac8e37",
   "metadata": {},
   "source": [
    "Сбалансируем классы для обучающей выборки методом SMOTE: добавим столько объектов \"положительного\" признака, чтобы классы выровнялись (**коэффициент повтора = 4**)."
   ]
  },
  {
   "cell_type": "code",
   "execution_count": 53,
   "id": "d2cb82d4",
   "metadata": {},
   "outputs": [
    {
     "name": "stdout",
     "output_type": "stream",
     "text": [
      "Количество объектов после SMOTE балансировки классов: 8684\n",
      "Соотношение классов в обучающей выборке:\n",
      "Exited\n",
      "0    0.5\n",
      "1    0.5\n",
      "Name: proportion, dtype: float64\n"
     ]
    }
   ],
   "source": [
    "#X_train_up, y_train_up = upsample(X_train, y_train, 4)\n",
    "oversample = SMOTE(random_state=rstate, k_neighbors=4)\n",
    "X_train_up, y_train_up = oversample.fit_resample(X_train, y_train)\n",
    "\n",
    "print('Количество объектов после SMOTE балансировки классов:', len(y_train_up))\n",
    "print('Соотношение классов в обучающей выборке:')\n",
    "print(y_train_up.value_counts(normalize=True).round(2))"
   ]
  },
  {
   "cell_type": "markdown",
   "id": "68190d8b",
   "metadata": {},
   "source": [
    "Сбалансируем классы для обучающей выборки методом RandomUnderSampler: удалим столько объектов \"отрцательного\" признака, чтобы не слишком ухудшить качество данных (**доля удаления = 0.25**)."
   ]
  },
  {
   "cell_type": "code",
   "execution_count": 54,
   "id": "ab13e44d",
   "metadata": {},
   "outputs": [
    {
     "name": "stdout",
     "output_type": "stream",
     "text": [
      "Количество объектов после Downsample балансировки классов: 2224\n",
      "Соотношение классов в обучающей выборке:\n",
      "Exited\n",
      "0    0.5\n",
      "1    0.5\n",
      "Name: proportion, dtype: float64\n"
     ]
    }
   ],
   "source": [
    "#X_train_down, y_train_down = downsample(X_train, y_train, 0.333)\n",
    "oversample = RandomUnderSampler(sampling_strategy=1, random_state=rstate)\n",
    "X_train_down, y_train_down = oversample.fit_resample(X_train, y_train)\n",
    "\n",
    "print('Количество объектов после Downsample балансировки классов:', len(y_train_down))\n",
    "print('Соотношение классов в обучающей выборке:')\n",
    "print(y_train_down.value_counts(normalize=True).round(2))"
   ]
  },
  {
   "cell_type": "markdown",
   "id": "3322cced",
   "metadata": {},
   "source": [
    "## Построение моделей на сбалансированной выборке и исследование их качества"
   ]
  },
  {
   "cell_type": "markdown",
   "id": "befd6e59",
   "metadata": {},
   "source": [
    "Построим те же самые модели с теми же метриками качества, но только на сбалансированной выборке."
   ]
  },
  {
   "cell_type": "markdown",
   "id": "cce9586c",
   "metadata": {},
   "source": [
    "### Логистическая регрессия (сбалансированная выборка)"
   ]
  },
  {
   "cell_type": "markdown",
   "id": "30c2a015",
   "metadata": {},
   "source": [
    "#### Обучение модели с Upsampling-выборкой "
   ]
  },
  {
   "cell_type": "code",
   "execution_count": 55,
   "id": "926e9355",
   "metadata": {
    "scrolled": true
   },
   "outputs": [
    {
     "name": "stdout",
     "output_type": "stream",
     "text": [
      "Логистическая регрессия: F1-мера = 0.48496993987975956\n",
      "Логистическая регрессия: AUC-ROC = 0.7703809536227942\n"
     ]
    }
   ],
   "source": [
    "model_logreg_up = LogisticRegression(random_state=rstate, solver='liblinear')\n",
    "model_logreg_up.fit(X_train_up, y_train_up)\n",
    "predicted_valid = model_logreg_up.predict(X_valid)\n",
    "f1_logreg_up = f1_score(y_valid, predicted_valid)\n",
    "probabilities = model_logreg_up.predict_proba(X_valid)\n",
    "auc_roc_logreg_up = roc_auc_score(y_valid, probabilities[:, 1])\n",
    "print(f'Логистическая регрессия: F1-мера = {f1_logreg_up}')\n",
    "print(f'Логистическая регрессия: AUC-ROC = {auc_roc_logreg_up}')"
   ]
  },
  {
   "cell_type": "markdown",
   "id": "a17c6993",
   "metadata": {},
   "source": [
    "#### Обучение модели с Downsampling-выборкой "
   ]
  },
  {
   "cell_type": "code",
   "execution_count": 56,
   "id": "3b0f8267",
   "metadata": {
    "scrolled": true
   },
   "outputs": [
    {
     "name": "stdout",
     "output_type": "stream",
     "text": [
      "Логистическая регрессия: F1-мера = 0.5113524185587365\n",
      "Логистическая регрессия: AUC-ROC = 0.7778171027704872\n"
     ]
    }
   ],
   "source": [
    "model_logreg_down = LogisticRegression(random_state=rstate, solver='liblinear')\n",
    "model_logreg_down.fit(X_train_down, y_train_down)\n",
    "predicted_valid = model_logreg_down.predict(X_valid)\n",
    "f1_logreg_down = f1_score(y_valid, predicted_valid)\n",
    "probabilities = model_logreg_down.predict_proba(X_valid)\n",
    "auc_roc_logreg_down = roc_auc_score(y_valid, probabilities[:, 1])\n",
    "print(f'Логистическая регрессия: F1-мера = {f1_logreg_down}')\n",
    "print(f'Логистическая регрессия: AUC-ROC = {auc_roc_logreg_down}')"
   ]
  },
  {
   "cell_type": "markdown",
   "id": "1e8ade10",
   "metadata": {},
   "source": [
    "### Решающее дерево (сбалансированная выборка)"
   ]
  },
  {
   "cell_type": "markdown",
   "id": "2888d2f0",
   "metadata": {},
   "source": [
    "#### Обучение модели с Upsampling-выборкой "
   ]
  },
  {
   "cell_type": "markdown",
   "id": "f2983ab2",
   "metadata": {},
   "source": [
    "Подберём гиперпараметр **max_depth** и найдём лучшую модель."
   ]
  },
  {
   "cell_type": "code",
   "execution_count": 57,
   "id": "3339c948",
   "metadata": {
    "scrolled": true
   },
   "outputs": [
    {
     "name": "stdout",
     "output_type": "stream",
     "text": [
      "Лучшая модель (решающее дерево): max глубина = 6\n",
      "Решающее дерево: F1-мера = 0.5887445887445888\n",
      "Решающее дерево: AUC-ROC = 0.8257646175654808\n"
     ]
    }
   ],
   "source": [
    "best_model_tree_up = None\n",
    "best_f1_tree_up = 0\n",
    "# перебор глубины деревьев (1..10)\n",
    "for depth in range(1, 11):\n",
    "    model = DecisionTreeClassifier(random_state=rstate, max_depth=depth)\n",
    "    model.fit(X_train_up, y_train_up)\n",
    "    predicted_valid = model.predict(X_valid)\n",
    "    f1_measure = f1_score(y_valid, predicted_valid)\n",
    "    if f1_measure > best_f1_tree_up:\n",
    "        best_model_tree_up = model\n",
    "        opt_depth_tree_up = depth\n",
    "        best_f1_tree_up = f1_measure\n",
    "        probabilities = model.predict_proba(X_valid)\n",
    "        auc_roc_tree_up = roc_auc_score(y_valid, probabilities[:, 1])\n",
    "\n",
    "print(f'Лучшая модель (решающее дерево): max глубина = {opt_depth_tree_up}')\n",
    "print(f'Решающее дерево: F1-мера = {best_f1_tree_up}')\n",
    "print(f'Решающее дерево: AUC-ROC = {auc_roc_tree_up}')"
   ]
  },
  {
   "cell_type": "markdown",
   "id": "0378618f",
   "metadata": {},
   "source": [
    "#### Обучение модели с Downsampling-выборкой "
   ]
  },
  {
   "cell_type": "code",
   "execution_count": 58,
   "id": "024441ce",
   "metadata": {
    "scrolled": true
   },
   "outputs": [
    {
     "name": "stdout",
     "output_type": "stream",
     "text": [
      "Лучшая модель (решающее дерево): max глубина = 5\n",
      "Решающее дерево: F1-мера = 0.5813449023861171\n",
      "Решающее дерево: AUC-ROC = 0.8319182545167342\n"
     ]
    }
   ],
   "source": [
    "best_model_tree_down = None\n",
    "best_f1_tree_down = 0\n",
    "# перебор глубины деревьев (1..10)\n",
    "for depth in range(1, 11):\n",
    "    model = DecisionTreeClassifier(random_state=rstate, max_depth=depth)\n",
    "    model.fit(X_train_down, y_train_down)\n",
    "    predicted_valid = model.predict(X_valid)\n",
    "    f1_measure = f1_score(y_valid, predicted_valid)\n",
    "    if f1_measure > best_f1_tree_down:\n",
    "        best_model_tree_down = model\n",
    "        opt_depth_tree_down = depth\n",
    "        best_f1_tree_down = f1_measure\n",
    "        probabilities = model.predict_proba(X_valid)\n",
    "        auc_roc_tree_down = roc_auc_score(y_valid, probabilities[:, 1])\n",
    "\n",
    "print(f'Лучшая модель (решающее дерево): max глубина = {opt_depth_tree_down}')\n",
    "print(f'Решающее дерево: F1-мера = {best_f1_tree_down}')\n",
    "print(f'Решающее дерево: AUC-ROC = {auc_roc_tree_down}')"
   ]
  },
  {
   "cell_type": "markdown",
   "id": "2f30a298",
   "metadata": {},
   "source": [
    "### Random forest (сбалансированная выборка)"
   ]
  },
  {
   "cell_type": "markdown",
   "id": "1ac4eee9",
   "metadata": {},
   "source": [
    "#### Обучение модели с Upsampling-выборкой "
   ]
  },
  {
   "cell_type": "markdown",
   "id": "0a24eb49",
   "metadata": {},
   "source": [
    "Подберём гиперпараметры **max_depth** и **n_estimators** и найдём лучшую модель."
   ]
  },
  {
   "cell_type": "code",
   "execution_count": 59,
   "id": "1156df95",
   "metadata": {
    "scrolled": true
   },
   "outputs": [
    {
     "name": "stdout",
     "output_type": "stream",
     "text": [
      "Лучшая модель (random forest): количество деревьев = 98, глубина = 9\n",
      "Решающее дерево: F1-мера = 0.6319612590799031\n",
      "Решающее дерево: AUC-ROC = 0.862937912252695\n"
     ]
    }
   ],
   "source": [
    "best_model_rndforest_up = None\n",
    "best_f1_rndforest_up = 0\n",
    "# перебор количества деревьев в лесу (1..100)\n",
    "for n_trees in range(1, 101):\n",
    "    print(n_trees)\n",
    "# перебор глубины деревьев (1..15)\n",
    "    for depth in range(1, 16):\n",
    "        model = RandomForestClassifier(random_state=rstate, n_estimators=n_trees, max_depth=depth, n_jobs=-1)\n",
    "        model.fit(X_train_up, y_train_up)\n",
    "        predicted_valid = model.predict(X_valid)\n",
    "        f1_measure = f1_score(y_valid, predicted_valid)\n",
    "        if f1_measure > best_f1_rndforest_up:\n",
    "            best_model_rndforest_up = model\n",
    "            opt_depth_rndforest_up = depth\n",
    "            opt_n_trees_up = n_trees\n",
    "            best_f1_rndforest_up = f1_measure\n",
    "            probabilities = model.predict_proba(X_valid)\n",
    "            auc_roc_rndforest_up = roc_auc_score(y_valid, probabilities[:, 1])\n",
    "    clear_output(wait=True)\n",
    "\n",
    "print(f'Лучшая модель (random forest): количество деревьев = {opt_n_trees_up}, глубина = {opt_depth_rndforest_up}')\n",
    "print(f'Решающее дерево: F1-мера = {best_f1_rndforest_up}')\n",
    "print(f'Решающее дерево: AUC-ROC = {auc_roc_rndforest_up}')"
   ]
  },
  {
   "cell_type": "markdown",
   "id": "2f768432",
   "metadata": {},
   "source": [
    "#### Обучение модели с Downsampling-выборкой "
   ]
  },
  {
   "cell_type": "code",
   "execution_count": 60,
   "id": "0a70e7c8",
   "metadata": {},
   "outputs": [
    {
     "name": "stdout",
     "output_type": "stream",
     "text": [
      "Лучшая модель (random forest): количество деревьев = 95, глубина = 11\n",
      "Решающее дерево: F1-мера = 0.620021528525296\n",
      "Решающее дерево: AUC-ROC = 0.863325366917705\n"
     ]
    }
   ],
   "source": [
    "best_model_rndforest_down = None\n",
    "best_f1_rndforest_down = 0\n",
    "# перебор количества деревьев в лесу (1..100)\n",
    "for n_trees in range(1, 101):\n",
    "    print(n_trees)\n",
    "# перебор глубины деревьев (1..15)\n",
    "    for depth in range(1, 16):\n",
    "        model = RandomForestClassifier(random_state=rstate, n_estimators=n_trees, max_depth=depth, n_jobs=-1)\n",
    "        model.fit(X_train_down, y_train_down)\n",
    "        predicted_valid = model.predict(X_valid)\n",
    "        f1_measure = f1_score(y_valid, predicted_valid)\n",
    "        if f1_measure > best_f1_rndforest_down:\n",
    "            best_model_rndforest_down = model\n",
    "            opt_depth_rndforest_down = depth\n",
    "            opt_n_trees_down = n_trees\n",
    "            best_f1_rndforest_down = f1_measure\n",
    "            probabilities = model.predict_proba(X_valid)\n",
    "            auc_roc_rndforest_down = roc_auc_score(y_valid, probabilities[:, 1])\n",
    "    clear_output(wait=True)\n",
    "\n",
    "print(f'Лучшая модель (random forest): количество деревьев = {opt_n_trees_down}, глубина = {opt_depth_rndforest_down}')\n",
    "print(f'Решающее дерево: F1-мера = {best_f1_rndforest_down}')\n",
    "print(f'Решающее дерево: AUC-ROC = {auc_roc_rndforest_down}')"
   ]
  },
  {
   "cell_type": "markdown",
   "id": "a8cfb983",
   "metadata": {},
   "source": [
    "### Сравнение моделей"
   ]
  },
  {
   "cell_type": "markdown",
   "id": "8e0df6b1",
   "metadata": {},
   "source": [
    "Сравним F1-меры лучших построенных моделей."
   ]
  },
  {
   "cell_type": "code",
   "execution_count": 61,
   "id": "ecdede9d",
   "metadata": {},
   "outputs": [
    {
     "name": "stdout",
     "output_type": "stream",
     "text": [
      "Upsample-cбалансированная выборка\n",
      "Логистическая регрессия: F1-мера = 0.485, AUC-ROC = 0.77\n",
      "Решающее дерево:\t F1-мера = 0.589, AUC-ROC = 0.826\n",
      "Random forest:\t\t F1-мера = 0.632, AUC-ROC = 0.863\n",
      "Downsample-cбалансированная выборка\n",
      "Логистическая регрессия: F1-мера = 0.511, AUC-ROC = 0.778\n",
      "Решающее дерево:\t F1-мера = 0.581, AUC-ROC = 0.832\n",
      "Random forest:\t\t F1-мера = 0.62, AUC-ROC = 0.863\n"
     ]
    }
   ],
   "source": [
    "print('Upsample-cбалансированная выборка')\n",
    "print(f'Логистическая регрессия: F1-мера = {round(f1_logreg_up, 3)}, AUC-ROC = {round(auc_roc_logreg_up, 3)}')\n",
    "print(f'Решающее дерево:\\t F1-мера = {round(best_f1_tree_up, 3)}, AUC-ROC = {round(auc_roc_tree_up, 3)}')\n",
    "print(f'Random forest:\\t\\t F1-мера = {round(best_f1_rndforest_up, 3)}, AUC-ROC = {round(auc_roc_rndforest_up, 3)}')\n",
    "print('Downsample-cбалансированная выборка')\n",
    "print(f'Логистическая регрессия: F1-мера = {round(f1_logreg_down, 3)}, AUC-ROC = {round(auc_roc_logreg_down, 3)}')\n",
    "print(f'Решающее дерево:\\t F1-мера = {round(best_f1_tree_down, 3)}, AUC-ROC = {round(auc_roc_tree_down, 3)}')\n",
    "print(f'Random forest:\\t\\t F1-мера = {round(best_f1_rndforest_down, 3)}, AUC-ROC = {round(auc_roc_rndforest_down, 3)}')"
   ]
  },
  {
   "cell_type": "markdown",
   "id": "7b887cc5",
   "metadata": {},
   "source": [
    "Построим графики ROC-кривых для лучших построенных моделей."
   ]
  },
  {
   "cell_type": "code",
   "execution_count": 62,
   "id": "d972001b",
   "metadata": {},
   "outputs": [
    {
     "data": {
      "image/png": "[encoded data removed]",
      "text/plain": [
       "<Figure size 1000x800 with 1 Axes>"
      ]
     },
     "metadata": {},
     "output_type": "display_data"
    }
   ],
   "source": [
    "plt.figure(figsize=(10, 8))\n",
    "probs_valid = model_logreg_up.predict_proba(X_valid)\n",
    "fpr, tpr, thres = roc_curve(y_valid, probs_valid[:, 1])\n",
    "plt.plot(fpr, tpr)\n",
    "probs_valid = best_model_tree_up.predict_proba(X_valid)\n",
    "fpr, tpr, thres = roc_curve(y_valid, probs_valid[:, 1])\n",
    "plt.plot(fpr, tpr)\n",
    "probs_valid = best_model_rndforest_up.predict_proba(X_valid)\n",
    "fpr, tpr, thres = roc_curve(y_valid, probs_valid[:, 1])\n",
    "plt.plot(fpr, tpr)\n",
    "plt.plot([0, 1], [0, 1], linestyle='--')\n",
    "plt.xlim(0, 1)\n",
    "plt.ylim(0, 1)\n",
    "plt.grid()\n",
    "plt.legend(['Логистическая регрессия', 'Решающее дерево', 'Random forest'])\n",
    "plt.xlabel('False Positive Rate')\n",
    "plt.ylabel('True Positive Rate')\n",
    "plt.title('ROC-кривые: Upsampling-выборка')\n",
    "plt.show()"
   ]
  },
  {
   "cell_type": "code",
   "execution_count": 63,
   "id": "67700014",
   "metadata": {},
   "outputs": [
    {
     "data": {
      "image/png": "[encoded data removed]",
      "text/plain": [
       "<Figure size 1000x800 with 1 Axes>"
      ]
     },
     "metadata": {},
     "output_type": "display_data"
    }
   ],
   "source": [
    "plt.figure(figsize=(10, 8))\n",
    "probs_valid = model_logreg_down.predict_proba(X_valid)\n",
    "fpr, tpr, thres = roc_curve(y_valid, probs_valid[:, 1])\n",
    "plt.plot(fpr, tpr)\n",
    "probs_valid = best_model_tree_down.predict_proba(X_valid)\n",
    "fpr, tpr, thres = roc_curve(y_valid, probs_valid[:, 1])\n",
    "plt.plot(fpr, tpr)\n",
    "probs_valid = best_model_rndforest_down.predict_proba(X_valid)\n",
    "fpr, tpr, thres = roc_curve(y_valid, probs_valid[:, 1])\n",
    "plt.plot(fpr, tpr)\n",
    "plt.plot([0, 1], [0, 1], linestyle='--')\n",
    "plt.xlim(0, 1)\n",
    "plt.ylim(0, 1)\n",
    "plt.grid()\n",
    "plt.legend(['Логистическая регрессия', 'Решающее дерево', 'Random forest'])\n",
    "plt.xlabel('False Positive Rate')\n",
    "plt.ylabel('True Positive Rate')\n",
    "plt.title('ROC-кривые: Downsampling-выборка')\n",
    "plt.show()"
   ]
  },
  {
   "cell_type": "markdown",
   "id": "d8e6a133",
   "metadata": {},
   "source": [
    "### Вывод 4"
   ]
  },
  {
   "cell_type": "markdown",
   "id": "8eb028af",
   "metadata": {},
   "source": [
    "<div style=\"border:solid steelblue 3px; padding: 20px; border-radius: 10px\">\n",
    "\n",
    "* на сбалансированной обучающей выборкебыли построены три модели: логистическая регрессия, решающее дерево, random forest;\n",
    "* на валидационной выборке произведена оценка F1-меры и AUC-ROC для каждой из моделей для разных значений гиперпараметров (глубина дерева, количество деревьев);\n",
    "* для сбалансированной выборки значение f1-меры оказалось **выше**, чем для несбалансированной для всех моделей;\n",
    "* наибольшее значение F1-меры:\n",
    "    - (**0.632**) и AUC-ROC (**0.863**) у модели **\"random forest\"** с гиперпараметрами: max_depth=9, n_estimators=98 на upsample-выборке;\n",
    "    - (**0.62**) и AUC-ROC (**0.863**) у модели **\"random forest\"** с гиперпараметрами: max_depth=11, n_estimators=95 на downsample-выборке;\n",
    "* разные типы моделей ведут себя по разному при балансировании выборки двумя методами, что хорошо видно на ROC-кривой;\n",
    "* модель, обученная на Upsampling-выборке, показала чуть лучшие метрики на тестовой выборке, что объясняется бóльшим количеством данных в ней (данные добавлялись, а не удалялись)."
   ]
  },
  {
   "cell_type": "markdown",
   "id": "281b59a5",
   "metadata": {},
   "source": [
    "## Проверка качества модели на тестовой выборке"
   ]
  },
  {
   "cell_type": "markdown",
   "id": "a8ec791d",
   "metadata": {},
   "source": [
    "Проверим качество двух лучших моделей, построенных на сбалансированной обучающей выборке, на тестовой выборке.<br>\n",
    "Для этого воспользуемся тестовой выборкой и вычислим затем метрики F1-мера и AUC-ROC."
   ]
  },
  {
   "cell_type": "code",
   "execution_count": 64,
   "id": "63a91323",
   "metadata": {},
   "outputs": [
    {
     "name": "stdout",
     "output_type": "stream",
     "text": [
      "Upsample: Random forest       : F1-мера = 0.619, AUC-ROC = 0.858\n",
      "Downsample: Random forest     : F1-мера = 0.582, AUC-ROC = 0.852\n"
     ]
    }
   ],
   "source": [
    "models = {'Upsample: Random forest': best_model_rndforest_up,\n",
    "          'Downsample: Random forest': best_model_rndforest_down}\n",
    "\n",
    "for name, model in models.items():\n",
    "    predicted_test = model.predict(X_test)\n",
    "    f1_result = f1_score(y_test, predicted_test)\n",
    "    probabilities = model.predict_proba(X_test)\n",
    "    auc_roc_result = roc_auc_score(y_test, probabilities[:, 1])\n",
    "    print(f'{name:<30}: F1-мера = {round(f1_result, 3)}, AUC-ROC = {round(auc_roc_result, 3)}')"
   ]
  },
  {
   "cell_type": "markdown",
   "id": "806280db",
   "metadata": {},
   "source": [
    "Модель \"random forest\" при upsample-балансировке (SMOTE) показала приемлемый уровень метрики **F1-мера = 0.619** ( $\\ge$ 0.59) на тестовой выборке и при этом не переобучилась. При этом модель \"random forest\" при downsample-балансировке показала худший результат, что говорит о переобучении на недостаточном количестве данных."
   ]
  },
  {
   "cell_type": "code",
   "execution_count": 65,
   "id": "5db28c33",
   "metadata": {},
   "outputs": [
    {
     "name": "stdout",
     "output_type": "stream",
     "text": [
      "Доля правильно предсказанных уходов клиентов из банка: 0.6657681940700808\n"
     ]
    }
   ],
   "source": [
    "predicted_test = best_model_rndforest_up.predict(X_test)\n",
    "model_recall = recall_score(y_test, predicted_test)\n",
    "print('Доля правильно предсказанных уходов клиентов из банка:', model_recall)"
   ]
  },
  {
   "cell_type": "markdown",
   "id": "914b1ae9",
   "metadata": {},
   "source": [
    "## Проверка модели на вменяемость"
   ]
  },
  {
   "cell_type": "markdown",
   "id": "de22efd8",
   "metadata": {},
   "source": [
    "Проведём sanity check для моделей. Для этого сравним их F1-меру с F1-мерой тривиальной модели. В данном случае будем использовать модель DummyClassifier со стратегией \"most_frequent\"."
   ]
  },
  {
   "cell_type": "code",
   "execution_count": 66,
   "id": "c656eb13",
   "metadata": {},
   "outputs": [
    {
     "name": "stdout",
     "output_type": "stream",
     "text": [
      "Тривиальная модель: F1-мера = 0.0, AUC-ROC = 0.5\n"
     ]
    }
   ],
   "source": [
    "dummy_model = DummyClassifier(strategy='most_frequent', random_state=rstate)\n",
    "dummy_model.fit(X_train_up, y_train_up)\n",
    "predicted_dummy = dummy_model.predict(X_test)\n",
    "f1_dummy_result = f1_score(y_test, predicted_dummy)\n",
    "probabilities = dummy_model.predict_proba(X_test)\n",
    "auc_roc_dummy_result = roc_auc_score(y_test, probabilities[:, 1])\n",
    "print(f'Тривиальная модель: F1-мера = {round(f1_dummy_result, 3)}, AUC-ROC = {round(auc_roc_dummy_result, 3)}')"
   ]
  },
  {
   "cell_type": "markdown",
   "id": "c9126a95",
   "metadata": {},
   "source": [
    "Тривиальная модель показала уровень F1-мера = 0 на тестовой выборке. Все три модели, построенные в исследовании, имеют F1-меру выше. Тест на вменяемость пройден для всех трёх."
   ]
  },
  {
   "cell_type": "markdown",
   "id": "3b441f93",
   "metadata": {},
   "source": [
    "## Выводы"
   ]
  },
  {
   "cell_type": "markdown",
   "id": "bbc14a06",
   "metadata": {},
   "source": [
    "<div style=\"border:solid steelblue 3px; padding: 20px; border-radius: 10px\">\n",
    "\n",
    "1. Проблемы в данных:\n",
    "    * в информации о сроке пребывания клиентом банка (`Tenure`) выявлены пропуски (9%);\n",
    "    * объекты с пропусками были удалены;\n",
    "    * стоит выяснить, откуда взялись эти пропуски (раз пропусков в остальных данных не было), возможно, имел место сбой в сборе, хранении, обработке данных;\n",
    "    * имеет место несбалансированность выборки: лишь 20% данных об ушедших клиентах;<br><br>\n",
    "1. Исследование данных:\n",
    "    * имеет место слабая положительная корреляция (0.28)  между фактом ухода клиента и его возрастом;\n",
    "    * ушедшие из банка клиенты характеризуются более высокими средним возрастом и балансом счёта;\n",
    "    * клиенты с положительным балансом уходят из банка в 3 раза чаще, чем клиенты с нулевым;\n",
    "    * клиенты из Германии чаще уходят из банка в пропорциональном отношении к оставшимся клиентами;\n",
    "    * женщины чаще уходят из банка в пропорциональном отношении к оставшимся клиентами;<br><br>\n",
    "1. Построение моделей на несбалансированной обучающей выборке:\n",
    "    * были построены три модели: логистическая регрессия, решающее дерево, random forest;\n",
    "    * наибольшее значение F1-меры (0.583) у модели \"random forest\" с гиперпараметрами: **max_depth=9**, **n_estimators=13**;<br><br>\n",
    "1. Была проведена балансировка выборки методом \"Upsapmpling\" с целью повышения качества моделей.\n",
    "1. Построение моделей на сбалансированной обучающей выборке:\n",
    "    * были построены три модели: логистическая регрессия, решающее дерево, random forest;\n",
    "    * наибольшее значение F1-меры:\n",
    "        - **0.632** у модели **\"random forest\"** с гиперпараметрами: **max_depth=9**, **n_estimators=98** на upsampling-выборке;\n",
    "        - **0.62**  у модели **\"random forest\"** с гиперпараметрами: **max_depth=11**, **n_estimators=95** на downsampling-выборке;<br><br>\n",
    "1. Проверка качества модели на тестовой выборке:    \n",
    "    - только модели **\"random forest\"** показали приемлемый уровень F1-меры = **0.619** ( $\\ge$ 0.59) на тестовой выборке;\n",
    "    - доля правильно предсказанных уходов клиентов из банка = **0.67**;\n",
    "    - лучшая модель обладает большей гибкостью и, как видно на графиках ROC-кривой, выдаёт большее количество истинноположительных ответов при меньшем количестве ложноположительных;\n",
    "    - для балансировки данных лучше использовать метод Upsampling, когда количество данных не очень велико и удаление приведёт к снижению качества моделей;\n",
    "    - модель \"random forest\" наиболее устойчива к разным изменениям в выборке и выдаёт приемлемый результат, однако, требует больших вычислительных затрат;<br><br>\n",
    "1. Проверка модели на вменяемость:    \n",
    "    - все построенные модели показали метрики лучше, чем тривиальная модель;<br><br>\n",
    "1. На основании лучшей модели и данных о клиентах банка можно будет построить систему, показывающую, какие признаки свидетельствуют о том, что клиент может уйти из банка, а это позволит с помощью маркетинговых инструментов попробовать сохранить клиентов в банке. Для повышения точности модели можно дополнительно использовать более сбалансированные исходные данные, с меньшим количеством пропусков или более сложные модели."
   ]
  }
 ],
 "metadata": {
  "ExecuteTimeLog": [
   {
    "duration": 861,
    "start_time": "2023-07-06T16:22:51.124Z"
   },
   {
    "duration": 10,
    "start_time": "2023-07-06T16:22:51.987Z"
   },
   {
    "duration": 49,
    "start_time": "2023-07-06T16:22:51.999Z"
   },
   {
    "duration": 102,
    "start_time": "2023-07-06T16:22:52.050Z"
   },
   {
    "duration": 0,
    "start_time": "2023-07-06T16:22:52.156Z"
   },
   {
    "duration": 0,
    "start_time": "2023-07-06T16:22:52.157Z"
   },
   {
    "duration": 0,
    "start_time": "2023-07-06T16:22:52.159Z"
   },
   {
    "duration": 0,
    "start_time": "2023-07-06T16:22:52.160Z"
   },
   {
    "duration": 0,
    "start_time": "2023-07-06T16:22:52.162Z"
   },
   {
    "duration": 0,
    "start_time": "2023-07-06T16:22:52.163Z"
   },
   {
    "duration": 0,
    "start_time": "2023-07-06T16:22:52.165Z"
   },
   {
    "duration": 0,
    "start_time": "2023-07-06T16:22:52.166Z"
   },
   {
    "duration": 0,
    "start_time": "2023-07-06T16:22:52.168Z"
   },
   {
    "duration": 0,
    "start_time": "2023-07-06T16:22:52.169Z"
   },
   {
    "duration": 0,
    "start_time": "2023-07-06T16:22:52.171Z"
   },
   {
    "duration": 0,
    "start_time": "2023-07-06T16:22:52.172Z"
   },
   {
    "duration": 0,
    "start_time": "2023-07-06T16:22:52.174Z"
   },
   {
    "duration": 0,
    "start_time": "2023-07-06T16:22:52.175Z"
   },
   {
    "duration": 0,
    "start_time": "2023-07-06T16:22:52.176Z"
   },
   {
    "duration": 0,
    "start_time": "2023-07-06T16:22:52.177Z"
   },
   {
    "duration": 0,
    "start_time": "2023-07-06T16:22:52.178Z"
   },
   {
    "duration": 0,
    "start_time": "2023-07-06T16:22:52.179Z"
   },
   {
    "duration": 0,
    "start_time": "2023-07-06T16:22:52.180Z"
   },
   {
    "duration": 1,
    "start_time": "2023-07-06T16:22:52.181Z"
   },
   {
    "duration": 0,
    "start_time": "2023-07-06T16:22:52.183Z"
   },
   {
    "duration": 0,
    "start_time": "2023-07-06T16:22:52.184Z"
   },
   {
    "duration": 0,
    "start_time": "2023-07-06T16:22:52.185Z"
   },
   {
    "duration": 0,
    "start_time": "2023-07-06T16:22:52.186Z"
   },
   {
    "duration": 0,
    "start_time": "2023-07-06T16:22:52.187Z"
   },
   {
    "duration": 0,
    "start_time": "2023-07-06T16:22:52.188Z"
   },
   {
    "duration": 0,
    "start_time": "2023-07-06T16:22:52.189Z"
   },
   {
    "duration": 0,
    "start_time": "2023-07-06T16:22:52.190Z"
   },
   {
    "duration": 0,
    "start_time": "2023-07-06T16:22:52.191Z"
   },
   {
    "duration": 0,
    "start_time": "2023-07-06T16:22:52.193Z"
   },
   {
    "duration": 0,
    "start_time": "2023-07-06T16:22:52.194Z"
   },
   {
    "duration": 0,
    "start_time": "2023-07-06T16:22:52.195Z"
   },
   {
    "duration": 0,
    "start_time": "2023-07-06T16:22:52.196Z"
   },
   {
    "duration": 0,
    "start_time": "2023-07-06T16:22:52.197Z"
   },
   {
    "duration": 0,
    "start_time": "2023-07-06T16:22:52.259Z"
   },
   {
    "duration": 0,
    "start_time": "2023-07-06T16:22:52.261Z"
   },
   {
    "duration": 0,
    "start_time": "2023-07-06T16:22:52.262Z"
   },
   {
    "duration": 0,
    "start_time": "2023-07-06T16:22:52.263Z"
   },
   {
    "duration": 0,
    "start_time": "2023-07-06T16:22:52.264Z"
   },
   {
    "duration": 0,
    "start_time": "2023-07-06T16:22:52.265Z"
   },
   {
    "duration": 0,
    "start_time": "2023-07-06T16:22:52.266Z"
   },
   {
    "duration": 0,
    "start_time": "2023-07-06T16:22:52.267Z"
   },
   {
    "duration": 0,
    "start_time": "2023-07-06T16:22:52.268Z"
   },
   {
    "duration": 0,
    "start_time": "2023-07-06T16:22:52.269Z"
   },
   {
    "duration": 0,
    "start_time": "2023-07-06T16:22:52.271Z"
   },
   {
    "duration": 0,
    "start_time": "2023-07-06T16:22:52.272Z"
   },
   {
    "duration": 0,
    "start_time": "2023-07-06T16:22:52.273Z"
   },
   {
    "duration": 0,
    "start_time": "2023-07-06T16:22:52.274Z"
   },
   {
    "duration": 0,
    "start_time": "2023-07-06T16:22:52.275Z"
   },
   {
    "duration": 0,
    "start_time": "2023-07-06T16:22:52.276Z"
   },
   {
    "duration": 0,
    "start_time": "2023-07-06T16:22:52.277Z"
   },
   {
    "duration": 0,
    "start_time": "2023-07-06T16:22:52.278Z"
   },
   {
    "duration": 0,
    "start_time": "2023-07-06T16:22:52.279Z"
   },
   {
    "duration": 0,
    "start_time": "2023-07-06T16:22:52.280Z"
   },
   {
    "duration": 0,
    "start_time": "2023-07-06T16:22:52.281Z"
   },
   {
    "duration": 0,
    "start_time": "2023-07-06T16:22:52.282Z"
   },
   {
    "duration": 0,
    "start_time": "2023-07-06T16:22:52.283Z"
   },
   {
    "duration": 0,
    "start_time": "2023-07-06T16:22:52.284Z"
   },
   {
    "duration": 0,
    "start_time": "2023-07-06T16:22:52.285Z"
   },
   {
    "duration": 1569,
    "start_time": "2023-07-07T12:48:35.120Z"
   },
   {
    "duration": 859,
    "start_time": "2023-07-07T12:48:51.943Z"
   },
   {
    "duration": 39,
    "start_time": "2023-07-07T12:48:52.804Z"
   },
   {
    "duration": 15,
    "start_time": "2023-07-07T12:48:52.845Z"
   },
   {
    "duration": 2152,
    "start_time": "2023-07-07T12:48:52.862Z"
   },
   {
    "duration": 10,
    "start_time": "2023-07-07T12:48:55.017Z"
   },
   {
    "duration": 35,
    "start_time": "2023-07-07T12:48:55.029Z"
   },
   {
    "duration": 5,
    "start_time": "2023-07-07T12:48:55.066Z"
   },
   {
    "duration": 208,
    "start_time": "2023-07-07T12:48:55.073Z"
   },
   {
    "duration": 5,
    "start_time": "2023-07-07T12:48:55.283Z"
   },
   {
    "duration": 137,
    "start_time": "2023-07-07T12:48:55.290Z"
   },
   {
    "duration": 15,
    "start_time": "2023-07-07T12:48:55.429Z"
   },
   {
    "duration": 37,
    "start_time": "2023-07-07T12:48:55.446Z"
   },
   {
    "duration": 44,
    "start_time": "2023-07-07T12:48:55.485Z"
   },
   {
    "duration": 13,
    "start_time": "2023-07-07T12:48:55.532Z"
   },
   {
    "duration": 29,
    "start_time": "2023-07-07T12:48:55.547Z"
   },
   {
    "duration": 63,
    "start_time": "2023-07-07T12:48:55.578Z"
   },
   {
    "duration": 33,
    "start_time": "2023-07-07T12:48:55.643Z"
   },
   {
    "duration": 21,
    "start_time": "2023-07-07T12:48:55.678Z"
   },
   {
    "duration": 82,
    "start_time": "2023-07-07T12:48:55.701Z"
   },
   {
    "duration": 34,
    "start_time": "2023-07-07T12:48:55.784Z"
   },
   {
    "duration": 168,
    "start_time": "2023-07-07T12:48:55.820Z"
   },
   {
    "duration": 20,
    "start_time": "2023-07-07T12:48:55.990Z"
   },
   {
    "duration": 89,
    "start_time": "2023-07-07T12:48:56.013Z"
   },
   {
    "duration": 178,
    "start_time": "2023-07-07T12:48:56.104Z"
   },
   {
    "duration": 4,
    "start_time": "2023-07-07T12:48:56.284Z"
   },
   {
    "duration": 42,
    "start_time": "2023-07-07T12:48:56.289Z"
   },
   {
    "duration": 69,
    "start_time": "2023-07-07T12:48:56.333Z"
   },
   {
    "duration": 89,
    "start_time": "2023-07-07T12:48:56.404Z"
   },
   {
    "duration": 51,
    "start_time": "2023-07-07T12:48:56.495Z"
   },
   {
    "duration": 72,
    "start_time": "2023-07-07T12:48:56.548Z"
   },
   {
    "duration": 158,
    "start_time": "2023-07-07T12:48:56.622Z"
   },
   {
    "duration": 23,
    "start_time": "2023-07-07T12:48:56.782Z"
   },
   {
    "duration": 521,
    "start_time": "2023-07-07T12:48:56.806Z"
   },
   {
    "duration": 195,
    "start_time": "2023-07-07T12:48:57.328Z"
   },
   {
    "duration": 186,
    "start_time": "2023-07-07T12:48:57.524Z"
   },
   {
    "duration": 179,
    "start_time": "2023-07-07T12:48:57.711Z"
   },
   {
    "duration": 186,
    "start_time": "2023-07-07T12:48:57.892Z"
   },
   {
    "duration": 197,
    "start_time": "2023-07-07T12:48:58.080Z"
   },
   {
    "duration": 190,
    "start_time": "2023-07-07T12:48:58.279Z"
   },
   {
    "duration": 186,
    "start_time": "2023-07-07T12:48:58.471Z"
   },
   {
    "duration": 147,
    "start_time": "2023-07-07T12:48:58.662Z"
   },
   {
    "duration": 8,
    "start_time": "2023-07-07T12:48:58.811Z"
   },
   {
    "duration": 199,
    "start_time": "2023-07-07T12:48:58.821Z"
   },
   {
    "duration": 219,
    "start_time": "2023-07-07T12:48:59.022Z"
   },
   {
    "duration": 293,
    "start_time": "2023-07-07T12:48:59.243Z"
   },
   {
    "duration": 230,
    "start_time": "2023-07-07T12:48:59.537Z"
   },
   {
    "duration": 167,
    "start_time": "2023-07-07T12:48:59.768Z"
   },
   {
    "duration": 156,
    "start_time": "2023-07-07T12:48:59.937Z"
   },
   {
    "duration": 193,
    "start_time": "2023-07-07T12:49:00.095Z"
   },
   {
    "duration": 15,
    "start_time": "2023-07-07T12:49:00.290Z"
   },
   {
    "duration": 48,
    "start_time": "2023-07-07T12:49:00.307Z"
   },
   {
    "duration": 335,
    "start_time": "2023-07-07T12:49:00.357Z"
   },
   {
    "duration": 224,
    "start_time": "2023-07-07T12:49:00.706Z"
   },
   {
    "duration": 233,
    "start_time": "2023-07-07T12:49:00.932Z"
   },
   {
    "duration": 200,
    "start_time": "2023-07-07T12:49:01.167Z"
   },
   {
    "duration": 138,
    "start_time": "2023-07-07T12:49:01.369Z"
   },
   {
    "duration": 143,
    "start_time": "2023-07-07T12:49:01.509Z"
   },
   {
    "duration": 184,
    "start_time": "2023-07-07T12:49:01.654Z"
   },
   {
    "duration": 150,
    "start_time": "2023-07-07T12:49:01.840Z"
   },
   {
    "duration": 10,
    "start_time": "2023-07-07T12:49:01.993Z"
   },
   {
    "duration": 49,
    "start_time": "2023-07-07T12:49:02.005Z"
   },
   {
    "duration": 51,
    "start_time": "2023-07-07T12:49:02.056Z"
   },
   {
    "duration": 319,
    "start_time": "2023-07-07T12:49:02.110Z"
   },
   {
    "duration": 310,
    "start_time": "2023-07-07T12:52:02.824Z"
   },
   {
    "duration": 179,
    "start_time": "2023-07-07T12:52:08.158Z"
   },
   {
    "duration": 191,
    "start_time": "2023-07-07T12:52:12.888Z"
   },
   {
    "duration": 173,
    "start_time": "2023-07-07T12:52:29.782Z"
   },
   {
    "duration": 173,
    "start_time": "2023-07-07T12:52:37.695Z"
   },
   {
    "duration": 194,
    "start_time": "2023-07-07T12:52:47.491Z"
   },
   {
    "duration": 153,
    "start_time": "2023-07-07T12:53:03.275Z"
   },
   {
    "duration": 159,
    "start_time": "2023-07-07T12:53:26.362Z"
   },
   {
    "duration": 261,
    "start_time": "2023-07-07T12:58:41.525Z"
   },
   {
    "duration": 211,
    "start_time": "2023-07-07T12:58:45.985Z"
   },
   {
    "duration": 180,
    "start_time": "2023-07-07T12:59:10.514Z"
   },
   {
    "duration": 170,
    "start_time": "2023-07-07T12:59:19.934Z"
   },
   {
    "duration": 167,
    "start_time": "2023-07-07T12:59:27.460Z"
   },
   {
    "duration": 902,
    "start_time": "2023-07-07T12:59:40.306Z"
   },
   {
    "duration": 56,
    "start_time": "2023-07-07T12:59:41.210Z"
   },
   {
    "duration": 35,
    "start_time": "2023-07-07T12:59:41.269Z"
   },
   {
    "duration": 2236,
    "start_time": "2023-07-07T12:59:41.307Z"
   },
   {
    "duration": 10,
    "start_time": "2023-07-07T12:59:43.547Z"
   },
   {
    "duration": 12,
    "start_time": "2023-07-07T12:59:43.559Z"
   },
   {
    "duration": 5,
    "start_time": "2023-07-07T12:59:43.573Z"
   },
   {
    "duration": 185,
    "start_time": "2023-07-07T12:59:43.580Z"
   },
   {
    "duration": 6,
    "start_time": "2023-07-07T12:59:43.767Z"
   },
   {
    "duration": 135,
    "start_time": "2023-07-07T12:59:43.774Z"
   },
   {
    "duration": 17,
    "start_time": "2023-07-07T12:59:43.911Z"
   },
   {
    "duration": 10,
    "start_time": "2023-07-07T12:59:43.931Z"
   },
   {
    "duration": 27,
    "start_time": "2023-07-07T12:59:43.944Z"
   },
   {
    "duration": 38,
    "start_time": "2023-07-07T12:59:43.976Z"
   },
   {
    "duration": 18,
    "start_time": "2023-07-07T12:59:44.017Z"
   },
   {
    "duration": 38,
    "start_time": "2023-07-07T12:59:44.037Z"
   },
   {
    "duration": 34,
    "start_time": "2023-07-07T12:59:44.078Z"
   },
   {
    "duration": 6,
    "start_time": "2023-07-07T12:59:44.115Z"
   },
   {
    "duration": 84,
    "start_time": "2023-07-07T12:59:44.123Z"
   },
   {
    "duration": 6,
    "start_time": "2023-07-07T12:59:44.209Z"
   },
   {
    "duration": 162,
    "start_time": "2023-07-07T12:59:44.217Z"
   },
   {
    "duration": 10,
    "start_time": "2023-07-07T12:59:44.380Z"
   },
   {
    "duration": 33,
    "start_time": "2023-07-07T12:59:44.402Z"
   },
   {
    "duration": 185,
    "start_time": "2023-07-07T12:59:44.436Z"
   },
   {
    "duration": 5,
    "start_time": "2023-07-07T12:59:44.623Z"
   },
   {
    "duration": 21,
    "start_time": "2023-07-07T12:59:44.630Z"
   },
   {
    "duration": 11,
    "start_time": "2023-07-07T12:59:44.653Z"
   },
   {
    "duration": 50,
    "start_time": "2023-07-07T12:59:44.666Z"
   },
   {
    "duration": 6,
    "start_time": "2023-07-07T12:59:44.718Z"
   },
   {
    "duration": 55,
    "start_time": "2023-07-07T12:59:44.726Z"
   },
   {
    "duration": 133,
    "start_time": "2023-07-07T12:59:44.783Z"
   },
   {
    "duration": 10,
    "start_time": "2023-07-07T12:59:44.918Z"
   },
   {
    "duration": 523,
    "start_time": "2023-07-07T12:59:44.929Z"
   },
   {
    "duration": 205,
    "start_time": "2023-07-07T12:59:45.454Z"
   },
   {
    "duration": 198,
    "start_time": "2023-07-07T12:59:45.662Z"
   },
   {
    "duration": 185,
    "start_time": "2023-07-07T12:59:45.863Z"
   },
   {
    "duration": 219,
    "start_time": "2023-07-07T12:59:46.051Z"
   },
   {
    "duration": 222,
    "start_time": "2023-07-07T12:59:46.273Z"
   },
   {
    "duration": 205,
    "start_time": "2023-07-07T12:59:46.497Z"
   },
   {
    "duration": 181,
    "start_time": "2023-07-07T12:59:46.704Z"
   },
   {
    "duration": 154,
    "start_time": "2023-07-07T12:59:46.890Z"
   },
   {
    "duration": 8,
    "start_time": "2023-07-07T12:59:47.046Z"
   },
   {
    "duration": 206,
    "start_time": "2023-07-07T12:59:47.056Z"
   },
   {
    "duration": 217,
    "start_time": "2023-07-07T12:59:47.264Z"
   },
   {
    "duration": 306,
    "start_time": "2023-07-07T12:59:47.484Z"
   },
   {
    "duration": 201,
    "start_time": "2023-07-07T12:59:47.791Z"
   },
   {
    "duration": 165,
    "start_time": "2023-07-07T12:59:47.994Z"
   },
   {
    "duration": 152,
    "start_time": "2023-07-07T12:59:48.161Z"
   },
   {
    "duration": 203,
    "start_time": "2023-07-07T12:59:48.316Z"
   },
   {
    "duration": 7,
    "start_time": "2023-07-07T12:59:48.521Z"
   },
   {
    "duration": 26,
    "start_time": "2023-07-07T12:59:48.531Z"
   },
   {
    "duration": 245,
    "start_time": "2023-07-07T12:59:48.559Z"
   },
   {
    "duration": 218,
    "start_time": "2023-07-07T12:59:48.806Z"
   },
   {
    "duration": 244,
    "start_time": "2023-07-07T12:59:49.026Z"
   },
   {
    "duration": 213,
    "start_time": "2023-07-07T12:59:49.272Z"
   },
   {
    "duration": 151,
    "start_time": "2023-07-07T12:59:49.487Z"
   },
   {
    "duration": 137,
    "start_time": "2023-07-07T12:59:49.641Z"
   },
   {
    "duration": 174,
    "start_time": "2023-07-07T12:59:49.780Z"
   },
   {
    "duration": 146,
    "start_time": "2023-07-07T12:59:49.956Z"
   },
   {
    "duration": 7,
    "start_time": "2023-07-07T12:59:50.104Z"
   },
   {
    "duration": 46,
    "start_time": "2023-07-07T12:59:50.113Z"
   },
   {
    "duration": 23,
    "start_time": "2023-07-07T12:59:50.161Z"
   },
   {
    "duration": 280,
    "start_time": "2023-07-07T12:59:50.185Z"
   },
   {
    "duration": 282,
    "start_time": "2023-07-07T13:01:20.925Z"
   },
   {
    "duration": 225,
    "start_time": "2023-07-07T13:01:29.001Z"
   },
   {
    "duration": 145,
    "start_time": "2023-07-07T13:01:32.106Z"
   },
   {
    "duration": 6,
    "start_time": "2023-07-07T13:01:37.689Z"
   },
   {
    "duration": 8,
    "start_time": "2023-07-07T13:01:40.086Z"
   },
   {
    "duration": 137,
    "start_time": "2023-07-07T13:01:44.611Z"
   },
   {
    "duration": 873,
    "start_time": "2023-07-07T13:02:07.193Z"
   },
   {
    "duration": 38,
    "start_time": "2023-07-07T13:02:08.068Z"
   },
   {
    "duration": 15,
    "start_time": "2023-07-07T13:02:08.107Z"
   },
   {
    "duration": 2139,
    "start_time": "2023-07-07T13:02:08.124Z"
   },
   {
    "duration": 10,
    "start_time": "2023-07-07T13:02:10.264Z"
   },
   {
    "duration": 15,
    "start_time": "2023-07-07T13:02:10.276Z"
   },
   {
    "duration": 4,
    "start_time": "2023-07-07T13:02:10.293Z"
   },
   {
    "duration": 189,
    "start_time": "2023-07-07T13:02:10.301Z"
   },
   {
    "duration": 6,
    "start_time": "2023-07-07T13:02:10.501Z"
   },
   {
    "duration": 168,
    "start_time": "2023-07-07T13:02:10.511Z"
   },
   {
    "duration": 24,
    "start_time": "2023-07-07T13:02:10.681Z"
   },
   {
    "duration": 8,
    "start_time": "2023-07-07T13:02:10.707Z"
   },
   {
    "duration": 24,
    "start_time": "2023-07-07T13:02:10.717Z"
   },
   {
    "duration": 14,
    "start_time": "2023-07-07T13:02:10.743Z"
   },
   {
    "duration": 11,
    "start_time": "2023-07-07T13:02:10.759Z"
   },
   {
    "duration": 55,
    "start_time": "2023-07-07T13:02:10.772Z"
   },
   {
    "duration": 26,
    "start_time": "2023-07-07T13:02:10.829Z"
   },
   {
    "duration": 7,
    "start_time": "2023-07-07T13:02:10.856Z"
   },
   {
    "duration": 89,
    "start_time": "2023-07-07T13:02:10.865Z"
   },
   {
    "duration": 7,
    "start_time": "2023-07-07T13:02:10.956Z"
   },
   {
    "duration": 148,
    "start_time": "2023-07-07T13:02:10.965Z"
   },
   {
    "duration": 10,
    "start_time": "2023-07-07T13:02:11.115Z"
   },
   {
    "duration": 28,
    "start_time": "2023-07-07T13:02:11.127Z"
   },
   {
    "duration": 184,
    "start_time": "2023-07-07T13:02:11.158Z"
   },
   {
    "duration": 4,
    "start_time": "2023-07-07T13:02:11.344Z"
   },
   {
    "duration": 14,
    "start_time": "2023-07-07T13:02:11.350Z"
   },
   {
    "duration": 23,
    "start_time": "2023-07-07T13:02:11.366Z"
   },
   {
    "duration": 34,
    "start_time": "2023-07-07T13:02:11.393Z"
   },
   {
    "duration": 12,
    "start_time": "2023-07-07T13:02:11.429Z"
   },
   {
    "duration": 35,
    "start_time": "2023-07-07T13:02:11.443Z"
   },
   {
    "duration": 146,
    "start_time": "2023-07-07T13:02:11.480Z"
   },
   {
    "duration": 10,
    "start_time": "2023-07-07T13:02:11.628Z"
   },
   {
    "duration": 539,
    "start_time": "2023-07-07T13:02:11.640Z"
   },
   {
    "duration": 231,
    "start_time": "2023-07-07T13:02:12.181Z"
   },
   {
    "duration": 194,
    "start_time": "2023-07-07T13:02:12.414Z"
   },
   {
    "duration": 174,
    "start_time": "2023-07-07T13:02:12.610Z"
   },
   {
    "duration": 206,
    "start_time": "2023-07-07T13:02:12.786Z"
   },
   {
    "duration": 199,
    "start_time": "2023-07-07T13:02:12.994Z"
   },
   {
    "duration": 182,
    "start_time": "2023-07-07T13:02:13.195Z"
   },
   {
    "duration": 178,
    "start_time": "2023-07-07T13:02:13.379Z"
   },
   {
    "duration": 168,
    "start_time": "2023-07-07T13:02:13.559Z"
   },
   {
    "duration": 10,
    "start_time": "2023-07-07T13:02:13.729Z"
   },
   {
    "duration": 208,
    "start_time": "2023-07-07T13:02:13.740Z"
   },
   {
    "duration": 236,
    "start_time": "2023-07-07T13:02:13.951Z"
   },
   {
    "duration": 296,
    "start_time": "2023-07-07T13:02:14.188Z"
   },
   {
    "duration": 189,
    "start_time": "2023-07-07T13:02:14.486Z"
   },
   {
    "duration": 160,
    "start_time": "2023-07-07T13:02:14.677Z"
   },
   {
    "duration": 149,
    "start_time": "2023-07-07T13:02:14.839Z"
   },
   {
    "duration": 191,
    "start_time": "2023-07-07T13:02:14.989Z"
   },
   {
    "duration": 20,
    "start_time": "2023-07-07T13:02:15.184Z"
   },
   {
    "duration": 33,
    "start_time": "2023-07-07T13:02:15.206Z"
   },
   {
    "duration": 233,
    "start_time": "2023-07-07T13:02:15.241Z"
   },
   {
    "duration": 218,
    "start_time": "2023-07-07T13:02:15.476Z"
   },
   {
    "duration": 226,
    "start_time": "2023-07-07T13:02:15.696Z"
   },
   {
    "duration": 200,
    "start_time": "2023-07-07T13:02:15.924Z"
   },
   {
    "duration": 135,
    "start_time": "2023-07-07T13:02:16.127Z"
   },
   {
    "duration": 139,
    "start_time": "2023-07-07T13:02:16.264Z"
   },
   {
    "duration": 166,
    "start_time": "2023-07-07T13:02:16.405Z"
   },
   {
    "duration": 133,
    "start_time": "2023-07-07T13:02:16.572Z"
   },
   {
    "duration": 6,
    "start_time": "2023-07-07T13:02:16.707Z"
   },
   {
    "duration": 36,
    "start_time": "2023-07-07T13:02:16.714Z"
   },
   {
    "duration": 8,
    "start_time": "2023-07-07T13:02:16.752Z"
   },
   {
    "duration": 283,
    "start_time": "2023-07-07T13:02:16.762Z"
   },
   {
    "duration": 272,
    "start_time": "2023-07-07T13:02:34.415Z"
   },
   {
    "duration": 150,
    "start_time": "2023-07-07T13:02:49.489Z"
   },
   {
    "duration": 146,
    "start_time": "2023-07-07T13:03:34.548Z"
   },
   {
    "duration": 200,
    "start_time": "2023-07-07T13:03:49.857Z"
   },
   {
    "duration": 164,
    "start_time": "2023-07-07T13:03:58.516Z"
   },
   {
    "duration": 191,
    "start_time": "2023-07-07T13:04:02.380Z"
   },
   {
    "duration": 193,
    "start_time": "2023-07-07T13:04:06.399Z"
   },
   {
    "duration": 220,
    "start_time": "2023-07-07T13:04:10.484Z"
   },
   {
    "duration": 181,
    "start_time": "2023-07-07T13:04:15.167Z"
   },
   {
    "duration": 86,
    "start_time": "2023-07-07T13:04:20.252Z"
   },
   {
    "duration": 148,
    "start_time": "2023-07-07T13:04:24.915Z"
   },
   {
    "duration": 181,
    "start_time": "2023-07-07T13:04:40.202Z"
   },
   {
    "duration": 155,
    "start_time": "2023-07-07T13:04:43.903Z"
   },
   {
    "duration": 229,
    "start_time": "2023-07-07T13:04:52.869Z"
   },
   {
    "duration": 270,
    "start_time": "2023-07-07T13:05:02.061Z"
   },
   {
    "duration": 223,
    "start_time": "2023-07-07T13:05:12.293Z"
   },
   {
    "duration": 228,
    "start_time": "2023-07-07T13:05:22.591Z"
   },
   {
    "duration": 199,
    "start_time": "2023-07-07T13:05:28.649Z"
   },
   {
    "duration": 129,
    "start_time": "2023-07-07T13:05:33.486Z"
   },
   {
    "duration": 291,
    "start_time": "2023-07-07T13:05:37.303Z"
   },
   {
    "duration": 177,
    "start_time": "2023-07-07T13:05:41.081Z"
   },
   {
    "duration": 134,
    "start_time": "2023-07-07T13:05:45.957Z"
   },
   {
    "duration": 290,
    "start_time": "2023-07-07T13:05:53.805Z"
   },
   {
    "duration": 280,
    "start_time": "2023-07-07T13:06:00.093Z"
   },
   {
    "duration": 300,
    "start_time": "2023-07-07T13:06:05.397Z"
   },
   {
    "duration": 301,
    "start_time": "2023-07-07T13:06:19.117Z"
   },
   {
    "duration": 817,
    "start_time": "2023-07-07T13:06:42.119Z"
   },
   {
    "duration": 33,
    "start_time": "2023-07-07T13:06:42.939Z"
   },
   {
    "duration": 32,
    "start_time": "2023-07-07T13:06:42.974Z"
   },
   {
    "duration": 2094,
    "start_time": "2023-07-07T13:06:43.009Z"
   },
   {
    "duration": 10,
    "start_time": "2023-07-07T13:06:45.105Z"
   },
   {
    "duration": 21,
    "start_time": "2023-07-07T13:06:45.116Z"
   },
   {
    "duration": 16,
    "start_time": "2023-07-07T13:06:45.139Z"
   },
   {
    "duration": 178,
    "start_time": "2023-07-07T13:06:45.156Z"
   },
   {
    "duration": 6,
    "start_time": "2023-07-07T13:06:45.336Z"
   },
   {
    "duration": 126,
    "start_time": "2023-07-07T13:06:45.345Z"
   },
   {
    "duration": 15,
    "start_time": "2023-07-07T13:06:45.473Z"
   },
   {
    "duration": 48,
    "start_time": "2023-07-07T13:06:45.490Z"
   },
   {
    "duration": 39,
    "start_time": "2023-07-07T13:06:45.540Z"
   },
   {
    "duration": 19,
    "start_time": "2023-07-07T13:06:45.580Z"
   },
   {
    "duration": 16,
    "start_time": "2023-07-07T13:06:45.601Z"
   },
   {
    "duration": 49,
    "start_time": "2023-07-07T13:06:45.619Z"
   },
   {
    "duration": 42,
    "start_time": "2023-07-07T13:06:45.670Z"
   },
   {
    "duration": 5,
    "start_time": "2023-07-07T13:06:45.714Z"
   },
   {
    "duration": 82,
    "start_time": "2023-07-07T13:06:45.721Z"
   },
   {
    "duration": 5,
    "start_time": "2023-07-07T13:06:45.805Z"
   },
   {
    "duration": 157,
    "start_time": "2023-07-07T13:06:45.812Z"
   },
   {
    "duration": 9,
    "start_time": "2023-07-07T13:06:45.971Z"
   },
   {
    "duration": 34,
    "start_time": "2023-07-07T13:06:45.981Z"
   },
   {
    "duration": 167,
    "start_time": "2023-07-07T13:06:46.016Z"
   },
   {
    "duration": 4,
    "start_time": "2023-07-07T13:06:46.185Z"
   },
   {
    "duration": 21,
    "start_time": "2023-07-07T13:06:46.201Z"
   },
   {
    "duration": 42,
    "start_time": "2023-07-07T13:06:46.223Z"
   },
   {
    "duration": 40,
    "start_time": "2023-07-07T13:06:46.270Z"
   },
   {
    "duration": 11,
    "start_time": "2023-07-07T13:06:46.311Z"
   },
   {
    "duration": 51,
    "start_time": "2023-07-07T13:06:46.323Z"
   },
   {
    "duration": 151,
    "start_time": "2023-07-07T13:06:46.376Z"
   },
   {
    "duration": 11,
    "start_time": "2023-07-07T13:06:46.529Z"
   },
   {
    "duration": 526,
    "start_time": "2023-07-07T13:06:46.541Z"
   },
   {
    "duration": 202,
    "start_time": "2023-07-07T13:06:47.069Z"
   },
   {
    "duration": 186,
    "start_time": "2023-07-07T13:06:47.273Z"
   },
   {
    "duration": 177,
    "start_time": "2023-07-07T13:06:47.461Z"
   },
   {
    "duration": 201,
    "start_time": "2023-07-07T13:06:47.640Z"
   },
   {
    "duration": 202,
    "start_time": "2023-07-07T13:06:47.842Z"
   },
   {
    "duration": 190,
    "start_time": "2023-07-07T13:06:48.045Z"
   },
   {
    "duration": 185,
    "start_time": "2023-07-07T13:06:48.237Z"
   },
   {
    "duration": 160,
    "start_time": "2023-07-07T13:06:48.424Z"
   },
   {
    "duration": 17,
    "start_time": "2023-07-07T13:06:48.585Z"
   },
   {
    "duration": 180,
    "start_time": "2023-07-07T13:06:48.604Z"
   },
   {
    "duration": 207,
    "start_time": "2023-07-07T13:06:48.786Z"
   },
   {
    "duration": 296,
    "start_time": "2023-07-07T13:06:48.995Z"
   },
   {
    "duration": 184,
    "start_time": "2023-07-07T13:06:49.293Z"
   },
   {
    "duration": 170,
    "start_time": "2023-07-07T13:06:49.478Z"
   },
   {
    "duration": 154,
    "start_time": "2023-07-07T13:06:49.650Z"
   },
   {
    "duration": 197,
    "start_time": "2023-07-07T13:06:49.806Z"
   },
   {
    "duration": 6,
    "start_time": "2023-07-07T13:06:50.005Z"
   },
   {
    "duration": 29,
    "start_time": "2023-07-07T13:06:50.013Z"
   },
   {
    "duration": 251,
    "start_time": "2023-07-07T13:06:50.043Z"
   },
   {
    "duration": 282,
    "start_time": "2023-07-07T13:06:50.296Z"
   },
   {
    "duration": 266,
    "start_time": "2023-07-07T13:06:50.580Z"
   },
   {
    "duration": 191,
    "start_time": "2023-07-07T13:06:50.848Z"
   },
   {
    "duration": 131,
    "start_time": "2023-07-07T13:06:51.041Z"
   },
   {
    "duration": 152,
    "start_time": "2023-07-07T13:06:51.173Z"
   },
   {
    "duration": 175,
    "start_time": "2023-07-07T13:06:51.327Z"
   },
   {
    "duration": 160,
    "start_time": "2023-07-07T13:06:51.504Z"
   },
   {
    "duration": 8,
    "start_time": "2023-07-07T13:06:51.666Z"
   },
   {
    "duration": 41,
    "start_time": "2023-07-07T13:06:51.675Z"
   },
   {
    "duration": 9,
    "start_time": "2023-07-07T13:06:51.718Z"
   },
   {
    "duration": 320,
    "start_time": "2023-07-07T13:06:51.729Z"
   },
   {
    "duration": 836,
    "start_time": "2023-07-07T14:09:39.994Z"
   },
   {
    "duration": 11,
    "start_time": "2023-07-07T14:09:40.833Z"
   },
   {
    "duration": 24,
    "start_time": "2023-07-07T14:09:40.845Z"
   },
   {
    "duration": 86,
    "start_time": "2023-07-07T14:09:40.871Z"
   },
   {
    "duration": 0,
    "start_time": "2023-07-07T14:09:40.960Z"
   },
   {
    "duration": 0,
    "start_time": "2023-07-07T14:09:40.962Z"
   },
   {
    "duration": 0,
    "start_time": "2023-07-07T14:09:40.963Z"
   },
   {
    "duration": 0,
    "start_time": "2023-07-07T14:09:40.968Z"
   },
   {
    "duration": 0,
    "start_time": "2023-07-07T14:09:40.970Z"
   },
   {
    "duration": 0,
    "start_time": "2023-07-07T14:09:40.971Z"
   },
   {
    "duration": 0,
    "start_time": "2023-07-07T14:09:40.972Z"
   },
   {
    "duration": 0,
    "start_time": "2023-07-07T14:09:40.973Z"
   },
   {
    "duration": 0,
    "start_time": "2023-07-07T14:09:40.974Z"
   },
   {
    "duration": 0,
    "start_time": "2023-07-07T14:09:40.975Z"
   },
   {
    "duration": 0,
    "start_time": "2023-07-07T14:09:40.976Z"
   },
   {
    "duration": 0,
    "start_time": "2023-07-07T14:09:40.977Z"
   },
   {
    "duration": 0,
    "start_time": "2023-07-07T14:09:40.978Z"
   },
   {
    "duration": 0,
    "start_time": "2023-07-07T14:09:40.979Z"
   },
   {
    "duration": 0,
    "start_time": "2023-07-07T14:09:40.980Z"
   },
   {
    "duration": 0,
    "start_time": "2023-07-07T14:09:40.981Z"
   },
   {
    "duration": 0,
    "start_time": "2023-07-07T14:09:40.982Z"
   },
   {
    "duration": 0,
    "start_time": "2023-07-07T14:09:40.983Z"
   },
   {
    "duration": 0,
    "start_time": "2023-07-07T14:09:40.984Z"
   },
   {
    "duration": 0,
    "start_time": "2023-07-07T14:09:40.985Z"
   },
   {
    "duration": 0,
    "start_time": "2023-07-07T14:09:40.986Z"
   },
   {
    "duration": 0,
    "start_time": "2023-07-07T14:09:40.987Z"
   },
   {
    "duration": 0,
    "start_time": "2023-07-07T14:09:40.988Z"
   },
   {
    "duration": 0,
    "start_time": "2023-07-07T14:09:40.989Z"
   },
   {
    "duration": 0,
    "start_time": "2023-07-07T14:09:40.990Z"
   },
   {
    "duration": 0,
    "start_time": "2023-07-07T14:09:40.991Z"
   },
   {
    "duration": 0,
    "start_time": "2023-07-07T14:09:40.992Z"
   },
   {
    "duration": 0,
    "start_time": "2023-07-07T14:09:40.993Z"
   },
   {
    "duration": 0,
    "start_time": "2023-07-07T14:09:40.994Z"
   },
   {
    "duration": 0,
    "start_time": "2023-07-07T14:09:40.995Z"
   },
   {
    "duration": 0,
    "start_time": "2023-07-07T14:09:40.995Z"
   },
   {
    "duration": 0,
    "start_time": "2023-07-07T14:09:40.996Z"
   },
   {
    "duration": 0,
    "start_time": "2023-07-07T14:09:40.997Z"
   },
   {
    "duration": 0,
    "start_time": "2023-07-07T14:09:40.998Z"
   },
   {
    "duration": 0,
    "start_time": "2023-07-07T14:09:40.999Z"
   },
   {
    "duration": 0,
    "start_time": "2023-07-07T14:09:41.000Z"
   },
   {
    "duration": 0,
    "start_time": "2023-07-07T14:09:41.001Z"
   },
   {
    "duration": 0,
    "start_time": "2023-07-07T14:09:41.002Z"
   },
   {
    "duration": 0,
    "start_time": "2023-07-07T14:09:41.003Z"
   },
   {
    "duration": 0,
    "start_time": "2023-07-07T14:09:41.004Z"
   },
   {
    "duration": 0,
    "start_time": "2023-07-07T14:09:41.005Z"
   },
   {
    "duration": 0,
    "start_time": "2023-07-07T14:09:41.069Z"
   },
   {
    "duration": 0,
    "start_time": "2023-07-07T14:09:41.071Z"
   },
   {
    "duration": 0,
    "start_time": "2023-07-07T14:09:41.072Z"
   },
   {
    "duration": 0,
    "start_time": "2023-07-07T14:09:41.074Z"
   },
   {
    "duration": 0,
    "start_time": "2023-07-07T14:09:41.075Z"
   },
   {
    "duration": 0,
    "start_time": "2023-07-07T14:09:41.076Z"
   },
   {
    "duration": 0,
    "start_time": "2023-07-07T14:09:41.078Z"
   },
   {
    "duration": 0,
    "start_time": "2023-07-07T14:09:41.079Z"
   },
   {
    "duration": 0,
    "start_time": "2023-07-07T14:09:41.080Z"
   },
   {
    "duration": 0,
    "start_time": "2023-07-07T14:09:41.082Z"
   },
   {
    "duration": 0,
    "start_time": "2023-07-07T14:09:41.083Z"
   },
   {
    "duration": 0,
    "start_time": "2023-07-07T14:09:41.084Z"
   },
   {
    "duration": 0,
    "start_time": "2023-07-07T14:09:41.085Z"
   },
   {
    "duration": 0,
    "start_time": "2023-07-07T14:09:41.086Z"
   },
   {
    "duration": 0,
    "start_time": "2023-07-07T14:09:41.087Z"
   },
   {
    "duration": 0,
    "start_time": "2023-07-07T14:09:41.088Z"
   },
   {
    "duration": 0,
    "start_time": "2023-07-07T14:09:41.089Z"
   },
   {
    "duration": 0,
    "start_time": "2023-07-07T14:09:41.090Z"
   },
   {
    "duration": 832,
    "start_time": "2023-07-07T14:10:01.562Z"
   },
   {
    "duration": 40,
    "start_time": "2023-07-07T14:10:02.397Z"
   },
   {
    "duration": 35,
    "start_time": "2023-07-07T14:10:02.440Z"
   },
   {
    "duration": 2032,
    "start_time": "2023-07-07T14:10:02.478Z"
   },
   {
    "duration": 9,
    "start_time": "2023-07-07T14:10:04.513Z"
   },
   {
    "duration": 19,
    "start_time": "2023-07-07T14:10:04.524Z"
   },
   {
    "duration": 4,
    "start_time": "2023-07-07T14:10:04.545Z"
   },
   {
    "duration": 176,
    "start_time": "2023-07-07T14:10:04.551Z"
   },
   {
    "duration": 5,
    "start_time": "2023-07-07T14:10:04.729Z"
   },
   {
    "duration": 125,
    "start_time": "2023-07-07T14:10:04.736Z"
   },
   {
    "duration": 17,
    "start_time": "2023-07-07T14:10:04.863Z"
   },
   {
    "duration": 5,
    "start_time": "2023-07-07T14:10:04.881Z"
   },
   {
    "duration": 17,
    "start_time": "2023-07-07T14:10:04.887Z"
   },
   {
    "duration": 15,
    "start_time": "2023-07-07T14:10:04.907Z"
   },
   {
    "duration": 11,
    "start_time": "2023-07-07T14:10:04.924Z"
   },
   {
    "duration": 59,
    "start_time": "2023-07-07T14:10:04.936Z"
   },
   {
    "duration": 24,
    "start_time": "2023-07-07T14:10:04.998Z"
   },
   {
    "duration": 5,
    "start_time": "2023-07-07T14:10:05.024Z"
   },
   {
    "duration": 84,
    "start_time": "2023-07-07T14:10:05.030Z"
   },
   {
    "duration": 11,
    "start_time": "2023-07-07T14:10:05.116Z"
   },
   {
    "duration": 153,
    "start_time": "2023-07-07T14:10:05.129Z"
   },
   {
    "duration": 9,
    "start_time": "2023-07-07T14:10:05.284Z"
   },
   {
    "duration": 32,
    "start_time": "2023-07-07T14:10:05.295Z"
   },
   {
    "duration": 168,
    "start_time": "2023-07-07T14:10:05.329Z"
   },
   {
    "duration": 5,
    "start_time": "2023-07-07T14:10:05.499Z"
   },
   {
    "duration": 19,
    "start_time": "2023-07-07T14:10:05.507Z"
   },
   {
    "duration": 25,
    "start_time": "2023-07-07T14:10:05.528Z"
   },
   {
    "duration": 35,
    "start_time": "2023-07-07T14:10:05.555Z"
   },
   {
    "duration": 5,
    "start_time": "2023-07-07T14:10:05.592Z"
   },
   {
    "duration": 48,
    "start_time": "2023-07-07T14:10:05.599Z"
   },
   {
    "duration": 139,
    "start_time": "2023-07-07T14:10:05.649Z"
   },
   {
    "duration": 12,
    "start_time": "2023-07-07T14:10:05.791Z"
   },
   {
    "duration": 489,
    "start_time": "2023-07-07T14:10:05.805Z"
   },
   {
    "duration": 192,
    "start_time": "2023-07-07T14:10:06.296Z"
   },
   {
    "duration": 190,
    "start_time": "2023-07-07T14:10:06.490Z"
   },
   {
    "duration": 219,
    "start_time": "2023-07-07T14:10:06.682Z"
   },
   {
    "duration": 248,
    "start_time": "2023-07-07T14:10:06.903Z"
   },
   {
    "duration": 232,
    "start_time": "2023-07-07T14:10:07.153Z"
   },
   {
    "duration": 194,
    "start_time": "2023-07-07T14:10:07.387Z"
   },
   {
    "duration": 190,
    "start_time": "2023-07-07T14:10:07.583Z"
   },
   {
    "duration": 149,
    "start_time": "2023-07-07T14:10:07.778Z"
   },
   {
    "duration": 10,
    "start_time": "2023-07-07T14:10:07.929Z"
   },
   {
    "duration": 191,
    "start_time": "2023-07-07T14:10:07.940Z"
   },
   {
    "duration": 201,
    "start_time": "2023-07-07T14:10:08.133Z"
   },
   {
    "duration": 286,
    "start_time": "2023-07-07T14:10:08.335Z"
   },
   {
    "duration": 203,
    "start_time": "2023-07-07T14:10:08.624Z"
   },
   {
    "duration": 157,
    "start_time": "2023-07-07T14:10:08.829Z"
   },
   {
    "duration": 158,
    "start_time": "2023-07-07T14:10:08.988Z"
   },
   {
    "duration": 185,
    "start_time": "2023-07-07T14:10:09.148Z"
   },
   {
    "duration": 6,
    "start_time": "2023-07-07T14:10:09.335Z"
   },
   {
    "duration": 37,
    "start_time": "2023-07-07T14:10:09.342Z"
   },
   {
    "duration": 259,
    "start_time": "2023-07-07T14:10:09.381Z"
   },
   {
    "duration": 240,
    "start_time": "2023-07-07T14:10:09.642Z"
   },
   {
    "duration": 278,
    "start_time": "2023-07-07T14:10:09.884Z"
   },
   {
    "duration": 186,
    "start_time": "2023-07-07T14:10:10.171Z"
   },
   {
    "duration": 133,
    "start_time": "2023-07-07T14:10:10.359Z"
   },
   {
    "duration": 135,
    "start_time": "2023-07-07T14:10:10.493Z"
   },
   {
    "duration": 164,
    "start_time": "2023-07-07T14:10:10.629Z"
   },
   {
    "duration": 132,
    "start_time": "2023-07-07T14:10:10.795Z"
   },
   {
    "duration": 6,
    "start_time": "2023-07-07T14:10:10.928Z"
   },
   {
    "duration": 40,
    "start_time": "2023-07-07T14:10:10.936Z"
   },
   {
    "duration": 8,
    "start_time": "2023-07-07T14:10:10.977Z"
   },
   {
    "duration": 308,
    "start_time": "2023-07-07T14:10:10.987Z"
   },
   {
    "duration": 14,
    "start_time": "2023-07-07T14:14:10.551Z"
   },
   {
    "duration": 275,
    "start_time": "2023-07-07T14:14:13.838Z"
   },
   {
    "duration": 267,
    "start_time": "2023-07-07T14:14:33.823Z"
   },
   {
    "duration": 109,
    "start_time": "2023-07-07T14:14:38.857Z"
   },
   {
    "duration": 8,
    "start_time": "2023-07-07T14:14:46.674Z"
   },
   {
    "duration": 1248,
    "start_time": "2023-07-08T08:30:55.123Z"
   },
   {
    "duration": 375,
    "start_time": "2023-07-08T08:30:57.243Z"
   },
   {
    "duration": 39,
    "start_time": "2023-07-08T08:31:00.991Z"
   },
   {
    "duration": 17,
    "start_time": "2023-07-08T08:32:22.813Z"
   },
   {
    "duration": 2257,
    "start_time": "2023-07-08T08:32:25.926Z"
   },
   {
    "duration": 4,
    "start_time": "2023-07-08T08:36:54.048Z"
   },
   {
    "duration": 148,
    "start_time": "2023-07-08T08:36:54.055Z"
   },
   {
    "duration": 37,
    "start_time": "2023-07-08T08:36:54.206Z"
   },
   {
    "duration": 60,
    "start_time": "2023-07-08T08:36:54.244Z"
   },
   {
    "duration": 2989,
    "start_time": "2023-07-08T08:36:54.308Z"
   },
   {
    "duration": 24,
    "start_time": "2023-07-08T08:36:57.299Z"
   },
   {
    "duration": 92,
    "start_time": "2023-07-08T08:36:57.325Z"
   },
   {
    "duration": 73,
    "start_time": "2023-07-08T08:36:57.420Z"
   },
   {
    "duration": 281,
    "start_time": "2023-07-08T08:36:57.495Z"
   },
   {
    "duration": 7,
    "start_time": "2023-07-08T08:36:57.778Z"
   },
   {
    "duration": 168,
    "start_time": "2023-07-08T08:36:57.787Z"
   },
   {
    "duration": 23,
    "start_time": "2023-07-08T08:36:57.957Z"
   },
   {
    "duration": 27,
    "start_time": "2023-07-08T08:36:57.984Z"
   },
   {
    "duration": 62,
    "start_time": "2023-07-08T08:36:58.014Z"
   },
   {
    "duration": 9,
    "start_time": "2023-07-08T08:37:07.265Z"
   },
   {
    "duration": 13,
    "start_time": "2023-07-08T08:38:01.039Z"
   },
   {
    "duration": 38,
    "start_time": "2023-07-08T08:38:02.197Z"
   },
   {
    "duration": 26,
    "start_time": "2023-07-08T08:38:18.231Z"
   },
   {
    "duration": 6,
    "start_time": "2023-07-08T08:38:30.999Z"
   },
   {
    "duration": 4,
    "start_time": "2023-07-08T08:42:18.632Z"
   },
   {
    "duration": 76,
    "start_time": "2023-07-08T08:42:43.369Z"
   },
   {
    "duration": 9,
    "start_time": "2023-07-08T08:42:49.927Z"
   },
   {
    "duration": 6,
    "start_time": "2023-07-08T08:42:53.698Z"
   },
   {
    "duration": 71,
    "start_time": "2023-07-08T08:43:25.428Z"
   },
   {
    "duration": 6,
    "start_time": "2023-07-08T08:43:26.683Z"
   },
   {
    "duration": 126,
    "start_time": "2023-07-08T08:45:51.253Z"
   },
   {
    "duration": 156,
    "start_time": "2023-07-08T08:46:35.223Z"
   },
   {
    "duration": 188,
    "start_time": "2023-07-08T08:46:59.528Z"
   },
   {
    "duration": 289,
    "start_time": "2023-07-08T08:47:09.457Z"
   },
   {
    "duration": 168,
    "start_time": "2023-07-08T08:48:51.356Z"
   },
   {
    "duration": 162,
    "start_time": "2023-07-08T08:57:55.333Z"
   },
   {
    "duration": 11,
    "start_time": "2023-07-08T08:58:08.123Z"
   },
   {
    "duration": 119,
    "start_time": "2023-07-08T08:58:18.791Z"
   },
   {
    "duration": 134,
    "start_time": "2023-07-08T08:58:43.125Z"
   },
   {
    "duration": 146,
    "start_time": "2023-07-08T08:58:49.350Z"
   },
   {
    "duration": 9,
    "start_time": "2023-07-08T09:00:29.601Z"
   },
   {
    "duration": 181,
    "start_time": "2023-07-08T09:00:42.928Z"
   },
   {
    "duration": 9,
    "start_time": "2023-07-08T09:01:57.691Z"
   },
   {
    "duration": 171,
    "start_time": "2023-07-08T09:02:03.440Z"
   },
   {
    "duration": 11,
    "start_time": "2023-07-08T09:02:37.372Z"
   },
   {
    "duration": 188,
    "start_time": "2023-07-08T09:02:38.707Z"
   },
   {
    "duration": 191,
    "start_time": "2023-07-08T09:03:30.565Z"
   },
   {
    "duration": 217,
    "start_time": "2023-07-08T09:05:09.301Z"
   },
   {
    "duration": 3,
    "start_time": "2023-07-08T09:05:14.541Z"
   },
   {
    "duration": 124,
    "start_time": "2023-07-08T09:05:14.547Z"
   },
   {
    "duration": 24,
    "start_time": "2023-07-08T09:05:14.673Z"
   },
   {
    "duration": 16,
    "start_time": "2023-07-08T09:05:14.710Z"
   },
   {
    "duration": 2259,
    "start_time": "2023-07-08T09:05:14.728Z"
   },
   {
    "duration": 20,
    "start_time": "2023-07-08T09:05:16.989Z"
   },
   {
    "duration": 12,
    "start_time": "2023-07-08T09:05:17.011Z"
   },
   {
    "duration": 4,
    "start_time": "2023-07-08T09:05:17.025Z"
   },
   {
    "duration": 186,
    "start_time": "2023-07-08T09:05:17.032Z"
   },
   {
    "duration": 5,
    "start_time": "2023-07-08T09:05:17.220Z"
   },
   {
    "duration": 133,
    "start_time": "2023-07-08T09:05:17.227Z"
   },
   {
    "duration": 15,
    "start_time": "2023-07-08T09:05:17.362Z"
   },
   {
    "duration": 43,
    "start_time": "2023-07-08T09:05:17.379Z"
   },
   {
    "duration": 71,
    "start_time": "2023-07-08T09:05:17.424Z"
   },
   {
    "duration": 14,
    "start_time": "2023-07-08T09:05:17.497Z"
   },
   {
    "duration": 32,
    "start_time": "2023-07-08T09:05:17.512Z"
   },
   {
    "duration": 61,
    "start_time": "2023-07-08T09:05:17.546Z"
   },
   {
    "duration": 30,
    "start_time": "2023-07-08T09:05:17.609Z"
   },
   {
    "duration": 49,
    "start_time": "2023-07-08T09:05:17.641Z"
   },
   {
    "duration": 85,
    "start_time": "2023-07-08T09:05:17.692Z"
   },
   {
    "duration": 6,
    "start_time": "2023-07-08T09:05:17.779Z"
   },
   {
    "duration": 198,
    "start_time": "2023-07-08T09:05:17.787Z"
   },
   {
    "duration": 10,
    "start_time": "2023-07-08T09:05:17.987Z"
   },
   {
    "duration": 78,
    "start_time": "2023-07-08T09:05:18.008Z"
   },
   {
    "duration": 300,
    "start_time": "2023-07-08T09:05:18.088Z"
   },
   {
    "duration": 4,
    "start_time": "2023-07-08T09:05:18.390Z"
   },
   {
    "duration": 22,
    "start_time": "2023-07-08T09:05:18.396Z"
   },
   {
    "duration": 8,
    "start_time": "2023-07-08T09:05:18.419Z"
   },
   {
    "duration": 31,
    "start_time": "2023-07-08T09:05:18.428Z"
   },
   {
    "duration": 5,
    "start_time": "2023-07-08T09:05:18.461Z"
   },
   {
    "duration": 48,
    "start_time": "2023-07-08T09:05:18.468Z"
   },
   {
    "duration": 158,
    "start_time": "2023-07-08T09:05:18.517Z"
   },
   {
    "duration": 10,
    "start_time": "2023-07-08T09:05:18.677Z"
   },
   {
    "duration": 200,
    "start_time": "2023-07-08T09:05:18.688Z"
   },
   {
    "duration": 9,
    "start_time": "2023-07-08T09:05:18.890Z"
   },
   {
    "duration": 183,
    "start_time": "2023-07-08T09:05:18.910Z"
   },
   {
    "duration": 235,
    "start_time": "2023-07-08T09:05:19.095Z"
   },
   {
    "duration": 445,
    "start_time": "2023-07-08T09:05:19.332Z"
   },
   {
    "duration": 222,
    "start_time": "2023-07-08T09:05:19.778Z"
   },
   {
    "duration": 193,
    "start_time": "2023-07-08T09:05:20.003Z"
   },
   {
    "duration": 184,
    "start_time": "2023-07-08T09:05:20.198Z"
   },
   {
    "duration": 314,
    "start_time": "2023-07-08T09:05:20.384Z"
   },
   {
    "duration": 218,
    "start_time": "2023-07-08T09:05:20.699Z"
   },
   {
    "duration": 206,
    "start_time": "2023-07-08T09:05:20.918Z"
   },
   {
    "duration": 190,
    "start_time": "2023-07-08T09:05:21.126Z"
   },
   {
    "duration": 159,
    "start_time": "2023-07-08T09:05:21.318Z"
   },
   {
    "duration": 8,
    "start_time": "2023-07-08T09:05:21.479Z"
   },
   {
    "duration": 197,
    "start_time": "2023-07-08T09:05:21.489Z"
   },
   {
    "duration": 207,
    "start_time": "2023-07-08T09:05:21.688Z"
   },
   {
    "duration": 194,
    "start_time": "2023-07-08T09:05:21.897Z"
   },
   {
    "duration": 188,
    "start_time": "2023-07-08T09:05:22.093Z"
   },
   {
    "duration": 171,
    "start_time": "2023-07-08T09:05:22.283Z"
   },
   {
    "duration": 158,
    "start_time": "2023-07-08T09:05:22.455Z"
   },
   {
    "duration": 117,
    "start_time": "2023-07-08T09:06:19.643Z"
   },
   {
    "duration": 375,
    "start_time": "2023-07-08T09:06:25.702Z"
   },
   {
    "duration": 154,
    "start_time": "2023-07-08T09:06:44.020Z"
   },
   {
    "duration": 183,
    "start_time": "2023-07-08T09:07:41.172Z"
   },
   {
    "duration": 173,
    "start_time": "2023-07-08T09:08:00.962Z"
   },
   {
    "duration": 271,
    "start_time": "2023-07-08T09:08:11.963Z"
   },
   {
    "duration": 203,
    "start_time": "2023-07-08T09:08:22.117Z"
   },
   {
    "duration": 175,
    "start_time": "2023-07-08T09:11:04.936Z"
   },
   {
    "duration": 19,
    "start_time": "2023-07-08T09:20:54.254Z"
   },
   {
    "duration": 28,
    "start_time": "2023-07-08T09:23:22.920Z"
   },
   {
    "duration": 34,
    "start_time": "2023-07-08T09:23:29.698Z"
   },
   {
    "duration": 233,
    "start_time": "2023-07-08T09:24:03.574Z"
   },
   {
    "duration": 208,
    "start_time": "2023-07-08T09:24:26.319Z"
   },
   {
    "duration": 23,
    "start_time": "2023-07-08T09:24:47.643Z"
   },
   {
    "duration": 38,
    "start_time": "2023-07-08T09:24:51.599Z"
   },
   {
    "duration": 24,
    "start_time": "2023-07-08T09:25:10.738Z"
   },
   {
    "duration": 1346,
    "start_time": "2023-07-08T09:25:23.302Z"
   },
   {
    "duration": 5,
    "start_time": "2023-07-08T09:25:38.352Z"
   },
   {
    "duration": 13,
    "start_time": "2023-07-08T09:25:50.551Z"
   },
   {
    "duration": 205,
    "start_time": "2023-07-08T09:26:04.892Z"
   },
   {
    "duration": 181,
    "start_time": "2023-07-08T09:26:38.082Z"
   },
   {
    "duration": 33,
    "start_time": "2023-07-08T09:26:55.911Z"
   },
   {
    "duration": 25,
    "start_time": "2023-07-08T09:27:34.671Z"
   },
   {
    "duration": 12,
    "start_time": "2023-07-08T09:27:50.327Z"
   },
   {
    "duration": 12,
    "start_time": "2023-07-08T09:28:04.705Z"
   },
   {
    "duration": 6581,
    "start_time": "2023-07-08T09:28:19.379Z"
   },
   {
    "duration": 239,
    "start_time": "2023-07-08T09:28:42.146Z"
   },
   {
    "duration": 10,
    "start_time": "2023-07-08T09:29:33.719Z"
   },
   {
    "duration": 15,
    "start_time": "2023-07-08T09:29:49.906Z"
   },
   {
    "duration": 365,
    "start_time": "2023-07-08T09:36:45.859Z"
   },
   {
    "duration": 671,
    "start_time": "2023-07-08T09:37:25.419Z"
   },
   {
    "duration": 217,
    "start_time": "2023-07-08T09:37:33.904Z"
   },
   {
    "duration": 762,
    "start_time": "2023-07-08T09:37:44.404Z"
   },
   {
    "duration": 101,
    "start_time": "2023-07-08T09:37:45.168Z"
   },
   {
    "duration": 27,
    "start_time": "2023-07-08T09:37:45.271Z"
   },
   {
    "duration": 34,
    "start_time": "2023-07-08T09:37:45.300Z"
   },
   {
    "duration": 2385,
    "start_time": "2023-07-08T09:37:45.338Z"
   },
   {
    "duration": 10,
    "start_time": "2023-07-08T09:37:47.725Z"
   },
   {
    "duration": 22,
    "start_time": "2023-07-08T09:37:47.737Z"
   },
   {
    "duration": 23,
    "start_time": "2023-07-08T09:37:47.761Z"
   },
   {
    "duration": 227,
    "start_time": "2023-07-08T09:37:47.786Z"
   },
   {
    "duration": 7,
    "start_time": "2023-07-08T09:37:48.015Z"
   },
   {
    "duration": 146,
    "start_time": "2023-07-08T09:37:48.024Z"
   },
   {
    "duration": 15,
    "start_time": "2023-07-08T09:37:48.173Z"
   },
   {
    "duration": 52,
    "start_time": "2023-07-08T09:37:48.191Z"
   },
   {
    "duration": 35,
    "start_time": "2023-07-08T09:37:48.247Z"
   },
   {
    "duration": 15,
    "start_time": "2023-07-08T09:37:48.284Z"
   },
   {
    "duration": 26,
    "start_time": "2023-07-08T09:37:48.300Z"
   },
   {
    "duration": 52,
    "start_time": "2023-07-08T09:37:48.327Z"
   },
   {
    "duration": 25,
    "start_time": "2023-07-08T09:37:48.381Z"
   },
   {
    "duration": 11,
    "start_time": "2023-07-08T09:37:48.409Z"
   },
   {
    "duration": 85,
    "start_time": "2023-07-08T09:37:48.422Z"
   },
   {
    "duration": 28,
    "start_time": "2023-07-08T09:37:48.509Z"
   },
   {
    "duration": 178,
    "start_time": "2023-07-08T09:37:48.539Z"
   },
   {
    "duration": 10,
    "start_time": "2023-07-08T09:37:48.721Z"
   },
   {
    "duration": 28,
    "start_time": "2023-07-08T09:37:48.733Z"
   },
   {
    "duration": 201,
    "start_time": "2023-07-08T09:37:48.763Z"
   },
   {
    "duration": 5,
    "start_time": "2023-07-08T09:37:48.967Z"
   },
   {
    "duration": 46,
    "start_time": "2023-07-08T09:37:48.973Z"
   },
   {
    "duration": 13,
    "start_time": "2023-07-08T09:37:49.025Z"
   },
   {
    "duration": 33,
    "start_time": "2023-07-08T09:37:49.040Z"
   },
   {
    "duration": 20,
    "start_time": "2023-07-08T09:37:49.075Z"
   },
   {
    "duration": 84,
    "start_time": "2023-07-08T09:37:49.097Z"
   },
   {
    "duration": 186,
    "start_time": "2023-07-08T09:37:49.183Z"
   },
   {
    "duration": 12,
    "start_time": "2023-07-08T09:37:49.371Z"
   },
   {
    "duration": 297,
    "start_time": "2023-07-08T09:37:49.386Z"
   },
   {
    "duration": 10,
    "start_time": "2023-07-08T09:37:49.686Z"
   },
   {
    "duration": 223,
    "start_time": "2023-07-08T09:37:49.698Z"
   },
   {
    "duration": 410,
    "start_time": "2023-07-08T09:37:49.924Z"
   },
   {
    "duration": 447,
    "start_time": "2023-07-08T09:37:50.336Z"
   },
   {
    "duration": 240,
    "start_time": "2023-07-08T09:37:50.786Z"
   },
   {
    "duration": 211,
    "start_time": "2023-07-08T09:37:51.027Z"
   },
   {
    "duration": 215,
    "start_time": "2023-07-08T09:37:51.242Z"
   },
   {
    "duration": 213,
    "start_time": "2023-07-08T09:37:51.459Z"
   },
   {
    "duration": 251,
    "start_time": "2023-07-08T09:37:51.674Z"
   },
   {
    "duration": 204,
    "start_time": "2023-07-08T09:37:51.928Z"
   },
   {
    "duration": 196,
    "start_time": "2023-07-08T09:37:52.134Z"
   },
   {
    "duration": 256,
    "start_time": "2023-07-08T09:37:52.332Z"
   },
   {
    "duration": 8,
    "start_time": "2023-07-08T09:37:52.589Z"
   },
   {
    "duration": 223,
    "start_time": "2023-07-08T09:37:52.599Z"
   },
   {
    "duration": 211,
    "start_time": "2023-07-08T09:37:52.824Z"
   },
   {
    "duration": 194,
    "start_time": "2023-07-08T09:37:53.037Z"
   },
   {
    "duration": 198,
    "start_time": "2023-07-08T09:37:53.233Z"
   },
   {
    "duration": 188,
    "start_time": "2023-07-08T09:37:53.433Z"
   },
   {
    "duration": 157,
    "start_time": "2023-07-08T09:37:53.622Z"
   },
   {
    "duration": 218,
    "start_time": "2023-07-08T09:37:53.781Z"
   },
   {
    "duration": 171,
    "start_time": "2023-07-08T09:37:54.001Z"
   },
   {
    "duration": 6,
    "start_time": "2023-07-08T09:37:54.174Z"
   },
   {
    "duration": 42,
    "start_time": "2023-07-08T09:37:54.181Z"
   },
   {
    "duration": 249,
    "start_time": "2023-07-08T09:37:54.225Z"
   },
   {
    "duration": 271,
    "start_time": "2023-07-08T09:37:54.476Z"
   },
   {
    "duration": 349,
    "start_time": "2023-07-08T09:37:54.749Z"
   },
   {
    "duration": 227,
    "start_time": "2023-07-08T09:37:55.100Z"
   },
   {
    "duration": 132,
    "start_time": "2023-07-08T09:37:55.329Z"
   },
   {
    "duration": 163,
    "start_time": "2023-07-08T09:37:55.462Z"
   },
   {
    "duration": 196,
    "start_time": "2023-07-08T09:37:55.628Z"
   },
   {
    "duration": 199,
    "start_time": "2023-07-08T09:37:55.826Z"
   },
   {
    "duration": 9,
    "start_time": "2023-07-08T09:37:56.027Z"
   },
   {
    "duration": 66,
    "start_time": "2023-07-08T09:37:56.038Z"
   },
   {
    "duration": 18,
    "start_time": "2023-07-08T09:37:56.106Z"
   },
   {
    "duration": 216,
    "start_time": "2023-07-08T09:37:56.130Z"
   },
   {
    "duration": 315,
    "start_time": "2023-07-08T09:37:56.349Z"
   },
   {
    "duration": 9,
    "start_time": "2023-07-08T09:43:17.332Z"
   },
   {
    "duration": 193,
    "start_time": "2023-07-08T09:43:26.806Z"
   },
   {
    "duration": 216,
    "start_time": "2023-07-08T09:43:54.979Z"
   },
   {
    "duration": 197,
    "start_time": "2023-07-08T09:44:01.587Z"
   },
   {
    "duration": 231,
    "start_time": "2023-07-08T09:44:08.825Z"
   },
   {
    "duration": 709,
    "start_time": "2023-07-08T09:44:32.430Z"
   },
   {
    "duration": 105,
    "start_time": "2023-07-08T09:44:33.141Z"
   },
   {
    "duration": 27,
    "start_time": "2023-07-08T09:44:33.248Z"
   },
   {
    "duration": 36,
    "start_time": "2023-07-08T09:44:33.277Z"
   },
   {
    "duration": 2187,
    "start_time": "2023-07-08T09:44:33.316Z"
   },
   {
    "duration": 16,
    "start_time": "2023-07-08T09:44:35.505Z"
   },
   {
    "duration": 32,
    "start_time": "2023-07-08T09:44:35.523Z"
   },
   {
    "duration": 6,
    "start_time": "2023-07-08T09:44:35.557Z"
   },
   {
    "duration": 211,
    "start_time": "2023-07-08T09:44:35.565Z"
   },
   {
    "duration": 8,
    "start_time": "2023-07-08T09:44:35.778Z"
   },
   {
    "duration": 153,
    "start_time": "2023-07-08T09:44:35.790Z"
   },
   {
    "duration": 21,
    "start_time": "2023-07-08T09:44:35.945Z"
   },
   {
    "duration": 21,
    "start_time": "2023-07-08T09:44:35.968Z"
   },
   {
    "duration": 58,
    "start_time": "2023-07-08T09:44:35.993Z"
   },
   {
    "duration": 15,
    "start_time": "2023-07-08T09:44:36.053Z"
   },
   {
    "duration": 10,
    "start_time": "2023-07-08T09:44:36.070Z"
   },
   {
    "duration": 44,
    "start_time": "2023-07-08T09:44:36.082Z"
   },
   {
    "duration": 27,
    "start_time": "2023-07-08T09:44:36.129Z"
   },
   {
    "duration": 7,
    "start_time": "2023-07-08T09:44:36.158Z"
   },
   {
    "duration": 90,
    "start_time": "2023-07-08T09:44:36.167Z"
   },
   {
    "duration": 8,
    "start_time": "2023-07-08T09:44:36.259Z"
   },
   {
    "duration": 176,
    "start_time": "2023-07-08T09:44:36.269Z"
   },
   {
    "duration": 10,
    "start_time": "2023-07-08T09:44:36.448Z"
   },
   {
    "duration": 56,
    "start_time": "2023-07-08T09:44:36.460Z"
   },
   {
    "duration": 173,
    "start_time": "2023-07-08T09:44:36.522Z"
   },
   {
    "duration": 4,
    "start_time": "2023-07-08T09:44:36.697Z"
   },
   {
    "duration": 45,
    "start_time": "2023-07-08T09:44:36.711Z"
   },
   {
    "duration": 96,
    "start_time": "2023-07-08T09:44:36.758Z"
   },
   {
    "duration": 36,
    "start_time": "2023-07-08T09:44:36.856Z"
   },
   {
    "duration": 30,
    "start_time": "2023-07-08T09:44:36.893Z"
   },
   {
    "duration": 26,
    "start_time": "2023-07-08T09:44:36.925Z"
   },
   {
    "duration": 164,
    "start_time": "2023-07-08T09:44:36.953Z"
   },
   {
    "duration": 10,
    "start_time": "2023-07-08T09:44:37.123Z"
   },
   {
    "duration": 191,
    "start_time": "2023-07-08T09:44:37.135Z"
   },
   {
    "duration": 11,
    "start_time": "2023-07-08T09:44:37.328Z"
   },
   {
    "duration": 200,
    "start_time": "2023-07-08T09:44:37.341Z"
   },
   {
    "duration": 390,
    "start_time": "2023-07-08T09:44:37.543Z"
   },
   {
    "duration": 422,
    "start_time": "2023-07-08T09:44:37.934Z"
   },
   {
    "duration": 216,
    "start_time": "2023-07-08T09:44:38.358Z"
   },
   {
    "duration": 204,
    "start_time": "2023-07-08T09:44:38.576Z"
   },
   {
    "duration": 196,
    "start_time": "2023-07-08T09:44:38.785Z"
   },
   {
    "duration": 217,
    "start_time": "2023-07-08T09:44:38.983Z"
   },
   {
    "duration": 238,
    "start_time": "2023-07-08T09:44:39.202Z"
   },
   {
    "duration": 225,
    "start_time": "2023-07-08T09:44:39.442Z"
   },
   {
    "duration": 201,
    "start_time": "2023-07-08T09:44:39.669Z"
   },
   {
    "duration": 286,
    "start_time": "2023-07-08T09:44:39.872Z"
   },
   {
    "duration": 8,
    "start_time": "2023-07-08T09:44:40.160Z"
   },
   {
    "duration": 212,
    "start_time": "2023-07-08T09:44:40.170Z"
   },
   {
    "duration": 216,
    "start_time": "2023-07-08T09:44:40.384Z"
   },
   {
    "duration": 189,
    "start_time": "2023-07-08T09:44:40.602Z"
   },
   {
    "duration": 202,
    "start_time": "2023-07-08T09:44:40.793Z"
   },
   {
    "duration": 176,
    "start_time": "2023-07-08T09:44:40.997Z"
   },
   {
    "duration": 164,
    "start_time": "2023-07-08T09:44:41.175Z"
   },
   {
    "duration": 209,
    "start_time": "2023-07-08T09:44:41.341Z"
   },
   {
    "duration": 183,
    "start_time": "2023-07-08T09:44:41.552Z"
   },
   {
    "duration": 7,
    "start_time": "2023-07-08T09:44:41.736Z"
   },
   {
    "duration": 35,
    "start_time": "2023-07-08T09:44:41.744Z"
   },
   {
    "duration": 276,
    "start_time": "2023-07-08T09:44:41.781Z"
   },
   {
    "duration": 265,
    "start_time": "2023-07-08T09:44:42.058Z"
   },
   {
    "duration": 350,
    "start_time": "2023-07-08T09:44:42.325Z"
   },
   {
    "duration": 200,
    "start_time": "2023-07-08T09:44:42.677Z"
   },
   {
    "duration": 149,
    "start_time": "2023-07-08T09:44:42.879Z"
   },
   {
    "duration": 160,
    "start_time": "2023-07-08T09:44:43.029Z"
   },
   {
    "duration": 187,
    "start_time": "2023-07-08T09:44:43.191Z"
   },
   {
    "duration": 159,
    "start_time": "2023-07-08T09:44:43.380Z"
   },
   {
    "duration": 7,
    "start_time": "2023-07-08T09:44:43.540Z"
   },
   {
    "duration": 31,
    "start_time": "2023-07-08T09:44:43.549Z"
   },
   {
    "duration": 38,
    "start_time": "2023-07-08T09:44:43.582Z"
   },
   {
    "duration": 204,
    "start_time": "2023-07-08T09:44:43.623Z"
   },
   {
    "duration": 326,
    "start_time": "2023-07-08T09:44:43.829Z"
   },
   {
    "duration": 1136,
    "start_time": "2023-07-08T14:09:48.574Z"
   },
   {
    "duration": 216,
    "start_time": "2023-07-08T14:09:49.767Z"
   },
   {
    "duration": 28,
    "start_time": "2023-07-08T14:09:49.985Z"
   },
   {
    "duration": 71,
    "start_time": "2023-07-08T14:09:50.015Z"
   },
   {
    "duration": 2153,
    "start_time": "2023-07-08T14:09:50.089Z"
   },
   {
    "duration": 10,
    "start_time": "2023-07-08T14:09:52.244Z"
   },
   {
    "duration": 20,
    "start_time": "2023-07-08T14:09:52.256Z"
   },
   {
    "duration": 4,
    "start_time": "2023-07-08T14:09:52.278Z"
   },
   {
    "duration": 175,
    "start_time": "2023-07-08T14:09:52.284Z"
   },
   {
    "duration": 11,
    "start_time": "2023-07-08T14:09:52.460Z"
   },
   {
    "duration": 131,
    "start_time": "2023-07-08T14:09:52.473Z"
   },
   {
    "duration": 15,
    "start_time": "2023-07-08T14:09:52.605Z"
   },
   {
    "duration": 22,
    "start_time": "2023-07-08T14:09:52.622Z"
   },
   {
    "duration": 25,
    "start_time": "2023-07-08T14:09:52.649Z"
   },
   {
    "duration": 13,
    "start_time": "2023-07-08T14:09:52.677Z"
   },
   {
    "duration": 12,
    "start_time": "2023-07-08T14:09:52.692Z"
   },
   {
    "duration": 50,
    "start_time": "2023-07-08T14:09:52.706Z"
   },
   {
    "duration": 29,
    "start_time": "2023-07-08T14:09:52.758Z"
   },
   {
    "duration": 9,
    "start_time": "2023-07-08T14:09:52.789Z"
   },
   {
    "duration": 71,
    "start_time": "2023-07-08T14:09:52.800Z"
   },
   {
    "duration": 6,
    "start_time": "2023-07-08T14:09:52.872Z"
   },
   {
    "duration": 143,
    "start_time": "2023-07-08T14:09:52.879Z"
   },
   {
    "duration": 8,
    "start_time": "2023-07-08T14:09:53.024Z"
   },
   {
    "duration": 55,
    "start_time": "2023-07-08T14:09:53.033Z"
   },
   {
    "duration": 152,
    "start_time": "2023-07-08T14:09:53.090Z"
   },
   {
    "duration": 7,
    "start_time": "2023-07-08T14:09:53.244Z"
   },
   {
    "duration": 18,
    "start_time": "2023-07-08T14:09:53.253Z"
   },
   {
    "duration": 15,
    "start_time": "2023-07-08T14:09:53.272Z"
   },
   {
    "duration": 38,
    "start_time": "2023-07-08T14:09:53.289Z"
   },
   {
    "duration": 5,
    "start_time": "2023-07-08T14:09:53.329Z"
   },
   {
    "duration": 53,
    "start_time": "2023-07-08T14:09:53.336Z"
   },
   {
    "duration": 146,
    "start_time": "2023-07-08T14:09:53.391Z"
   },
   {
    "duration": 8,
    "start_time": "2023-07-08T14:09:53.539Z"
   },
   {
    "duration": 165,
    "start_time": "2023-07-08T14:09:53.549Z"
   },
   {
    "duration": 10,
    "start_time": "2023-07-08T14:09:53.716Z"
   },
   {
    "duration": 165,
    "start_time": "2023-07-08T14:09:53.727Z"
   },
   {
    "duration": 355,
    "start_time": "2023-07-08T14:09:53.894Z"
   },
   {
    "duration": 348,
    "start_time": "2023-07-08T14:09:54.251Z"
   },
   {
    "duration": 167,
    "start_time": "2023-07-08T14:09:54.601Z"
   },
   {
    "duration": 166,
    "start_time": "2023-07-08T14:09:54.770Z"
   },
   {
    "duration": 161,
    "start_time": "2023-07-08T14:09:54.940Z"
   },
   {
    "duration": 163,
    "start_time": "2023-07-08T14:09:55.103Z"
   },
   {
    "duration": 175,
    "start_time": "2023-07-08T14:09:55.267Z"
   },
   {
    "duration": 168,
    "start_time": "2023-07-08T14:09:55.444Z"
   },
   {
    "duration": 165,
    "start_time": "2023-07-08T14:09:55.613Z"
   },
   {
    "duration": 219,
    "start_time": "2023-07-08T14:09:55.780Z"
   },
   {
    "duration": 7,
    "start_time": "2023-07-08T14:09:56.001Z"
   },
   {
    "duration": 177,
    "start_time": "2023-07-08T14:09:56.010Z"
   },
   {
    "duration": 175,
    "start_time": "2023-07-08T14:09:56.188Z"
   },
   {
    "duration": 159,
    "start_time": "2023-07-08T14:09:56.367Z"
   },
   {
    "duration": 156,
    "start_time": "2023-07-08T14:09:56.527Z"
   },
   {
    "duration": 150,
    "start_time": "2023-07-08T14:09:56.684Z"
   },
   {
    "duration": 132,
    "start_time": "2023-07-08T14:09:56.836Z"
   },
   {
    "duration": 159,
    "start_time": "2023-07-08T14:09:56.970Z"
   },
   {
    "duration": 166,
    "start_time": "2023-07-08T14:09:57.131Z"
   },
   {
    "duration": 7,
    "start_time": "2023-07-08T14:09:57.299Z"
   },
   {
    "duration": 22,
    "start_time": "2023-07-08T14:09:57.307Z"
   },
   {
    "duration": 276,
    "start_time": "2023-07-08T14:09:57.331Z"
   },
   {
    "duration": 250,
    "start_time": "2023-07-08T14:09:57.609Z"
   },
   {
    "duration": 312,
    "start_time": "2023-07-08T14:09:57.862Z"
   },
   {
    "duration": 181,
    "start_time": "2023-07-08T14:09:58.175Z"
   },
   {
    "duration": 151,
    "start_time": "2023-07-08T14:09:58.357Z"
   },
   {
    "duration": 144,
    "start_time": "2023-07-08T14:09:58.510Z"
   },
   {
    "duration": 175,
    "start_time": "2023-07-08T14:09:58.657Z"
   },
   {
    "duration": 142,
    "start_time": "2023-07-08T14:09:58.834Z"
   },
   {
    "duration": 6,
    "start_time": "2023-07-08T14:09:58.978Z"
   },
   {
    "duration": 29,
    "start_time": "2023-07-08T14:09:58.985Z"
   },
   {
    "duration": 8,
    "start_time": "2023-07-08T14:09:59.016Z"
   },
   {
    "duration": 215,
    "start_time": "2023-07-08T14:09:59.026Z"
   },
   {
    "duration": 300,
    "start_time": "2023-07-08T14:09:59.243Z"
   },
   {
    "duration": 1568,
    "start_time": "2023-07-19T07:55:44.912Z"
   },
   {
    "duration": 289,
    "start_time": "2023-07-19T07:55:46.482Z"
   },
   {
    "duration": 13,
    "start_time": "2023-07-19T07:55:46.773Z"
   },
   {
    "duration": 24,
    "start_time": "2023-07-19T07:55:46.788Z"
   },
   {
    "duration": 13,
    "start_time": "2023-07-19T07:55:46.815Z"
   },
   {
    "duration": 22,
    "start_time": "2023-07-19T07:55:46.830Z"
   },
   {
    "duration": 10,
    "start_time": "2023-07-19T07:55:46.854Z"
   },
   {
    "duration": 33,
    "start_time": "2023-07-19T07:55:46.865Z"
   },
   {
    "duration": 13,
    "start_time": "2023-07-19T07:55:46.900Z"
   },
   {
    "duration": 11,
    "start_time": "2023-07-19T07:55:46.915Z"
   },
   {
    "duration": 9,
    "start_time": "2023-07-19T07:55:46.927Z"
   },
   {
    "duration": 15,
    "start_time": "2023-07-19T07:55:46.937Z"
   },
   {
    "duration": 6,
    "start_time": "2023-07-19T07:55:46.954Z"
   },
   {
    "duration": 10,
    "start_time": "2023-07-19T07:55:46.965Z"
   },
   {
    "duration": 5,
    "start_time": "2023-07-19T07:55:46.977Z"
   },
   {
    "duration": 40,
    "start_time": "2023-07-19T07:55:46.983Z"
   },
   {
    "duration": 13,
    "start_time": "2023-07-19T07:55:47.025Z"
   },
   {
    "duration": 190,
    "start_time": "2023-07-19T07:55:47.040Z"
   },
   {
    "duration": 7,
    "start_time": "2023-07-19T07:55:47.232Z"
   },
   {
    "duration": 84,
    "start_time": "2023-07-19T07:55:47.241Z"
   },
   {
    "duration": 204,
    "start_time": "2023-07-19T07:55:47.327Z"
   },
   {
    "duration": 117,
    "start_time": "2023-07-19T07:55:47.533Z"
   },
   {
    "duration": 196,
    "start_time": "2023-07-19T07:55:47.651Z"
   },
   {
    "duration": 194,
    "start_time": "2023-07-19T07:55:47.849Z"
   },
   {
    "duration": 29,
    "start_time": "2023-07-19T07:55:48.045Z"
   },
   {
    "duration": 10,
    "start_time": "2023-07-19T07:55:48.075Z"
   },
   {
    "duration": 300,
    "start_time": "2023-07-19T07:55:48.086Z"
   },
   {
    "duration": 344,
    "start_time": "2023-07-19T07:55:48.388Z"
   },
   {
    "duration": 34,
    "start_time": "2023-07-19T07:55:48.734Z"
   },
   {
    "duration": 180,
    "start_time": "2023-07-19T07:55:48.770Z"
   },
   {
    "duration": 3,
    "start_time": "2023-07-19T07:55:48.952Z"
   },
   {
    "duration": 25,
    "start_time": "2023-07-19T07:55:48.957Z"
   },
   {
    "duration": 172,
    "start_time": "2023-07-19T07:55:48.984Z"
   },
   {
    "duration": 5,
    "start_time": "2023-07-19T07:55:49.158Z"
   },
   {
    "duration": 23,
    "start_time": "2023-07-19T07:55:49.164Z"
   },
   {
    "duration": 21,
    "start_time": "2023-07-19T07:55:49.188Z"
   },
   {
    "duration": 239,
    "start_time": "2023-07-19T07:55:49.211Z"
   },
   {
    "duration": 6,
    "start_time": "2023-07-19T07:55:49.452Z"
   },
   {
    "duration": 122,
    "start_time": "2023-07-19T07:55:49.460Z"
   },
   {
    "duration": 201,
    "start_time": "2023-07-19T07:55:49.584Z"
   },
   {
    "duration": 6,
    "start_time": "2023-07-19T07:55:49.789Z"
   },
   {
    "duration": 17,
    "start_time": "2023-07-19T07:55:49.797Z"
   },
   {
    "duration": 163,
    "start_time": "2023-07-19T07:55:49.815Z"
   },
   {
    "duration": 4,
    "start_time": "2023-07-19T07:55:49.980Z"
   },
   {
    "duration": 6,
    "start_time": "2023-07-19T08:05:50.287Z"
   },
   {
    "duration": 8,
    "start_time": "2023-07-19T08:10:20.996Z"
   },
   {
    "duration": 121,
    "start_time": "2023-07-19T08:15:40.224Z"
   },
   {
    "duration": 54,
    "start_time": "2023-07-19T13:27:15.824Z"
   },
   {
    "duration": 1472,
    "start_time": "2023-07-19T13:28:16.177Z"
   },
   {
    "duration": 519,
    "start_time": "2023-07-19T13:28:20.153Z"
   },
   {
    "duration": 13,
    "start_time": "2023-07-19T13:28:21.825Z"
   },
   {
    "duration": 11,
    "start_time": "2023-07-19T13:28:25.128Z"
   },
   {
    "duration": 8,
    "start_time": "2023-07-19T13:28:26.528Z"
   },
   {
    "duration": 13,
    "start_time": "2023-07-19T13:28:26.948Z"
   },
   {
    "duration": 8,
    "start_time": "2023-07-19T13:28:28.505Z"
   },
   {
    "duration": 16,
    "start_time": "2023-07-19T13:28:29.066Z"
   },
   {
    "duration": 6,
    "start_time": "2023-07-19T13:28:35.176Z"
   },
   {
    "duration": 8,
    "start_time": "2023-07-19T13:28:35.717Z"
   },
   {
    "duration": 6,
    "start_time": "2023-07-19T13:28:36.355Z"
   },
   {
    "duration": 11,
    "start_time": "2023-07-19T13:28:38.875Z"
   },
   {
    "duration": 7,
    "start_time": "2023-07-19T13:28:41.375Z"
   },
   {
    "duration": 9,
    "start_time": "2023-07-19T13:28:55.373Z"
   },
   {
    "duration": 8,
    "start_time": "2023-07-19T13:29:05.656Z"
   },
   {
    "duration": 10,
    "start_time": "2023-07-19T13:31:28.830Z"
   },
   {
    "duration": 5,
    "start_time": "2023-07-19T13:31:33.935Z"
   },
   {
    "duration": 9,
    "start_time": "2023-07-19T13:31:34.804Z"
   },
   {
    "duration": 11,
    "start_time": "2023-07-19T13:31:47.715Z"
   },
   {
    "duration": 6,
    "start_time": "2023-07-19T13:36:18.000Z"
   },
   {
    "duration": 7,
    "start_time": "2023-07-19T13:36:34.941Z"
   },
   {
    "duration": 112,
    "start_time": "2023-07-19T13:36:37.763Z"
   },
   {
    "duration": 201,
    "start_time": "2023-07-19T13:36:47.691Z"
   },
   {
    "duration": 151,
    "start_time": "2023-07-19T13:37:13.633Z"
   },
   {
    "duration": 160,
    "start_time": "2023-07-19T13:37:21.132Z"
   },
   {
    "duration": 139,
    "start_time": "2023-07-19T13:37:27.413Z"
   },
   {
    "duration": 154,
    "start_time": "2023-07-19T13:37:57.412Z"
   },
   {
    "duration": 182,
    "start_time": "2023-07-19T13:39:13.815Z"
   },
   {
    "duration": 173,
    "start_time": "2023-07-19T13:39:54.817Z"
   },
   {
    "duration": 176,
    "start_time": "2023-07-19T13:42:37.450Z"
   },
   {
    "duration": 164,
    "start_time": "2023-07-19T13:42:50.012Z"
   },
   {
    "duration": 169,
    "start_time": "2023-07-19T13:43:02.087Z"
   },
   {
    "duration": 155,
    "start_time": "2023-07-19T13:43:21.387Z"
   },
   {
    "duration": 165,
    "start_time": "2023-07-19T13:43:29.085Z"
   },
   {
    "duration": 601,
    "start_time": "2023-07-19T13:43:59.103Z"
   },
   {
    "duration": 165,
    "start_time": "2023-07-19T13:44:07.759Z"
   },
   {
    "duration": 159,
    "start_time": "2023-07-19T13:44:13.193Z"
   },
   {
    "duration": 7,
    "start_time": "2023-07-19T13:46:24.097Z"
   },
   {
    "duration": 6,
    "start_time": "2023-07-19T13:46:29.079Z"
   },
   {
    "duration": 10,
    "start_time": "2023-07-19T13:47:00.846Z"
   },
   {
    "duration": 14,
    "start_time": "2023-07-19T13:47:43.155Z"
   },
   {
    "duration": 9,
    "start_time": "2023-07-19T13:47:56.311Z"
   },
   {
    "duration": 268,
    "start_time": "2023-07-19T13:48:53.291Z"
   },
   {
    "duration": 209,
    "start_time": "2023-07-19T13:49:15.239Z"
   },
   {
    "duration": 155,
    "start_time": "2023-07-19T13:49:47.682Z"
   },
   {
    "duration": 199,
    "start_time": "2023-07-19T13:49:57.141Z"
   },
   {
    "duration": 195,
    "start_time": "2023-07-19T13:50:13.078Z"
   },
   {
    "duration": 191,
    "start_time": "2023-07-19T13:50:18.690Z"
   },
   {
    "duration": 191,
    "start_time": "2023-07-19T13:50:40.237Z"
   },
   {
    "duration": 201,
    "start_time": "2023-07-19T13:52:09.421Z"
   },
   {
    "duration": 187,
    "start_time": "2023-07-19T13:52:17.726Z"
   },
   {
    "duration": 11,
    "start_time": "2023-07-19T13:53:02.676Z"
   },
   {
    "duration": 230,
    "start_time": "2023-07-19T13:53:37.448Z"
   },
   {
    "duration": 226,
    "start_time": "2023-07-19T13:54:09.026Z"
   },
   {
    "duration": 291,
    "start_time": "2023-07-19T13:57:11.802Z"
   },
   {
    "duration": 230,
    "start_time": "2023-07-19T13:57:27.499Z"
   },
   {
    "duration": 253,
    "start_time": "2023-07-19T13:57:37.926Z"
   },
   {
    "duration": 9,
    "start_time": "2023-07-19T13:58:02.972Z"
   },
   {
    "duration": 15,
    "start_time": "2023-07-19T13:58:09.227Z"
   },
   {
    "duration": 1922,
    "start_time": "2023-07-19T13:58:28.507Z"
   },
   {
    "duration": 8,
    "start_time": "2023-07-19T13:58:32.078Z"
   },
   {
    "duration": 6,
    "start_time": "2023-07-19T13:58:48.244Z"
   },
   {
    "duration": 6,
    "start_time": "2023-07-19T13:58:55.900Z"
   },
   {
    "duration": 8,
    "start_time": "2023-07-19T13:58:58.499Z"
   },
   {
    "duration": 7,
    "start_time": "2023-07-19T13:59:02.008Z"
   },
   {
    "duration": 6,
    "start_time": "2023-07-19T14:00:58.399Z"
   },
   {
    "duration": 6,
    "start_time": "2023-07-19T14:01:49.135Z"
   },
   {
    "duration": 9,
    "start_time": "2023-07-19T14:12:14.721Z"
   },
   {
    "duration": 4,
    "start_time": "2023-07-19T14:12:26.712Z"
   },
   {
    "duration": 78,
    "start_time": "2023-07-19T14:12:26.717Z"
   },
   {
    "duration": 9,
    "start_time": "2023-07-19T14:12:26.796Z"
   },
   {
    "duration": 17,
    "start_time": "2023-07-19T14:12:26.807Z"
   },
   {
    "duration": 16,
    "start_time": "2023-07-19T14:12:26.826Z"
   },
   {
    "duration": 31,
    "start_time": "2023-07-19T14:12:26.843Z"
   },
   {
    "duration": 9,
    "start_time": "2023-07-19T14:12:26.876Z"
   },
   {
    "duration": 31,
    "start_time": "2023-07-19T14:12:26.886Z"
   },
   {
    "duration": 33,
    "start_time": "2023-07-19T14:12:26.920Z"
   },
   {
    "duration": 8,
    "start_time": "2023-07-19T14:12:26.955Z"
   },
   {
    "duration": 12,
    "start_time": "2023-07-19T14:12:26.965Z"
   },
   {
    "duration": 21,
    "start_time": "2023-07-19T14:12:26.979Z"
   },
   {
    "duration": 26,
    "start_time": "2023-07-19T14:12:27.001Z"
   },
   {
    "duration": 24,
    "start_time": "2023-07-19T14:12:27.029Z"
   },
   {
    "duration": 12,
    "start_time": "2023-07-19T14:12:27.055Z"
   },
   {
    "duration": 7,
    "start_time": "2023-07-19T14:12:27.070Z"
   },
   {
    "duration": 19,
    "start_time": "2023-07-19T14:12:27.079Z"
   },
   {
    "duration": 11,
    "start_time": "2023-07-19T14:12:27.100Z"
   },
   {
    "duration": 10,
    "start_time": "2023-07-19T14:12:27.113Z"
   },
   {
    "duration": 178,
    "start_time": "2023-07-19T14:12:27.125Z"
   },
   {
    "duration": 5,
    "start_time": "2023-07-19T14:12:27.305Z"
   },
   {
    "duration": 86,
    "start_time": "2023-07-19T14:12:27.311Z"
   },
   {
    "duration": 13,
    "start_time": "2023-07-19T14:12:27.398Z"
   },
   {
    "duration": 209,
    "start_time": "2023-07-19T14:12:27.415Z"
   },
   {
    "duration": 112,
    "start_time": "2023-07-19T14:12:27.626Z"
   },
   {
    "duration": 19,
    "start_time": "2023-07-19T14:12:27.740Z"
   },
   {
    "duration": 240,
    "start_time": "2023-07-19T14:12:27.761Z"
   },
   {
    "duration": 10,
    "start_time": "2023-07-19T14:12:28.004Z"
   },
   {
    "duration": 235,
    "start_time": "2023-07-19T14:12:28.016Z"
   },
   {
    "duration": 8,
    "start_time": "2023-07-19T14:12:28.253Z"
   },
   {
    "duration": 31,
    "start_time": "2023-07-19T14:12:28.263Z"
   },
   {
    "duration": 14,
    "start_time": "2023-07-19T14:12:34.132Z"
   },
   {
    "duration": 23,
    "start_time": "2023-07-19T14:12:59.354Z"
   },
   {
    "duration": 22,
    "start_time": "2023-07-19T14:13:08.722Z"
   },
   {
    "duration": 25,
    "start_time": "2023-07-19T14:13:13.053Z"
   },
   {
    "duration": 249,
    "start_time": "2023-07-19T14:15:05.599Z"
   },
   {
    "duration": 191,
    "start_time": "2023-07-19T14:15:32.378Z"
   },
   {
    "duration": 686,
    "start_time": "2023-07-19T14:16:06.158Z"
   },
   {
    "duration": 250,
    "start_time": "2023-07-19T14:18:17.184Z"
   },
   {
    "duration": 256,
    "start_time": "2023-07-19T14:18:22.358Z"
   },
   {
    "duration": 252,
    "start_time": "2023-07-19T14:18:41.158Z"
   },
   {
    "duration": 241,
    "start_time": "2023-07-19T14:18:54.306Z"
   },
   {
    "duration": 270,
    "start_time": "2023-07-19T14:19:01.818Z"
   },
   {
    "duration": 274,
    "start_time": "2023-07-19T14:19:23.060Z"
   },
   {
    "duration": 286,
    "start_time": "2023-07-19T14:21:47.932Z"
   },
   {
    "duration": 304,
    "start_time": "2023-07-19T14:21:54.258Z"
   },
   {
    "duration": 293,
    "start_time": "2023-07-19T14:22:00.999Z"
   },
   {
    "duration": 385,
    "start_time": "2023-07-19T14:22:13.162Z"
   },
   {
    "duration": 305,
    "start_time": "2023-07-19T14:22:23.084Z"
   },
   {
    "duration": 294,
    "start_time": "2023-07-19T14:22:47.014Z"
   },
   {
    "duration": 314,
    "start_time": "2023-07-19T14:23:02.292Z"
   },
   {
    "duration": 806,
    "start_time": "2023-07-19T14:23:09.837Z"
   },
   {
    "duration": 8,
    "start_time": "2023-07-19T14:24:02.375Z"
   },
   {
    "duration": 7,
    "start_time": "2023-07-19T14:24:15.601Z"
   },
   {
    "duration": 4,
    "start_time": "2023-07-19T14:24:40.257Z"
   },
   {
    "duration": 3,
    "start_time": "2023-07-19T14:25:25.988Z"
   },
   {
    "duration": 74,
    "start_time": "2023-07-19T14:25:25.993Z"
   },
   {
    "duration": 11,
    "start_time": "2023-07-19T14:25:26.070Z"
   },
   {
    "duration": 14,
    "start_time": "2023-07-19T14:25:26.082Z"
   },
   {
    "duration": 13,
    "start_time": "2023-07-19T14:25:26.098Z"
   },
   {
    "duration": 13,
    "start_time": "2023-07-19T14:25:26.113Z"
   },
   {
    "duration": 8,
    "start_time": "2023-07-19T14:25:26.128Z"
   },
   {
    "duration": 31,
    "start_time": "2023-07-19T14:25:26.137Z"
   },
   {
    "duration": 8,
    "start_time": "2023-07-19T14:25:26.170Z"
   },
   {
    "duration": 7,
    "start_time": "2023-07-19T14:25:26.181Z"
   },
   {
    "duration": 6,
    "start_time": "2023-07-19T14:25:26.677Z"
   },
   {
    "duration": 11,
    "start_time": "2023-07-19T14:25:26.685Z"
   },
   {
    "duration": 18,
    "start_time": "2023-07-19T14:25:26.698Z"
   },
   {
    "duration": 11,
    "start_time": "2023-07-19T14:25:26.718Z"
   },
   {
    "duration": 13,
    "start_time": "2023-07-19T14:25:26.731Z"
   },
   {
    "duration": 21,
    "start_time": "2023-07-19T14:25:26.746Z"
   },
   {
    "duration": 24,
    "start_time": "2023-07-19T14:25:26.768Z"
   },
   {
    "duration": 19,
    "start_time": "2023-07-19T14:25:26.794Z"
   },
   {
    "duration": 23,
    "start_time": "2023-07-19T14:25:26.815Z"
   },
   {
    "duration": 167,
    "start_time": "2023-07-19T14:25:26.852Z"
   },
   {
    "duration": 6,
    "start_time": "2023-07-19T14:25:27.021Z"
   },
   {
    "duration": 94,
    "start_time": "2023-07-19T14:25:27.028Z"
   },
   {
    "duration": 9,
    "start_time": "2023-07-19T14:25:27.124Z"
   },
   {
    "duration": 229,
    "start_time": "2023-07-19T14:25:27.136Z"
   },
   {
    "duration": 103,
    "start_time": "2023-07-19T14:25:27.367Z"
   },
   {
    "duration": 13,
    "start_time": "2023-07-19T14:25:27.471Z"
   },
   {
    "duration": 268,
    "start_time": "2023-07-19T14:25:27.485Z"
   },
   {
    "duration": 11,
    "start_time": "2023-07-19T14:25:27.755Z"
   },
   {
    "duration": 218,
    "start_time": "2023-07-19T14:25:27.768Z"
   },
   {
    "duration": 6,
    "start_time": "2023-07-19T14:25:27.988Z"
   },
   {
    "duration": 37,
    "start_time": "2023-07-19T14:25:27.996Z"
   },
   {
    "duration": 29,
    "start_time": "2023-07-19T14:25:28.035Z"
   },
   {
    "duration": 25,
    "start_time": "2023-07-19T14:25:28.067Z"
   },
   {
    "duration": 8,
    "start_time": "2023-07-19T14:25:28.094Z"
   },
   {
    "duration": 319,
    "start_time": "2023-07-19T14:25:28.104Z"
   },
   {
    "duration": 336,
    "start_time": "2023-07-19T14:25:28.424Z"
   },
   {
    "duration": 4,
    "start_time": "2023-07-19T14:25:28.761Z"
   },
   {
    "duration": 4,
    "start_time": "2023-07-19T14:25:34.034Z"
   },
   {
    "duration": 6,
    "start_time": "2023-07-19T14:25:40.334Z"
   },
   {
    "duration": 7,
    "start_time": "2023-07-19T14:25:47.680Z"
   },
   {
    "duration": 36,
    "start_time": "2023-07-19T14:26:03.260Z"
   },
   {
    "duration": 5,
    "start_time": "2023-07-19T14:27:19.032Z"
   },
   {
    "duration": 18,
    "start_time": "2023-07-19T14:28:29.147Z"
   },
   {
    "duration": 4,
    "start_time": "2023-07-19T14:28:50.640Z"
   },
   {
    "duration": 73,
    "start_time": "2023-07-19T14:28:50.645Z"
   },
   {
    "duration": 8,
    "start_time": "2023-07-19T14:28:50.720Z"
   },
   {
    "duration": 27,
    "start_time": "2023-07-19T14:28:50.730Z"
   },
   {
    "duration": 15,
    "start_time": "2023-07-19T14:28:50.760Z"
   },
   {
    "duration": 39,
    "start_time": "2023-07-19T14:28:50.777Z"
   },
   {
    "duration": 19,
    "start_time": "2023-07-19T14:28:50.818Z"
   },
   {
    "duration": 33,
    "start_time": "2023-07-19T14:28:50.839Z"
   },
   {
    "duration": 15,
    "start_time": "2023-07-19T14:28:50.873Z"
   },
   {
    "duration": 24,
    "start_time": "2023-07-19T14:28:50.889Z"
   },
   {
    "duration": 22,
    "start_time": "2023-07-19T14:28:50.914Z"
   },
   {
    "duration": 12,
    "start_time": "2023-07-19T14:28:50.939Z"
   },
   {
    "duration": 7,
    "start_time": "2023-07-19T14:28:51.028Z"
   },
   {
    "duration": 24,
    "start_time": "2023-07-19T14:28:51.037Z"
   },
   {
    "duration": 14,
    "start_time": "2023-07-19T14:28:51.062Z"
   },
   {
    "duration": 18,
    "start_time": "2023-07-19T14:28:51.078Z"
   },
   {
    "duration": 9,
    "start_time": "2023-07-19T14:28:51.098Z"
   },
   {
    "duration": 19,
    "start_time": "2023-07-19T14:28:51.109Z"
   },
   {
    "duration": 8,
    "start_time": "2023-07-19T14:28:51.130Z"
   },
   {
    "duration": 177,
    "start_time": "2023-07-19T14:28:51.139Z"
   },
   {
    "duration": 6,
    "start_time": "2023-07-19T14:28:51.318Z"
   },
   {
    "duration": 85,
    "start_time": "2023-07-19T14:28:51.325Z"
   },
   {
    "duration": 8,
    "start_time": "2023-07-19T14:28:51.412Z"
   },
   {
    "duration": 196,
    "start_time": "2023-07-19T14:28:51.422Z"
   },
   {
    "duration": 99,
    "start_time": "2023-07-19T14:28:51.620Z"
   },
   {
    "duration": 9,
    "start_time": "2023-07-19T14:28:51.721Z"
   },
   {
    "duration": 224,
    "start_time": "2023-07-19T14:28:51.731Z"
   },
   {
    "duration": 9,
    "start_time": "2023-07-19T14:28:51.956Z"
   },
   {
    "duration": 234,
    "start_time": "2023-07-19T14:28:51.967Z"
   },
   {
    "duration": 6,
    "start_time": "2023-07-19T14:28:52.203Z"
   },
   {
    "duration": 100,
    "start_time": "2023-07-19T14:28:52.211Z"
   },
   {
    "duration": 10,
    "start_time": "2023-07-19T14:28:52.313Z"
   },
   {
    "duration": 44,
    "start_time": "2023-07-19T14:28:52.326Z"
   },
   {
    "duration": 16,
    "start_time": "2023-07-19T14:28:52.372Z"
   },
   {
    "duration": 305,
    "start_time": "2023-07-19T14:28:52.392Z"
   },
   {
    "duration": 297,
    "start_time": "2023-07-19T14:28:52.699Z"
   },
   {
    "duration": 7,
    "start_time": "2023-07-19T14:28:52.997Z"
   },
   {
    "duration": 16,
    "start_time": "2023-07-19T14:30:10.663Z"
   },
   {
    "duration": 57,
    "start_time": "2023-07-19T14:30:46.264Z"
   },
   {
    "duration": 21,
    "start_time": "2023-07-19T14:31:26.436Z"
   },
   {
    "duration": 52,
    "start_time": "2023-07-19T14:31:53.832Z"
   },
   {
    "duration": 45,
    "start_time": "2023-07-19T14:32:53.324Z"
   },
   {
    "duration": 46,
    "start_time": "2023-07-19T14:33:05.694Z"
   },
   {
    "duration": 46,
    "start_time": "2023-07-19T14:33:15.722Z"
   },
   {
    "duration": 45,
    "start_time": "2023-07-19T14:33:22.107Z"
   },
   {
    "duration": 7,
    "start_time": "2023-07-19T14:35:54.288Z"
   },
   {
    "duration": 12,
    "start_time": "2023-07-19T14:35:56.190Z"
   },
   {
    "duration": 12,
    "start_time": "2023-07-19T14:36:22.540Z"
   },
   {
    "duration": 13,
    "start_time": "2023-07-19T14:36:51.692Z"
   },
   {
    "duration": 14,
    "start_time": "2023-07-19T14:38:23.177Z"
   },
   {
    "duration": 15,
    "start_time": "2023-07-19T14:40:43.405Z"
   },
   {
    "duration": 4,
    "start_time": "2023-07-19T14:44:16.531Z"
   },
   {
    "duration": 201,
    "start_time": "2023-07-19T14:44:21.908Z"
   },
   {
    "duration": 6,
    "start_time": "2023-07-19T14:45:39.814Z"
   },
   {
    "duration": 6,
    "start_time": "2023-07-19T14:45:58.021Z"
   },
   {
    "duration": 6,
    "start_time": "2023-07-19T14:46:26.170Z"
   },
   {
    "duration": 3,
    "start_time": "2023-07-19T14:55:59.353Z"
   },
   {
    "duration": 93,
    "start_time": "2023-07-19T14:55:59.359Z"
   },
   {
    "duration": 9,
    "start_time": "2023-07-19T14:55:59.454Z"
   },
   {
    "duration": 11,
    "start_time": "2023-07-19T14:55:59.465Z"
   },
   {
    "duration": 10,
    "start_time": "2023-07-19T14:55:59.479Z"
   },
   {
    "duration": 16,
    "start_time": "2023-07-19T14:55:59.491Z"
   },
   {
    "duration": 20,
    "start_time": "2023-07-19T14:55:59.509Z"
   },
   {
    "duration": 17,
    "start_time": "2023-07-19T14:55:59.531Z"
   },
   {
    "duration": 7,
    "start_time": "2023-07-19T14:55:59.794Z"
   },
   {
    "duration": 7,
    "start_time": "2023-07-19T14:55:59.804Z"
   },
   {
    "duration": 9,
    "start_time": "2023-07-19T14:55:59.812Z"
   },
   {
    "duration": 22,
    "start_time": "2023-07-19T14:55:59.822Z"
   },
   {
    "duration": 9,
    "start_time": "2023-07-19T14:55:59.846Z"
   },
   {
    "duration": 13,
    "start_time": "2023-07-19T14:55:59.856Z"
   },
   {
    "duration": 8,
    "start_time": "2023-07-19T14:55:59.871Z"
   },
   {
    "duration": 4,
    "start_time": "2023-07-19T14:55:59.881Z"
   },
   {
    "duration": 9,
    "start_time": "2023-07-19T14:55:59.949Z"
   },
   {
    "duration": 10,
    "start_time": "2023-07-19T14:55:59.960Z"
   },
   {
    "duration": 6,
    "start_time": "2023-07-19T14:55:59.972Z"
   },
   {
    "duration": 192,
    "start_time": "2023-07-19T14:55:59.980Z"
   },
   {
    "duration": 5,
    "start_time": "2023-07-19T14:56:00.174Z"
   },
   {
    "duration": 116,
    "start_time": "2023-07-19T14:56:00.181Z"
   },
   {
    "duration": 13,
    "start_time": "2023-07-19T14:56:00.299Z"
   },
   {
    "duration": 221,
    "start_time": "2023-07-19T14:56:00.314Z"
   },
   {
    "duration": 102,
    "start_time": "2023-07-19T14:56:00.537Z"
   },
   {
    "duration": 22,
    "start_time": "2023-07-19T14:56:00.640Z"
   },
   {
    "duration": 239,
    "start_time": "2023-07-19T14:56:00.664Z"
   },
   {
    "duration": 11,
    "start_time": "2023-07-19T14:56:00.905Z"
   },
   {
    "duration": 258,
    "start_time": "2023-07-19T14:56:00.919Z"
   },
   {
    "duration": 6,
    "start_time": "2023-07-19T14:56:01.179Z"
   },
   {
    "duration": 83,
    "start_time": "2023-07-19T14:56:01.187Z"
   },
   {
    "duration": 58,
    "start_time": "2023-07-19T14:56:01.271Z"
   },
   {
    "duration": 60,
    "start_time": "2023-07-19T14:56:01.331Z"
   },
   {
    "duration": 28,
    "start_time": "2023-07-19T14:56:01.393Z"
   },
   {
    "duration": 329,
    "start_time": "2023-07-19T14:56:01.422Z"
   },
   {
    "duration": 951,
    "start_time": "2023-07-19T14:56:01.753Z"
   },
   {
    "duration": 6,
    "start_time": "2023-07-19T14:56:02.706Z"
   },
   {
    "duration": 91,
    "start_time": "2023-07-19T14:56:02.714Z"
   },
   {
    "duration": 14,
    "start_time": "2023-07-19T14:56:02.807Z"
   },
   {
    "duration": 41,
    "start_time": "2023-07-19T14:56:02.823Z"
   },
   {
    "duration": 0,
    "start_time": "2023-07-19T14:56:02.866Z"
   },
   {
    "duration": 0,
    "start_time": "2023-07-19T14:56:02.867Z"
   },
   {
    "duration": 0,
    "start_time": "2023-07-19T14:56:02.869Z"
   },
   {
    "duration": 0,
    "start_time": "2023-07-19T14:56:02.870Z"
   },
   {
    "duration": 0,
    "start_time": "2023-07-19T14:56:02.871Z"
   },
   {
    "duration": 0,
    "start_time": "2023-07-19T14:56:02.873Z"
   },
   {
    "duration": 0,
    "start_time": "2023-07-19T14:56:02.874Z"
   },
   {
    "duration": 0,
    "start_time": "2023-07-19T14:56:02.875Z"
   },
   {
    "duration": 6,
    "start_time": "2023-07-19T14:56:22.122Z"
   },
   {
    "duration": 64,
    "start_time": "2023-07-19T14:56:22.153Z"
   },
   {
    "duration": 9,
    "start_time": "2023-07-19T14:56:22.219Z"
   },
   {
    "duration": 13,
    "start_time": "2023-07-19T14:56:22.230Z"
   },
   {
    "duration": 16,
    "start_time": "2023-07-19T14:56:22.245Z"
   },
   {
    "duration": 21,
    "start_time": "2023-07-19T14:56:22.263Z"
   },
   {
    "duration": 7,
    "start_time": "2023-07-19T14:56:22.286Z"
   },
   {
    "duration": 12,
    "start_time": "2023-07-19T14:56:22.294Z"
   },
   {
    "duration": 14,
    "start_time": "2023-07-19T14:56:22.308Z"
   },
   {
    "duration": 7,
    "start_time": "2023-07-19T14:56:22.324Z"
   },
   {
    "duration": 7,
    "start_time": "2023-07-19T14:56:22.332Z"
   },
   {
    "duration": 20,
    "start_time": "2023-07-19T14:56:22.340Z"
   },
   {
    "duration": 8,
    "start_time": "2023-07-19T14:56:22.362Z"
   },
   {
    "duration": 11,
    "start_time": "2023-07-19T14:56:22.504Z"
   },
   {
    "duration": 8,
    "start_time": "2023-07-19T14:56:22.517Z"
   },
   {
    "duration": 3,
    "start_time": "2023-07-19T14:56:22.527Z"
   },
   {
    "duration": 28,
    "start_time": "2023-07-19T14:56:22.532Z"
   },
   {
    "duration": 14,
    "start_time": "2023-07-19T14:56:22.563Z"
   },
   {
    "duration": 6,
    "start_time": "2023-07-19T14:56:22.579Z"
   },
   {
    "duration": 176,
    "start_time": "2023-07-19T14:56:22.587Z"
   },
   {
    "duration": 6,
    "start_time": "2023-07-19T14:56:22.765Z"
   },
   {
    "duration": 70,
    "start_time": "2023-07-19T14:56:22.772Z"
   },
   {
    "duration": 9,
    "start_time": "2023-07-19T14:56:22.859Z"
   },
   {
    "duration": 213,
    "start_time": "2023-07-19T14:56:22.869Z"
   },
   {
    "duration": 116,
    "start_time": "2023-07-19T14:56:23.085Z"
   },
   {
    "duration": 10,
    "start_time": "2023-07-19T14:56:23.204Z"
   },
   {
    "duration": 236,
    "start_time": "2023-07-19T14:56:23.216Z"
   },
   {
    "duration": 12,
    "start_time": "2023-07-19T14:56:23.454Z"
   },
   {
    "duration": 220,
    "start_time": "2023-07-19T14:56:23.468Z"
   },
   {
    "duration": 6,
    "start_time": "2023-07-19T14:56:23.690Z"
   },
   {
    "duration": 36,
    "start_time": "2023-07-19T14:56:23.697Z"
   },
   {
    "duration": 10,
    "start_time": "2023-07-19T14:56:23.735Z"
   },
   {
    "duration": 22,
    "start_time": "2023-07-19T14:56:23.760Z"
   },
   {
    "duration": 7,
    "start_time": "2023-07-19T14:56:23.784Z"
   },
   {
    "duration": 354,
    "start_time": "2023-07-19T14:56:23.793Z"
   },
   {
    "duration": 349,
    "start_time": "2023-07-19T14:56:24.149Z"
   },
   {
    "duration": 7,
    "start_time": "2023-07-19T14:56:24.499Z"
   },
   {
    "duration": 57,
    "start_time": "2023-07-19T14:56:24.508Z"
   },
   {
    "duration": 14,
    "start_time": "2023-07-19T14:56:24.567Z"
   },
   {
    "duration": 11,
    "start_time": "2023-07-19T14:56:24.583Z"
   },
   {
    "duration": 0,
    "start_time": "2023-07-19T14:56:24.596Z"
   },
   {
    "duration": 0,
    "start_time": "2023-07-19T14:56:24.598Z"
   },
   {
    "duration": 0,
    "start_time": "2023-07-19T14:56:24.599Z"
   },
   {
    "duration": 0,
    "start_time": "2023-07-19T14:56:24.600Z"
   },
   {
    "duration": 0,
    "start_time": "2023-07-19T14:56:24.601Z"
   },
   {
    "duration": 0,
    "start_time": "2023-07-19T14:56:24.602Z"
   },
   {
    "duration": 0,
    "start_time": "2023-07-19T14:56:24.604Z"
   },
   {
    "duration": 0,
    "start_time": "2023-07-19T14:56:24.605Z"
   },
   {
    "duration": 17,
    "start_time": "2023-07-19T14:57:27.216Z"
   },
   {
    "duration": 53,
    "start_time": "2023-07-19T14:57:33.559Z"
   },
   {
    "duration": 52,
    "start_time": "2023-07-19T14:57:49.092Z"
   },
   {
    "duration": 3,
    "start_time": "2023-07-19T14:58:02.397Z"
   },
   {
    "duration": 69,
    "start_time": "2023-07-19T14:58:02.406Z"
   },
   {
    "duration": 10,
    "start_time": "2023-07-19T14:58:02.478Z"
   },
   {
    "duration": 29,
    "start_time": "2023-07-19T14:58:02.490Z"
   },
   {
    "duration": 29,
    "start_time": "2023-07-19T14:58:02.521Z"
   },
   {
    "duration": 30,
    "start_time": "2023-07-19T14:58:02.552Z"
   },
   {
    "duration": 29,
    "start_time": "2023-07-19T14:58:02.584Z"
   },
   {
    "duration": 30,
    "start_time": "2023-07-19T14:58:02.615Z"
   },
   {
    "duration": 20,
    "start_time": "2023-07-19T14:58:02.647Z"
   },
   {
    "duration": 25,
    "start_time": "2023-07-19T14:58:02.669Z"
   },
   {
    "duration": 22,
    "start_time": "2023-07-19T14:58:02.695Z"
   },
   {
    "duration": 20,
    "start_time": "2023-07-19T14:58:02.718Z"
   },
   {
    "duration": 29,
    "start_time": "2023-07-19T14:58:02.740Z"
   },
   {
    "duration": 46,
    "start_time": "2023-07-19T14:58:02.771Z"
   },
   {
    "duration": 8,
    "start_time": "2023-07-19T14:58:02.819Z"
   },
   {
    "duration": 17,
    "start_time": "2023-07-19T14:58:02.829Z"
   },
   {
    "duration": 20,
    "start_time": "2023-07-19T14:58:02.848Z"
   },
   {
    "duration": 11,
    "start_time": "2023-07-19T14:58:02.870Z"
   },
   {
    "duration": 6,
    "start_time": "2023-07-19T14:58:02.883Z"
   },
   {
    "duration": 190,
    "start_time": "2023-07-19T14:58:02.890Z"
   },
   {
    "duration": 5,
    "start_time": "2023-07-19T14:58:03.082Z"
   },
   {
    "duration": 88,
    "start_time": "2023-07-19T14:58:03.089Z"
   },
   {
    "duration": 9,
    "start_time": "2023-07-19T14:58:03.178Z"
   },
   {
    "duration": 208,
    "start_time": "2023-07-19T14:58:03.188Z"
   },
   {
    "duration": 115,
    "start_time": "2023-07-19T14:58:03.398Z"
   },
   {
    "duration": 9,
    "start_time": "2023-07-19T14:58:03.516Z"
   },
   {
    "duration": 225,
    "start_time": "2023-07-19T14:58:03.526Z"
   },
   {
    "duration": 13,
    "start_time": "2023-07-19T14:58:03.752Z"
   },
   {
    "duration": 222,
    "start_time": "2023-07-19T14:58:03.767Z"
   },
   {
    "duration": 6,
    "start_time": "2023-07-19T14:58:03.991Z"
   },
   {
    "duration": 35,
    "start_time": "2023-07-19T14:58:03.998Z"
   },
   {
    "duration": 32,
    "start_time": "2023-07-19T14:58:04.036Z"
   },
   {
    "duration": 39,
    "start_time": "2023-07-19T14:58:04.070Z"
   },
   {
    "duration": 9,
    "start_time": "2023-07-19T14:58:04.111Z"
   },
   {
    "duration": 340,
    "start_time": "2023-07-19T14:58:04.123Z"
   },
   {
    "duration": 321,
    "start_time": "2023-07-19T14:58:04.464Z"
   },
   {
    "duration": 7,
    "start_time": "2023-07-19T14:58:04.787Z"
   },
   {
    "duration": 65,
    "start_time": "2023-07-19T14:58:04.795Z"
   },
   {
    "duration": 16,
    "start_time": "2023-07-19T14:58:04.862Z"
   },
   {
    "duration": 9,
    "start_time": "2023-07-19T14:58:04.879Z"
   },
   {
    "duration": 8,
    "start_time": "2023-07-19T14:58:04.890Z"
   },
   {
    "duration": 13,
    "start_time": "2023-07-19T14:58:04.900Z"
   },
   {
    "duration": 217,
    "start_time": "2023-07-19T14:58:04.915Z"
   },
   {
    "duration": 5,
    "start_time": "2023-07-19T14:58:05.134Z"
   },
   {
    "duration": 22,
    "start_time": "2023-07-19T14:58:05.141Z"
   },
   {
    "duration": 4,
    "start_time": "2023-07-19T14:58:05.165Z"
   },
   {
    "duration": 266,
    "start_time": "2023-07-19T14:58:05.170Z"
   },
   {
    "duration": 6,
    "start_time": "2023-07-19T14:58:05.439Z"
   },
   {
    "duration": 7,
    "start_time": "2023-07-19T14:58:35.210Z"
   },
   {
    "duration": 275,
    "start_time": "2023-07-19T15:00:01.684Z"
   },
   {
    "duration": 3,
    "start_time": "2023-07-19T15:07:11.248Z"
   },
   {
    "duration": 10,
    "start_time": "2023-07-19T15:07:58.248Z"
   },
   {
    "duration": 19800,
    "start_time": "2023-07-19T15:08:12.113Z"
   },
   {
    "duration": 12802,
    "start_time": "2023-07-19T15:08:42.978Z"
   },
   {
    "duration": 4,
    "start_time": "2023-07-19T15:09:23.452Z"
   },
   {
    "duration": 6,
    "start_time": "2023-07-19T15:09:43.100Z"
   },
   {
    "duration": 4,
    "start_time": "2023-07-19T15:09:48.453Z"
   },
   {
    "duration": 4,
    "start_time": "2023-07-19T15:09:49.802Z"
   },
   {
    "duration": 4,
    "start_time": "2023-07-19T15:09:53.052Z"
   },
   {
    "duration": 5,
    "start_time": "2023-07-19T15:10:06.250Z"
   },
   {
    "duration": 4,
    "start_time": "2023-07-19T15:10:34.450Z"
   },
   {
    "duration": 5,
    "start_time": "2023-07-19T15:10:42.967Z"
   },
   {
    "duration": 4,
    "start_time": "2023-07-19T15:10:48.372Z"
   },
   {
    "duration": 5,
    "start_time": "2023-07-19T15:11:02.565Z"
   },
   {
    "duration": 5,
    "start_time": "2023-07-19T15:11:18.617Z"
   },
   {
    "duration": 1162,
    "start_time": "2023-07-19T15:11:37.093Z"
   },
   {
    "duration": 68,
    "start_time": "2023-07-19T15:11:38.258Z"
   },
   {
    "duration": 14,
    "start_time": "2023-07-19T15:11:38.327Z"
   },
   {
    "duration": 16,
    "start_time": "2023-07-19T15:11:38.342Z"
   },
   {
    "duration": 12,
    "start_time": "2023-07-19T15:11:38.362Z"
   },
   {
    "duration": 25,
    "start_time": "2023-07-19T15:11:38.376Z"
   },
   {
    "duration": 7,
    "start_time": "2023-07-19T15:11:38.402Z"
   },
   {
    "duration": 10,
    "start_time": "2023-07-19T15:11:38.411Z"
   },
   {
    "duration": 7,
    "start_time": "2023-07-19T15:11:38.422Z"
   },
   {
    "duration": 7,
    "start_time": "2023-07-19T15:11:38.430Z"
   },
   {
    "duration": 23,
    "start_time": "2023-07-19T15:11:38.439Z"
   },
   {
    "duration": 15,
    "start_time": "2023-07-19T15:11:38.464Z"
   },
   {
    "duration": 11,
    "start_time": "2023-07-19T15:11:38.480Z"
   },
   {
    "duration": 14,
    "start_time": "2023-07-19T15:11:38.494Z"
   },
   {
    "duration": 8,
    "start_time": "2023-07-19T15:11:38.510Z"
   },
   {
    "duration": 8,
    "start_time": "2023-07-19T15:11:38.519Z"
   },
   {
    "duration": 15,
    "start_time": "2023-07-19T15:11:38.529Z"
   },
   {
    "duration": 19,
    "start_time": "2023-07-19T15:11:38.558Z"
   },
   {
    "duration": 31,
    "start_time": "2023-07-19T15:11:38.579Z"
   },
   {
    "duration": 222,
    "start_time": "2023-07-19T15:11:38.611Z"
   },
   {
    "duration": 5,
    "start_time": "2023-07-19T15:11:38.835Z"
   },
   {
    "duration": 89,
    "start_time": "2023-07-19T15:11:38.841Z"
   },
   {
    "duration": 9,
    "start_time": "2023-07-19T15:11:38.932Z"
   },
   {
    "duration": 219,
    "start_time": "2023-07-19T15:11:38.942Z"
   },
   {
    "duration": 101,
    "start_time": "2023-07-19T15:11:39.162Z"
   },
   {
    "duration": 9,
    "start_time": "2023-07-19T15:11:39.264Z"
   },
   {
    "duration": 214,
    "start_time": "2023-07-19T15:11:39.274Z"
   },
   {
    "duration": 9,
    "start_time": "2023-07-19T15:11:39.490Z"
   },
   {
    "duration": 203,
    "start_time": "2023-07-19T15:11:39.500Z"
   },
   {
    "duration": 7,
    "start_time": "2023-07-19T15:11:39.705Z"
   },
   {
    "duration": 61,
    "start_time": "2023-07-19T15:11:39.713Z"
   },
   {
    "duration": 10,
    "start_time": "2023-07-19T15:11:39.775Z"
   },
   {
    "duration": 22,
    "start_time": "2023-07-19T15:11:39.787Z"
   },
   {
    "duration": 6,
    "start_time": "2023-07-19T15:11:39.811Z"
   },
   {
    "duration": 312,
    "start_time": "2023-07-19T15:11:39.819Z"
   },
   {
    "duration": 395,
    "start_time": "2023-07-19T15:11:40.133Z"
   },
   {
    "duration": 8,
    "start_time": "2023-07-19T15:11:40.530Z"
   },
   {
    "duration": 63,
    "start_time": "2023-07-19T15:11:40.540Z"
   },
   {
    "duration": 14,
    "start_time": "2023-07-19T15:11:40.606Z"
   },
   {
    "duration": 13,
    "start_time": "2023-07-19T15:11:40.622Z"
   },
   {
    "duration": 4,
    "start_time": "2023-07-19T15:11:40.638Z"
   },
   {
    "duration": 5,
    "start_time": "2023-07-19T15:11:40.659Z"
   },
   {
    "duration": 208,
    "start_time": "2023-07-19T15:11:40.666Z"
   },
   {
    "duration": 6,
    "start_time": "2023-07-19T15:11:40.876Z"
   },
   {
    "duration": 16,
    "start_time": "2023-07-19T15:11:40.884Z"
   },
   {
    "duration": 6,
    "start_time": "2023-07-19T15:11:40.901Z"
   },
   {
    "duration": 291,
    "start_time": "2023-07-19T15:11:40.909Z"
   },
   {
    "duration": 6,
    "start_time": "2023-07-19T15:11:41.202Z"
   },
   {
    "duration": 7,
    "start_time": "2023-07-19T15:11:41.210Z"
   },
   {
    "duration": 3,
    "start_time": "2023-07-19T15:11:57.818Z"
   },
   {
    "duration": 5,
    "start_time": "2023-07-19T15:11:58.931Z"
   },
   {
    "duration": 5,
    "start_time": "2023-07-19T15:12:10.270Z"
   },
   {
    "duration": 5,
    "start_time": "2023-07-19T15:13:15.089Z"
   },
   {
    "duration": 5,
    "start_time": "2023-07-19T15:13:26.031Z"
   },
   {
    "duration": 5,
    "start_time": "2023-07-19T15:13:35.193Z"
   },
   {
    "duration": 5,
    "start_time": "2023-07-19T15:13:39.572Z"
   },
   {
    "duration": 6,
    "start_time": "2023-07-19T15:13:47.222Z"
   },
   {
    "duration": 5,
    "start_time": "2023-07-19T15:13:52.454Z"
   },
   {
    "duration": 4,
    "start_time": "2023-07-19T15:13:59.393Z"
   },
   {
    "duration": 4,
    "start_time": "2023-07-19T15:14:13.723Z"
   },
   {
    "duration": 5,
    "start_time": "2023-07-19T15:14:25.454Z"
   },
   {
    "duration": 5,
    "start_time": "2023-07-19T15:14:28.082Z"
   },
   {
    "duration": 5,
    "start_time": "2023-07-19T15:14:35.943Z"
   },
   {
    "duration": 5,
    "start_time": "2023-07-19T15:14:39.102Z"
   },
   {
    "duration": 5,
    "start_time": "2023-07-19T15:14:41.961Z"
   },
   {
    "duration": 5,
    "start_time": "2023-07-19T15:14:44.911Z"
   },
   {
    "duration": 5,
    "start_time": "2023-07-19T15:14:48.213Z"
   },
   {
    "duration": 5,
    "start_time": "2023-07-19T15:15:00.611Z"
   },
   {
    "duration": 104,
    "start_time": "2023-07-19T15:15:55.023Z"
   },
   {
    "duration": 145,
    "start_time": "2023-07-19T15:15:58.368Z"
   },
   {
    "duration": 139,
    "start_time": "2023-07-19T15:16:18.129Z"
   },
   {
    "duration": 109,
    "start_time": "2023-07-19T15:16:24.702Z"
   },
   {
    "duration": 5,
    "start_time": "2023-07-19T15:17:19.767Z"
   },
   {
    "duration": 5,
    "start_time": "2023-07-19T15:18:07.810Z"
   },
   {
    "duration": 4,
    "start_time": "2023-07-19T15:18:29.197Z"
   },
   {
    "duration": 19,
    "start_time": "2023-07-19T15:18:37.501Z"
   },
   {
    "duration": 111,
    "start_time": "2023-07-19T15:18:40.362Z"
   },
   {
    "duration": 125,
    "start_time": "2023-07-19T15:19:03.909Z"
   },
   {
    "duration": 37,
    "start_time": "2023-07-19T15:19:18.381Z"
   },
   {
    "duration": 110,
    "start_time": "2023-07-19T15:19:22.821Z"
   },
   {
    "duration": 4,
    "start_time": "2023-07-19T15:20:49.510Z"
   },
   {
    "duration": 5,
    "start_time": "2023-07-19T15:20:54.927Z"
   },
   {
    "duration": 3,
    "start_time": "2023-07-19T15:21:32.512Z"
   },
   {
    "duration": 68,
    "start_time": "2023-07-19T15:21:34.165Z"
   },
   {
    "duration": 22,
    "start_time": "2023-07-19T15:21:54.314Z"
   },
   {
    "duration": 23,
    "start_time": "2023-07-19T15:22:26.602Z"
   },
   {
    "duration": 154,
    "start_time": "2023-07-19T15:22:43.995Z"
   },
   {
    "duration": 22,
    "start_time": "2023-07-19T15:22:51.349Z"
   },
   {
    "duration": 24,
    "start_time": "2023-07-19T15:23:00.801Z"
   },
   {
    "duration": 4,
    "start_time": "2023-07-19T15:23:13.853Z"
   },
   {
    "duration": 5,
    "start_time": "2023-07-19T15:23:17.772Z"
   },
   {
    "duration": 22,
    "start_time": "2023-07-19T15:23:22.954Z"
   },
   {
    "duration": 24,
    "start_time": "2023-07-19T15:23:50.275Z"
   },
   {
    "duration": 23,
    "start_time": "2023-07-19T15:23:59.293Z"
   },
   {
    "duration": 21,
    "start_time": "2023-07-19T15:24:09.461Z"
   },
   {
    "duration": 55,
    "start_time": "2023-07-19T15:24:41.469Z"
   },
   {
    "duration": 21,
    "start_time": "2023-07-19T15:25:11.725Z"
   },
   {
    "duration": 1184,
    "start_time": "2023-07-19T15:27:08.849Z"
   },
   {
    "duration": 71,
    "start_time": "2023-07-19T15:27:10.035Z"
   },
   {
    "duration": 12,
    "start_time": "2023-07-19T15:27:10.108Z"
   },
   {
    "duration": 11,
    "start_time": "2023-07-19T15:27:10.121Z"
   },
   {
    "duration": 12,
    "start_time": "2023-07-19T15:27:10.134Z"
   },
   {
    "duration": 19,
    "start_time": "2023-07-19T15:27:10.147Z"
   },
   {
    "duration": 7,
    "start_time": "2023-07-19T15:27:10.167Z"
   },
   {
    "duration": 24,
    "start_time": "2023-07-19T15:27:10.176Z"
   },
   {
    "duration": 11,
    "start_time": "2023-07-19T15:27:10.202Z"
   },
   {
    "duration": 12,
    "start_time": "2023-07-19T15:27:10.215Z"
   },
   {
    "duration": 15,
    "start_time": "2023-07-19T15:27:10.229Z"
   },
   {
    "duration": 22,
    "start_time": "2023-07-19T15:27:10.245Z"
   },
   {
    "duration": 11,
    "start_time": "2023-07-19T15:27:10.269Z"
   },
   {
    "duration": 11,
    "start_time": "2023-07-19T15:27:10.283Z"
   },
   {
    "duration": 8,
    "start_time": "2023-07-19T15:27:10.295Z"
   },
   {
    "duration": 19,
    "start_time": "2023-07-19T15:27:10.305Z"
   },
   {
    "duration": 22,
    "start_time": "2023-07-19T15:27:10.326Z"
   },
   {
    "duration": 10,
    "start_time": "2023-07-19T15:27:10.350Z"
   },
   {
    "duration": 6,
    "start_time": "2023-07-19T15:27:10.361Z"
   },
   {
    "duration": 166,
    "start_time": "2023-07-19T15:27:10.368Z"
   },
   {
    "duration": 5,
    "start_time": "2023-07-19T15:27:10.536Z"
   },
   {
    "duration": 75,
    "start_time": "2023-07-19T15:27:10.543Z"
   },
   {
    "duration": 7,
    "start_time": "2023-07-19T15:27:10.620Z"
   },
   {
    "duration": 187,
    "start_time": "2023-07-19T15:27:10.628Z"
   },
   {
    "duration": 107,
    "start_time": "2023-07-19T15:27:10.817Z"
   },
   {
    "duration": 10,
    "start_time": "2023-07-19T15:27:10.926Z"
   },
   {
    "duration": 222,
    "start_time": "2023-07-19T15:27:10.937Z"
   },
   {
    "duration": 8,
    "start_time": "2023-07-19T15:27:11.161Z"
   },
   {
    "duration": 271,
    "start_time": "2023-07-19T15:27:11.171Z"
   },
   {
    "duration": 15,
    "start_time": "2023-07-19T15:27:11.444Z"
   },
   {
    "duration": 38,
    "start_time": "2023-07-19T15:27:11.460Z"
   },
   {
    "duration": 9,
    "start_time": "2023-07-19T15:27:11.500Z"
   },
   {
    "duration": 29,
    "start_time": "2023-07-19T15:27:11.510Z"
   },
   {
    "duration": 5,
    "start_time": "2023-07-19T15:27:11.541Z"
   },
   {
    "duration": 294,
    "start_time": "2023-07-19T15:27:11.548Z"
   },
   {
    "duration": 394,
    "start_time": "2023-07-19T15:27:11.844Z"
   },
   {
    "duration": 6,
    "start_time": "2023-07-19T15:27:12.240Z"
   },
   {
    "duration": 74,
    "start_time": "2023-07-19T15:27:12.247Z"
   },
   {
    "duration": 14,
    "start_time": "2023-07-19T15:27:12.322Z"
   },
   {
    "duration": 8,
    "start_time": "2023-07-19T15:27:12.337Z"
   },
   {
    "duration": 10,
    "start_time": "2023-07-19T15:27:12.348Z"
   },
   {
    "duration": 7,
    "start_time": "2023-07-19T15:27:12.359Z"
   },
   {
    "duration": 196,
    "start_time": "2023-07-19T15:27:12.368Z"
   },
   {
    "duration": 4,
    "start_time": "2023-07-19T15:27:12.566Z"
   },
   {
    "duration": 17,
    "start_time": "2023-07-19T15:27:12.572Z"
   },
   {
    "duration": 4,
    "start_time": "2023-07-19T15:27:12.590Z"
   },
   {
    "duration": 271,
    "start_time": "2023-07-19T15:27:12.595Z"
   },
   {
    "duration": 5,
    "start_time": "2023-07-19T15:27:12.868Z"
   },
   {
    "duration": 15,
    "start_time": "2023-07-19T15:27:12.874Z"
   },
   {
    "duration": 63,
    "start_time": "2023-07-19T15:27:12.891Z"
   },
   {
    "duration": 5,
    "start_time": "2023-07-19T15:27:12.956Z"
   },
   {
    "duration": 159,
    "start_time": "2023-07-19T15:27:12.962Z"
   },
   {
    "duration": 5,
    "start_time": "2023-07-19T15:27:13.122Z"
   },
   {
    "duration": 8,
    "start_time": "2023-07-19T15:28:37.156Z"
   },
   {
    "duration": 1214,
    "start_time": "2023-07-19T18:46:25.112Z"
   },
   {
    "duration": 99,
    "start_time": "2023-07-19T18:46:26.328Z"
   },
   {
    "duration": 11,
    "start_time": "2023-07-19T18:46:26.429Z"
   },
   {
    "duration": 11,
    "start_time": "2023-07-19T18:46:26.441Z"
   },
   {
    "duration": 12,
    "start_time": "2023-07-19T18:46:26.453Z"
   },
   {
    "duration": 11,
    "start_time": "2023-07-19T18:46:26.467Z"
   },
   {
    "duration": 10,
    "start_time": "2023-07-19T18:46:26.479Z"
   },
   {
    "duration": 30,
    "start_time": "2023-07-19T18:46:26.491Z"
   },
   {
    "duration": 10,
    "start_time": "2023-07-19T18:46:26.522Z"
   },
   {
    "duration": 15,
    "start_time": "2023-07-19T18:46:26.535Z"
   },
   {
    "duration": 6,
    "start_time": "2023-07-19T18:46:26.551Z"
   },
   {
    "duration": 11,
    "start_time": "2023-07-19T18:46:26.559Z"
   },
   {
    "duration": 9,
    "start_time": "2023-07-19T18:46:26.571Z"
   },
   {
    "duration": 18,
    "start_time": "2023-07-19T18:46:26.581Z"
   },
   {
    "duration": 19,
    "start_time": "2023-07-19T18:46:26.601Z"
   },
   {
    "duration": 4,
    "start_time": "2023-07-19T18:46:26.622Z"
   },
   {
    "duration": 12,
    "start_time": "2023-07-19T18:46:26.628Z"
   },
   {
    "duration": 12,
    "start_time": "2023-07-19T18:46:26.642Z"
   },
   {
    "duration": 7,
    "start_time": "2023-07-19T18:46:26.656Z"
   },
   {
    "duration": 222,
    "start_time": "2023-07-19T18:46:26.665Z"
   },
   {
    "duration": 6,
    "start_time": "2023-07-19T18:46:26.888Z"
   },
   {
    "duration": 82,
    "start_time": "2023-07-19T18:46:26.896Z"
   },
   {
    "duration": 8,
    "start_time": "2023-07-19T18:46:26.980Z"
   },
   {
    "duration": 174,
    "start_time": "2023-07-19T18:46:26.990Z"
   },
   {
    "duration": 97,
    "start_time": "2023-07-19T18:46:27.166Z"
   },
   {
    "duration": 10,
    "start_time": "2023-07-19T18:46:27.264Z"
   },
   {
    "duration": 214,
    "start_time": "2023-07-19T18:46:27.276Z"
   },
   {
    "duration": 8,
    "start_time": "2023-07-19T18:46:27.493Z"
   },
   {
    "duration": 246,
    "start_time": "2023-07-19T18:46:27.503Z"
   },
   {
    "duration": 8,
    "start_time": "2023-07-19T18:46:27.751Z"
   },
   {
    "duration": 28,
    "start_time": "2023-07-19T18:46:27.760Z"
   },
   {
    "duration": 32,
    "start_time": "2023-07-19T18:46:27.790Z"
   },
   {
    "duration": 20,
    "start_time": "2023-07-19T18:46:27.824Z"
   },
   {
    "duration": 9,
    "start_time": "2023-07-19T18:46:27.846Z"
   },
   {
    "duration": 279,
    "start_time": "2023-07-19T18:46:27.857Z"
   },
   {
    "duration": 319,
    "start_time": "2023-07-19T18:46:28.138Z"
   },
   {
    "duration": 8,
    "start_time": "2023-07-19T18:46:28.459Z"
   },
   {
    "duration": 66,
    "start_time": "2023-07-19T18:46:28.468Z"
   },
   {
    "duration": 13,
    "start_time": "2023-07-19T18:46:28.536Z"
   },
   {
    "duration": 25,
    "start_time": "2023-07-19T18:46:28.550Z"
   },
   {
    "duration": 18,
    "start_time": "2023-07-19T18:46:28.577Z"
   },
   {
    "duration": 8,
    "start_time": "2023-07-19T18:46:28.597Z"
   },
   {
    "duration": 173,
    "start_time": "2023-07-19T18:46:28.607Z"
   },
   {
    "duration": 5,
    "start_time": "2023-07-19T18:46:28.781Z"
   },
   {
    "duration": 20,
    "start_time": "2023-07-19T18:46:28.787Z"
   },
   {
    "duration": 13,
    "start_time": "2023-07-19T18:46:28.809Z"
   },
   {
    "duration": 245,
    "start_time": "2023-07-19T18:46:28.823Z"
   },
   {
    "duration": 6,
    "start_time": "2023-07-19T18:46:29.070Z"
   },
   {
    "duration": 12,
    "start_time": "2023-07-19T18:46:29.077Z"
   },
   {
    "duration": 36,
    "start_time": "2023-07-19T18:46:29.091Z"
   },
   {
    "duration": 5,
    "start_time": "2023-07-19T18:46:29.129Z"
   },
   {
    "duration": 145,
    "start_time": "2023-07-19T18:46:29.135Z"
   },
   {
    "duration": 4,
    "start_time": "2023-07-19T18:46:29.282Z"
   },
   {
    "duration": 96,
    "start_time": "2023-07-19T18:54:16.375Z"
   },
   {
    "duration": 8,
    "start_time": "2023-07-19T18:54:30.706Z"
   },
   {
    "duration": 113,
    "start_time": "2023-07-19T18:54:32.806Z"
   },
   {
    "duration": 1491,
    "start_time": "2023-07-20T03:07:15.038Z"
   },
   {
    "duration": 189,
    "start_time": "2023-07-20T03:07:16.532Z"
   },
   {
    "duration": 12,
    "start_time": "2023-07-20T03:07:16.723Z"
   },
   {
    "duration": 11,
    "start_time": "2023-07-20T03:07:16.737Z"
   },
   {
    "duration": 11,
    "start_time": "2023-07-20T03:07:16.750Z"
   },
   {
    "duration": 17,
    "start_time": "2023-07-20T03:07:16.763Z"
   },
   {
    "duration": 8,
    "start_time": "2023-07-20T03:07:16.782Z"
   },
   {
    "duration": 15,
    "start_time": "2023-07-20T03:07:16.791Z"
   },
   {
    "duration": 12,
    "start_time": "2023-07-20T03:07:16.808Z"
   },
   {
    "duration": 8,
    "start_time": "2023-07-20T03:07:16.822Z"
   },
   {
    "duration": 21,
    "start_time": "2023-07-20T03:07:16.831Z"
   },
   {
    "duration": 7,
    "start_time": "2023-07-20T03:07:16.854Z"
   },
   {
    "duration": 18,
    "start_time": "2023-07-20T03:07:16.862Z"
   },
   {
    "duration": 10,
    "start_time": "2023-07-20T03:07:16.883Z"
   },
   {
    "duration": 7,
    "start_time": "2023-07-20T03:07:16.895Z"
   },
   {
    "duration": 5,
    "start_time": "2023-07-20T03:07:16.903Z"
   },
   {
    "duration": 13,
    "start_time": "2023-07-20T03:07:16.910Z"
   },
   {
    "duration": 32,
    "start_time": "2023-07-20T03:07:16.925Z"
   },
   {
    "duration": 6,
    "start_time": "2023-07-20T03:07:16.958Z"
   },
   {
    "duration": 166,
    "start_time": "2023-07-20T03:07:16.965Z"
   },
   {
    "duration": 5,
    "start_time": "2023-07-20T03:07:17.133Z"
   },
   {
    "duration": 71,
    "start_time": "2023-07-20T03:07:17.139Z"
   },
   {
    "duration": 8,
    "start_time": "2023-07-20T03:07:17.212Z"
   },
   {
    "duration": 189,
    "start_time": "2023-07-20T03:07:17.222Z"
   },
   {
    "duration": 99,
    "start_time": "2023-07-20T03:07:17.414Z"
   },
   {
    "duration": 9,
    "start_time": "2023-07-20T03:07:17.516Z"
   },
   {
    "duration": 202,
    "start_time": "2023-07-20T03:07:17.527Z"
   },
   {
    "duration": 21,
    "start_time": "2023-07-20T03:07:17.731Z"
   },
   {
    "duration": 190,
    "start_time": "2023-07-20T03:07:17.754Z"
   },
   {
    "duration": 6,
    "start_time": "2023-07-20T03:07:17.951Z"
   },
   {
    "duration": 27,
    "start_time": "2023-07-20T03:07:17.958Z"
   },
   {
    "duration": 8,
    "start_time": "2023-07-20T03:07:17.987Z"
   },
   {
    "duration": 18,
    "start_time": "2023-07-20T03:07:17.997Z"
   },
   {
    "duration": 5,
    "start_time": "2023-07-20T03:07:18.017Z"
   },
   {
    "duration": 316,
    "start_time": "2023-07-20T03:07:18.052Z"
   },
   {
    "duration": 371,
    "start_time": "2023-07-20T03:07:18.371Z"
   },
   {
    "duration": 11,
    "start_time": "2023-07-20T03:07:18.744Z"
   },
   {
    "duration": 53,
    "start_time": "2023-07-20T03:07:18.756Z"
   },
   {
    "duration": 14,
    "start_time": "2023-07-20T03:07:18.811Z"
   },
   {
    "duration": 10,
    "start_time": "2023-07-20T03:07:18.826Z"
   },
   {
    "duration": 3,
    "start_time": "2023-07-20T03:07:18.851Z"
   },
   {
    "duration": 11,
    "start_time": "2023-07-20T03:07:18.856Z"
   },
   {
    "duration": 191,
    "start_time": "2023-07-20T03:07:18.869Z"
   },
   {
    "duration": 5,
    "start_time": "2023-07-20T03:07:19.062Z"
   },
   {
    "duration": 11,
    "start_time": "2023-07-20T03:07:19.068Z"
   },
   {
    "duration": 3,
    "start_time": "2023-07-20T03:07:19.080Z"
   },
   {
    "duration": 280,
    "start_time": "2023-07-20T03:07:19.085Z"
   },
   {
    "duration": 6,
    "start_time": "2023-07-20T03:07:19.367Z"
   },
   {
    "duration": 7,
    "start_time": "2023-07-20T03:07:19.374Z"
   },
   {
    "duration": 25,
    "start_time": "2023-07-20T03:07:19.383Z"
   },
   {
    "duration": 122,
    "start_time": "2023-07-20T03:07:34.011Z"
   },
   {
    "duration": 4,
    "start_time": "2023-07-20T03:09:41.579Z"
   },
   {
    "duration": 4,
    "start_time": "2023-07-20T03:09:47.700Z"
   },
   {
    "duration": 5,
    "start_time": "2023-07-20T03:09:55.899Z"
   },
   {
    "duration": 14,
    "start_time": "2023-07-20T03:13:22.346Z"
   },
   {
    "duration": 14,
    "start_time": "2023-07-20T03:14:18.802Z"
   },
   {
    "duration": 14,
    "start_time": "2023-07-20T03:15:21.490Z"
   },
   {
    "duration": 15,
    "start_time": "2023-07-20T03:16:22.767Z"
   },
   {
    "duration": 1625,
    "start_time": "2023-07-20T03:18:29.775Z"
   },
   {
    "duration": 67,
    "start_time": "2023-07-20T03:18:31.402Z"
   },
   {
    "duration": 12,
    "start_time": "2023-07-20T03:18:31.470Z"
   },
   {
    "duration": 42,
    "start_time": "2023-07-20T03:18:31.484Z"
   },
   {
    "duration": 40,
    "start_time": "2023-07-20T03:18:31.529Z"
   },
   {
    "duration": 40,
    "start_time": "2023-07-20T03:18:31.571Z"
   },
   {
    "duration": 55,
    "start_time": "2023-07-20T03:18:31.612Z"
   },
   {
    "duration": 32,
    "start_time": "2023-07-20T03:18:31.669Z"
   },
   {
    "duration": 40,
    "start_time": "2023-07-20T03:18:31.703Z"
   },
   {
    "duration": 37,
    "start_time": "2023-07-20T03:18:31.744Z"
   },
   {
    "duration": 18,
    "start_time": "2023-07-20T03:18:31.783Z"
   },
   {
    "duration": 25,
    "start_time": "2023-07-20T03:18:31.803Z"
   },
   {
    "duration": 30,
    "start_time": "2023-07-20T03:18:31.830Z"
   },
   {
    "duration": 27,
    "start_time": "2023-07-20T03:18:31.863Z"
   },
   {
    "duration": 22,
    "start_time": "2023-07-20T03:18:31.891Z"
   },
   {
    "duration": 18,
    "start_time": "2023-07-20T03:18:31.915Z"
   },
   {
    "duration": 49,
    "start_time": "2023-07-20T03:18:31.934Z"
   },
   {
    "duration": 32,
    "start_time": "2023-07-20T03:18:31.985Z"
   },
   {
    "duration": 16,
    "start_time": "2023-07-20T03:18:32.018Z"
   },
   {
    "duration": 173,
    "start_time": "2023-07-20T03:18:32.036Z"
   },
   {
    "duration": 5,
    "start_time": "2023-07-20T03:18:32.211Z"
   },
   {
    "duration": 79,
    "start_time": "2023-07-20T03:18:32.217Z"
   },
   {
    "duration": 8,
    "start_time": "2023-07-20T03:18:32.298Z"
   },
   {
    "duration": 195,
    "start_time": "2023-07-20T03:18:32.308Z"
   },
   {
    "duration": 93,
    "start_time": "2023-07-20T03:18:32.504Z"
   },
   {
    "duration": 9,
    "start_time": "2023-07-20T03:18:32.599Z"
   },
   {
    "duration": 207,
    "start_time": "2023-07-20T03:18:32.609Z"
   },
   {
    "duration": 8,
    "start_time": "2023-07-20T03:18:32.818Z"
   },
   {
    "duration": 216,
    "start_time": "2023-07-20T03:18:32.828Z"
   },
   {
    "duration": 10,
    "start_time": "2023-07-20T03:18:33.045Z"
   },
   {
    "duration": 37,
    "start_time": "2023-07-20T03:18:33.057Z"
   },
   {
    "duration": 9,
    "start_time": "2023-07-20T03:18:33.096Z"
   },
   {
    "duration": 22,
    "start_time": "2023-07-20T03:18:33.106Z"
   },
   {
    "duration": 24,
    "start_time": "2023-07-20T03:18:33.130Z"
   },
   {
    "duration": 283,
    "start_time": "2023-07-20T03:18:33.155Z"
   },
   {
    "duration": 352,
    "start_time": "2023-07-20T03:18:33.440Z"
   },
   {
    "duration": 6,
    "start_time": "2023-07-20T03:18:33.793Z"
   },
   {
    "duration": 55,
    "start_time": "2023-07-20T03:18:33.801Z"
   },
   {
    "duration": 14,
    "start_time": "2023-07-20T03:18:33.858Z"
   },
   {
    "duration": 6,
    "start_time": "2023-07-20T03:18:33.873Z"
   },
   {
    "duration": 5,
    "start_time": "2023-07-20T03:18:33.883Z"
   },
   {
    "duration": 13,
    "start_time": "2023-07-20T03:18:33.889Z"
   },
   {
    "duration": 211,
    "start_time": "2023-07-20T03:18:33.904Z"
   },
   {
    "duration": 5,
    "start_time": "2023-07-20T03:18:34.117Z"
   },
   {
    "duration": 11,
    "start_time": "2023-07-20T03:18:34.123Z"
   },
   {
    "duration": 17,
    "start_time": "2023-07-20T03:18:34.135Z"
   },
   {
    "duration": 268,
    "start_time": "2023-07-20T03:18:34.154Z"
   },
   {
    "duration": 5,
    "start_time": "2023-07-20T03:18:34.424Z"
   },
   {
    "duration": 8,
    "start_time": "2023-07-20T03:18:34.431Z"
   },
   {
    "duration": 27,
    "start_time": "2023-07-20T03:18:34.441Z"
   },
   {
    "duration": 136,
    "start_time": "2023-07-20T03:18:34.470Z"
   },
   {
    "duration": 4,
    "start_time": "2023-07-20T03:18:34.608Z"
   },
   {
    "duration": 148,
    "start_time": "2023-07-20T03:18:34.614Z"
   },
   {
    "duration": 4,
    "start_time": "2023-07-20T03:18:34.763Z"
   },
   {
    "duration": 4,
    "start_time": "2023-07-20T03:42:51.916Z"
   },
   {
    "duration": 5,
    "start_time": "2023-07-20T03:43:07.636Z"
   },
   {
    "duration": 4,
    "start_time": "2023-07-20T03:43:15.213Z"
   },
   {
    "duration": 5,
    "start_time": "2023-07-20T03:43:22.110Z"
   },
   {
    "duration": 4,
    "start_time": "2023-07-20T03:43:28.174Z"
   },
   {
    "duration": 5,
    "start_time": "2023-07-20T03:44:10.832Z"
   },
   {
    "duration": 8,
    "start_time": "2023-07-20T03:44:14.940Z"
   },
   {
    "duration": 6,
    "start_time": "2023-07-20T03:44:20.080Z"
   },
   {
    "duration": 5,
    "start_time": "2023-07-20T03:44:24.671Z"
   },
   {
    "duration": 4,
    "start_time": "2023-07-20T03:44:29.411Z"
   },
   {
    "duration": 4,
    "start_time": "2023-07-20T03:44:32.841Z"
   },
   {
    "duration": 4,
    "start_time": "2023-07-20T03:44:36.241Z"
   },
   {
    "duration": 4,
    "start_time": "2023-07-20T03:44:42.080Z"
   },
   {
    "duration": 5,
    "start_time": "2023-07-20T03:44:45.970Z"
   },
   {
    "duration": 5,
    "start_time": "2023-07-20T03:44:48.810Z"
   },
   {
    "duration": 5,
    "start_time": "2023-07-20T03:44:52.851Z"
   },
   {
    "duration": 4,
    "start_time": "2023-07-20T03:44:56.471Z"
   },
   {
    "duration": 4,
    "start_time": "2023-07-20T03:45:18.871Z"
   },
   {
    "duration": 1216,
    "start_time": "2023-07-20T03:53:41.152Z"
   },
   {
    "duration": 65,
    "start_time": "2023-07-20T03:53:42.370Z"
   },
   {
    "duration": 13,
    "start_time": "2023-07-20T03:53:42.437Z"
   },
   {
    "duration": 10,
    "start_time": "2023-07-20T03:53:42.452Z"
   },
   {
    "duration": 23,
    "start_time": "2023-07-20T03:53:42.466Z"
   },
   {
    "duration": 15,
    "start_time": "2023-07-20T03:53:42.491Z"
   },
   {
    "duration": 6,
    "start_time": "2023-07-20T03:53:42.508Z"
   },
   {
    "duration": 17,
    "start_time": "2023-07-20T03:53:42.516Z"
   },
   {
    "duration": 7,
    "start_time": "2023-07-20T03:53:42.535Z"
   },
   {
    "duration": 11,
    "start_time": "2023-07-20T03:53:42.544Z"
   },
   {
    "duration": 14,
    "start_time": "2023-07-20T03:53:42.557Z"
   },
   {
    "duration": 12,
    "start_time": "2023-07-20T03:53:42.572Z"
   },
   {
    "duration": 9,
    "start_time": "2023-07-20T03:53:42.585Z"
   },
   {
    "duration": 12,
    "start_time": "2023-07-20T03:53:42.598Z"
   },
   {
    "duration": 8,
    "start_time": "2023-07-20T03:53:42.612Z"
   },
   {
    "duration": 5,
    "start_time": "2023-07-20T03:53:42.622Z"
   },
   {
    "duration": 35,
    "start_time": "2023-07-20T03:53:42.628Z"
   },
   {
    "duration": 11,
    "start_time": "2023-07-20T03:53:42.664Z"
   },
   {
    "duration": 10,
    "start_time": "2023-07-20T03:53:42.676Z"
   },
   {
    "duration": 175,
    "start_time": "2023-07-20T03:53:42.688Z"
   },
   {
    "duration": 5,
    "start_time": "2023-07-20T03:53:42.865Z"
   },
   {
    "duration": 67,
    "start_time": "2023-07-20T03:53:42.872Z"
   },
   {
    "duration": 9,
    "start_time": "2023-07-20T03:53:42.951Z"
   },
   {
    "duration": 185,
    "start_time": "2023-07-20T03:53:42.961Z"
   },
   {
    "duration": 89,
    "start_time": "2023-07-20T03:53:43.151Z"
   },
   {
    "duration": 9,
    "start_time": "2023-07-20T03:53:43.252Z"
   },
   {
    "duration": 225,
    "start_time": "2023-07-20T03:53:43.262Z"
   },
   {
    "duration": 10,
    "start_time": "2023-07-20T03:53:43.489Z"
   },
   {
    "duration": 202,
    "start_time": "2023-07-20T03:53:43.500Z"
   },
   {
    "duration": 8,
    "start_time": "2023-07-20T03:53:43.704Z"
   },
   {
    "duration": 39,
    "start_time": "2023-07-20T03:53:43.713Z"
   },
   {
    "duration": 9,
    "start_time": "2023-07-20T03:53:43.754Z"
   },
   {
    "duration": 20,
    "start_time": "2023-07-20T03:53:43.765Z"
   },
   {
    "duration": 6,
    "start_time": "2023-07-20T03:53:43.787Z"
   },
   {
    "duration": 308,
    "start_time": "2023-07-20T03:53:43.795Z"
   },
   {
    "duration": 366,
    "start_time": "2023-07-20T03:53:44.105Z"
   },
   {
    "duration": 7,
    "start_time": "2023-07-20T03:53:44.473Z"
   },
   {
    "duration": 77,
    "start_time": "2023-07-20T03:53:44.482Z"
   },
   {
    "duration": 13,
    "start_time": "2023-07-20T03:53:44.560Z"
   },
   {
    "duration": 19,
    "start_time": "2023-07-20T03:53:44.575Z"
   },
   {
    "duration": 3,
    "start_time": "2023-07-20T03:53:44.598Z"
   },
   {
    "duration": 22,
    "start_time": "2023-07-20T03:53:44.602Z"
   },
   {
    "duration": 196,
    "start_time": "2023-07-20T03:53:44.625Z"
   },
   {
    "duration": 5,
    "start_time": "2023-07-20T03:53:44.823Z"
   },
   {
    "duration": 22,
    "start_time": "2023-07-20T03:53:44.829Z"
   },
   {
    "duration": 4,
    "start_time": "2023-07-20T03:53:44.853Z"
   },
   {
    "duration": 296,
    "start_time": "2023-07-20T03:53:44.858Z"
   },
   {
    "duration": 6,
    "start_time": "2023-07-20T03:53:45.156Z"
   },
   {
    "duration": 25,
    "start_time": "2023-07-20T03:53:45.164Z"
   },
   {
    "duration": 26,
    "start_time": "2023-07-20T03:53:45.191Z"
   },
   {
    "duration": 187,
    "start_time": "2023-07-20T03:53:45.219Z"
   },
   {
    "duration": 6,
    "start_time": "2023-07-20T03:53:45.408Z"
   },
   {
    "duration": 153,
    "start_time": "2023-07-20T03:53:45.416Z"
   },
   {
    "duration": 5,
    "start_time": "2023-07-20T03:53:45.571Z"
   },
   {
    "duration": 1153,
    "start_time": "2023-07-20T07:35:47.648Z"
   },
   {
    "duration": 108,
    "start_time": "2023-07-20T07:35:48.803Z"
   },
   {
    "duration": 13,
    "start_time": "2023-07-20T07:35:48.913Z"
   },
   {
    "duration": 11,
    "start_time": "2023-07-20T07:35:48.928Z"
   },
   {
    "duration": 12,
    "start_time": "2023-07-20T07:35:48.943Z"
   },
   {
    "duration": 32,
    "start_time": "2023-07-20T07:35:48.956Z"
   },
   {
    "duration": 9,
    "start_time": "2023-07-20T07:35:48.990Z"
   },
   {
    "duration": 17,
    "start_time": "2023-07-20T07:35:49.001Z"
   },
   {
    "duration": 9,
    "start_time": "2023-07-20T07:35:49.020Z"
   },
   {
    "duration": 15,
    "start_time": "2023-07-20T07:35:49.030Z"
   },
   {
    "duration": 10,
    "start_time": "2023-07-20T07:35:49.047Z"
   },
   {
    "duration": 12,
    "start_time": "2023-07-20T07:35:49.058Z"
   },
   {
    "duration": 41,
    "start_time": "2023-07-20T07:35:49.072Z"
   },
   {
    "duration": 47,
    "start_time": "2023-07-20T07:35:49.116Z"
   },
   {
    "duration": 10,
    "start_time": "2023-07-20T07:35:49.164Z"
   },
   {
    "duration": 5,
    "start_time": "2023-07-20T07:35:49.176Z"
   },
   {
    "duration": 16,
    "start_time": "2023-07-20T07:35:49.183Z"
   },
   {
    "duration": 13,
    "start_time": "2023-07-20T07:35:49.201Z"
   },
   {
    "duration": 11,
    "start_time": "2023-07-20T07:35:49.216Z"
   },
   {
    "duration": 203,
    "start_time": "2023-07-20T07:35:49.228Z"
   },
   {
    "duration": 5,
    "start_time": "2023-07-20T07:35:49.434Z"
   },
   {
    "duration": 80,
    "start_time": "2023-07-20T07:35:49.441Z"
   },
   {
    "duration": 9,
    "start_time": "2023-07-20T07:35:49.523Z"
   },
   {
    "duration": 246,
    "start_time": "2023-07-20T07:35:49.533Z"
   },
   {
    "duration": 123,
    "start_time": "2023-07-20T07:35:49.782Z"
   },
   {
    "duration": 11,
    "start_time": "2023-07-20T07:35:49.907Z"
   },
   {
    "duration": 222,
    "start_time": "2023-07-20T07:35:49.920Z"
   },
   {
    "duration": 10,
    "start_time": "2023-07-20T07:35:50.144Z"
   },
   {
    "duration": 216,
    "start_time": "2023-07-20T07:35:50.155Z"
   },
   {
    "duration": 7,
    "start_time": "2023-07-20T07:35:50.374Z"
   },
   {
    "duration": 43,
    "start_time": "2023-07-20T07:35:50.382Z"
   },
   {
    "duration": 10,
    "start_time": "2023-07-20T07:35:50.427Z"
   },
   {
    "duration": 41,
    "start_time": "2023-07-20T07:35:50.438Z"
   },
   {
    "duration": 6,
    "start_time": "2023-07-20T07:35:50.480Z"
   },
   {
    "duration": 305,
    "start_time": "2023-07-20T07:35:50.488Z"
   },
   {
    "duration": 395,
    "start_time": "2023-07-20T07:35:50.795Z"
   },
   {
    "duration": 7,
    "start_time": "2023-07-20T07:35:51.192Z"
   },
   {
    "duration": 55,
    "start_time": "2023-07-20T07:35:51.214Z"
   },
   {
    "duration": 17,
    "start_time": "2023-07-20T07:35:51.271Z"
   },
   {
    "duration": 24,
    "start_time": "2023-07-20T07:35:51.290Z"
   },
   {
    "duration": 8,
    "start_time": "2023-07-20T07:35:51.319Z"
   },
   {
    "duration": 18,
    "start_time": "2023-07-20T07:35:51.329Z"
   },
   {
    "duration": 231,
    "start_time": "2023-07-20T07:35:51.349Z"
   },
   {
    "duration": 5,
    "start_time": "2023-07-20T07:35:51.582Z"
   },
   {
    "duration": 14,
    "start_time": "2023-07-20T07:35:51.589Z"
   },
   {
    "duration": 3,
    "start_time": "2023-07-20T07:35:51.614Z"
   },
   {
    "duration": 309,
    "start_time": "2023-07-20T07:35:51.619Z"
   },
   {
    "duration": 6,
    "start_time": "2023-07-20T07:35:51.929Z"
   },
   {
    "duration": 22,
    "start_time": "2023-07-20T07:35:51.937Z"
   },
   {
    "duration": 29,
    "start_time": "2023-07-20T07:35:51.961Z"
   },
   {
    "duration": 152,
    "start_time": "2023-07-20T07:35:51.991Z"
   },
   {
    "duration": 4,
    "start_time": "2023-07-20T07:35:52.145Z"
   },
   {
    "duration": 157,
    "start_time": "2023-07-20T07:35:52.151Z"
   },
   {
    "duration": 5,
    "start_time": "2023-07-20T07:35:52.312Z"
   },
   {
    "duration": 104,
    "start_time": "2023-07-20T07:39:41.308Z"
   },
   {
    "duration": 101,
    "start_time": "2023-07-20T07:40:28.525Z"
   },
   {
    "duration": 48,
    "start_time": "2023-07-20T07:41:29.591Z"
   },
   {
    "duration": 32,
    "start_time": "2023-07-20T07:41:35.341Z"
   },
   {
    "duration": 31,
    "start_time": "2023-07-20T07:41:43.369Z"
   },
   {
    "duration": 148,
    "start_time": "2023-07-20T07:42:09.397Z"
   },
   {
    "duration": 5,
    "start_time": "2023-07-20T07:42:14.887Z"
   },
   {
    "duration": 5,
    "start_time": "2023-07-20T07:42:21.858Z"
   },
   {
    "duration": 4,
    "start_time": "2023-07-20T07:42:26.043Z"
   },
   {
    "duration": 5,
    "start_time": "2023-07-20T07:42:29.704Z"
   },
   {
    "duration": 14,
    "start_time": "2023-07-20T07:42:32.959Z"
   },
   {
    "duration": 24,
    "start_time": "2023-07-20T07:42:37.469Z"
   },
   {
    "duration": 33,
    "start_time": "2023-07-20T07:42:55.046Z"
   },
   {
    "duration": 26,
    "start_time": "2023-07-20T07:43:09.206Z"
   },
   {
    "duration": 112,
    "start_time": "2023-07-20T07:43:54.247Z"
   },
   {
    "duration": 197,
    "start_time": "2023-07-28T13:34:23.922Z"
   },
   {
    "duration": 1392,
    "start_time": "2023-07-29T07:16:57.154Z"
   },
   {
    "duration": 103,
    "start_time": "2023-07-29T07:16:58.548Z"
   },
   {
    "duration": 21,
    "start_time": "2023-07-29T07:16:58.652Z"
   },
   {
    "duration": 4,
    "start_time": "2023-07-29T07:16:58.682Z"
   },
   {
    "duration": 18,
    "start_time": "2023-07-29T07:16:58.688Z"
   },
   {
    "duration": 5,
    "start_time": "2023-07-29T07:16:58.707Z"
   },
   {
    "duration": 6,
    "start_time": "2023-07-29T07:16:58.713Z"
   },
   {
    "duration": 16,
    "start_time": "2023-07-29T07:16:58.720Z"
   },
   {
    "duration": 19,
    "start_time": "2023-07-29T07:16:58.738Z"
   },
   {
    "duration": 25,
    "start_time": "2023-07-29T07:16:58.758Z"
   },
   {
    "duration": 13,
    "start_time": "2023-07-29T07:16:58.785Z"
   },
   {
    "duration": 12,
    "start_time": "2023-07-29T07:16:58.799Z"
   },
   {
    "duration": 15,
    "start_time": "2023-07-29T07:16:58.813Z"
   },
   {
    "duration": 18,
    "start_time": "2023-07-29T07:16:58.832Z"
   },
   {
    "duration": 46,
    "start_time": "2023-07-29T07:16:58.852Z"
   },
   {
    "duration": 16,
    "start_time": "2023-07-29T07:16:58.900Z"
   },
   {
    "duration": 7,
    "start_time": "2023-07-29T07:16:58.918Z"
   },
   {
    "duration": 9,
    "start_time": "2023-07-29T07:16:58.927Z"
   },
   {
    "duration": 4,
    "start_time": "2023-07-29T07:17:27.820Z"
   },
   {
    "duration": 10,
    "start_time": "2023-07-29T07:17:34.512Z"
   },
   {
    "duration": 118,
    "start_time": "2023-07-29T07:17:45.959Z"
   },
   {
    "duration": 28,
    "start_time": "2023-07-29T07:17:56.307Z"
   },
   {
    "duration": 10,
    "start_time": "2023-07-29T07:18:00.426Z"
   },
   {
    "duration": 9,
    "start_time": "2023-07-29T07:18:25.512Z"
   },
   {
    "duration": 9,
    "start_time": "2023-07-29T07:18:28.160Z"
   },
   {
    "duration": 12,
    "start_time": "2023-07-29T07:20:13.788Z"
   },
   {
    "duration": 8,
    "start_time": "2023-07-29T07:20:51.423Z"
   },
   {
    "duration": 6,
    "start_time": "2023-07-29T07:33:12.783Z"
   },
   {
    "duration": 5,
    "start_time": "2023-07-29T07:33:32.196Z"
   },
   {
    "duration": 6,
    "start_time": "2023-07-29T07:34:27.686Z"
   },
   {
    "duration": 8,
    "start_time": "2023-07-29T07:34:40.951Z"
   },
   {
    "duration": 21,
    "start_time": "2023-07-29T07:34:45.222Z"
   },
   {
    "duration": 8,
    "start_time": "2023-07-29T07:34:55.794Z"
   },
   {
    "duration": 15,
    "start_time": "2023-07-29T07:35:08.470Z"
   },
   {
    "duration": 8,
    "start_time": "2023-07-29T07:36:16.366Z"
   },
   {
    "duration": 9,
    "start_time": "2023-07-29T07:36:31.420Z"
   },
   {
    "duration": 9,
    "start_time": "2023-07-29T07:36:47.640Z"
   },
   {
    "duration": 14,
    "start_time": "2023-07-29T07:36:51.468Z"
   },
   {
    "duration": 11,
    "start_time": "2023-07-29T07:37:11.383Z"
   },
   {
    "duration": 9,
    "start_time": "2023-07-29T07:39:10.901Z"
   },
   {
    "duration": 7,
    "start_time": "2023-07-29T07:41:34.439Z"
   },
   {
    "duration": 5,
    "start_time": "2023-07-29T07:41:38.251Z"
   },
   {
    "duration": 6,
    "start_time": "2023-07-29T07:41:51.893Z"
   },
   {
    "duration": 6,
    "start_time": "2023-07-29T07:42:01.894Z"
   },
   {
    "duration": 5,
    "start_time": "2023-07-29T07:42:35.678Z"
   },
   {
    "duration": 3,
    "start_time": "2023-07-29T07:53:00.606Z"
   },
   {
    "duration": 101,
    "start_time": "2023-07-29T07:53:00.613Z"
   },
   {
    "duration": 14,
    "start_time": "2023-07-29T07:53:00.716Z"
   },
   {
    "duration": 83,
    "start_time": "2023-07-29T07:53:00.732Z"
   },
   {
    "duration": 79,
    "start_time": "2023-07-29T07:53:00.818Z"
   },
   {
    "duration": 52,
    "start_time": "2023-07-29T07:53:00.899Z"
   },
   {
    "duration": 51,
    "start_time": "2023-07-29T07:53:00.953Z"
   },
   {
    "duration": 103,
    "start_time": "2023-07-29T07:53:01.006Z"
   },
   {
    "duration": 53,
    "start_time": "2023-07-29T07:53:01.110Z"
   },
   {
    "duration": 87,
    "start_time": "2023-07-29T07:53:01.164Z"
   },
   {
    "duration": 120,
    "start_time": "2023-07-29T07:53:01.254Z"
   },
   {
    "duration": 91,
    "start_time": "2023-07-29T07:53:01.376Z"
   },
   {
    "duration": 85,
    "start_time": "2023-07-29T07:53:01.469Z"
   },
   {
    "duration": 99,
    "start_time": "2023-07-29T07:53:01.555Z"
   },
   {
    "duration": 82,
    "start_time": "2023-07-29T07:53:01.656Z"
   },
   {
    "duration": 6,
    "start_time": "2023-07-29T07:53:10.243Z"
   },
   {
    "duration": 5,
    "start_time": "2023-07-29T07:53:13.122Z"
   },
   {
    "duration": 24,
    "start_time": "2023-07-29T07:53:21.548Z"
   },
   {
    "duration": 17,
    "start_time": "2023-07-29T07:53:46.766Z"
   },
   {
    "duration": 135,
    "start_time": "2023-07-29T07:54:24.996Z"
   },
   {
    "duration": 133,
    "start_time": "2023-07-29T07:54:50.670Z"
   },
   {
    "duration": 167,
    "start_time": "2023-07-29T07:55:05.722Z"
   },
   {
    "duration": 93,
    "start_time": "2023-07-29T07:55:16.435Z"
   },
   {
    "duration": 163,
    "start_time": "2023-07-29T07:55:20.800Z"
   },
   {
    "duration": 186,
    "start_time": "2023-07-29T07:57:56.148Z"
   },
   {
    "duration": 172,
    "start_time": "2023-07-29T07:58:04.136Z"
   },
   {
    "duration": 8,
    "start_time": "2023-07-29T07:58:15.818Z"
   },
   {
    "duration": 11,
    "start_time": "2023-07-29T07:58:30.433Z"
   },
   {
    "duration": 279,
    "start_time": "2023-07-29T07:58:57.512Z"
   },
   {
    "duration": 10,
    "start_time": "2023-07-29T07:59:17.653Z"
   },
   {
    "duration": 13,
    "start_time": "2023-07-29T07:59:44.868Z"
   },
   {
    "duration": 13,
    "start_time": "2023-07-29T08:00:04.679Z"
   },
   {
    "duration": 9,
    "start_time": "2023-07-29T08:00:09.126Z"
   },
   {
    "duration": 9,
    "start_time": "2023-07-29T08:00:29.001Z"
   },
   {
    "duration": 11,
    "start_time": "2023-07-29T08:00:39.641Z"
   },
   {
    "duration": 12,
    "start_time": "2023-07-29T08:01:25.654Z"
   },
   {
    "duration": 12,
    "start_time": "2023-07-29T08:01:37.329Z"
   },
   {
    "duration": 15,
    "start_time": "2023-07-29T08:01:47.461Z"
   },
   {
    "duration": 18,
    "start_time": "2023-07-29T08:07:05.545Z"
   },
   {
    "duration": 28,
    "start_time": "2023-07-29T08:11:22.517Z"
   },
   {
    "duration": 22,
    "start_time": "2023-07-29T08:11:28.233Z"
   },
   {
    "duration": 33,
    "start_time": "2023-07-29T08:11:59.935Z"
   },
   {
    "duration": 32,
    "start_time": "2023-07-29T08:12:53.944Z"
   },
   {
    "duration": 40,
    "start_time": "2023-07-29T08:13:04.745Z"
   },
   {
    "duration": 42,
    "start_time": "2023-07-29T08:13:18.082Z"
   },
   {
    "duration": 33,
    "start_time": "2023-07-29T08:13:32.796Z"
   },
   {
    "duration": 4,
    "start_time": "2023-07-29T08:13:36.100Z"
   },
   {
    "duration": 73,
    "start_time": "2023-07-29T08:13:36.106Z"
   },
   {
    "duration": 19,
    "start_time": "2023-07-29T08:13:36.181Z"
   },
   {
    "duration": 15,
    "start_time": "2023-07-29T08:13:36.202Z"
   },
   {
    "duration": 20,
    "start_time": "2023-07-29T08:13:36.219Z"
   },
   {
    "duration": 8,
    "start_time": "2023-07-29T08:13:36.241Z"
   },
   {
    "duration": 32,
    "start_time": "2023-07-29T08:13:36.251Z"
   },
   {
    "duration": 50,
    "start_time": "2023-07-29T08:13:36.293Z"
   },
   {
    "duration": 34,
    "start_time": "2023-07-29T08:13:36.346Z"
   },
   {
    "duration": 25,
    "start_time": "2023-07-29T08:13:36.385Z"
   },
   {
    "duration": 32,
    "start_time": "2023-07-29T08:13:36.411Z"
   },
   {
    "duration": 29,
    "start_time": "2023-07-29T08:13:36.446Z"
   },
   {
    "duration": 47,
    "start_time": "2023-07-29T08:13:36.480Z"
   },
   {
    "duration": 22,
    "start_time": "2023-07-29T08:13:36.529Z"
   },
   {
    "duration": 35,
    "start_time": "2023-07-29T08:13:36.553Z"
   },
   {
    "duration": 34,
    "start_time": "2023-07-29T08:13:36.591Z"
   },
   {
    "duration": 24,
    "start_time": "2023-07-29T08:13:36.627Z"
   },
   {
    "duration": 22,
    "start_time": "2023-07-29T08:13:36.653Z"
   },
   {
    "duration": 42,
    "start_time": "2023-07-29T08:13:36.678Z"
   },
   {
    "duration": 6,
    "start_time": "2023-07-29T08:13:36.722Z"
   },
   {
    "duration": 10,
    "start_time": "2023-07-29T08:13:36.729Z"
   },
   {
    "duration": 220,
    "start_time": "2023-07-29T08:13:36.740Z"
   },
   {
    "duration": 16,
    "start_time": "2023-07-29T08:13:36.962Z"
   },
   {
    "duration": 25,
    "start_time": "2023-07-29T08:13:36.986Z"
   },
   {
    "duration": 243,
    "start_time": "2023-07-29T08:13:37.013Z"
   },
   {
    "duration": 40,
    "start_time": "2023-07-29T08:13:37.258Z"
   },
   {
    "duration": 0,
    "start_time": "2023-07-29T08:13:37.301Z"
   },
   {
    "duration": 0,
    "start_time": "2023-07-29T08:13:37.303Z"
   },
   {
    "duration": 0,
    "start_time": "2023-07-29T08:13:37.305Z"
   },
   {
    "duration": 0,
    "start_time": "2023-07-29T08:13:37.306Z"
   },
   {
    "duration": 0,
    "start_time": "2023-07-29T08:13:37.307Z"
   },
   {
    "duration": 26,
    "start_time": "2023-07-29T08:13:43.722Z"
   },
   {
    "duration": 7,
    "start_time": "2023-07-29T08:14:27.384Z"
   },
   {
    "duration": 15,
    "start_time": "2023-07-29T08:14:40.642Z"
   },
   {
    "duration": 5,
    "start_time": "2023-07-29T08:14:51.784Z"
   },
   {
    "duration": 6,
    "start_time": "2023-07-29T08:15:02.609Z"
   },
   {
    "duration": 47,
    "start_time": "2023-07-29T11:52:23.119Z"
   },
   {
    "duration": 1337,
    "start_time": "2023-07-29T11:52:36.021Z"
   },
   {
    "duration": 108,
    "start_time": "2023-07-29T11:52:37.360Z"
   },
   {
    "duration": 18,
    "start_time": "2023-07-29T11:52:37.469Z"
   },
   {
    "duration": 4,
    "start_time": "2023-07-29T11:52:37.488Z"
   },
   {
    "duration": 32,
    "start_time": "2023-07-29T11:52:37.494Z"
   },
   {
    "duration": 19,
    "start_time": "2023-07-29T11:52:37.528Z"
   },
   {
    "duration": 8,
    "start_time": "2023-07-29T11:52:37.549Z"
   },
   {
    "duration": 15,
    "start_time": "2023-07-29T11:52:37.559Z"
   },
   {
    "duration": 15,
    "start_time": "2023-07-29T11:52:37.576Z"
   },
   {
    "duration": 5,
    "start_time": "2023-07-29T11:52:37.592Z"
   },
   {
    "duration": 20,
    "start_time": "2023-07-29T11:52:37.599Z"
   },
   {
    "duration": 8,
    "start_time": "2023-07-29T11:52:37.620Z"
   },
   {
    "duration": 11,
    "start_time": "2023-07-29T11:52:37.629Z"
   },
   {
    "duration": 16,
    "start_time": "2023-07-29T11:52:37.643Z"
   },
   {
    "duration": 18,
    "start_time": "2023-07-29T11:52:37.660Z"
   },
   {
    "duration": 42,
    "start_time": "2023-07-29T11:52:37.679Z"
   },
   {
    "duration": 26,
    "start_time": "2023-07-29T11:52:37.722Z"
   },
   {
    "duration": 13,
    "start_time": "2023-07-29T11:52:37.750Z"
   },
   {
    "duration": 51,
    "start_time": "2023-07-29T11:52:37.764Z"
   },
   {
    "duration": 20,
    "start_time": "2023-07-29T11:52:37.838Z"
   },
   {
    "duration": 12,
    "start_time": "2023-07-29T11:52:37.860Z"
   },
   {
    "duration": 209,
    "start_time": "2023-07-29T11:52:37.874Z"
   },
   {
    "duration": 20,
    "start_time": "2023-07-29T11:52:38.085Z"
   },
   {
    "duration": 11,
    "start_time": "2023-07-29T11:52:38.106Z"
   },
   {
    "duration": 235,
    "start_time": "2023-07-29T11:52:38.119Z"
   },
   {
    "duration": 94,
    "start_time": "2023-07-29T11:52:38.355Z"
   },
   {
    "duration": 0,
    "start_time": "2023-07-29T11:52:38.450Z"
   },
   {
    "duration": 0,
    "start_time": "2023-07-29T11:52:38.452Z"
   },
   {
    "duration": 0,
    "start_time": "2023-07-29T11:52:38.452Z"
   },
   {
    "duration": 0,
    "start_time": "2023-07-29T11:52:38.453Z"
   },
   {
    "duration": 0,
    "start_time": "2023-07-29T11:52:38.454Z"
   },
   {
    "duration": 1238,
    "start_time": "2023-07-29T11:52:59.198Z"
   },
   {
    "duration": 54,
    "start_time": "2023-07-29T11:53:00.438Z"
   },
   {
    "duration": 33,
    "start_time": "2023-07-29T11:53:00.494Z"
   },
   {
    "duration": 46,
    "start_time": "2023-07-29T11:53:00.529Z"
   },
   {
    "duration": 63,
    "start_time": "2023-07-29T11:53:00.577Z"
   },
   {
    "duration": 30,
    "start_time": "2023-07-29T11:53:00.642Z"
   },
   {
    "duration": 54,
    "start_time": "2023-07-29T11:53:00.674Z"
   },
   {
    "duration": 43,
    "start_time": "2023-07-29T11:53:00.729Z"
   },
   {
    "duration": 62,
    "start_time": "2023-07-29T11:53:00.773Z"
   },
   {
    "duration": 41,
    "start_time": "2023-07-29T11:53:00.838Z"
   },
   {
    "duration": 52,
    "start_time": "2023-07-29T11:53:00.881Z"
   },
   {
    "duration": 48,
    "start_time": "2023-07-29T11:53:00.935Z"
   },
   {
    "duration": 58,
    "start_time": "2023-07-29T11:53:00.985Z"
   },
   {
    "duration": 36,
    "start_time": "2023-07-29T11:53:01.044Z"
   },
   {
    "duration": 71,
    "start_time": "2023-07-29T11:53:01.081Z"
   },
   {
    "duration": 28,
    "start_time": "2023-07-29T11:53:01.153Z"
   },
   {
    "duration": 50,
    "start_time": "2023-07-29T11:53:01.183Z"
   },
   {
    "duration": 37,
    "start_time": "2023-07-29T11:53:01.236Z"
   },
   {
    "duration": 18,
    "start_time": "2023-07-29T11:53:01.274Z"
   },
   {
    "duration": 37,
    "start_time": "2023-07-29T11:53:01.293Z"
   },
   {
    "duration": 29,
    "start_time": "2023-07-29T11:53:01.332Z"
   },
   {
    "duration": 228,
    "start_time": "2023-07-29T11:53:01.363Z"
   },
   {
    "duration": 30,
    "start_time": "2023-07-29T11:53:01.592Z"
   },
   {
    "duration": 31,
    "start_time": "2023-07-29T11:53:01.624Z"
   },
   {
    "duration": 219,
    "start_time": "2023-07-29T11:53:01.656Z"
   },
   {
    "duration": 119,
    "start_time": "2023-07-29T11:53:01.876Z"
   },
   {
    "duration": 0,
    "start_time": "2023-07-29T11:53:02.011Z"
   },
   {
    "duration": 0,
    "start_time": "2023-07-29T11:53:02.013Z"
   },
   {
    "duration": 0,
    "start_time": "2023-07-29T11:53:02.013Z"
   },
   {
    "duration": 0,
    "start_time": "2023-07-29T11:53:02.014Z"
   },
   {
    "duration": 0,
    "start_time": "2023-07-29T11:53:02.015Z"
   },
   {
    "duration": 52,
    "start_time": "2023-07-29T11:53:47.025Z"
   },
   {
    "duration": 6637,
    "start_time": "2023-07-29T11:54:00.328Z"
   },
   {
    "duration": 5,
    "start_time": "2023-07-29T11:54:18.155Z"
   },
   {
    "duration": 6221,
    "start_time": "2023-07-29T11:54:23.563Z"
   },
   {
    "duration": 4083,
    "start_time": "2023-07-29T11:54:33.476Z"
   },
   {
    "duration": 2,
    "start_time": "2023-07-29T11:54:59.387Z"
   },
   {
    "duration": 64,
    "start_time": "2023-07-29T11:54:59.391Z"
   },
   {
    "duration": 13,
    "start_time": "2023-07-29T11:54:59.457Z"
   },
   {
    "duration": 19,
    "start_time": "2023-07-29T11:54:59.472Z"
   },
   {
    "duration": 63,
    "start_time": "2023-07-29T11:54:59.494Z"
   },
   {
    "duration": 4,
    "start_time": "2023-07-29T11:54:59.559Z"
   },
   {
    "duration": 16,
    "start_time": "2023-07-29T11:54:59.564Z"
   },
   {
    "duration": 41,
    "start_time": "2023-07-29T11:54:59.581Z"
   },
   {
    "duration": 5,
    "start_time": "2023-07-29T11:55:10.763Z"
   },
   {
    "duration": 4,
    "start_time": "2023-07-29T11:55:17.042Z"
   },
   {
    "duration": 20,
    "start_time": "2023-07-29T11:55:33.778Z"
   },
   {
    "duration": 4,
    "start_time": "2023-07-29T11:56:49.120Z"
   },
   {
    "duration": 56,
    "start_time": "2023-07-29T11:56:49.127Z"
   },
   {
    "duration": 13,
    "start_time": "2023-07-29T11:56:49.185Z"
   },
   {
    "duration": 30,
    "start_time": "2023-07-29T11:56:49.199Z"
   },
   {
    "duration": 35,
    "start_time": "2023-07-29T11:56:49.231Z"
   },
   {
    "duration": 16,
    "start_time": "2023-07-29T11:56:49.267Z"
   },
   {
    "duration": 8,
    "start_time": "2023-07-29T11:56:49.285Z"
   },
   {
    "duration": 36,
    "start_time": "2023-07-29T11:56:49.295Z"
   },
   {
    "duration": 33,
    "start_time": "2023-07-29T11:56:49.333Z"
   },
   {
    "duration": 8,
    "start_time": "2023-07-29T11:56:49.368Z"
   },
   {
    "duration": 6,
    "start_time": "2023-07-29T11:56:49.377Z"
   },
   {
    "duration": 5,
    "start_time": "2023-07-29T11:56:49.385Z"
   },
   {
    "duration": 47,
    "start_time": "2023-07-29T11:56:49.391Z"
   },
   {
    "duration": 16,
    "start_time": "2023-07-29T11:56:49.442Z"
   },
   {
    "duration": 16,
    "start_time": "2023-07-29T11:56:49.460Z"
   },
   {
    "duration": 11,
    "start_time": "2023-07-29T11:56:49.478Z"
   },
   {
    "duration": 24,
    "start_time": "2023-07-29T11:56:49.491Z"
   },
   {
    "duration": 30,
    "start_time": "2023-07-29T11:56:49.522Z"
   },
   {
    "duration": 12,
    "start_time": "2023-07-29T11:56:49.554Z"
   },
   {
    "duration": 10,
    "start_time": "2023-07-29T11:56:49.567Z"
   },
   {
    "duration": 7,
    "start_time": "2023-07-29T11:56:49.578Z"
   },
   {
    "duration": 195,
    "start_time": "2023-07-29T11:56:49.587Z"
   },
   {
    "duration": 11,
    "start_time": "2023-07-29T11:57:38.626Z"
   },
   {
    "duration": 8,
    "start_time": "2023-07-29T11:58:22.721Z"
   },
   {
    "duration": 7,
    "start_time": "2023-07-29T11:58:26.546Z"
   },
   {
    "duration": 11,
    "start_time": "2023-07-29T11:59:45.199Z"
   },
   {
    "duration": 105,
    "start_time": "2023-07-29T11:59:45.214Z"
   },
   {
    "duration": 18,
    "start_time": "2023-07-29T11:59:45.328Z"
   },
   {
    "duration": 17,
    "start_time": "2023-07-29T11:59:45.348Z"
   },
   {
    "duration": 58,
    "start_time": "2023-07-29T11:59:45.367Z"
   },
   {
    "duration": 12,
    "start_time": "2023-07-29T11:59:45.430Z"
   },
   {
    "duration": 10,
    "start_time": "2023-07-29T11:59:45.443Z"
   },
   {
    "duration": 17,
    "start_time": "2023-07-29T11:59:45.454Z"
   },
   {
    "duration": 17,
    "start_time": "2023-07-29T11:59:45.473Z"
   },
   {
    "duration": 5,
    "start_time": "2023-07-29T11:59:45.492Z"
   },
   {
    "duration": 38,
    "start_time": "2023-07-29T11:59:45.499Z"
   },
   {
    "duration": 9,
    "start_time": "2023-07-29T11:59:45.539Z"
   },
   {
    "duration": 12,
    "start_time": "2023-07-29T11:59:45.551Z"
   },
   {
    "duration": 104,
    "start_time": "2023-07-29T11:59:45.565Z"
   },
   {
    "duration": 19,
    "start_time": "2023-07-29T11:59:45.672Z"
   },
   {
    "duration": 32,
    "start_time": "2023-07-29T11:59:45.699Z"
   },
   {
    "duration": 17,
    "start_time": "2023-07-29T11:59:45.732Z"
   },
   {
    "duration": 13,
    "start_time": "2023-07-29T11:59:45.750Z"
   },
   {
    "duration": 10,
    "start_time": "2023-07-29T11:59:45.764Z"
   },
   {
    "duration": 6,
    "start_time": "2023-07-29T11:59:45.776Z"
   },
   {
    "duration": 25,
    "start_time": "2023-07-29T11:59:45.801Z"
   },
   {
    "duration": 210,
    "start_time": "2023-07-29T11:59:45.827Z"
   },
   {
    "duration": 10,
    "start_time": "2023-07-29T11:59:46.039Z"
   },
   {
    "duration": 15,
    "start_time": "2023-07-29T11:59:46.051Z"
   },
   {
    "duration": 13,
    "start_time": "2023-07-29T11:59:46.068Z"
   },
   {
    "duration": 313,
    "start_time": "2023-07-29T11:59:46.085Z"
   },
   {
    "duration": 15,
    "start_time": "2023-07-29T12:00:09.814Z"
   },
   {
    "duration": 9,
    "start_time": "2023-07-29T12:00:28.795Z"
   },
   {
    "duration": 16,
    "start_time": "2023-07-29T12:00:34.699Z"
   },
   {
    "duration": 6,
    "start_time": "2023-07-29T12:00:45.750Z"
   },
   {
    "duration": 5,
    "start_time": "2023-07-29T12:00:51.549Z"
   },
   {
    "duration": 22,
    "start_time": "2023-07-29T12:01:07.531Z"
   },
   {
    "duration": 6,
    "start_time": "2023-07-29T12:01:19.619Z"
   },
   {
    "duration": 18,
    "start_time": "2023-07-29T12:02:05.214Z"
   },
   {
    "duration": 5,
    "start_time": "2023-07-29T12:02:14.731Z"
   },
   {
    "duration": 4,
    "start_time": "2023-07-29T12:02:18.425Z"
   },
   {
    "duration": 6,
    "start_time": "2023-07-29T12:02:29.044Z"
   },
   {
    "duration": 10,
    "start_time": "2023-07-29T12:02:32.331Z"
   },
   {
    "duration": 9,
    "start_time": "2023-07-29T12:02:57.119Z"
   },
   {
    "duration": 6,
    "start_time": "2023-07-29T12:03:11.634Z"
   },
   {
    "duration": 5,
    "start_time": "2023-07-29T12:03:24.534Z"
   },
   {
    "duration": 3,
    "start_time": "2023-07-29T12:03:48.347Z"
   },
   {
    "duration": 77,
    "start_time": "2023-07-29T12:03:48.352Z"
   },
   {
    "duration": 11,
    "start_time": "2023-07-29T12:03:48.431Z"
   },
   {
    "duration": 27,
    "start_time": "2023-07-29T12:03:48.444Z"
   },
   {
    "duration": 60,
    "start_time": "2023-07-29T12:03:48.473Z"
   },
   {
    "duration": 28,
    "start_time": "2023-07-29T12:03:48.535Z"
   },
   {
    "duration": 13,
    "start_time": "2023-07-29T12:03:48.565Z"
   },
   {
    "duration": 33,
    "start_time": "2023-07-29T12:03:48.580Z"
   },
   {
    "duration": 46,
    "start_time": "2023-07-29T12:03:48.614Z"
   },
   {
    "duration": 12,
    "start_time": "2023-07-29T12:03:48.661Z"
   },
   {
    "duration": 30,
    "start_time": "2023-07-29T12:03:48.675Z"
   },
   {
    "duration": 6,
    "start_time": "2023-07-29T12:03:48.706Z"
   },
   {
    "duration": 17,
    "start_time": "2023-07-29T12:03:48.713Z"
   },
   {
    "duration": 38,
    "start_time": "2023-07-29T12:03:48.732Z"
   },
   {
    "duration": 48,
    "start_time": "2023-07-29T12:03:48.771Z"
   },
   {
    "duration": 25,
    "start_time": "2023-07-29T12:03:48.820Z"
   },
   {
    "duration": 21,
    "start_time": "2023-07-29T12:03:48.847Z"
   },
   {
    "duration": 15,
    "start_time": "2023-07-29T12:03:48.869Z"
   },
   {
    "duration": 46,
    "start_time": "2023-07-29T12:03:48.885Z"
   },
   {
    "duration": 24,
    "start_time": "2023-07-29T12:03:48.934Z"
   },
   {
    "duration": 26,
    "start_time": "2023-07-29T12:03:48.959Z"
   },
   {
    "duration": 197,
    "start_time": "2023-07-29T12:03:48.987Z"
   },
   {
    "duration": 32,
    "start_time": "2023-07-29T12:03:49.185Z"
   },
   {
    "duration": 46,
    "start_time": "2023-07-29T12:03:49.218Z"
   },
   {
    "duration": 31,
    "start_time": "2023-07-29T12:03:49.266Z"
   },
   {
    "duration": 241,
    "start_time": "2023-07-29T12:03:49.301Z"
   },
   {
    "duration": 11,
    "start_time": "2023-07-29T12:03:49.544Z"
   },
   {
    "duration": 7,
    "start_time": "2023-07-29T12:03:49.556Z"
   },
   {
    "duration": 27,
    "start_time": "2023-07-29T12:03:49.565Z"
   },
   {
    "duration": 41,
    "start_time": "2023-07-29T12:03:49.593Z"
   },
   {
    "duration": 13,
    "start_time": "2023-07-29T12:03:49.635Z"
   },
   {
    "duration": 17,
    "start_time": "2023-07-29T12:03:49.650Z"
   },
   {
    "duration": 28,
    "start_time": "2023-07-29T12:03:49.669Z"
   },
   {
    "duration": 23,
    "start_time": "2023-07-29T12:03:59.199Z"
   },
   {
    "duration": 8,
    "start_time": "2023-07-29T12:04:04.919Z"
   },
   {
    "duration": 43,
    "start_time": "2023-07-29T12:04:36.878Z"
   },
   {
    "duration": 25,
    "start_time": "2023-07-29T12:04:59.512Z"
   },
   {
    "duration": 22,
    "start_time": "2023-07-29T12:05:03.722Z"
   },
   {
    "duration": 39,
    "start_time": "2023-07-29T12:05:45.274Z"
   },
   {
    "duration": 40,
    "start_time": "2023-07-29T12:06:12.397Z"
   },
   {
    "duration": 30,
    "start_time": "2023-07-29T12:06:19.045Z"
   },
   {
    "duration": 10,
    "start_time": "2023-07-29T12:06:44.047Z"
   },
   {
    "duration": 9,
    "start_time": "2023-07-29T12:06:51.483Z"
   },
   {
    "duration": 10,
    "start_time": "2023-07-29T12:07:15.579Z"
   },
   {
    "duration": 12,
    "start_time": "2023-07-29T12:07:22.019Z"
   },
   {
    "duration": 4378,
    "start_time": "2023-07-29T12:07:35.499Z"
   },
   {
    "duration": 17,
    "start_time": "2023-07-29T12:07:44.281Z"
   },
   {
    "duration": 35,
    "start_time": "2023-07-29T12:07:58.388Z"
   },
   {
    "duration": 19,
    "start_time": "2023-07-29T12:08:38.852Z"
   },
   {
    "duration": 10,
    "start_time": "2023-07-29T12:09:00.044Z"
   },
   {
    "duration": 15,
    "start_time": "2023-07-29T12:09:07.159Z"
   },
   {
    "duration": 17,
    "start_time": "2023-07-29T12:09:30.573Z"
   },
   {
    "duration": 23,
    "start_time": "2023-07-29T12:11:30.036Z"
   },
   {
    "duration": 39,
    "start_time": "2023-07-29T12:12:34.318Z"
   },
   {
    "duration": 21,
    "start_time": "2023-07-29T12:12:52.321Z"
   },
   {
    "duration": 49,
    "start_time": "2023-07-29T12:14:24.875Z"
   },
   {
    "duration": 18,
    "start_time": "2023-07-29T12:14:30.372Z"
   },
   {
    "duration": 27,
    "start_time": "2023-07-29T12:15:28.619Z"
   },
   {
    "duration": 26,
    "start_time": "2023-07-29T12:16:39.448Z"
   },
   {
    "duration": 16,
    "start_time": "2023-07-29T12:22:50.182Z"
   },
   {
    "duration": 17,
    "start_time": "2023-07-29T12:23:13.019Z"
   },
   {
    "duration": 21,
    "start_time": "2023-07-29T12:23:43.800Z"
   },
   {
    "duration": 23,
    "start_time": "2023-07-29T12:25:28.731Z"
   },
   {
    "duration": 5,
    "start_time": "2023-07-29T12:25:51.476Z"
   },
   {
    "duration": 17,
    "start_time": "2023-07-29T12:26:02.057Z"
   },
   {
    "duration": 32,
    "start_time": "2023-07-29T12:26:08.093Z"
   },
   {
    "duration": 329,
    "start_time": "2023-07-29T12:30:41.527Z"
   },
   {
    "duration": 11,
    "start_time": "2023-07-29T12:35:56.684Z"
   },
   {
    "duration": 18,
    "start_time": "2023-07-29T12:36:07.516Z"
   },
   {
    "duration": 24,
    "start_time": "2023-07-29T12:36:37.219Z"
   },
   {
    "duration": 23,
    "start_time": "2023-07-29T12:37:09.916Z"
   },
   {
    "duration": 16,
    "start_time": "2023-07-29T12:37:19.917Z"
   },
   {
    "duration": 12,
    "start_time": "2023-07-29T12:37:59.436Z"
   },
   {
    "duration": 8,
    "start_time": "2023-07-29T12:38:09.151Z"
   },
   {
    "duration": 9,
    "start_time": "2023-07-29T12:38:24.732Z"
   },
   {
    "duration": 43,
    "start_time": "2023-07-29T12:39:19.159Z"
   },
   {
    "duration": 9,
    "start_time": "2023-07-29T12:39:26.977Z"
   },
   {
    "duration": 285,
    "start_time": "2023-07-29T12:41:34.982Z"
   },
   {
    "duration": 290,
    "start_time": "2023-07-29T12:42:14.329Z"
   },
   {
    "duration": 10,
    "start_time": "2023-07-29T13:01:22.117Z"
   },
   {
    "duration": 8,
    "start_time": "2023-07-29T13:01:38.372Z"
   },
   {
    "duration": 23,
    "start_time": "2023-07-29T13:06:55.714Z"
   },
   {
    "duration": 189,
    "start_time": "2023-07-29T13:07:00.435Z"
   },
   {
    "duration": 8,
    "start_time": "2023-07-29T13:09:08.587Z"
   },
   {
    "duration": 3,
    "start_time": "2023-07-29T13:09:15.040Z"
   },
   {
    "duration": 117,
    "start_time": "2023-07-29T13:09:15.045Z"
   },
   {
    "duration": 13,
    "start_time": "2023-07-29T13:09:15.164Z"
   },
   {
    "duration": 45,
    "start_time": "2023-07-29T13:09:15.178Z"
   },
   {
    "duration": 36,
    "start_time": "2023-07-29T13:09:15.227Z"
   },
   {
    "duration": 15,
    "start_time": "2023-07-29T13:09:15.265Z"
   },
   {
    "duration": 14,
    "start_time": "2023-07-29T13:09:15.282Z"
   },
   {
    "duration": 45,
    "start_time": "2023-07-29T13:09:15.298Z"
   },
   {
    "duration": 27,
    "start_time": "2023-07-29T13:09:15.346Z"
   },
   {
    "duration": 7,
    "start_time": "2023-07-29T13:09:15.375Z"
   },
   {
    "duration": 42,
    "start_time": "2023-07-29T13:09:15.385Z"
   },
   {
    "duration": 21,
    "start_time": "2023-07-29T13:09:15.428Z"
   },
   {
    "duration": 18,
    "start_time": "2023-07-29T13:09:15.451Z"
   },
   {
    "duration": 222,
    "start_time": "2023-07-29T13:09:15.471Z"
   },
   {
    "duration": 25,
    "start_time": "2023-07-29T13:09:15.695Z"
   },
   {
    "duration": 36,
    "start_time": "2023-07-29T13:09:15.722Z"
   },
   {
    "duration": 19,
    "start_time": "2023-07-29T13:09:15.760Z"
   },
   {
    "duration": 15,
    "start_time": "2023-07-29T13:09:15.780Z"
   },
   {
    "duration": 14,
    "start_time": "2023-07-29T13:09:15.809Z"
   },
   {
    "duration": 9,
    "start_time": "2023-07-29T13:09:15.825Z"
   },
   {
    "duration": 15,
    "start_time": "2023-07-29T13:09:15.836Z"
   },
   {
    "duration": 187,
    "start_time": "2023-07-29T13:09:15.852Z"
   },
   {
    "duration": 11,
    "start_time": "2023-07-29T13:09:16.042Z"
   },
   {
    "duration": 23,
    "start_time": "2023-07-29T13:09:16.055Z"
   },
   {
    "duration": 21,
    "start_time": "2023-07-29T13:09:16.080Z"
   },
   {
    "duration": 276,
    "start_time": "2023-07-29T13:09:16.104Z"
   },
   {
    "duration": 35,
    "start_time": "2023-07-29T13:09:16.381Z"
   },
   {
    "duration": 5,
    "start_time": "2023-07-29T13:09:16.418Z"
   },
   {
    "duration": 21,
    "start_time": "2023-07-29T13:09:16.426Z"
   },
   {
    "duration": 17,
    "start_time": "2023-07-29T13:09:16.449Z"
   },
   {
    "duration": 4,
    "start_time": "2023-07-29T13:09:16.468Z"
   },
   {
    "duration": 21,
    "start_time": "2023-07-29T13:09:16.474Z"
   },
   {
    "duration": 39,
    "start_time": "2023-07-29T13:09:16.497Z"
   },
   {
    "duration": 20,
    "start_time": "2023-07-29T13:09:16.538Z"
   },
   {
    "duration": 18,
    "start_time": "2023-07-29T13:09:16.559Z"
   },
   {
    "duration": 14,
    "start_time": "2023-07-29T13:09:16.579Z"
   },
   {
    "duration": 7,
    "start_time": "2023-07-29T13:09:16.606Z"
   },
   {
    "duration": 302,
    "start_time": "2023-07-29T13:09:16.618Z"
   },
   {
    "duration": 5,
    "start_time": "2023-07-29T13:09:16.922Z"
   },
   {
    "duration": 266,
    "start_time": "2023-07-29T13:09:16.929Z"
   },
   {
    "duration": 21,
    "start_time": "2023-07-29T13:28:06.116Z"
   },
   {
    "duration": 11,
    "start_time": "2023-07-29T13:28:30.176Z"
   },
   {
    "duration": 3,
    "start_time": "2023-07-29T13:28:42.421Z"
   },
   {
    "duration": 32,
    "start_time": "2023-07-29T13:29:09.116Z"
   },
   {
    "duration": 6,
    "start_time": "2023-07-29T13:29:12.181Z"
   },
   {
    "duration": 6,
    "start_time": "2023-07-29T13:29:18.015Z"
   },
   {
    "duration": 197,
    "start_time": "2023-07-29T13:29:44.788Z"
   },
   {
    "duration": 126,
    "start_time": "2023-07-29T13:30:51.194Z"
   },
   {
    "duration": 3,
    "start_time": "2023-07-29T13:31:22.192Z"
   },
   {
    "duration": 66,
    "start_time": "2023-07-29T13:31:22.198Z"
   },
   {
    "duration": 12,
    "start_time": "2023-07-29T13:31:22.266Z"
   },
   {
    "duration": 5,
    "start_time": "2023-07-29T13:31:22.280Z"
   },
   {
    "duration": 26,
    "start_time": "2023-07-29T13:31:22.287Z"
   },
   {
    "duration": 20,
    "start_time": "2023-07-29T13:31:22.315Z"
   },
   {
    "duration": 13,
    "start_time": "2023-07-29T13:31:22.336Z"
   },
   {
    "duration": 15,
    "start_time": "2023-07-29T13:31:22.350Z"
   },
   {
    "duration": 26,
    "start_time": "2023-07-29T13:31:22.366Z"
   },
   {
    "duration": 4,
    "start_time": "2023-07-29T13:31:22.393Z"
   },
   {
    "duration": 28,
    "start_time": "2023-07-29T13:31:22.400Z"
   },
   {
    "duration": 5,
    "start_time": "2023-07-29T13:31:22.430Z"
   },
   {
    "duration": 17,
    "start_time": "2023-07-29T13:31:22.437Z"
   },
   {
    "duration": 15,
    "start_time": "2023-07-29T13:31:22.456Z"
   },
   {
    "duration": 33,
    "start_time": "2023-07-29T13:31:22.472Z"
   },
   {
    "duration": 15,
    "start_time": "2023-07-29T13:31:22.506Z"
   },
   {
    "duration": 14,
    "start_time": "2023-07-29T13:31:22.522Z"
   },
   {
    "duration": 12,
    "start_time": "2023-07-29T13:31:22.537Z"
   },
   {
    "duration": 14,
    "start_time": "2023-07-29T13:31:22.551Z"
   },
   {
    "duration": 6,
    "start_time": "2023-07-29T13:31:22.567Z"
   },
   {
    "duration": 30,
    "start_time": "2023-07-29T13:31:22.575Z"
   },
   {
    "duration": 146,
    "start_time": "2023-07-29T13:31:22.612Z"
   },
   {
    "duration": 7,
    "start_time": "2023-07-29T13:31:22.760Z"
   },
   {
    "duration": 9,
    "start_time": "2023-07-29T13:31:22.768Z"
   },
   {
    "duration": 30,
    "start_time": "2023-07-29T13:31:22.779Z"
   },
   {
    "duration": 175,
    "start_time": "2023-07-29T13:31:22.816Z"
   },
   {
    "duration": 15,
    "start_time": "2023-07-29T13:31:22.992Z"
   },
   {
    "duration": 17,
    "start_time": "2023-07-29T13:31:23.008Z"
   },
   {
    "duration": 6,
    "start_time": "2023-07-29T13:31:23.027Z"
   },
   {
    "duration": 12,
    "start_time": "2023-07-29T13:31:23.034Z"
   },
   {
    "duration": 18,
    "start_time": "2023-07-29T13:31:23.047Z"
   },
   {
    "duration": 8,
    "start_time": "2023-07-29T13:31:23.066Z"
   },
   {
    "duration": 19,
    "start_time": "2023-07-29T13:31:23.076Z"
   },
   {
    "duration": 38,
    "start_time": "2023-07-29T13:31:23.096Z"
   },
   {
    "duration": 24,
    "start_time": "2023-07-29T13:31:23.137Z"
   },
   {
    "duration": 14,
    "start_time": "2023-07-29T13:31:23.162Z"
   },
   {
    "duration": 5,
    "start_time": "2023-07-29T13:31:23.178Z"
   },
   {
    "duration": 290,
    "start_time": "2023-07-29T13:31:23.185Z"
   },
   {
    "duration": 5,
    "start_time": "2023-07-29T13:31:23.476Z"
   },
   {
    "duration": 272,
    "start_time": "2023-07-29T13:31:23.483Z"
   },
   {
    "duration": 200,
    "start_time": "2023-07-29T13:31:23.756Z"
   },
   {
    "duration": 15,
    "start_time": "2023-07-29T13:31:23.957Z"
   },
   {
    "duration": 10,
    "start_time": "2023-07-29T13:31:23.973Z"
   },
   {
    "duration": 53,
    "start_time": "2023-07-29T13:31:24.009Z"
   },
   {
    "duration": 20,
    "start_time": "2023-07-29T13:31:24.063Z"
   },
   {
    "duration": 5,
    "start_time": "2023-07-29T13:31:24.085Z"
   },
   {
    "duration": 21,
    "start_time": "2023-07-29T13:31:24.092Z"
   },
   {
    "duration": 185,
    "start_time": "2023-07-29T13:31:33.886Z"
   },
   {
    "duration": 33,
    "start_time": "2023-07-29T13:31:38.551Z"
   },
   {
    "duration": 116,
    "start_time": "2023-07-29T13:33:25.218Z"
   },
   {
    "duration": 124,
    "start_time": "2023-07-29T13:34:09.418Z"
   },
   {
    "duration": 223,
    "start_time": "2023-07-29T13:35:38.274Z"
   },
   {
    "duration": 466,
    "start_time": "2023-07-29T13:35:52.173Z"
   },
   {
    "duration": 243,
    "start_time": "2023-07-29T13:35:57.956Z"
   },
   {
    "duration": 277,
    "start_time": "2023-07-29T13:36:11.915Z"
   },
   {
    "duration": 265,
    "start_time": "2023-07-29T13:36:31.184Z"
   },
   {
    "duration": 282,
    "start_time": "2023-07-29T13:37:21.946Z"
   },
   {
    "duration": 277,
    "start_time": "2023-07-29T13:37:43.023Z"
   },
   {
    "duration": 274,
    "start_time": "2023-07-29T13:37:53.030Z"
   },
   {
    "duration": 535,
    "start_time": "2023-07-29T13:38:23.776Z"
   },
   {
    "duration": 9,
    "start_time": "2023-07-29T13:43:37.026Z"
   },
   {
    "duration": 5,
    "start_time": "2023-07-29T13:43:40.692Z"
   },
   {
    "duration": 14,
    "start_time": "2023-07-29T13:43:41.492Z"
   },
   {
    "duration": 3,
    "start_time": "2023-07-29T13:46:54.320Z"
   },
   {
    "duration": 80,
    "start_time": "2023-07-29T13:46:54.325Z"
   },
   {
    "duration": 12,
    "start_time": "2023-07-29T13:46:54.415Z"
   },
   {
    "duration": 93,
    "start_time": "2023-07-29T13:46:54.429Z"
   },
   {
    "duration": 16,
    "start_time": "2023-07-29T13:46:54.525Z"
   },
   {
    "duration": 4,
    "start_time": "2023-07-29T13:46:54.543Z"
   },
   {
    "duration": 18,
    "start_time": "2023-07-29T13:46:54.548Z"
   },
   {
    "duration": 29,
    "start_time": "2023-07-29T13:46:54.567Z"
   },
   {
    "duration": 31,
    "start_time": "2023-07-29T13:46:54.597Z"
   },
   {
    "duration": 6,
    "start_time": "2023-07-29T13:46:54.630Z"
   },
   {
    "duration": 22,
    "start_time": "2023-07-29T13:46:54.639Z"
   },
   {
    "duration": 15,
    "start_time": "2023-07-29T13:46:54.663Z"
   },
   {
    "duration": 36,
    "start_time": "2023-07-29T13:46:54.680Z"
   },
   {
    "duration": 20,
    "start_time": "2023-07-29T13:46:54.717Z"
   },
   {
    "duration": 19,
    "start_time": "2023-07-29T13:46:54.738Z"
   },
   {
    "duration": 17,
    "start_time": "2023-07-29T13:46:54.759Z"
   },
   {
    "duration": 34,
    "start_time": "2023-07-29T13:46:54.777Z"
   },
   {
    "duration": 14,
    "start_time": "2023-07-29T13:46:54.813Z"
   },
   {
    "duration": 29,
    "start_time": "2023-07-29T13:46:54.829Z"
   },
   {
    "duration": 18,
    "start_time": "2023-07-29T13:46:54.860Z"
   },
   {
    "duration": 32,
    "start_time": "2023-07-29T13:46:54.879Z"
   },
   {
    "duration": 180,
    "start_time": "2023-07-29T13:46:54.914Z"
   },
   {
    "duration": 12,
    "start_time": "2023-07-29T13:46:55.096Z"
   },
   {
    "duration": 21,
    "start_time": "2023-07-29T13:46:55.115Z"
   },
   {
    "duration": 18,
    "start_time": "2023-07-29T13:46:55.137Z"
   },
   {
    "duration": 195,
    "start_time": "2023-07-29T13:46:55.156Z"
   },
   {
    "duration": 10,
    "start_time": "2023-07-29T13:46:55.352Z"
   },
   {
    "duration": 5,
    "start_time": "2023-07-29T13:46:55.364Z"
   },
   {
    "duration": 42,
    "start_time": "2023-07-29T13:46:55.372Z"
   },
   {
    "duration": 9,
    "start_time": "2023-07-29T13:46:55.416Z"
   },
   {
    "duration": 6,
    "start_time": "2023-07-29T13:46:55.427Z"
   },
   {
    "duration": 9,
    "start_time": "2023-07-29T13:46:55.434Z"
   },
   {
    "duration": 19,
    "start_time": "2023-07-29T13:46:55.444Z"
   },
   {
    "duration": 16,
    "start_time": "2023-07-29T13:46:55.465Z"
   },
   {
    "duration": 44,
    "start_time": "2023-07-29T13:46:55.483Z"
   },
   {
    "duration": 43,
    "start_time": "2023-07-29T13:46:55.529Z"
   },
   {
    "duration": 6,
    "start_time": "2023-07-29T13:46:55.574Z"
   },
   {
    "duration": 298,
    "start_time": "2023-07-29T13:46:55.582Z"
   },
   {
    "duration": 6,
    "start_time": "2023-07-29T13:46:55.885Z"
   },
   {
    "duration": 353,
    "start_time": "2023-07-29T13:46:55.893Z"
   },
   {
    "duration": 199,
    "start_time": "2023-07-29T13:46:56.247Z"
   },
   {
    "duration": 13,
    "start_time": "2023-07-29T13:46:56.448Z"
   },
   {
    "duration": 11,
    "start_time": "2023-07-29T13:46:56.463Z"
   },
   {
    "duration": 28,
    "start_time": "2023-07-29T13:46:56.475Z"
   },
   {
    "duration": 44,
    "start_time": "2023-07-29T13:46:56.504Z"
   },
   {
    "duration": 9,
    "start_time": "2023-07-29T13:46:56.549Z"
   },
   {
    "duration": 17,
    "start_time": "2023-07-29T13:46:56.559Z"
   },
   {
    "duration": 308,
    "start_time": "2023-07-29T13:46:56.577Z"
   },
   {
    "duration": 274,
    "start_time": "2023-07-29T13:46:56.887Z"
   },
   {
    "duration": 6,
    "start_time": "2023-07-29T13:46:57.163Z"
   },
   {
    "duration": 5,
    "start_time": "2023-07-29T13:46:58.988Z"
   },
   {
    "duration": 9,
    "start_time": "2023-07-29T13:46:59.734Z"
   },
   {
    "duration": 180,
    "start_time": "2023-07-29T13:47:43.229Z"
   },
   {
    "duration": 192,
    "start_time": "2023-07-29T13:48:09.427Z"
   },
   {
    "duration": 5,
    "start_time": "2023-07-29T13:48:42.990Z"
   },
   {
    "duration": 8,
    "start_time": "2023-07-29T13:48:43.988Z"
   },
   {
    "duration": 175,
    "start_time": "2023-07-29T13:49:45.134Z"
   },
   {
    "duration": 177,
    "start_time": "2023-07-29T13:49:52.877Z"
   },
   {
    "duration": 6,
    "start_time": "2023-07-29T13:51:12.850Z"
   },
   {
    "duration": 9,
    "start_time": "2023-07-29T13:51:14.030Z"
   },
   {
    "duration": 291,
    "start_time": "2023-07-29T13:52:40.994Z"
   },
   {
    "duration": 306,
    "start_time": "2023-07-29T13:52:43.875Z"
   },
   {
    "duration": 5,
    "start_time": "2023-07-29T13:55:09.630Z"
   },
   {
    "duration": 23,
    "start_time": "2023-07-29T13:55:15.996Z"
   },
   {
    "duration": 166,
    "start_time": "2023-07-29T13:56:10.332Z"
   },
   {
    "duration": 182,
    "start_time": "2023-07-29T13:56:15.146Z"
   },
   {
    "duration": 5,
    "start_time": "2023-07-29T13:56:39.177Z"
   },
   {
    "duration": 9,
    "start_time": "2023-07-29T13:56:40.229Z"
   },
   {
    "duration": 12,
    "start_time": "2023-07-29T13:58:31.881Z"
   },
   {
    "duration": 10,
    "start_time": "2023-07-29T13:58:39.429Z"
   },
   {
    "duration": 10,
    "start_time": "2023-07-29T13:59:12.954Z"
   },
   {
    "duration": 174,
    "start_time": "2023-07-29T13:59:22.393Z"
   },
   {
    "duration": 229,
    "start_time": "2023-07-29T13:59:25.980Z"
   },
   {
    "duration": 202,
    "start_time": "2023-07-29T14:04:33.133Z"
   },
   {
    "duration": 206,
    "start_time": "2023-07-29T14:04:39.338Z"
   },
   {
    "duration": 1823,
    "start_time": "2023-07-30T03:11:50.359Z"
   },
   {
    "duration": 152,
    "start_time": "2023-07-30T03:11:52.185Z"
   },
   {
    "duration": 28,
    "start_time": "2023-07-30T03:11:52.341Z"
   },
   {
    "duration": 38,
    "start_time": "2023-07-30T03:11:52.373Z"
   },
   {
    "duration": 32,
    "start_time": "2023-07-30T03:11:52.414Z"
   },
   {
    "duration": 28,
    "start_time": "2023-07-30T03:11:52.450Z"
   },
   {
    "duration": 4,
    "start_time": "2023-07-30T03:11:52.480Z"
   },
   {
    "duration": 48,
    "start_time": "2023-07-30T03:11:52.486Z"
   },
   {
    "duration": 23,
    "start_time": "2023-07-30T03:11:52.537Z"
   },
   {
    "duration": 14,
    "start_time": "2023-07-30T03:11:52.564Z"
   },
   {
    "duration": 7,
    "start_time": "2023-07-30T03:11:52.579Z"
   },
   {
    "duration": 10,
    "start_time": "2023-07-30T03:11:52.597Z"
   },
   {
    "duration": 42,
    "start_time": "2023-07-30T03:11:52.609Z"
   },
   {
    "duration": 30,
    "start_time": "2023-07-30T03:11:52.653Z"
   },
   {
    "duration": 55,
    "start_time": "2023-07-30T03:11:52.685Z"
   },
   {
    "duration": 20,
    "start_time": "2023-07-30T03:11:52.742Z"
   },
   {
    "duration": 36,
    "start_time": "2023-07-30T03:11:52.764Z"
   },
   {
    "duration": 24,
    "start_time": "2023-07-30T03:11:52.805Z"
   },
   {
    "duration": 11,
    "start_time": "2023-07-30T03:11:52.831Z"
   },
   {
    "duration": 7,
    "start_time": "2023-07-30T03:11:52.844Z"
   },
   {
    "duration": 13,
    "start_time": "2023-07-30T03:11:52.854Z"
   },
   {
    "duration": 245,
    "start_time": "2023-07-30T03:11:52.869Z"
   },
   {
    "duration": 14,
    "start_time": "2023-07-30T03:11:53.115Z"
   },
   {
    "duration": 16,
    "start_time": "2023-07-30T03:11:53.131Z"
   },
   {
    "duration": 7,
    "start_time": "2023-07-30T03:11:53.149Z"
   },
   {
    "duration": 270,
    "start_time": "2023-07-30T03:11:53.159Z"
   },
   {
    "duration": 15,
    "start_time": "2023-07-30T03:11:53.430Z"
   },
   {
    "duration": 6,
    "start_time": "2023-07-30T03:11:53.449Z"
   },
   {
    "duration": 8,
    "start_time": "2023-07-30T03:11:53.456Z"
   },
   {
    "duration": 17,
    "start_time": "2023-07-30T03:11:53.492Z"
   },
   {
    "duration": 9,
    "start_time": "2023-07-30T03:11:53.510Z"
   },
   {
    "duration": 10,
    "start_time": "2023-07-30T03:11:53.522Z"
   },
   {
    "duration": 30,
    "start_time": "2023-07-30T03:11:53.537Z"
   },
   {
    "duration": 49,
    "start_time": "2023-07-30T03:11:53.569Z"
   },
   {
    "duration": 27,
    "start_time": "2023-07-30T03:11:53.619Z"
   },
   {
    "duration": 22,
    "start_time": "2023-07-30T03:11:53.648Z"
   },
   {
    "duration": 15,
    "start_time": "2023-07-30T03:11:53.672Z"
   },
   {
    "duration": 503,
    "start_time": "2023-07-30T03:11:53.690Z"
   },
   {
    "duration": 8,
    "start_time": "2023-07-30T03:11:54.198Z"
   },
   {
    "duration": 363,
    "start_time": "2023-07-30T03:11:54.208Z"
   },
   {
    "duration": 322,
    "start_time": "2023-07-30T03:11:54.573Z"
   },
   {
    "duration": 31,
    "start_time": "2023-07-30T03:11:54.898Z"
   },
   {
    "duration": 23,
    "start_time": "2023-07-30T03:11:54.938Z"
   },
   {
    "duration": 16,
    "start_time": "2023-07-30T03:11:54.964Z"
   },
   {
    "duration": 49,
    "start_time": "2023-07-30T03:11:54.982Z"
   },
   {
    "duration": 9,
    "start_time": "2023-07-30T03:11:55.033Z"
   },
   {
    "duration": 19,
    "start_time": "2023-07-30T03:11:55.044Z"
   },
   {
    "duration": 686,
    "start_time": "2023-07-30T03:11:55.065Z"
   },
   {
    "duration": 463,
    "start_time": "2023-07-30T03:11:55.753Z"
   },
   {
    "duration": 21,
    "start_time": "2023-07-30T03:11:56.225Z"
   },
   {
    "duration": 248,
    "start_time": "2023-07-30T03:11:56.249Z"
   },
   {
    "duration": 242,
    "start_time": "2023-07-30T03:11:56.500Z"
   },
   {
    "duration": 21,
    "start_time": "2023-07-30T03:11:56.744Z"
   },
   {
    "duration": 208,
    "start_time": "2023-07-30T03:11:56.767Z"
   },
   {
    "duration": 215,
    "start_time": "2023-07-30T03:11:56.977Z"
   },
   {
    "duration": 14,
    "start_time": "2023-07-30T03:11:57.196Z"
   },
   {
    "duration": 253,
    "start_time": "2023-07-30T03:11:57.215Z"
   },
   {
    "duration": 213,
    "start_time": "2023-07-30T03:11:57.470Z"
   },
   {
    "duration": 131,
    "start_time": "2023-07-30T03:12:27.588Z"
   },
   {
    "duration": 8,
    "start_time": "2023-07-30T03:12:48.427Z"
   },
   {
    "duration": 10,
    "start_time": "2023-07-30T03:12:59.918Z"
   },
   {
    "duration": 5,
    "start_time": "2023-07-30T03:13:50.335Z"
   },
   {
    "duration": 6,
    "start_time": "2023-07-30T03:14:08.463Z"
   },
   {
    "duration": 6,
    "start_time": "2023-07-30T03:14:14.785Z"
   },
   {
    "duration": 5,
    "start_time": "2023-07-30T03:14:26.334Z"
   },
   {
    "duration": 5,
    "start_time": "2023-07-30T03:14:29.528Z"
   },
   {
    "duration": 217,
    "start_time": "2023-07-30T03:15:00.202Z"
   },
   {
    "duration": 206,
    "start_time": "2023-07-30T03:15:21.014Z"
   },
   {
    "duration": 215,
    "start_time": "2023-07-30T03:15:39.926Z"
   },
   {
    "duration": 15,
    "start_time": "2023-07-30T03:16:15.455Z"
   },
   {
    "duration": 11,
    "start_time": "2023-07-30T03:16:20.213Z"
   },
   {
    "duration": 8,
    "start_time": "2023-07-30T03:17:34.716Z"
   },
   {
    "duration": 12,
    "start_time": "2023-07-30T03:17:48.289Z"
   },
   {
    "duration": 9,
    "start_time": "2023-07-30T03:19:10.220Z"
   },
   {
    "duration": 9,
    "start_time": "2023-07-30T03:19:17.892Z"
   },
   {
    "duration": 6,
    "start_time": "2023-07-30T03:19:44.150Z"
   },
   {
    "duration": 9,
    "start_time": "2023-07-30T03:19:47.509Z"
   },
   {
    "duration": 7,
    "start_time": "2023-07-30T03:19:51.572Z"
   },
   {
    "duration": 9,
    "start_time": "2023-07-30T03:19:54.876Z"
   },
   {
    "duration": 9,
    "start_time": "2023-07-30T03:20:14.848Z"
   },
   {
    "duration": 8,
    "start_time": "2023-07-30T03:20:29.618Z"
   },
   {
    "duration": 8,
    "start_time": "2023-07-30T03:20:33.557Z"
   },
   {
    "duration": 243,
    "start_time": "2023-07-30T03:20:59.290Z"
   },
   {
    "duration": 7,
    "start_time": "2023-07-30T03:26:24.555Z"
   },
   {
    "duration": 4,
    "start_time": "2023-07-30T03:41:51.666Z"
   },
   {
    "duration": 81,
    "start_time": "2023-07-30T03:41:51.672Z"
   },
   {
    "duration": 15,
    "start_time": "2023-07-30T03:41:51.755Z"
   },
   {
    "duration": 7,
    "start_time": "2023-07-30T03:41:51.773Z"
   },
   {
    "duration": 25,
    "start_time": "2023-07-30T03:41:51.783Z"
   },
   {
    "duration": 13,
    "start_time": "2023-07-30T03:41:51.810Z"
   },
   {
    "duration": 4,
    "start_time": "2023-07-30T03:41:51.828Z"
   },
   {
    "duration": 23,
    "start_time": "2023-07-30T03:41:51.834Z"
   },
   {
    "duration": 40,
    "start_time": "2023-07-30T03:41:51.859Z"
   },
   {
    "duration": 7,
    "start_time": "2023-07-30T03:41:51.901Z"
   },
   {
    "duration": 14,
    "start_time": "2023-07-30T03:41:51.917Z"
   },
   {
    "duration": 8,
    "start_time": "2023-07-30T03:41:51.932Z"
   },
   {
    "duration": 20,
    "start_time": "2023-07-30T03:41:51.942Z"
   },
   {
    "duration": 31,
    "start_time": "2023-07-30T03:41:51.989Z"
   },
   {
    "duration": 22,
    "start_time": "2023-07-30T03:41:52.022Z"
   },
   {
    "duration": 14,
    "start_time": "2023-07-30T03:41:52.046Z"
   },
   {
    "duration": 53,
    "start_time": "2023-07-30T03:41:52.062Z"
   },
   {
    "duration": 24,
    "start_time": "2023-07-30T03:41:52.123Z"
   },
   {
    "duration": 17,
    "start_time": "2023-07-30T03:41:52.149Z"
   },
   {
    "duration": 5,
    "start_time": "2023-07-30T03:41:52.168Z"
   },
   {
    "duration": 31,
    "start_time": "2023-07-30T03:41:52.174Z"
   },
   {
    "duration": 200,
    "start_time": "2023-07-30T03:41:52.208Z"
   },
   {
    "duration": 9,
    "start_time": "2023-07-30T03:41:52.409Z"
   },
   {
    "duration": 26,
    "start_time": "2023-07-30T03:41:52.420Z"
   },
   {
    "duration": 7,
    "start_time": "2023-07-30T03:41:52.448Z"
   },
   {
    "duration": 265,
    "start_time": "2023-07-30T03:41:52.457Z"
   },
   {
    "duration": 15,
    "start_time": "2023-07-30T03:41:52.723Z"
   },
   {
    "duration": 5,
    "start_time": "2023-07-30T03:41:52.740Z"
   },
   {
    "duration": 6,
    "start_time": "2023-07-30T03:41:52.749Z"
   },
   {
    "duration": 35,
    "start_time": "2023-07-30T03:41:52.757Z"
   },
   {
    "duration": 11,
    "start_time": "2023-07-30T03:41:52.794Z"
   },
   {
    "duration": 8,
    "start_time": "2023-07-30T03:41:52.807Z"
   },
   {
    "duration": 24,
    "start_time": "2023-07-30T03:41:52.817Z"
   },
   {
    "duration": 20,
    "start_time": "2023-07-30T03:41:52.843Z"
   },
   {
    "duration": 56,
    "start_time": "2023-07-30T03:41:52.865Z"
   },
   {
    "duration": 18,
    "start_time": "2023-07-30T03:41:52.923Z"
   },
   {
    "duration": 8,
    "start_time": "2023-07-30T03:41:52.943Z"
   },
   {
    "duration": 772,
    "start_time": "2023-07-30T03:41:52.953Z"
   },
   {
    "duration": 8,
    "start_time": "2023-07-30T03:41:53.728Z"
   },
   {
    "duration": 401,
    "start_time": "2023-07-30T03:41:53.738Z"
   },
   {
    "duration": 288,
    "start_time": "2023-07-30T03:41:54.141Z"
   },
   {
    "duration": 29,
    "start_time": "2023-07-30T03:41:54.433Z"
   },
   {
    "duration": 13,
    "start_time": "2023-07-30T03:41:54.464Z"
   },
   {
    "duration": 13,
    "start_time": "2023-07-30T03:41:54.489Z"
   },
   {
    "duration": 42,
    "start_time": "2023-07-30T03:41:54.507Z"
   },
   {
    "duration": 10,
    "start_time": "2023-07-30T03:41:54.551Z"
   },
   {
    "duration": 9,
    "start_time": "2023-07-30T03:41:54.563Z"
   },
   {
    "duration": 439,
    "start_time": "2023-07-30T03:41:54.574Z"
   },
   {
    "duration": 465,
    "start_time": "2023-07-30T03:41:55.016Z"
   },
   {
    "duration": 31,
    "start_time": "2023-07-30T03:41:55.483Z"
   },
   {
    "duration": 206,
    "start_time": "2023-07-30T03:41:55.519Z"
   },
   {
    "duration": 215,
    "start_time": "2023-07-30T03:41:55.728Z"
   },
   {
    "duration": 15,
    "start_time": "2023-07-30T03:41:55.945Z"
   },
   {
    "duration": 224,
    "start_time": "2023-07-30T03:41:55.962Z"
   },
   {
    "duration": 218,
    "start_time": "2023-07-30T03:41:56.191Z"
   },
   {
    "duration": 13,
    "start_time": "2023-07-30T03:41:56.418Z"
   },
   {
    "duration": 227,
    "start_time": "2023-07-30T03:41:56.433Z"
   },
   {
    "duration": 216,
    "start_time": "2023-07-30T03:41:56.662Z"
   },
   {
    "duration": 24,
    "start_time": "2023-07-30T03:41:56.880Z"
   },
   {
    "duration": 233,
    "start_time": "2023-07-30T03:41:56.913Z"
   },
   {
    "duration": 6,
    "start_time": "2023-07-30T03:41:57.148Z"
   },
   {
    "duration": 228,
    "start_time": "2023-07-30T03:41:57.156Z"
   },
   {
    "duration": 30,
    "start_time": "2023-07-30T03:41:57.386Z"
   },
   {
    "duration": 21,
    "start_time": "2023-07-30T03:41:57.418Z"
   },
   {
    "duration": 17,
    "start_time": "2023-07-30T03:42:13.267Z"
   },
   {
    "duration": 19,
    "start_time": "2023-07-30T03:49:56.428Z"
   },
   {
    "duration": 19,
    "start_time": "2023-07-30T03:51:57.744Z"
   },
   {
    "duration": 3,
    "start_time": "2023-07-30T04:03:07.820Z"
   },
   {
    "duration": 112,
    "start_time": "2023-07-30T04:03:07.826Z"
   },
   {
    "duration": 18,
    "start_time": "2023-07-30T04:03:07.939Z"
   },
   {
    "duration": 38,
    "start_time": "2023-07-30T04:03:07.959Z"
   },
   {
    "duration": 41,
    "start_time": "2023-07-30T04:03:08.000Z"
   },
   {
    "duration": 29,
    "start_time": "2023-07-30T04:03:08.044Z"
   },
   {
    "duration": 37,
    "start_time": "2023-07-30T04:03:08.075Z"
   },
   {
    "duration": 55,
    "start_time": "2023-07-30T04:03:08.117Z"
   },
   {
    "duration": 57,
    "start_time": "2023-07-30T04:03:08.174Z"
   },
   {
    "duration": 14,
    "start_time": "2023-07-30T04:03:08.233Z"
   },
   {
    "duration": 60,
    "start_time": "2023-07-30T04:03:08.250Z"
   },
   {
    "duration": 7,
    "start_time": "2023-07-30T04:03:08.316Z"
   },
   {
    "duration": 55,
    "start_time": "2023-07-30T04:03:08.325Z"
   },
   {
    "duration": 53,
    "start_time": "2023-07-30T04:03:08.389Z"
   },
   {
    "duration": 22,
    "start_time": "2023-07-30T04:03:08.445Z"
   },
   {
    "duration": 47,
    "start_time": "2023-07-30T04:03:08.469Z"
   },
   {
    "duration": 27,
    "start_time": "2023-07-30T04:03:08.518Z"
   },
   {
    "duration": 26,
    "start_time": "2023-07-30T04:03:08.547Z"
   },
   {
    "duration": 46,
    "start_time": "2023-07-30T04:03:08.575Z"
   },
   {
    "duration": 48,
    "start_time": "2023-07-30T04:03:08.624Z"
   },
   {
    "duration": 62,
    "start_time": "2023-07-30T04:03:08.674Z"
   },
   {
    "duration": 296,
    "start_time": "2023-07-30T04:03:08.739Z"
   },
   {
    "duration": 9,
    "start_time": "2023-07-30T04:03:09.037Z"
   },
   {
    "duration": 33,
    "start_time": "2023-07-30T04:03:09.048Z"
   },
   {
    "duration": 52,
    "start_time": "2023-07-30T04:03:09.083Z"
   },
   {
    "duration": 282,
    "start_time": "2023-07-30T04:03:09.136Z"
   },
   {
    "duration": 13,
    "start_time": "2023-07-30T04:03:09.419Z"
   },
   {
    "duration": 61,
    "start_time": "2023-07-30T04:03:09.434Z"
   },
   {
    "duration": 41,
    "start_time": "2023-07-30T04:03:09.505Z"
   },
   {
    "duration": 58,
    "start_time": "2023-07-30T04:03:09.549Z"
   },
   {
    "duration": 41,
    "start_time": "2023-07-30T04:03:09.611Z"
   },
   {
    "duration": 112,
    "start_time": "2023-07-30T04:03:09.655Z"
   },
   {
    "duration": 182,
    "start_time": "2023-07-30T04:03:09.768Z"
   },
   {
    "duration": 34,
    "start_time": "2023-07-30T04:03:09.952Z"
   },
   {
    "duration": 43,
    "start_time": "2023-07-30T04:03:09.987Z"
   },
   {
    "duration": 21,
    "start_time": "2023-07-30T04:03:10.032Z"
   },
   {
    "duration": 54,
    "start_time": "2023-07-30T04:03:10.055Z"
   },
   {
    "duration": 404,
    "start_time": "2023-07-30T04:03:10.111Z"
   },
   {
    "duration": 8,
    "start_time": "2023-07-30T04:03:10.522Z"
   },
   {
    "duration": 354,
    "start_time": "2023-07-30T04:03:10.532Z"
   },
   {
    "duration": 271,
    "start_time": "2023-07-30T04:03:10.904Z"
   },
   {
    "duration": 44,
    "start_time": "2023-07-30T04:03:11.178Z"
   },
   {
    "duration": 13,
    "start_time": "2023-07-30T04:03:11.227Z"
   },
   {
    "duration": 49,
    "start_time": "2023-07-30T04:03:11.243Z"
   },
   {
    "duration": 54,
    "start_time": "2023-07-30T04:03:11.294Z"
   },
   {
    "duration": 7,
    "start_time": "2023-07-30T04:03:11.350Z"
   },
   {
    "duration": 28,
    "start_time": "2023-07-30T04:03:11.359Z"
   },
   {
    "duration": 356,
    "start_time": "2023-07-30T04:03:11.395Z"
   },
   {
    "duration": 347,
    "start_time": "2023-07-30T04:03:11.752Z"
   },
   {
    "duration": 20,
    "start_time": "2023-07-30T04:03:12.102Z"
   },
   {
    "duration": 209,
    "start_time": "2023-07-30T04:03:12.124Z"
   },
   {
    "duration": 211,
    "start_time": "2023-07-30T04:03:12.335Z"
   },
   {
    "duration": 12,
    "start_time": "2023-07-30T04:03:12.548Z"
   },
   {
    "duration": 276,
    "start_time": "2023-07-30T04:03:12.562Z"
   },
   {
    "duration": 242,
    "start_time": "2023-07-30T04:03:12.840Z"
   },
   {
    "duration": 27,
    "start_time": "2023-07-30T04:03:13.084Z"
   },
   {
    "duration": 222,
    "start_time": "2023-07-30T04:03:13.112Z"
   },
   {
    "duration": 201,
    "start_time": "2023-07-30T04:03:13.335Z"
   },
   {
    "duration": 6,
    "start_time": "2023-07-30T04:03:13.538Z"
   },
   {
    "duration": 266,
    "start_time": "2023-07-30T04:03:13.546Z"
   },
   {
    "duration": 13,
    "start_time": "2023-07-30T04:03:13.814Z"
   },
   {
    "duration": 734,
    "start_time": "2023-07-30T04:03:13.829Z"
   },
   {
    "duration": 38,
    "start_time": "2023-07-30T04:03:14.565Z"
   },
   {
    "duration": 33,
    "start_time": "2023-07-30T04:03:14.605Z"
   },
   {
    "duration": 17,
    "start_time": "2023-07-30T04:03:14.640Z"
   },
   {
    "duration": 22,
    "start_time": "2023-07-30T04:03:14.660Z"
   },
   {
    "duration": 322,
    "start_time": "2023-07-30T04:03:14.685Z"
   },
   {
    "duration": 10,
    "start_time": "2023-07-30T04:03:15.009Z"
   },
   {
    "duration": 251,
    "start_time": "2023-07-30T04:04:03.040Z"
   },
   {
    "duration": 229,
    "start_time": "2023-07-30T04:04:18.019Z"
   },
   {
    "duration": 239,
    "start_time": "2023-07-30T04:04:23.152Z"
   },
   {
    "duration": 7,
    "start_time": "2023-07-30T04:05:21.514Z"
   },
   {
    "duration": 10,
    "start_time": "2023-07-30T04:05:29.813Z"
   },
   {
    "duration": 6,
    "start_time": "2023-07-30T04:09:31.591Z"
   },
   {
    "duration": 17,
    "start_time": "2023-07-30T04:09:46.281Z"
   },
   {
    "duration": 289,
    "start_time": "2023-07-30T04:09:47.236Z"
   },
   {
    "duration": 6,
    "start_time": "2023-07-30T04:09:53.661Z"
   },
   {
    "duration": 22,
    "start_time": "2023-07-30T04:16:07.686Z"
   },
   {
    "duration": 304,
    "start_time": "2023-07-30T04:16:12.760Z"
   },
   {
    "duration": 6,
    "start_time": "2023-07-30T04:16:55.374Z"
   },
   {
    "duration": 5,
    "start_time": "2023-07-30T04:19:43.567Z"
   },
   {
    "duration": 5,
    "start_time": "2023-07-30T04:19:57.044Z"
   },
   {
    "duration": 1379,
    "start_time": "2023-07-30T04:34:39.178Z"
   },
   {
    "duration": 78,
    "start_time": "2023-07-30T04:34:40.559Z"
   },
   {
    "duration": 23,
    "start_time": "2023-07-30T04:34:40.640Z"
   },
   {
    "duration": 3,
    "start_time": "2023-07-30T04:34:40.666Z"
   },
   {
    "duration": 32,
    "start_time": "2023-07-30T04:34:40.671Z"
   },
   {
    "duration": 15,
    "start_time": "2023-07-30T04:34:40.709Z"
   },
   {
    "duration": 9,
    "start_time": "2023-07-30T04:34:40.726Z"
   },
   {
    "duration": 25,
    "start_time": "2023-07-30T04:34:40.737Z"
   },
   {
    "duration": 48,
    "start_time": "2023-07-30T04:34:40.763Z"
   },
   {
    "duration": 8,
    "start_time": "2023-07-30T04:34:40.827Z"
   },
   {
    "duration": 25,
    "start_time": "2023-07-30T04:34:40.838Z"
   },
   {
    "duration": 9,
    "start_time": "2023-07-30T04:34:40.865Z"
   },
   {
    "duration": 36,
    "start_time": "2023-07-30T04:34:40.876Z"
   },
   {
    "duration": 51,
    "start_time": "2023-07-30T04:34:40.915Z"
   },
   {
    "duration": 32,
    "start_time": "2023-07-30T04:34:40.968Z"
   },
   {
    "duration": 31,
    "start_time": "2023-07-30T04:34:41.002Z"
   },
   {
    "duration": 24,
    "start_time": "2023-07-30T04:34:41.039Z"
   },
   {
    "duration": 15,
    "start_time": "2023-07-30T04:34:41.065Z"
   },
   {
    "duration": 20,
    "start_time": "2023-07-30T04:34:41.101Z"
   },
   {
    "duration": 7,
    "start_time": "2023-07-30T04:34:41.123Z"
   },
   {
    "duration": 12,
    "start_time": "2023-07-30T04:34:41.132Z"
   },
   {
    "duration": 232,
    "start_time": "2023-07-30T04:34:41.146Z"
   },
   {
    "duration": 18,
    "start_time": "2023-07-30T04:34:41.380Z"
   },
   {
    "duration": 11,
    "start_time": "2023-07-30T04:34:41.400Z"
   },
   {
    "duration": 12,
    "start_time": "2023-07-30T04:34:41.413Z"
   },
   {
    "duration": 249,
    "start_time": "2023-07-30T04:34:41.434Z"
   },
   {
    "duration": 17,
    "start_time": "2023-07-30T04:34:41.684Z"
   },
   {
    "duration": 17,
    "start_time": "2023-07-30T04:34:41.707Z"
   },
   {
    "duration": 17,
    "start_time": "2023-07-30T04:34:41.725Z"
   },
   {
    "duration": 12,
    "start_time": "2023-07-30T04:34:41.744Z"
   },
   {
    "duration": 4,
    "start_time": "2023-07-30T04:34:41.758Z"
   },
   {
    "duration": 7,
    "start_time": "2023-07-30T04:34:41.764Z"
   },
   {
    "duration": 33,
    "start_time": "2023-07-30T04:34:41.773Z"
   },
   {
    "duration": 29,
    "start_time": "2023-07-30T04:34:41.808Z"
   },
   {
    "duration": 24,
    "start_time": "2023-07-30T04:34:41.839Z"
   },
   {
    "duration": 46,
    "start_time": "2023-07-30T04:34:41.865Z"
   },
   {
    "duration": 7,
    "start_time": "2023-07-30T04:34:41.913Z"
   },
   {
    "duration": 406,
    "start_time": "2023-07-30T04:34:41.922Z"
   },
   {
    "duration": 8,
    "start_time": "2023-07-30T04:34:42.332Z"
   },
   {
    "duration": 367,
    "start_time": "2023-07-30T04:34:42.342Z"
   },
   {
    "duration": 249,
    "start_time": "2023-07-30T04:34:42.710Z"
   },
   {
    "duration": 29,
    "start_time": "2023-07-30T04:34:42.961Z"
   },
   {
    "duration": 27,
    "start_time": "2023-07-30T04:34:42.998Z"
   },
   {
    "duration": 10,
    "start_time": "2023-07-30T04:34:43.027Z"
   },
   {
    "duration": 82,
    "start_time": "2023-07-30T04:34:43.038Z"
   },
   {
    "duration": 9,
    "start_time": "2023-07-30T04:34:43.122Z"
   },
   {
    "duration": 7,
    "start_time": "2023-07-30T04:34:43.136Z"
   },
   {
    "duration": 380,
    "start_time": "2023-07-30T04:34:43.145Z"
   },
   {
    "duration": 421,
    "start_time": "2023-07-30T04:34:43.527Z"
   },
   {
    "duration": 12,
    "start_time": "2023-07-30T04:34:43.950Z"
   },
   {
    "duration": 203,
    "start_time": "2023-07-30T04:34:43.963Z"
   },
   {
    "duration": 227,
    "start_time": "2023-07-30T04:34:44.168Z"
   },
   {
    "duration": 16,
    "start_time": "2023-07-30T04:34:44.399Z"
   },
   {
    "duration": 177,
    "start_time": "2023-07-30T04:34:44.416Z"
   },
   {
    "duration": 234,
    "start_time": "2023-07-30T04:34:44.594Z"
   },
   {
    "duration": 12,
    "start_time": "2023-07-30T04:34:44.832Z"
   },
   {
    "duration": 227,
    "start_time": "2023-07-30T04:34:44.846Z"
   },
   {
    "duration": 217,
    "start_time": "2023-07-30T04:34:45.076Z"
   },
   {
    "duration": 22,
    "start_time": "2023-07-30T04:34:45.294Z"
   },
   {
    "duration": 238,
    "start_time": "2023-07-30T04:34:45.322Z"
   },
   {
    "duration": 7,
    "start_time": "2023-07-30T04:34:45.561Z"
   },
   {
    "duration": 254,
    "start_time": "2023-07-30T04:34:45.569Z"
   },
   {
    "duration": 16,
    "start_time": "2023-07-30T04:34:45.825Z"
   },
   {
    "duration": 18,
    "start_time": "2023-07-30T04:34:45.842Z"
   },
   {
    "duration": 17,
    "start_time": "2023-07-30T04:34:45.862Z"
   },
   {
    "duration": 23,
    "start_time": "2023-07-30T04:34:45.891Z"
   },
   {
    "duration": 266,
    "start_time": "2023-07-30T04:34:45.916Z"
   },
   {
    "duration": 20,
    "start_time": "2023-07-30T04:34:46.187Z"
   },
   {
    "duration": 27,
    "start_time": "2023-07-30T04:34:46.211Z"
   },
   {
    "duration": 413,
    "start_time": "2023-07-30T04:34:46.240Z"
   },
   {
    "duration": 6,
    "start_time": "2023-07-30T04:34:46.655Z"
   },
   {
    "duration": 8,
    "start_time": "2023-07-30T04:35:56.166Z"
   },
   {
    "duration": 54,
    "start_time": "2023-07-30T04:42:23.287Z"
   },
   {
    "duration": 6,
    "start_time": "2023-07-30T04:47:18.069Z"
   },
   {
    "duration": 4,
    "start_time": "2023-07-30T04:47:24.456Z"
   },
   {
    "duration": 100,
    "start_time": "2023-07-30T04:47:24.467Z"
   },
   {
    "duration": 26,
    "start_time": "2023-07-30T04:47:24.569Z"
   },
   {
    "duration": 6,
    "start_time": "2023-07-30T04:47:24.596Z"
   },
   {
    "duration": 38,
    "start_time": "2023-07-30T04:47:24.604Z"
   },
   {
    "duration": 8,
    "start_time": "2023-07-30T04:47:24.650Z"
   },
   {
    "duration": 23,
    "start_time": "2023-07-30T04:47:24.660Z"
   },
   {
    "duration": 66,
    "start_time": "2023-07-30T04:47:24.689Z"
   },
   {
    "duration": 52,
    "start_time": "2023-07-30T04:47:24.759Z"
   },
   {
    "duration": 9,
    "start_time": "2023-07-30T04:47:24.814Z"
   },
   {
    "duration": 7,
    "start_time": "2023-07-30T04:47:24.825Z"
   },
   {
    "duration": 6,
    "start_time": "2023-07-30T04:47:24.834Z"
   },
   {
    "duration": 55,
    "start_time": "2023-07-30T04:47:24.842Z"
   },
   {
    "duration": 38,
    "start_time": "2023-07-30T04:47:24.902Z"
   },
   {
    "duration": 47,
    "start_time": "2023-07-30T04:47:24.946Z"
   },
   {
    "duration": 55,
    "start_time": "2023-07-30T04:47:24.998Z"
   },
   {
    "duration": 22,
    "start_time": "2023-07-30T04:47:25.062Z"
   },
   {
    "duration": 24,
    "start_time": "2023-07-30T04:47:25.098Z"
   },
   {
    "duration": 23,
    "start_time": "2023-07-30T04:47:25.123Z"
   },
   {
    "duration": 26,
    "start_time": "2023-07-30T04:47:25.150Z"
   },
   {
    "duration": 329,
    "start_time": "2023-07-30T04:47:25.179Z"
   },
   {
    "duration": 12,
    "start_time": "2023-07-30T04:47:35.530Z"
   },
   {
    "duration": 1724,
    "start_time": "2023-07-30T04:53:00.751Z"
   },
   {
    "duration": 88,
    "start_time": "2023-07-30T04:53:02.482Z"
   },
   {
    "duration": 27,
    "start_time": "2023-07-30T04:53:02.573Z"
   },
   {
    "duration": 43,
    "start_time": "2023-07-30T04:53:02.608Z"
   },
   {
    "duration": 53,
    "start_time": "2023-07-30T04:53:02.654Z"
   },
   {
    "duration": 10,
    "start_time": "2023-07-30T04:53:02.709Z"
   },
   {
    "duration": 18,
    "start_time": "2023-07-30T04:53:02.721Z"
   },
   {
    "duration": 49,
    "start_time": "2023-07-30T04:53:02.741Z"
   },
   {
    "duration": 23,
    "start_time": "2023-07-30T04:53:02.792Z"
   },
   {
    "duration": 6,
    "start_time": "2023-07-30T04:53:02.819Z"
   },
   {
    "duration": 30,
    "start_time": "2023-07-30T04:53:02.827Z"
   },
   {
    "duration": 68,
    "start_time": "2023-07-30T04:53:02.859Z"
   },
   {
    "duration": 30,
    "start_time": "2023-07-30T04:53:02.931Z"
   },
   {
    "duration": 63,
    "start_time": "2023-07-30T04:53:02.963Z"
   },
   {
    "duration": 33,
    "start_time": "2023-07-30T04:53:03.028Z"
   },
   {
    "duration": 32,
    "start_time": "2023-07-30T04:53:03.065Z"
   },
   {
    "duration": 24,
    "start_time": "2023-07-30T04:53:03.099Z"
   },
   {
    "duration": 22,
    "start_time": "2023-07-30T04:53:03.130Z"
   },
   {
    "duration": 46,
    "start_time": "2023-07-30T04:53:03.155Z"
   },
   {
    "duration": 110,
    "start_time": "2023-07-30T04:53:03.209Z"
   },
   {
    "duration": 246,
    "start_time": "2023-07-30T04:53:03.321Z"
   },
   {
    "duration": 10,
    "start_time": "2023-07-30T04:53:03.570Z"
   },
   {
    "duration": 279,
    "start_time": "2023-07-30T04:53:03.590Z"
   },
   {
    "duration": 14,
    "start_time": "2023-07-30T04:53:03.872Z"
   },
   {
    "duration": 45,
    "start_time": "2023-07-30T04:53:03.895Z"
   },
   {
    "duration": 7,
    "start_time": "2023-07-30T04:53:03.942Z"
   },
   {
    "duration": 60,
    "start_time": "2023-07-30T04:53:03.952Z"
   },
   {
    "duration": 29,
    "start_time": "2023-07-30T04:53:04.024Z"
   },
   {
    "duration": 30,
    "start_time": "2023-07-30T04:53:04.055Z"
   },
   {
    "duration": 44,
    "start_time": "2023-07-30T04:53:04.087Z"
   },
   {
    "duration": 42,
    "start_time": "2023-07-30T04:53:04.134Z"
   },
   {
    "duration": 29,
    "start_time": "2023-07-30T04:53:04.178Z"
   },
   {
    "duration": 26,
    "start_time": "2023-07-30T04:53:04.209Z"
   },
   {
    "duration": 26,
    "start_time": "2023-07-30T04:53:04.237Z"
   },
   {
    "duration": 36,
    "start_time": "2023-07-30T04:53:04.265Z"
   },
   {
    "duration": 455,
    "start_time": "2023-07-30T04:53:04.306Z"
   },
   {
    "duration": 10,
    "start_time": "2023-07-30T04:53:04.767Z"
   },
   {
    "duration": 548,
    "start_time": "2023-07-30T04:53:04.779Z"
   },
   {
    "duration": 380,
    "start_time": "2023-07-30T04:53:05.329Z"
   },
   {
    "duration": 23,
    "start_time": "2023-07-30T04:53:05.713Z"
   },
   {
    "duration": 16,
    "start_time": "2023-07-30T04:53:05.738Z"
   },
   {
    "duration": 7,
    "start_time": "2023-07-30T04:53:05.758Z"
   },
   {
    "duration": 48,
    "start_time": "2023-07-30T04:53:05.767Z"
   },
   {
    "duration": 19,
    "start_time": "2023-07-30T04:53:05.822Z"
   },
   {
    "duration": 12,
    "start_time": "2023-07-30T04:53:05.846Z"
   },
   {
    "duration": 501,
    "start_time": "2023-07-30T04:53:05.861Z"
   },
   {
    "duration": 591,
    "start_time": "2023-07-30T04:53:06.365Z"
   },
   {
    "duration": 13,
    "start_time": "2023-07-30T04:53:06.963Z"
   },
   {
    "duration": 197,
    "start_time": "2023-07-30T04:53:06.987Z"
   },
   {
    "duration": 286,
    "start_time": "2023-07-30T04:53:07.191Z"
   },
   {
    "duration": 32,
    "start_time": "2023-07-30T04:53:07.480Z"
   },
   {
    "duration": 283,
    "start_time": "2023-07-30T04:53:07.515Z"
   },
   {
    "duration": 297,
    "start_time": "2023-07-30T04:53:07.801Z"
   },
   {
    "duration": 27,
    "start_time": "2023-07-30T04:53:08.105Z"
   },
   {
    "duration": 306,
    "start_time": "2023-07-30T04:53:08.138Z"
   },
   {
    "duration": 269,
    "start_time": "2023-07-30T04:53:08.451Z"
   },
   {
    "duration": 19,
    "start_time": "2023-07-30T04:53:08.722Z"
   },
   {
    "duration": 303,
    "start_time": "2023-07-30T04:53:08.746Z"
   },
   {
    "duration": 12,
    "start_time": "2023-07-30T04:53:09.055Z"
   },
   {
    "duration": 279,
    "start_time": "2023-07-30T04:53:09.069Z"
   },
   {
    "duration": 17,
    "start_time": "2023-07-30T04:53:09.350Z"
   },
   {
    "duration": 56,
    "start_time": "2023-07-30T04:53:09.369Z"
   },
   {
    "duration": 24,
    "start_time": "2023-07-30T04:53:09.426Z"
   },
   {
    "duration": 40,
    "start_time": "2023-07-30T04:53:09.454Z"
   },
   {
    "duration": 266,
    "start_time": "2023-07-30T04:53:09.496Z"
   },
   {
    "duration": 5,
    "start_time": "2023-07-30T04:53:09.764Z"
   },
   {
    "duration": 30,
    "start_time": "2023-07-30T04:53:09.771Z"
   },
   {
    "duration": 469,
    "start_time": "2023-07-30T04:53:09.802Z"
   },
   {
    "duration": 5,
    "start_time": "2023-07-30T04:53:10.274Z"
   },
   {
    "duration": 1325,
    "start_time": "2023-07-30T04:58:46.546Z"
   },
   {
    "duration": 78,
    "start_time": "2023-07-30T04:58:47.874Z"
   },
   {
    "duration": 23,
    "start_time": "2023-07-30T04:58:47.955Z"
   },
   {
    "duration": 9,
    "start_time": "2023-07-30T04:58:47.982Z"
   },
   {
    "duration": 24,
    "start_time": "2023-07-30T04:58:48.003Z"
   },
   {
    "duration": 11,
    "start_time": "2023-07-30T04:58:48.030Z"
   },
   {
    "duration": 4,
    "start_time": "2023-07-30T04:58:48.044Z"
   },
   {
    "duration": 28,
    "start_time": "2023-07-30T04:58:48.050Z"
   },
   {
    "duration": 36,
    "start_time": "2023-07-30T04:58:48.081Z"
   },
   {
    "duration": 10,
    "start_time": "2023-07-30T04:58:48.120Z"
   },
   {
    "duration": 7,
    "start_time": "2023-07-30T04:58:48.132Z"
   },
   {
    "duration": 7,
    "start_time": "2023-07-30T04:58:48.140Z"
   },
   {
    "duration": 14,
    "start_time": "2023-07-30T04:58:48.148Z"
   },
   {
    "duration": 48,
    "start_time": "2023-07-30T04:58:48.164Z"
   },
   {
    "duration": 38,
    "start_time": "2023-07-30T04:58:48.214Z"
   },
   {
    "duration": 225,
    "start_time": "2023-07-30T04:58:48.255Z"
   },
   {
    "duration": 47,
    "start_time": "2023-07-30T04:58:48.482Z"
   },
   {
    "duration": 36,
    "start_time": "2023-07-30T04:58:48.531Z"
   },
   {
    "duration": 11,
    "start_time": "2023-07-30T04:58:48.569Z"
   },
   {
    "duration": 13,
    "start_time": "2023-07-30T04:58:48.582Z"
   },
   {
    "duration": 15,
    "start_time": "2023-07-30T04:58:48.600Z"
   },
   {
    "duration": 10,
    "start_time": "2023-07-30T04:58:48.617Z"
   },
   {
    "duration": 326,
    "start_time": "2023-07-30T04:58:48.631Z"
   },
   {
    "duration": 16,
    "start_time": "2023-07-30T04:58:48.959Z"
   },
   {
    "duration": 28,
    "start_time": "2023-07-30T04:58:48.978Z"
   },
   {
    "duration": 28,
    "start_time": "2023-07-30T04:58:49.013Z"
   },
   {
    "duration": 8,
    "start_time": "2023-07-30T04:58:49.044Z"
   },
   {
    "duration": 18,
    "start_time": "2023-07-30T04:58:49.057Z"
   },
   {
    "duration": 5,
    "start_time": "2023-07-30T04:58:49.078Z"
   },
   {
    "duration": 36,
    "start_time": "2023-07-30T04:58:49.085Z"
   },
   {
    "duration": 37,
    "start_time": "2023-07-30T04:58:49.122Z"
   },
   {
    "duration": 37,
    "start_time": "2023-07-30T04:58:49.161Z"
   },
   {
    "duration": 22,
    "start_time": "2023-07-30T04:58:49.200Z"
   },
   {
    "duration": 26,
    "start_time": "2023-07-30T04:58:49.223Z"
   },
   {
    "duration": 13,
    "start_time": "2023-07-30T04:58:49.251Z"
   },
   {
    "duration": 391,
    "start_time": "2023-07-30T04:58:49.266Z"
   },
   {
    "duration": 8,
    "start_time": "2023-07-30T04:58:49.660Z"
   },
   {
    "duration": 469,
    "start_time": "2023-07-30T04:58:49.671Z"
   },
   {
    "duration": 270,
    "start_time": "2023-07-30T04:58:50.142Z"
   },
   {
    "duration": 25,
    "start_time": "2023-07-30T04:58:50.413Z"
   },
   {
    "duration": 12,
    "start_time": "2023-07-30T04:58:50.440Z"
   },
   {
    "duration": 12,
    "start_time": "2023-07-30T04:58:50.454Z"
   },
   {
    "duration": 59,
    "start_time": "2023-07-30T04:58:50.468Z"
   },
   {
    "duration": 10,
    "start_time": "2023-07-30T04:58:50.529Z"
   },
   {
    "duration": 45,
    "start_time": "2023-07-30T04:58:50.541Z"
   },
   {
    "duration": 471,
    "start_time": "2023-07-30T04:58:50.588Z"
   },
   {
    "duration": 367,
    "start_time": "2023-07-30T04:58:51.062Z"
   },
   {
    "duration": 13,
    "start_time": "2023-07-30T04:58:51.430Z"
   },
   {
    "duration": 207,
    "start_time": "2023-07-30T04:58:51.444Z"
   },
   {
    "duration": 230,
    "start_time": "2023-07-30T04:58:51.653Z"
   },
   {
    "duration": 30,
    "start_time": "2023-07-30T04:58:51.885Z"
   },
   {
    "duration": 188,
    "start_time": "2023-07-30T04:58:51.919Z"
   },
   {
    "duration": 250,
    "start_time": "2023-07-30T04:58:52.114Z"
   },
   {
    "duration": 35,
    "start_time": "2023-07-30T04:58:52.367Z"
   },
   {
    "duration": 264,
    "start_time": "2023-07-30T04:58:52.414Z"
   },
   {
    "duration": 262,
    "start_time": "2023-07-30T04:58:52.680Z"
   },
   {
    "duration": 9,
    "start_time": "2023-07-30T04:58:52.945Z"
   },
   {
    "duration": 296,
    "start_time": "2023-07-30T04:58:52.957Z"
   },
   {
    "duration": 7,
    "start_time": "2023-07-30T04:58:53.255Z"
   },
   {
    "duration": 252,
    "start_time": "2023-07-30T04:58:53.264Z"
   },
   {
    "duration": 18,
    "start_time": "2023-07-30T04:58:53.518Z"
   },
   {
    "duration": 26,
    "start_time": "2023-07-30T04:58:53.538Z"
   },
   {
    "duration": 22,
    "start_time": "2023-07-30T04:58:53.566Z"
   },
   {
    "duration": 25,
    "start_time": "2023-07-30T04:58:53.594Z"
   },
   {
    "duration": 359,
    "start_time": "2023-07-30T04:58:53.624Z"
   },
   {
    "duration": 14,
    "start_time": "2023-07-30T04:58:54.002Z"
   },
   {
    "duration": 26,
    "start_time": "2023-07-30T04:58:54.021Z"
   },
   {
    "duration": 319,
    "start_time": "2023-07-30T04:58:54.049Z"
   },
   {
    "duration": 6,
    "start_time": "2023-07-30T04:58:54.370Z"
   },
   {
    "duration": 1437,
    "start_time": "2023-07-30T05:03:19.238Z"
   },
   {
    "duration": 81,
    "start_time": "2023-07-30T05:03:20.678Z"
   },
   {
    "duration": 21,
    "start_time": "2023-07-30T05:03:20.761Z"
   },
   {
    "duration": 27,
    "start_time": "2023-07-30T05:03:20.785Z"
   },
   {
    "duration": 63,
    "start_time": "2023-07-30T05:03:20.815Z"
   },
   {
    "duration": 55,
    "start_time": "2023-07-30T05:03:20.881Z"
   },
   {
    "duration": 33,
    "start_time": "2023-07-30T05:03:20.938Z"
   },
   {
    "duration": 52,
    "start_time": "2023-07-30T05:03:20.974Z"
   },
   {
    "duration": 29,
    "start_time": "2023-07-30T05:03:21.029Z"
   },
   {
    "duration": 27,
    "start_time": "2023-07-30T05:03:21.061Z"
   },
   {
    "duration": 71,
    "start_time": "2023-07-30T05:03:21.090Z"
   },
   {
    "duration": 45,
    "start_time": "2023-07-30T05:03:21.163Z"
   },
   {
    "duration": 61,
    "start_time": "2023-07-30T05:03:21.211Z"
   },
   {
    "duration": 54,
    "start_time": "2023-07-30T05:03:21.275Z"
   },
   {
    "duration": 37,
    "start_time": "2023-07-30T05:03:21.332Z"
   },
   {
    "duration": 222,
    "start_time": "2023-07-30T05:03:21.371Z"
   },
   {
    "duration": 23,
    "start_time": "2023-07-30T05:03:21.595Z"
   },
   {
    "duration": 65,
    "start_time": "2023-07-30T05:03:21.619Z"
   },
   {
    "duration": 52,
    "start_time": "2023-07-30T05:03:21.686Z"
   },
   {
    "duration": 36,
    "start_time": "2023-07-30T05:03:21.743Z"
   },
   {
    "duration": 33,
    "start_time": "2023-07-30T05:03:21.781Z"
   },
   {
    "duration": 28,
    "start_time": "2023-07-30T05:03:21.816Z"
   },
   {
    "duration": 360,
    "start_time": "2023-07-30T05:03:21.846Z"
   },
   {
    "duration": 28,
    "start_time": "2023-07-30T05:03:22.211Z"
   },
   {
    "duration": 18,
    "start_time": "2023-07-30T05:03:22.241Z"
   },
   {
    "duration": 7,
    "start_time": "2023-07-30T05:03:22.261Z"
   },
   {
    "duration": 10,
    "start_time": "2023-07-30T05:03:22.269Z"
   },
   {
    "duration": 31,
    "start_time": "2023-07-30T05:03:22.284Z"
   },
   {
    "duration": 12,
    "start_time": "2023-07-30T05:03:22.318Z"
   },
   {
    "duration": 16,
    "start_time": "2023-07-30T05:03:22.332Z"
   },
   {
    "duration": 26,
    "start_time": "2023-07-30T05:03:22.351Z"
   },
   {
    "duration": 49,
    "start_time": "2023-07-30T05:03:22.379Z"
   },
   {
    "duration": 40,
    "start_time": "2023-07-30T05:03:22.431Z"
   },
   {
    "duration": 22,
    "start_time": "2023-07-30T05:03:22.474Z"
   },
   {
    "duration": 20,
    "start_time": "2023-07-30T05:03:22.498Z"
   },
   {
    "duration": 447,
    "start_time": "2023-07-30T05:03:22.523Z"
   },
   {
    "duration": 5,
    "start_time": "2023-07-30T05:03:22.972Z"
   },
   {
    "duration": 377,
    "start_time": "2023-07-30T05:03:22.979Z"
   },
   {
    "duration": 301,
    "start_time": "2023-07-30T05:03:23.359Z"
   },
   {
    "duration": 35,
    "start_time": "2023-07-30T05:03:23.662Z"
   },
   {
    "duration": 20,
    "start_time": "2023-07-30T05:03:23.701Z"
   },
   {
    "duration": 5,
    "start_time": "2023-07-30T05:03:23.728Z"
   },
   {
    "duration": 49,
    "start_time": "2023-07-30T05:03:23.735Z"
   },
   {
    "duration": 17,
    "start_time": "2023-07-30T05:03:23.786Z"
   },
   {
    "duration": 10,
    "start_time": "2023-07-30T05:03:23.816Z"
   },
   {
    "duration": 475,
    "start_time": "2023-07-30T05:03:23.828Z"
   },
   {
    "duration": 385,
    "start_time": "2023-07-30T05:03:24.308Z"
   },
   {
    "duration": 16,
    "start_time": "2023-07-30T05:03:24.694Z"
   },
   {
    "duration": 257,
    "start_time": "2023-07-30T05:03:24.712Z"
   },
   {
    "duration": 292,
    "start_time": "2023-07-30T05:03:24.971Z"
   },
   {
    "duration": 24,
    "start_time": "2023-07-30T05:03:25.265Z"
   },
   {
    "duration": 277,
    "start_time": "2023-07-30T05:03:25.301Z"
   },
   {
    "duration": 265,
    "start_time": "2023-07-30T05:03:25.581Z"
   },
   {
    "duration": 15,
    "start_time": "2023-07-30T05:03:25.848Z"
   },
   {
    "duration": 237,
    "start_time": "2023-07-30T05:03:25.866Z"
   },
   {
    "duration": 215,
    "start_time": "2023-07-30T05:03:26.108Z"
   },
   {
    "duration": 11,
    "start_time": "2023-07-30T05:03:26.327Z"
   },
   {
    "duration": 342,
    "start_time": "2023-07-30T05:03:26.341Z"
   },
   {
    "duration": 21,
    "start_time": "2023-07-30T05:03:26.694Z"
   },
   {
    "duration": 232,
    "start_time": "2023-07-30T05:03:26.725Z"
   },
   {
    "duration": 18,
    "start_time": "2023-07-30T05:03:26.960Z"
   },
   {
    "duration": 46,
    "start_time": "2023-07-30T05:03:26.988Z"
   },
   {
    "duration": 24,
    "start_time": "2023-07-30T05:03:27.036Z"
   },
   {
    "duration": 22,
    "start_time": "2023-07-30T05:03:27.062Z"
   },
   {
    "duration": 443,
    "start_time": "2023-07-30T05:03:27.086Z"
   },
   {
    "duration": 9,
    "start_time": "2023-07-30T05:03:27.533Z"
   },
   {
    "duration": 28,
    "start_time": "2023-07-30T05:03:27.544Z"
   },
   {
    "duration": 321,
    "start_time": "2023-07-30T05:03:27.575Z"
   },
   {
    "duration": 9,
    "start_time": "2023-07-30T05:03:27.902Z"
   },
   {
    "duration": 1261,
    "start_time": "2023-07-30T10:13:53.421Z"
   },
   {
    "duration": 98,
    "start_time": "2023-07-30T10:13:54.685Z"
   },
   {
    "duration": 19,
    "start_time": "2023-07-30T10:13:54.784Z"
   },
   {
    "duration": 3,
    "start_time": "2023-07-30T10:13:54.806Z"
   },
   {
    "duration": 32,
    "start_time": "2023-07-30T10:13:54.811Z"
   },
   {
    "duration": 5,
    "start_time": "2023-07-30T10:13:54.844Z"
   },
   {
    "duration": 13,
    "start_time": "2023-07-30T10:13:54.850Z"
   },
   {
    "duration": 19,
    "start_time": "2023-07-30T10:13:54.865Z"
   },
   {
    "duration": 14,
    "start_time": "2023-07-30T10:13:54.886Z"
   },
   {
    "duration": 4,
    "start_time": "2023-07-30T10:13:54.903Z"
   },
   {
    "duration": 14,
    "start_time": "2023-07-30T10:13:54.909Z"
   },
   {
    "duration": 7,
    "start_time": "2023-07-30T10:13:54.924Z"
   },
   {
    "duration": 11,
    "start_time": "2023-07-30T10:13:54.932Z"
   },
   {
    "duration": 32,
    "start_time": "2023-07-30T10:13:54.944Z"
   },
   {
    "duration": 19,
    "start_time": "2023-07-30T10:13:54.978Z"
   },
   {
    "duration": 198,
    "start_time": "2023-07-30T10:13:54.999Z"
   },
   {
    "duration": 14,
    "start_time": "2023-07-30T10:13:55.199Z"
   },
   {
    "duration": 16,
    "start_time": "2023-07-30T10:13:55.215Z"
   },
   {
    "duration": 8,
    "start_time": "2023-07-30T10:13:55.232Z"
   },
   {
    "duration": 20,
    "start_time": "2023-07-30T10:13:55.242Z"
   },
   {
    "duration": 17,
    "start_time": "2023-07-30T10:13:55.264Z"
   },
   {
    "duration": 26,
    "start_time": "2023-07-30T10:13:55.282Z"
   },
   {
    "duration": 257,
    "start_time": "2023-07-30T10:13:55.310Z"
   },
   {
    "duration": 8,
    "start_time": "2023-07-30T10:13:55.569Z"
   },
   {
    "duration": 32,
    "start_time": "2023-07-30T10:13:55.579Z"
   },
   {
    "duration": 44,
    "start_time": "2023-07-30T10:13:55.612Z"
   },
   {
    "duration": 41,
    "start_time": "2023-07-30T10:13:55.657Z"
   },
   {
    "duration": 15,
    "start_time": "2023-07-30T10:13:55.700Z"
   },
   {
    "duration": 9,
    "start_time": "2023-07-30T10:13:55.717Z"
   },
   {
    "duration": 28,
    "start_time": "2023-07-30T10:13:55.728Z"
   },
   {
    "duration": 35,
    "start_time": "2023-07-30T10:13:55.758Z"
   },
   {
    "duration": 32,
    "start_time": "2023-07-30T10:13:55.795Z"
   },
   {
    "duration": 35,
    "start_time": "2023-07-30T10:13:55.828Z"
   },
   {
    "duration": 21,
    "start_time": "2023-07-30T10:13:55.865Z"
   },
   {
    "duration": 24,
    "start_time": "2023-07-30T10:13:55.888Z"
   },
   {
    "duration": 322,
    "start_time": "2023-07-30T10:13:55.913Z"
   },
   {
    "duration": 329,
    "start_time": "2023-07-30T10:14:44.373Z"
   },
   {
    "duration": 1817,
    "start_time": "2023-08-30T06:56:45.599Z"
   },
   {
    "duration": 4,
    "start_time": "2023-08-30T07:09:40.157Z"
   },
   {
    "duration": 5,
    "start_time": "2023-08-30T07:10:13.519Z"
   },
   {
    "duration": 144,
    "start_time": "2023-08-30T07:10:13.527Z"
   },
   {
    "duration": 17,
    "start_time": "2023-08-30T07:10:13.673Z"
   },
   {
    "duration": 11,
    "start_time": "2023-08-30T07:10:13.693Z"
   },
   {
    "duration": 55,
    "start_time": "2023-08-30T07:10:13.706Z"
   },
   {
    "duration": 11,
    "start_time": "2023-08-30T07:10:13.763Z"
   },
   {
    "duration": 458,
    "start_time": "2023-08-30T07:10:13.776Z"
   },
   {
    "duration": 17,
    "start_time": "2023-08-30T07:10:14.236Z"
   },
   {
    "duration": 7,
    "start_time": "2023-08-30T07:10:14.255Z"
   },
   {
    "duration": 534,
    "start_time": "2023-08-30T07:10:14.264Z"
   },
   {
    "duration": 10,
    "start_time": "2023-08-30T07:10:14.800Z"
   },
   {
    "duration": 166,
    "start_time": "2023-08-30T07:10:14.811Z"
   },
   {
    "duration": 0,
    "start_time": "2023-08-30T07:10:14.978Z"
   },
   {
    "duration": 0,
    "start_time": "2023-08-30T07:10:14.980Z"
   },
   {
    "duration": 0,
    "start_time": "2023-08-30T07:10:14.981Z"
   },
   {
    "duration": 0,
    "start_time": "2023-08-30T07:10:14.982Z"
   },
   {
    "duration": 0,
    "start_time": "2023-08-30T07:10:14.984Z"
   },
   {
    "duration": 0,
    "start_time": "2023-08-30T07:10:14.984Z"
   },
   {
    "duration": 0,
    "start_time": "2023-08-30T07:10:14.985Z"
   },
   {
    "duration": 0,
    "start_time": "2023-08-30T07:10:14.986Z"
   },
   {
    "duration": 0,
    "start_time": "2023-08-30T07:10:14.987Z"
   },
   {
    "duration": 0,
    "start_time": "2023-08-30T07:10:14.989Z"
   },
   {
    "duration": 0,
    "start_time": "2023-08-30T07:10:14.990Z"
   },
   {
    "duration": 0,
    "start_time": "2023-08-30T07:10:14.990Z"
   },
   {
    "duration": 0,
    "start_time": "2023-08-30T07:10:14.992Z"
   },
   {
    "duration": 0,
    "start_time": "2023-08-30T07:10:14.993Z"
   },
   {
    "duration": 0,
    "start_time": "2023-08-30T07:10:14.994Z"
   },
   {
    "duration": 0,
    "start_time": "2023-08-30T07:10:14.995Z"
   },
   {
    "duration": 18,
    "start_time": "2023-08-30T07:13:17.239Z"
   },
   {
    "duration": 13,
    "start_time": "2023-08-30T07:13:31.315Z"
   },
   {
    "duration": 5,
    "start_time": "2023-08-30T07:13:39.815Z"
   },
   {
    "duration": 70,
    "start_time": "2023-08-30T07:13:39.823Z"
   },
   {
    "duration": 19,
    "start_time": "2023-08-30T07:13:39.896Z"
   },
   {
    "duration": 4,
    "start_time": "2023-08-30T07:13:39.918Z"
   },
   {
    "duration": 29,
    "start_time": "2023-08-30T07:13:39.924Z"
   },
   {
    "duration": 9,
    "start_time": "2023-08-30T07:13:39.956Z"
   },
   {
    "duration": 713,
    "start_time": "2023-08-30T07:13:39.966Z"
   },
   {
    "duration": 10,
    "start_time": "2023-08-30T07:13:40.681Z"
   },
   {
    "duration": 627,
    "start_time": "2023-08-30T07:13:40.694Z"
   },
   {
    "duration": 494,
    "start_time": "2023-08-30T07:13:41.323Z"
   },
   {
    "duration": 10,
    "start_time": "2023-08-30T07:13:41.819Z"
   },
   {
    "duration": 23,
    "start_time": "2023-08-30T07:13:41.831Z"
   },
   {
    "duration": 0,
    "start_time": "2023-08-30T07:13:41.856Z"
   },
   {
    "duration": 0,
    "start_time": "2023-08-30T07:13:41.857Z"
   },
   {
    "duration": 0,
    "start_time": "2023-08-30T07:13:41.858Z"
   },
   {
    "duration": 0,
    "start_time": "2023-08-30T07:13:41.859Z"
   },
   {
    "duration": 0,
    "start_time": "2023-08-30T07:13:41.861Z"
   },
   {
    "duration": 0,
    "start_time": "2023-08-30T07:13:41.862Z"
   },
   {
    "duration": 0,
    "start_time": "2023-08-30T07:13:41.863Z"
   },
   {
    "duration": 0,
    "start_time": "2023-08-30T07:13:41.864Z"
   },
   {
    "duration": 0,
    "start_time": "2023-08-30T07:13:41.865Z"
   },
   {
    "duration": 0,
    "start_time": "2023-08-30T07:13:41.866Z"
   },
   {
    "duration": 0,
    "start_time": "2023-08-30T07:13:41.867Z"
   },
   {
    "duration": 0,
    "start_time": "2023-08-30T07:13:41.868Z"
   },
   {
    "duration": 0,
    "start_time": "2023-08-30T07:13:41.869Z"
   },
   {
    "duration": 0,
    "start_time": "2023-08-30T07:13:41.871Z"
   },
   {
    "duration": 0,
    "start_time": "2023-08-30T07:13:41.874Z"
   },
   {
    "duration": 0,
    "start_time": "2023-08-30T07:13:41.875Z"
   },
   {
    "duration": 16,
    "start_time": "2023-08-30T07:13:49.077Z"
   },
   {
    "duration": 15,
    "start_time": "2023-08-30T07:14:09.547Z"
   },
   {
    "duration": 480,
    "start_time": "2023-08-30T07:14:13.943Z"
   },
   {
    "duration": 19,
    "start_time": "2023-08-30T07:14:20.391Z"
   },
   {
    "duration": 15,
    "start_time": "2023-08-30T07:14:24.513Z"
   },
   {
    "duration": 8,
    "start_time": "2023-08-30T07:14:37.548Z"
   },
   {
    "duration": 61,
    "start_time": "2023-08-30T07:14:37.558Z"
   },
   {
    "duration": 18,
    "start_time": "2023-08-30T07:14:37.621Z"
   },
   {
    "duration": 22,
    "start_time": "2023-08-30T07:14:37.641Z"
   },
   {
    "duration": 21,
    "start_time": "2023-08-30T07:14:37.665Z"
   },
   {
    "duration": 7,
    "start_time": "2023-08-30T07:14:37.689Z"
   },
   {
    "duration": 605,
    "start_time": "2023-08-30T07:14:37.697Z"
   },
   {
    "duration": 10,
    "start_time": "2023-08-30T07:14:38.304Z"
   },
   {
    "duration": 7,
    "start_time": "2023-08-30T07:14:38.316Z"
   },
   {
    "duration": 540,
    "start_time": "2023-08-30T07:14:38.325Z"
   },
   {
    "duration": 12,
    "start_time": "2023-08-30T07:14:38.873Z"
   },
   {
    "duration": 11,
    "start_time": "2023-08-30T07:14:38.887Z"
   },
   {
    "duration": 508,
    "start_time": "2023-08-30T07:14:38.900Z"
   },
   {
    "duration": 19,
    "start_time": "2023-08-30T07:14:39.411Z"
   },
   {
    "duration": 35,
    "start_time": "2023-08-30T07:14:39.432Z"
   },
   {
    "duration": 26,
    "start_time": "2023-08-30T07:14:39.471Z"
   },
   {
    "duration": 866,
    "start_time": "2023-08-30T07:14:39.499Z"
   },
   {
    "duration": 11,
    "start_time": "2023-08-30T07:14:40.367Z"
   },
   {
    "duration": 0,
    "start_time": "2023-08-30T07:14:40.380Z"
   },
   {
    "duration": 0,
    "start_time": "2023-08-30T07:14:40.381Z"
   },
   {
    "duration": 0,
    "start_time": "2023-08-30T07:14:40.383Z"
   },
   {
    "duration": 0,
    "start_time": "2023-08-30T07:14:40.384Z"
   },
   {
    "duration": 0,
    "start_time": "2023-08-30T07:14:40.385Z"
   },
   {
    "duration": 0,
    "start_time": "2023-08-30T07:14:40.386Z"
   },
   {
    "duration": 0,
    "start_time": "2023-08-30T07:14:40.388Z"
   },
   {
    "duration": 0,
    "start_time": "2023-08-30T07:14:40.389Z"
   },
   {
    "duration": 0,
    "start_time": "2023-08-30T07:14:40.390Z"
   },
   {
    "duration": 0,
    "start_time": "2023-08-30T07:14:40.391Z"
   },
   {
    "duration": 104,
    "start_time": "2023-08-30T07:14:51.534Z"
   },
   {
    "duration": 79,
    "start_time": "2023-08-30T07:14:55.033Z"
   },
   {
    "duration": 248,
    "start_time": "2023-08-30T07:14:57.374Z"
   },
   {
    "duration": 5,
    "start_time": "2023-08-30T07:15:02.112Z"
   },
   {
    "duration": 257,
    "start_time": "2023-08-30T07:15:03.733Z"
   },
   {
    "duration": 12,
    "start_time": "2023-08-30T07:15:06.358Z"
   },
   {
    "duration": 53,
    "start_time": "2023-08-30T07:15:11.783Z"
   },
   {
    "duration": 51,
    "start_time": "2023-08-30T07:15:13.922Z"
   },
   {
    "duration": 37,
    "start_time": "2023-08-30T07:15:23.144Z"
   },
   {
    "duration": 3,
    "start_time": "2023-08-30T07:15:29.924Z"
   },
   {
    "duration": 7,
    "start_time": "2023-08-30T07:15:30.619Z"
   },
   {
    "duration": 17,
    "start_time": "2023-08-30T07:15:38.390Z"
   },
   {
    "duration": 11872,
    "start_time": "2023-08-30T07:16:14.946Z"
   },
   {
    "duration": 3008,
    "start_time": "2023-08-30T07:16:52.547Z"
   },
   {
    "duration": 1860,
    "start_time": "2023-08-30T07:16:55.558Z"
   },
   {
    "duration": 52,
    "start_time": "2023-08-30T07:16:57.420Z"
   },
   {
    "duration": 49,
    "start_time": "2023-08-30T07:16:57.475Z"
   },
   {
    "duration": 5,
    "start_time": "2023-08-30T07:16:57.528Z"
   },
   {
    "duration": 27,
    "start_time": "2023-08-30T07:16:57.535Z"
   },
   {
    "duration": 9,
    "start_time": "2023-08-30T07:16:57.564Z"
   },
   {
    "duration": 613,
    "start_time": "2023-08-30T07:16:57.575Z"
   },
   {
    "duration": 13,
    "start_time": "2023-08-30T07:16:58.190Z"
   },
   {
    "duration": 19,
    "start_time": "2023-08-30T07:16:58.207Z"
   },
   {
    "duration": 799,
    "start_time": "2023-08-30T07:16:58.228Z"
   },
   {
    "duration": 12,
    "start_time": "2023-08-30T07:16:59.029Z"
   },
   {
    "duration": 14,
    "start_time": "2023-08-30T07:16:59.050Z"
   },
   {
    "duration": 596,
    "start_time": "2023-08-30T07:16:59.066Z"
   },
   {
    "duration": 20,
    "start_time": "2023-08-30T07:16:59.664Z"
   },
   {
    "duration": 23,
    "start_time": "2023-08-30T07:16:59.686Z"
   },
   {
    "duration": 54,
    "start_time": "2023-08-30T07:16:59.712Z"
   },
   {
    "duration": 892,
    "start_time": "2023-08-30T07:16:59.768Z"
   },
   {
    "duration": 100,
    "start_time": "2023-08-30T07:17:00.663Z"
   },
   {
    "duration": 115,
    "start_time": "2023-08-30T07:17:00.765Z"
   },
   {
    "duration": 359,
    "start_time": "2023-08-30T07:17:00.882Z"
   },
   {
    "duration": 9,
    "start_time": "2023-08-30T07:17:01.243Z"
   },
   {
    "duration": 362,
    "start_time": "2023-08-30T07:17:01.254Z"
   },
   {
    "duration": 14,
    "start_time": "2023-08-30T07:17:01.618Z"
   },
   {
    "duration": 267,
    "start_time": "2023-08-30T07:17:01.634Z"
   },
   {
    "duration": 68,
    "start_time": "2023-08-30T07:17:01.903Z"
   },
   {
    "duration": 36,
    "start_time": "2023-08-30T07:17:01.974Z"
   },
   {
    "duration": 22,
    "start_time": "2023-08-30T07:17:02.014Z"
   },
   {
    "duration": 40,
    "start_time": "2023-08-30T07:17:02.039Z"
   },
   {
    "duration": 14,
    "start_time": "2023-08-30T07:17:10.193Z"
   },
   {
    "duration": 16,
    "start_time": "2023-08-30T07:17:27.975Z"
   },
   {
    "duration": 40,
    "start_time": "2023-08-30T07:18:24.893Z"
   },
   {
    "duration": 13,
    "start_time": "2023-08-30T07:24:48.677Z"
   },
   {
    "duration": 6,
    "start_time": "2023-08-30T07:25:01.637Z"
   },
   {
    "duration": 7,
    "start_time": "2023-08-30T07:25:10.818Z"
   },
   {
    "duration": 7,
    "start_time": "2023-08-30T07:26:08.018Z"
   },
   {
    "duration": 9,
    "start_time": "2023-08-30T07:26:14.471Z"
   },
   {
    "duration": 13,
    "start_time": "2023-08-30T07:26:17.170Z"
   },
   {
    "duration": 245,
    "start_time": "2023-08-30T07:26:45.278Z"
   },
   {
    "duration": 10,
    "start_time": "2023-08-30T07:27:18.454Z"
   },
   {
    "duration": 9,
    "start_time": "2023-08-30T07:27:31.359Z"
   },
   {
    "duration": 14,
    "start_time": "2023-08-30T07:31:37.317Z"
   },
   {
    "duration": 50,
    "start_time": "2023-08-30T07:31:39.250Z"
   },
   {
    "duration": 41,
    "start_time": "2023-08-30T07:32:10.288Z"
   },
   {
    "duration": 52,
    "start_time": "2023-08-30T07:32:32.593Z"
   },
   {
    "duration": 47,
    "start_time": "2023-08-30T07:32:37.622Z"
   },
   {
    "duration": 50,
    "start_time": "2023-08-30T07:33:12.764Z"
   },
   {
    "duration": 6844,
    "start_time": "2023-08-30T11:41:02.385Z"
   },
   {
    "duration": 1518,
    "start_time": "2023-08-30T11:41:09.232Z"
   },
   {
    "duration": 164,
    "start_time": "2023-08-30T11:41:10.752Z"
   },
   {
    "duration": 17,
    "start_time": "2023-08-30T11:41:10.918Z"
   },
   {
    "duration": 3,
    "start_time": "2023-08-30T11:41:10.937Z"
   },
   {
    "duration": 21,
    "start_time": "2023-08-30T11:41:10.941Z"
   },
   {
    "duration": 14,
    "start_time": "2023-08-30T11:41:10.964Z"
   },
   {
    "duration": 438,
    "start_time": "2023-08-30T11:41:10.979Z"
   },
   {
    "duration": 8,
    "start_time": "2023-08-30T11:41:11.419Z"
   },
   {
    "duration": 6,
    "start_time": "2023-08-30T11:41:11.428Z"
   },
   {
    "duration": 611,
    "start_time": "2023-08-30T11:41:11.436Z"
   },
   {
    "duration": 13,
    "start_time": "2023-08-30T11:41:12.049Z"
   },
   {
    "duration": 18,
    "start_time": "2023-08-30T11:41:12.064Z"
   },
   {
    "duration": 386,
    "start_time": "2023-08-30T11:41:12.085Z"
   },
   {
    "duration": 14,
    "start_time": "2023-08-30T11:41:12.473Z"
   },
   {
    "duration": 13,
    "start_time": "2023-08-30T11:41:12.488Z"
   },
   {
    "duration": 55,
    "start_time": "2023-08-30T11:41:12.503Z"
   },
   {
    "duration": 624,
    "start_time": "2023-08-30T11:41:12.560Z"
   },
   {
    "duration": 61,
    "start_time": "2023-08-30T11:41:13.185Z"
   },
   {
    "duration": 60,
    "start_time": "2023-08-30T11:41:13.257Z"
   },
   {
    "duration": 258,
    "start_time": "2023-08-30T11:41:13.319Z"
   },
   {
    "duration": 6,
    "start_time": "2023-08-30T11:41:13.579Z"
   },
   {
    "duration": 265,
    "start_time": "2023-08-30T11:41:13.587Z"
   },
   {
    "duration": 9,
    "start_time": "2023-08-30T11:41:13.857Z"
   },
   {
    "duration": 167,
    "start_time": "2023-08-30T11:41:13.868Z"
   },
   {
    "duration": 55,
    "start_time": "2023-08-30T11:41:14.037Z"
   },
   {
    "duration": 993,
    "start_time": "2023-08-30T11:41:14.094Z"
   },
   {
    "duration": 1039,
    "start_time": "2023-08-30T11:41:15.090Z"
   },
   {
    "duration": 15,
    "start_time": "2023-08-30T11:41:16.130Z"
   },
   {
    "duration": 120,
    "start_time": "2023-08-30T11:41:16.147Z"
   },
   {
    "duration": 0,
    "start_time": "2023-08-30T11:41:16.269Z"
   },
   {
    "duration": 0,
    "start_time": "2023-08-30T11:41:16.270Z"
   },
   {
    "duration": 0,
    "start_time": "2023-08-30T11:41:16.272Z"
   },
   {
    "duration": 0,
    "start_time": "2023-08-30T11:41:16.273Z"
   },
   {
    "duration": 10,
    "start_time": "2023-08-30T11:41:24.595Z"
   },
   {
    "duration": 6,
    "start_time": "2023-08-30T11:41:43.327Z"
   },
   {
    "duration": 12,
    "start_time": "2023-08-30T11:41:50.239Z"
   },
   {
    "duration": 4,
    "start_time": "2023-08-30T11:41:51.312Z"
   },
   {
    "duration": 25,
    "start_time": "2023-08-30T11:42:03.070Z"
   },
   {
    "duration": 19,
    "start_time": "2023-08-30T11:42:04.895Z"
   },
   {
    "duration": 8,
    "start_time": "2023-08-30T11:42:08.787Z"
   },
   {
    "duration": 9,
    "start_time": "2023-08-30T11:43:50.301Z"
   },
   {
    "duration": 27,
    "start_time": "2023-08-30T11:44:56.804Z"
   },
   {
    "duration": 11,
    "start_time": "2023-08-30T11:45:29.497Z"
   },
   {
    "duration": 6,
    "start_time": "2023-08-30T11:45:37.593Z"
   },
   {
    "duration": 12,
    "start_time": "2023-08-30T11:45:38.775Z"
   },
   {
    "duration": 4,
    "start_time": "2023-08-30T11:45:39.222Z"
   },
   {
    "duration": 13,
    "start_time": "2023-08-30T11:45:46.073Z"
   },
   {
    "duration": 24,
    "start_time": "2023-08-30T11:45:48.725Z"
   },
   {
    "duration": 19,
    "start_time": "2023-08-30T11:45:49.160Z"
   },
   {
    "duration": 36,
    "start_time": "2023-08-30T11:45:55.133Z"
   },
   {
    "duration": 12,
    "start_time": "2023-08-30T11:45:59.170Z"
   },
   {
    "duration": 26,
    "start_time": "2023-08-30T11:48:05.423Z"
   },
   {
    "duration": 15,
    "start_time": "2023-08-30T11:50:04.739Z"
   },
   {
    "duration": 18,
    "start_time": "2023-08-30T11:50:08.869Z"
   },
   {
    "duration": 26,
    "start_time": "2023-08-30T11:50:39.584Z"
   },
   {
    "duration": 16,
    "start_time": "2023-08-30T11:50:59.027Z"
   },
   {
    "duration": 14,
    "start_time": "2023-08-30T11:51:03.262Z"
   },
   {
    "duration": 4,
    "start_time": "2023-08-30T11:51:05.246Z"
   },
   {
    "duration": 26,
    "start_time": "2023-08-30T11:51:17.611Z"
   },
   {
    "duration": 5,
    "start_time": "2023-08-30T11:51:25.105Z"
   },
   {
    "duration": 5,
    "start_time": "2023-08-30T11:51:55.719Z"
   },
   {
    "duration": 15,
    "start_time": "2023-08-30T11:51:59.005Z"
   },
   {
    "duration": 14,
    "start_time": "2023-08-30T11:52:02.985Z"
   },
   {
    "duration": 4,
    "start_time": "2023-08-30T11:52:07.712Z"
   },
   {
    "duration": 2065,
    "start_time": "2023-08-30T11:54:25.200Z"
   },
   {
    "duration": 4,
    "start_time": "2023-08-30T11:54:27.268Z"
   },
   {
    "duration": 53,
    "start_time": "2023-08-30T11:54:27.273Z"
   },
   {
    "duration": 13,
    "start_time": "2023-08-30T11:54:27.328Z"
   },
   {
    "duration": 12,
    "start_time": "2023-08-30T11:54:27.343Z"
   },
   {
    "duration": 14,
    "start_time": "2023-08-30T11:54:27.357Z"
   },
   {
    "duration": 6,
    "start_time": "2023-08-30T11:54:27.372Z"
   },
   {
    "duration": 451,
    "start_time": "2023-08-30T11:54:27.379Z"
   },
   {
    "duration": 10,
    "start_time": "2023-08-30T11:54:27.831Z"
   },
   {
    "duration": 6,
    "start_time": "2023-08-30T11:54:27.856Z"
   },
   {
    "duration": 455,
    "start_time": "2023-08-30T11:54:27.863Z"
   },
   {
    "duration": 10,
    "start_time": "2023-08-30T11:54:28.320Z"
   },
   {
    "duration": 25,
    "start_time": "2023-08-30T11:54:28.331Z"
   },
   {
    "duration": 407,
    "start_time": "2023-08-30T11:54:28.358Z"
   },
   {
    "duration": 14,
    "start_time": "2023-08-30T11:54:28.768Z"
   },
   {
    "duration": 14,
    "start_time": "2023-08-30T11:54:28.784Z"
   },
   {
    "duration": 63,
    "start_time": "2023-08-30T11:54:28.801Z"
   },
   {
    "duration": 744,
    "start_time": "2023-08-30T11:54:28.866Z"
   },
   {
    "duration": 43,
    "start_time": "2023-08-30T11:54:29.613Z"
   },
   {
    "duration": 60,
    "start_time": "2023-08-30T11:54:29.658Z"
   },
   {
    "duration": 240,
    "start_time": "2023-08-30T11:54:29.720Z"
   },
   {
    "duration": 4,
    "start_time": "2023-08-30T11:54:29.962Z"
   },
   {
    "duration": 248,
    "start_time": "2023-08-30T11:54:29.968Z"
   },
   {
    "duration": 12,
    "start_time": "2023-08-30T11:54:30.218Z"
   },
   {
    "duration": 98,
    "start_time": "2023-08-30T11:54:30.232Z"
   },
   {
    "duration": 40,
    "start_time": "2023-08-30T11:54:30.332Z"
   },
   {
    "duration": 29,
    "start_time": "2023-08-30T11:54:30.373Z"
   },
   {
    "duration": 12,
    "start_time": "2023-08-30T11:54:30.406Z"
   },
   {
    "duration": 48,
    "start_time": "2023-08-30T11:54:30.421Z"
   },
   {
    "duration": 29,
    "start_time": "2023-08-30T11:54:30.471Z"
   },
   {
    "duration": 71,
    "start_time": "2023-08-30T11:54:30.501Z"
   },
   {
    "duration": 82,
    "start_time": "2023-08-30T11:54:30.573Z"
   },
   {
    "duration": 68,
    "start_time": "2023-08-30T11:54:30.657Z"
   },
   {
    "duration": 90,
    "start_time": "2023-08-30T11:54:30.726Z"
   },
   {
    "duration": 56,
    "start_time": "2023-08-30T11:56:24.199Z"
   },
   {
    "duration": 25,
    "start_time": "2023-08-30T11:56:55.800Z"
   },
   {
    "duration": 193,
    "start_time": "2023-08-30T12:00:07.685Z"
   },
   {
    "duration": 168,
    "start_time": "2023-08-30T12:01:01.234Z"
   },
   {
    "duration": 89529,
    "start_time": "2023-08-30T12:03:11.508Z"
   },
   {
    "duration": 5,
    "start_time": "2023-08-30T12:05:01.418Z"
   },
   {
    "duration": 333,
    "start_time": "2023-08-30T12:05:44.497Z"
   },
   {
    "duration": 414,
    "start_time": "2023-08-30T12:06:03.434Z"
   },
   {
    "duration": 384,
    "start_time": "2023-08-30T12:06:09.561Z"
   },
   {
    "duration": 3847,
    "start_time": "2023-08-30T12:11:43.595Z"
   },
   {
    "duration": 6,
    "start_time": "2023-08-30T12:12:51.309Z"
   },
   {
    "duration": 41,
    "start_time": "2023-08-30T12:15:29.052Z"
   },
   {
    "duration": 5,
    "start_time": "2023-08-30T12:18:10.327Z"
   },
   {
    "duration": 25,
    "start_time": "2023-08-30T12:19:56.980Z"
   },
   {
    "duration": 19,
    "start_time": "2023-08-30T12:20:16.693Z"
   },
   {
    "duration": 12,
    "start_time": "2023-08-30T12:20:36.641Z"
   },
   {
    "duration": 7,
    "start_time": "2023-08-30T12:21:36.557Z"
   },
   {
    "duration": 6,
    "start_time": "2023-08-30T12:21:40.430Z"
   },
   {
    "duration": 13,
    "start_time": "2023-08-30T12:24:16.220Z"
   },
   {
    "duration": 13,
    "start_time": "2023-08-30T12:26:33.732Z"
   },
   {
    "duration": 104,
    "start_time": "2023-08-30T12:27:06.252Z"
   },
   {
    "duration": 47,
    "start_time": "2023-08-30T12:28:13.810Z"
   },
   {
    "duration": 17,
    "start_time": "2023-08-30T12:28:54.833Z"
   },
   {
    "duration": 19,
    "start_time": "2023-08-30T12:29:31.655Z"
   },
   {
    "duration": 284,
    "start_time": "2023-08-30T12:30:20.709Z"
   },
   {
    "duration": 109,
    "start_time": "2023-08-30T12:31:13.108Z"
   },
   {
    "duration": 532983,
    "start_time": "2023-08-30T12:33:26.012Z"
   },
   {
    "duration": 206899,
    "start_time": "2023-08-30T12:43:15.054Z"
   },
   {
    "duration": 5,
    "start_time": "2023-08-30T12:47:12.049Z"
   },
   {
    "duration": 381,
    "start_time": "2023-08-30T12:47:22.661Z"
   },
   {
    "duration": 366,
    "start_time": "2023-08-30T12:47:34.186Z"
   },
   {
    "duration": 360,
    "start_time": "2023-08-30T12:47:52.309Z"
   },
   {
    "duration": 139,
    "start_time": "2023-08-30T12:52:16.135Z"
   },
   {
    "duration": 48,
    "start_time": "2023-08-30T12:57:01.060Z"
   },
   {
    "duration": 4227,
    "start_time": "2023-08-30T12:57:40.570Z"
   },
   {
    "duration": 1318,
    "start_time": "2023-08-30T12:57:44.799Z"
   },
   {
    "duration": 45,
    "start_time": "2023-08-30T12:57:46.119Z"
   },
   {
    "duration": 17,
    "start_time": "2023-08-30T12:57:46.166Z"
   },
   {
    "duration": 3,
    "start_time": "2023-08-30T12:57:46.185Z"
   },
   {
    "duration": 16,
    "start_time": "2023-08-30T12:57:46.190Z"
   },
   {
    "duration": 7,
    "start_time": "2023-08-30T12:57:46.208Z"
   },
   {
    "duration": 500,
    "start_time": "2023-08-30T12:57:46.217Z"
   },
   {
    "duration": 9,
    "start_time": "2023-08-30T12:57:46.719Z"
   },
   {
    "duration": 10,
    "start_time": "2023-08-30T12:57:46.731Z"
   },
   {
    "duration": 612,
    "start_time": "2023-08-30T12:57:46.756Z"
   },
   {
    "duration": 8,
    "start_time": "2023-08-30T12:57:47.370Z"
   },
   {
    "duration": 9,
    "start_time": "2023-08-30T12:57:47.380Z"
   },
   {
    "duration": 408,
    "start_time": "2023-08-30T12:57:47.391Z"
   },
   {
    "duration": 13,
    "start_time": "2023-08-30T12:57:47.801Z"
   },
   {
    "duration": 13,
    "start_time": "2023-08-30T12:57:47.816Z"
   },
   {
    "duration": 42,
    "start_time": "2023-08-30T12:57:47.831Z"
   },
   {
    "duration": 678,
    "start_time": "2023-08-30T12:57:47.874Z"
   },
   {
    "duration": 64,
    "start_time": "2023-08-30T12:57:48.555Z"
   },
   {
    "duration": 81,
    "start_time": "2023-08-30T12:57:48.621Z"
   },
   {
    "duration": 293,
    "start_time": "2023-08-30T12:57:48.704Z"
   },
   {
    "duration": 6,
    "start_time": "2023-08-30T12:57:48.999Z"
   },
   {
    "duration": 394,
    "start_time": "2023-08-30T12:57:49.007Z"
   },
   {
    "duration": 9,
    "start_time": "2023-08-30T12:57:49.402Z"
   },
   {
    "duration": 49,
    "start_time": "2023-08-30T12:57:49.412Z"
   },
   {
    "duration": 36,
    "start_time": "2023-08-30T12:57:49.463Z"
   },
   {
    "duration": 23,
    "start_time": "2023-08-30T12:57:49.501Z"
   },
   {
    "duration": 2,
    "start_time": "2023-08-30T12:57:49.528Z"
   },
   {
    "duration": 5,
    "start_time": "2023-08-30T12:57:49.556Z"
   },
   {
    "duration": 12,
    "start_time": "2023-08-30T12:57:49.562Z"
   },
   {
    "duration": 11,
    "start_time": "2023-08-30T12:57:49.576Z"
   },
   {
    "duration": 35,
    "start_time": "2023-08-30T12:57:49.589Z"
   },
   {
    "duration": 37,
    "start_time": "2023-08-30T12:57:49.626Z"
   },
   {
    "duration": 24,
    "start_time": "2023-08-30T12:57:49.665Z"
   },
   {
    "duration": 7,
    "start_time": "2023-08-30T12:57:49.690Z"
   },
   {
    "duration": 64,
    "start_time": "2023-08-30T12:57:49.699Z"
   },
   {
    "duration": 332,
    "start_time": "2023-08-30T12:57:49.765Z"
   },
   {
    "duration": 85728,
    "start_time": "2023-08-30T12:57:50.099Z"
   },
   {
    "duration": 5,
    "start_time": "2023-08-30T12:59:15.829Z"
   },
   {
    "duration": 403,
    "start_time": "2023-08-30T12:59:15.836Z"
   },
   {
    "duration": 6,
    "start_time": "2023-08-30T12:59:16.241Z"
   },
   {
    "duration": 40,
    "start_time": "2023-08-30T12:59:16.248Z"
   },
   {
    "duration": 12,
    "start_time": "2023-08-30T12:59:16.290Z"
   },
   {
    "duration": 57,
    "start_time": "2023-08-30T12:59:16.304Z"
   },
   {
    "duration": 202,
    "start_time": "2023-08-30T12:59:16.363Z"
   },
   {
    "duration": 369,
    "start_time": "2023-08-30T12:59:16.658Z"
   },
   {
    "duration": 110,
    "start_time": "2023-08-30T12:59:17.029Z"
   },
   {
    "duration": 521701,
    "start_time": "2023-08-30T12:59:17.141Z"
   },
   {
    "duration": 197554,
    "start_time": "2023-08-30T13:07:58.844Z"
   },
   {
    "duration": 6,
    "start_time": "2023-08-30T13:11:16.399Z"
   },
   {
    "duration": 367,
    "start_time": "2023-08-30T13:11:16.407Z"
   },
   {
    "duration": 413,
    "start_time": "2023-08-30T13:11:16.776Z"
   },
   {
    "duration": 139,
    "start_time": "2023-08-30T13:11:17.191Z"
   },
   {
    "duration": 8,
    "start_time": "2023-08-30T13:11:17.332Z"
   },
   {
    "duration": 6,
    "start_time": "2023-08-30T13:11:22.103Z"
   },
   {
    "duration": 8,
    "start_time": "2023-08-30T13:14:24.176Z"
   },
   {
    "duration": 7,
    "start_time": "2023-08-30T13:14:50.558Z"
   },
   {
    "duration": 13,
    "start_time": "2023-08-30T13:15:41.565Z"
   },
   {
    "duration": 8,
    "start_time": "2023-08-30T13:16:00.617Z"
   },
   {
    "duration": 5,
    "start_time": "2023-08-30T13:16:09.937Z"
   },
   {
    "duration": 4,
    "start_time": "2023-08-30T13:16:11.060Z"
   },
   {
    "duration": 4,
    "start_time": "2023-08-30T13:16:13.940Z"
   },
   {
    "duration": 7,
    "start_time": "2023-08-30T13:16:27.481Z"
   },
   {
    "duration": 6,
    "start_time": "2023-08-30T13:16:28.259Z"
   },
   {
    "duration": 9,
    "start_time": "2023-08-30T13:16:42.644Z"
   },
   {
    "duration": 9,
    "start_time": "2023-08-30T13:17:04.002Z"
   },
   {
    "duration": 6,
    "start_time": "2023-08-30T13:17:17.762Z"
   },
   {
    "duration": 28,
    "start_time": "2023-08-30T13:17:28.357Z"
   },
   {
    "duration": 4,
    "start_time": "2023-08-30T13:17:35.206Z"
   },
   {
    "duration": 9,
    "start_time": "2023-08-30T13:18:06.390Z"
   },
   {
    "duration": 13,
    "start_time": "2023-08-30T13:18:28.967Z"
   },
   {
    "duration": 103,
    "start_time": "2023-08-30T13:18:56.955Z"
   },
   {
    "duration": 11,
    "start_time": "2023-08-30T13:19:26.460Z"
   },
   {
    "duration": 9,
    "start_time": "2023-08-30T13:19:34.560Z"
   },
   {
    "duration": 10,
    "start_time": "2023-08-30T13:19:44.265Z"
   },
   {
    "duration": 10,
    "start_time": "2023-08-30T13:19:46.258Z"
   },
   {
    "duration": 5,
    "start_time": "2023-08-30T13:20:05.664Z"
   },
   {
    "duration": 37,
    "start_time": "2023-08-30T13:21:20.046Z"
   },
   {
    "duration": 12,
    "start_time": "2023-08-30T13:21:48.364Z"
   },
   {
    "duration": 4,
    "start_time": "2023-08-30T13:21:52.215Z"
   },
   {
    "duration": 46,
    "start_time": "2023-08-30T13:22:28.962Z"
   },
   {
    "duration": 36,
    "start_time": "2023-08-30T13:23:45.304Z"
   },
   {
    "duration": 5,
    "start_time": "2023-08-30T13:27:07.076Z"
   },
   {
    "duration": 10,
    "start_time": "2023-08-30T13:28:16.918Z"
   },
   {
    "duration": 8,
    "start_time": "2023-08-30T13:28:31.401Z"
   },
   {
    "duration": 8,
    "start_time": "2023-08-30T13:29:01.043Z"
   },
   {
    "duration": 6,
    "start_time": "2023-08-30T13:29:09.571Z"
   },
   {
    "duration": 5,
    "start_time": "2023-08-30T13:30:57.838Z"
   },
   {
    "duration": 6,
    "start_time": "2023-08-30T13:31:03.714Z"
   },
   {
    "duration": 4268,
    "start_time": "2023-08-30T13:36:46.114Z"
   },
   {
    "duration": 1330,
    "start_time": "2023-08-30T13:36:50.384Z"
   },
   {
    "duration": 44,
    "start_time": "2023-08-30T13:36:51.716Z"
   },
   {
    "duration": 17,
    "start_time": "2023-08-30T13:36:51.762Z"
   },
   {
    "duration": 6,
    "start_time": "2023-08-30T13:36:51.780Z"
   },
   {
    "duration": 17,
    "start_time": "2023-08-30T13:36:51.787Z"
   },
   {
    "duration": 5,
    "start_time": "2023-08-30T13:36:51.806Z"
   },
   {
    "duration": 495,
    "start_time": "2023-08-30T13:36:51.812Z"
   },
   {
    "duration": 9,
    "start_time": "2023-08-30T13:36:52.309Z"
   },
   {
    "duration": 18,
    "start_time": "2023-08-30T13:36:52.320Z"
   },
   {
    "duration": 650,
    "start_time": "2023-08-30T13:36:52.340Z"
   },
   {
    "duration": 9,
    "start_time": "2023-08-30T13:36:52.992Z"
   },
   {
    "duration": 17,
    "start_time": "2023-08-30T13:36:53.003Z"
   },
   {
    "duration": 417,
    "start_time": "2023-08-30T13:36:53.022Z"
   },
   {
    "duration": 22,
    "start_time": "2023-08-30T13:36:53.441Z"
   },
   {
    "duration": 14,
    "start_time": "2023-08-30T13:36:53.465Z"
   },
   {
    "duration": 23,
    "start_time": "2023-08-30T13:36:53.480Z"
   },
   {
    "duration": 679,
    "start_time": "2023-08-30T13:36:53.505Z"
   },
   {
    "duration": 73,
    "start_time": "2023-08-30T13:36:54.185Z"
   },
   {
    "duration": 62,
    "start_time": "2023-08-30T13:36:54.260Z"
   },
   {
    "duration": 259,
    "start_time": "2023-08-30T13:36:54.324Z"
   },
   {
    "duration": 4,
    "start_time": "2023-08-30T13:36:54.585Z"
   },
   {
    "duration": 355,
    "start_time": "2023-08-30T13:36:54.591Z"
   },
   {
    "duration": 9,
    "start_time": "2023-08-30T13:36:54.956Z"
   },
   {
    "duration": 38,
    "start_time": "2023-08-30T13:36:54.967Z"
   },
   {
    "duration": 54,
    "start_time": "2023-08-30T13:36:55.007Z"
   },
   {
    "duration": 25,
    "start_time": "2023-08-30T13:36:55.062Z"
   },
   {
    "duration": 2,
    "start_time": "2023-08-30T13:36:55.091Z"
   },
   {
    "duration": 12,
    "start_time": "2023-08-30T13:36:55.095Z"
   },
   {
    "duration": 13,
    "start_time": "2023-08-30T13:36:55.109Z"
   },
   {
    "duration": 20,
    "start_time": "2023-08-30T13:36:55.124Z"
   },
   {
    "duration": 41,
    "start_time": "2023-08-30T13:36:55.157Z"
   },
   {
    "duration": 18,
    "start_time": "2023-08-30T13:36:55.200Z"
   },
   {
    "duration": 51,
    "start_time": "2023-08-30T13:36:55.220Z"
   },
   {
    "duration": 6,
    "start_time": "2023-08-30T13:36:55.273Z"
   },
   {
    "duration": 78,
    "start_time": "2023-08-30T13:36:55.281Z"
   },
   {
    "duration": 259,
    "start_time": "2023-08-30T13:36:55.360Z"
   },
   {
    "duration": 86110,
    "start_time": "2023-08-30T13:36:55.622Z"
   },
   {
    "duration": 4,
    "start_time": "2023-08-30T13:38:21.734Z"
   },
   {
    "duration": 408,
    "start_time": "2023-08-30T13:38:21.739Z"
   },
   {
    "duration": 10,
    "start_time": "2023-08-30T13:38:22.150Z"
   },
   {
    "duration": 43,
    "start_time": "2023-08-30T13:38:22.162Z"
   },
   {
    "duration": 12,
    "start_time": "2023-08-30T13:38:22.207Z"
   },
   {
    "duration": 43,
    "start_time": "2023-08-30T13:38:22.221Z"
   },
   {
    "duration": 195,
    "start_time": "2023-08-30T13:38:22.266Z"
   },
   {
    "duration": 422,
    "start_time": "2023-08-30T13:38:22.463Z"
   },
   {
    "duration": 110,
    "start_time": "2023-08-30T13:38:22.886Z"
   },
   {
    "duration": 528981,
    "start_time": "2023-08-30T13:38:22.998Z"
   },
   {
    "duration": 197245,
    "start_time": "2023-08-30T13:47:11.981Z"
   },
   {
    "duration": 6,
    "start_time": "2023-08-30T13:50:29.229Z"
   },
   {
    "duration": 405,
    "start_time": "2023-08-30T13:50:29.237Z"
   },
   {
    "duration": 401,
    "start_time": "2023-08-30T13:50:29.644Z"
   },
   {
    "duration": 144,
    "start_time": "2023-08-30T13:50:30.048Z"
   },
   {
    "duration": 37,
    "start_time": "2023-08-30T13:50:30.194Z"
   },
   {
    "duration": 25,
    "start_time": "2023-08-30T13:50:30.233Z"
   }
  ],
  "celltoolbar": "Отсутствует",
  "kernelspec": {
   "display_name": "Python 3 (ipykernel)",
   "language": "python",
   "name": "python3"
  },
  "language_info": {
   "codemirror_mode": {
    "name": "ipython",
    "version": 3
   },
   "file_extension": ".py",
   "mimetype": "text/x-python",
   "name": "python",
   "nbconvert_exporter": "python",
   "pygments_lexer": "ipython3",
   "version": "3.10.9"
  },
  "toc": {
   "base_numbering": "1",
   "nav_menu": {
    "height": "309.5px",
    "width": "350.5px"
   },
   "number_sections": true,
   "sideBar": true,
   "skip_h1_title": true,
   "title_cell": "Table of Contents",
   "title_sidebar": "Contents",
   "toc_cell": true,
   "toc_position": {
    "height": "calc(100% - 180px)",
    "left": "10px",
    "top": "150px",
    "width": "430px"
   },
   "toc_section_display": true,
   "toc_window_display": false
  }
 },
 "nbformat": 4,
 "nbformat_minor": 5
}
