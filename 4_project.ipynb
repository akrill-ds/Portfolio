{
 "cells": [
  {
   "cell_type": "markdown",
   "id": "55487abb",
   "metadata": {},
   "source": [
    "<font color='DarkBlue' size=+2><b>Комментарий ревьюера</b></font><br>\n",
    "<font color='DarkBlue'>Привет, Кирилл! <br>Меня зовут Олег Мазуренко, и я буду проверять этот проект. Спасибо за проделанную работу! <br>Ко мне можно обращаться на «ты». Как мне обращаться, напиши.</font><br>\n",
    "<font color='DarkBlue'>Я буду использовать различные цвета, чтобы было удобнее воспринимать мои комментарии:</font><br>\n",
    "<font color='DarkBlue'>Синий текст &mdash; просто текст комментария.</font><br>\n",
    "<font color='DarkGreen'>👌 Зеленый текст &mdash; все отлично.</font><br>\n",
    "<font color='DarkMagenta'>👉 Фиолетовый текст &mdash; сделано все правильно, однако есть рекомендации, на что стоит обратить внимание. Реализованные рекомендации позволят нам наработать опыт решения задачи разными способами или посмотреть на задачу под иным углом.</font><br>\n",
    "<font color='Red'>🛠 Красный текст &mdash; есть недочеты, они иногда бывают. </font><br><font color='DarkBlue'>Любая ошибка это возможность посмотреть на задачу с другой стороны и освоить новые знания, по этому не надо расстраиваться, если они есть.</font><br>\n",
    "<font color='DarkBlue'>Обращаю внимание, что комментарии ревьюера после проверки удалять нельзя они помогают отследить логику исправления или изменения проекта. Это дополнительный навык при обучении. Свой исправляемый код лучше тоже не удалять, а ремить #, это позволит акцентировать изменения в ходе подготовки окончательного варианта проекта.<br>\n",
    "Ответы на мои комментарии лучше тоже помечать. \n",
    "Например: </font><font color='Blue'><b>Комментарий студента</b></font><br>\n",
    "<font color='DarkBlue'><b>Теперь посмотрим, что у нас получилось!</b></font>"
   ]
  },
  {
   "cell_type": "markdown",
   "id": "4a0f6f35",
   "metadata": {},
   "source": [
    "</font><font color='Blue'><b>Комментарий студента</b></font><br>\n",
    "Олег, большое спасибо за развёрнутые комментарии и советы! \n",
    "<br>Ко мне можно тоже можно обращаться на \"ты\"."
   ]
  },
  {
   "cell_type": "markdown",
   "id": "46266ac3",
   "metadata": {},
   "source": [
    "<font color='DarkBlue'><b>Комментарий ревьюера 2</b></font><br>\n",
    "<font color='DarkGreen'>👌 Привет! Хорошо, пошел смотреть обновленный проект.</font>"
   ]
  },
  {
   "cell_type": "markdown",
   "id": "90de92ba",
   "metadata": {
    "deletable": false,
    "editable": false,
    "id": "c81daeeb"
   },
   "source": [
    "# Исследование надежности заемщиков\n"
   ]
  },
  {
   "cell_type": "markdown",
   "id": "7ae70582",
   "metadata": {},
   "source": [
    "<font color='DarkBlue'><b>Комментарий ревьюера</b></font><br>\n",
    "<font color='DarkMagenta'>👉 Хочу обратить внимание, что во всех следующих проектах необходимо будет делать описание проекта. Где отразить какая цель исследования, какой контекст (особенности отрасли и данных), что планируем делать (план исследования). <br>В реальном проекте не будет инструкции и задач, которые необходимо выполнить, по этому будем учиться делать описание проекта самостоятельно.</font>"
   ]
  },
  {
   "cell_type": "markdown",
   "id": "33ad8087",
   "metadata": {},
   "source": [
    "**Описание проекта**\n",
    "\n",
    "<u>Цель проекта:</u> исследовать насколько надёжность заёмщиков (т.е. вероятность того, что кредит будет погашен в срок) зависит от сведений, описывающих потенциального кредитополучателя, и на основе этого сформулировать рекомендации кредитному отделу.\n",
    "\n",
    "<u>Контекст:</u> область кредитования содержит в себе риски несвоевременного погашения кредита; о потенциальном заёмщике собирается как можно более полная информация с целью создания и пополнения системы кредитного скоринга; решение о выдаче кредита принимается на основе этой системы; поэтому очень важна полнота данных, сбалансированность выборки; данные содержат в себе такие параметры, как возраст, доход, трудовой стаж, семейное положение, пол и, что особенно важно, были ли уже задолженности по выплате кредита (кредитная история);\n",
    "\n",
    "<u>План исследования:</u>\n",
    "1. Ознакомление с данными;\n",
    "2. Обработка пропусков, аномальных значений, дубликатов;\n",
    "3. Исследование данных<br>\n",
    " 3.1. Зависимость возврата кредита в срок от количества детей;<br>\n",
    " 3.2. Зависимость возврата кредита в срок от семейного положения;<br>\n",
    " 3.3. Зависимость возврата кредита в срок от уровня дохода;<br>\n",
    " 3.4. Влияние цели кредита на возврат кредита в срок;<br>\n",
    "4. Выводы и рекомендации"
   ]
  },
  {
   "cell_type": "markdown",
   "id": "c441d264",
   "metadata": {},
   "source": [
    "<font color='DarkBlue'><b>Комментарий ревьюера 2</b></font><br>\n",
    "<font color='DarkGreen'>👌 Все проекты, это как часть реального исследования, за которое деньги заплатят или не заплатят. <br>А отчет читают: сначала описание, о чем идет речь и что делаем, потом выводы: что в итоге получили. А когда у заказчика в голове все сложилось, то смотрят как это делалось. То есть, в описании необходимо отразить какая цель исследования, какой контекст (особенности отрасли и данных), что мы планируем делать (план исследования). <br>И в реальном проекте не будет инструкции и задач, которые необходимо выполнить, по этому следует научиться делать описание проекта самостоятельно.</font>"
   ]
  },
  {
   "cell_type": "markdown",
   "id": "f40ec5f2",
   "metadata": {
    "deletable": false,
    "editable": false,
    "id": "827c20bf"
   },
   "source": [
    "Во второй части проекта вы выполните шаги 3 и 4. Их вручную проверит ревьюер.\n",
    "Чтобы вам не пришлось писать код заново для шагов 1 и 2, мы добавили авторские решения в ячейки с кодом. \n",
    "\n"
   ]
  },
  {
   "cell_type": "markdown",
   "id": "947ed750",
   "metadata": {
    "deletable": false,
    "editable": false,
    "id": "744d7639"
   },
   "source": [
    "## Откройте таблицу и изучите общую информацию о данных"
   ]
  },
  {
   "cell_type": "markdown",
   "id": "bd8e93f7",
   "metadata": {
    "deletable": false,
    "editable": false,
    "id": "e7a14c31"
   },
   "source": [
    "**Задание 1. Импортируйте библиотеку pandas. Считайте данные из csv-файла в датафрейм и сохраните в переменную `data`. Путь к файлу:**\n",
    "\n",
    "`/datasets/data.csv`"
   ]
  },
  {
   "cell_type": "code",
   "execution_count": 1,
   "id": "8b0c6f6d",
   "metadata": {
    "deletable": false,
    "id": "7bcf75c9"
   },
   "outputs": [],
   "source": [
    "import pandas as pd\n",
    "\n",
    "try:\n",
    "    data = pd.read_csv('/datasets/data.csv')\n",
    "except:\n",
    "    data = pd.read_csv('https://code.s3.yandex.net/datasets/data.csv')"
   ]
  },
  {
   "cell_type": "markdown",
   "id": "9bd09390",
   "metadata": {
    "deletable": false,
    "editable": false,
    "id": "b8038fe3"
   },
   "source": [
    "**Задание 2. Выведите первые 20 строчек датафрейма `data` на экран.**"
   ]
  },
  {
   "cell_type": "code",
   "execution_count": 2,
   "id": "da879465",
   "metadata": {
    "deletable": false,
    "id": "2a7cab99",
    "outputId": "1a8f3ef2-d323-4ec2-ddf7-89670b5944c4"
   },
   "outputs": [
    {
     "data": {
      "text/html": [
       "<div>\n",
       "<style scoped>\n",
       "    .dataframe tbody tr th:only-of-type {\n",
       "        vertical-align: middle;\n",
       "    }\n",
       "\n",
       "    .dataframe tbody tr th {\n",
       "        vertical-align: top;\n",
       "    }\n",
       "\n",
       "    .dataframe thead th {\n",
       "        text-align: right;\n",
       "    }\n",
       "</style>\n",
       "<table border=\"1\" class=\"dataframe\">\n",
       "  <thead>\n",
       "    <tr style=\"text-align: right;\">\n",
       "      <th></th>\n",
       "      <th>children</th>\n",
       "      <th>days_employed</th>\n",
       "      <th>dob_years</th>\n",
       "      <th>education</th>\n",
       "      <th>education_id</th>\n",
       "      <th>family_status</th>\n",
       "      <th>family_status_id</th>\n",
       "      <th>gender</th>\n",
       "      <th>income_type</th>\n",
       "      <th>debt</th>\n",
       "      <th>total_income</th>\n",
       "      <th>purpose</th>\n",
       "    </tr>\n",
       "  </thead>\n",
       "  <tbody>\n",
       "    <tr>\n",
       "      <th>0</th>\n",
       "      <td>1</td>\n",
       "      <td>-8437.673028</td>\n",
       "      <td>42</td>\n",
       "      <td>высшее</td>\n",
       "      <td>0</td>\n",
       "      <td>женат / замужем</td>\n",
       "      <td>0</td>\n",
       "      <td>F</td>\n",
       "      <td>сотрудник</td>\n",
       "      <td>0</td>\n",
       "      <td>253875.639453</td>\n",
       "      <td>покупка жилья</td>\n",
       "    </tr>\n",
       "    <tr>\n",
       "      <th>1</th>\n",
       "      <td>1</td>\n",
       "      <td>-4024.803754</td>\n",
       "      <td>36</td>\n",
       "      <td>среднее</td>\n",
       "      <td>1</td>\n",
       "      <td>женат / замужем</td>\n",
       "      <td>0</td>\n",
       "      <td>F</td>\n",
       "      <td>сотрудник</td>\n",
       "      <td>0</td>\n",
       "      <td>112080.014102</td>\n",
       "      <td>приобретение автомобиля</td>\n",
       "    </tr>\n",
       "    <tr>\n",
       "      <th>2</th>\n",
       "      <td>0</td>\n",
       "      <td>-5623.422610</td>\n",
       "      <td>33</td>\n",
       "      <td>Среднее</td>\n",
       "      <td>1</td>\n",
       "      <td>женат / замужем</td>\n",
       "      <td>0</td>\n",
       "      <td>M</td>\n",
       "      <td>сотрудник</td>\n",
       "      <td>0</td>\n",
       "      <td>145885.952297</td>\n",
       "      <td>покупка жилья</td>\n",
       "    </tr>\n",
       "    <tr>\n",
       "      <th>3</th>\n",
       "      <td>3</td>\n",
       "      <td>-4124.747207</td>\n",
       "      <td>32</td>\n",
       "      <td>среднее</td>\n",
       "      <td>1</td>\n",
       "      <td>женат / замужем</td>\n",
       "      <td>0</td>\n",
       "      <td>M</td>\n",
       "      <td>сотрудник</td>\n",
       "      <td>0</td>\n",
       "      <td>267628.550329</td>\n",
       "      <td>дополнительное образование</td>\n",
       "    </tr>\n",
       "    <tr>\n",
       "      <th>4</th>\n",
       "      <td>0</td>\n",
       "      <td>340266.072047</td>\n",
       "      <td>53</td>\n",
       "      <td>среднее</td>\n",
       "      <td>1</td>\n",
       "      <td>гражданский брак</td>\n",
       "      <td>1</td>\n",
       "      <td>F</td>\n",
       "      <td>пенсионер</td>\n",
       "      <td>0</td>\n",
       "      <td>158616.077870</td>\n",
       "      <td>сыграть свадьбу</td>\n",
       "    </tr>\n",
       "    <tr>\n",
       "      <th>5</th>\n",
       "      <td>0</td>\n",
       "      <td>-926.185831</td>\n",
       "      <td>27</td>\n",
       "      <td>высшее</td>\n",
       "      <td>0</td>\n",
       "      <td>гражданский брак</td>\n",
       "      <td>1</td>\n",
       "      <td>M</td>\n",
       "      <td>компаньон</td>\n",
       "      <td>0</td>\n",
       "      <td>255763.565419</td>\n",
       "      <td>покупка жилья</td>\n",
       "    </tr>\n",
       "    <tr>\n",
       "      <th>6</th>\n",
       "      <td>0</td>\n",
       "      <td>-2879.202052</td>\n",
       "      <td>43</td>\n",
       "      <td>высшее</td>\n",
       "      <td>0</td>\n",
       "      <td>женат / замужем</td>\n",
       "      <td>0</td>\n",
       "      <td>F</td>\n",
       "      <td>компаньон</td>\n",
       "      <td>0</td>\n",
       "      <td>240525.971920</td>\n",
       "      <td>операции с жильем</td>\n",
       "    </tr>\n",
       "    <tr>\n",
       "      <th>7</th>\n",
       "      <td>0</td>\n",
       "      <td>-152.779569</td>\n",
       "      <td>50</td>\n",
       "      <td>СРЕДНЕЕ</td>\n",
       "      <td>1</td>\n",
       "      <td>женат / замужем</td>\n",
       "      <td>0</td>\n",
       "      <td>M</td>\n",
       "      <td>сотрудник</td>\n",
       "      <td>0</td>\n",
       "      <td>135823.934197</td>\n",
       "      <td>образование</td>\n",
       "    </tr>\n",
       "    <tr>\n",
       "      <th>8</th>\n",
       "      <td>2</td>\n",
       "      <td>-6929.865299</td>\n",
       "      <td>35</td>\n",
       "      <td>ВЫСШЕЕ</td>\n",
       "      <td>0</td>\n",
       "      <td>гражданский брак</td>\n",
       "      <td>1</td>\n",
       "      <td>F</td>\n",
       "      <td>сотрудник</td>\n",
       "      <td>0</td>\n",
       "      <td>95856.832424</td>\n",
       "      <td>на проведение свадьбы</td>\n",
       "    </tr>\n",
       "    <tr>\n",
       "      <th>9</th>\n",
       "      <td>0</td>\n",
       "      <td>-2188.756445</td>\n",
       "      <td>41</td>\n",
       "      <td>среднее</td>\n",
       "      <td>1</td>\n",
       "      <td>женат / замужем</td>\n",
       "      <td>0</td>\n",
       "      <td>M</td>\n",
       "      <td>сотрудник</td>\n",
       "      <td>0</td>\n",
       "      <td>144425.938277</td>\n",
       "      <td>покупка жилья для семьи</td>\n",
       "    </tr>\n",
       "    <tr>\n",
       "      <th>10</th>\n",
       "      <td>2</td>\n",
       "      <td>-4171.483647</td>\n",
       "      <td>36</td>\n",
       "      <td>высшее</td>\n",
       "      <td>0</td>\n",
       "      <td>женат / замужем</td>\n",
       "      <td>0</td>\n",
       "      <td>M</td>\n",
       "      <td>компаньон</td>\n",
       "      <td>0</td>\n",
       "      <td>113943.491460</td>\n",
       "      <td>покупка недвижимости</td>\n",
       "    </tr>\n",
       "    <tr>\n",
       "      <th>11</th>\n",
       "      <td>0</td>\n",
       "      <td>-792.701887</td>\n",
       "      <td>40</td>\n",
       "      <td>среднее</td>\n",
       "      <td>1</td>\n",
       "      <td>женат / замужем</td>\n",
       "      <td>0</td>\n",
       "      <td>F</td>\n",
       "      <td>сотрудник</td>\n",
       "      <td>0</td>\n",
       "      <td>77069.234271</td>\n",
       "      <td>покупка коммерческой недвижимости</td>\n",
       "    </tr>\n",
       "    <tr>\n",
       "      <th>12</th>\n",
       "      <td>0</td>\n",
       "      <td>NaN</td>\n",
       "      <td>65</td>\n",
       "      <td>среднее</td>\n",
       "      <td>1</td>\n",
       "      <td>гражданский брак</td>\n",
       "      <td>1</td>\n",
       "      <td>M</td>\n",
       "      <td>пенсионер</td>\n",
       "      <td>0</td>\n",
       "      <td>NaN</td>\n",
       "      <td>сыграть свадьбу</td>\n",
       "    </tr>\n",
       "    <tr>\n",
       "      <th>13</th>\n",
       "      <td>0</td>\n",
       "      <td>-1846.641941</td>\n",
       "      <td>54</td>\n",
       "      <td>неоконченное высшее</td>\n",
       "      <td>2</td>\n",
       "      <td>женат / замужем</td>\n",
       "      <td>0</td>\n",
       "      <td>F</td>\n",
       "      <td>сотрудник</td>\n",
       "      <td>0</td>\n",
       "      <td>130458.228857</td>\n",
       "      <td>приобретение автомобиля</td>\n",
       "    </tr>\n",
       "    <tr>\n",
       "      <th>14</th>\n",
       "      <td>0</td>\n",
       "      <td>-1844.956182</td>\n",
       "      <td>56</td>\n",
       "      <td>высшее</td>\n",
       "      <td>0</td>\n",
       "      <td>гражданский брак</td>\n",
       "      <td>1</td>\n",
       "      <td>F</td>\n",
       "      <td>компаньон</td>\n",
       "      <td>1</td>\n",
       "      <td>165127.911772</td>\n",
       "      <td>покупка жилой недвижимости</td>\n",
       "    </tr>\n",
       "    <tr>\n",
       "      <th>15</th>\n",
       "      <td>1</td>\n",
       "      <td>-972.364419</td>\n",
       "      <td>26</td>\n",
       "      <td>среднее</td>\n",
       "      <td>1</td>\n",
       "      <td>женат / замужем</td>\n",
       "      <td>0</td>\n",
       "      <td>F</td>\n",
       "      <td>сотрудник</td>\n",
       "      <td>0</td>\n",
       "      <td>116820.904450</td>\n",
       "      <td>строительство собственной недвижимости</td>\n",
       "    </tr>\n",
       "    <tr>\n",
       "      <th>16</th>\n",
       "      <td>0</td>\n",
       "      <td>-1719.934226</td>\n",
       "      <td>35</td>\n",
       "      <td>среднее</td>\n",
       "      <td>1</td>\n",
       "      <td>женат / замужем</td>\n",
       "      <td>0</td>\n",
       "      <td>F</td>\n",
       "      <td>сотрудник</td>\n",
       "      <td>0</td>\n",
       "      <td>289202.704229</td>\n",
       "      <td>недвижимость</td>\n",
       "    </tr>\n",
       "    <tr>\n",
       "      <th>17</th>\n",
       "      <td>0</td>\n",
       "      <td>-2369.999720</td>\n",
       "      <td>33</td>\n",
       "      <td>высшее</td>\n",
       "      <td>0</td>\n",
       "      <td>гражданский брак</td>\n",
       "      <td>1</td>\n",
       "      <td>M</td>\n",
       "      <td>сотрудник</td>\n",
       "      <td>0</td>\n",
       "      <td>90410.586745</td>\n",
       "      <td>строительство недвижимости</td>\n",
       "    </tr>\n",
       "    <tr>\n",
       "      <th>18</th>\n",
       "      <td>0</td>\n",
       "      <td>400281.136913</td>\n",
       "      <td>53</td>\n",
       "      <td>среднее</td>\n",
       "      <td>1</td>\n",
       "      <td>вдовец / вдова</td>\n",
       "      <td>2</td>\n",
       "      <td>F</td>\n",
       "      <td>пенсионер</td>\n",
       "      <td>0</td>\n",
       "      <td>56823.777243</td>\n",
       "      <td>на покупку подержанного автомобиля</td>\n",
       "    </tr>\n",
       "    <tr>\n",
       "      <th>19</th>\n",
       "      <td>0</td>\n",
       "      <td>-10038.818549</td>\n",
       "      <td>48</td>\n",
       "      <td>СРЕДНЕЕ</td>\n",
       "      <td>1</td>\n",
       "      <td>в разводе</td>\n",
       "      <td>3</td>\n",
       "      <td>F</td>\n",
       "      <td>сотрудник</td>\n",
       "      <td>0</td>\n",
       "      <td>242831.107982</td>\n",
       "      <td>на покупку своего автомобиля</td>\n",
       "    </tr>\n",
       "  </tbody>\n",
       "</table>\n",
       "</div>"
      ],
      "text/plain": [
       "    children  days_employed  dob_years            education  education_id  \\\n",
       "0          1   -8437.673028         42               высшее             0   \n",
       "1          1   -4024.803754         36              среднее             1   \n",
       "2          0   -5623.422610         33              Среднее             1   \n",
       "3          3   -4124.747207         32              среднее             1   \n",
       "4          0  340266.072047         53              среднее             1   \n",
       "5          0    -926.185831         27               высшее             0   \n",
       "6          0   -2879.202052         43               высшее             0   \n",
       "7          0    -152.779569         50              СРЕДНЕЕ             1   \n",
       "8          2   -6929.865299         35               ВЫСШЕЕ             0   \n",
       "9          0   -2188.756445         41              среднее             1   \n",
       "10         2   -4171.483647         36               высшее             0   \n",
       "11         0    -792.701887         40              среднее             1   \n",
       "12         0            NaN         65              среднее             1   \n",
       "13         0   -1846.641941         54  неоконченное высшее             2   \n",
       "14         0   -1844.956182         56               высшее             0   \n",
       "15         1    -972.364419         26              среднее             1   \n",
       "16         0   -1719.934226         35              среднее             1   \n",
       "17         0   -2369.999720         33               высшее             0   \n",
       "18         0  400281.136913         53              среднее             1   \n",
       "19         0  -10038.818549         48              СРЕДНЕЕ             1   \n",
       "\n",
       "       family_status  family_status_id gender income_type  debt  \\\n",
       "0    женат / замужем                 0      F   сотрудник     0   \n",
       "1    женат / замужем                 0      F   сотрудник     0   \n",
       "2    женат / замужем                 0      M   сотрудник     0   \n",
       "3    женат / замужем                 0      M   сотрудник     0   \n",
       "4   гражданский брак                 1      F   пенсионер     0   \n",
       "5   гражданский брак                 1      M   компаньон     0   \n",
       "6    женат / замужем                 0      F   компаньон     0   \n",
       "7    женат / замужем                 0      M   сотрудник     0   \n",
       "8   гражданский брак                 1      F   сотрудник     0   \n",
       "9    женат / замужем                 0      M   сотрудник     0   \n",
       "10   женат / замужем                 0      M   компаньон     0   \n",
       "11   женат / замужем                 0      F   сотрудник     0   \n",
       "12  гражданский брак                 1      M   пенсионер     0   \n",
       "13   женат / замужем                 0      F   сотрудник     0   \n",
       "14  гражданский брак                 1      F   компаньон     1   \n",
       "15   женат / замужем                 0      F   сотрудник     0   \n",
       "16   женат / замужем                 0      F   сотрудник     0   \n",
       "17  гражданский брак                 1      M   сотрудник     0   \n",
       "18    вдовец / вдова                 2      F   пенсионер     0   \n",
       "19         в разводе                 3      F   сотрудник     0   \n",
       "\n",
       "     total_income                                 purpose  \n",
       "0   253875.639453                           покупка жилья  \n",
       "1   112080.014102                 приобретение автомобиля  \n",
       "2   145885.952297                           покупка жилья  \n",
       "3   267628.550329              дополнительное образование  \n",
       "4   158616.077870                         сыграть свадьбу  \n",
       "5   255763.565419                           покупка жилья  \n",
       "6   240525.971920                       операции с жильем  \n",
       "7   135823.934197                             образование  \n",
       "8    95856.832424                   на проведение свадьбы  \n",
       "9   144425.938277                 покупка жилья для семьи  \n",
       "10  113943.491460                    покупка недвижимости  \n",
       "11   77069.234271       покупка коммерческой недвижимости  \n",
       "12            NaN                         сыграть свадьбу  \n",
       "13  130458.228857                 приобретение автомобиля  \n",
       "14  165127.911772              покупка жилой недвижимости  \n",
       "15  116820.904450  строительство собственной недвижимости  \n",
       "16  289202.704229                            недвижимость  \n",
       "17   90410.586745              строительство недвижимости  \n",
       "18   56823.777243      на покупку подержанного автомобиля  \n",
       "19  242831.107982            на покупку своего автомобиля  "
      ]
     },
     "execution_count": 2,
     "metadata": {},
     "output_type": "execute_result"
    }
   ],
   "source": [
    "data.head(20)"
   ]
  },
  {
   "cell_type": "markdown",
   "id": "c9b482fc",
   "metadata": {
    "deletable": false,
    "editable": false,
    "id": "1c12e233"
   },
   "source": [
    "**Задание 3. Выведите основную информацию о датафрейме с помощью метода `info()`.**"
   ]
  },
  {
   "cell_type": "code",
   "execution_count": 3,
   "id": "d0031841",
   "metadata": {
    "deletable": false,
    "id": "2b757bca",
    "outputId": "15376089-8dad-46c9-b520-c05248d43158"
   },
   "outputs": [
    {
     "name": "stdout",
     "output_type": "stream",
     "text": [
      "<class 'pandas.core.frame.DataFrame'>\n",
      "RangeIndex: 21525 entries, 0 to 21524\n",
      "Data columns (total 12 columns):\n",
      " #   Column            Non-Null Count  Dtype  \n",
      "---  ------            --------------  -----  \n",
      " 0   children          21525 non-null  int64  \n",
      " 1   days_employed     19351 non-null  float64\n",
      " 2   dob_years         21525 non-null  int64  \n",
      " 3   education         21525 non-null  object \n",
      " 4   education_id      21525 non-null  int64  \n",
      " 5   family_status     21525 non-null  object \n",
      " 6   family_status_id  21525 non-null  int64  \n",
      " 7   gender            21525 non-null  object \n",
      " 8   income_type       21525 non-null  object \n",
      " 9   debt              21525 non-null  int64  \n",
      " 10  total_income      19351 non-null  float64\n",
      " 11  purpose           21525 non-null  object \n",
      "dtypes: float64(2), int64(5), object(5)\n",
      "memory usage: 2.0+ MB\n"
     ]
    }
   ],
   "source": [
    "data.info()"
   ]
  },
  {
   "cell_type": "markdown",
   "id": "42ea261f",
   "metadata": {
    "deletable": false,
    "editable": false,
    "id": "333ec665"
   },
   "source": [
    "## Предобработка данных"
   ]
  },
  {
   "cell_type": "markdown",
   "id": "96de30c5",
   "metadata": {
    "deletable": false,
    "editable": false,
    "id": "02d92d53"
   },
   "source": [
    "### Удаление пропусков"
   ]
  },
  {
   "cell_type": "markdown",
   "id": "b850bdc7",
   "metadata": {
    "deletable": false,
    "editable": false,
    "id": "cd84967c"
   },
   "source": [
    "**Задание 4. Выведите количество пропущенных значений для каждого столбца. Используйте комбинацию двух методов.**"
   ]
  },
  {
   "cell_type": "code",
   "execution_count": 4,
   "id": "17f1435d",
   "metadata": {
    "deletable": false,
    "id": "7f9b2309",
    "outputId": "81f4d817-781c-465c-ed15-91ce4446810d"
   },
   "outputs": [
    {
     "data": {
      "text/plain": [
       "children               0\n",
       "days_employed       2174\n",
       "dob_years              0\n",
       "education              0\n",
       "education_id           0\n",
       "family_status          0\n",
       "family_status_id       0\n",
       "gender                 0\n",
       "income_type            0\n",
       "debt                   0\n",
       "total_income        2174\n",
       "purpose                0\n",
       "dtype: int64"
      ]
     },
     "execution_count": 4,
     "metadata": {},
     "output_type": "execute_result"
    }
   ],
   "source": [
    "data.isna().sum()"
   ]
  },
  {
   "cell_type": "markdown",
   "id": "ba92216e",
   "metadata": {
    "deletable": false,
    "editable": false,
    "id": "db86e27b"
   },
   "source": [
    "**Задание 5. В двух столбцах есть пропущенные значения. Один из них — `days_employed`. Пропуски в этом столбце вы обработаете на следующем этапе. Другой столбец с пропущенными значениями — `total_income` — хранит данные о доходах. На сумму дохода сильнее всего влияет тип занятости, поэтому заполнить пропуски в этом столбце нужно медианным значением по каждому типу из столбца `income_type`. Например, у человека с типом занятости `сотрудник` пропуск в столбце `total_income` должен быть заполнен медианным доходом среди всех записей с тем же типом.**"
   ]
  },
  {
   "cell_type": "code",
   "execution_count": 5,
   "id": "2548b165",
   "metadata": {
    "deletable": false,
    "id": "42006a93"
   },
   "outputs": [],
   "source": [
    "for t in data['income_type'].unique():\n",
    "    data.loc[(data['income_type'] == t) & (data['total_income'].isna()), 'total_income'] = \\\n",
    "    data.loc[(data['income_type'] == t), 'total_income'].median()"
   ]
  },
  {
   "cell_type": "markdown",
   "id": "ca47727d",
   "metadata": {
    "deletable": false,
    "editable": false,
    "id": "89da5ece"
   },
   "source": [
    "### Обработка аномальных значений"
   ]
  },
  {
   "cell_type": "markdown",
   "id": "e8a20260",
   "metadata": {
    "deletable": false,
    "editable": false,
    "id": "57964554"
   },
   "source": [
    "**Задание 6. В данных могут встречаться артефакты (аномалии) — значения, которые не отражают действительность и появились по какой-то ошибке. таким артефактом будет отрицательное количество дней трудового стажа в столбце `days_employed`. Для реальных данных это нормально. Обработайте значения в этом столбце: замените все отрицательные значения положительными с помощью метода `abs()`.**"
   ]
  },
  {
   "cell_type": "code",
   "execution_count": 6,
   "id": "44f2f609",
   "metadata": {
    "deletable": false,
    "id": "f6f055bf"
   },
   "outputs": [],
   "source": [
    "data['days_employed'] = data['days_employed'].abs()"
   ]
  },
  {
   "cell_type": "markdown",
   "id": "867f0633",
   "metadata": {
    "deletable": false,
    "editable": false,
    "id": "6107dd2f"
   },
   "source": [
    "**Задание 7. Для каждого типа занятости выведите медианное значение трудового стажа `days_employed` в днях.**"
   ]
  },
  {
   "cell_type": "code",
   "execution_count": 7,
   "id": "4cc16b4d",
   "metadata": {
    "deletable": false,
    "id": "85a5faf6",
    "outputId": "801ef80e-522b-4668-f34e-565af7432bcf",
    "scrolled": true
   },
   "outputs": [
    {
     "data": {
      "text/plain": [
       "income_type\n",
       "безработный        366413.652744\n",
       "в декрете            3296.759962\n",
       "госслужащий          2689.368353\n",
       "компаньон            1547.382223\n",
       "пенсионер          365213.306266\n",
       "предприниматель       520.848083\n",
       "сотрудник            1574.202821\n",
       "студент               578.751554\n",
       "Name: days_employed, dtype: float64"
      ]
     },
     "execution_count": 7,
     "metadata": {},
     "output_type": "execute_result"
    }
   ],
   "source": [
    "data.groupby('income_type')['days_employed'].agg('median')"
   ]
  },
  {
   "cell_type": "markdown",
   "id": "71fa19bf",
   "metadata": {
    "deletable": false,
    "editable": false,
    "id": "38d1a030"
   },
   "source": [
    "У двух типов (безработные и пенсионеры) получатся аномально большие значения. Исправить такие значения сложно, поэтому оставьте их как есть. Тем более этот столбец не понадобится вам для исследования."
   ]
  },
  {
   "cell_type": "markdown",
   "id": "6223ad6d",
   "metadata": {
    "deletable": false,
    "editable": false,
    "id": "d8a9f147"
   },
   "source": [
    "**Задание 8. Выведите перечень уникальных значений столбца `children`.**"
   ]
  },
  {
   "cell_type": "code",
   "execution_count": 8,
   "id": "e33c4f21",
   "metadata": {
    "deletable": false,
    "id": "ef5056eb",
    "outputId": "6975b15c-7f95-4697-d16d-a0c79b657b03"
   },
   "outputs": [
    {
     "data": {
      "text/plain": [
       "array([ 1,  0,  3,  2, -1,  4, 20,  5])"
      ]
     },
     "execution_count": 8,
     "metadata": {},
     "output_type": "execute_result"
    }
   ],
   "source": [
    "data['children'].unique()"
   ]
  },
  {
   "cell_type": "markdown",
   "id": "e073c5d1",
   "metadata": {
    "deletable": false,
    "editable": false,
    "id": "40b9ebf2"
   },
   "source": [
    "**Задание 9. В столбце `children` есть два аномальных значения. Удалите строки, в которых встречаются такие аномальные значения из датафрейма `data`.**"
   ]
  },
  {
   "cell_type": "code",
   "execution_count": 9,
   "id": "94863777",
   "metadata": {
    "deletable": false,
    "id": "3ff9801d"
   },
   "outputs": [],
   "source": [
    "data = data[(data['children'] != -1) & (data['children'] != 20)]"
   ]
  },
  {
   "cell_type": "markdown",
   "id": "3378765b",
   "metadata": {
    "deletable": false,
    "editable": false,
    "id": "bbc4d0ce"
   },
   "source": [
    "**Задание 10. Ещё раз выведите перечень уникальных значений столбца `children`, чтобы убедиться, что артефакты удалены.**"
   ]
  },
  {
   "cell_type": "code",
   "execution_count": 10,
   "id": "8f11c9f1",
   "metadata": {
    "deletable": false,
    "id": "ad4fa8b7",
    "outputId": "b2097101-d49d-44d9-901b-32a65c9463d1"
   },
   "outputs": [
    {
     "data": {
      "text/plain": [
       "array([1, 0, 3, 2, 4, 5])"
      ]
     },
     "execution_count": 10,
     "metadata": {},
     "output_type": "execute_result"
    }
   ],
   "source": [
    "data['children'].unique()"
   ]
  },
  {
   "cell_type": "markdown",
   "id": "ad6d56d5",
   "metadata": {
    "deletable": false,
    "editable": false,
    "id": "75440b63"
   },
   "source": [
    "### Удаление пропусков (продолжение)"
   ]
  },
  {
   "cell_type": "markdown",
   "id": "ca4dd67f",
   "metadata": {
    "deletable": false,
    "editable": false,
    "id": "f4ea573f"
   },
   "source": [
    "**Задание 11. Заполните пропуски в столбце `days_employed` медианными значениями по каждого типа занятости `income_type`.**"
   ]
  },
  {
   "cell_type": "code",
   "execution_count": 11,
   "id": "c948ba3b",
   "metadata": {
    "deletable": false,
    "id": "af6b1a7e"
   },
   "outputs": [],
   "source": [
    "for t in data['income_type'].unique():\n",
    "    data.loc[(data['income_type'] == t) & (data['days_employed'].isna()), 'days_employed'] = \\\n",
    "    data.loc[(data['income_type'] == t), 'days_employed'].median()"
   ]
  },
  {
   "cell_type": "markdown",
   "id": "b193d18b",
   "metadata": {
    "deletable": false,
    "editable": false,
    "id": "2753f40d"
   },
   "source": [
    "**Задание 12. Убедитесь, что все пропуски заполнены. Проверьте себя и ещё раз выведите количество пропущенных значений для каждого столбца с помощью двух методов.**"
   ]
  },
  {
   "cell_type": "code",
   "execution_count": 12,
   "id": "c5ad7ff5",
   "metadata": {
    "deletable": false,
    "id": "55f78bc2",
    "outputId": "8da1e4e1-358e-4e87-98c9-f261bce0a7b2"
   },
   "outputs": [
    {
     "data": {
      "text/plain": [
       "children            0\n",
       "days_employed       0\n",
       "dob_years           0\n",
       "education           0\n",
       "education_id        0\n",
       "family_status       0\n",
       "family_status_id    0\n",
       "gender              0\n",
       "income_type         0\n",
       "debt                0\n",
       "total_income        0\n",
       "purpose             0\n",
       "dtype: int64"
      ]
     },
     "execution_count": 12,
     "metadata": {},
     "output_type": "execute_result"
    }
   ],
   "source": [
    "data.isna().sum()"
   ]
  },
  {
   "cell_type": "markdown",
   "id": "5356ff0e",
   "metadata": {
    "deletable": false,
    "editable": false,
    "id": "ddc81e43"
   },
   "source": [
    "### Изменение типов данных"
   ]
  },
  {
   "cell_type": "markdown",
   "id": "b35ac1ae",
   "metadata": {
    "deletable": false,
    "editable": false,
    "id": "42d19d24"
   },
   "source": [
    "**Задание 13. Замените вещественный тип данных в столбце `total_income` на целочисленный с помощью метода `astype()`.**"
   ]
  },
  {
   "cell_type": "code",
   "execution_count": 13,
   "id": "d0bb9679",
   "metadata": {
    "deletable": false,
    "id": "920b65ad"
   },
   "outputs": [],
   "source": [
    "data['total_income'] = data['total_income'].astype(int)"
   ]
  },
  {
   "cell_type": "markdown",
   "id": "54e07f3c",
   "metadata": {
    "deletable": false,
    "editable": false,
    "id": "80c420ba"
   },
   "source": [
    "### Обработка дубликатов"
   ]
  },
  {
   "cell_type": "markdown",
   "id": "21857a2d",
   "metadata": {
    "deletable": false,
    "editable": false
   },
   "source": [
    "**Задание 14. Обработайте неявные дубликаты в столбце `education`. В этом столбце есть одни и те же значения, но записанные по-разному: с использованием заглавных и строчных букв. Приведите их к нижнему регистру. Проверьте остальные столбцы.**"
   ]
  },
  {
   "cell_type": "code",
   "execution_count": 14,
   "id": "6701344c",
   "metadata": {
    "deletable": false
   },
   "outputs": [],
   "source": [
    "data['education'] = data['education'].str.lower()"
   ]
  },
  {
   "cell_type": "markdown",
   "id": "9511d635",
   "metadata": {
    "deletable": false,
    "editable": false,
    "id": "dc587695"
   },
   "source": [
    "**Задание 15. Выведите на экран количество строк-дубликатов в данных. Если такие строки присутствуют, удалите их.**"
   ]
  },
  {
   "cell_type": "code",
   "execution_count": 15,
   "id": "96c69357",
   "metadata": {
    "deletable": false,
    "id": "3ee445e4",
    "outputId": "9684deba-1934-42d1-99e1-cda61740f822"
   },
   "outputs": [
    {
     "data": {
      "text/plain": [
       "71"
      ]
     },
     "execution_count": 15,
     "metadata": {},
     "output_type": "execute_result"
    }
   ],
   "source": [
    "data.duplicated().sum()"
   ]
  },
  {
   "cell_type": "code",
   "execution_count": 16,
   "id": "1e8e69ef",
   "metadata": {
    "deletable": false,
    "id": "8575fe05"
   },
   "outputs": [],
   "source": [
    "data = data.drop_duplicates()"
   ]
  },
  {
   "cell_type": "markdown",
   "id": "4dae691c",
   "metadata": {
    "deletable": false,
    "editable": false,
    "id": "9904cf55"
   },
   "source": [
    "### Категоризация данных"
   ]
  },
  {
   "cell_type": "markdown",
   "id": "4ef466da",
   "metadata": {
    "deletable": false,
    "editable": false,
    "id": "72fcc8a2"
   },
   "source": [
    "**Задание 16. На основании диапазонов, указанных ниже, создайте в датафрейме `data` столбец `total_income_category` с категориями:**\n",
    "\n",
    "- 0–30000 — `'E'`;\n",
    "- 30001–50000 — `'D'`;\n",
    "- 50001–200000 — `'C'`;\n",
    "- 200001–1000000 — `'B'`;\n",
    "- 1000001 и выше — `'A'`.\n",
    "\n",
    "\n",
    "**Например, кредитополучателю с доходом 25000 нужно назначить категорию `'E'`, а клиенту, получающему 235000, — `'B'`. Используйте собственную функцию с именем `categorize_income()` и метод `apply()`.**"
   ]
  },
  {
   "cell_type": "code",
   "execution_count": 17,
   "id": "7785eda4",
   "metadata": {
    "deletable": false,
    "id": "e1771346"
   },
   "outputs": [],
   "source": [
    "def categorize_income(income):\n",
    "    try:\n",
    "        if 0 <= income <= 30000:\n",
    "            return 'E'\n",
    "        elif 30001 <= income <= 50000:\n",
    "            return 'D'\n",
    "        elif 50001 <= income <= 200000:\n",
    "            return 'C'\n",
    "        elif 200001 <= income <= 1000000:\n",
    "            return 'B'\n",
    "        elif income >= 1000001:\n",
    "            return 'A'\n",
    "    except:\n",
    "        pass"
   ]
  },
  {
   "cell_type": "code",
   "execution_count": 18,
   "id": "c5c5e28c",
   "metadata": {
    "deletable": false,
    "id": "d5f3586d"
   },
   "outputs": [],
   "source": [
    "data['total_income_category'] = data['total_income'].apply(categorize_income)"
   ]
  },
  {
   "cell_type": "markdown",
   "id": "7971533c",
   "metadata": {
    "deletable": false,
    "editable": false,
    "id": "dde49b5c"
   },
   "source": [
    "**Задание 17. Выведите на экран перечень уникальных целей взятия кредита из столбца `purpose`.**"
   ]
  },
  {
   "cell_type": "code",
   "execution_count": 19,
   "id": "fe95d7ae",
   "metadata": {
    "deletable": false,
    "id": "f67ce9b3",
    "outputId": "673c12d9-7d7e-4ae0-9812-c622c89dd244"
   },
   "outputs": [
    {
     "data": {
      "text/plain": [
       "array(['покупка жилья', 'приобретение автомобиля',\n",
       "       'дополнительное образование', 'сыграть свадьбу',\n",
       "       'операции с жильем', 'образование', 'на проведение свадьбы',\n",
       "       'покупка жилья для семьи', 'покупка недвижимости',\n",
       "       'покупка коммерческой недвижимости', 'покупка жилой недвижимости',\n",
       "       'строительство собственной недвижимости', 'недвижимость',\n",
       "       'строительство недвижимости', 'на покупку подержанного автомобиля',\n",
       "       'на покупку своего автомобиля',\n",
       "       'операции с коммерческой недвижимостью',\n",
       "       'строительство жилой недвижимости', 'жилье',\n",
       "       'операции со своей недвижимостью', 'автомобили',\n",
       "       'заняться образованием', 'сделка с подержанным автомобилем',\n",
       "       'получение образования', 'автомобиль', 'свадьба',\n",
       "       'получение дополнительного образования', 'покупка своего жилья',\n",
       "       'операции с недвижимостью', 'получение высшего образования',\n",
       "       'свой автомобиль', 'сделка с автомобилем',\n",
       "       'профильное образование', 'высшее образование',\n",
       "       'покупка жилья для сдачи', 'на покупку автомобиля', 'ремонт жилью',\n",
       "       'заняться высшим образованием'], dtype=object)"
      ]
     },
     "execution_count": 19,
     "metadata": {},
     "output_type": "execute_result"
    }
   ],
   "source": [
    "data['purpose'].unique()"
   ]
  },
  {
   "cell_type": "markdown",
   "id": "d66d551a",
   "metadata": {
    "deletable": false,
    "editable": false,
    "id": "85d0aef0"
   },
   "source": [
    "**Задание 18. Создайте функцию, которая на основании данных из столбца `purpose` сформирует новый столбец `purpose_category`, в который войдут следующие категории:**\n",
    "\n",
    "- `'операции с автомобилем'`,\n",
    "- `'операции с недвижимостью'`,\n",
    "- `'проведение свадьбы'`,\n",
    "- `'получение образования'`.\n",
    "\n",
    "**Например, если в столбце `purpose` находится подстрока `'на покупку автомобиля'`, то в столбце `purpose_category` должна появиться строка `'операции с автомобилем'`.**\n",
    "\n",
    "**Используйте собственную функцию с именем `categorize_purpose()` и метод `apply()`. Изучите данные в столбце `purpose` и определите, какие подстроки помогут вам правильно определить категорию.**"
   ]
  },
  {
   "cell_type": "code",
   "execution_count": 20,
   "id": "a0b5b3f7",
   "metadata": {
    "deletable": false,
    "id": "e149fab4"
   },
   "outputs": [],
   "source": [
    "def categorize_purpose(row):\n",
    "    try:\n",
    "        if 'автом' in row:\n",
    "            return 'операции с автомобилем'\n",
    "        elif 'жил' in row or 'недвиж' in row:\n",
    "            return 'операции с недвижимостью'\n",
    "        elif 'свад' in row:\n",
    "            return 'проведение свадьбы'\n",
    "        elif 'образов' in row:\n",
    "            return 'получение образования'\n",
    "    except:\n",
    "        return 'нет категории'"
   ]
  },
  {
   "cell_type": "code",
   "execution_count": 21,
   "id": "77c45ddd",
   "metadata": {
    "deletable": false,
    "id": "bf36e69b"
   },
   "outputs": [],
   "source": [
    "data['purpose_category'] = data['purpose'].apply(categorize_purpose)"
   ]
  },
  {
   "cell_type": "markdown",
   "id": "2a8505c7",
   "metadata": {
    "deletable": false,
    "editable": false,
    "id": "09b242bf"
   },
   "source": [
    "### Шаг 3. Исследуйте данные и ответьте на вопросы"
   ]
  },
  {
   "cell_type": "markdown",
   "id": "e1a17980",
   "metadata": {},
   "source": [
    "</font><font color='Blue'><b>Комментарий студента</b></font><br>\n",
    "Олег, два общих вопроса:\n",
    "- как часто и подробно нужно комментировать код? (каждую ли строчку? каков критерий необходимости комментария?)\n",
    "- длина имён переменных vs. их читабельность vs. их осмысленность?"
   ]
  },
  {
   "cell_type": "markdown",
   "id": "267b37e5",
   "metadata": {},
   "source": [
    "<font color='DarkBlue'><b>Комментарий ревьюера 2</b></font><br>\n",
    "<font color='DarkMagenta'>👉 До кода в ячейке Markdown пишем комментарий, что собираемся делать, после что получили. В самом кооде имеет смысл комментировать, только не очевидные вещи. Например, если пишем свою функцию, то лучше комментировать данные которые на нее подаем и что получаем на выходе. Рекомендуется имена переменных делать отражающими из назначений, а вот длинными именами лучше не злоупотреблять. И так тоже лучше не делать, хотя это и работает:</font>"
   ]
  },
  {
   "cell_type": "code",
   "execution_count": 31,
   "id": "d0aafa08",
   "metadata": {},
   "outputs": [
    {
     "data": {
      "text/html": [
       "<div>\n",
       "<style scoped>\n",
       "    .dataframe tbody tr th:only-of-type {\n",
       "        vertical-align: middle;\n",
       "    }\n",
       "\n",
       "    .dataframe tbody tr th {\n",
       "        vertical-align: top;\n",
       "    }\n",
       "\n",
       "    .dataframe thead th {\n",
       "        text-align: right;\n",
       "    }\n",
       "</style>\n",
       "<table border=\"1\" class=\"dataframe\">\n",
       "  <thead>\n",
       "    <tr style=\"text-align: right;\">\n",
       "      <th></th>\n",
       "      <th>count</th>\n",
       "      <th>sum</th>\n",
       "      <th>mean</th>\n",
       "    </tr>\n",
       "    <tr>\n",
       "      <th>children</th>\n",
       "      <th></th>\n",
       "      <th></th>\n",
       "      <th></th>\n",
       "    </tr>\n",
       "  </thead>\n",
       "  <tbody>\n",
       "    <tr>\n",
       "      <th>0</th>\n",
       "      <td>14091</td>\n",
       "      <td>1063</td>\n",
       "      <td>0.075438</td>\n",
       "    </tr>\n",
       "    <tr>\n",
       "      <th>1</th>\n",
       "      <td>4808</td>\n",
       "      <td>444</td>\n",
       "      <td>0.092346</td>\n",
       "    </tr>\n",
       "    <tr>\n",
       "      <th>2</th>\n",
       "      <td>2052</td>\n",
       "      <td>194</td>\n",
       "      <td>0.094542</td>\n",
       "    </tr>\n",
       "    <tr>\n",
       "      <th>3</th>\n",
       "      <td>330</td>\n",
       "      <td>27</td>\n",
       "      <td>0.081818</td>\n",
       "    </tr>\n",
       "    <tr>\n",
       "      <th>4</th>\n",
       "      <td>41</td>\n",
       "      <td>4</td>\n",
       "      <td>0.097561</td>\n",
       "    </tr>\n",
       "    <tr>\n",
       "      <th>5</th>\n",
       "      <td>9</td>\n",
       "      <td>0</td>\n",
       "      <td>0.000000</td>\n",
       "    </tr>\n",
       "  </tbody>\n",
       "</table>\n",
       "</div>"
      ],
      "text/plain": [
       "          count   sum      mean\n",
       "children                       \n",
       "0         14091  1063  0.075438\n",
       "1          4808   444  0.092346\n",
       "2          2052   194  0.094542\n",
       "3           330    27  0.081818\n",
       "4            41     4  0.097561\n",
       "5             9     0  0.000000"
      ]
     },
     "execution_count": 31,
     "metadata": {},
     "output_type": "execute_result"
    }
   ],
   "source": [
    "# Комментарий ревьюера 2\n",
    "сводная_таблица_с_должниками_имеющими_детей = data.groupby('children')['debt'].agg(['count', 'sum', 'mean'])\n",
    "сводная_таблица_с_должниками_имеющими_детей"
   ]
  },
  {
   "cell_type": "markdown",
   "id": "c779e254",
   "metadata": {
    "deletable": false,
    "editable": false,
    "id": "c5d66278"
   },
   "source": [
    "#### 3.1 Есть ли зависимость между количеством детей и возвратом кредита в срок?"
   ]
  },
  {
   "cell_type": "code",
   "execution_count": 22,
   "id": "c54f386f",
   "metadata": {
    "deletable": false,
    "id": "2cacfc4a",
    "scrolled": false
   },
   "outputs": [
    {
     "data": {
      "text/html": [
       "<div>\n",
       "<style scoped>\n",
       "    .dataframe tbody tr th:only-of-type {\n",
       "        vertical-align: middle;\n",
       "    }\n",
       "\n",
       "    .dataframe tbody tr th {\n",
       "        vertical-align: top;\n",
       "    }\n",
       "\n",
       "    .dataframe thead th {\n",
       "        text-align: right;\n",
       "    }\n",
       "</style>\n",
       "<table border=\"1\" class=\"dataframe\">\n",
       "  <thead>\n",
       "    <tr style=\"text-align: right;\">\n",
       "      <th></th>\n",
       "      <th>Всего кредитополучателей</th>\n",
       "      <th>Всего должников</th>\n",
       "      <th>Доля должников</th>\n",
       "    </tr>\n",
       "    <tr>\n",
       "      <th>children</th>\n",
       "      <th></th>\n",
       "      <th></th>\n",
       "      <th></th>\n",
       "    </tr>\n",
       "  </thead>\n",
       "  <tbody>\n",
       "    <tr>\n",
       "      <th>0</th>\n",
       "      <td>14091</td>\n",
       "      <td>1063</td>\n",
       "      <td>0.075438</td>\n",
       "    </tr>\n",
       "    <tr>\n",
       "      <th>1</th>\n",
       "      <td>4808</td>\n",
       "      <td>444</td>\n",
       "      <td>0.092346</td>\n",
       "    </tr>\n",
       "    <tr>\n",
       "      <th>2</th>\n",
       "      <td>2052</td>\n",
       "      <td>194</td>\n",
       "      <td>0.094542</td>\n",
       "    </tr>\n",
       "    <tr>\n",
       "      <th>3</th>\n",
       "      <td>330</td>\n",
       "      <td>27</td>\n",
       "      <td>0.081818</td>\n",
       "    </tr>\n",
       "    <tr>\n",
       "      <th>4</th>\n",
       "      <td>41</td>\n",
       "      <td>4</td>\n",
       "      <td>0.097561</td>\n",
       "    </tr>\n",
       "    <tr>\n",
       "      <th>5</th>\n",
       "      <td>9</td>\n",
       "      <td>0</td>\n",
       "      <td>0.000000</td>\n",
       "    </tr>\n",
       "  </tbody>\n",
       "</table>\n",
       "</div>"
      ],
      "text/plain": [
       "          Всего кредитополучателей  Всего должников  Доля должников\n",
       "children                                                           \n",
       "0                            14091             1063        0.075438\n",
       "1                             4808              444        0.092346\n",
       "2                             2052              194        0.094542\n",
       "3                              330               27        0.081818\n",
       "4                               41                4        0.097561\n",
       "5                                9                0        0.000000"
      ]
     },
     "execution_count": 22,
     "metadata": {},
     "output_type": "execute_result"
    }
   ],
   "source": [
    "# сводная таблица: количество людей по количеству их детей и долгам за кредит\n",
    "#df_childrens = pd.pivot_table(data=data, index='children', columns='debt', values='gender', aggfunc='count')\n",
    "\n",
    "# вычисление долей людей,не вернувших в срок кредит в процентах по количеству их детей\n",
    "#df_childrens['ratio'] = round((df_childrens[1] / (df_childrens[0] + df_childrens[1])) * 100, 2)\n",
    "#df_childrens\n",
    "\n",
    "# сводная таблица: подсчёт кредитополучателей по количеству их детей и долгам за кредит\n",
    "df_by_children = data.groupby('children')['debt'].agg(['count', 'sum', 'mean'])\n",
    "# переименование колонок\n",
    "df_by_children.columns = ['Всего кредитополучателей', 'Всего должников', 'Доля должников']\n",
    "df_by_children"
   ]
  },
  {
   "cell_type": "markdown",
   "id": "a6c213ab",
   "metadata": {},
   "source": [
    "<font color='DarkBlue'><b>Комментарий ревьюера 2</b></font><br>\n",
    "<font color='DarkMagenta'>👉 Можно было написать функцию, так как все задания одинаковые.</font>"
   ]
  },
  {
   "cell_type": "code",
   "execution_count": 32,
   "id": "d39dc435",
   "metadata": {},
   "outputs": [
    {
     "data": {
      "text/html": [
       "<style  type=\"text/css\" >\n",
       "#T_e1b93_row0_col0,#T_e1b93_row0_col1,#T_e1b93_row4_col2{\n",
       "            background-color:  #08306b;\n",
       "            color:  #f1f1f1;\n",
       "        }#T_e1b93_row0_col2{\n",
       "            background-color:  #1c6bb0;\n",
       "            color:  #f1f1f1;\n",
       "        }#T_e1b93_row1_col0{\n",
       "            background-color:  #a9cfe5;\n",
       "            color:  #000000;\n",
       "        }#T_e1b93_row1_col1{\n",
       "            background-color:  #8dc1dd;\n",
       "            color:  #000000;\n",
       "        }#T_e1b93_row1_col2{\n",
       "            background-color:  #083d7f;\n",
       "            color:  #f1f1f1;\n",
       "        }#T_e1b93_row2_col0{\n",
       "            background-color:  #dae8f6;\n",
       "            color:  #000000;\n",
       "        }#T_e1b93_row2_col1{\n",
       "            background-color:  #d3e4f3;\n",
       "            color:  #000000;\n",
       "        }#T_e1b93_row2_col2{\n",
       "            background-color:  #083776;\n",
       "            color:  #f1f1f1;\n",
       "        }#T_e1b93_row3_col0{\n",
       "            background-color:  #f3f8fe;\n",
       "            color:  #000000;\n",
       "        }#T_e1b93_row3_col1{\n",
       "            background-color:  #f2f8fd;\n",
       "            color:  #000000;\n",
       "        }#T_e1b93_row3_col2{\n",
       "            background-color:  #0f5aa3;\n",
       "            color:  #f1f1f1;\n",
       "        }#T_e1b93_row4_col0,#T_e1b93_row4_col1,#T_e1b93_row5_col0,#T_e1b93_row5_col1,#T_e1b93_row5_col2{\n",
       "            background-color:  #f7fbff;\n",
       "            color:  #000000;\n",
       "        }</style><table id=\"T_e1b93_\" ><thead>    <tr>        <th class=\"blank level0\" ></th>        <th class=\"col_heading level0 col0\" >Всего кредитополучателей</th>        <th class=\"col_heading level0 col1\" >Всего должников</th>        <th class=\"col_heading level0 col2\" >Доля должников</th>    </tr>    <tr>        <th class=\"index_name level0\" >children</th>        <th class=\"blank\" ></th>        <th class=\"blank\" ></th>        <th class=\"blank\" ></th>    </tr></thead><tbody>\n",
       "                <tr>\n",
       "                        <th id=\"T_e1b93_level0_row0\" class=\"row_heading level0 row0\" >0</th>\n",
       "                        <td id=\"T_e1b93_row0_col0\" class=\"data row0 col0\" >14091.000</td>\n",
       "                        <td id=\"T_e1b93_row0_col1\" class=\"data row0 col1\" >1063.000</td>\n",
       "                        <td id=\"T_e1b93_row0_col2\" class=\"data row0 col2\" >0.075</td>\n",
       "            </tr>\n",
       "            <tr>\n",
       "                        <th id=\"T_e1b93_level0_row1\" class=\"row_heading level0 row1\" >1</th>\n",
       "                        <td id=\"T_e1b93_row1_col0\" class=\"data row1 col0\" >4808.000</td>\n",
       "                        <td id=\"T_e1b93_row1_col1\" class=\"data row1 col1\" >444.000</td>\n",
       "                        <td id=\"T_e1b93_row1_col2\" class=\"data row1 col2\" >0.092</td>\n",
       "            </tr>\n",
       "            <tr>\n",
       "                        <th id=\"T_e1b93_level0_row2\" class=\"row_heading level0 row2\" >2</th>\n",
       "                        <td id=\"T_e1b93_row2_col0\" class=\"data row2 col0\" >2052.000</td>\n",
       "                        <td id=\"T_e1b93_row2_col1\" class=\"data row2 col1\" >194.000</td>\n",
       "                        <td id=\"T_e1b93_row2_col2\" class=\"data row2 col2\" >0.095</td>\n",
       "            </tr>\n",
       "            <tr>\n",
       "                        <th id=\"T_e1b93_level0_row3\" class=\"row_heading level0 row3\" >3</th>\n",
       "                        <td id=\"T_e1b93_row3_col0\" class=\"data row3 col0\" >330.000</td>\n",
       "                        <td id=\"T_e1b93_row3_col1\" class=\"data row3 col1\" >27.000</td>\n",
       "                        <td id=\"T_e1b93_row3_col2\" class=\"data row3 col2\" >0.082</td>\n",
       "            </tr>\n",
       "            <tr>\n",
       "                        <th id=\"T_e1b93_level0_row4\" class=\"row_heading level0 row4\" >4</th>\n",
       "                        <td id=\"T_e1b93_row4_col0\" class=\"data row4 col0\" >41.000</td>\n",
       "                        <td id=\"T_e1b93_row4_col1\" class=\"data row4 col1\" >4.000</td>\n",
       "                        <td id=\"T_e1b93_row4_col2\" class=\"data row4 col2\" >0.098</td>\n",
       "            </tr>\n",
       "            <tr>\n",
       "                        <th id=\"T_e1b93_level0_row5\" class=\"row_heading level0 row5\" >5</th>\n",
       "                        <td id=\"T_e1b93_row5_col0\" class=\"data row5 col0\" >9.000</td>\n",
       "                        <td id=\"T_e1b93_row5_col1\" class=\"data row5 col1\" >0.000</td>\n",
       "                        <td id=\"T_e1b93_row5_col2\" class=\"data row5 col2\" >0.000</td>\n",
       "            </tr>\n",
       "    </tbody></table>"
      ],
      "text/plain": [
       "<pandas.io.formats.style.Styler at 0x7f44100e4970>"
      ]
     },
     "metadata": {},
     "output_type": "display_data"
    }
   ],
   "source": [
    "# Комментарий ревьюера 2\n",
    "# Создаем копию датасета, что бы не работать с исходным\n",
    "temp = data.copy()\n",
    "# Напишем функцию, так как все задачи аналогичны\n",
    "def que(category):\n",
    "    data_temp = temp.pivot_table(index=category, values='debt', aggfunc=['count', 'sum', 'mean'])\n",
    "    data_temp.columns = ['Всего кредитополучателей', 'Всего должников', 'Доля должников']\n",
    "    # Оформим таблицу цветным градиентом, но можно ее вывести и просто display(data_temp)\n",
    "    display(data_temp.style.format(\"{:.3f}\").background_gradient(cmap='Blues', axis=0))\n",
    "    \n",
    "que('children')"
   ]
  },
  {
   "cell_type": "code",
   "execution_count": 23,
   "id": "be50d8cb",
   "metadata": {},
   "outputs": [
    {
     "name": "stdout",
     "output_type": "stream",
     "text": [
      "22.7%\n"
     ]
    }
   ],
   "source": [
    "# нахождение минимальной и максимальной доли должников (без учёта нулевого значения) [%]\n",
    "debt_cnt_min, debt_cnt_max = df_by_children.loc[df_by_children['Доля должников'] > 0, 'Доля должников'].agg(['min', 'max'])\n",
    "# форматированный вывод в процентах\n",
    "print(f'{((debt_cnt_max - debt_cnt_min) / debt_cnt_max):.1%}')"
   ]
  },
  {
   "attachments": {
    "image.png": {
     "image/png": "[encoded data removed]"
    }
   },
   "cell_type": "markdown",
   "id": "8b1eef4f",
   "metadata": {},
   "source": [
    "<font color='DarkBlue'><b>Комментарий ревьюера</b></font><br>\n",
    "<br><font color='DarkMagenta'>👉 Лучше строить сводную таблицу со следующими колонками: 'Всего заемщиков', 'Всего должников', 'Доля должников'. В этом случае таблица строится со следующими параметрами: `aggfunc=['count', 'sum', 'mean']`. Примерно вот так:</font>\n",
    "![image.png](attachment:image.png)"
   ]
  },
  {
   "cell_type": "markdown",
   "id": "0eefa9ea",
   "metadata": {
    "deletable": false,
    "id": "3a6b99ec"
   },
   "source": [
    "<s>Вывод: на основании доли людей, не вернувших кредит в срок, можно заключить, что сильно выраженной зависимости невозврата кредита в срок от количества детей у человека не наблюдается: доля колеблется в районе от 7 до 10 % для всех групп людей, кроме одной; а людей с пятью детьми слишком мало в датасете, чтобы сделать какие-либо выводы."
   ]
  },
  {
   "cell_type": "markdown",
   "id": "16a1647c",
   "metadata": {},
   "source": [
    "**Вывод:** на основании доли людей, не вернувших кредит в срок, можно заключить, что кредитополучатели без детей чаще возвращают кредит в срок, чем остальные (особенно по сравнению с теми, у кого с четверо детей - на 22.7%); скорее всего, это происходит по очевидной причине - большее количество детей требует больших средств, поэтому в срок вернуть кредит не всегда удаётся; кроме этого, заметно, что количество кредитополучателей с четырьмя детьми достаточно мало (по сравнению с количеством тех, у кого детей меньше), чтобы делать уверенный вывод."
   ]
  },
  {
   "cell_type": "markdown",
   "id": "4351c52b",
   "metadata": {},
   "source": [
    "<font color='DarkBlue'><b>Комментарий ревьюера 2</b></font><br>\n",
    "<font color='DarkGreen'>👌 Правильный вывод, действительно семьи без детей не несут дополнительных расходов и своевременно обслуживают свой кредит. У клиентов с детьми более высокая расходная часть семейного бюджета, поэтому и возникают сложности со своевременной выплатой по кредитным обязательствам.<br>Хорошо, что было обращено внимание на несбалансированность выборок, при малой выборке нельзя делать обоснованные выводы.</font>"
   ]
  },
  {
   "cell_type": "markdown",
   "id": "d20b8d1a",
   "metadata": {},
   "source": [
    "<font color='DarkBlue'><b>Комментарий ревьюера</b></font><br>\n",
    "<font color='Red'>🛠 Не конкретный вывод. Разница между крайними значениями долей должников (без учета семей с 5-тью детьми) составляет более 22%. Какая-то категория кредитополучателей все же лучше погашают кредиты.</font>\n",
    "<br><font color='DarkMagenta'>👉 Обращаю внимание, что выводы должны содержать не только пересказ результатов расчетов, которые и так видны в таблице, но и анализ причин приводящих к данному результату. Это относится ко всем заданиям.</font>"
   ]
  },
  {
   "cell_type": "markdown",
   "id": "96cb6296",
   "metadata": {
    "deletable": false,
    "editable": false,
    "id": "97be82ca"
   },
   "source": [
    "#### 3.2 Есть ли зависимость между семейным положением и возвратом кредита в срок?"
   ]
  },
  {
   "cell_type": "code",
   "execution_count": 24,
   "id": "eee6024c",
   "metadata": {
    "deletable": false,
    "id": "dc3f7ee8"
   },
   "outputs": [
    {
     "data": {
      "text/html": [
       "<div>\n",
       "<style scoped>\n",
       "    .dataframe tbody tr th:only-of-type {\n",
       "        vertical-align: middle;\n",
       "    }\n",
       "\n",
       "    .dataframe tbody tr th {\n",
       "        vertical-align: top;\n",
       "    }\n",
       "\n",
       "    .dataframe thead th {\n",
       "        text-align: right;\n",
       "    }\n",
       "</style>\n",
       "<table border=\"1\" class=\"dataframe\">\n",
       "  <thead>\n",
       "    <tr style=\"text-align: right;\">\n",
       "      <th></th>\n",
       "      <th>Всего кредитополучателей</th>\n",
       "      <th>Всего должников</th>\n",
       "      <th>Доля должников</th>\n",
       "    </tr>\n",
       "    <tr>\n",
       "      <th>family_status</th>\n",
       "      <th></th>\n",
       "      <th></th>\n",
       "      <th></th>\n",
       "    </tr>\n",
       "  </thead>\n",
       "  <tbody>\n",
       "    <tr>\n",
       "      <th>Не женат / не замужем</th>\n",
       "      <td>2796</td>\n",
       "      <td>273</td>\n",
       "      <td>0.097639</td>\n",
       "    </tr>\n",
       "    <tr>\n",
       "      <th>в разводе</th>\n",
       "      <td>1189</td>\n",
       "      <td>84</td>\n",
       "      <td>0.070648</td>\n",
       "    </tr>\n",
       "    <tr>\n",
       "      <th>вдовец / вдова</th>\n",
       "      <td>951</td>\n",
       "      <td>63</td>\n",
       "      <td>0.066246</td>\n",
       "    </tr>\n",
       "    <tr>\n",
       "      <th>гражданский брак</th>\n",
       "      <td>4134</td>\n",
       "      <td>385</td>\n",
       "      <td>0.093130</td>\n",
       "    </tr>\n",
       "    <tr>\n",
       "      <th>женат / замужем</th>\n",
       "      <td>12261</td>\n",
       "      <td>927</td>\n",
       "      <td>0.075606</td>\n",
       "    </tr>\n",
       "  </tbody>\n",
       "</table>\n",
       "</div>"
      ],
      "text/plain": [
       "                       Всего кредитополучателей  Всего должников  \\\n",
       "family_status                                                      \n",
       "Не женат / не замужем                      2796              273   \n",
       "в разводе                                  1189               84   \n",
       "вдовец / вдова                              951               63   \n",
       "гражданский брак                           4134              385   \n",
       "женат / замужем                           12261              927   \n",
       "\n",
       "                       Доля должников  \n",
       "family_status                          \n",
       "Не женат / не замужем        0.097639  \n",
       "в разводе                    0.070648  \n",
       "вдовец / вдова               0.066246  \n",
       "гражданский брак             0.093130  \n",
       "женат / замужем              0.075606  "
      ]
     },
     "execution_count": 24,
     "metadata": {},
     "output_type": "execute_result"
    }
   ],
   "source": [
    "# сводная таблица: количество людей по семейному положению и долгам за кредит\n",
    "#df_fam_status = pd.pivot_table(data=data, index='family_status', columns='debt', values='gender', aggfunc='count')\n",
    "\n",
    "# вычисление долей людей,не вернувших в срок кредит в процентах по семейному положению\n",
    "#df_fam_status['ratio'] = round((df_fam_status[1] / (df_fam_status[0] + df_fam_status[1])) * 100, 2)\n",
    "#df_fam_status\n",
    "\n",
    "# сводная таблица: подсчёт кредитополучателей по семейнмоу статусу и долгам за кредит\n",
    "df_by_fam_status = data.groupby('family_status')['debt'].agg(['count', 'sum', 'mean'])\n",
    "# переименование колонок\n",
    "df_by_fam_status.columns = ['Всего кредитополучателей', 'Всего должников', 'Доля должников']\n",
    "df_by_fam_status"
   ]
  },
  {
   "cell_type": "markdown",
   "id": "3088a6cb",
   "metadata": {
    "deletable": false,
    "id": "1cef7837"
   },
   "source": [
    "<s>**Вывод:** на основании доли людей, не вернувших кредит в срок, можно заключить, что сильно выраженной зависимости невозврата кредита в срок от семейного положения человека **не наблюдается**: доля колеблется в районе от 6 до 10 % для всех групп людей; из расчёта видно, что люди из категории `вдовец / вдова` и `в разводе` реже берут кредиты и чаще возвращают их в срок;"
   ]
  },
  {
   "cell_type": "markdown",
   "id": "068ec22b",
   "metadata": {
    "id": "1cef7837"
   },
   "source": [
    "**Вывод:** \n",
    "- на основании доли людей, не вернувших кредит в срок, можно заключить, что кредитополучатели с семейными статусами `женат / замужем`, `вдовец / вдова` и `в разводе` чаще возвращают кредит вовремя, при этом кредитополучатели из категории `вдовец / вдова` и `в разводе` заметно реже берут кредиты;\n",
    "- прослеживается зависимость между возвращением кредита в срок и тем, были ли оформлены семейные отношения (сейчас или даже в прошлом);"
   ]
  },
  {
   "cell_type": "markdown",
   "id": "d39ee290",
   "metadata": {},
   "source": [
    "<font color='DarkBlue'><b>Комментарий ревьюера</b></font><br>\n",
    "<font color='DarkGreen'>👌 Оформленные семейные отношения или их прошлый опыт налагают определенную ответственность и приучают к финансовой дисциплине.</font>"
   ]
  },
  {
   "cell_type": "markdown",
   "id": "fa1b52b5",
   "metadata": {
    "deletable": false,
    "editable": false,
    "id": "1e8b2fca"
   },
   "source": [
    "#### 3.3 Есть ли зависимость между уровнем дохода и возвратом кредита в срок?"
   ]
  },
  {
   "cell_type": "code",
   "execution_count": 25,
   "id": "fd2976ea",
   "metadata": {
    "deletable": false,
    "id": "cd7e3720"
   },
   "outputs": [
    {
     "data": {
      "text/html": [
       "<div>\n",
       "<style scoped>\n",
       "    .dataframe tbody tr th:only-of-type {\n",
       "        vertical-align: middle;\n",
       "    }\n",
       "\n",
       "    .dataframe tbody tr th {\n",
       "        vertical-align: top;\n",
       "    }\n",
       "\n",
       "    .dataframe thead th {\n",
       "        text-align: right;\n",
       "    }\n",
       "</style>\n",
       "<table border=\"1\" class=\"dataframe\">\n",
       "  <thead>\n",
       "    <tr style=\"text-align: right;\">\n",
       "      <th></th>\n",
       "      <th>Всего кредитополучателей</th>\n",
       "      <th>Всего должников</th>\n",
       "      <th>Доля должников</th>\n",
       "    </tr>\n",
       "    <tr>\n",
       "      <th>total_income_qcut</th>\n",
       "      <th></th>\n",
       "      <th></th>\n",
       "      <th></th>\n",
       "    </tr>\n",
       "  </thead>\n",
       "  <tbody>\n",
       "    <tr>\n",
       "      <th>(20666.999, 98514.0]</th>\n",
       "      <td>4267</td>\n",
       "      <td>344</td>\n",
       "      <td>0.080619</td>\n",
       "    </tr>\n",
       "    <tr>\n",
       "      <th>(98514.0, 132113.0]</th>\n",
       "      <td>4266</td>\n",
       "      <td>358</td>\n",
       "      <td>0.083919</td>\n",
       "    </tr>\n",
       "    <tr>\n",
       "      <th>(132113.0, 161380.0]</th>\n",
       "      <td>4266</td>\n",
       "      <td>373</td>\n",
       "      <td>0.087436</td>\n",
       "    </tr>\n",
       "    <tr>\n",
       "      <th>(161380.0, 214604.0]</th>\n",
       "      <td>4266</td>\n",
       "      <td>358</td>\n",
       "      <td>0.083919</td>\n",
       "    </tr>\n",
       "    <tr>\n",
       "      <th>(214604.0, 2265604.0]</th>\n",
       "      <td>4266</td>\n",
       "      <td>299</td>\n",
       "      <td>0.070089</td>\n",
       "    </tr>\n",
       "  </tbody>\n",
       "</table>\n",
       "</div>"
      ],
      "text/plain": [
       "                       Всего кредитополучателей  Всего должников  \\\n",
       "total_income_qcut                                                  \n",
       "(20666.999, 98514.0]                       4267              344   \n",
       "(98514.0, 132113.0]                        4266              358   \n",
       "(132113.0, 161380.0]                       4266              373   \n",
       "(161380.0, 214604.0]                       4266              358   \n",
       "(214604.0, 2265604.0]                      4266              299   \n",
       "\n",
       "                       Доля должников  \n",
       "total_income_qcut                      \n",
       "(20666.999, 98514.0]         0.080619  \n",
       "(98514.0, 132113.0]          0.083919  \n",
       "(132113.0, 161380.0]         0.087436  \n",
       "(161380.0, 214604.0]         0.083919  \n",
       "(214604.0, 2265604.0]        0.070089  "
      ]
     },
     "execution_count": 25,
     "metadata": {},
     "output_type": "execute_result"
    }
   ],
   "source": [
    "# сводная таблица: количество людей по уровню дохода и долгам за кредит\n",
    "#df_tot_inc_cat = pd.pivot_table(data=data, index='total_income_category', columns='debt', values='gender', aggfunc='count')\n",
    "\n",
    "# вычисление долей людей,не вернувших в срок кредит в процентах по уровню дохода\n",
    "#df_tot_inc_cat['ratio'] = round((df_tot_inc_cat[1] / (df_tot_inc_cat[0] + df_tot_inc_cat[1])) * 100, 2)\n",
    "#df_tot_inc_cat\n",
    "\n",
    "# разбиение доходов на категории по квантилям\n",
    "data['total_income_qcut'] = pd.qcut(data['total_income'], q=5)#, labels=['E', 'D', 'C', 'B', 'A'])\n",
    "# сводная таблица: подсчёт кредитополучателей по уровню дохода и долгам за кредит\n",
    "df_by_inc_cat = data.groupby('total_income_qcut')['debt'].agg(['count', 'sum', 'mean'])\n",
    "# переименование колонок\n",
    "df_by_inc_cat.columns = ['Всего кредитополучателей', 'Всего должников', 'Доля должников']\n",
    "df_by_inc_cat"
   ]
  },
  {
   "cell_type": "markdown",
   "id": "f3cf5e46",
   "metadata": {
    "deletable": false,
    "id": "e8593def"
   },
   "source": [
    "<s>**Вывод:** на основании доли людей, не вернувших кредит в срок, можно заключить, что сильно выраженной зависимости невозврата кредита в срок от уровня дохода человека **не наблюдается**: доля колеблется в районе от 6 до 9 % для всех групп людей; из расчёта видно, что люди из категории \"Е\" (доход менее 30000) реже остальных возвращают кредиты в срок; при этом чаще всего кредиты берут люди из категории \"С\" (доход от 50001 до 200000)"
   ]
  },
  {
   "cell_type": "markdown",
   "id": "7dbefb8b",
   "metadata": {},
   "source": [
    "**Вывод:**\n",
    "- на основании доли людей, не вернувших кредит в срок и разбиения интервала доходов по квантилям, можно заключить, что кредитополучатели с самым высоким уровнем дохода (от 214 604 до 2 265 604) чаще других категорий возвращают кредит вовремя; в первую очередь это связано с тем, что их высокие доходы позволяют брать кредиты и вовремя их возвращать, вероятно, они берут кредиты не с целью того, чтобы \"заткнуть дыры\" в семейном/личном бюджете;\n",
    "- кредитополучатели с доходом менее 214 604 возвращают вовремя долг по кредиту практически вне явной зависимости от своих доходов;"
   ]
  },
  {
   "cell_type": "markdown",
   "id": "b370117f",
   "metadata": {},
   "source": [
    "<font color='DarkBlue'><b>Комментарий ревьюера</b></font><br>\n",
    "<font color='DarkMagenta'>👉 Обращаю внимание, что представленные выборки несбалансированы и какой-то вывод можно делать только по двум категориям с достаточным размером выборок.</font>\n",
    "<br><font color='DarkMagenta'>👉 В задачах, где требуется анализировать несбалансированные выборки можно, делать дополнительный анализ, разбив данные на равные выборки методом `.qcut`. Подробнее можно прочитать тут: <br>https://dfedorov.spb.ru/pandas/Разделение%20данных%20в%20Pandas%20с%20помощью%20qcut%20и%20cut.html.</font>"
   ]
  },
  {
   "cell_type": "markdown",
   "id": "32ac4981",
   "metadata": {},
   "source": [
    "<font color='DarkBlue'><b>Комментарий ревьюера 2</b></font><br>\n",
    "<font color='DarkMagenta'>👉 Я написал, что это дополнительный анализ, а в первичном необходимо использовать категории банка. А можно сделать цикл с перебором количества категорий.</font>"
   ]
  },
  {
   "cell_type": "code",
   "execution_count": 34,
   "id": "7fa24bf9",
   "metadata": {},
   "outputs": [
    {
     "data": {
      "text/html": [
       "<style  type=\"text/css\" >\n",
       "#T_41553_row0_col0{\n",
       "            background-color:  #69add5;\n",
       "            color:  #000000;\n",
       "        }#T_41553_row0_col1{\n",
       "            background-color:  #5da5d1;\n",
       "            color:  #000000;\n",
       "        }#T_41553_row0_col2{\n",
       "            background-color:  #58a1cf;\n",
       "            color:  #000000;\n",
       "        }#T_41553_row1_col0,#T_41553_row1_col1,#T_41553_row1_col2{\n",
       "            background-color:  #08306b;\n",
       "            color:  #f1f1f1;\n",
       "        }#T_41553_row2_col0,#T_41553_row2_col1,#T_41553_row2_col2{\n",
       "            background-color:  #f7fbff;\n",
       "            color:  #000000;\n",
       "        }</style><table id=\"T_41553_\" ><thead>    <tr>        <th class=\"blank level0\" ></th>        <th class=\"col_heading level0 col0\" >Всего кредитополучателей</th>        <th class=\"col_heading level0 col1\" >Всего должников</th>        <th class=\"col_heading level0 col2\" >Доля должников</th>    </tr>    <tr>        <th class=\"index_name level0\" >new_category</th>        <th class=\"blank\" ></th>        <th class=\"blank\" ></th>        <th class=\"blank\" ></th>    </tr></thead><tbody>\n",
       "                <tr>\n",
       "                        <th id=\"T_41553_level0_row0\" class=\"row_heading level0 row0\" >(20666.0, 119218.0]</th>\n",
       "                        <td id=\"T_41553_row0_col0\" class=\"data row0 col0\" >7111.000</td>\n",
       "                        <td id=\"T_41553_row0_col1\" class=\"data row0 col1\" >580.000</td>\n",
       "                        <td id=\"T_41553_row0_col2\" class=\"data row0 col2\" >0.082</td>\n",
       "            </tr>\n",
       "            <tr>\n",
       "                        <th id=\"T_41553_level0_row1\" class=\"row_heading level0 row1\" >(119218.0, 172357.0]</th>\n",
       "                        <td id=\"T_41553_row1_col0\" class=\"data row1 col0\" >7238.000</td>\n",
       "                        <td id=\"T_41553_row1_col1\" class=\"data row1 col1\" >627.000</td>\n",
       "                        <td id=\"T_41553_row1_col2\" class=\"data row1 col2\" >0.087</td>\n",
       "            </tr>\n",
       "            <tr>\n",
       "                        <th id=\"T_41553_level0_row2\" class=\"row_heading level0 row2\" >(172357.0, 2265604.0]</th>\n",
       "                        <td id=\"T_41553_row2_col0\" class=\"data row2 col0\" >6982.000</td>\n",
       "                        <td id=\"T_41553_row2_col1\" class=\"data row2 col1\" >525.000</td>\n",
       "                        <td id=\"T_41553_row2_col2\" class=\"data row2 col2\" >0.075</td>\n",
       "            </tr>\n",
       "    </tbody></table>"
      ],
      "text/plain": [
       "<pandas.io.formats.style.Styler at 0x7f441010d070>"
      ]
     },
     "metadata": {},
     "output_type": "display_data"
    },
    {
     "data": {
      "text/html": [
       "<style  type=\"text/css\" >\n",
       "#T_0f6d9_row0_col0{\n",
       "            background-color:  #6aaed6;\n",
       "            color:  #000000;\n",
       "        }#T_0f6d9_row0_col1{\n",
       "            background-color:  #7ab6d9;\n",
       "            color:  #000000;\n",
       "        }#T_0f6d9_row0_col2{\n",
       "            background-color:  #65aad4;\n",
       "            color:  #000000;\n",
       "        }#T_0f6d9_row1_col0,#T_0f6d9_row1_col1,#T_0f6d9_row1_col2{\n",
       "            background-color:  #08306b;\n",
       "            color:  #f1f1f1;\n",
       "        }#T_0f6d9_row2_col0,#T_0f6d9_row3_col1,#T_0f6d9_row3_col2{\n",
       "            background-color:  #f7fbff;\n",
       "            color:  #000000;\n",
       "        }#T_0f6d9_row2_col1{\n",
       "            background-color:  #3f8fc5;\n",
       "            color:  #000000;\n",
       "        }#T_0f6d9_row2_col2{\n",
       "            background-color:  #125ea6;\n",
       "            color:  #f1f1f1;\n",
       "        }#T_0f6d9_row3_col0{\n",
       "            background-color:  #6dafd7;\n",
       "            color:  #000000;\n",
       "        }</style><table id=\"T_0f6d9_\" ><thead>    <tr>        <th class=\"blank level0\" ></th>        <th class=\"col_heading level0 col0\" >Всего кредитополучателей</th>        <th class=\"col_heading level0 col1\" >Всего должников</th>        <th class=\"col_heading level0 col2\" >Доля должников</th>    </tr>    <tr>        <th class=\"index_name level0\" >new_category</th>        <th class=\"blank\" ></th>        <th class=\"blank\" ></th>        <th class=\"blank\" ></th>    </tr></thead><tbody>\n",
       "                <tr>\n",
       "                        <th id=\"T_0f6d9_level0_row0\" class=\"row_heading level0 row0\" >(20666.0, 107507.0]</th>\n",
       "                        <td id=\"T_0f6d9_row0_col0\" class=\"data row0 col0\" >5333.000</td>\n",
       "                        <td id=\"T_0f6d9_row0_col1\" class=\"data row0 col1\" >427.000</td>\n",
       "                        <td id=\"T_0f6d9_row0_col2\" class=\"data row0 col2\" >0.080</td>\n",
       "            </tr>\n",
       "            <tr>\n",
       "                        <th id=\"T_0f6d9_level0_row1\" class=\"row_heading level0 row1\" >(107507.0, 142594.0]</th>\n",
       "                        <td id=\"T_0f6d9_row1_col0\" class=\"data row1 col0\" >5450.000</td>\n",
       "                        <td id=\"T_0f6d9_row1_col1\" class=\"data row1 col1\" >480.000</td>\n",
       "                        <td id=\"T_0f6d9_row1_col2\" class=\"data row1 col2\" >0.088</td>\n",
       "            </tr>\n",
       "            <tr>\n",
       "                        <th id=\"T_0f6d9_level0_row2\" class=\"row_heading level0 row2\" >(142594.0, 195842.0]</th>\n",
       "                        <td id=\"T_0f6d9_row2_col0\" class=\"data row2 col0\" >5216.000</td>\n",
       "                        <td id=\"T_0f6d9_row2_col1\" class=\"data row2 col1\" >444.000</td>\n",
       "                        <td id=\"T_0f6d9_row2_col2\" class=\"data row2 col2\" >0.085</td>\n",
       "            </tr>\n",
       "            <tr>\n",
       "                        <th id=\"T_0f6d9_level0_row3\" class=\"row_heading level0 row3\" >(195842.0, 2265604.0]</th>\n",
       "                        <td id=\"T_0f6d9_row3_col0\" class=\"data row3 col0\" >5332.000</td>\n",
       "                        <td id=\"T_0f6d9_row3_col1\" class=\"data row3 col1\" >381.000</td>\n",
       "                        <td id=\"T_0f6d9_row3_col2\" class=\"data row3 col2\" >0.071</td>\n",
       "            </tr>\n",
       "    </tbody></table>"
      ],
      "text/plain": [
       "<pandas.io.formats.style.Styler at 0x7f4410953a90>"
      ]
     },
     "metadata": {},
     "output_type": "display_data"
    },
    {
     "data": {
      "text/html": [
       "<style  type=\"text/css\" >\n",
       "#T_36082_row0_col0,#T_36082_row2_col1,#T_36082_row2_col2{\n",
       "            background-color:  #08306b;\n",
       "            color:  #f1f1f1;\n",
       "        }#T_36082_row0_col1,#T_36082_row0_col2{\n",
       "            background-color:  #4896c8;\n",
       "            color:  #000000;\n",
       "        }#T_36082_row1_col0,#T_36082_row2_col0,#T_36082_row3_col0,#T_36082_row4_col0,#T_36082_row4_col1,#T_36082_row4_col2{\n",
       "            background-color:  #f7fbff;\n",
       "            color:  #000000;\n",
       "        }#T_36082_row1_col1,#T_36082_row1_col2,#T_36082_row3_col1,#T_36082_row3_col2{\n",
       "            background-color:  #1764ab;\n",
       "            color:  #f1f1f1;\n",
       "        }</style><table id=\"T_36082_\" ><thead>    <tr>        <th class=\"blank level0\" ></th>        <th class=\"col_heading level0 col0\" >Всего кредитополучателей</th>        <th class=\"col_heading level0 col1\" >Всего должников</th>        <th class=\"col_heading level0 col2\" >Доля должников</th>    </tr>    <tr>        <th class=\"index_name level0\" >new_category</th>        <th class=\"blank\" ></th>        <th class=\"blank\" ></th>        <th class=\"blank\" ></th>    </tr></thead><tbody>\n",
       "                <tr>\n",
       "                        <th id=\"T_36082_level0_row0\" class=\"row_heading level0 row0\" >(20666.0, 98514.0]</th>\n",
       "                        <td id=\"T_36082_row0_col0\" class=\"data row0 col0\" >4267.000</td>\n",
       "                        <td id=\"T_36082_row0_col1\" class=\"data row0 col1\" >344.000</td>\n",
       "                        <td id=\"T_36082_row0_col2\" class=\"data row0 col2\" >0.081</td>\n",
       "            </tr>\n",
       "            <tr>\n",
       "                        <th id=\"T_36082_level0_row1\" class=\"row_heading level0 row1\" >(98514.0, 132113.0]</th>\n",
       "                        <td id=\"T_36082_row1_col0\" class=\"data row1 col0\" >4266.000</td>\n",
       "                        <td id=\"T_36082_row1_col1\" class=\"data row1 col1\" >358.000</td>\n",
       "                        <td id=\"T_36082_row1_col2\" class=\"data row1 col2\" >0.084</td>\n",
       "            </tr>\n",
       "            <tr>\n",
       "                        <th id=\"T_36082_level0_row2\" class=\"row_heading level0 row2\" >(132113.0, 161380.0]</th>\n",
       "                        <td id=\"T_36082_row2_col0\" class=\"data row2 col0\" >4266.000</td>\n",
       "                        <td id=\"T_36082_row2_col1\" class=\"data row2 col1\" >373.000</td>\n",
       "                        <td id=\"T_36082_row2_col2\" class=\"data row2 col2\" >0.087</td>\n",
       "            </tr>\n",
       "            <tr>\n",
       "                        <th id=\"T_36082_level0_row3\" class=\"row_heading level0 row3\" >(161380.0, 214604.0]</th>\n",
       "                        <td id=\"T_36082_row3_col0\" class=\"data row3 col0\" >4266.000</td>\n",
       "                        <td id=\"T_36082_row3_col1\" class=\"data row3 col1\" >358.000</td>\n",
       "                        <td id=\"T_36082_row3_col2\" class=\"data row3 col2\" >0.084</td>\n",
       "            </tr>\n",
       "            <tr>\n",
       "                        <th id=\"T_36082_level0_row4\" class=\"row_heading level0 row4\" >(214604.0, 2265604.0]</th>\n",
       "                        <td id=\"T_36082_row4_col0\" class=\"data row4 col0\" >4266.000</td>\n",
       "                        <td id=\"T_36082_row4_col1\" class=\"data row4 col1\" >299.000</td>\n",
       "                        <td id=\"T_36082_row4_col2\" class=\"data row4 col2\" >0.070</td>\n",
       "            </tr>\n",
       "    </tbody></table>"
      ],
      "text/plain": [
       "<pandas.io.formats.style.Styler at 0x7f43a8e89cd0>"
      ]
     },
     "metadata": {},
     "output_type": "display_data"
    },
    {
     "data": {
      "text/html": [
       "<style  type=\"text/css\" >\n",
       "#T_5b092_row0_col0{\n",
       "            background-color:  #63a8d3;\n",
       "            color:  #000000;\n",
       "        }#T_5b092_row0_col1{\n",
       "            background-color:  #7ab6d9;\n",
       "            color:  #000000;\n",
       "        }#T_5b092_row0_col2{\n",
       "            background-color:  #60a7d2;\n",
       "            color:  #000000;\n",
       "        }#T_5b092_row1_col0,#T_5b092_row5_col0{\n",
       "            background-color:  #64a9d3;\n",
       "            color:  #000000;\n",
       "        }#T_5b092_row1_col1{\n",
       "            background-color:  #4e9acb;\n",
       "            color:  #000000;\n",
       "        }#T_5b092_row1_col2{\n",
       "            background-color:  #3383be;\n",
       "            color:  #000000;\n",
       "        }#T_5b092_row2_col0,#T_5b092_row2_col1,#T_5b092_row2_col2{\n",
       "            background-color:  #08306b;\n",
       "            color:  #f1f1f1;\n",
       "        }#T_5b092_row3_col0{\n",
       "            background-color:  #549fcd;\n",
       "            color:  #000000;\n",
       "        }#T_5b092_row3_col1{\n",
       "            background-color:  #3a8ac2;\n",
       "            color:  #000000;\n",
       "        }#T_5b092_row3_col2{\n",
       "            background-color:  #2373b6;\n",
       "            color:  #f1f1f1;\n",
       "        }#T_5b092_row4_col0,#T_5b092_row5_col1,#T_5b092_row5_col2{\n",
       "            background-color:  #f7fbff;\n",
       "            color:  #000000;\n",
       "        }#T_5b092_row4_col1{\n",
       "            background-color:  #a8cee4;\n",
       "            color:  #000000;\n",
       "        }#T_5b092_row4_col2{\n",
       "            background-color:  #5aa2cf;\n",
       "            color:  #000000;\n",
       "        }</style><table id=\"T_5b092_\" ><thead>    <tr>        <th class=\"blank level0\" ></th>        <th class=\"col_heading level0 col0\" >Всего кредитополучателей</th>        <th class=\"col_heading level0 col1\" >Всего должников</th>        <th class=\"col_heading level0 col2\" >Доля должников</th>    </tr>    <tr>        <th class=\"index_name level0\" >new_category</th>        <th class=\"blank\" ></th>        <th class=\"blank\" ></th>        <th class=\"blank\" ></th>    </tr></thead><tbody>\n",
       "                <tr>\n",
       "                        <th id=\"T_5b092_level0_row0\" class=\"row_heading level0 row0\" >(20666.0, 92092.0]</th>\n",
       "                        <td id=\"T_5b092_row0_col0\" class=\"data row0 col0\" >3556.000</td>\n",
       "                        <td id=\"T_5b092_row0_col1\" class=\"data row0 col1\" >285.000</td>\n",
       "                        <td id=\"T_5b092_row0_col2\" class=\"data row0 col2\" >0.080</td>\n",
       "            </tr>\n",
       "            <tr>\n",
       "                        <th id=\"T_5b092_level0_row1\" class=\"row_heading level0 row1\" >(92092.0, 119218.0]</th>\n",
       "                        <td id=\"T_5b092_row1_col0\" class=\"data row1 col0\" >3555.000</td>\n",
       "                        <td id=\"T_5b092_row1_col1\" class=\"data row1 col1\" >295.000</td>\n",
       "                        <td id=\"T_5b092_row1_col2\" class=\"data row1 col2\" >0.083</td>\n",
       "            </tr>\n",
       "            <tr>\n",
       "                        <th id=\"T_5b092_level0_row2\" class=\"row_heading level0 row2\" >(119218.0, 142594.0]</th>\n",
       "                        <td id=\"T_5b092_row2_col0\" class=\"data row2 col0\" >3672.000</td>\n",
       "                        <td id=\"T_5b092_row2_col1\" class=\"data row2 col1\" >327.000</td>\n",
       "                        <td id=\"T_5b092_row2_col2\" class=\"data row2 col2\" >0.089</td>\n",
       "            </tr>\n",
       "            <tr>\n",
       "                        <th id=\"T_5b092_level0_row3\" class=\"row_heading level0 row3\" >(142594.0, 172357.0]</th>\n",
       "                        <td id=\"T_5b092_row3_col0\" class=\"data row3 col0\" >3566.000</td>\n",
       "                        <td id=\"T_5b092_row3_col1\" class=\"data row3 col1\" >300.000</td>\n",
       "                        <td id=\"T_5b092_row3_col2\" class=\"data row3 col2\" >0.084</td>\n",
       "            </tr>\n",
       "            <tr>\n",
       "                        <th id=\"T_5b092_level0_row4\" class=\"row_heading level0 row4\" >(172357.0, 228893.0]</th>\n",
       "                        <td id=\"T_5b092_row4_col0\" class=\"data row4 col0\" >3427.000</td>\n",
       "                        <td id=\"T_5b092_row4_col1\" class=\"data row4 col1\" >276.000</td>\n",
       "                        <td id=\"T_5b092_row4_col2\" class=\"data row4 col2\" >0.081</td>\n",
       "            </tr>\n",
       "            <tr>\n",
       "                        <th id=\"T_5b092_level0_row5\" class=\"row_heading level0 row5\" >(228893.0, 2265604.0]</th>\n",
       "                        <td id=\"T_5b092_row5_col0\" class=\"data row5 col0\" >3555.000</td>\n",
       "                        <td id=\"T_5b092_row5_col1\" class=\"data row5 col1\" >249.000</td>\n",
       "                        <td id=\"T_5b092_row5_col2\" class=\"data row5 col2\" >0.070</td>\n",
       "            </tr>\n",
       "    </tbody></table>"
      ],
      "text/plain": [
       "<pandas.io.formats.style.Styler at 0x7f43a8e4a790>"
      ]
     },
     "metadata": {},
     "output_type": "display_data"
    },
    {
     "data": {
      "text/html": [
       "<style  type=\"text/css\" >\n",
       "#T_4364b_row0_col0,#T_4364b_row3_col1,#T_4364b_row3_col2,#T_4364b_row6_col0{\n",
       "            background-color:  #08306b;\n",
       "            color:  #f1f1f1;\n",
       "        }#T_4364b_row0_col1,#T_4364b_row0_col2{\n",
       "            background-color:  #8dc1dd;\n",
       "            color:  #000000;\n",
       "        }#T_4364b_row1_col0,#T_4364b_row2_col0,#T_4364b_row3_col0,#T_4364b_row4_col0,#T_4364b_row5_col0,#T_4364b_row6_col1,#T_4364b_row6_col2{\n",
       "            background-color:  #f7fbff;\n",
       "            color:  #000000;\n",
       "        }#T_4364b_row1_col1,#T_4364b_row1_col2{\n",
       "            background-color:  #083979;\n",
       "            color:  #f1f1f1;\n",
       "        }#T_4364b_row2_col1,#T_4364b_row2_col2{\n",
       "            background-color:  #083471;\n",
       "            color:  #f1f1f1;\n",
       "        }#T_4364b_row4_col1,#T_4364b_row4_col2{\n",
       "            background-color:  #09529d;\n",
       "            color:  #f1f1f1;\n",
       "        }#T_4364b_row5_col1,#T_4364b_row5_col2{\n",
       "            background-color:  #4f9bcb;\n",
       "            color:  #000000;\n",
       "        }</style><table id=\"T_4364b_\" ><thead>    <tr>        <th class=\"blank level0\" ></th>        <th class=\"col_heading level0 col0\" >Всего кредитополучателей</th>        <th class=\"col_heading level0 col1\" >Всего должников</th>        <th class=\"col_heading level0 col2\" >Доля должников</th>    </tr>    <tr>        <th class=\"index_name level0\" >new_category</th>        <th class=\"blank\" ></th>        <th class=\"blank\" ></th>        <th class=\"blank\" ></th>    </tr></thead><tbody>\n",
       "                <tr>\n",
       "                        <th id=\"T_4364b_level0_row0\" class=\"row_heading level0 row0\" >(20666.0, 87287.0]</th>\n",
       "                        <td id=\"T_4364b_row0_col0\" class=\"data row0 col0\" >3048.000</td>\n",
       "                        <td id=\"T_4364b_row0_col1\" class=\"data row0 col1\" >233.000</td>\n",
       "                        <td id=\"T_4364b_row0_col2\" class=\"data row0 col2\" >0.076</td>\n",
       "            </tr>\n",
       "            <tr>\n",
       "                        <th id=\"T_4364b_level0_row1\" class=\"row_heading level0 row1\" >(87287.0, 113563.0]</th>\n",
       "                        <td id=\"T_4364b_row1_col0\" class=\"data row1 col0\" >3047.000</td>\n",
       "                        <td id=\"T_4364b_row1_col1\" class=\"data row1 col1\" >262.000</td>\n",
       "                        <td id=\"T_4364b_row1_col2\" class=\"data row1 col2\" >0.086</td>\n",
       "            </tr>\n",
       "            <tr>\n",
       "                        <th id=\"T_4364b_level0_row2\" class=\"row_heading level0 row2\" >(113563.0, 137465.0]</th>\n",
       "                        <td id=\"T_4364b_row2_col0\" class=\"data row2 col0\" >3047.000</td>\n",
       "                        <td id=\"T_4364b_row2_col1\" class=\"data row2 col1\" >263.000</td>\n",
       "                        <td id=\"T_4364b_row2_col2\" class=\"data row2 col2\" >0.086</td>\n",
       "            </tr>\n",
       "            <tr>\n",
       "                        <th id=\"T_4364b_level0_row3\" class=\"row_heading level0 row3\" >(137465.0, 155314.0]</th>\n",
       "                        <td id=\"T_4364b_row3_col0\" class=\"data row3 col0\" >3047.000</td>\n",
       "                        <td id=\"T_4364b_row3_col1\" class=\"data row3 col1\" >264.000</td>\n",
       "                        <td id=\"T_4364b_row3_col2\" class=\"data row3 col2\" >0.087</td>\n",
       "            </tr>\n",
       "            <tr>\n",
       "                        <th id=\"T_4364b_level0_row4\" class=\"row_heading level0 row4\" >(155314.0, 184554.0]</th>\n",
       "                        <td id=\"T_4364b_row4_col0\" class=\"data row4 col0\" >3047.000</td>\n",
       "                        <td id=\"T_4364b_row4_col1\" class=\"data row4 col1\" >257.000</td>\n",
       "                        <td id=\"T_4364b_row4_col2\" class=\"data row4 col2\" >0.084</td>\n",
       "            </tr>\n",
       "            <tr>\n",
       "                        <th id=\"T_4364b_level0_row5\" class=\"row_heading level0 row5\" >(184554.0, 242009.0]</th>\n",
       "                        <td id=\"T_4364b_row5_col0\" class=\"data row5 col0\" >3047.000</td>\n",
       "                        <td id=\"T_4364b_row5_col1\" class=\"data row5 col1\" >242.000</td>\n",
       "                        <td id=\"T_4364b_row5_col2\" class=\"data row5 col2\" >0.079</td>\n",
       "            </tr>\n",
       "            <tr>\n",
       "                        <th id=\"T_4364b_level0_row6\" class=\"row_heading level0 row6\" >(242009.0, 2265604.0]</th>\n",
       "                        <td id=\"T_4364b_row6_col0\" class=\"data row6 col0\" >3048.000</td>\n",
       "                        <td id=\"T_4364b_row6_col1\" class=\"data row6 col1\" >211.000</td>\n",
       "                        <td id=\"T_4364b_row6_col2\" class=\"data row6 col2\" >0.069</td>\n",
       "            </tr>\n",
       "    </tbody></table>"
      ],
      "text/plain": [
       "<pandas.io.formats.style.Styler at 0x7f441010deb0>"
      ]
     },
     "metadata": {},
     "output_type": "display_data"
    },
    {
     "data": {
      "text/html": [
       "<style  type=\"text/css\" >\n",
       "#T_39254_row0_col0,#T_39254_row5_col0,#T_39254_row7_col0{\n",
       "            background-color:  #6aaed6;\n",
       "            color:  #000000;\n",
       "        }#T_39254_row0_col1{\n",
       "            background-color:  #aacfe5;\n",
       "            color:  #000000;\n",
       "        }#T_39254_row0_col2{\n",
       "            background-color:  #91c3de;\n",
       "            color:  #000000;\n",
       "        }#T_39254_row1_col0,#T_39254_row2_col0{\n",
       "            background-color:  #6caed6;\n",
       "            color:  #000000;\n",
       "        }#T_39254_row1_col1,#T_39254_row5_col1{\n",
       "            background-color:  #519ccc;\n",
       "            color:  #000000;\n",
       "        }#T_39254_row1_col2,#T_39254_row5_col2{\n",
       "            background-color:  #2f7fbc;\n",
       "            color:  #000000;\n",
       "        }#T_39254_row2_col1{\n",
       "            background-color:  #1c6ab0;\n",
       "            color:  #f1f1f1;\n",
       "        }#T_39254_row2_col2{\n",
       "            background-color:  #084285;\n",
       "            color:  #f1f1f1;\n",
       "        }#T_39254_row3_col0,#T_39254_row3_col1,#T_39254_row3_col2{\n",
       "            background-color:  #08306b;\n",
       "            color:  #f1f1f1;\n",
       "        }#T_39254_row4_col0,#T_39254_row7_col1,#T_39254_row7_col2{\n",
       "            background-color:  #f7fbff;\n",
       "            color:  #000000;\n",
       "        }#T_39254_row4_col1{\n",
       "            background-color:  #4695c8;\n",
       "            color:  #000000;\n",
       "        }#T_39254_row4_col2{\n",
       "            background-color:  #084184;\n",
       "            color:  #f1f1f1;\n",
       "        }#T_39254_row6_col0{\n",
       "            background-color:  #6dafd7;\n",
       "            color:  #000000;\n",
       "        }#T_39254_row6_col1{\n",
       "            background-color:  #d4e4f4;\n",
       "            color:  #000000;\n",
       "        }#T_39254_row6_col2{\n",
       "            background-color:  #cddff1;\n",
       "            color:  #000000;\n",
       "        }</style><table id=\"T_39254_\" ><thead>    <tr>        <th class=\"blank level0\" ></th>        <th class=\"col_heading level0 col0\" >Всего кредитополучателей</th>        <th class=\"col_heading level0 col1\" >Всего должников</th>        <th class=\"col_heading level0 col2\" >Доля должников</th>    </tr>    <tr>        <th class=\"index_name level0\" >new_category</th>        <th class=\"blank\" ></th>        <th class=\"blank\" ></th>        <th class=\"blank\" ></th>    </tr></thead><tbody>\n",
       "                <tr>\n",
       "                        <th id=\"T_39254_level0_row0\" class=\"row_heading level0 row0\" >(20666.0, 83837.0]</th>\n",
       "                        <td id=\"T_39254_row0_col0\" class=\"data row0 col0\" >2667.000</td>\n",
       "                        <td id=\"T_39254_row0_col1\" class=\"data row0 col1\" >206.000</td>\n",
       "                        <td id=\"T_39254_row0_col2\" class=\"data row0 col2\" >0.077</td>\n",
       "            </tr>\n",
       "            <tr>\n",
       "                        <th id=\"T_39254_level0_row1\" class=\"row_heading level0 row1\" >(83837.0, 107507.0]</th>\n",
       "                        <td id=\"T_39254_row1_col0\" class=\"data row1 col0\" >2666.000</td>\n",
       "                        <td id=\"T_39254_row1_col1\" class=\"data row1 col1\" >221.000</td>\n",
       "                        <td id=\"T_39254_row1_col2\" class=\"data row1 col2\" >0.083</td>\n",
       "            </tr>\n",
       "            <tr>\n",
       "                        <th id=\"T_39254_level0_row2\" class=\"row_heading level0 row2\" >(107507.0, 127546.0]</th>\n",
       "                        <td id=\"T_39254_row2_col0\" class=\"data row2 col0\" >2666.000</td>\n",
       "                        <td id=\"T_39254_row2_col1\" class=\"data row2 col1\" >233.000</td>\n",
       "                        <td id=\"T_39254_row2_col2\" class=\"data row2 col2\" >0.087</td>\n",
       "            </tr>\n",
       "            <tr>\n",
       "                        <th id=\"T_39254_level0_row3\" class=\"row_heading level0 row3\" >(127546.0, 142594.0]</th>\n",
       "                        <td id=\"T_39254_row3_col0\" class=\"data row3 col0\" >2784.000</td>\n",
       "                        <td id=\"T_39254_row3_col1\" class=\"data row3 col1\" >247.000</td>\n",
       "                        <td id=\"T_39254_row3_col2\" class=\"data row3 col2\" >0.089</td>\n",
       "            </tr>\n",
       "            <tr>\n",
       "                        <th id=\"T_39254_level0_row4\" class=\"row_heading level0 row4\" >(142594.0, 166525.0]</th>\n",
       "                        <td id=\"T_39254_row4_col0\" class=\"data row4 col0\" >2549.000</td>\n",
       "                        <td id=\"T_39254_row4_col1\" class=\"data row4 col1\" >223.000</td>\n",
       "                        <td id=\"T_39254_row4_col2\" class=\"data row4 col2\" >0.087</td>\n",
       "            </tr>\n",
       "            <tr>\n",
       "                        <th id=\"T_39254_level0_row5\" class=\"row_heading level0 row5\" >(166525.0, 195842.0]</th>\n",
       "                        <td id=\"T_39254_row5_col0\" class=\"data row5 col0\" >2667.000</td>\n",
       "                        <td id=\"T_39254_row5_col1\" class=\"data row5 col1\" >221.000</td>\n",
       "                        <td id=\"T_39254_row5_col2\" class=\"data row5 col2\" >0.083</td>\n",
       "            </tr>\n",
       "            <tr>\n",
       "                        <th id=\"T_39254_level0_row6\" class=\"row_heading level0 row6\" >(195842.0, 254250.0]</th>\n",
       "                        <td id=\"T_39254_row6_col0\" class=\"data row6 col0\" >2665.000</td>\n",
       "                        <td id=\"T_39254_row6_col1\" class=\"data row6 col1\" >196.000</td>\n",
       "                        <td id=\"T_39254_row6_col2\" class=\"data row6 col2\" >0.074</td>\n",
       "            </tr>\n",
       "            <tr>\n",
       "                        <th id=\"T_39254_level0_row7\" class=\"row_heading level0 row7\" >(254250.0, 2265604.0]</th>\n",
       "                        <td id=\"T_39254_row7_col0\" class=\"data row7 col0\" >2667.000</td>\n",
       "                        <td id=\"T_39254_row7_col1\" class=\"data row7 col1\" >185.000</td>\n",
       "                        <td id=\"T_39254_row7_col2\" class=\"data row7 col2\" >0.069</td>\n",
       "            </tr>\n",
       "    </tbody></table>"
      ],
      "text/plain": [
       "<pandas.io.formats.style.Styler at 0x7f43e8c6fcd0>"
      ]
     },
     "metadata": {},
     "output_type": "display_data"
    }
   ],
   "source": [
    "# Комментарий ревьюера 2\n",
    "temp = data.copy()\n",
    "start , stop = 3, 8 # начальное и конечное количество категорий\n",
    "while start <= stop:\n",
    "    temp['new_category'] = pd.qcut(temp['total_income'], q=start, precision=0)\n",
    "    que('new_category')\n",
    "    start += 1"
   ]
  },
  {
   "cell_type": "markdown",
   "id": "d27c3493",
   "metadata": {},
   "source": [
    "<font color='DarkBlue'><b>Комментарий ревьюера 2</b></font><br>\n",
    "<font color='DarkMagenta'>👉 Вот, нашлась самая кредито-опасная категория дохода заемщиков, повод для более глубокого анализа.</font>"
   ]
  },
  {
   "cell_type": "markdown",
   "id": "def93bbb",
   "metadata": {
    "deletable": false,
    "editable": false,
    "id": "99ecbd1f"
   },
   "source": [
    "#### 3.4 Как разные цели кредита влияют на его возврат в срок?"
   ]
  },
  {
   "cell_type": "code",
   "execution_count": 26,
   "id": "0f293d68",
   "metadata": {
    "deletable": false,
    "id": "2b687290"
   },
   "outputs": [
    {
     "data": {
      "text/html": [
       "<div>\n",
       "<style scoped>\n",
       "    .dataframe tbody tr th:only-of-type {\n",
       "        vertical-align: middle;\n",
       "    }\n",
       "\n",
       "    .dataframe tbody tr th {\n",
       "        vertical-align: top;\n",
       "    }\n",
       "\n",
       "    .dataframe thead th {\n",
       "        text-align: right;\n",
       "    }\n",
       "</style>\n",
       "<table border=\"1\" class=\"dataframe\">\n",
       "  <thead>\n",
       "    <tr style=\"text-align: right;\">\n",
       "      <th></th>\n",
       "      <th>Всего кредитополучателей</th>\n",
       "      <th>Всего должников</th>\n",
       "      <th>Доля должников</th>\n",
       "    </tr>\n",
       "    <tr>\n",
       "      <th>purpose_category</th>\n",
       "      <th></th>\n",
       "      <th></th>\n",
       "      <th></th>\n",
       "    </tr>\n",
       "  </thead>\n",
       "  <tbody>\n",
       "    <tr>\n",
       "      <th>операции с автомобилем</th>\n",
       "      <td>4279</td>\n",
       "      <td>400</td>\n",
       "      <td>0.093480</td>\n",
       "    </tr>\n",
       "    <tr>\n",
       "      <th>операции с недвижимостью</th>\n",
       "      <td>10751</td>\n",
       "      <td>780</td>\n",
       "      <td>0.072551</td>\n",
       "    </tr>\n",
       "    <tr>\n",
       "      <th>получение образования</th>\n",
       "      <td>3988</td>\n",
       "      <td>369</td>\n",
       "      <td>0.092528</td>\n",
       "    </tr>\n",
       "    <tr>\n",
       "      <th>проведение свадьбы</th>\n",
       "      <td>2313</td>\n",
       "      <td>183</td>\n",
       "      <td>0.079118</td>\n",
       "    </tr>\n",
       "  </tbody>\n",
       "</table>\n",
       "</div>"
      ],
      "text/plain": [
       "                          Всего кредитополучателей  Всего должников  \\\n",
       "purpose_category                                                      \n",
       "операции с автомобилем                        4279              400   \n",
       "операции с недвижимостью                     10751              780   \n",
       "получение образования                         3988              369   \n",
       "проведение свадьбы                            2313              183   \n",
       "\n",
       "                          Доля должников  \n",
       "purpose_category                          \n",
       "операции с автомобилем          0.093480  \n",
       "операции с недвижимостью        0.072551  \n",
       "получение образования           0.092528  \n",
       "проведение свадьбы              0.079118  "
      ]
     },
     "execution_count": 26,
     "metadata": {},
     "output_type": "execute_result"
    }
   ],
   "source": [
    "# сводная таблица: количество людей по целям кредита и долгам за кредит\n",
    "#df_purpose_cat = pd.pivot_table(data=data, index='purpose_category', columns='debt', values='gender', aggfunc='count')\n",
    "\n",
    "# вычисление долей людей,не вернувших в срок кредит в процентах целям кредита\n",
    "#df_purpose_cat['ratio'] = round((df_purpose_cat[1] / (df_purpose_cat[0] + df_purpose_cat[1])) * 100, 2)\n",
    "#df_purpose_cat\n",
    "\n",
    "# сводная таблица: подсчёт кредитополучателей по целям кредита и долгам за кредит\n",
    "df_by_purpose = data.groupby('purpose_category')['debt'].agg(['count', 'sum', 'mean'])\n",
    "# переименование колонок\n",
    "df_by_purpose.columns = ['Всего кредитополучателей', 'Всего должников', 'Доля должников']\n",
    "df_by_purpose"
   ]
  },
  {
   "cell_type": "markdown",
   "id": "bc97904a",
   "metadata": {
    "deletable": false,
    "id": "b4bb2ce6"
   },
   "source": [
    "<s>**Вывод:** на основании доли людей, не вернувших кредит в срок, можно заключить, что сильно выраженной зависимости невозврата кредита в срок от целей кредита **не наблюдается**: доля колеблется в районе от 7 до 10 % для всех групп людей; из расчёта видно, что люди, берущие кредит на операции с недвижимостью, составляют половину всех случаев кредитования, и при этом они чаще остальных возвращают кредиты в срок;"
   ]
  },
  {
   "cell_type": "markdown",
   "id": "f23343e5",
   "metadata": {},
   "source": [
    "**Вывод:**\n",
    "- на основании доли людей, не вернувших кредит в срок, можно заключить, что чаще возвращают кредит в срок кредитополучатели, берущие кредит на операции с недвижимостью; это связано прежде всего с тем, что это долговременное вложение, связанное с жильём, бизнесом, и люди более мотивированы возвращать кредит в срок; так же чаще возвращают в срок кредиты на проведение свадьбы, что, возможно, связано с меньшими суммами;\n",
    "- оплату по кредитам на операции с автомобилем и получение образования чаще задерживают; вероятно, это связано с низкой платёжеспособностью заёмщиков, меньшей мотивированностью отдавать кредит;"
   ]
  },
  {
   "cell_type": "markdown",
   "id": "f8add09f",
   "metadata": {},
   "source": [
    "<font color='DarkBlue'><b>Комментарий ревьюера 2</b></font><br>\n",
    "<font color='DarkGreen'>👌 Правильно, видимо, кредиты на автомобиль и обучение несут дополнительные риски связанные или с возможной аварией, или с проблемами трудоустройства после обучения.</font>"
   ]
  },
  {
   "cell_type": "markdown",
   "id": "9fb8d465",
   "metadata": {},
   "source": [
    "<font color='DarkBlue'><b>Комментарий ревьюера</b></font><br>\n",
    "<font color='Red'>🛠 Не совсем корректный вывод, какие категории кредитополучателей задерживают погашение кредита?</font>"
   ]
  },
  {
   "cell_type": "markdown",
   "id": "176553bf",
   "metadata": {
    "deletable": false,
    "editable": false,
    "id": "09c3ac4c"
   },
   "source": [
    "#### 3.5 Приведите возможные причины появления пропусков в исходных данных."
   ]
  },
  {
   "cell_type": "code",
   "execution_count": 27,
   "id": "f51fbabe",
   "metadata": {},
   "outputs": [
    {
     "data": {
      "text/plain": [
       "0"
      ]
     },
     "execution_count": 27,
     "metadata": {},
     "output_type": "execute_result"
    }
   ],
   "source": [
    "# количество не совпадающих индексов строк с пропусками в двух столбцах\n",
    "(data[data['days_employed'].isna()].index != data[data['total_income'].isna()].index).sum()"
   ]
  },
  {
   "cell_type": "markdown",
   "id": "73b5435b",
   "metadata": {
    "deletable": false,
    "id": "9da2ceda"
   },
   "source": [
    "*Ответ:* пропуски в данных обнаружены в столбцах `days_employed` и `total_income`, причём их количество одинаково и относятся они к одним и тем же строкам; то есть, для человека с неуказанным полным доходом не указан и рабочий стаж; была не указана соответствующая информация и при сборе данных произошла ошибка"
   ]
  },
  {
   "cell_type": "markdown",
   "id": "d2413024",
   "metadata": {},
   "source": [
    "<font color='DarkBlue'><b>Комментарий ревьюера</b></font><br>\n",
    "<font color='DarkMagenta'>👉 Существует несколько причин отсутствия данных в датасетах, в том числе:<br>\n",
    "- Человеческий фактор: Ошибки ввода данных, не желание отвечать на определенные вопросы.\n",
    "- Технические проблемы: Возможны сбои с оборудованием или программным обеспечением для сбора данных. Отсутствующие данные могут быть удалены в процессе обработки или очистки данных.\n",
    "- Организационные: Конфиденциальность, могут отсутствовать данные, идентифицирующие отдельных лиц или компании.</font>"
   ]
  },
  {
   "cell_type": "markdown",
   "id": "72d6522f",
   "metadata": {},
   "source": [
    "<font color='Blue'><b>Комментарий студента</b></font><br>\n",
    "Спасибо за информацию."
   ]
  },
  {
   "cell_type": "markdown",
   "id": "b8b11186",
   "metadata": {
    "deletable": false,
    "editable": false,
    "id": "7b0487d6"
   },
   "source": [
    "#### 3.6 Объясните, почему заполнить пропуски медианным значением — лучшее решение для количественных переменных."
   ]
  },
  {
   "cell_type": "markdown",
   "id": "5666edb1",
   "metadata": {
    "deletable": false,
    "id": "7ecf2b8e"
   },
   "source": [
    "<s>*Ответ:* если заполнять пропуски нулями или удалять записи, то можно серьёзно изменить результаты последующего анализа данных, особенно в случае небольших датасетов; заполнение пропусков средними значениями также может исказить репрезентативность выборки в случае неравномерного несимметричного распределения анализируемого параметра; медианное значение в этих случаях наиболее щадаще к выборке заполняет пропуски, так как отражает некое центральное значение, связанное с размером датасета."
   ]
  },
  {
   "cell_type": "code",
   "execution_count": 28,
   "id": "6eb7fcc9",
   "metadata": {},
   "outputs": [
    {
     "data": {
      "text/plain": [
       "count    2.133100e+04\n",
       "mean     1.653427e+05\n",
       "std      9.831399e+04\n",
       "min      2.066700e+04\n",
       "25%      1.075070e+05\n",
       "50%      1.425940e+05\n",
       "75%      1.958420e+05\n",
       "max      2.265604e+06\n",
       "Name: total_income, dtype: float64"
      ]
     },
     "execution_count": 28,
     "metadata": {},
     "output_type": "execute_result"
    }
   ],
   "source": [
    "data['total_income'].describe()"
   ]
  },
  {
   "cell_type": "code",
   "execution_count": 29,
   "id": "03a47936",
   "metadata": {},
   "outputs": [
    {
     "data": {
      "text/plain": [
       "count     21331.000000\n",
       "mean      67148.972133\n",
       "std      139281.142318\n",
       "min          24.141633\n",
       "25%        1024.525170\n",
       "50%        1996.732855\n",
       "75%        5337.759969\n",
       "max      401755.400475\n",
       "Name: days_employed, dtype: float64"
      ]
     },
     "execution_count": 29,
     "metadata": {},
     "output_type": "execute_result"
    }
   ],
   "source": [
    "data['days_employed'].describe()"
   ]
  },
  {
   "cell_type": "markdown",
   "id": "28c84cd5",
   "metadata": {},
   "source": [
    "*Ответ:* в представленном датасете в столбцах `total_income` и `days_employed` большой разброс значений, различающихся на порядки; в таком наборе данных среднее значение не будет корректно описывать выборку - слишком большие или слишком маленькие величины будут смещать среднее; медианное значение более устойчиво к подобным выбросам(аномальным значениям); поэтому заполнение пропусков медианой меньше исказит итоговый результат, так как внесёт неначительное смещение."
   ]
  },
  {
   "cell_type": "markdown",
   "id": "f33b04aa",
   "metadata": {},
   "source": [
    "<font color='DarkBlue'><b>Комментарий ревьюера 2</b></font><br>\n",
    "<font color='DarkGreen'>👌 Правильно, у средних более высокая чувствительность к выбросам, чем у медиан.<br>Можно попробовать посчитать и сравнить среднюю и медиану для колонки с выбросами, например `days_employed`.</font>"
   ]
  },
  {
   "cell_type": "markdown",
   "id": "7f07801d",
   "metadata": {},
   "source": [
    "<font color='DarkBlue'><b>Комментарий ревьюера</b></font><br>\n",
    "<font color='Red'>🛠 Не понятный ответ. Переформулирую вопрос: какие особенности данных в датасете влияют или не влияют на расчет средних и медиан. Если есть трудности, то следует обратиться за помощью к преподавателю.</font>"
   ]
  },
  {
   "cell_type": "markdown",
   "id": "5a05b83d",
   "metadata": {
    "deletable": false,
    "editable": false,
    "id": "6db5255a"
   },
   "source": [
    "### Шаг 4: общий вывод."
   ]
  },
  {
   "cell_type": "markdown",
   "id": "b1228f25",
   "metadata": {
    "deletable": false,
    "id": "bad65432"
   },
   "source": [
    "<s>**Анализ:**\n",
    "- в результате поиска зависимости вероятности возврата кредита в срок от количества детей человека, его семейного положения, уровня дохода и цели кредита **не было выявлено** сильной зависимости - доля людей, не возвращающих кредит в срок, колеблется в районе 6-10% для разных комбинаций параметров;\n",
    "- чаще берут кредиты люди с доходом от 500001 до 200000;\n",
    "- чаще берут кредиты на сделки с недвижимостью;\n",
    "\n",
    "**Совет:** стоит увеличить выборку или рассмотреть больше параметров (пр. сумма кредита), могущих повлиять на результат;\n",
    "\n",
    "**Качество данных:**\n",
    "- полученные данные оказались с пропусками в количественных переменных (`total_income` и `days_employed`), которые были заменены медианными значениями по каждому типу заработка;\n",
    "- аномалии (`children` и `days_employed`)в данных были скоррректированы исходя из общих соображений;\n",
    "- найденные неявные дубликаты (`education`) были удалены;\n",
    "\n",
    "**Совет:** стоит проверить процесс сбора данных"
   ]
  },
  {
   "cell_type": "markdown",
   "id": "c466564f",
   "metadata": {},
   "source": [
    "1. Датасет содержит следующую информацию о заёмщиках: количество детей, трудовой стаж, возраст, уровень образования, семейный статус, пол, тип и уровень дохода, были ли случаи непогашенных в срок кредитов, цель кредита; при этом некоторые количественные значения имеют большой разброс;<br><br>\n",
    "2. Данные содержат ряд неточностей и ошибок:<br>\n",
    " 2.1. Данные с аномальными значениями в колонке `children` (-1, 20) были удалены; записи с аномальными значениями в колонке `days_employed` (отрицательные значения) были скорректированы (взяты по модулю);<br>\n",
    " 2.2. Пропуски в колонках (`days_employed` и `total_income`) были заполнены соответствующими медианными значениями, чтобы не исказить всю выборку и последующий анализ;<br>\n",
    " 2.3. Все данные в колонке `education` были приведены к единому регистру;<br>\n",
    " 2.4. Дубликаты удалены;<br>\n",
    " 2.5. Данные о доходах и целях кредита были категоризированы;<br>\n",
    " 2.6. В связи с вышеперечисленными ошибками рекомендуем проверить процесс сбора, ввода, хранения и обработки входных данных (особенно связанных с данными о трудовом стаже, количестве детей, образовании); вероятно, часть данных вводилась вручную, что могло вызвать пропуски и скрытые дубликаты, поэтому рекомендуем в случае образования и целей кредита давать выбор из ограниченного списка вариантов;<br><br>\n",
    " \n",
    "3. В результате анализа данных на предмет зависимости возврата кредита в срок от сведений о потенциальном заёмщике было выявлено:<br>\n",
    " 3.1. Кредитополучатели без детей чаще возвращают кредит в срок, чем остальные; при этом несбалансированность выборки (семей с меньшим количеством детей гораздо больше) не позволяет сделать однозначный вывод об остальных случаях; <br>\n",
    " 3.2. Кредитополучатели с семейными статусами \"женат / замужем\", \"вдовец / вдова\" и \"в разводе\" чаще возвращают кредит вовремя;<br>\n",
    " 3.3. Кредитополучатели с самым высоким уровнем дохода (более `214 604`) чаще других категорий возвращают кредит в срок; имеет место несбалансированность выборки по доходам (присутствуют редкие, но очень высокие доходы); при доходах менее `214 604` явной зависимости не обнаружено;<br>\n",
    " 3.4. Кредитополучатели реже возвращают кредит в срок на операции с недвижимостью и проведение свадьбы;<br><br>\n",
    "\n",
    "4. На основании анализа рекомендуем: повысить кредитный рейтинг заёмщикам без детей, тем, кто официально оформил (или когда-либо оформлял) своё семейное положение, заёмщикам с высоким уровнем доходов и тем, кто берёт кредит на операции с недвижимостью.\n"
   ]
  },
  {
   "cell_type": "markdown",
   "id": "01dd09bc",
   "metadata": {},
   "source": [
    "<font color='DarkBlue'><b>Комментарий ревьюера 2</b></font><br>\n",
    "<font color='DarkGreen'>👌 Хорошо, теперь правильно. 👍</font>"
   ]
  },
  {
   "cell_type": "markdown",
   "id": "55dcf8a8",
   "metadata": {},
   "source": [
    "<font color='DarkBlue'><b>Комментарий ревьюера</b></font><br><font color='Red'>🛠 В заданиях не требовалось определить какие категории клиентов чаще берут кредиты.</font><br>\n",
    "<font color='Red'>🛠 Общий вывод относится ко всему проекту, а не только к исследовательскому анализу.<br>Он должен содержать развернутое резюме по всем разделам проекта: описание данных, порядок обработки аномалий, пропусков и дубликатов, предобработка данных для анализа и проведенный анализ.<br>В реальных проектах сначала читают цель исследования, затем полученные выводы, затем уже сам анализ.</font>\n",
    "<br>\n",
    "<font color='DarkMagenta'>👉 В общем выводе можно дать рекомендации по улучшению сбора данных на основе обнаруженных ошибок. А так же  составить портрет добросовестного заемщика.</font>"
   ]
  },
  {
   "cell_type": "markdown",
   "id": "66e656d5",
   "metadata": {},
   "source": [
    "<font color='DarkBlue'><b>Заключительный комментарий ревьюера</b></font><br><br>\n",
    "<font color='DarkGreen'>👌 Кирилл, проект хорошо проработан.<br>Так держать и дальше!<br></font>\n",
    "<font color='Red'>🛠 Что нужно, что бы сделать проект лучше:</font><br>\n",
    "<font color='Red'>🛠 Переделать анализ зависимости между количеством детей и возвратом кредита в срок. Переделать анализ зависимости между целями и возвратом кредита в срок.Переделать задание по заполнению пропусков медианами. Сделать развернутый общий вывод проекта.<br>\n",
    "<font color='DarkMagenta'>👉 При исправлении ошибок и недочетов будут приобретены дополнительный опыт и навыки!</font><br>\n",
    "<font color='DarkGreen'>👌 Жду окончательный вариант! Успехов.</font>"
   ]
  },
  {
   "attachments": {
    "image.png": {
     "image/png": "[encoded data removed]"
    }
   },
   "cell_type": "markdown",
   "id": "00d1442f",
   "metadata": {},
   "source": [
    "<font color='DarkBlue'><b>Заключительный комментарий ревьюера 2</b></font><br><br>\n",
    "<font color='DarkGreen'>👌 Кирилл! Справились со всеми заданиями в проекте. Молодец!<br>\n",
    "Входе выполнения проекта научились анализировать первичные данные и проводить обработку датасета. Провели самостоятельный исследовательский анализ.<br></font>\n",
    "<font color='DarkGreen'>👌 Теперь, вперед за новыми знаниями и навыками! Удачи! 😉</font>\n",
    "![image.png](attachment:image.png)"
   ]
  }
 ],
 "metadata": {
  "ExecuteTimeLog": [
   {
    "duration": 530,
    "start_time": "2023-06-18T07:02:12.575Z"
   },
   {
    "duration": 22,
    "start_time": "2023-06-18T07:02:14.498Z"
   },
   {
    "duration": 19,
    "start_time": "2023-06-18T07:02:18.304Z"
   },
   {
    "duration": 11,
    "start_time": "2023-06-18T07:02:21.944Z"
   },
   {
    "duration": 35,
    "start_time": "2023-06-18T07:02:24.992Z"
   },
   {
    "duration": 4,
    "start_time": "2023-06-18T07:05:32.809Z"
   },
   {
    "duration": 7,
    "start_time": "2023-06-18T07:05:50.500Z"
   },
   {
    "duration": 4,
    "start_time": "2023-06-18T07:05:59.348Z"
   },
   {
    "duration": 36,
    "start_time": "2023-06-18T07:06:01.456Z"
   },
   {
    "duration": 5,
    "start_time": "2023-06-18T07:06:04.761Z"
   },
   {
    "duration": 32,
    "start_time": "2023-06-18T07:06:11.907Z"
   },
   {
    "duration": 10,
    "start_time": "2023-06-18T07:06:13.379Z"
   },
   {
    "duration": 4,
    "start_time": "2023-06-18T07:06:16.588Z"
   },
   {
    "duration": 11,
    "start_time": "2023-06-18T07:06:20.421Z"
   },
   {
    "duration": 21,
    "start_time": "2023-06-18T07:06:21.579Z"
   },
   {
    "duration": 17,
    "start_time": "2023-06-18T07:06:23.096Z"
   },
   {
    "duration": 4,
    "start_time": "2023-06-18T07:06:42.168Z"
   },
   {
    "duration": 10,
    "start_time": "2023-06-18T07:06:45.379Z"
   },
   {
    "duration": 6,
    "start_time": "2023-06-18T07:06:48.188Z"
   },
   {
    "duration": 3,
    "start_time": "2023-06-18T07:07:06.329Z"
   },
   {
    "duration": 8,
    "start_time": "2023-06-18T07:07:10.008Z"
   },
   {
    "duration": 76,
    "start_time": "2023-06-18T07:09:21.970Z"
   },
   {
    "duration": 18,
    "start_time": "2023-06-18T07:09:22.048Z"
   },
   {
    "duration": 15,
    "start_time": "2023-06-18T07:09:22.068Z"
   },
   {
    "duration": 11,
    "start_time": "2023-06-18T07:09:22.085Z"
   },
   {
    "duration": 60,
    "start_time": "2023-06-18T07:09:22.099Z"
   },
   {
    "duration": 5,
    "start_time": "2023-06-18T07:09:22.161Z"
   },
   {
    "duration": 11,
    "start_time": "2023-06-18T07:09:22.168Z"
   },
   {
    "duration": 6,
    "start_time": "2023-06-18T07:09:22.181Z"
   },
   {
    "duration": 7,
    "start_time": "2023-06-18T07:09:22.189Z"
   },
   {
    "duration": 7,
    "start_time": "2023-06-18T07:09:22.198Z"
   },
   {
    "duration": 70,
    "start_time": "2023-06-18T07:09:22.206Z"
   },
   {
    "duration": 11,
    "start_time": "2023-06-18T07:09:22.278Z"
   },
   {
    "duration": 4,
    "start_time": "2023-06-18T07:09:22.290Z"
   },
   {
    "duration": 25,
    "start_time": "2023-06-18T07:09:22.297Z"
   },
   {
    "duration": 42,
    "start_time": "2023-06-18T07:09:22.325Z"
   },
   {
    "duration": 22,
    "start_time": "2023-06-18T07:09:22.368Z"
   },
   {
    "duration": 4,
    "start_time": "2023-06-18T07:09:22.391Z"
   },
   {
    "duration": 14,
    "start_time": "2023-06-18T07:09:22.397Z"
   },
   {
    "duration": 9,
    "start_time": "2023-06-18T07:09:22.413Z"
   },
   {
    "duration": 32,
    "start_time": "2023-06-18T07:09:22.423Z"
   },
   {
    "duration": 13,
    "start_time": "2023-06-18T07:09:22.458Z"
   },
   {
    "duration": 2,
    "start_time": "2023-06-18T07:09:22.474Z"
   },
   {
    "duration": 6,
    "start_time": "2023-06-18T07:09:22.477Z"
   },
   {
    "duration": 3,
    "start_time": "2023-06-18T07:09:22.485Z"
   },
   {
    "duration": 8,
    "start_time": "2023-06-18T07:09:22.490Z"
   },
   {
    "duration": 26,
    "start_time": "2023-06-18T07:09:40.270Z"
   },
   {
    "duration": 13,
    "start_time": "2023-06-18T07:10:27.019Z"
   },
   {
    "duration": 6,
    "start_time": "2023-06-18T07:10:43.887Z"
   },
   {
    "duration": 4,
    "start_time": "2023-06-18T07:10:55.791Z"
   },
   {
    "duration": 5,
    "start_time": "2023-06-18T07:11:01.611Z"
   },
   {
    "duration": 5,
    "start_time": "2023-06-18T07:11:08.819Z"
   },
   {
    "duration": 7,
    "start_time": "2023-06-18T07:12:18.063Z"
   },
   {
    "duration": 6,
    "start_time": "2023-06-18T07:13:25.371Z"
   },
   {
    "duration": 6,
    "start_time": "2023-06-18T07:13:33.672Z"
   },
   {
    "duration": 7,
    "start_time": "2023-06-18T07:13:56.992Z"
   },
   {
    "duration": 6,
    "start_time": "2023-06-18T07:14:04.594Z"
   },
   {
    "duration": 5,
    "start_time": "2023-06-18T07:14:42.132Z"
   },
   {
    "duration": 6,
    "start_time": "2023-06-18T07:15:25.332Z"
   },
   {
    "duration": 63,
    "start_time": "2023-06-18T07:15:47.410Z"
   },
   {
    "duration": 6,
    "start_time": "2023-06-18T07:15:56.073Z"
   },
   {
    "duration": 7,
    "start_time": "2023-06-18T07:16:01.534Z"
   },
   {
    "duration": 7,
    "start_time": "2023-06-18T07:16:28.099Z"
   },
   {
    "duration": 6,
    "start_time": "2023-06-18T07:16:40.454Z"
   },
   {
    "duration": 9,
    "start_time": "2023-06-18T07:16:41.475Z"
   },
   {
    "duration": 3,
    "start_time": "2023-06-18T07:17:30.353Z"
   },
   {
    "duration": 4,
    "start_time": "2023-06-18T07:17:31.761Z"
   },
   {
    "duration": 6,
    "start_time": "2023-06-18T07:17:39.372Z"
   },
   {
    "duration": 6,
    "start_time": "2023-06-18T07:21:47.041Z"
   },
   {
    "duration": 3,
    "start_time": "2023-06-18T07:22:25.242Z"
   },
   {
    "duration": 5,
    "start_time": "2023-06-18T07:22:30.224Z"
   },
   {
    "duration": 5,
    "start_time": "2023-06-18T07:22:44.922Z"
   },
   {
    "duration": 7,
    "start_time": "2023-06-18T07:22:49.261Z"
   },
   {
    "duration": 4,
    "start_time": "2023-06-18T07:22:55.744Z"
   },
   {
    "duration": 4,
    "start_time": "2023-06-18T07:22:59.624Z"
   },
   {
    "duration": 3,
    "start_time": "2023-06-18T07:23:38.042Z"
   },
   {
    "duration": 9,
    "start_time": "2023-06-18T07:24:03.705Z"
   },
   {
    "duration": 9,
    "start_time": "2023-06-18T07:24:46.366Z"
   },
   {
    "duration": 9,
    "start_time": "2023-06-18T07:26:28.296Z"
   },
   {
    "duration": 10,
    "start_time": "2023-06-18T07:26:53.766Z"
   },
   {
    "duration": 9,
    "start_time": "2023-06-18T07:29:16.515Z"
   },
   {
    "duration": 6,
    "start_time": "2023-06-18T07:29:41.845Z"
   },
   {
    "duration": 5,
    "start_time": "2023-06-18T07:30:09.604Z"
   },
   {
    "duration": 8,
    "start_time": "2023-06-18T07:30:39.319Z"
   },
   {
    "duration": 7,
    "start_time": "2023-06-18T07:31:59.814Z"
   },
   {
    "duration": 4,
    "start_time": "2023-06-18T07:36:12.341Z"
   },
   {
    "duration": 7,
    "start_time": "2023-06-18T07:40:02.823Z"
   },
   {
    "duration": 10,
    "start_time": "2023-06-18T07:40:33.724Z"
   },
   {
    "duration": 11,
    "start_time": "2023-06-18T07:41:04.224Z"
   },
   {
    "duration": 7,
    "start_time": "2023-06-18T07:42:00.025Z"
   },
   {
    "duration": 6,
    "start_time": "2023-06-18T07:42:09.274Z"
   },
   {
    "duration": 7,
    "start_time": "2023-06-18T07:42:17.105Z"
   },
   {
    "duration": 7,
    "start_time": "2023-06-18T07:42:17.934Z"
   },
   {
    "duration": 6,
    "start_time": "2023-06-18T07:42:20.074Z"
   },
   {
    "duration": 9,
    "start_time": "2023-06-18T07:42:52.592Z"
   },
   {
    "duration": 10,
    "start_time": "2023-06-18T07:44:30.030Z"
   },
   {
    "duration": 9,
    "start_time": "2023-06-18T07:44:32.654Z"
   },
   {
    "duration": 6,
    "start_time": "2023-06-18T07:45:18.570Z"
   },
   {
    "duration": 77,
    "start_time": "2023-06-18T07:54:25.642Z"
   },
   {
    "duration": 16,
    "start_time": "2023-06-18T07:54:25.721Z"
   },
   {
    "duration": 18,
    "start_time": "2023-06-18T07:54:25.739Z"
   },
   {
    "duration": 9,
    "start_time": "2023-06-18T07:54:25.759Z"
   },
   {
    "duration": 33,
    "start_time": "2023-06-18T07:54:25.770Z"
   },
   {
    "duration": 4,
    "start_time": "2023-06-18T07:54:25.804Z"
   },
   {
    "duration": 10,
    "start_time": "2023-06-18T07:54:25.810Z"
   },
   {
    "duration": 32,
    "start_time": "2023-06-18T07:54:25.822Z"
   },
   {
    "duration": 6,
    "start_time": "2023-06-18T07:54:25.856Z"
   },
   {
    "duration": 4,
    "start_time": "2023-06-18T07:54:25.864Z"
   },
   {
    "duration": 36,
    "start_time": "2023-06-18T07:54:25.870Z"
   },
   {
    "duration": 10,
    "start_time": "2023-06-18T07:54:25.908Z"
   },
   {
    "duration": 32,
    "start_time": "2023-06-18T07:54:25.920Z"
   },
   {
    "duration": 16,
    "start_time": "2023-06-18T07:54:25.956Z"
   },
   {
    "duration": 21,
    "start_time": "2023-06-18T07:54:25.974Z"
   },
   {
    "duration": 17,
    "start_time": "2023-06-18T07:54:25.997Z"
   },
   {
    "duration": 4,
    "start_time": "2023-06-18T07:54:26.016Z"
   },
   {
    "duration": 36,
    "start_time": "2023-06-18T07:54:26.021Z"
   },
   {
    "duration": 6,
    "start_time": "2023-06-18T07:54:26.059Z"
   },
   {
    "duration": 16,
    "start_time": "2023-06-18T07:54:26.066Z"
   },
   {
    "duration": 23,
    "start_time": "2023-06-18T07:54:26.084Z"
   },
   {
    "duration": 8,
    "start_time": "2023-06-18T07:54:26.109Z"
   },
   {
    "duration": 8,
    "start_time": "2023-06-18T07:54:26.119Z"
   },
   {
    "duration": 16,
    "start_time": "2023-06-18T07:54:26.129Z"
   },
   {
    "duration": 4,
    "start_time": "2023-06-18T07:54:26.149Z"
   },
   {
    "duration": 13,
    "start_time": "2023-06-18T07:54:26.155Z"
   },
   {
    "duration": 7,
    "start_time": "2023-06-18T07:54:26.170Z"
   },
   {
    "duration": 14,
    "start_time": "2023-06-18T07:54:26.179Z"
   },
   {
    "duration": 10,
    "start_time": "2023-06-18T07:54:26.195Z"
   },
   {
    "duration": 13,
    "start_time": "2023-06-18T07:54:26.207Z"
   },
   {
    "duration": 5,
    "start_time": "2023-06-18T07:55:21.461Z"
   },
   {
    "duration": 8,
    "start_time": "2023-06-18T07:55:43.921Z"
   },
   {
    "duration": 8,
    "start_time": "2023-06-18T07:56:31.402Z"
   },
   {
    "duration": 9,
    "start_time": "2023-06-18T07:56:42.621Z"
   },
   {
    "duration": 10,
    "start_time": "2023-06-18T07:56:46.051Z"
   },
   {
    "duration": 7,
    "start_time": "2023-06-18T07:56:51.150Z"
   },
   {
    "duration": 9,
    "start_time": "2023-06-18T07:56:53.082Z"
   },
   {
    "duration": 6,
    "start_time": "2023-06-18T07:57:53.863Z"
   },
   {
    "duration": 9,
    "start_time": "2023-06-18T08:03:07.262Z"
   },
   {
    "duration": 6,
    "start_time": "2023-06-18T08:03:53.215Z"
   },
   {
    "duration": 8,
    "start_time": "2023-06-18T08:04:41.315Z"
   },
   {
    "duration": 10,
    "start_time": "2023-06-18T08:05:21.836Z"
   },
   {
    "duration": 7,
    "start_time": "2023-06-18T08:05:44.577Z"
   },
   {
    "duration": 6,
    "start_time": "2023-06-18T08:05:56.849Z"
   },
   {
    "duration": 6,
    "start_time": "2023-06-18T08:06:09.636Z"
   },
   {
    "duration": 37,
    "start_time": "2023-06-18T08:11:25.891Z"
   },
   {
    "duration": 24,
    "start_time": "2023-06-18T08:11:46.451Z"
   },
   {
    "duration": 5,
    "start_time": "2023-06-18T08:11:59.030Z"
   },
   {
    "duration": 22,
    "start_time": "2023-06-18T08:12:27.305Z"
   },
   {
    "duration": 92,
    "start_time": "2023-06-18T08:13:07.962Z"
   },
   {
    "duration": 16,
    "start_time": "2023-06-18T08:13:08.813Z"
   },
   {
    "duration": 15,
    "start_time": "2023-06-18T08:13:12.342Z"
   },
   {
    "duration": 8,
    "start_time": "2023-06-18T08:14:45.862Z"
   },
   {
    "duration": 82,
    "start_time": "2023-06-18T08:18:26.203Z"
   },
   {
    "duration": 17,
    "start_time": "2023-06-18T08:18:26.287Z"
   },
   {
    "duration": 16,
    "start_time": "2023-06-18T08:18:26.306Z"
   },
   {
    "duration": 27,
    "start_time": "2023-06-18T08:18:26.324Z"
   },
   {
    "duration": 35,
    "start_time": "2023-06-18T08:18:26.353Z"
   },
   {
    "duration": 4,
    "start_time": "2023-06-18T08:18:26.389Z"
   },
   {
    "duration": 13,
    "start_time": "2023-06-18T08:18:26.394Z"
   },
   {
    "duration": 4,
    "start_time": "2023-06-18T08:18:26.409Z"
   },
   {
    "duration": 7,
    "start_time": "2023-06-18T08:18:26.415Z"
   },
   {
    "duration": 9,
    "start_time": "2023-06-18T08:18:26.449Z"
   },
   {
    "duration": 44,
    "start_time": "2023-06-18T08:18:26.462Z"
   },
   {
    "duration": 12,
    "start_time": "2023-06-18T08:18:26.508Z"
   },
   {
    "duration": 6,
    "start_time": "2023-06-18T08:18:26.521Z"
   },
   {
    "duration": 29,
    "start_time": "2023-06-18T08:18:26.528Z"
   },
   {
    "duration": 24,
    "start_time": "2023-06-18T08:18:26.559Z"
   },
   {
    "duration": 17,
    "start_time": "2023-06-18T08:18:26.584Z"
   },
   {
    "duration": 4,
    "start_time": "2023-06-18T08:18:26.603Z"
   },
   {
    "duration": 10,
    "start_time": "2023-06-18T08:18:26.609Z"
   },
   {
    "duration": 5,
    "start_time": "2023-06-18T08:18:26.621Z"
   },
   {
    "duration": 4,
    "start_time": "2023-06-18T08:18:26.650Z"
   },
   {
    "duration": 18,
    "start_time": "2023-06-18T08:18:26.656Z"
   },
   {
    "duration": 7,
    "start_time": "2023-06-18T08:18:26.676Z"
   },
   {
    "duration": 6,
    "start_time": "2023-06-18T08:18:26.685Z"
   },
   {
    "duration": 5,
    "start_time": "2023-06-18T08:18:26.693Z"
   },
   {
    "duration": 14,
    "start_time": "2023-06-18T08:18:26.700Z"
   },
   {
    "duration": 41,
    "start_time": "2023-06-18T08:18:26.716Z"
   },
   {
    "duration": 267,
    "start_time": "2023-06-18T08:18:26.759Z"
   },
   {
    "duration": 16,
    "start_time": "2023-06-18T08:18:27.029Z"
   },
   {
    "duration": 8,
    "start_time": "2023-06-18T08:18:27.047Z"
   },
   {
    "duration": 6,
    "start_time": "2023-06-18T08:18:27.056Z"
   },
   {
    "duration": 11,
    "start_time": "2023-06-18T08:18:27.063Z"
   },
   {
    "duration": 9,
    "start_time": "2023-06-18T08:18:27.075Z"
   },
   {
    "duration": 9,
    "start_time": "2023-06-18T08:18:27.086Z"
   },
   {
    "duration": 571,
    "start_time": "2023-06-18T13:52:13.784Z"
   },
   {
    "duration": 32,
    "start_time": "2023-06-18T13:52:14.358Z"
   },
   {
    "duration": 16,
    "start_time": "2023-06-18T13:52:14.392Z"
   },
   {
    "duration": 9,
    "start_time": "2023-06-18T13:52:14.409Z"
   },
   {
    "duration": 62,
    "start_time": "2023-06-18T13:52:14.420Z"
   },
   {
    "duration": 5,
    "start_time": "2023-06-18T13:52:14.486Z"
   },
   {
    "duration": 23,
    "start_time": "2023-06-18T13:52:14.493Z"
   },
   {
    "duration": 15,
    "start_time": "2023-06-18T13:52:14.518Z"
   },
   {
    "duration": 34,
    "start_time": "2023-06-18T13:52:14.535Z"
   },
   {
    "duration": 14,
    "start_time": "2023-06-18T13:52:14.571Z"
   },
   {
    "duration": 43,
    "start_time": "2023-06-18T13:52:14.586Z"
   },
   {
    "duration": 9,
    "start_time": "2023-06-18T13:52:14.631Z"
   },
   {
    "duration": 4,
    "start_time": "2023-06-18T13:52:14.642Z"
   },
   {
    "duration": 19,
    "start_time": "2023-06-18T13:52:14.650Z"
   },
   {
    "duration": 43,
    "start_time": "2023-06-18T13:52:14.671Z"
   },
   {
    "duration": 23,
    "start_time": "2023-06-18T13:52:14.716Z"
   },
   {
    "duration": 4,
    "start_time": "2023-06-18T13:52:14.741Z"
   },
   {
    "duration": 20,
    "start_time": "2023-06-18T13:52:14.747Z"
   },
   {
    "duration": 5,
    "start_time": "2023-06-18T13:52:14.769Z"
   },
   {
    "duration": 4,
    "start_time": "2023-06-18T13:52:14.776Z"
   },
   {
    "duration": 31,
    "start_time": "2023-06-18T13:52:14.781Z"
   },
   {
    "duration": 12,
    "start_time": "2023-06-18T13:52:14.814Z"
   },
   {
    "duration": 9,
    "start_time": "2023-06-18T13:52:14.828Z"
   },
   {
    "duration": 6,
    "start_time": "2023-06-18T13:52:14.839Z"
   },
   {
    "duration": 11,
    "start_time": "2023-06-18T13:52:14.855Z"
   },
   {
    "duration": 7,
    "start_time": "2023-06-18T13:52:14.868Z"
   },
   {
    "duration": 8,
    "start_time": "2023-06-18T13:52:14.877Z"
   },
   {
    "duration": 17,
    "start_time": "2023-06-18T13:52:14.887Z"
   },
   {
    "duration": 11,
    "start_time": "2023-06-18T13:52:14.905Z"
   },
   {
    "duration": 24,
    "start_time": "2023-06-18T13:52:14.917Z"
   },
   {
    "duration": 12,
    "start_time": "2023-06-18T13:52:14.943Z"
   },
   {
    "duration": 17,
    "start_time": "2023-06-18T13:52:14.957Z"
   },
   {
    "duration": 6,
    "start_time": "2023-06-18T13:52:14.976Z"
   },
   {
    "duration": 4,
    "start_time": "2023-06-18T13:52:34.115Z"
   },
   {
    "duration": 12,
    "start_time": "2023-06-18T13:52:39.040Z"
   },
   {
    "duration": 8,
    "start_time": "2023-06-18T13:57:59.593Z"
   },
   {
    "duration": 7,
    "start_time": "2023-06-18T14:02:54.841Z"
   },
   {
    "duration": 36,
    "start_time": "2023-06-18T14:22:38.943Z"
   },
   {
    "duration": 21,
    "start_time": "2023-06-18T14:23:32.589Z"
   },
   {
    "duration": 92,
    "start_time": "2023-06-18T14:23:35.389Z"
   },
   {
    "duration": 19,
    "start_time": "2023-06-18T14:23:35.484Z"
   },
   {
    "duration": 16,
    "start_time": "2023-06-18T14:23:35.506Z"
   },
   {
    "duration": 38,
    "start_time": "2023-06-18T14:23:35.524Z"
   },
   {
    "duration": 41,
    "start_time": "2023-06-18T14:23:35.563Z"
   },
   {
    "duration": 3,
    "start_time": "2023-06-18T14:23:35.606Z"
   },
   {
    "duration": 11,
    "start_time": "2023-06-18T14:23:35.611Z"
   },
   {
    "duration": 5,
    "start_time": "2023-06-18T14:23:35.624Z"
   },
   {
    "duration": 9,
    "start_time": "2023-06-18T14:23:35.651Z"
   },
   {
    "duration": 17,
    "start_time": "2023-06-18T14:23:35.663Z"
   },
   {
    "duration": 49,
    "start_time": "2023-06-18T14:23:35.682Z"
   },
   {
    "duration": 10,
    "start_time": "2023-06-18T14:23:35.732Z"
   },
   {
    "duration": 18,
    "start_time": "2023-06-18T14:23:35.744Z"
   },
   {
    "duration": 26,
    "start_time": "2023-06-18T14:23:35.769Z"
   },
   {
    "duration": 32,
    "start_time": "2023-06-18T14:23:35.798Z"
   },
   {
    "duration": 20,
    "start_time": "2023-06-18T14:23:35.832Z"
   },
   {
    "duration": 3,
    "start_time": "2023-06-18T14:23:35.856Z"
   },
   {
    "duration": 29,
    "start_time": "2023-06-18T14:23:35.861Z"
   },
   {
    "duration": 34,
    "start_time": "2023-06-18T14:23:35.892Z"
   },
   {
    "duration": 20,
    "start_time": "2023-06-18T14:23:35.929Z"
   },
   {
    "duration": 20,
    "start_time": "2023-06-18T14:23:35.957Z"
   },
   {
    "duration": 28,
    "start_time": "2023-06-18T14:23:35.979Z"
   },
   {
    "duration": 7,
    "start_time": "2023-06-18T14:23:36.009Z"
   },
   {
    "duration": 38,
    "start_time": "2023-06-18T14:23:36.018Z"
   },
   {
    "duration": 55,
    "start_time": "2023-06-18T14:23:36.058Z"
   },
   {
    "duration": 26,
    "start_time": "2023-06-18T14:23:36.115Z"
   },
   {
    "duration": 15,
    "start_time": "2023-06-18T14:23:36.146Z"
   },
   {
    "duration": 20,
    "start_time": "2023-06-18T14:23:36.169Z"
   },
   {
    "duration": 9,
    "start_time": "2023-06-18T14:23:36.194Z"
   },
   {
    "duration": 7,
    "start_time": "2023-06-18T14:23:36.205Z"
   },
   {
    "duration": 12,
    "start_time": "2023-06-18T14:23:36.215Z"
   },
   {
    "duration": 29,
    "start_time": "2023-06-18T14:23:36.229Z"
   },
   {
    "duration": 10,
    "start_time": "2023-06-18T14:23:36.262Z"
   },
   {
    "duration": 18,
    "start_time": "2023-06-18T14:23:36.274Z"
   },
   {
    "duration": 22,
    "start_time": "2023-06-18T14:24:22.123Z"
   },
   {
    "duration": 33,
    "start_time": "2023-06-18T14:25:20.044Z"
   },
   {
    "duration": 21,
    "start_time": "2023-06-18T14:26:34.591Z"
   },
   {
    "duration": 23,
    "start_time": "2023-06-18T14:26:43.523Z"
   },
   {
    "duration": 22,
    "start_time": "2023-06-18T14:27:07.522Z"
   },
   {
    "duration": 20,
    "start_time": "2023-06-18T14:28:09.313Z"
   },
   {
    "duration": 21,
    "start_time": "2023-06-18T14:29:33.506Z"
   },
   {
    "duration": 78,
    "start_time": "2023-06-18T14:32:28.984Z"
   },
   {
    "duration": 21,
    "start_time": "2023-06-18T14:32:29.065Z"
   },
   {
    "duration": 21,
    "start_time": "2023-06-18T14:32:29.088Z"
   },
   {
    "duration": 11,
    "start_time": "2023-06-18T14:32:29.111Z"
   },
   {
    "duration": 59,
    "start_time": "2023-06-18T14:32:29.125Z"
   },
   {
    "duration": 3,
    "start_time": "2023-06-18T14:32:29.186Z"
   },
   {
    "duration": 15,
    "start_time": "2023-06-18T14:32:29.190Z"
   },
   {
    "duration": 5,
    "start_time": "2023-06-18T14:32:29.206Z"
   },
   {
    "duration": 5,
    "start_time": "2023-06-18T14:32:29.213Z"
   },
   {
    "duration": 45,
    "start_time": "2023-06-18T14:32:29.219Z"
   },
   {
    "duration": 34,
    "start_time": "2023-06-18T14:32:29.265Z"
   },
   {
    "duration": 11,
    "start_time": "2023-06-18T14:32:29.301Z"
   },
   {
    "duration": 4,
    "start_time": "2023-06-18T14:32:29.313Z"
   },
   {
    "duration": 13,
    "start_time": "2023-06-18T14:32:29.321Z"
   },
   {
    "duration": 36,
    "start_time": "2023-06-18T14:32:29.336Z"
   },
   {
    "duration": 18,
    "start_time": "2023-06-18T14:32:29.375Z"
   },
   {
    "duration": 3,
    "start_time": "2023-06-18T14:32:29.395Z"
   },
   {
    "duration": 12,
    "start_time": "2023-06-18T14:32:29.399Z"
   },
   {
    "duration": 7,
    "start_time": "2023-06-18T14:32:29.413Z"
   },
   {
    "duration": 33,
    "start_time": "2023-06-18T14:32:29.455Z"
   },
   {
    "duration": 14,
    "start_time": "2023-06-18T14:32:29.490Z"
   },
   {
    "duration": 28,
    "start_time": "2023-06-18T14:32:29.506Z"
   },
   {
    "duration": 30,
    "start_time": "2023-06-18T14:32:29.536Z"
   },
   {
    "duration": 27,
    "start_time": "2023-06-18T14:32:29.571Z"
   },
   {
    "duration": 25,
    "start_time": "2023-06-18T14:32:29.600Z"
   },
   {
    "duration": 6,
    "start_time": "2023-06-18T14:32:29.626Z"
   },
   {
    "duration": 20,
    "start_time": "2023-06-18T14:48:49.953Z"
   },
   {
    "duration": 68,
    "start_time": "2023-06-18T14:50:08.594Z"
   },
   {
    "duration": 15,
    "start_time": "2023-06-18T14:50:08.664Z"
   },
   {
    "duration": 16,
    "start_time": "2023-06-18T14:50:08.681Z"
   },
   {
    "duration": 9,
    "start_time": "2023-06-18T14:50:08.698Z"
   },
   {
    "duration": 56,
    "start_time": "2023-06-18T14:50:08.709Z"
   },
   {
    "duration": 3,
    "start_time": "2023-06-18T14:50:08.767Z"
   },
   {
    "duration": 17,
    "start_time": "2023-06-18T14:50:08.772Z"
   },
   {
    "duration": 4,
    "start_time": "2023-06-18T14:50:08.791Z"
   },
   {
    "duration": 5,
    "start_time": "2023-06-18T14:50:08.796Z"
   },
   {
    "duration": 4,
    "start_time": "2023-06-18T14:50:08.803Z"
   },
   {
    "duration": 59,
    "start_time": "2023-06-18T14:50:08.808Z"
   },
   {
    "duration": 11,
    "start_time": "2023-06-18T14:50:08.868Z"
   },
   {
    "duration": 4,
    "start_time": "2023-06-18T14:50:08.881Z"
   },
   {
    "duration": 11,
    "start_time": "2023-06-18T14:50:08.888Z"
   },
   {
    "duration": 50,
    "start_time": "2023-06-18T14:50:08.901Z"
   },
   {
    "duration": 20,
    "start_time": "2023-06-18T14:50:08.952Z"
   },
   {
    "duration": 3,
    "start_time": "2023-06-18T14:50:08.974Z"
   },
   {
    "duration": 23,
    "start_time": "2023-06-18T14:50:08.979Z"
   },
   {
    "duration": 11,
    "start_time": "2023-06-18T14:50:09.004Z"
   },
   {
    "duration": 6,
    "start_time": "2023-06-18T14:50:09.017Z"
   },
   {
    "duration": 9,
    "start_time": "2023-06-18T14:50:09.024Z"
   },
   {
    "duration": 21,
    "start_time": "2023-06-18T14:50:09.035Z"
   },
   {
    "duration": 21,
    "start_time": "2023-06-18T14:50:09.057Z"
   },
   {
    "duration": 18,
    "start_time": "2023-06-18T14:50:09.079Z"
   },
   {
    "duration": 19,
    "start_time": "2023-06-18T14:50:09.099Z"
   },
   {
    "duration": 5,
    "start_time": "2023-06-18T14:50:09.120Z"
   },
   {
    "duration": 450,
    "start_time": "2023-06-18T14:52:30.081Z"
   },
   {
    "duration": 20,
    "start_time": "2023-06-18T14:52:30.533Z"
   },
   {
    "duration": 33,
    "start_time": "2023-06-18T14:52:30.554Z"
   },
   {
    "duration": 62,
    "start_time": "2023-06-18T14:52:30.589Z"
   },
   {
    "duration": 113,
    "start_time": "2023-06-18T14:52:30.654Z"
   },
   {
    "duration": 59,
    "start_time": "2023-06-18T14:52:30.768Z"
   },
   {
    "duration": 41,
    "start_time": "2023-06-18T14:52:30.829Z"
   },
   {
    "duration": 88,
    "start_time": "2023-06-18T14:52:30.872Z"
   },
   {
    "duration": 72,
    "start_time": "2023-06-18T14:52:30.962Z"
   },
   {
    "duration": 43,
    "start_time": "2023-06-18T14:52:31.036Z"
   },
   {
    "duration": 108,
    "start_time": "2023-06-18T14:52:31.081Z"
   },
   {
    "duration": 8,
    "start_time": "2023-06-18T14:52:31.190Z"
   },
   {
    "duration": 90,
    "start_time": "2023-06-18T14:52:31.205Z"
   },
   {
    "duration": 58,
    "start_time": "2023-06-18T14:52:31.297Z"
   },
   {
    "duration": 49,
    "start_time": "2023-06-18T14:52:31.356Z"
   },
   {
    "duration": 54,
    "start_time": "2023-06-18T14:52:31.407Z"
   },
   {
    "duration": 50,
    "start_time": "2023-06-18T14:52:31.462Z"
   },
   {
    "duration": 54,
    "start_time": "2023-06-18T14:52:31.514Z"
   },
   {
    "duration": 62,
    "start_time": "2023-06-18T14:52:31.570Z"
   },
   {
    "duration": 22,
    "start_time": "2023-06-18T14:52:31.633Z"
   },
   {
    "duration": 106,
    "start_time": "2023-06-18T14:52:31.657Z"
   },
   {
    "duration": 89,
    "start_time": "2023-06-18T14:52:31.765Z"
   },
   {
    "duration": 19,
    "start_time": "2023-06-18T14:52:31.855Z"
   },
   {
    "duration": 64,
    "start_time": "2023-06-18T14:52:31.875Z"
   },
   {
    "duration": 43,
    "start_time": "2023-06-18T14:52:31.940Z"
   },
   {
    "duration": 33,
    "start_time": "2023-06-18T14:52:31.985Z"
   },
   {
    "duration": 469,
    "start_time": "2023-06-18T14:58:23.201Z"
   },
   {
    "duration": 24,
    "start_time": "2023-06-18T14:58:23.673Z"
   },
   {
    "duration": 52,
    "start_time": "2023-06-18T14:58:23.700Z"
   },
   {
    "duration": 26,
    "start_time": "2023-06-18T14:58:23.754Z"
   },
   {
    "duration": 51,
    "start_time": "2023-06-18T14:58:23.782Z"
   },
   {
    "duration": 9,
    "start_time": "2023-06-18T14:58:23.834Z"
   },
   {
    "duration": 21,
    "start_time": "2023-06-18T14:58:23.844Z"
   },
   {
    "duration": 16,
    "start_time": "2023-06-18T14:58:23.866Z"
   },
   {
    "duration": 11,
    "start_time": "2023-06-18T14:58:23.883Z"
   },
   {
    "duration": 28,
    "start_time": "2023-06-18T14:58:23.895Z"
   },
   {
    "duration": 62,
    "start_time": "2023-06-18T14:58:23.930Z"
   },
   {
    "duration": 48,
    "start_time": "2023-06-18T14:58:23.993Z"
   },
   {
    "duration": 6,
    "start_time": "2023-06-18T14:58:24.042Z"
   },
   {
    "duration": 36,
    "start_time": "2023-06-18T14:58:24.051Z"
   },
   {
    "duration": 64,
    "start_time": "2023-06-18T14:58:24.088Z"
   },
   {
    "duration": 33,
    "start_time": "2023-06-18T14:58:24.153Z"
   },
   {
    "duration": 40,
    "start_time": "2023-06-18T14:58:24.187Z"
   },
   {
    "duration": 26,
    "start_time": "2023-06-18T14:58:24.229Z"
   },
   {
    "duration": 14,
    "start_time": "2023-06-18T14:58:24.257Z"
   },
   {
    "duration": 36,
    "start_time": "2023-06-18T14:58:24.273Z"
   },
   {
    "duration": 34,
    "start_time": "2023-06-18T14:58:24.310Z"
   },
   {
    "duration": 48,
    "start_time": "2023-06-18T14:58:24.346Z"
   },
   {
    "duration": 32,
    "start_time": "2023-06-18T14:58:24.395Z"
   },
   {
    "duration": 51,
    "start_time": "2023-06-18T14:58:24.428Z"
   },
   {
    "duration": 64,
    "start_time": "2023-06-18T14:58:24.481Z"
   },
   {
    "duration": 23,
    "start_time": "2023-06-18T14:58:24.546Z"
   },
   {
    "duration": 3,
    "start_time": "2023-06-19T12:21:00.044Z"
   },
   {
    "duration": 44,
    "start_time": "2023-06-19T12:22:02.124Z"
   },
   {
    "duration": 717,
    "start_time": "2023-06-19T12:22:07.812Z"
   },
   {
    "duration": 22,
    "start_time": "2023-06-19T12:22:08.530Z"
   },
   {
    "duration": 47,
    "start_time": "2023-06-19T12:22:08.553Z"
   },
   {
    "duration": 56,
    "start_time": "2023-06-19T12:22:08.601Z"
   },
   {
    "duration": 61,
    "start_time": "2023-06-19T12:22:08.659Z"
   },
   {
    "duration": 19,
    "start_time": "2023-06-19T12:22:08.721Z"
   },
   {
    "duration": 44,
    "start_time": "2023-06-19T12:22:08.741Z"
   },
   {
    "duration": 7,
    "start_time": "2023-06-19T12:22:08.787Z"
   },
   {
    "duration": 31,
    "start_time": "2023-06-19T12:22:08.795Z"
   },
   {
    "duration": 17,
    "start_time": "2023-06-19T12:22:08.827Z"
   },
   {
    "duration": 38,
    "start_time": "2023-06-19T12:22:08.845Z"
   },
   {
    "duration": 10,
    "start_time": "2023-06-19T12:22:08.885Z"
   },
   {
    "duration": 11,
    "start_time": "2023-06-19T12:22:08.896Z"
   },
   {
    "duration": 11,
    "start_time": "2023-06-19T12:22:08.910Z"
   },
   {
    "duration": 21,
    "start_time": "2023-06-19T12:22:08.923Z"
   },
   {
    "duration": 16,
    "start_time": "2023-06-19T12:22:08.945Z"
   },
   {
    "duration": 8,
    "start_time": "2023-06-19T12:22:08.963Z"
   },
   {
    "duration": 21,
    "start_time": "2023-06-19T12:22:08.972Z"
   },
   {
    "duration": 9,
    "start_time": "2023-06-19T12:22:08.994Z"
   },
   {
    "duration": 34,
    "start_time": "2023-06-19T12:22:09.005Z"
   },
   {
    "duration": 18,
    "start_time": "2023-06-19T12:22:09.040Z"
   },
   {
    "duration": 81,
    "start_time": "2023-06-19T12:22:09.060Z"
   },
   {
    "duration": 0,
    "start_time": "2023-06-19T12:22:09.142Z"
   },
   {
    "duration": 0,
    "start_time": "2023-06-19T12:22:09.143Z"
   },
   {
    "duration": 0,
    "start_time": "2023-06-19T12:22:09.144Z"
   },
   {
    "duration": 0,
    "start_time": "2023-06-19T12:22:09.145Z"
   },
   {
    "duration": 8,
    "start_time": "2023-06-19T12:24:08.724Z"
   },
   {
    "duration": 5,
    "start_time": "2023-06-19T12:24:13.060Z"
   },
   {
    "duration": 6,
    "start_time": "2023-06-19T12:24:52.290Z"
   },
   {
    "duration": 9,
    "start_time": "2023-06-19T12:25:21.316Z"
   },
   {
    "duration": 13,
    "start_time": "2023-06-19T12:26:42.359Z"
   },
   {
    "duration": 13,
    "start_time": "2023-06-19T12:29:18.288Z"
   },
   {
    "duration": 11,
    "start_time": "2023-06-19T12:30:27.709Z"
   },
   {
    "duration": 10,
    "start_time": "2023-06-19T12:31:38.884Z"
   },
   {
    "duration": 5,
    "start_time": "2023-06-19T12:36:40.788Z"
   },
   {
    "duration": 315,
    "start_time": "2023-06-19T12:37:06.007Z"
   },
   {
    "duration": 10,
    "start_time": "2023-06-19T12:37:14.029Z"
   },
   {
    "duration": 7,
    "start_time": "2023-06-19T12:37:21.711Z"
   },
   {
    "duration": 7,
    "start_time": "2023-06-19T12:37:43.177Z"
   },
   {
    "duration": 6,
    "start_time": "2023-06-19T12:38:08.862Z"
   },
   {
    "duration": 4,
    "start_time": "2023-06-19T12:38:39.597Z"
   },
   {
    "duration": 6,
    "start_time": "2023-06-19T12:39:04.690Z"
   },
   {
    "duration": 5,
    "start_time": "2023-06-19T12:39:48.188Z"
   },
   {
    "duration": 5,
    "start_time": "2023-06-19T12:40:12.025Z"
   },
   {
    "duration": 4,
    "start_time": "2023-06-19T12:40:53.159Z"
   },
   {
    "duration": 6,
    "start_time": "2023-06-19T12:40:57.943Z"
   },
   {
    "duration": 5,
    "start_time": "2023-06-19T12:41:50.403Z"
   },
   {
    "duration": 5,
    "start_time": "2023-06-19T12:41:56.201Z"
   },
   {
    "duration": 5,
    "start_time": "2023-06-19T12:42:01.087Z"
   },
   {
    "duration": 5,
    "start_time": "2023-06-19T12:42:13.140Z"
   },
   {
    "duration": 5,
    "start_time": "2023-06-19T12:42:17.944Z"
   },
   {
    "duration": 4,
    "start_time": "2023-06-19T12:42:21.298Z"
   },
   {
    "duration": 5,
    "start_time": "2023-06-19T12:44:36.457Z"
   },
   {
    "duration": 4,
    "start_time": "2023-06-19T12:46:45.726Z"
   },
   {
    "duration": 4,
    "start_time": "2023-06-19T12:46:55.040Z"
   },
   {
    "duration": 20,
    "start_time": "2023-06-19T12:52:19.046Z"
   },
   {
    "duration": 12,
    "start_time": "2023-06-19T12:53:05.036Z"
   },
   {
    "duration": 13,
    "start_time": "2023-06-19T12:59:28.735Z"
   },
   {
    "duration": 4,
    "start_time": "2023-06-19T13:00:06.964Z"
   },
   {
    "duration": 15,
    "start_time": "2023-06-19T13:00:30.103Z"
   },
   {
    "duration": 11,
    "start_time": "2023-06-19T13:03:51.475Z"
   },
   {
    "duration": 13,
    "start_time": "2023-06-19T13:07:15.876Z"
   },
   {
    "duration": 5,
    "start_time": "2023-06-19T13:07:35.984Z"
   },
   {
    "duration": 28,
    "start_time": "2023-06-19T13:07:53.595Z"
   },
   {
    "duration": 10,
    "start_time": "2023-06-19T13:10:31.712Z"
   },
   {
    "duration": 8,
    "start_time": "2023-06-19T13:10:37.824Z"
   },
   {
    "duration": 9,
    "start_time": "2023-06-19T13:10:50.913Z"
   },
   {
    "duration": 8,
    "start_time": "2023-06-19T13:11:42.865Z"
   },
   {
    "duration": 15,
    "start_time": "2023-06-19T13:13:02.390Z"
   },
   {
    "duration": 16,
    "start_time": "2023-06-19T13:15:37.103Z"
   },
   {
    "duration": 26,
    "start_time": "2023-06-19T13:25:12.929Z"
   },
   {
    "duration": 6,
    "start_time": "2023-06-19T13:34:04.201Z"
   },
   {
    "duration": 96,
    "start_time": "2023-06-19T14:06:57.758Z"
   },
   {
    "duration": 15,
    "start_time": "2023-06-19T14:06:57.856Z"
   },
   {
    "duration": 30,
    "start_time": "2023-06-19T14:06:57.872Z"
   },
   {
    "duration": 9,
    "start_time": "2023-06-19T14:06:57.903Z"
   },
   {
    "duration": 57,
    "start_time": "2023-06-19T14:06:57.913Z"
   },
   {
    "duration": 3,
    "start_time": "2023-06-19T14:06:57.972Z"
   },
   {
    "duration": 17,
    "start_time": "2023-06-19T14:06:57.976Z"
   },
   {
    "duration": 11,
    "start_time": "2023-06-19T14:06:57.995Z"
   },
   {
    "duration": 9,
    "start_time": "2023-06-19T14:06:58.008Z"
   },
   {
    "duration": 30,
    "start_time": "2023-06-19T14:06:58.018Z"
   },
   {
    "duration": 5,
    "start_time": "2023-06-19T14:07:13.877Z"
   },
   {
    "duration": 7,
    "start_time": "2023-06-19T14:07:27.395Z"
   },
   {
    "duration": 96,
    "start_time": "2023-06-19T14:08:02.470Z"
   },
   {
    "duration": 15,
    "start_time": "2023-06-19T14:08:02.568Z"
   },
   {
    "duration": 18,
    "start_time": "2023-06-19T14:08:02.584Z"
   },
   {
    "duration": 9,
    "start_time": "2023-06-19T14:08:02.604Z"
   },
   {
    "duration": 7,
    "start_time": "2023-06-19T14:08:14.664Z"
   },
   {
    "duration": 9,
    "start_time": "2023-06-19T14:08:31.658Z"
   },
   {
    "duration": 15,
    "start_time": "2023-06-19T14:08:36.129Z"
   },
   {
    "duration": 6,
    "start_time": "2023-06-19T14:09:13.658Z"
   },
   {
    "duration": 94,
    "start_time": "2023-06-19T14:09:44.992Z"
   },
   {
    "duration": 26,
    "start_time": "2023-06-19T14:09:45.089Z"
   },
   {
    "duration": 65,
    "start_time": "2023-06-19T14:09:45.118Z"
   },
   {
    "duration": 18,
    "start_time": "2023-06-19T14:09:45.186Z"
   },
   {
    "duration": 46,
    "start_time": "2023-06-19T14:09:45.207Z"
   },
   {
    "duration": 18,
    "start_time": "2023-06-19T14:09:45.255Z"
   },
   {
    "duration": 80,
    "start_time": "2023-06-19T14:09:45.274Z"
   },
   {
    "duration": 37,
    "start_time": "2023-06-19T14:09:45.356Z"
   },
   {
    "duration": 16,
    "start_time": "2023-06-19T14:09:45.395Z"
   },
   {
    "duration": 42,
    "start_time": "2023-06-19T14:09:45.414Z"
   },
   {
    "duration": 67,
    "start_time": "2023-06-19T14:09:45.458Z"
   },
   {
    "duration": 11,
    "start_time": "2023-06-19T14:09:45.526Z"
   },
   {
    "duration": 19,
    "start_time": "2023-06-19T14:09:45.538Z"
   },
   {
    "duration": 28,
    "start_time": "2023-06-19T14:09:45.559Z"
   },
   {
    "duration": 39,
    "start_time": "2023-06-19T14:09:45.590Z"
   },
   {
    "duration": 22,
    "start_time": "2023-06-19T14:09:45.632Z"
   },
   {
    "duration": 9,
    "start_time": "2023-06-19T14:09:45.656Z"
   },
   {
    "duration": 40,
    "start_time": "2023-06-19T14:09:45.666Z"
   },
   {
    "duration": 9,
    "start_time": "2023-06-19T14:09:45.707Z"
   },
   {
    "duration": 37,
    "start_time": "2023-06-19T14:09:45.718Z"
   },
   {
    "duration": 37,
    "start_time": "2023-06-19T14:09:45.757Z"
   },
   {
    "duration": 21,
    "start_time": "2023-06-19T14:09:45.795Z"
   },
   {
    "duration": 21,
    "start_time": "2023-06-19T14:09:45.818Z"
   },
   {
    "duration": 28,
    "start_time": "2023-06-19T14:09:45.842Z"
   },
   {
    "duration": 49,
    "start_time": "2023-06-19T14:09:45.871Z"
   },
   {
    "duration": 46,
    "start_time": "2023-06-19T14:09:45.922Z"
   },
   {
    "duration": 35,
    "start_time": "2023-06-19T14:09:45.969Z"
   },
   {
    "duration": 29,
    "start_time": "2023-06-19T14:09:46.007Z"
   },
   {
    "duration": 11,
    "start_time": "2023-06-19T14:10:09.211Z"
   },
   {
    "duration": 13,
    "start_time": "2023-06-19T14:10:15.942Z"
   },
   {
    "duration": 8,
    "start_time": "2023-06-19T14:10:21.957Z"
   },
   {
    "duration": 8,
    "start_time": "2023-06-19T14:10:24.352Z"
   },
   {
    "duration": 9,
    "start_time": "2023-06-19T14:15:13.621Z"
   },
   {
    "duration": 9,
    "start_time": "2023-06-19T14:15:14.221Z"
   },
   {
    "duration": 1909,
    "start_time": "2023-06-20T03:04:08.003Z"
   },
   {
    "duration": 28,
    "start_time": "2023-06-20T03:04:09.916Z"
   },
   {
    "duration": 39,
    "start_time": "2023-06-20T03:04:09.946Z"
   },
   {
    "duration": 62,
    "start_time": "2023-06-20T03:04:09.987Z"
   },
   {
    "duration": 228,
    "start_time": "2023-06-20T03:04:10.052Z"
   },
   {
    "duration": 40,
    "start_time": "2023-06-20T03:04:10.285Z"
   },
   {
    "duration": 21,
    "start_time": "2023-06-20T03:04:10.331Z"
   },
   {
    "duration": 87,
    "start_time": "2023-06-20T03:04:10.354Z"
   },
   {
    "duration": 154,
    "start_time": "2023-06-20T03:04:10.444Z"
   },
   {
    "duration": 129,
    "start_time": "2023-06-20T03:04:10.602Z"
   },
   {
    "duration": 135,
    "start_time": "2023-06-20T03:04:10.734Z"
   },
   {
    "duration": 23,
    "start_time": "2023-06-20T03:04:10.871Z"
   },
   {
    "duration": 44,
    "start_time": "2023-06-20T03:04:10.896Z"
   },
   {
    "duration": 25,
    "start_time": "2023-06-20T03:04:10.944Z"
   },
   {
    "duration": 95,
    "start_time": "2023-06-20T03:04:10.971Z"
   },
   {
    "duration": 78,
    "start_time": "2023-06-20T03:04:11.071Z"
   },
   {
    "duration": 81,
    "start_time": "2023-06-20T03:04:11.151Z"
   },
   {
    "duration": 105,
    "start_time": "2023-06-20T03:04:11.234Z"
   },
   {
    "duration": 96,
    "start_time": "2023-06-20T03:04:11.341Z"
   },
   {
    "duration": 9,
    "start_time": "2023-06-20T03:04:11.439Z"
   },
   {
    "duration": 111,
    "start_time": "2023-06-20T03:04:11.450Z"
   },
   {
    "duration": 67,
    "start_time": "2023-06-20T03:04:11.564Z"
   },
   {
    "duration": 16,
    "start_time": "2023-06-20T03:04:11.633Z"
   },
   {
    "duration": 74,
    "start_time": "2023-06-20T03:04:11.651Z"
   },
   {
    "duration": 118,
    "start_time": "2023-06-20T03:04:11.726Z"
   },
   {
    "duration": 51,
    "start_time": "2023-06-20T03:04:11.846Z"
   },
   {
    "duration": 76,
    "start_time": "2023-06-20T03:04:11.899Z"
   },
   {
    "duration": 69,
    "start_time": "2023-06-20T03:04:11.977Z"
   },
   {
    "duration": 15,
    "start_time": "2023-06-20T03:04:12.048Z"
   },
   {
    "duration": 10,
    "start_time": "2023-06-20T03:29:19.977Z"
   },
   {
    "duration": 23,
    "start_time": "2023-06-20T03:31:20.108Z"
   },
   {
    "duration": 484,
    "start_time": "2023-06-20T18:02:43.336Z"
   },
   {
    "duration": 20,
    "start_time": "2023-06-20T18:02:43.822Z"
   },
   {
    "duration": 43,
    "start_time": "2023-06-20T18:02:43.843Z"
   },
   {
    "duration": 26,
    "start_time": "2023-06-20T18:02:43.887Z"
   },
   {
    "duration": 99,
    "start_time": "2023-06-20T18:02:43.914Z"
   },
   {
    "duration": 27,
    "start_time": "2023-06-20T18:02:44.014Z"
   },
   {
    "duration": 65,
    "start_time": "2023-06-20T18:02:44.043Z"
   },
   {
    "duration": 295,
    "start_time": "2023-06-20T18:02:44.110Z"
   },
   {
    "duration": 56,
    "start_time": "2023-06-20T18:02:44.406Z"
   },
   {
    "duration": 18,
    "start_time": "2023-06-20T18:02:44.464Z"
   },
   {
    "duration": 47,
    "start_time": "2023-06-20T18:02:44.483Z"
   },
   {
    "duration": 22,
    "start_time": "2023-06-20T18:02:44.532Z"
   },
   {
    "duration": 37,
    "start_time": "2023-06-20T18:02:44.557Z"
   },
   {
    "duration": 28,
    "start_time": "2023-06-20T18:02:44.598Z"
   },
   {
    "duration": 57,
    "start_time": "2023-06-20T18:02:44.628Z"
   },
   {
    "duration": 39,
    "start_time": "2023-06-20T18:02:44.686Z"
   },
   {
    "duration": 8,
    "start_time": "2023-06-20T18:02:44.727Z"
   },
   {
    "duration": 144,
    "start_time": "2023-06-20T18:02:44.737Z"
   },
   {
    "duration": 19,
    "start_time": "2023-06-20T18:02:44.883Z"
   },
   {
    "duration": 3,
    "start_time": "2023-06-20T18:02:44.904Z"
   },
   {
    "duration": 13,
    "start_time": "2023-06-20T18:02:44.908Z"
   },
   {
    "duration": 14,
    "start_time": "2023-06-20T18:02:44.922Z"
   },
   {
    "duration": 5,
    "start_time": "2023-06-20T18:02:44.937Z"
   },
   {
    "duration": 22,
    "start_time": "2023-06-20T18:02:44.943Z"
   },
   {
    "duration": 28,
    "start_time": "2023-06-20T18:02:44.966Z"
   },
   {
    "duration": 12,
    "start_time": "2023-06-20T18:02:44.996Z"
   },
   {
    "duration": 97,
    "start_time": "2023-06-20T18:02:45.009Z"
   },
   {
    "duration": 34,
    "start_time": "2023-06-20T18:02:45.107Z"
   },
   {
    "duration": 13,
    "start_time": "2023-06-20T18:02:45.142Z"
   },
   {
    "duration": 10,
    "start_time": "2023-06-20T18:13:23.221Z"
   },
   {
    "duration": 10,
    "start_time": "2023-06-20T18:13:37.430Z"
   },
   {
    "duration": 268,
    "start_time": "2023-06-20T18:15:46.040Z"
   },
   {
    "duration": 234,
    "start_time": "2023-06-20T18:20:02.332Z"
   },
   {
    "duration": 228,
    "start_time": "2023-06-20T18:20:25.134Z"
   }
  ],
  "colab": {
   "name": "dpp_template_part2.ipynb",
   "provenance": []
  },
  "kernelspec": {
   "display_name": "Python 3 (ipykernel)",
   "language": "python",
   "name": "python3"
  },
  "language_info": {
   "codemirror_mode": {
    "name": "ipython",
    "version": 3
   },
   "file_extension": ".py",
   "mimetype": "text/x-python",
   "name": "python",
   "nbconvert_exporter": "python",
   "pygments_lexer": "ipython3",
   "version": "3.9.5"
  },
  "toc": {
   "base_numbering": 1,
   "nav_menu": {},
   "number_sections": true,
   "sideBar": true,
   "skip_h1_title": true,
   "title_cell": "Table of Contents",
   "title_sidebar": "Contents",
   "toc_cell": false,
   "toc_position": {
    "height": "calc(100% - 180px)",
    "left": "10px",
    "top": "150px",
    "width": "182.636px"
   },
   "toc_section_display": true,
   "toc_window_display": true
  }
 },
 "nbformat": 4,
 "nbformat_minor": 5
}
