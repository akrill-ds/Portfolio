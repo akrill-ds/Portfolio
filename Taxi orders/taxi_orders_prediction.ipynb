{
 "cells": [
  {
   "cell_type": "markdown",
   "id": "15f6263a",
   "metadata": {},
   "source": [
    "Привет, меня зовут Люман Аблаев. Сегодня я проверю твой проект.\n",
    "<br> Дальнейшее общение будет происходить на \"ты\" если это не вызывает никаких проблем.\n",
    "<br> Желательно реагировать на каждый мой комментарий ('исправил', 'не понятно как исправить ошибку', ...)\n",
    "<br> Пожалуйста, не удаляй комментарии ревьюера, так как они повышают качество повторного ревью.\n",
    "\n",
    "Комментарии будут в <font color='green'>зеленой</font>, <font color='blue'>синей</font> или <font color='red'>красной</font> рамках:\n",
    "\n",
    "<div class=\"alert alert-block alert-success\">\n",
    "<b>Успех:</b> Если все сделано отлично\n",
    "</div>\n",
    "\n",
    "<div class=\"alert alert-block alert-info\">\n",
    "<b>Совет: </b> Если можно немного улучшить\n",
    "</div>\n",
    "\n",
    "<div class=\"alert alert-block alert-danger\">\n",
    "<b>Ошибка:</b> Если требуются исправления. Работа не может быть принята с красными комментариями.\n",
    "</div>\n",
    "\n",
    "-------------------\n",
    "\n",
    "Будет очень хорошо, если ты будешь помечать свои действия следующим образом:\n",
    "<div class=\"alert alert-block alert-warning\">\n",
    "<b>Комментарий студента:</b> ..\n",
    "</div>\n",
    "<div class=\"alert alert-block alert-warning\">\n",
    "<b>Изменения:</b> Были внесены следующие изменения ...\n",
    "</div>\n",
    "\n",
    "<font color='orange' style='font-size:24px; font-weight:bold'>Полезные ссылки:</font>\n",
    "* Полезная лекция про временные ряды: https://www.youtube.com/watch?v=u433nrxdf5k .\n",
    "\n",
    "<font color='orange' style='font-size:24px; font-weight:bold'>Общее впечатление</font>\n",
    "* Большое спасибо за проделанную работу. Видно, что приложено много усилий.\n",
    "- Приятное оформление выводов и структурированность кода в целом!  Приятно проверять такие работы.\n",
    "* Над этим проектом нужно будет еще немного поработать. Однако, изменения не должны занять много времени.\n",
    "* В работе я оставил несколько советов. Буду рад, если ты учтешь их.\n",
    "- Жду твой обновленный проект =)\n"
   ]
  },
  {
   "cell_type": "markdown",
   "id": "8f0c9029",
   "metadata": {},
   "source": [
    "<div class=\"alert alert-block alert-warning\">\n",
    "<b>Комментарий студента:</b> Привет, Люман. Спасибо за советы, комментарии и ссылки.\n",
    "</div>"
   ]
  },
  {
   "cell_type": "markdown",
   "id": "b6b23b79",
   "metadata": {},
   "source": [
    "<font color='orange' style='font-size:24px; font-weight:bold'>Общее впечатление[2]</font>\n",
    "* Спасибо за оперативность\n",
    "- Приятно видеть фидбек \n",
    "- Недочеты исправлены - работа полностью корректна\n",
    "- Рад был быть полезен. Удачи в дальнейшем обучении!\n"
   ]
  },
  {
   "cell_type": "markdown",
   "id": "01d57173",
   "metadata": {},
   "source": [
    "<font size=6><b>Прогнозирование количества заказов такси</b></font>"
   ]
  },
  {
   "cell_type": "markdown",
   "id": "3754bf48",
   "metadata": {},
   "source": [
    "<b>Описание проекта</b><br>\n",
    "Компания «Чётенькое такси» собрала исторические данные о заказах такси в аэропортах. Чтобы привлекать больше водителей в период пиковой нагрузки, нужно спрогнозировать количество заказов такси на следующий час.<br>\n",
    "<b>Цель</b><br>\n",
    "Построить модель для такого предсказания. Значение метрики RMSE на тестовой выборке должно быть не больше 48.<br>\n",
    "<b>План</b>:<br>\n",
    "1. Загрузить данные;\n",
    "2. Ресеплирование;\n",
    "3. Создание признаков;\n",
    "4. Анализ признаков;\n",
    "5. Разделение выборки;\n",
    "6. Масштабирование признаков;\n",
    "7. Подбор гиперпараметров;\n",
    "8. Обучение моделей;\n",
    "9. Определение качества моделей;\n",
    "10. Выбор лучшей модели;\n",
    "11. Проверка лучшей модели на тестовой выборке;\n",
    "12. Выводы."
   ]
  },
  {
   "cell_type": "markdown",
   "id": "dda0cc6f",
   "metadata": {
    "toc": true
   },
   "source": [
    "<h1>Table of Contents<span class=\"tocSkip\"></span></h1>\n",
    "<div class=\"toc\"><ul class=\"toc-item\"><li><span><a href=\"#Загрузка-данных-и-ресемплирование\" data-toc-modified-id=\"Загрузка-данных-и-ресемплирование-1\"><span class=\"toc-item-num\">1&nbsp;&nbsp;</span>Загрузка данных и ресемплирование</a></span></li><li><span><a href=\"#Анализ-данных\" data-toc-modified-id=\"Анализ-данных-2\"><span class=\"toc-item-num\">2&nbsp;&nbsp;</span>Анализ данных</a></span><ul class=\"toc-item\"><li><span><a href=\"#Базовый-анализ\" data-toc-modified-id=\"Базовый-анализ-2.1\"><span class=\"toc-item-num\">2.1&nbsp;&nbsp;</span>Базовый анализ</a></span></li><li><span><a href=\"#Стационарность-и-сезонность\" data-toc-modified-id=\"Стационарность-и-сезонность-2.2\"><span class=\"toc-item-num\">2.2&nbsp;&nbsp;</span>Стационарность и сезонность</a></span></li><li><span><a href=\"#Создание-дополнительных-признаков\" data-toc-modified-id=\"Создание-дополнительных-признаков-2.3\"><span class=\"toc-item-num\">2.3&nbsp;&nbsp;</span>Создание дополнительных признаков</a></span></li></ul></li><li><span><a href=\"#Обучение-моделей\" data-toc-modified-id=\"Обучение-моделей-3\"><span class=\"toc-item-num\">3&nbsp;&nbsp;</span>Обучение моделей</a></span><ul class=\"toc-item\"><li><span><a href=\"#Разделение-выборки\" data-toc-modified-id=\"Разделение-выборки-3.1\"><span class=\"toc-item-num\">3.1&nbsp;&nbsp;</span>Разделение выборки</a></span></li><li><span><a href=\"#Подбор-гиперпараметров-и-оценка-качества\" data-toc-modified-id=\"Подбор-гиперпараметров-и-оценка-качества-3.2\"><span class=\"toc-item-num\">3.2&nbsp;&nbsp;</span>Подбор гиперпараметров и оценка качества</a></span></li></ul></li><li><span><a href=\"#Проверка-модели\" data-toc-modified-id=\"Проверка-модели-4\"><span class=\"toc-item-num\">4&nbsp;&nbsp;</span>Проверка модели</a></span></li><li><span><a href=\"#Выводы\" data-toc-modified-id=\"Выводы-5\"><span class=\"toc-item-num\">5&nbsp;&nbsp;</span>Выводы</a></span></li></ul></div>"
   ]
  },
  {
   "cell_type": "markdown",
   "id": "27c49430",
   "metadata": {},
   "source": [
    "## Загрузка данных и ресемплирование"
   ]
  },
  {
   "cell_type": "code",
   "execution_count": null,
   "id": "3dcdbfc4",
   "metadata": {},
   "outputs": [],
   "source": [
    "import numpy as np\n",
    "import pandas as pd\n",
    "from statsmodels.tsa.seasonal import seasonal_decompose\n",
    "from statsmodels.tsa.stattools import adfuller\n",
    "\n",
    "import matplotlib.pyplot as plt\n",
    "import seaborn as sns\n",
    "\n",
    "from sklearn.model_selection import train_test_split, GridSearchCV\n",
    "from sklearn.linear_model import Lasso\n",
    "from sklearn.tree import DecisionTreeRegressor\n",
    "from sklearn.ensemble import RandomForestRegressor\n",
    "from lightgbm import LGBMRegressor\n",
    "from sklearn.metrics import mean_squared_error\n",
    "\n",
    "import warnings\n",
    "warnings.simplefilter(action='ignore', category=FutureWarning)"
   ]
  },
  {
   "cell_type": "markdown",
   "id": "50bba8bb",
   "metadata": {},
   "source": [
    "<div class=\"alert alert-block alert-success\">\n",
    "<b>Успех:</b> Импорты  на месте\n",
    "</div>"
   ]
  },
  {
   "cell_type": "code",
   "execution_count": null,
   "id": "c9539458",
   "metadata": {},
   "outputs": [],
   "source": [
    "RSTATE = 70707"
   ]
  },
  {
   "cell_type": "code",
   "execution_count": null,
   "id": "68e331b5",
   "metadata": {},
   "outputs": [],
   "source": [
    "try:\n",
    "    df = pd.read_csv('/datasets/taxi.csv', index_col=[0], parse_dates=[0])\n",
    "except:\n",
    "    df = pd.read_csv('taxi.csv', index_col=[0], parse_dates=[0])"
   ]
  },
  {
   "cell_type": "code",
   "execution_count": null,
   "id": "5ff3f10d",
   "metadata": {},
   "outputs": [],
   "source": [
    "display(df.info())\n",
    "display(df.head())"
   ]
  },
  {
   "cell_type": "markdown",
   "id": "509a4895",
   "metadata": {},
   "source": [
    "Исходные данные: 26496 записей (1 марта 2018 года по 31 августа 2018 года), шаг - 10 минут."
   ]
  },
  {
   "cell_type": "markdown",
   "id": "885ad743",
   "metadata": {},
   "source": [
    "Сделаем ресемплирование данных по одному часу."
   ]
  },
  {
   "cell_type": "code",
   "execution_count": null,
   "id": "52aa8246",
   "metadata": {},
   "outputs": [],
   "source": [
    "df_hours = df.resample('1H').sum()"
   ]
  },
  {
   "cell_type": "markdown",
   "id": "d34d0188",
   "metadata": {},
   "source": [
    "<div class=\"alert alert-block alert-success\">\n",
    "<b>Успех:</b> Данные осмотрены, ресемпилнг был сделан верно.\n",
    "</div>\n"
   ]
  },
  {
   "cell_type": "code",
   "execution_count": null,
   "id": "dd121a3d",
   "metadata": {},
   "outputs": [],
   "source": [
    "display(df_hours.info())\n",
    "display(df_hours.head())"
   ]
  },
  {
   "cell_type": "markdown",
   "id": "70db59d0",
   "metadata": {},
   "source": [
    "## Анализ данных"
   ]
  },
  {
   "cell_type": "markdown",
   "id": "0944909b",
   "metadata": {},
   "source": [
    "### Базовый анализ"
   ]
  },
  {
   "cell_type": "markdown",
   "id": "267cd3ed",
   "metadata": {},
   "source": [
    "Построим график изменения количества заказов такси во времени."
   ]
  },
  {
   "cell_type": "code",
   "execution_count": null,
   "id": "af83d48c",
   "metadata": {
    "scrolled": false
   },
   "outputs": [],
   "source": [
    "plt.figure(figsize=(10, 6))\n",
    "sns.lineplot(x=df_hours.index, y=df_hours['num_orders']).set(title='Изменение количества заказов по часам');"
   ]
  },
  {
   "cell_type": "markdown",
   "id": "03aa2fef",
   "metadata": {},
   "source": [
    "Уже по этому графику видно, что количество заказов растёт."
   ]
  },
  {
   "cell_type": "markdown",
   "id": "d5da0905",
   "metadata": {},
   "source": [
    "<div class=\"alert alert-block alert-success\">\n",
    "<b>Успех:</b> Верно, если сделать чисто для анализа, дополнительный ресемплинг по дням график тоже может быть информативным.\n",
    "</div>\n"
   ]
  },
  {
   "cell_type": "markdown",
   "id": "f180049d",
   "metadata": {},
   "source": [
    "<div class=\"alert alert-block alert-warning\">\n",
    "<b>Изменения:</b> Добавил ресемплинг и график по дням.\n",
    "</div>"
   ]
  },
  {
   "cell_type": "code",
   "execution_count": null,
   "id": "74cd9793",
   "metadata": {},
   "outputs": [],
   "source": [
    "df_days = df.resample('1D').sum()\n",
    "plt.figure(figsize=(10, 6))\n",
    "sns.lineplot(x=df_days.index, y=df_days['num_orders']).set(title='Изменение количества заказов по дням');"
   ]
  },
  {
   "cell_type": "markdown",
   "id": "0ef4ad0a",
   "metadata": {},
   "source": [
    "Рост количества заказов по дням ещё более очевиден. Хотя заметна и периодичность."
   ]
  },
  {
   "cell_type": "markdown",
   "id": "90e06d20",
   "metadata": {},
   "source": [
    "Построим гистограмму."
   ]
  },
  {
   "cell_type": "code",
   "execution_count": null,
   "id": "0d34a83d",
   "metadata": {
    "scrolled": false
   },
   "outputs": [],
   "source": [
    "plt.figure(figsize=(10, 6))\n",
    "sns.histplot(df_hours['num_orders']).set(title='Распределение количества заказов');"
   ]
  },
  {
   "cell_type": "markdown",
   "id": "280367c4",
   "metadata": {},
   "source": [
    "Распределение должно хорошо описываться распределением Пуассона, приближающимся к нормальному. Заметен длинный правый хвост."
   ]
  },
  {
   "cell_type": "markdown",
   "id": "97d61f6e",
   "metadata": {},
   "source": [
    "### Стационарность и сезонность"
   ]
  },
  {
   "cell_type": "markdown",
   "id": "41e30251",
   "metadata": {},
   "source": [
    "Сделаем декомпозицию изменения количества заказов во времени."
   ]
  },
  {
   "cell_type": "code",
   "execution_count": null,
   "id": "03fb7b51",
   "metadata": {},
   "outputs": [],
   "source": [
    "# функция принимает датафрейм и строит графики декомпозиции\n",
    "def get_decomp(data):\n",
    "    ts_decomp = seasonal_decompose(data['num_orders'])\n",
    "    decomp = ts_decomp.trend, ts_decomp.seasonal, ts_decomp.resid\n",
    "    fig, axes = plt.subplots(nrows=3, ncols=1, figsize=(8, 16))\n",
    "    for i, ax in enumerate(axes):\n",
    "        sns.lineplot(ax=ax, x=data.index, y=decomp[i])\n",
    "        ax.set_title(f'{decomp[i].name.upper()}')\n",
    "    plt.tight_layout()\n",
    "    plt.show()"
   ]
  },
  {
   "cell_type": "markdown",
   "id": "612a8349",
   "metadata": {},
   "source": [
    "\n",
    "\n",
    "<div class=\"alert alert-block alert-info\">\n",
    "<b>Совет:</b> Хочу озвучить ещё такой момент<br>\n",
    "В реальности бизнеса есть все три вида сезонности:<br>\n",
    "1) дневная сезонность -  данные собраны по дням, т.е. будни и выходные имеют разные продажи<br>\n",
    "2) внутрисуточная сезонность: когда продажи утром отличаются от продаж вечером <br>\n",
    "3) месячная сезонность: когда продажи лета и осени - разные.<br><br>\n",
    "И если строить прогноз на длительный период времени, то без учёта всех видов сезонности  - не обойтись<br>\n",
    "</div>\n"
   ]
  },
  {
   "cell_type": "markdown",
   "id": "3492726c",
   "metadata": {},
   "source": [
    "<div class=\"alert alert-block alert-warning\">\n",
    "<b>Изменения:</b> Добавил декомпозицию по дням.\n",
    "</div>"
   ]
  },
  {
   "cell_type": "markdown",
   "id": "619df05d",
   "metadata": {},
   "source": [
    "Декомпозиция по часам"
   ]
  },
  {
   "cell_type": "code",
   "execution_count": null,
   "id": "2e52d900",
   "metadata": {},
   "outputs": [],
   "source": [
    "# графики декомпозиции (часы)\n",
    "get_decomp(df_hours)"
   ]
  },
  {
   "cell_type": "markdown",
   "id": "15916e4a",
   "metadata": {},
   "source": [
    "Декомпозиция по дням"
   ]
  },
  {
   "cell_type": "code",
   "execution_count": null,
   "id": "cc55ece8",
   "metadata": {},
   "outputs": [],
   "source": [
    "# графики декомпозиции (дни)\n",
    "get_decomp(df.resample('1D').sum())"
   ]
  },
  {
   "cell_type": "markdown",
   "id": "7316468e",
   "metadata": {},
   "source": [
    "На декомпозиции хорошо заметен тренд; периодичность сезонности связана, вероятно, с суточными и дневными изменениями; есть \"случайные выбросы\" в августе."
   ]
  },
  {
   "cell_type": "markdown",
   "id": "e14743eb",
   "metadata": {},
   "source": [
    "<div class=\"alert alert-block alert-success\">\n",
    "<b>Успех:</b> Декомпозиция была сделана верно.\n",
    "</div>\n"
   ]
  },
  {
   "cell_type": "markdown",
   "id": "7b67f243",
   "metadata": {},
   "source": [
    "<div class=\"alert alert-block alert-info\">\n",
    "    \n",
    "<b>Совет:</b> Дополнительно   ползено оценивать стационарность ряда с помощью теста Дики-Фуллера: в реальных задачах с временными рядами, в особенности - с финансовыми данными или биржевыми котировками, график не всегда поможет достоверно оценить стационарность ряда, поэтому для оценки стационарности ряда лучше использовать тест Дики — Фуллера (подробнее о нём можно глянуть тут: https://www.statsmodels.org/dev/generated/statsmodels.tsa.stattools.adfuller.html, а вот тут можно глянуть пример реализации: https://www.helenkapatsa.ru/tiest-diki-fulliera/) - он даст наиболее точный результат. Результат нужно проверить на уровнях значимости 1% и 5%, чтобы быть уверенным в выводах. Не забудь при применении теста сформулировать гипотезы - нулевая формулируется как гипотеза о нестацинарности ряда, а альтернативная - как гипотеза о стационарности ряда. Также при проведении теста не забывай, что мы сравниваем `p-value` с уровнем значимости `alpha`.\n",
    "</div>\n"
   ]
  },
  {
   "cell_type": "markdown",
   "id": "9e91f637",
   "metadata": {},
   "source": [
    "<div class=\"alert alert-block alert-warning\">\n",
    "<b>Изменения:</b> Добавил оценку Дики-Фуллера.\n",
    "</div>"
   ]
  },
  {
   "cell_type": "markdown",
   "id": "e08716ec",
   "metadata": {},
   "source": [
    "Проверим временной ряд количества заказов на стационарность методом Дики-Фуллера для уровней значимости 1% и 5%."
   ]
  },
  {
   "cell_type": "markdown",
   "id": "5a530d53",
   "metadata": {},
   "source": [
    "**Нулевая гипотеза:** временной ряд нестационарный.<br>\n",
    "<center>$H_0$(есть единичный корень)</center><br>\n",
    "\n",
    "**Альтернативная гипотеза:** временной ряд стационарный.<br>\n",
    "<center>$H_1$(нет единичного корня)</center>"
   ]
  },
  {
   "cell_type": "code",
   "execution_count": null,
   "id": "f780c020",
   "metadata": {},
   "outputs": [],
   "source": [
    "adf_test = adfuller(df_hours)\n",
    "print(f'adf-stat: {adf_test[0]}')\n",
    "print(f'p-value: {adf_test[1]}')\n",
    "print(f'Critical values: {adf_test[4]}')\n",
    "if adf_test[0] > adf_test[4]['5%']:\n",
    "    print('alpha = 5%: Нет оснований отвергнуть нулевую гипотезу: ряд нестационарен')\n",
    "else:\n",
    "    print('alpha = 5%: Есть основания отвергнуть нулевую гипотезу: ряд стационарен')\n",
    "    if adf_test[0] > adf_test[4]['1%']:\n",
    "        print('alpha = 1%: Нет оснований отвергнуть нулевую гипотезу: ряд нестационарен')\n",
    "    else:\n",
    "        print('alpha = 1%: Есть основания отвергнуть нулевую гипотезу: ряд стационарен')"
   ]
  },
  {
   "cell_type": "markdown",
   "id": "a827ba86",
   "metadata": {},
   "source": [
    "Временной ряд количества заказов может считаться **стационарным** при уровне статистической значимости **5%**."
   ]
  },
  {
   "cell_type": "markdown",
   "id": "0943b0cc",
   "metadata": {},
   "source": [
    "<div class=\"alert alert-block alert-info\">\n",
    "    \n",
    "<b>Совет[2]:</b>\n",
    "    \n",
    "В строгом смысле наш ряд не является стационарным, потому что имеет не только тренд, но еще и с августа - ускорение (квадратичный тренд). Дисперсия также непостоянна.\n",
    "    \n",
    "Однако есть методы, с помощью которых можно попытаться привести ряд к стационарному. Например, если возьмем разность временного ряда, то уберем тренд. Если применим преодразование Бокса-Кокса, то уберем неоднородность дисперсии. Можно взять разность по сезонности и уберем сезонность.\n",
    "    \n",
    "Наши модели могут предсказывать ряд без всех этих преобразований. Делать преобразования нам не нужно. Можно просто протестировать, приводим ли наш ряд к стационарному. Часто в задачах ML ряд, приводимый к стационарному для простоты называют стационарным. Однако строго по определению он таковым не является.\n",
    "\n",
    "\n",
    "\n"
   ]
  },
  {
   "cell_type": "markdown",
   "id": "214a2d15",
   "metadata": {},
   "source": [
    "### Создание дополнительных признаков"
   ]
  },
  {
   "cell_type": "markdown",
   "id": "e3968f5b",
   "metadata": {},
   "source": [
    "Так как год только один (2018), и нам при этом важно, в какое время суток происходят заказы такси, то создадим следующие признаки: месяц, день, день недели, час."
   ]
  },
  {
   "cell_type": "raw",
   "id": "b7d3a1c9",
   "metadata": {},
   "source": [
    "# функция создаёт признаки: календарные, \"отстающие\", скользящее среднее\n",
    "def make_features(df, n_lags=0, n_roll=0):\n",
    "    # календарные\n",
    "    df['month'] = df.index.month\n",
    "    df['day'] = df.index.day\n",
    "    df['dayofweek'] = df.index.dayofweek\n",
    "    df['hour'] = df.index.hour\n",
    "    # \"отстающие\"\n",
    "    if n_lags > 0:\n",
    "        for i in range(1, n_lags + 1):\n",
    "            df[f'lag_{i}'] = df['num_orders'].shift(i)\n",
    "    # скользящее среднее (со сдвигом, чтобы не \"смотреть в будущее\")\n",
    "    if n_roll > 0:\n",
    "        df[f'rolling_mean_{n_roll}'] = df['num_orders'].shift().rolling(n_roll).mean()"
   ]
  },
  {
   "cell_type": "markdown",
   "id": "9367248d",
   "metadata": {},
   "source": [
    "\n",
    "<div class=\"alert alert-info\">\n",
    "<b>Совет:</b>\n",
    "Организация работы функции таким образом, чтобы она работала с глобальной переменной - не самая хорошая практика: если что-то пойдёт не так, придётся заново запускать весь процесс предобработки данных. \n",
    "        \n",
    "Лучше организовывать функцию так, чтобы она принимала на вход набор данных и возвращала результат работы, чтобы его можно было сохранить в новой переменной. Концепт:\n",
    "        \n",
    "    def foo(df):\n",
    "        df.dropna(inplace=True)\n",
    "    \n",
    "    foo(df)\n",
    "        \n",
    "В этом случае изменения необратимы, так как мы модифицировали глобальную переменную `df` - эту переменную придётся загружать в память заново и заново её обрабатывать.\n",
    "        \n",
    "\n",
    "    def foo(df):\n",
    "        return df.dropna()\n",
    "    \n",
    "    foo(df)\n",
    "        \n",
    "        \n",
    "Изменения будут необратимы и в таком случае, даже несмотря на на наличие `return`: несмотря на то, что работаем мы с локальной переменной, функция всё равно работает с объектом в памяти, связанным с глобальной переменной, пусть и через алиас.\n",
    "        \n",
    "    def foo(df):\n",
    "        df_foo = df.copy()\n",
    "        return df_foo.dropna()\n",
    "    \n",
    "    df_new = foo(df)\n",
    "        \n",
    "Здесь внутри функции исходный объект копируется, и работа уже происходит с новым объектом. В этом случае результат работы функции с исходными данными мы складываем в новую переменную - таким образом исходная глобальная переменная не подвергается вмешательству и сохранятся на случай, если функция сработала неправильно.\n",
    "        \n",
    "</div>\n"
   ]
  },
  {
   "cell_type": "markdown",
   "id": "2e3b2849",
   "metadata": {},
   "source": [
    "<div class=\"alert alert-block alert-warning\">\n",
    "<b>Комментарий:</b> Да, спасибо. Я как-то не подумал об этом.\n",
    "</div>"
   ]
  },
  {
   "cell_type": "markdown",
   "id": "5fe4a6b5",
   "metadata": {},
   "source": [
    "<div class=\"alert alert-block alert-warning\">\n",
    "<b>Изменения:</b> Скорректировал функцию ниже.\n",
    "</div>"
   ]
  },
  {
   "cell_type": "markdown",
   "id": "4943cd2c",
   "metadata": {},
   "source": [
    "\n",
    "<div class=\"alert alert-block alert-success\">\n",
    "<b>Успех[2]:</b> Есть контакт\n",
    "</div>"
   ]
  },
  {
   "cell_type": "markdown",
   "id": "c2898334",
   "metadata": {},
   "source": [
    "\n",
    "<div class=\"alert alert-block alert-danger\">\n",
    "<b>Ошибка:</b> Не все выбранные признаки нам подходят:\n",
    "    \n",
    "1) Фактор месяц: Аналогично году, у нас в истории всего один март, май.... Да и горизонт прогноза - часы. Поэтому сезонность времени года будет просто в тренде уже заложена.\n",
    "    \n",
    "2) Фактор день: Будет просто последовательность чисел\n",
    "\n",
    "А с остальными вроде все отлично\n",
    "</div>\t\t\n",
    "    "
   ]
  },
  {
   "cell_type": "markdown",
   "id": "3bcc26bf",
   "metadata": {},
   "source": [
    "<div class=\"alert alert-block alert-warning\">\n",
    "<b>Комментарий:</b> Я подумал, что есть же какая-то зависимость от месяца, потому и оставил. Если я правильно тебя понял: если во временном ряду период (например, месяц) встречает только раз, то он не учитывается.<br>\n",
    "    Мог бы ты объяснить, почему сезонность времени года будет заложена в тренде? Зачем мы тогда делаем дополнительные признаки?\n",
    "</div>"
   ]
  },
  {
   "cell_type": "markdown",
   "id": "da2fc578",
   "metadata": {},
   "source": [
    "\n",
    "<div class=\"alert alert-block alert-info\">\n",
    "<b>Совет[2]:</b> \n",
    "    \n",
    "Да, если данных меньше года, то факторы месяца и года нет смысла использовать\n",
    "    \n",
    "Также добавлю пару строк про lag и скользящее среднее. Скользящее среднее может включать в себя общие тренды и частично сглаживать сезонные колебания, но оно не всегда идеально подходит для извлечения сезонной информации (поэтому дополнительные признаки могут быть полезны). Все зависит от размера окна скользящего среднего и структуры самих данных.\n",
    "\n",
    "Если размер окна скользящего среднего слишком большой, оно может слишком сильно усреднять данные, включая сезонные колебания. Если размер окна слишком маленький, оно может быть чувствительным к шуму и не сможет достаточно эффективно сглаживать сезонные изменения.\n",
    "    \n",
    "    \n",
    "Предположим rolling=10 - скользящее среднее. По сути, ищем среднее по 10 точкам, потом следующие 10 точек, и т.д. - это некое подобие тренда будет - средней линии. Т.е. - сглаживание колебаний/выбросов. Это легко увидеть на пределе: допустим длина ряда 100 дней. rolling(100) - это просто одно число - среднее всего ряда. <br><br><br>\n",
    "    \n",
    "     \n",
    "Также про Lag: его называют ещё параметром авторегрессии.<br>Допустим lag=1 - учитывает (для удобства будем считать, что продажи собраны по дням) как вчерашние продажи - вчерашние события - влияют на сегодняшние.<br>Lag=2: учитывает как позавчерашние продажи влияютна сегодняшние.....<br><br><br>\n",
    "    \n",
    "**Обычно так происходит поиск параметров:**\n",
    "\n",
    "1) узнаём , какая у нас сезонность: в нашем случае их две - часовая и день недели (суточная и недельная)<br>\n",
    "2) Узнайм, какой у нас тренд. пусть будет пока rolling (24) - сутки<br>\n",
    "3) строим модель (без лагов).<br>\n",
    "4) строим график автокорреляции остатков (факт - прогноз). Если видим \"зубья\" на сезонных лагах: 24, 24*7 - то мы плохо жанной моделью учли сезонность.<br>\n",
    "Если высокий \"зуб\"(столбец на графике) на на первом лаге, то ндо вводить в модель фактор lag=1.\n",
    "и перестроить модель. И так по кругу.<br><br>\n",
    "    \n",
    "Поэтому, если выставить сезонности - час и день недели, то дополнительные факторы желательно делать такие: лаг =1 (максимум 2), а скользящее среднее = 24 (среднее за сутки). Т.е. начинать с этого. В итоге модель будет приемлемая по точности и не много факторов.. а это значит и для бизнеса будет легче доносить решение)\n",
    "    \n",
    "    \n",
    "</div>"
   ]
  },
  {
   "cell_type": "markdown",
   "id": "c85e4dc4",
   "metadata": {},
   "source": [
    "<div class=\"alert alert-block alert-warning\">\n",
    "<b>Изменения:</b> Убрал создание лишних признаков в функции ниже.\n",
    "</div>"
   ]
  },
  {
   "cell_type": "markdown",
   "id": "091b3b1f",
   "metadata": {},
   "source": [
    "\n",
    "<div class=\"alert alert-block alert-success\">\n",
    "    \n",
    "<b>Успех[2]:</b> 👍\n",
    "</div>\n"
   ]
  },
  {
   "cell_type": "code",
   "execution_count": null,
   "id": "667abb55",
   "metadata": {},
   "outputs": [],
   "source": [
    "# функция создаёт признаки: календарные, \"отстающие\", скользящее среднее\n",
    "def make_features(df, n_lags=0, n_roll=0):\n",
    "    data = df.copy()\n",
    "    # календарные\n",
    "    data['dayofweek'] = data.index.dayofweek\n",
    "    data['hour'] = data.index.hour\n",
    "    # \"отстающие\"\n",
    "    if n_lags > 0:\n",
    "        for i in range(1, n_lags + 1):\n",
    "            data[f'lag_{i}'] = data['num_orders'].shift(i)\n",
    "    # скользящее среднее (со сдвигом, чтобы не \"смотреть в будущее\")\n",
    "    if n_roll > 0:\n",
    "        data[f'rolling_mean_{n_roll}'] = data['num_orders'].shift().rolling(n_roll).mean()\n",
    "    return data"
   ]
  },
  {
   "cell_type": "markdown",
   "id": "253f8b00",
   "metadata": {},
   "source": [
    "<div class=\"alert alert-block alert-warning\">\n",
    "<b>Изменения:</b> Создал больше признаков для обучения.\n",
    "</div>"
   ]
  },
  {
   "cell_type": "markdown",
   "id": "d275aac0",
   "metadata": {},
   "source": [
    "Создадим следующие признаки: \n",
    "* день недели\n",
    "* час\n",
    "* 5 отстающих признаков\n",
    "* скользящее среднее по 30 дням"
   ]
  },
  {
   "cell_type": "code",
   "execution_count": null,
   "id": "8ee6aa38",
   "metadata": {},
   "outputs": [],
   "source": [
    "df_hours1 = make_features(df_hours, n_lags=5, n_roll=30)\n",
    "df_hours1.head(10)"
   ]
  },
  {
   "cell_type": "markdown",
   "id": "37b921ca",
   "metadata": {},
   "source": [
    "Рассмотрим зависимость количества заказов от дня недели и часа."
   ]
  },
  {
   "cell_type": "code",
   "execution_count": null,
   "id": "032fb8e6",
   "metadata": {
    "scrolled": false
   },
   "outputs": [],
   "source": [
    "cols = df_hours1.columns[[1, 2]]\n",
    "fig, axes = plt.subplots(nrows=len(cols), ncols=1, figsize=(8, 10))\n",
    "for i, ax in enumerate(axes):\n",
    "    sns.barplot(ax=ax, x=df_hours1[cols[i]], y=df_hours1['num_orders'])\n",
    "    ax.set_title(f'Количество заказов = f({cols[i]})')\n",
    "plt.tight_layout()\n",
    "plt.show()"
   ]
  },
  {
   "cell_type": "markdown",
   "id": "5baa8c38",
   "metadata": {},
   "source": [
    "На графиках видно:\n",
    "* есть слабая зависимость от дня недели (в четверг и воскресенье больше заказов, а в понедельник меньше всего);\n",
    "* количество заказов такси растёт к ночи, есть заметные пики в районе 9-10 часов и 16-17 часов (утренний и вечерний час пик), также заметен резкий спад ранним утром (вероятно, просто в это время нет самолётов)."
   ]
  },
  {
   "cell_type": "markdown",
   "id": "a3c0389c",
   "metadata": {},
   "source": [
    "<div class=\"alert alert-block alert-success\">\n",
    "<b>Успех:</b> Наблюдение корректны.\n",
    "</div>\n"
   ]
  },
  {
   "cell_type": "markdown",
   "id": "22c2915d",
   "metadata": {},
   "source": [
    "Построим матрицу корреляции."
   ]
  },
  {
   "cell_type": "code",
   "execution_count": null,
   "id": "a885f23d",
   "metadata": {},
   "outputs": [],
   "source": [
    "df_hours1.corr().style.background_gradient(vmin=-1, vmax=1, cmap='Spectral')"
   ]
  },
  {
   "cell_type": "markdown",
   "id": "125ed96a",
   "metadata": {},
   "source": [
    "Заметны логичные взаимосвязи между признаками, связанными по времени."
   ]
  },
  {
   "cell_type": "markdown",
   "id": "7e95ba0c",
   "metadata": {},
   "source": [
    "## Обучение моделей"
   ]
  },
  {
   "cell_type": "markdown",
   "id": "c08623a9",
   "metadata": {},
   "source": [
    "### Разделение выборки"
   ]
  },
  {
   "cell_type": "markdown",
   "id": "44ff45de",
   "metadata": {},
   "source": [
    "Удалим образовавшиеся пустые значения."
   ]
  },
  {
   "cell_type": "code",
   "execution_count": null,
   "id": "2d75187f",
   "metadata": {},
   "outputs": [],
   "source": [
    "df_hours1 = df_hours1.dropna()"
   ]
  },
  {
   "cell_type": "markdown",
   "id": "d5a01859",
   "metadata": {},
   "source": [
    "Разделим выборку на обучающую, валидационную и тестовую части в соотношении 8:1:1."
   ]
  },
  {
   "cell_type": "code",
   "execution_count": null,
   "id": "90da5982",
   "metadata": {},
   "outputs": [],
   "source": [
    "features = df_hours1.drop('num_orders', axis=1)\n",
    "target = df_hours1['num_orders']\n",
    "\n",
    "X_train, X_test, y_train, y_test = train_test_split(features, target, shuffle=False, test_size=0.1)\n",
    "X_train1, X_valid, y_train1, y_valid = train_test_split(X_train, y_train, shuffle=False, test_size=0.111)\n",
    "print(f'Train features: {X_train1.shape}')\n",
    "print(f'Test  features: {X_test.shape}')\n",
    "print(f'Valid features: {X_valid.shape}')\n",
    "print(f'Train target:   {y_train1.shape}')\n",
    "print(f'Test  target:   {y_valid.shape}')\n",
    "print(f'Valid target:   {y_test.shape}')"
   ]
  },
  {
   "cell_type": "markdown",
   "id": "b3f9f46f",
   "metadata": {},
   "source": [
    "### Подбор гиперпараметров и оценка качества"
   ]
  },
  {
   "cell_type": "markdown",
   "id": "4839a2a1",
   "metadata": {},
   "source": [
    "Для моделирования выбраны четыре модели: Lasso, решающее дерево, случайный лес и LightGBM."
   ]
  },
  {
   "cell_type": "markdown",
   "id": "9c459298",
   "metadata": {},
   "source": [
    "**Lasso Linear Regression**"
   ]
  },
  {
   "cell_type": "code",
   "execution_count": null,
   "id": "8d3e78e7",
   "metadata": {},
   "outputs": [],
   "source": [
    "lasso_best_params = {'alpha': None}\n",
    "lasso_best_rmse = np.inf\n",
    "for alpha in [0.001, 0.005, 0.01, 0.05, 0.1]:\n",
    "    lasso = Lasso(random_state=RSTATE, alpha=alpha)\n",
    "    lasso.fit(X_train1, y_train1)\n",
    "    y_pred = lasso.predict(X_valid)\n",
    "    rmse = mean_squared_error(y_valid, y_pred, squared=False)\n",
    "    if rmse < lasso_best_rmse:\n",
    "        lasso_best_rmse = rmse\n",
    "        lasso_best_params['alpha'] = alpha\n",
    "\n",
    "print(f'Lasso: params={lasso_best_params} rmse={lasso_best_rmse}')"
   ]
  },
  {
   "cell_type": "markdown",
   "id": "be766b9d",
   "metadata": {},
   "source": [
    "**Decision Tree**"
   ]
  },
  {
   "cell_type": "code",
   "execution_count": null,
   "id": "66cbd401",
   "metadata": {
    "scrolled": false
   },
   "outputs": [],
   "source": [
    "dtree_best_params = {'max_depth': None}\n",
    "dtree_best_rmse = np.inf\n",
    "for max_depth in range(1, 21):\n",
    "    dtree = DecisionTreeRegressor(random_state=RSTATE, max_depth=max_depth)\n",
    "    dtree.fit(X_train1, y_train1)\n",
    "    y_pred = dtree.predict(X_valid)\n",
    "    rmse = mean_squared_error(y_valid, y_pred, squared=False)\n",
    "    if rmse < dtree_best_rmse:\n",
    "        dtree_best_rmse = rmse\n",
    "        dtree_best_params['max_depth'] = max_depth\n",
    "\n",
    "print(f'DecisionTree: params={dtree_best_params} rmse={dtree_best_rmse}')"
   ]
  },
  {
   "cell_type": "markdown",
   "id": "73977f44",
   "metadata": {},
   "source": [
    "**Random Forest**"
   ]
  },
  {
   "cell_type": "code",
   "execution_count": null,
   "id": "806eb1cf",
   "metadata": {
    "scrolled": true
   },
   "outputs": [],
   "source": [
    "rforest_best_params = {'n_estimators': None, 'max_depth': None}\n",
    "rforest_best_rmse = np.inf\n",
    "for n_estimators in range(50, 101, 10):\n",
    "    for max_depth in range(1, 21):\n",
    "        rforest = RandomForestRegressor(random_state=RSTATE, \n",
    "                                        n_estimators=n_estimators, \n",
    "                                        max_depth=max_depth, \n",
    "                                        n_jobs=-1\n",
    "                                       )\n",
    "        rforest.fit(X_train1, y_train1)\n",
    "        y_pred = rforest.predict(X_valid)\n",
    "        rmse = mean_squared_error(y_valid, y_pred, squared=False)\n",
    "        if rmse < rforest_best_rmse:\n",
    "            rforest_best_rmse = rmse\n",
    "            rforest_best_params['n_estimators'] = n_estimators\n",
    "            rforest_best_params['max_depth'] = max_depth\n",
    "\n",
    "print(f'RandomForest: params={rforest_best_params} rmse={rforest_best_rmse}')"
   ]
  },
  {
   "cell_type": "markdown",
   "id": "592abb7a",
   "metadata": {},
   "source": [
    "**LightGBM**"
   ]
  },
  {
   "cell_type": "code",
   "execution_count": null,
   "id": "53aebf3a",
   "metadata": {
    "scrolled": true
   },
   "outputs": [],
   "source": [
    "lgb_best_params = {'n_estimators': None, 'max_depth': None, 'learning_rate': None}\n",
    "lgb_best_rmse = np.inf\n",
    "for n_estimators in range(50, 111, 10):\n",
    "    for max_depth in range(1, 11):\n",
    "        for learning_rate in np.arange(0.1, 1.1, 0.1):\n",
    "            lgbreg = LGBMRegressor(random_state=RSTATE, \n",
    "                                   n_estimators=n_estimators, \n",
    "                                   max_depth=max_depth, \n",
    "                                   learning_rate=learning_rate,\n",
    "                                   num_leaves=10,\n",
    "                                   n_jobs=-1, \n",
    "                                   verbose=-1                                   \n",
    "                                  )\n",
    "            lgbreg.fit(X_train1, y_train1)\n",
    "            y_pred = lgbreg.predict(X_valid)\n",
    "            rmse = mean_squared_error(y_valid, y_pred, squared=False)\n",
    "            if rmse < lgb_best_rmse:\n",
    "                lgb_best_rmse = rmse\n",
    "                lgb_best_params['n_estimators'] = n_estimators\n",
    "                lgb_best_params['max_depth'] = max_depth\n",
    "                lgb_best_params['learning_rate'] = round(learning_rate, 1)\n",
    "\n",
    "print(f'LightGBM: params={lgb_best_params} rmse={lgb_best_rmse}')"
   ]
  },
  {
   "cell_type": "markdown",
   "id": "58a52e08",
   "metadata": {},
   "source": [
    "Лучшее качество на валидации показала модель LightGBM (**rmse=30.499**), её и выберем для проверки качества на тестовой выборке."
   ]
  },
  {
   "cell_type": "markdown",
   "id": "bee6512d",
   "metadata": {},
   "source": [
    "<div class=\"alert alert-block alert-success\">\n",
    "<b>Успех:</b> Валидационная выборка была корректно использована\n",
    "</div>\n"
   ]
  },
  {
   "cell_type": "markdown",
   "id": "93fece0d",
   "metadata": {},
   "source": [
    "## Проверка модели"
   ]
  },
  {
   "cell_type": "markdown",
   "id": "efb5a098",
   "metadata": {},
   "source": [
    "Обучим модель на полной обучающей выборке."
   ]
  },
  {
   "cell_type": "code",
   "execution_count": null,
   "id": "d08c55be",
   "metadata": {},
   "outputs": [],
   "source": [
    "lgbreg = LGBMRegressor(random_state=RSTATE, \n",
    "                       n_estimators=lgb_best_params['n_estimators'], \n",
    "                       max_depth=lgb_best_params['max_depth'], \n",
    "                       learning_rate=lgb_best_params['learning_rate'],\n",
    "                       num_leaves=10,\n",
    "                       n_jobs=-1, \n",
    "                       verbose=-1\n",
    "                      )\n",
    "lgbreg.fit(X_train, y_train)"
   ]
  },
  {
   "cell_type": "markdown",
   "id": "7a6c53d7",
   "metadata": {},
   "source": [
    "Оценим качество обученной модели на тестовой выборке."
   ]
  },
  {
   "cell_type": "code",
   "execution_count": null,
   "id": "a85b0e72",
   "metadata": {},
   "outputs": [],
   "source": [
    "y_pred = lgbreg.predict(X_test)\n",
    "print(f'Лучшая модель: rmse = {mean_squared_error(y_test, y_pred, squared=False)}')"
   ]
  },
  {
   "cell_type": "markdown",
   "id": "25b2d61a",
   "metadata": {},
   "source": [
    "Полученное значение **rmse=42.925** удовлетворяет критерию задания."
   ]
  },
  {
   "cell_type": "markdown",
   "id": "1f536040",
   "metadata": {},
   "source": [
    "Сравним с тривиальной моделью (прогноз предыдущим значением ряда)."
   ]
  },
  {
   "cell_type": "code",
   "execution_count": null,
   "id": "1df7cfe8",
   "metadata": {},
   "outputs": [],
   "source": [
    "y_dummy = y_test.shift(fill_value=y_train.iloc[-1])\n",
    "print(f'Тривиальная модель: rmse = {mean_squared_error(y_test, y_dummy, squared=False)}')"
   ]
  },
  {
   "cell_type": "markdown",
   "id": "215e8eb1",
   "metadata": {},
   "source": [
    "Метрика тривиальной модели оказалась хуже. Выбранная модель даёт лучший прогноз."
   ]
  },
  {
   "cell_type": "markdown",
   "id": "5ea4093a",
   "metadata": {},
   "source": [
    "<div class=\"alert alert-block alert-success\">\n",
    "<b>Успех:</b> С тестированием все в порядке,  получено неплохое качество на тесте\n",
    "</div>\n"
   ]
  },
  {
   "cell_type": "markdown",
   "id": "e14868f7",
   "metadata": {},
   "source": [
    "## Выводы"
   ]
  },
  {
   "cell_type": "markdown",
   "id": "341f7cf1",
   "metadata": {},
   "source": [
    "1. Исходные данные (с 10-минутной дискретизацией) были ресемплированы с разрядкой в 1 час;\n",
    "2. Заметны тренд на рост количества заказов, суточные колебания, сильные выбросы количества заказов в августе;\n",
    "3. Были созданы признаки: день недели, час, три \"лага\", 30-ти дневное скользящее среднее;\n",
    "4. С каждым месяцем количество заказов растёт, количество заказов слабо зависит от дня недели, заметны колебания числа заказов в течение суток (ночью чаще, так как общественный транспорт ночью не ходит);\n",
    "5. Выборка была разделена, прогноз должен производиться для последних 10% данных временного ряда;\n",
    "6. Были обучены четыре модели: Lasso, решающее дерево, случайный лес и LightGBM, для них подобраны гиперпараметры;\n",
    "7. Лучшая модель на валидации (LightGBM) была проверена на тестовой выборке: метрика **RMSE = 42.925**, при этом это значение лучше, чем при тривиальном прогнозе предыдущим значением ряда;\n",
    "8. Лучшая модель справляется со своей задачей и удовлетворяет критерию задания."
   ]
  },
  {
   "cell_type": "markdown",
   "id": "95f23281",
   "metadata": {},
   "source": [
    "<div class=\"alert alert-block alert-success\">\n",
    "<b>Успех:</b> Приятно видеть итоговый вывод!\n",
    "</div>\n"
   ]
  }
 ],
 "metadata": {
  "kernelspec": {
   "display_name": "Python 3 (ipykernel)",
   "language": "python",
   "name": "python3"
  },
  "language_info": {
   "codemirror_mode": {
    "name": "ipython",
    "version": 3
   },
   "file_extension": ".py",
   "mimetype": "text/x-python",
   "name": "python",
   "nbconvert_exporter": "python",
   "pygments_lexer": "ipython3",
   "version": "3.10.9"
  },
  "toc": {
   "base_numbering": 1,
   "nav_menu": {
    "height": "290.5px",
    "width": "423.5px"
   },
   "number_sections": true,
   "sideBar": true,
   "skip_h1_title": true,
   "title_cell": "Table of Contents",
   "title_sidebar": "Contents",
   "toc_cell": true,
   "toc_position": {},
   "toc_section_display": true,
   "toc_window_display": false
  }
 },
 "nbformat": 4,
 "nbformat_minor": 5
}
