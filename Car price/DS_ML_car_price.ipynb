{
 "cells": [
  {
   "cell_type": "markdown",
   "id": "4a19e1a6",
   "metadata": {},
   "source": [
    "<div class=\"alert alert-info\">\n",
    "<font size=\"5\"><b>Комментарий ревьюера</b></font>\n",
    "\n",
    "Привет Кирилл! Меня зовут Марат, и я буду твоим ревьюером. Спешу сообщить что все ключевые этапы в работе выполнены,  с задачей тебе удалось справиться. По поводу обращения - в IT сфере принято общаться на «ты» :) Но, если привычней на «вы», дай знать. Как ревьюера моя задача помочь тебе в развитии, дав хорошие советы. Я внимательно посмотрю твой код, ознакомлюсь с твоими выводами и оставлю комментарии. Где то могу предложить небольшие исправление в коде, но ненавязчиво. Где потребуются уточнения, я оставлю много наводящих вопросов. Они помогут тебя с поиском верного решения.\n",
    "\n",
    "Все мои комментарии размечены по цветам, для лучшего восприятия. \n",
    "    \n",
    "<div class=\"alert alert-success\">Зеленым цветом и словом «Успех» отмечены особо удачные и элегантные решения, которыми ты можешь гордиться. </div>\n",
    "        \n",
    "<div class=\"alert alert-warning\">Желтым и значком словом «Совет», помечены решения у которых есть альтернативные решения, более оптимальные. Ты можешь найти их сразу и доработать проект, или отложить это на потом, для будущих проектах. Проект будет принят и без их доработки. </div>\n",
    "        \n",
    "<div class=\"alert alert-danger\"> Красным цветом и значком словом «Ошибка» помечу твои решения, на которые стоит обратить внимание прежде всего. После их доработки проект будет принят. </div>\n",
    "        \n",
    "Залог успеха - работа сообща, взаимное уважение и работа в диалоге. Поэтому, помечай свои ответные комментарии на мои реплики заметным цветом или курсивом, так мне будет легче их отслеживать. Пожалуйста, не изменяй и не удаляй мои комментарии. Все это поможет выполнить повторную проверку быстрей.\n",
    "\n",
    "</div>"
   ]
  },
  {
   "cell_type": "markdown",
   "id": "d5166e08",
   "metadata": {},
   "source": [
    "<div style=\"background: #e1cfff; padding: 5px; border: 1px solid SteelBlue; border-radius: 5px;\">\n",
    "    <font color='black'>🦋<u><b>КОММЕНТАРИЙ СТУДЕНТА</b></u></font>\n",
    "    <br />\n",
    "    <font color='black'>Привет, Марат! Спасибо большое за советы, комментарии и подсказки! Особенно за всякие библиотеки и статьи. Становится гораздо понятнее.</font>\n",
    "</div>"
   ]
  },
  {
   "cell_type": "markdown",
   "id": "75664785",
   "metadata": {},
   "source": [
    "<div class=\"alert alert-success\">\n",
    "<font size=\"5\"><b>Комментарий ревьюераV2</b></font>\n",
    "\n",
    "\n",
    "\n",
    "Успех 👍:\n",
    "\n",
    "\n",
    "\n",
    "Привет Кирилл!  Пожалуйста)\n",
    "\n",
    "\n",
    "\n",
    "\n",
    "</div>\n"
   ]
  },
  {
   "cell_type": "markdown",
   "id": "ca43bab6",
   "metadata": {},
   "source": [
    "<font size=6><b>Определение стоимости автомобилей</b></font>"
   ]
  },
  {
   "cell_type": "markdown",
   "id": "4e2f944e",
   "metadata": {
    "toc": true
   },
   "source": [
    "<h1>Table of Contents<span class=\"tocSkip\"></span></h1>\n",
    "<div class=\"toc\"><ul class=\"toc-item\"><li><span><a href=\"#Описание-проекта\" data-toc-modified-id=\"Описание-проекта-0\"><span class=\"toc-item-num\">0&nbsp;&nbsp;</span>Описание проекта</a></span></li><li><span><a href=\"#Загрузка-данных\" data-toc-modified-id=\"Загрузка-данных-1\"><span class=\"toc-item-num\">1&nbsp;&nbsp;</span>Загрузка данных</a></span></li><li><span><a href=\"#Изучение-данных\" data-toc-modified-id=\"Изучение-данных-2\"><span class=\"toc-item-num\">2&nbsp;&nbsp;</span>Изучение данных</a></span><ul class=\"toc-item\"><li><span><a href=\"#Удаление-неинформативных-признаков\" data-toc-modified-id=\"Удаление-неинформативных-признаков-2.1\"><span class=\"toc-item-num\">2.1&nbsp;&nbsp;</span>Удаление неинформативных признаков</a></span></li><li><span><a href=\"#Обработка-пропусков\" data-toc-modified-id=\"Обработка-пропусков-2.2\"><span class=\"toc-item-num\">2.2&nbsp;&nbsp;</span>Обработка пропусков</a></span></li><li><span><a href=\"#Обработка-аномалий\" data-toc-modified-id=\"Обработка-аномалий-2.3\"><span class=\"toc-item-num\">2.3&nbsp;&nbsp;</span>Обработка аномалий</a></span><ul class=\"toc-item\"><li><span><a href=\"#RegistrationYear\" data-toc-modified-id=\"RegistrationYear-2.3.1\"><span class=\"toc-item-num\">2.3.1&nbsp;&nbsp;</span><s>RegistrationYear</s></a></span></li><li><span><a href=\"#RegistrationMonth\" data-toc-modified-id=\"RegistrationMonth-2.3.2\"><span class=\"toc-item-num\">2.3.2&nbsp;&nbsp;</span><s>RegistrationMonth</s></a></span></li><li><span><a href=\"#Power\" data-toc-modified-id=\"Power-2.3.3\"><span class=\"toc-item-num\">2.3.3&nbsp;&nbsp;</span>Power</a></span></li><li><span><a href=\"#Price\" data-toc-modified-id=\"Price-2.3.4\"><span class=\"toc-item-num\">2.3.4&nbsp;&nbsp;</span>Price</a></span></li></ul></li><li><span><a href=\"#Выводы-1\" data-toc-modified-id=\"Выводы-1-2.4\"><span class=\"toc-item-num\">2.4&nbsp;&nbsp;</span>Выводы 1</a></span></li></ul></li><li><span><a href=\"#Подготовка-выборок-для-обучения\" data-toc-modified-id=\"Подготовка-выборок-для-обучения-3\"><span class=\"toc-item-num\">3&nbsp;&nbsp;</span>Подготовка выборок для обучения</a></span><ul class=\"toc-item\"><li><span><a href=\"#Разделение-выборки\" data-toc-modified-id=\"Разделение-выборки-3.1\"><span class=\"toc-item-num\">3.1&nbsp;&nbsp;</span>Разделение выборки</a></span></li><li><span><a href=\"#Подготовка-признаков\" data-toc-modified-id=\"Подготовка-признаков-3.2\"><span class=\"toc-item-num\">3.2&nbsp;&nbsp;</span>Подготовка признаков</a></span><ul class=\"toc-item\"><li><span><a href=\"#Категориальные-признаки\" data-toc-modified-id=\"Категориальные-признаки-3.2.1\"><span class=\"toc-item-num\">3.2.1&nbsp;&nbsp;</span>Категориальные признаки</a></span></li><li><span><a href=\"#Ординальные-признаки\" data-toc-modified-id=\"Ординальные-признаки-3.2.2\"><span class=\"toc-item-num\">3.2.2&nbsp;&nbsp;</span>Ординальные признаки</a></span></li></ul></li></ul></li><li><span><a href=\"#Обучение-моделей\" data-toc-modified-id=\"Обучение-моделей-4\"><span class=\"toc-item-num\">4&nbsp;&nbsp;</span>Обучение моделей</a></span><ul class=\"toc-item\"><li><span><a href=\"#Простые-модели\" data-toc-modified-id=\"Простые-модели-4.1\"><span class=\"toc-item-num\">4.1&nbsp;&nbsp;</span>Простые модели</a></span></li><li><span><a href=\"#LightGBM\" data-toc-modified-id=\"LightGBM-4.2\"><span class=\"toc-item-num\">4.2&nbsp;&nbsp;</span>LightGBM</a></span></li></ul></li><li><span><a href=\"#Анализ-моделей\" data-toc-modified-id=\"Анализ-моделей-5\"><span class=\"toc-item-num\">5&nbsp;&nbsp;</span>Анализ моделей</a></span><ul class=\"toc-item\"><li><span><a href=\"#Время-обучения\" data-toc-modified-id=\"Время-обучения-5.1\"><span class=\"toc-item-num\">5.1&nbsp;&nbsp;</span>Время обучения</a></span></li><li><span><a href=\"#Время-предсказания\" data-toc-modified-id=\"Время-предсказания-5.2\"><span class=\"toc-item-num\">5.2&nbsp;&nbsp;</span>Время предсказания</a></span></li><li><span><a href=\"#Качество-моделей\" data-toc-modified-id=\"Качество-моделей-5.3\"><span class=\"toc-item-num\">5.3&nbsp;&nbsp;</span>Качество моделей</a></span></li><li><span><a href=\"#Выводы-2\" data-toc-modified-id=\"Выводы-2-5.4\"><span class=\"toc-item-num\">5.4&nbsp;&nbsp;</span>Выводы 2</a></span></li></ul></li><li><span><a href=\"#Проверка-лучшей-модели\" data-toc-modified-id=\"Проверка-лучшей-модели-6\"><span class=\"toc-item-num\">6&nbsp;&nbsp;</span>Проверка лучшей модели</a></span></li><li><span><a href=\"#Выводы\" data-toc-modified-id=\"Выводы-7\"><span class=\"toc-item-num\">7&nbsp;&nbsp;</span>Выводы</a></span></li></ul></div>"
   ]
  },
  {
   "cell_type": "markdown",
   "id": "d4038088",
   "metadata": {},
   "source": [
    "## Описание проекта"
   ]
  },
  {
   "cell_type": "markdown",
   "id": "8b6101ba",
   "metadata": {},
   "source": [
    "<b>Цель</b>: Сервис по продаже автомобилей с пробегом «Не бит, не крашен» разрабатывает приложение, чтобы привлечь новых клиентов. В нём можно будет узнать рыночную стоимость своего автомобиля. Необходимо построить модель, которая умеет её определять. Критерии, которые важны заказчику: качество предсказания, время обучения модели, время предсказания модели.<br><br>\n",
    "<b>Данные</b>: Набор данных находится в файле */datasets/autos.csv*. Данные о технических характеристиках, комплектации и ценах других автомобилей. Целевой признак: цена автомобиля (евро).<br><br>\n",
    "<b>Задачи</b>: \n",
    "1. Загрузка данных.\n",
    "1. Изучение данных.\n",
    "1. Подготовка выборок для обучения.\n",
    "1. Обучение моделей.\n",
    "1. Анализ моделей.\n",
    "1. Проверка лучшей модели.\n",
    "1. Выводы."
   ]
  },
  {
   "cell_type": "markdown",
   "id": "03278b4c",
   "metadata": {},
   "source": [
    "## Загрузка данных"
   ]
  },
  {
   "cell_type": "code",
   "execution_count": 1,
   "id": "f691dad7",
   "metadata": {},
   "outputs": [],
   "source": [
    "import numpy as np\n",
    "import pandas as pd\n",
    "import matplotlib.pyplot as plt\n",
    "import seaborn as sns\n",
    "from IPython.display import clear_output\n",
    "import warnings\n",
    "\n",
    "from sklearn.model_selection import train_test_split, cross_val_score, GridSearchCV\n",
    "from sklearn.preprocessing import StandardScaler, OneHotEncoder, OrdinalEncoder\n",
    "from sklearn.linear_model import LinearRegression\n",
    "from sklearn.tree import DecisionTreeRegressor\n",
    "from sklearn.ensemble import RandomForestRegressor\n",
    "from sklearn.metrics import mean_squared_error\n",
    "from sklearn.dummy import DummyRegressor\n",
    "import lightgbm as lgb\n",
    "\n",
    "RSTATE = 10101\n",
    "warnings.filterwarnings('ignore')"
   ]
  },
  {
   "cell_type": "markdown",
   "id": "36a9bd42",
   "metadata": {},
   "source": [
    "\n",
    "<div class=\"alert alert-success\">\n",
    "<font size=\"5\"><b>Комментарий ревьюера</b></font>\n",
    "\n",
    "Успех:\n",
    "\n",
    "Собираем все импорты в верхней части, чтобы легче было ориентироваться и добавлять новые по необходимости. \n",
    "\n",
    "\n",
    "<div class=\"alert alert-warning\">\n",
    "\n",
    "Совет:     \n",
    "    \n",
    "\n",
    "\n",
    "- кстати есть рекомендации PEP-8 при написании кода, в том числе и для импортов. Если интересно можешь почитать [тут](https://pythonworld.ru/osnovy/pep-8-rukovodstvo-po-napisaniyu-koda-na-python.html), это на будущее \n",
    "\n"
   ]
  },
  {
   "cell_type": "code",
   "execution_count": 2,
   "id": "369652c5",
   "metadata": {},
   "outputs": [],
   "source": [
    "try:\n",
    "    df = pd.read_csv('/datasets/autos.csv')\n",
    "except:\n",
    "    df = pd.read_csv('autos.csv')"
   ]
  },
  {
   "cell_type": "markdown",
   "id": "50500035",
   "metadata": {},
   "source": [
    "\n",
    "    \n",
    "<div class=\"alert alert-success\">\n",
    "<font size=\"5\"><b>Комментарий ревьюера</b></font>\n",
    "\n",
    "    \n",
    "Успех:    \n",
    "    \n",
    "Молодец что используешь конструкцию try - except (if - else), этим ты проявляешь уважение к тем кто будет работать с твоим кодом.\n",
    "\n",
    "\n",
    "\n",
    "<div class=\"alert alert-warning\">\n",
    "\n",
    "\n",
    "\n",
    "Совет 🤔:\n",
    "\n",
    "\n",
    "\n",
    "Взможно не знаешь, но есть три аргумента parse_dates, sep, и decimal который можно использовать при чтении данных  в Pandas\n",
    "- parse_dates позволяет указать, какие столбцы в DataFrame содержат даты и время\n",
    "- sep позволяет указать разделитель между столбцами в файле\n",
    "- decimal используется для определения символа, используемого в качестве разделителя десятичных знаков. Это важно, если в файле используется запятая (,) вместо точки (.) как разделитель десятичных знаков.\n",
    "\n",
    "\n",
    "Используя эти аргументы, можно корректно считывать данные из CSV (xlsx) файла\n",
    "\n",
    "\n",
    "\n",
    "\n",
    "\n"
   ]
  },
  {
   "cell_type": "markdown",
   "id": "1c890e1d",
   "metadata": {},
   "source": [
    "<div style=\"background: #e1cfff; padding: 5px; border: 1px solid SteelBlue; border-radius: 5px;\">\n",
    "    <font color='black'>🦋<u><b>КОММЕНТАРИЙ СТУДЕНТА</b></u></font>\n",
    "    <br />\n",
    "    <font color='black'>Да, спасибо. Я совсем забыл об этой возможности.</font>\n",
    "</div>"
   ]
  },
  {
   "cell_type": "code",
   "execution_count": 3,
   "id": "e354742f",
   "metadata": {
    "scrolled": false
   },
   "outputs": [
    {
     "data": {
      "text/plain": [
       "'Размеры датасета: (354369, 16)'"
      ]
     },
     "metadata": {},
     "output_type": "display_data"
    },
    {
     "name": "stdout",
     "output_type": "stream",
     "text": [
      "<class 'pandas.core.frame.DataFrame'>\n",
      "RangeIndex: 354369 entries, 0 to 354368\n",
      "Data columns (total 16 columns):\n",
      " #   Column             Non-Null Count   Dtype \n",
      "---  ------             --------------   ----- \n",
      " 0   DateCrawled        354369 non-null  object\n",
      " 1   Price              354369 non-null  int64 \n",
      " 2   VehicleType        316879 non-null  object\n",
      " 3   RegistrationYear   354369 non-null  int64 \n",
      " 4   Gearbox            334536 non-null  object\n",
      " 5   Power              354369 non-null  int64 \n",
      " 6   Model              334664 non-null  object\n",
      " 7   Kilometer          354369 non-null  int64 \n",
      " 8   RegistrationMonth  354369 non-null  int64 \n",
      " 9   FuelType           321474 non-null  object\n",
      " 10  Brand              354369 non-null  object\n",
      " 11  Repaired           283215 non-null  object\n",
      " 12  DateCreated        354369 non-null  object\n",
      " 13  NumberOfPictures   354369 non-null  int64 \n",
      " 14  PostalCode         354369 non-null  int64 \n",
      " 15  LastSeen           354369 non-null  object\n",
      "dtypes: int64(7), object(9)\n",
      "memory usage: 43.3+ MB\n"
     ]
    },
    {
     "data": {
      "text/plain": [
       "None"
      ]
     },
     "metadata": {},
     "output_type": "display_data"
    },
    {
     "data": {
      "text/html": [
       "<div>\n",
       "<style scoped>\n",
       "    .dataframe tbody tr th:only-of-type {\n",
       "        vertical-align: middle;\n",
       "    }\n",
       "\n",
       "    .dataframe tbody tr th {\n",
       "        vertical-align: top;\n",
       "    }\n",
       "\n",
       "    .dataframe thead th {\n",
       "        text-align: right;\n",
       "    }\n",
       "</style>\n",
       "<table border=\"1\" class=\"dataframe\">\n",
       "  <thead>\n",
       "    <tr style=\"text-align: right;\">\n",
       "      <th></th>\n",
       "      <th>DateCrawled</th>\n",
       "      <th>Price</th>\n",
       "      <th>VehicleType</th>\n",
       "      <th>RegistrationYear</th>\n",
       "      <th>Gearbox</th>\n",
       "      <th>Power</th>\n",
       "      <th>Model</th>\n",
       "      <th>Kilometer</th>\n",
       "      <th>RegistrationMonth</th>\n",
       "      <th>FuelType</th>\n",
       "      <th>Brand</th>\n",
       "      <th>Repaired</th>\n",
       "      <th>DateCreated</th>\n",
       "      <th>NumberOfPictures</th>\n",
       "      <th>PostalCode</th>\n",
       "      <th>LastSeen</th>\n",
       "    </tr>\n",
       "  </thead>\n",
       "  <tbody>\n",
       "    <tr>\n",
       "      <th>0</th>\n",
       "      <td>2016-03-24 11:52:17</td>\n",
       "      <td>480</td>\n",
       "      <td>NaN</td>\n",
       "      <td>1993</td>\n",
       "      <td>manual</td>\n",
       "      <td>0</td>\n",
       "      <td>golf</td>\n",
       "      <td>150000</td>\n",
       "      <td>0</td>\n",
       "      <td>petrol</td>\n",
       "      <td>volkswagen</td>\n",
       "      <td>NaN</td>\n",
       "      <td>2016-03-24 00:00:00</td>\n",
       "      <td>0</td>\n",
       "      <td>70435</td>\n",
       "      <td>2016-04-07 03:16:57</td>\n",
       "    </tr>\n",
       "    <tr>\n",
       "      <th>1</th>\n",
       "      <td>2016-03-24 10:58:45</td>\n",
       "      <td>18300</td>\n",
       "      <td>coupe</td>\n",
       "      <td>2011</td>\n",
       "      <td>manual</td>\n",
       "      <td>190</td>\n",
       "      <td>NaN</td>\n",
       "      <td>125000</td>\n",
       "      <td>5</td>\n",
       "      <td>gasoline</td>\n",
       "      <td>audi</td>\n",
       "      <td>yes</td>\n",
       "      <td>2016-03-24 00:00:00</td>\n",
       "      <td>0</td>\n",
       "      <td>66954</td>\n",
       "      <td>2016-04-07 01:46:50</td>\n",
       "    </tr>\n",
       "    <tr>\n",
       "      <th>2</th>\n",
       "      <td>2016-03-14 12:52:21</td>\n",
       "      <td>9800</td>\n",
       "      <td>suv</td>\n",
       "      <td>2004</td>\n",
       "      <td>auto</td>\n",
       "      <td>163</td>\n",
       "      <td>grand</td>\n",
       "      <td>125000</td>\n",
       "      <td>8</td>\n",
       "      <td>gasoline</td>\n",
       "      <td>jeep</td>\n",
       "      <td>NaN</td>\n",
       "      <td>2016-03-14 00:00:00</td>\n",
       "      <td>0</td>\n",
       "      <td>90480</td>\n",
       "      <td>2016-04-05 12:47:46</td>\n",
       "    </tr>\n",
       "    <tr>\n",
       "      <th>3</th>\n",
       "      <td>2016-03-17 16:54:04</td>\n",
       "      <td>1500</td>\n",
       "      <td>small</td>\n",
       "      <td>2001</td>\n",
       "      <td>manual</td>\n",
       "      <td>75</td>\n",
       "      <td>golf</td>\n",
       "      <td>150000</td>\n",
       "      <td>6</td>\n",
       "      <td>petrol</td>\n",
       "      <td>volkswagen</td>\n",
       "      <td>no</td>\n",
       "      <td>2016-03-17 00:00:00</td>\n",
       "      <td>0</td>\n",
       "      <td>91074</td>\n",
       "      <td>2016-03-17 17:40:17</td>\n",
       "    </tr>\n",
       "    <tr>\n",
       "      <th>4</th>\n",
       "      <td>2016-03-31 17:25:20</td>\n",
       "      <td>3600</td>\n",
       "      <td>small</td>\n",
       "      <td>2008</td>\n",
       "      <td>manual</td>\n",
       "      <td>69</td>\n",
       "      <td>fabia</td>\n",
       "      <td>90000</td>\n",
       "      <td>7</td>\n",
       "      <td>gasoline</td>\n",
       "      <td>skoda</td>\n",
       "      <td>no</td>\n",
       "      <td>2016-03-31 00:00:00</td>\n",
       "      <td>0</td>\n",
       "      <td>60437</td>\n",
       "      <td>2016-04-06 10:17:21</td>\n",
       "    </tr>\n",
       "  </tbody>\n",
       "</table>\n",
       "</div>"
      ],
      "text/plain": [
       "           DateCrawled  Price VehicleType  RegistrationYear Gearbox  Power  \\\n",
       "0  2016-03-24 11:52:17    480         NaN              1993  manual      0   \n",
       "1  2016-03-24 10:58:45  18300       coupe              2011  manual    190   \n",
       "2  2016-03-14 12:52:21   9800         suv              2004    auto    163   \n",
       "3  2016-03-17 16:54:04   1500       small              2001  manual     75   \n",
       "4  2016-03-31 17:25:20   3600       small              2008  manual     69   \n",
       "\n",
       "   Model  Kilometer  RegistrationMonth  FuelType       Brand Repaired  \\\n",
       "0   golf     150000                  0    petrol  volkswagen      NaN   \n",
       "1    NaN     125000                  5  gasoline        audi      yes   \n",
       "2  grand     125000                  8  gasoline        jeep      NaN   \n",
       "3   golf     150000                  6    petrol  volkswagen       no   \n",
       "4  fabia      90000                  7  gasoline       skoda       no   \n",
       "\n",
       "           DateCreated  NumberOfPictures  PostalCode             LastSeen  \n",
       "0  2016-03-24 00:00:00                 0       70435  2016-04-07 03:16:57  \n",
       "1  2016-03-24 00:00:00                 0       66954  2016-04-07 01:46:50  \n",
       "2  2016-03-14 00:00:00                 0       90480  2016-04-05 12:47:46  \n",
       "3  2016-03-17 00:00:00                 0       91074  2016-03-17 17:40:17  \n",
       "4  2016-03-31 00:00:00                 0       60437  2016-04-06 10:17:21  "
      ]
     },
     "metadata": {},
     "output_type": "display_data"
    }
   ],
   "source": [
    "display(f'Размеры датасета: {df.shape}')\n",
    "display(df.info())\n",
    "display(df.head())"
   ]
  },
  {
   "cell_type": "markdown",
   "id": "ad8d8fdf",
   "metadata": {},
   "source": [
    "Набор данных содержит 354369 объектов по 16 признаков. В данных есть пропуски. Типы: int и object."
   ]
  },
  {
   "cell_type": "markdown",
   "id": "38d3dc5e",
   "metadata": {},
   "source": [
    "## Изучение данных"
   ]
  },
  {
   "cell_type": "code",
   "execution_count": 4,
   "id": "e563b1ab",
   "metadata": {},
   "outputs": [],
   "source": [
    "df1 = df.copy()"
   ]
  },
  {
   "cell_type": "markdown",
   "id": "4d23542a",
   "metadata": {},
   "source": [
    "Преобразуем даты в формат даты для дальнейшего изучения."
   ]
  },
  {
   "cell_type": "code",
   "execution_count": 5,
   "id": "f555d542",
   "metadata": {},
   "outputs": [],
   "source": [
    "df1['DateCrawled'] = pd.to_datetime(df1['DateCrawled'])#.astype(np.int64)\n",
    "df1['DateCreated'] = pd.to_datetime(df1['DateCreated'])#.astype(np.int64)\n",
    "df1['LastSeen'] = pd.to_datetime(df1['LastSeen'])#.astype(np.int64)"
   ]
  },
  {
   "cell_type": "markdown",
   "id": "c4f1018a",
   "metadata": {},
   "source": [
    "Рассмотрим, какие года и месяцы присутствуют в датах."
   ]
  },
  {
   "cell_type": "code",
   "execution_count": 6,
   "id": "79a13b87",
   "metadata": {},
   "outputs": [
    {
     "name": "stdout",
     "output_type": "stream",
     "text": [
      "DateCrawled: годы [2016], месяцы [3 4]\n",
      "DateCreated: годы [2016 2015 2014], месяцы [ 3  4  2  1 11 12  9  8  6]\n",
      "LastSeen: годы [2016], месяцы [4 3]\n"
     ]
    }
   ],
   "source": [
    "print(f'DateCrawled: годы {df1[\"DateCrawled\"].dt.year.unique()}, месяцы {df1[\"DateCrawled\"].dt.month.unique()}')\n",
    "print(f'DateCreated: годы {df1[\"DateCreated\"].dt.year.unique()}, месяцы {df1[\"DateCreated\"].dt.month.unique()}')\n",
    "print(f'LastSeen: годы {df1[\"LastSeen\"].dt.year.unique()}, месяцы {df1[\"LastSeen\"].dt.month.unique()}')"
   ]
  },
  {
   "cell_type": "markdown",
   "id": "a0d04e24",
   "metadata": {},
   "source": [
    "Выделим, как отдельные признаки: \n",
    "* месяц (3, 4) для **DateCrawled** и **LastSeen**;\n",
    "* год (2014, 2015, 2016) для **DateCreated**.\n",
    "\n",
    "А сами даты удалим."
   ]
  },
  {
   "cell_type": "code",
   "execution_count": 7,
   "id": "f6667102",
   "metadata": {},
   "outputs": [],
   "source": [
    "df1['Year_Created'] = df1['DateCreated'].dt.year\n",
    "df1['Month_Created'] = df1['DateCreated'].dt.month\n",
    "df1['Month_LastSeen'] = df1['LastSeen'].dt.month\n",
    "df1['Month_Crawled'] = df1['DateCrawled'].dt.month\n",
    "\n",
    "df1 = df1.drop(['DateCreated', 'LastSeen', 'DateCrawled'], axis=1)"
   ]
  },
  {
   "cell_type": "markdown",
   "id": "4f0c6e92",
   "metadata": {},
   "source": [
    "<div class=\"alert alert-success\">\n",
    "<font size=\"5\"><b>Комментарий ревьюера</b></font>\n",
    "\n",
    "\n",
    "\n",
    "Успех 👍:\n",
    "\n",
    "\n",
    "Столбцы с датами переведены к соответствующему типу, как можно было сделать это быстрее и сразу я написал выше\n"
   ]
  },
  {
   "cell_type": "markdown",
   "id": "58f7dd0c",
   "metadata": {},
   "source": [
    "Построим матрицу корреляции."
   ]
  },
  {
   "cell_type": "code",
   "execution_count": 8,
   "id": "9b457c9a",
   "metadata": {
    "scrolled": true
   },
   "outputs": [
    {
     "data": {
      "text/html": [
       "<style type=\"text/css\">\n",
       "#T_9ef53_row0_col0, #T_9ef53_row1_col1, #T_9ef53_row2_col2, #T_9ef53_row3_col3, #T_9ef53_row4_col4, #T_9ef53_row6_col6, #T_9ef53_row7_col7, #T_9ef53_row8_col8, #T_9ef53_row9_col9, #T_9ef53_row10_col10 {\n",
       "  background-color: #5e4fa2;\n",
       "  color: #f1f1f1;\n",
       "}\n",
       "#T_9ef53_row0_col1, #T_9ef53_row1_col0, #T_9ef53_row2_col3, #T_9ef53_row3_col2 {\n",
       "  background-color: #fcfeba;\n",
       "  color: #000000;\n",
       "}\n",
       "#T_9ef53_row0_col2, #T_9ef53_row2_col0 {\n",
       "  background-color: #ebf7a0;\n",
       "  color: #000000;\n",
       "}\n",
       "#T_9ef53_row0_col3, #T_9ef53_row3_col0 {\n",
       "  background-color: #fdbf6f;\n",
       "  color: #000000;\n",
       "}\n",
       "#T_9ef53_row0_col4, #T_9ef53_row4_col0 {\n",
       "  background-color: #f1f9a9;\n",
       "  color: #000000;\n",
       "}\n",
       "#T_9ef53_row0_col5, #T_9ef53_row1_col5, #T_9ef53_row2_col5, #T_9ef53_row3_col5, #T_9ef53_row4_col5, #T_9ef53_row5_col0, #T_9ef53_row5_col1, #T_9ef53_row5_col2, #T_9ef53_row5_col3, #T_9ef53_row5_col4, #T_9ef53_row5_col5, #T_9ef53_row5_col6, #T_9ef53_row5_col7, #T_9ef53_row5_col8, #T_9ef53_row5_col9, #T_9ef53_row5_col10, #T_9ef53_row6_col5, #T_9ef53_row7_col5, #T_9ef53_row8_col5, #T_9ef53_row9_col5, #T_9ef53_row10_col5 {\n",
       "  background-color: #000000;\n",
       "  color: #f1f1f1;\n",
       "}\n",
       "#T_9ef53_row0_col6, #T_9ef53_row6_col0 {\n",
       "  background-color: #f6fbb0;\n",
       "  color: #000000;\n",
       "}\n",
       "#T_9ef53_row0_col7, #T_9ef53_row1_col2, #T_9ef53_row1_col6, #T_9ef53_row1_col8, #T_9ef53_row1_col9, #T_9ef53_row1_col10, #T_9ef53_row2_col1, #T_9ef53_row3_col6, #T_9ef53_row3_col8, #T_9ef53_row3_col10, #T_9ef53_row4_col8, #T_9ef53_row4_col10, #T_9ef53_row6_col1, #T_9ef53_row6_col3, #T_9ef53_row7_col0, #T_9ef53_row7_col9, #T_9ef53_row8_col1, #T_9ef53_row8_col3, #T_9ef53_row8_col4, #T_9ef53_row9_col1, #T_9ef53_row9_col7, #T_9ef53_row10_col1, #T_9ef53_row10_col3, #T_9ef53_row10_col4 {\n",
       "  background-color: #fffebe;\n",
       "  color: #000000;\n",
       "}\n",
       "#T_9ef53_row0_col8, #T_9ef53_row3_col4, #T_9ef53_row4_col3, #T_9ef53_row4_col6, #T_9ef53_row6_col4, #T_9ef53_row6_col8, #T_9ef53_row6_col10, #T_9ef53_row8_col0, #T_9ef53_row8_col6, #T_9ef53_row10_col6 {\n",
       "  background-color: #fefebd;\n",
       "  color: #000000;\n",
       "}\n",
       "#T_9ef53_row0_col9, #T_9ef53_row9_col0 {\n",
       "  background-color: #ecf7a1;\n",
       "  color: #000000;\n",
       "}\n",
       "#T_9ef53_row0_col10, #T_9ef53_row2_col6, #T_9ef53_row2_col9, #T_9ef53_row6_col2, #T_9ef53_row9_col2, #T_9ef53_row10_col0 {\n",
       "  background-color: #fdfebb;\n",
       "  color: #000000;\n",
       "}\n",
       "#T_9ef53_row1_col3, #T_9ef53_row3_col1 {\n",
       "  background-color: #fff7b2;\n",
       "  color: #000000;\n",
       "}\n",
       "#T_9ef53_row1_col4, #T_9ef53_row4_col1 {\n",
       "  background-color: #fffdbc;\n",
       "  color: #000000;\n",
       "}\n",
       "#T_9ef53_row1_col7, #T_9ef53_row2_col7, #T_9ef53_row2_col8, #T_9ef53_row2_col10, #T_9ef53_row3_col7, #T_9ef53_row4_col7, #T_9ef53_row4_col9, #T_9ef53_row6_col7, #T_9ef53_row7_col1, #T_9ef53_row7_col2, #T_9ef53_row7_col3, #T_9ef53_row7_col4, #T_9ef53_row7_col6, #T_9ef53_row7_col10, #T_9ef53_row8_col2, #T_9ef53_row9_col4, #T_9ef53_row10_col2, #T_9ef53_row10_col7 {\n",
       "  background-color: #ffffbe;\n",
       "  color: #000000;\n",
       "}\n",
       "#T_9ef53_row2_col4, #T_9ef53_row4_col2, #T_9ef53_row6_col9, #T_9ef53_row9_col6 {\n",
       "  background-color: #fafdb7;\n",
       "  color: #000000;\n",
       "}\n",
       "#T_9ef53_row3_col9, #T_9ef53_row9_col3 {\n",
       "  background-color: #fff6b0;\n",
       "  color: #000000;\n",
       "}\n",
       "#T_9ef53_row7_col8, #T_9ef53_row8_col7 {\n",
       "  background-color: #fee797;\n",
       "  color: #000000;\n",
       "}\n",
       "#T_9ef53_row8_col9, #T_9ef53_row9_col8 {\n",
       "  background-color: #b1dfa3;\n",
       "  color: #000000;\n",
       "}\n",
       "#T_9ef53_row8_col10, #T_9ef53_row10_col8 {\n",
       "  background-color: #5956a5;\n",
       "  color: #f1f1f1;\n",
       "}\n",
       "#T_9ef53_row9_col10, #T_9ef53_row10_col9 {\n",
       "  background-color: #aedea3;\n",
       "  color: #000000;\n",
       "}\n",
       "</style>\n",
       "<table id=\"T_9ef53\">\n",
       "  <thead>\n",
       "    <tr>\n",
       "      <th class=\"blank level0\" >&nbsp;</th>\n",
       "      <th id=\"T_9ef53_level0_col0\" class=\"col_heading level0 col0\" >Price</th>\n",
       "      <th id=\"T_9ef53_level0_col1\" class=\"col_heading level0 col1\" >RegistrationYear</th>\n",
       "      <th id=\"T_9ef53_level0_col2\" class=\"col_heading level0 col2\" >Power</th>\n",
       "      <th id=\"T_9ef53_level0_col3\" class=\"col_heading level0 col3\" >Kilometer</th>\n",
       "      <th id=\"T_9ef53_level0_col4\" class=\"col_heading level0 col4\" >RegistrationMonth</th>\n",
       "      <th id=\"T_9ef53_level0_col5\" class=\"col_heading level0 col5\" >NumberOfPictures</th>\n",
       "      <th id=\"T_9ef53_level0_col6\" class=\"col_heading level0 col6\" >PostalCode</th>\n",
       "      <th id=\"T_9ef53_level0_col7\" class=\"col_heading level0 col7\" >Year_Created</th>\n",
       "      <th id=\"T_9ef53_level0_col8\" class=\"col_heading level0 col8\" >Month_Created</th>\n",
       "      <th id=\"T_9ef53_level0_col9\" class=\"col_heading level0 col9\" >Month_LastSeen</th>\n",
       "      <th id=\"T_9ef53_level0_col10\" class=\"col_heading level0 col10\" >Month_Crawled</th>\n",
       "    </tr>\n",
       "  </thead>\n",
       "  <tbody>\n",
       "    <tr>\n",
       "      <th id=\"T_9ef53_level0_row0\" class=\"row_heading level0 row0\" >Price</th>\n",
       "      <td id=\"T_9ef53_row0_col0\" class=\"data row0 col0\" >1.000000</td>\n",
       "      <td id=\"T_9ef53_row0_col1\" class=\"data row0 col1\" >0.026916</td>\n",
       "      <td id=\"T_9ef53_row0_col2\" class=\"data row0 col2\" >0.158872</td>\n",
       "      <td id=\"T_9ef53_row0_col3\" class=\"data row0 col3\" >-0.333199</td>\n",
       "      <td id=\"T_9ef53_row0_col4\" class=\"data row0 col4\" >0.110581</td>\n",
       "      <td id=\"T_9ef53_row0_col5\" class=\"data row0 col5\" >nan</td>\n",
       "      <td id=\"T_9ef53_row0_col6\" class=\"data row0 col6\" >0.076055</td>\n",
       "      <td id=\"T_9ef53_row0_col7\" class=\"data row0 col7\" >-0.005551</td>\n",
       "      <td id=\"T_9ef53_row0_col8\" class=\"data row0 col8\" >0.014367</td>\n",
       "      <td id=\"T_9ef53_row0_col9\" class=\"data row0 col9\" >0.149443</td>\n",
       "      <td id=\"T_9ef53_row0_col10\" class=\"data row0 col10\" >0.016530</td>\n",
       "    </tr>\n",
       "    <tr>\n",
       "      <th id=\"T_9ef53_level0_row1\" class=\"row_heading level0 row1\" >RegistrationYear</th>\n",
       "      <td id=\"T_9ef53_row1_col0\" class=\"data row1 col0\" >0.026916</td>\n",
       "      <td id=\"T_9ef53_row1_col1\" class=\"data row1 col1\" >1.000000</td>\n",
       "      <td id=\"T_9ef53_row1_col2\" class=\"data row1 col2\" >-0.000828</td>\n",
       "      <td id=\"T_9ef53_row1_col3\" class=\"data row1 col3\" >-0.053447</td>\n",
       "      <td id=\"T_9ef53_row1_col4\" class=\"data row1 col4\" >-0.011619</td>\n",
       "      <td id=\"T_9ef53_row1_col5\" class=\"data row1 col5\" >nan</td>\n",
       "      <td id=\"T_9ef53_row1_col6\" class=\"data row1 col6\" >-0.003459</td>\n",
       "      <td id=\"T_9ef53_row1_col7\" class=\"data row1 col7\" >0.000056</td>\n",
       "      <td id=\"T_9ef53_row1_col8\" class=\"data row1 col8\" >-0.000728</td>\n",
       "      <td id=\"T_9ef53_row1_col9\" class=\"data row1 col9\" >-0.000630</td>\n",
       "      <td id=\"T_9ef53_row1_col10\" class=\"data row1 col10\" >-0.000845</td>\n",
       "    </tr>\n",
       "    <tr>\n",
       "      <th id=\"T_9ef53_level0_row2\" class=\"row_heading level0 row2\" >Power</th>\n",
       "      <td id=\"T_9ef53_row2_col0\" class=\"data row2 col0\" >0.158872</td>\n",
       "      <td id=\"T_9ef53_row2_col1\" class=\"data row2 col1\" >-0.000828</td>\n",
       "      <td id=\"T_9ef53_row2_col2\" class=\"data row2 col2\" >1.000000</td>\n",
       "      <td id=\"T_9ef53_row2_col3\" class=\"data row2 col3\" >0.024002</td>\n",
       "      <td id=\"T_9ef53_row2_col4\" class=\"data row2 col4\" >0.043380</td>\n",
       "      <td id=\"T_9ef53_row2_col5\" class=\"data row2 col5\" >nan</td>\n",
       "      <td id=\"T_9ef53_row2_col6\" class=\"data row2 col6\" >0.021665</td>\n",
       "      <td id=\"T_9ef53_row2_col7\" class=\"data row2 col7\" >0.000057</td>\n",
       "      <td id=\"T_9ef53_row2_col8\" class=\"data row2 col8\" >0.003290</td>\n",
       "      <td id=\"T_9ef53_row2_col9\" class=\"data row2 col9\" >0.020849</td>\n",
       "      <td id=\"T_9ef53_row2_col10\" class=\"data row2 col10\" >0.003658</td>\n",
       "    </tr>\n",
       "    <tr>\n",
       "      <th id=\"T_9ef53_level0_row3\" class=\"row_heading level0 row3\" >Kilometer</th>\n",
       "      <td id=\"T_9ef53_row3_col0\" class=\"data row3 col0\" >-0.333199</td>\n",
       "      <td id=\"T_9ef53_row3_col1\" class=\"data row3 col1\" >-0.053447</td>\n",
       "      <td id=\"T_9ef53_row3_col2\" class=\"data row3 col2\" >0.024002</td>\n",
       "      <td id=\"T_9ef53_row3_col3\" class=\"data row3 col3\" >1.000000</td>\n",
       "      <td id=\"T_9ef53_row3_col4\" class=\"data row3 col4\" >0.009571</td>\n",
       "      <td id=\"T_9ef53_row3_col5\" class=\"data row3 col5\" >nan</td>\n",
       "      <td id=\"T_9ef53_row3_col6\" class=\"data row3 col6\" >-0.007698</td>\n",
       "      <td id=\"T_9ef53_row3_col7\" class=\"data row3 col7\" >0.004664</td>\n",
       "      <td id=\"T_9ef53_row3_col8\" class=\"data row3 col8\" >-0.001820</td>\n",
       "      <td id=\"T_9ef53_row3_col9\" class=\"data row3 col9\" >-0.062445</td>\n",
       "      <td id=\"T_9ef53_row3_col10\" class=\"data row3 col10\" >-0.002671</td>\n",
       "    </tr>\n",
       "    <tr>\n",
       "      <th id=\"T_9ef53_level0_row4\" class=\"row_heading level0 row4\" >RegistrationMonth</th>\n",
       "      <td id=\"T_9ef53_row4_col0\" class=\"data row4 col0\" >0.110581</td>\n",
       "      <td id=\"T_9ef53_row4_col1\" class=\"data row4 col1\" >-0.011619</td>\n",
       "      <td id=\"T_9ef53_row4_col2\" class=\"data row4 col2\" >0.043380</td>\n",
       "      <td id=\"T_9ef53_row4_col3\" class=\"data row4 col3\" >0.009571</td>\n",
       "      <td id=\"T_9ef53_row4_col4\" class=\"data row4 col4\" >1.000000</td>\n",
       "      <td id=\"T_9ef53_row4_col5\" class=\"data row4 col5\" >nan</td>\n",
       "      <td id=\"T_9ef53_row4_col6\" class=\"data row4 col6\" >0.013995</td>\n",
       "      <td id=\"T_9ef53_row4_col7\" class=\"data row4 col7\" >0.003290</td>\n",
       "      <td id=\"T_9ef53_row4_col8\" class=\"data row4 col8\" >-0.002460</td>\n",
       "      <td id=\"T_9ef53_row4_col9\" class=\"data row4 col9\" >0.001433</td>\n",
       "      <td id=\"T_9ef53_row4_col10\" class=\"data row4 col10\" >-0.002319</td>\n",
       "    </tr>\n",
       "    <tr>\n",
       "      <th id=\"T_9ef53_level0_row5\" class=\"row_heading level0 row5\" >NumberOfPictures</th>\n",
       "      <td id=\"T_9ef53_row5_col0\" class=\"data row5 col0\" >nan</td>\n",
       "      <td id=\"T_9ef53_row5_col1\" class=\"data row5 col1\" >nan</td>\n",
       "      <td id=\"T_9ef53_row5_col2\" class=\"data row5 col2\" >nan</td>\n",
       "      <td id=\"T_9ef53_row5_col3\" class=\"data row5 col3\" >nan</td>\n",
       "      <td id=\"T_9ef53_row5_col4\" class=\"data row5 col4\" >nan</td>\n",
       "      <td id=\"T_9ef53_row5_col5\" class=\"data row5 col5\" >nan</td>\n",
       "      <td id=\"T_9ef53_row5_col6\" class=\"data row5 col6\" >nan</td>\n",
       "      <td id=\"T_9ef53_row5_col7\" class=\"data row5 col7\" >nan</td>\n",
       "      <td id=\"T_9ef53_row5_col8\" class=\"data row5 col8\" >nan</td>\n",
       "      <td id=\"T_9ef53_row5_col9\" class=\"data row5 col9\" >nan</td>\n",
       "      <td id=\"T_9ef53_row5_col10\" class=\"data row5 col10\" >nan</td>\n",
       "    </tr>\n",
       "    <tr>\n",
       "      <th id=\"T_9ef53_level0_row6\" class=\"row_heading level0 row6\" >PostalCode</th>\n",
       "      <td id=\"T_9ef53_row6_col0\" class=\"data row6 col0\" >0.076055</td>\n",
       "      <td id=\"T_9ef53_row6_col1\" class=\"data row6 col1\" >-0.003459</td>\n",
       "      <td id=\"T_9ef53_row6_col2\" class=\"data row6 col2\" >0.021665</td>\n",
       "      <td id=\"T_9ef53_row6_col3\" class=\"data row6 col3\" >-0.007698</td>\n",
       "      <td id=\"T_9ef53_row6_col4\" class=\"data row6 col4\" >0.013995</td>\n",
       "      <td id=\"T_9ef53_row6_col5\" class=\"data row6 col5\" >nan</td>\n",
       "      <td id=\"T_9ef53_row6_col6\" class=\"data row6 col6\" >1.000000</td>\n",
       "      <td id=\"T_9ef53_row6_col7\" class=\"data row6 col7\" >0.000591</td>\n",
       "      <td id=\"T_9ef53_row6_col8\" class=\"data row6 col8\" >0.010182</td>\n",
       "      <td id=\"T_9ef53_row6_col9\" class=\"data row6 col9\" >0.043501</td>\n",
       "      <td id=\"T_9ef53_row6_col10\" class=\"data row6 col10\" >0.010526</td>\n",
       "    </tr>\n",
       "    <tr>\n",
       "      <th id=\"T_9ef53_level0_row7\" class=\"row_heading level0 row7\" >Year_Created</th>\n",
       "      <td id=\"T_9ef53_row7_col0\" class=\"data row7 col0\" >-0.005551</td>\n",
       "      <td id=\"T_9ef53_row7_col1\" class=\"data row7 col1\" >0.000056</td>\n",
       "      <td id=\"T_9ef53_row7_col2\" class=\"data row7 col2\" >0.000057</td>\n",
       "      <td id=\"T_9ef53_row7_col3\" class=\"data row7 col3\" >0.004664</td>\n",
       "      <td id=\"T_9ef53_row7_col4\" class=\"data row7 col4\" >0.003290</td>\n",
       "      <td id=\"T_9ef53_row7_col5\" class=\"data row7 col5\" >nan</td>\n",
       "      <td id=\"T_9ef53_row7_col6\" class=\"data row7 col6\" >0.000591</td>\n",
       "      <td id=\"T_9ef53_row7_col7\" class=\"data row7 col7\" >1.000000</td>\n",
       "      <td id=\"T_9ef53_row7_col8\" class=\"data row7 col8\" >-0.148957</td>\n",
       "      <td id=\"T_9ef53_row7_col9\" class=\"data row7 col9\" >-0.001727</td>\n",
       "      <td id=\"T_9ef53_row7_col10\" class=\"data row7 col10\" >0.002017</td>\n",
       "    </tr>\n",
       "    <tr>\n",
       "      <th id=\"T_9ef53_level0_row8\" class=\"row_heading level0 row8\" >Month_Created</th>\n",
       "      <td id=\"T_9ef53_row8_col0\" class=\"data row8 col0\" >0.014367</td>\n",
       "      <td id=\"T_9ef53_row8_col1\" class=\"data row8 col1\" >-0.000728</td>\n",
       "      <td id=\"T_9ef53_row8_col2\" class=\"data row8 col2\" >0.003290</td>\n",
       "      <td id=\"T_9ef53_row8_col3\" class=\"data row8 col3\" >-0.001820</td>\n",
       "      <td id=\"T_9ef53_row8_col4\" class=\"data row8 col4\" >-0.002460</td>\n",
       "      <td id=\"T_9ef53_row8_col5\" class=\"data row8 col5\" >nan</td>\n",
       "      <td id=\"T_9ef53_row8_col6\" class=\"data row8 col6\" >0.010182</td>\n",
       "      <td id=\"T_9ef53_row8_col7\" class=\"data row8 col7\" >-0.148957</td>\n",
       "      <td id=\"T_9ef53_row8_col8\" class=\"data row8 col8\" >1.000000</td>\n",
       "      <td id=\"T_9ef53_row8_col9\" class=\"data row8 col9\" >0.376773</td>\n",
       "      <td id=\"T_9ef53_row8_col10\" class=\"data row8 col10\" >0.973855</td>\n",
       "    </tr>\n",
       "    <tr>\n",
       "      <th id=\"T_9ef53_level0_row9\" class=\"row_heading level0 row9\" >Month_LastSeen</th>\n",
       "      <td id=\"T_9ef53_row9_col0\" class=\"data row9 col0\" >0.149443</td>\n",
       "      <td id=\"T_9ef53_row9_col1\" class=\"data row9 col1\" >-0.000630</td>\n",
       "      <td id=\"T_9ef53_row9_col2\" class=\"data row9 col2\" >0.020849</td>\n",
       "      <td id=\"T_9ef53_row9_col3\" class=\"data row9 col3\" >-0.062445</td>\n",
       "      <td id=\"T_9ef53_row9_col4\" class=\"data row9 col4\" >0.001433</td>\n",
       "      <td id=\"T_9ef53_row9_col5\" class=\"data row9 col5\" >nan</td>\n",
       "      <td id=\"T_9ef53_row9_col6\" class=\"data row9 col6\" >0.043501</td>\n",
       "      <td id=\"T_9ef53_row9_col7\" class=\"data row9 col7\" >-0.001727</td>\n",
       "      <td id=\"T_9ef53_row9_col8\" class=\"data row9 col8\" >0.376773</td>\n",
       "      <td id=\"T_9ef53_row9_col9\" class=\"data row9 col9\" >1.000000</td>\n",
       "      <td id=\"T_9ef53_row9_col10\" class=\"data row9 col10\" >0.386354</td>\n",
       "    </tr>\n",
       "    <tr>\n",
       "      <th id=\"T_9ef53_level0_row10\" class=\"row_heading level0 row10\" >Month_Crawled</th>\n",
       "      <td id=\"T_9ef53_row10_col0\" class=\"data row10 col0\" >0.016530</td>\n",
       "      <td id=\"T_9ef53_row10_col1\" class=\"data row10 col1\" >-0.000845</td>\n",
       "      <td id=\"T_9ef53_row10_col2\" class=\"data row10 col2\" >0.003658</td>\n",
       "      <td id=\"T_9ef53_row10_col3\" class=\"data row10 col3\" >-0.002671</td>\n",
       "      <td id=\"T_9ef53_row10_col4\" class=\"data row10 col4\" >-0.002319</td>\n",
       "      <td id=\"T_9ef53_row10_col5\" class=\"data row10 col5\" >nan</td>\n",
       "      <td id=\"T_9ef53_row10_col6\" class=\"data row10 col6\" >0.010526</td>\n",
       "      <td id=\"T_9ef53_row10_col7\" class=\"data row10 col7\" >0.002017</td>\n",
       "      <td id=\"T_9ef53_row10_col8\" class=\"data row10 col8\" >0.973855</td>\n",
       "      <td id=\"T_9ef53_row10_col9\" class=\"data row10 col9\" >0.386354</td>\n",
       "      <td id=\"T_9ef53_row10_col10\" class=\"data row10 col10\" >1.000000</td>\n",
       "    </tr>\n",
       "  </tbody>\n",
       "</table>\n"
      ],
      "text/plain": [
       "<pandas.io.formats.style.Styler at 0x17625027280>"
      ]
     },
     "execution_count": 8,
     "metadata": {},
     "output_type": "execute_result"
    }
   ],
   "source": [
    "df1.corr(numeric_only=True).style.background_gradient(vmin=-1, vmax=1, cmap='Spectral')"
   ]
  },
  {
   "cell_type": "markdown",
   "id": "4ba5548f",
   "metadata": {},
   "source": [
    "\n",
    "\n",
    "<div class=\"alert alert-success\">\n",
    "<font size=\"5\"><b>Комментарий ревьюера</b></font>\n",
    "\n",
    "Успех:\n",
    "\n",
    "\n",
    "\n",
    "Матрица корреляции построена \n",
    "\n",
    "\n",
    "\n",
    "<div class=\"alert alert-warning\">\n",
    "\n",
    "\n",
    "Совет: \n",
    "\n",
    "\n",
    "- коэффициент Пирсона (который использован) подходит для колличественных и нормально распределенных, для ненормально распределенных используем коэффициент Спирмена   \n",
    "\n",
    "\n",
    "\n",
    "- в то время как расчёт корреляции Спирмена имеет множество ограничений,  есть такая библиотека [phik](https://towardsdatascience.com/phik-k-get-familiar-with-the-latest-correlation-coefficient-9ba0032b37e7), ее особенности: работа с разными типами данных, в том числе категориальными, учет нелинейных отношений, плюс отличная интерпретация и визуализация. Может быть полезно в будущем\n",
    "\n",
    "\n",
    "\n"
   ]
  },
  {
   "cell_type": "markdown",
   "id": "adbe6fdc",
   "metadata": {},
   "source": [
    "<div style=\"background: #e1cfff; padding: 5px; border: 1px solid SteelBlue; border-radius: 5px;\">\n",
    "    <font color='black'>🦋<u><b>КОММЕНТАРИЙ СТУДЕНТА</b></u></font>\n",
    "    <br />\n",
    "    <font color='black'>Спасибо за совет. <b>phik</b> будет очень полезна!</font>\n",
    "</div>"
   ]
  },
  {
   "cell_type": "markdown",
   "id": "ac828d04",
   "metadata": {},
   "source": [
    "Удалим все даты, как неинформативные признаки."
   ]
  },
  {
   "cell_type": "markdown",
   "id": "b46b9b6e",
   "metadata": {},
   "source": [
    "### Удаление неинформативных признаков"
   ]
  },
  {
   "cell_type": "markdown",
   "id": "d2af6969",
   "metadata": {},
   "source": [
    "Признак **NumberOfPictures** содержит только нули, поэтому удалим его.\n",
    "\n",
    "Month_Crawled и Month_Created очень сильно коррелируют между собой, поэтому удалим признак **Month_Crawled**. Month_LastSeen также коррелирует с другими датами, однако, оставим его.\n",
    "\n",
    "Также удалим **PostalCode**: этот признак не несёт важной информации и слабо коррелирует с целевым признаком."
   ]
  },
  {
   "cell_type": "code",
   "execution_count": 9,
   "id": "4a50abe3",
   "metadata": {},
   "outputs": [],
   "source": [
    "df1 = df1.drop(['RegistrationYear', \n",
    "                'RegistrationMonth', \n",
    "                'Year_Created', \n",
    "                'Month_Created', \n",
    "                'Month_LastSeen', \n",
    "                'Month_Crawled',\n",
    "                'NumberOfPictures',\n",
    "                'PostalCode'\n",
    "               ], \n",
    "               axis=1\n",
    "              )"
   ]
  },
  {
   "cell_type": "markdown",
   "id": "aba8e426",
   "metadata": {},
   "source": [
    "<div class=\"alert alert-success\">\n",
    "<font size=\"5\"><b>Комментарий ревьюера</b></font>\n",
    "\n",
    "Успех:\n",
    "\n",
    "Если столбцы не содержат полезную информацию, то почему бы их не убрать.\n",
    "\n",
    "\n",
    "\n",
    "    \n",
    "    \n",
    "<div class=\"alert alert-warning\">\n",
    "\n",
    "\n",
    "\n",
    "Совет 🤔:\n",
    "\n",
    "\n",
    "\n",
    "Высокая корреляции между принципами называется мультиколлинеарностью. Можно от неё избавиться, но не все так плохо\n",
    "    \n",
    "\n",
    "\n",
    "- Первый момент: мультиколлинеарность проблема линейных моделей - могут переобучаться.... теоретически. Но в логистической, и в линейной регрессиях реализована регуляризация, которая решает проблему мультиколлинеарности признаков. \"Деревянные\" модели (RF, DT) устойчивы к мультиколлинеарности, а кластеризация тоже почти не зависит от линейных зависимостей. Получается, избавляться от мультиколлинеарности чтобы не переобучаться не обязательно )) \n",
    "    \n",
    "    \n",
    "- Второй момент: интерпретируемость линейной модели (мы по коеффициентам судим как признаки влияют на таргет), тут  мультиколлинеарность надо убирать.\n",
    "\n",
    "\n",
    "Так что получается что в нашем случае убирать мультиколлинеарность смысла нет, линейные модели ты не использовал\n",
    "\n"
   ]
  },
  {
   "cell_type": "markdown",
   "id": "af9f9841",
   "metadata": {},
   "source": [
    "<div style=\"background: #e1cfff; padding: 5px; border: 1px solid SteelBlue; border-radius: 5px;\">\n",
    "    <font color='black'>🦋<u><b>КОММЕНТАРИЙ СТУДЕНТА</b></u></font>\n",
    "    <br />\n",
    "    <font color='black'>Я понял. Спасибо за разъяснение про мультиколлинеарность.</font>\n",
    "</div>"
   ]
  },
  {
   "cell_type": "markdown",
   "id": "2da7a6be",
   "metadata": {},
   "source": [
    "<div class=\"alert alert-success\">\n",
    "<font size=\"5\"><b>Комментарий ревьюераV2</b></font>\n",
    "\n",
    "\n",
    "\n",
    "Успех 👍:\n",
    "\n",
    "\n",
    "\n",
    "👍\n",
    "\n",
    "\n",
    "\n",
    "\n",
    "</div>\n"
   ]
  },
  {
   "cell_type": "markdown",
   "id": "1d0df533",
   "metadata": {},
   "source": [
    "### Обработка пропусков"
   ]
  },
  {
   "cell_type": "code",
   "execution_count": 10,
   "id": "44dfdbcf",
   "metadata": {},
   "outputs": [
    {
     "name": "stdout",
     "output_type": "stream",
     "text": [
      "Доля пропусков по признакам(%):\n",
      "Repaired       20.08\n",
      "VehicleType    10.58\n",
      "FuelType        9.28\n",
      "Gearbox         5.60\n",
      "Model           5.56\n",
      "Price           0.00\n",
      "Power           0.00\n",
      "Kilometer       0.00\n",
      "Brand           0.00\n",
      "dtype: float64\n"
     ]
    }
   ],
   "source": [
    "print(f'Доля пропусков по признакам(%):\\n{(df1.isna().sum() / len(df1) * 100).round(2).sort_values(ascending=False)}')"
   ]
  },
  {
   "cell_type": "markdown",
   "id": "281a614a",
   "metadata": {},
   "source": [
    "Пропуски обнаружены в признаках: Repaired, VehicleType, FuelType, Gearbox, Model.<br>"
   ]
  },
  {
   "cell_type": "markdown",
   "id": "451c5a52",
   "metadata": {},
   "source": [
    "Создадим числовой бинарный признак `Repaired_bin` и исследуем его корреляцию с другими признаками."
   ]
  },
  {
   "cell_type": "code",
   "execution_count": 11,
   "id": "d080ae6f",
   "metadata": {},
   "outputs": [
    {
     "name": "stdout",
     "output_type": "stream",
     "text": [
      "Price          -0.242167\n",
      "Power          -0.031302\n",
      "Kilometer       0.087478\n",
      "Repaired_bin    1.000000\n",
      "Name: Repaired_bin, dtype: float64\n"
     ]
    }
   ],
   "source": [
    "df1['Repaired_bin'] = df1['Repaired'].map({'yes': 1, 'no': 0})\n",
    "print(df1.corr(numeric_only=True)['Repaired_bin'])\n",
    "df1 = df1.drop('Repaired_bin', axis=1)"
   ]
  },
  {
   "cell_type": "markdown",
   "id": "6eca4de1",
   "metadata": {},
   "source": [
    "<s>Факт ремонта автомобиля заметно коррелирует с целевым признаком (цена), поэтому он важен. Однако, так как из имеющихся данных невозможно понять был ли автомобиль в ремонте (несущественная корреляция), то придётся удалить объекты с пропущенными значениями в признаке `Repaired`.</s>"
   ]
  },
  {
   "cell_type": "code",
   "execution_count": 12,
   "id": "b7ec994c",
   "metadata": {
    "scrolled": true
   },
   "outputs": [],
   "source": [
    "#df1 = df1.dropna(subset='Repaired')\n",
    "#print(f'Repaired: было удалено {df[\"Repaired\"].isna().sum() - df1[\"Repaired\"].isna().sum()} объектов с пропущенными значениями.')\n",
    "#df1 = df1.drop('Repaired_bin', axis=1)"
   ]
  },
  {
   "cell_type": "markdown",
   "id": "df5bc3ea",
   "metadata": {},
   "source": [
    "<div class=\"alert alert-danger\">\n",
    "<font size=\"5\"><b>Комментарий ревьюера</b></font>\n",
    "\n",
    "\n",
    "\n",
    "Ошибка ❌:\n",
    "\n",
    "\n",
    "\n",
    "\n",
    "- Здорово что ты обращаешь внимание на сколько уменьшится наша выборка, и тут как раз обоснование почему не стоит удалять такой весомый процент данных. Любой вариант заполнения пропусков это искажение данных, так но в данном случае кажется что потеря такого количества информации большее из    зол\n",
    "    \n",
    "    \n",
    "   "
   ]
  },
  {
   "cell_type": "markdown",
   "id": "8fe065f4",
   "metadata": {},
   "source": [
    "<div style=\"background: #e1cfff; padding: 5px; border: 1px solid SteelBlue; border-radius: 5px;\">\n",
    "    <font color='black'>🦋<u><b>КОММЕНТАРИЙ СТУДЕНТА</b></u></font>\n",
    "    <br />\n",
    "    <font color='black'>Я сомневался, но решил пойти простым путём. Для меня всегда сложная дилемма: надёжно удалить большое количество пропусков или рискованно заполнить их.<br>Ниже заполняю пропуски тем же способом, как и пропуски в других признаках.</font>\n",
    "</div>"
   ]
  },
  {
   "cell_type": "markdown",
   "id": "578341bf",
   "metadata": {},
   "source": [
    "<div class=\"alert alert-warning\">\n",
    "<font size=\"5\"><b>Комментарий ревьюераV2</b></font>\n",
    "\n",
    "\n",
    "\n",
    "Совет 🤔:\n",
    "\n",
    "\n",
    "\n",
    "Согласен, работа с пропусками - это не просто, это часто творческий процесс и  поиск разных вариантов, ведь обычно мы не знаем истинную причину пропусков. Тут очень подробно расписано, [первая часть](https://www.dmitrymakarov.ru/data-analysis/nan-06/), [вторая часть](https://www.dmitrymakarov.ru/data-analysis/nan-06-2/). \n"
   ]
  },
  {
   "cell_type": "markdown",
   "id": "a21ee260",
   "metadata": {},
   "source": [
    "Так как пропусков много и признак `Repaired` важен, то попробуем заполнить их, исходя из других признаков `Brand` & `Model` & `VehicleType` etc."
   ]
  },
  {
   "cell_type": "code",
   "execution_count": 13,
   "id": "d107accb",
   "metadata": {},
   "outputs": [],
   "source": [
    "# функция возвращает самое частое значение типа коробки передач для данного типа объектов\n",
    "# проверка на тип и модель автомобиля\n",
    "def get_filling(row, grouped):\n",
    "    if row['Model'] in grouped[row['Brand']]:\n",
    "        if row['VehicleType'] in grouped[row['Brand']][row['Model']]:\n",
    "            return grouped[row['Brand']][row['Model']][row['VehicleType']].idxmax()\n",
    "        else:\n",
    "            return grouped[row['Brand']][row['Model']].idxmax()[-1]\n",
    "    else:\n",
    "        return grouped[row['Brand']].idxmax()[-1]\n",
    "\n",
    "# vehicle type filling\n",
    "def get_filling1(row, grouped):\n",
    "    if row['Model'] in grouped[row['Brand']]:\n",
    "        return grouped[row['Brand']][row['Model']].idxmax()\n",
    "    else:\n",
    "        return grouped[row['Brand']].idxmax()[-1]\n",
    "\n",
    "# model filling\n",
    "def get_filling2(row, grouped):\n",
    "    if row['VehicleType'] in grouped[row['Brand']]:\n",
    "        if row['FuelType'] in grouped[row['Brand']][row['VehicleType']]:\n",
    "            return grouped[row['Brand']][row['VehicleType']][row['FuelType']].idxmax()\n",
    "        else:\n",
    "            return grouped[row['Brand']][row['VehicleType']].idxmax()[-1]\n",
    "    else:\n",
    "        return grouped[row['Brand']].idxmax()[-1]"
   ]
  },
  {
   "cell_type": "markdown",
   "id": "d0ae6cd6",
   "metadata": {},
   "source": [
    "Заполним пропуски (кроме бренда \"sonstige_autos\" - там много пропусков в других признаках)."
   ]
  },
  {
   "cell_type": "code",
   "execution_count": 14,
   "id": "b9db0ad5",
   "metadata": {},
   "outputs": [
    {
     "name": "stdout",
     "output_type": "stream",
     "text": [
      "Repaired: было заполнено 69831 пропущенных значений.\n",
      "Gearbox: было заполнено 18730 пропущенных значений.\n",
      "FuelType: было заполнено 31791 пропущенных значений.\n",
      "VehicleType: было заполнено 36449 пропущенных значений.\n",
      "Model: было заполнено 16331 пропущенных значений.\n"
     ]
    }
   ],
   "source": [
    "# Ремонт\n",
    "repaired_group = df.groupby(['Brand', 'Model', 'VehicleType'])['Repaired'].value_counts()\n",
    "# заполнение пропусков\n",
    "repaired_na_mask = (df1['Repaired'].isna()) & (df1['Brand'] != 'sonstige_autos')\n",
    "df1.loc[repaired_na_mask, 'Repaired'] = df1[repaired_na_mask].apply(get_filling, grouped=repaired_group, axis=1)\n",
    "print(f'Repaired: было заполнено {df[\"Repaired\"].isna().sum() - df1[\"Repaired\"].isna().sum()} пропущенных значений.')\n",
    "\n",
    "# Тип коробки передач\n",
    "gearbox_group = df.groupby(['Brand', 'Model', 'VehicleType'])['Gearbox'].value_counts()\n",
    "# заполнение пропусков\n",
    "gearbox_na_mask = (df1['Gearbox'].isna()) & (df1['Brand'] != 'sonstige_autos')\n",
    "df1.loc[gearbox_na_mask, 'Gearbox'] = df1[gearbox_na_mask].apply(get_filling, grouped=gearbox_group, axis=1)\n",
    "print(f'Gearbox: было заполнено {df[\"Gearbox\"].isna().sum() - df1[\"Gearbox\"].isna().sum()} пропущенных значений.')\n",
    "\n",
    "# Тип топлива\n",
    "fueltype_group = df.groupby(['Brand', 'Model', 'VehicleType'])['FuelType'].value_counts()\n",
    "# заполнение пропусков\n",
    "fueltype_na_mask = (df1['FuelType'].isna()) & (df1['Brand'] != 'sonstige_autos')\n",
    "df1.loc[fueltype_na_mask, 'FuelType'] = df1[fueltype_na_mask].apply(get_filling, grouped=fueltype_group, axis=1)\n",
    "print(f'FuelType: было заполнено {df[\"FuelType\"].isna().sum() - df1[\"FuelType\"].isna().sum()} пропущенных значений.')\n",
    "\n",
    "# Тип автомобиля\n",
    "vehicletype_group = df.groupby(['Brand', 'Model'])['VehicleType'].value_counts()\n",
    "# заполнение пропусков\n",
    "vehicletype_na_mask = (df1['VehicleType'].isna()) & (df1['Brand'] != 'sonstige_autos')\n",
    "df1.loc[vehicletype_na_mask, 'VehicleType'] = df1[vehicletype_na_mask].apply(get_filling1, grouped=vehicletype_group, axis=1)\n",
    "print(f'VehicleType: было заполнено {df[\"VehicleType\"].isna().sum() - df1[\"VehicleType\"].isna().sum()} пропущенных значений.')\n",
    "\n",
    "# модель автомобиля\n",
    "model_group = df.groupby(['Brand', 'VehicleType', 'FuelType'])['Model'].value_counts()\n",
    "# заполнение пропусков\n",
    "model_na_mask = (df1['Model'].isna()) & (df1['Brand'] != 'sonstige_autos')\n",
    "df1.loc[model_na_mask, 'Model'] = df1[model_na_mask].apply(get_filling2, grouped=model_group, axis=1)\n",
    "print(f'Model: было заполнено {df[\"Model\"].isna().sum() - df1[\"Model\"].isna().sum()} пропущенных значений.')"
   ]
  },
  {
   "cell_type": "markdown",
   "id": "9e2dea3c",
   "metadata": {},
   "source": [
    "<div class=\"alert alert-success\">\n",
    "<font size=\"5\"><b>Комментарий ревьюера</b></font>\n",
    "\n",
    "Успех:\n",
    " \n",
    "    \n",
    "Здорово что пробуешь заполнить пропуски более интеллектуально, используя сложные и разные группировки "
   ]
  },
  {
   "cell_type": "markdown",
   "id": "f627eaeb",
   "metadata": {},
   "source": [
    "Удалим оставшиеся пропуски."
   ]
  },
  {
   "cell_type": "code",
   "execution_count": 15,
   "id": "943f9ca5",
   "metadata": {},
   "outputs": [
    {
     "name": "stdout",
     "output_type": "stream",
     "text": [
      "Итоговое количество пропусков: 0\n",
      "Доля удалённых объектов с пропусками: 1.0%\n"
     ]
    }
   ],
   "source": [
    "df1 = df1.dropna()\n",
    "print(f'Итоговое количество пропусков: {df1.isna().sum().sum()}')\n",
    "print(f'Доля удалённых объектов с пропусками: {(df.shape[0] - df1.shape[0]) / df.shape[0]:.1%}')"
   ]
  },
  {
   "cell_type": "markdown",
   "id": "3222b0c5",
   "metadata": {},
   "source": [
    "### Обработка аномалий"
   ]
  },
  {
   "cell_type": "code",
   "execution_count": 16,
   "id": "abc638e4",
   "metadata": {},
   "outputs": [
    {
     "data": {
      "text/html": [
       "<div>\n",
       "<style scoped>\n",
       "    .dataframe tbody tr th:only-of-type {\n",
       "        vertical-align: middle;\n",
       "    }\n",
       "\n",
       "    .dataframe tbody tr th {\n",
       "        vertical-align: top;\n",
       "    }\n",
       "\n",
       "    .dataframe thead th {\n",
       "        text-align: right;\n",
       "    }\n",
       "</style>\n",
       "<table border=\"1\" class=\"dataframe\">\n",
       "  <thead>\n",
       "    <tr style=\"text-align: right;\">\n",
       "      <th></th>\n",
       "      <th>Price</th>\n",
       "      <th>Power</th>\n",
       "      <th>Kilometer</th>\n",
       "    </tr>\n",
       "  </thead>\n",
       "  <tbody>\n",
       "    <tr>\n",
       "      <th>count</th>\n",
       "      <td>350995.000000</td>\n",
       "      <td>350995.000000</td>\n",
       "      <td>350995.000000</td>\n",
       "    </tr>\n",
       "    <tr>\n",
       "      <th>mean</th>\n",
       "      <td>4410.798795</td>\n",
       "      <td>110.267585</td>\n",
       "      <td>128574.310175</td>\n",
       "    </tr>\n",
       "    <tr>\n",
       "      <th>std</th>\n",
       "      <td>4503.345959</td>\n",
       "      <td>189.080453</td>\n",
       "      <td>37470.436390</td>\n",
       "    </tr>\n",
       "    <tr>\n",
       "      <th>min</th>\n",
       "      <td>0.000000</td>\n",
       "      <td>0.000000</td>\n",
       "      <td>5000.000000</td>\n",
       "    </tr>\n",
       "    <tr>\n",
       "      <th>25%</th>\n",
       "      <td>1099.000000</td>\n",
       "      <td>69.000000</td>\n",
       "      <td>125000.000000</td>\n",
       "    </tr>\n",
       "    <tr>\n",
       "      <th>50%</th>\n",
       "      <td>2700.000000</td>\n",
       "      <td>105.000000</td>\n",
       "      <td>150000.000000</td>\n",
       "    </tr>\n",
       "    <tr>\n",
       "      <th>75%</th>\n",
       "      <td>6399.000000</td>\n",
       "      <td>142.000000</td>\n",
       "      <td>150000.000000</td>\n",
       "    </tr>\n",
       "    <tr>\n",
       "      <th>max</th>\n",
       "      <td>20000.000000</td>\n",
       "      <td>20000.000000</td>\n",
       "      <td>150000.000000</td>\n",
       "    </tr>\n",
       "  </tbody>\n",
       "</table>\n",
       "</div>"
      ],
      "text/plain": [
       "               Price          Power      Kilometer\n",
       "count  350995.000000  350995.000000  350995.000000\n",
       "mean     4410.798795     110.267585  128574.310175\n",
       "std      4503.345959     189.080453   37470.436390\n",
       "min         0.000000       0.000000    5000.000000\n",
       "25%      1099.000000      69.000000  125000.000000\n",
       "50%      2700.000000     105.000000  150000.000000\n",
       "75%      6399.000000     142.000000  150000.000000\n",
       "max     20000.000000   20000.000000  150000.000000"
      ]
     },
     "execution_count": 16,
     "metadata": {},
     "output_type": "execute_result"
    }
   ],
   "source": [
    "df1.describe()"
   ]
  },
  {
   "cell_type": "code",
   "execution_count": 17,
   "id": "4d2c8b35",
   "metadata": {
    "scrolled": false
   },
   "outputs": [
    {
     "data": {
      "image/png": "[encoded data removed]",
      "text/plain": [
       "<Figure size 600x3000 with 3 Axes>"
      ]
     },
     "metadata": {},
     "output_type": "display_data"
    }
   ],
   "source": [
    "numeric_columns = df1.select_dtypes(int).columns\n",
    "fig, axes = plt.subplots(nrows=len(numeric_columns), ncols=1, figsize=(6, 30))\n",
    "for i, ax in enumerate(axes):\n",
    "    df1[numeric_columns[i]].hist(bins=30, ax=ax)\n",
    "    ax.set_title(numeric_columns[i])\n",
    "plt.tight_layout()\n",
    "plt.show()"
   ]
  },
  {
   "cell_type": "markdown",
   "id": "316d597f",
   "metadata": {},
   "source": [
    "\n",
    "\n",
    "\n",
    "<div class=\"alert alert-success\">\n",
    "<font size=\"5\"><b>Комментарий ревьюера</b></font>\n",
    "\n",
    "Успех:\n",
    "\n",
    "Отличные графики и оформлены хорошо - не забыто добавление заголовков и благодаря использованию seaborn легенды и надписи по осям присутствуют.\n",
    "\n",
    "    \n",
    "    \n",
    "Отдельная плюс за использование  subplots, но может стоит с его помощью разместить твои графики в несколько столбцов для компактности\n",
    "    \n",
    "    "
   ]
  },
  {
   "cell_type": "markdown",
   "id": "96bec2a4",
   "metadata": {},
   "source": [
    "<div style=\"background: #e1cfff; padding: 5px; border: 1px solid SteelBlue; border-radius: 5px;\">\n",
    "    <font color='black'>🦋<u><b>КОММЕНТАРИЙ СТУДЕНТА</b></u></font>\n",
    "    <br />\n",
    "    <font color='black'>Признаки с датами ниже были удалены в пункте 2.1.</font>\n",
    "</div>"
   ]
  },
  {
   "cell_type": "markdown",
   "id": "aafb8c77",
   "metadata": {},
   "source": [
    "#### <s>RegistrationYear</s>"
   ]
  },
  {
   "cell_type": "markdown",
   "id": "ee4669a3",
   "metadata": {},
   "source": [
    "<s>Признак **RegistrationYear** явно содержит аномальные значения. Рассмотрим его подробнее объекты с годами регистрации больше **2016** и меньше **1900**.</s>"
   ]
  },
  {
   "cell_type": "code",
   "execution_count": 18,
   "id": "e7fe6264",
   "metadata": {},
   "outputs": [],
   "source": [
    "#reg_year_mask = (df1[\"RegistrationYear\"] > 2016) | (df1[\"RegistrationYear\"] < 1900)\n",
    "#display(df1[reg_year_mask].head(5))\n",
    "#print(f'Доля объектов с ошибкой в годе регистрации: {reg_year_mask.sum() / len(df1):.3%}')"
   ]
  },
  {
   "cell_type": "markdown",
   "id": "4e313265",
   "metadata": {},
   "source": [
    "<s>Налицо явная ошибка в исходных данных: год не может быть больше 2016. Скорее всего, она произошла при вводе, копировании или обработке. Но так как процент объектов с ошибкой в годе регистрации значителен (4.108%), но придётся удалить эти объекты.</s>"
   ]
  },
  {
   "cell_type": "code",
   "execution_count": 19,
   "id": "d70f934c",
   "metadata": {},
   "outputs": [],
   "source": [
    "#df1 = df1.drop(df1[reg_year_mask].index)"
   ]
  },
  {
   "cell_type": "markdown",
   "id": "c003492b",
   "metadata": {},
   "source": [
    "<div class=\"alert alert-danger\">\n",
    "<font size=\"5\"><b>Комментарий ревьюера</b></font>\n",
    "\n",
    "\n",
    "\n",
    "Ошибка ❌:\n",
    "\n",
    "\n",
    "\n",
    "\n",
    "\n",
    "Стоит обратить внимание что верхняя граница — 2016 год - год выгрузки базы"
   ]
  },
  {
   "cell_type": "markdown",
   "id": "64eeeea9",
   "metadata": {},
   "source": [
    "<div style=\"background: #e1cfff; padding: 5px; border: 1px solid SteelBlue; border-radius: 5px;\">\n",
    "    <font color='black'>🦋<u><b>КОММЕНТАРИЙ СТУДЕНТА</b></u></font>\n",
    "    <br />\n",
    "    <font color='black'>Как-то я этот факт пропустил. Спасибо.<br>Выше исправил.</font>\n",
    "</div>"
   ]
  },
  {
   "cell_type": "markdown",
   "id": "10d76d8c",
   "metadata": {},
   "source": [
    "<div class=\"alert alert-warning\">\n",
    "<font size=\"5\"><b>Комментарий ревьюераV2</b></font>\n",
    "\n",
    "\n",
    "\n",
    "Совет 🤔:\n",
    "\n",
    "\n",
    "\n",
    "Возможно строчки с годом больше 2016 содержали некорректные данные, теперь получается эти строки остались на месте. Стоило сначала удалить строчки с годом больше 2016 а потом год как неинформативный - затрудняюсь сказать, в принципе можно было вывести эти строки, и посмотреть насколько данные в другие столбцах выглядят корректно. Вот такой есть момент\n"
   ]
  },
  {
   "cell_type": "markdown",
   "id": "e55e1e1a",
   "metadata": {},
   "source": [
    "#### <s>RegistrationMonth</s>"
   ]
  },
  {
   "cell_type": "markdown",
   "id": "10f1e8a1",
   "metadata": {},
   "source": [
    "<s>Признак **RegistrationMonth** явно содержит нули. Рассмотрим его подробнее.</s>"
   ]
  },
  {
   "cell_type": "code",
   "execution_count": 20,
   "id": "0b8d3db6",
   "metadata": {},
   "outputs": [],
   "source": [
    "#reg_month_mask = (df1['RegistrationMonth'] == 0)\n",
    "#df1[reg_month_mask].shape[0]"
   ]
  },
  {
   "cell_type": "code",
   "execution_count": 21,
   "id": "61671e22",
   "metadata": {},
   "outputs": [],
   "source": [
    "#print(f'Доля объектов с ошибкой в месяце регистрации: {reg_month_mask.sum() / len(df1):.1%}')"
   ]
  },
  {
   "cell_type": "markdown",
   "id": "2e72cc46",
   "metadata": {},
   "source": [
    "<s>Налицо явная ошибка в исходных данных. Скорее всего, пользователи не ввели месяц. Процент объектов с нулевым месяцем  достаточно велик(9.7%) - удалять его нельзя. Оставим, как есть, но в дальнейшем надо разобраться, откуда берётся это значение.</s>"
   ]
  },
  {
   "cell_type": "markdown",
   "id": "bee482c4",
   "metadata": {},
   "source": [
    "<div class=\"alert alert-warning\">\n",
    "<font size=\"5\"><b>Комментарий ревьюера</b></font>\n",
    "\n",
    "\n",
    "\n",
    "Совет 🤔:\n",
    "\n",
    "\n",
    "\n",
    "Действительно 0 месяцев вряд ли указывает что данные в других столбцах некорректные, удалять не стоит. \n",
    "    \n",
    "    \n",
    "    Оставим, как есть, но в дальнейшем надо разобраться, откуда берётся это значение.\n",
    "\n",
    "    \n",
    "Вряд ли этот столбец вообще несёт какую-то полезную информацию для прогноза таргета, поэтому можно проигнорировать   "
   ]
  },
  {
   "cell_type": "markdown",
   "id": "3c25ed1e",
   "metadata": {},
   "source": [
    "<div style=\"background: #e1cfff; padding: 5px; border: 1px solid SteelBlue; border-radius: 5px;\">\n",
    "    <font color='black'>🦋<u><b>КОММЕНТАРИЙ СТУДЕНТА</b></u></font>\n",
    "    <br />\n",
    "    <font color='black'>Я понял. Спасибо.</font>\n",
    "</div>"
   ]
  },
  {
   "cell_type": "markdown",
   "id": "bc4ebeeb",
   "metadata": {},
   "source": [
    "#### Power"
   ]
  },
  {
   "cell_type": "code",
   "execution_count": 22,
   "id": "1877a844",
   "metadata": {},
   "outputs": [
    {
     "name": "stdout",
     "output_type": "stream",
     "text": [
      "Количество объектов со слишком большой мощностью двигателя: 0.08%\n"
     ]
    },
    {
     "data": {
      "image/png": "[encoded data removed]",
      "text/plain": [
       "<Figure size 640x480 with 1 Axes>"
      ]
     },
     "metadata": {},
     "output_type": "display_data"
    }
   ],
   "source": [
    "reg_power_mask = (df1['Power'] > 1000)\n",
    "print(f'Количество объектов со слишком большой мощностью двигателя: {reg_power_mask.sum() / len(df1):.2%}')\n",
    "df1[reg_power_mask]['Power'].hist(bins=30)\n",
    "plt.title('Подозрительно высокая мощность двигателя')\n",
    "plt.xlabel('Мощность двигателя, л.с.')\n",
    "plt.ylabel('Количество автомобилей');"
   ]
  },
  {
   "cell_type": "markdown",
   "id": "d9aa5d0a",
   "metadata": {},
   "source": [
    "<div class=\"alert alert-warning\">\n",
    "<font size=\"5\"><b>Комментарий ревьюера</b></font>\n",
    "\n",
    "\n",
    "\n",
    "Совет 🤔:\n",
    "\n",
    "\n",
    "\n",
    "А вот тут стоит добавить подписи по осям и название графика\n"
   ]
  },
  {
   "cell_type": "markdown",
   "id": "27228138",
   "metadata": {},
   "source": [
    "<div style=\"background: #e1cfff; padding: 5px; border: 1px solid SteelBlue; border-radius: 5px;\">\n",
    "    <font color='black'>🦋<u><b>КОММЕНТАРИЙ СТУДЕНТА</b></u></font>\n",
    "    <br />\n",
    "    <font color='black'>Добавил.</font>\n",
    "</div>"
   ]
  },
  {
   "cell_type": "markdown",
   "id": "1d7a10fd",
   "metadata": {},
   "source": [
    "Вероятно, аномалии в мощности двигателя связаны с ошибкой в конвертации или вводе данных. Мощности у некоторых автомобилей увеличены в 10-100 раз. Но этих объектов очень мало (0.08%), поэтому просто удалим их."
   ]
  },
  {
   "cell_type": "code",
   "execution_count": 23,
   "id": "6c2ca764",
   "metadata": {
    "scrolled": true
   },
   "outputs": [],
   "source": [
    "df1 = df1.drop(df1[reg_power_mask].index)"
   ]
  },
  {
   "cell_type": "markdown",
   "id": "4fa72a8c",
   "metadata": {},
   "source": [
    "В данных много объектов с мощностью равной нулю. Пользователи, вероятно, забыли заполнить это поле и по умолчанию оно стало нулём. Его можно заполнить так же, как пропущенные значения."
   ]
  },
  {
   "cell_type": "code",
   "execution_count": 24,
   "id": "92ebf12b",
   "metadata": {},
   "outputs": [
    {
     "name": "stdout",
     "output_type": "stream",
     "text": [
      "Количество объектов с нулевой мощностью двигателя: 11.07%\n"
     ]
    },
    {
     "data": {
      "text/html": [
       "<div>\n",
       "<style scoped>\n",
       "    .dataframe tbody tr th:only-of-type {\n",
       "        vertical-align: middle;\n",
       "    }\n",
       "\n",
       "    .dataframe tbody tr th {\n",
       "        vertical-align: top;\n",
       "    }\n",
       "\n",
       "    .dataframe thead th {\n",
       "        text-align: right;\n",
       "    }\n",
       "</style>\n",
       "<table border=\"1\" class=\"dataframe\">\n",
       "  <thead>\n",
       "    <tr style=\"text-align: right;\">\n",
       "      <th></th>\n",
       "      <th>Price</th>\n",
       "      <th>VehicleType</th>\n",
       "      <th>Gearbox</th>\n",
       "      <th>Power</th>\n",
       "      <th>Model</th>\n",
       "      <th>Kilometer</th>\n",
       "      <th>FuelType</th>\n",
       "      <th>Brand</th>\n",
       "      <th>Repaired</th>\n",
       "    </tr>\n",
       "  </thead>\n",
       "  <tbody>\n",
       "    <tr>\n",
       "      <th>0</th>\n",
       "      <td>480</td>\n",
       "      <td>sedan</td>\n",
       "      <td>manual</td>\n",
       "      <td>0</td>\n",
       "      <td>golf</td>\n",
       "      <td>150000</td>\n",
       "      <td>petrol</td>\n",
       "      <td>volkswagen</td>\n",
       "      <td>no</td>\n",
       "    </tr>\n",
       "    <tr>\n",
       "      <th>15</th>\n",
       "      <td>450</td>\n",
       "      <td>small</td>\n",
       "      <td>manual</td>\n",
       "      <td>0</td>\n",
       "      <td>ka</td>\n",
       "      <td>5000</td>\n",
       "      <td>petrol</td>\n",
       "      <td>ford</td>\n",
       "      <td>no</td>\n",
       "    </tr>\n",
       "    <tr>\n",
       "      <th>32</th>\n",
       "      <td>245</td>\n",
       "      <td>sedan</td>\n",
       "      <td>manual</td>\n",
       "      <td>0</td>\n",
       "      <td>golf</td>\n",
       "      <td>150000</td>\n",
       "      <td>petrol</td>\n",
       "      <td>volkswagen</td>\n",
       "      <td>no</td>\n",
       "    </tr>\n",
       "  </tbody>\n",
       "</table>\n",
       "</div>"
      ],
      "text/plain": [
       "    Price VehicleType Gearbox  Power Model  Kilometer FuelType       Brand  \\\n",
       "0     480       sedan  manual      0  golf     150000   petrol  volkswagen   \n",
       "15    450       small  manual      0    ka       5000   petrol        ford   \n",
       "32    245       sedan  manual      0  golf     150000   petrol  volkswagen   \n",
       "\n",
       "   Repaired  \n",
       "0        no  \n",
       "15       no  \n",
       "32       no  "
      ]
     },
     "execution_count": 24,
     "metadata": {},
     "output_type": "execute_result"
    }
   ],
   "source": [
    "reg_power0_mask = (df1['Power'] == 0)\n",
    "print(f'Количество объектов с нулевой мощностью двигателя: {reg_power0_mask.sum() / len(df1):.2%}')\n",
    "df1[reg_power0_mask].head(3)"
   ]
  },
  {
   "cell_type": "markdown",
   "id": "1f33d348",
   "metadata": {},
   "source": [
    "Подберём для них значение мощности по соответствующим значениям других признаков."
   ]
  },
  {
   "cell_type": "code",
   "execution_count": 25,
   "id": "63e05c3d",
   "metadata": {
    "scrolled": true
   },
   "outputs": [],
   "source": [
    "power_group = df1.groupby(['Brand', 'Model', 'VehicleType', 'FuelType'])['Power'].mean()\n",
    "\n",
    "# функция возвращает среднее значение мощности для данного типа объектов\n",
    "# проверка на тип и модель автомобиля + тип топлива\n",
    "def get_power(row):\n",
    "    if row['Model'] in power_group[row['Brand']]:\n",
    "        if row['VehicleType'] in power_group[row['Brand']][row['Model']]:\n",
    "            if row['FuelType'] in power_group[row['Brand']][row['Model']][row['VehicleType']]:\n",
    "                return power_group[row['Brand']][row['Model']][row['VehicleType']][row['FuelType']]\n",
    "            else:\n",
    "                return power_group[row['Brand']][row['Model']][row['VehicleType']].mean()\n",
    "        else:\n",
    "            return power_group[row['Brand']][row['Model']].mean()\n",
    "    else:\n",
    "        return power_group[row['Brand']].mean()\n",
    "\n",
    "df1.loc[reg_power0_mask, 'Power'] = df1[reg_power0_mask].apply(get_power, axis=1).astype(int)"
   ]
  },
  {
   "cell_type": "markdown",
   "id": "cf809eb5",
   "metadata": {},
   "source": [
    "Удалим оставшиеся необработанными значения."
   ]
  },
  {
   "cell_type": "code",
   "execution_count": 26,
   "id": "dc8bf6f3",
   "metadata": {},
   "outputs": [],
   "source": [
    "df1 = df1.drop(df1[df1['Power'] == 0].index)"
   ]
  },
  {
   "cell_type": "markdown",
   "id": "f5da5ef9",
   "metadata": {},
   "source": [
    "<div class=\"alert alert-success\">\n",
    "<font size=\"5\"><b>Комментарий ревьюера</b></font>\n",
    "\n",
    "\n",
    "\n",
    "Успех 👍:\n",
    "\n",
    "\n",
    "проще было сразу удалить, так как все равно это на наш прогноз никак не повлияет, но если хочешь попробовать востановить где оказались нули - почему нет"
   ]
  },
  {
   "cell_type": "markdown",
   "id": "ed52ff4a",
   "metadata": {},
   "source": [
    "<div style=\"background: #e1cfff; padding: 5px; border: 1px solid SteelBlue; border-radius: 5px;\">\n",
    "    <font color='black'>🦋<u><b>КОММЕНТАРИЙ СТУДЕНТА</b></u></font>\n",
    "    <br />\n",
    "    <font color='black'>Да, порой хочется заполнить всё, что более-менее понятно, как и зачем заполнять))).</font>\n",
    "</div>"
   ]
  },
  {
   "cell_type": "markdown",
   "id": "2c14e84a",
   "metadata": {},
   "source": [
    "<div class=\"alert alert-success\">\n",
    "<font size=\"5\"><b>Комментарий ревьюераV2</b></font>\n",
    "\n",
    "\n",
    "\n",
    "Успех 👍:\n",
    "\n",
    "\n",
    "\n",
    "Почему бы не попрактиковаться в заполнение,  Тем более у тебя уже есть готовая схема функции со сложной логикой заполнения по средней в группировке\n"
   ]
  },
  {
   "cell_type": "markdown",
   "id": "3589d6f6",
   "metadata": {},
   "source": [
    "#### Price"
   ]
  },
  {
   "cell_type": "markdown",
   "id": "61870fd0",
   "metadata": {},
   "source": [
    "В наборе данных присутствуют автомобили с нулевой ценой. Рассмотрим этот случай подробнее."
   ]
  },
  {
   "cell_type": "code",
   "execution_count": 27,
   "id": "353fd757",
   "metadata": {},
   "outputs": [
    {
     "name": "stdout",
     "output_type": "stream",
     "text": [
      "Количество объектов со нулевой ценой двигателя: 2.91%\n"
     ]
    },
    {
     "data": {
      "text/html": [
       "<div>\n",
       "<style scoped>\n",
       "    .dataframe tbody tr th:only-of-type {\n",
       "        vertical-align: middle;\n",
       "    }\n",
       "\n",
       "    .dataframe tbody tr th {\n",
       "        vertical-align: top;\n",
       "    }\n",
       "\n",
       "    .dataframe thead th {\n",
       "        text-align: right;\n",
       "    }\n",
       "</style>\n",
       "<table border=\"1\" class=\"dataframe\">\n",
       "  <thead>\n",
       "    <tr style=\"text-align: right;\">\n",
       "      <th></th>\n",
       "      <th>Price</th>\n",
       "      <th>VehicleType</th>\n",
       "      <th>Gearbox</th>\n",
       "      <th>Power</th>\n",
       "      <th>Model</th>\n",
       "      <th>Kilometer</th>\n",
       "      <th>FuelType</th>\n",
       "      <th>Brand</th>\n",
       "      <th>Repaired</th>\n",
       "    </tr>\n",
       "  </thead>\n",
       "  <tbody>\n",
       "    <tr>\n",
       "      <th>7</th>\n",
       "      <td>0</td>\n",
       "      <td>sedan</td>\n",
       "      <td>manual</td>\n",
       "      <td>50</td>\n",
       "      <td>other</td>\n",
       "      <td>40000</td>\n",
       "      <td>petrol</td>\n",
       "      <td>volkswagen</td>\n",
       "      <td>no</td>\n",
       "    </tr>\n",
       "    <tr>\n",
       "      <th>40</th>\n",
       "      <td>0</td>\n",
       "      <td>small</td>\n",
       "      <td>manual</td>\n",
       "      <td>56</td>\n",
       "      <td>corsa</td>\n",
       "      <td>150000</td>\n",
       "      <td>petrol</td>\n",
       "      <td>opel</td>\n",
       "      <td>no</td>\n",
       "    </tr>\n",
       "    <tr>\n",
       "      <th>111</th>\n",
       "      <td>0</td>\n",
       "      <td>sedan</td>\n",
       "      <td>manual</td>\n",
       "      <td>92</td>\n",
       "      <td>golf</td>\n",
       "      <td>5000</td>\n",
       "      <td>petrol</td>\n",
       "      <td>volkswagen</td>\n",
       "      <td>no</td>\n",
       "    </tr>\n",
       "  </tbody>\n",
       "</table>\n",
       "</div>"
      ],
      "text/plain": [
       "     Price VehicleType Gearbox  Power  Model  Kilometer FuelType       Brand  \\\n",
       "7        0       sedan  manual     50  other      40000   petrol  volkswagen   \n",
       "40       0       small  manual     56  corsa     150000   petrol        opel   \n",
       "111      0       sedan  manual     92   golf       5000   petrol  volkswagen   \n",
       "\n",
       "    Repaired  \n",
       "7         no  \n",
       "40        no  \n",
       "111       no  "
      ]
     },
     "execution_count": 27,
     "metadata": {},
     "output_type": "execute_result"
    }
   ],
   "source": [
    "reg_price0_mask = (df1['Price'] == 0)\n",
    "print(f'Количество объектов со нулевой ценой двигателя: {reg_price0_mask.sum() / len(df1):.2%}')\n",
    "df1[reg_price0_mask].head(3)"
   ]
  },
  {
   "cell_type": "markdown",
   "id": "e632d2b4",
   "metadata": {},
   "source": [
    "Так как количество таких объектов невелико (2.82%), а обучать на нулевых значениях не имеет смысла, то просто удалим из набора эти объекты, чтобы не смещать прогноз."
   ]
  },
  {
   "cell_type": "code",
   "execution_count": 28,
   "id": "99e9464e",
   "metadata": {},
   "outputs": [],
   "source": [
    "df1 = df1[df1['Price'] != 0]"
   ]
  },
  {
   "cell_type": "markdown",
   "id": "125737be",
   "metadata": {},
   "source": [
    "<div class=\"alert alert-warning\">\n",
    "<font size=\"5\"><b>Комментарий ревьюера</b></font>\n",
    "\n",
    "\n",
    "\n",
    "Совет 🤔:\n",
    "\n",
    "\n",
    "Кажется проще было так\n",
    "    \n",
    "    df = df[df['price'] != 0]\n"
   ]
  },
  {
   "cell_type": "markdown",
   "id": "ec1b6aba",
   "metadata": {},
   "source": [
    "<div style=\"background: #e1cfff; padding: 5px; border: 1px solid SteelBlue; border-radius: 5px;\">\n",
    "    <font color='black'>🦋<u><b>КОММЕНТАРИЙ СТУДЕНТА</b></u></font>\n",
    "    <br />\n",
    "    <font color='black'>Согласен. Спасибо.</font>\n",
    "</div>"
   ]
  },
  {
   "cell_type": "markdown",
   "id": "2f2afe68",
   "metadata": {},
   "source": [
    "Рассмотрим структуру цен на гистограмме."
   ]
  },
  {
   "cell_type": "code",
   "execution_count": 29,
   "id": "af2c2c1d",
   "metadata": {},
   "outputs": [
    {
     "data": {
      "image/png": "[encoded data removed]",
      "text/plain": [
       "<Figure size 1200x800 with 1 Axes>"
      ]
     },
     "metadata": {},
     "output_type": "display_data"
    }
   ],
   "source": [
    "df1['Price'].hist(bins=40, figsize=(12, 8));"
   ]
  },
  {
   "cell_type": "markdown",
   "id": "751e0b3c",
   "metadata": {},
   "source": [
    "<div class=\"alert alert-warning\">\n",
    "<font size=\"5\"><b>Комментарий ревьюера</b></font>\n",
    "\n",
    "Совет 🤔:\n",
    "\n",
    "\n",
    "- Если хочешь убрать AxesSub.  то ставь в конце `;` или пропиши plt.show()\n"
   ]
  },
  {
   "cell_type": "markdown",
   "id": "bcd6dfd7",
   "metadata": {},
   "source": [
    "<s>Введём новый бинарный признак: **is_expensive** - высокая ли цена у автомобиля. Критерием будет цена выше 10000 евро.</s>"
   ]
  },
  {
   "cell_type": "markdown",
   "id": "9c582a14",
   "metadata": {},
   "source": [
    "<div class=\"alert alert-danger\">\n",
    "<font size=\"5\"><b>Комментарий ревьюера</b></font>\n",
    "\n",
    "\n",
    "\n",
    "Ошибка:\n",
    "\n",
    "\n",
    "Price это наш таргет, то что нам нужно предсказать, нечто неизвестное, а ты на основе него создаешь признак. Это называется подглядыванием\n"
   ]
  },
  {
   "cell_type": "markdown",
   "id": "74f0fac3",
   "metadata": {},
   "source": [
    "<div style=\"background: #e1cfff; padding: 5px; border: 1px solid SteelBlue; border-radius: 5px;\">\n",
    "    <font color='black'>🦋<u><b>КОММЕНТАРИЙ СТУДЕНТА</b></u></font>\n",
    "    <br />\n",
    "    <font color='black'>Да, это я увлёкся слишком! Спасибо. <br> Убрал из кода.</font>\n",
    "</div>"
   ]
  },
  {
   "cell_type": "markdown",
   "id": "c0e49135",
   "metadata": {},
   "source": [
    "<div class=\"alert alert-success\">\n",
    "<font size=\"5\"><b>Комментарий ревьюераV2</b></font>\n",
    "\n",
    "\n",
    "\n",
    "Успех 👍:\n",
    "\n",
    "\n",
    "\n",
    "👍\n",
    "\n",
    "\n",
    "\n",
    "\n",
    "</div>\n"
   ]
  },
  {
   "cell_type": "code",
   "execution_count": 30,
   "id": "7fa6ec6e",
   "metadata": {},
   "outputs": [],
   "source": [
    "#df1['is_expensive'] = df1['Price'].apply(lambda x: int(x >= 10000))"
   ]
  },
  {
   "cell_type": "code",
   "execution_count": 31,
   "id": "a4e0f5e6",
   "metadata": {},
   "outputs": [],
   "source": [
    "#df1.corr(numeric_only=True)['is_expensive']"
   ]
  },
  {
   "cell_type": "markdown",
   "id": "982ea66f",
   "metadata": {},
   "source": [
    "### Выводы 1"
   ]
  },
  {
   "cell_type": "code",
   "execution_count": 32,
   "id": "d37bf6df",
   "metadata": {},
   "outputs": [
    {
     "name": "stdout",
     "output_type": "stream",
     "text": [
      "Результаты предобработки данных:\n",
      "Размер выборки: (340259, 9)\n",
      "Удалено объектов: 14110 (3.98%)\n",
      "Количество пропусков в данных: 0\n"
     ]
    }
   ],
   "source": [
    "print('Результаты предобработки данных:')\n",
    "print(f'Размер выборки: {df1.shape}')\n",
    "print(f'Удалено объектов: {len(df) - len(df1)} ({(len(df) - len(df1)) / len(df):.2%})')\n",
    "print(f'Количество пропусков в данных: {df1.isna().sum().sum()}')"
   ]
  },
  {
   "cell_type": "markdown",
   "id": "f70fc9f4",
   "metadata": {},
   "source": [
    "Данные имеют не самое лучшее качество. Особенно информация о ремонте автомобилей, которая может сильно влиять на цену. Возможно, следует улучшить сбор данных от пользователей с целью уменьшения количества пропусков и некорректно введённой информации."
   ]
  },
  {
   "cell_type": "markdown",
   "id": "6d35e106",
   "metadata": {},
   "source": [
    "## Подготовка выборок для обучения"
   ]
  },
  {
   "cell_type": "markdown",
   "id": "e4df62bc",
   "metadata": {},
   "source": [
    "<s>Так как модель автомобиля зависит от бренда, то лучше объединить признаки **Brand** и **Model** в один общий признак.</s>"
   ]
  },
  {
   "cell_type": "code",
   "execution_count": 33,
   "id": "6aec643f",
   "metadata": {},
   "outputs": [],
   "source": [
    "#df1['Brand_Model'] = df1['Brand'] + '_' + df1['Model']\n",
    "#df1 = df1.drop(['Brand', 'Model'], axis=1)"
   ]
  },
  {
   "cell_type": "markdown",
   "id": "b6d10682",
   "metadata": {},
   "source": [
    "<div class=\"alert alert-danger\">\n",
    "<font size=\"5\"><b>Комментарий ревьюера</b></font>\n",
    "\n",
    "\n",
    "\n",
    "Ошибка:\n",
    "\n",
    "\n",
    "\n",
    "Наверное только Метрика, могла бы рассудить насколько полезно такое действие. Пока я вижу что вместо двух столбцов с мЕньшим числом уникальных значений,  ты получил один столбец в бОльшем числом уникальных значений. \n",
    "\n",
    "Но вот на что точно стоит обратить внимание в этом ракурсе - это на 'petrol' и 'gasoline', ведь это   название одного и того же в разных странах    "
   ]
  },
  {
   "cell_type": "markdown",
   "id": "3c69d38f",
   "metadata": {},
   "source": [
    "<div style=\"background: #e1cfff; padding: 5px; border: 1px solid SteelBlue; border-radius: 5px;\">\n",
    "    <font color='black'>🦋<u><b>КОММЕНТАРИЙ СТУДЕНТА</b></u></font>\n",
    "    <br />\n",
    "    <font color='black'>Согласен. Спасибо.<br> Убрал из кода. Добавил коррекцию топлива ниже.</font>\n",
    "</div>"
   ]
  },
  {
   "cell_type": "markdown",
   "id": "3fe715b8",
   "metadata": {},
   "source": [
    "Так как \"petrol\" и \"gasoline\" - это по своей сути одно и то же, то приведём это к одному значению."
   ]
  },
  {
   "cell_type": "code",
   "execution_count": 34,
   "id": "db86dcd3",
   "metadata": {},
   "outputs": [],
   "source": [
    "df1.loc[df1['FuelType'] == 'petrol', 'FuelType'] = 'gasoline'"
   ]
  },
  {
   "cell_type": "code",
   "execution_count": 35,
   "id": "f9d66c9b",
   "metadata": {},
   "outputs": [
    {
     "data": {
      "text/plain": [
       "array(['gasoline', 'lpg', 'other', 'hybrid', 'cng', 'electric'],\n",
       "      dtype=object)"
      ]
     },
     "execution_count": 35,
     "metadata": {},
     "output_type": "execute_result"
    }
   ],
   "source": [
    "df1['FuelType'].unique()"
   ]
  },
  {
   "cell_type": "markdown",
   "id": "cde2b1b4",
   "metadata": {},
   "source": [
    "### Разделение выборки"
   ]
  },
  {
   "cell_type": "markdown",
   "id": "e2b7e061",
   "metadata": {},
   "source": [
    "Разделим выборку на три части: обучающая, тестовая, валидационная - 3:1:1."
   ]
  },
  {
   "cell_type": "code",
   "execution_count": 36,
   "id": "8d7e8392",
   "metadata": {},
   "outputs": [
    {
     "name": "stdout",
     "output_type": "stream",
     "text": [
      "Train features: (204155, 8)\n",
      "Valid features: (68052, 8)\n",
      "Test  features: (68052, 8)\n",
      "Train target:   (204155,)\n",
      "Valid  target:  (68052,)\n",
      "Test  target:   (68052,)\n"
     ]
    }
   ],
   "source": [
    "features = df1.drop('Price', axis=1)\n",
    "target = df1['Price']\n",
    "\n",
    "X_train_valid, X_test, y_train_valid, y_test = train_test_split(features, target, \n",
    "                                                                test_size=0.2, \n",
    "                                                                shuffle=True, \n",
    "                                                                random_state=RSTATE)\n",
    "\n",
    "X_train, X_valid, y_train, y_valid = train_test_split(X_train_valid, y_train_valid, \n",
    "                                                      test_size=0.25, \n",
    "                                                      shuffle=True, \n",
    "                                                      random_state=RSTATE)\n",
    "print(f'Train features: {X_train.shape}')\n",
    "print(f'Valid features: {X_valid.shape}')\n",
    "print(f'Test  features: {X_test.shape}')\n",
    "print(f'Train target:   {y_train.shape}')\n",
    "print(f'Valid  target:  {y_valid.shape}')\n",
    "print(f'Test  target:   {y_test.shape}')"
   ]
  },
  {
   "cell_type": "markdown",
   "id": "bbdfa4f9",
   "metadata": {},
   "source": [
    "<div class=\"alert alert-success\">\n",
    "<font size=\"5\"><b>Комментарий ревьюера</b></font>\n",
    "\n",
    "Успех:\n",
    "\n",
    "\n",
    "- random_state на месте\n",
    "\n",
    "\n",
    "\n",
    "    \n",
    "- плюс за  проверку\n",
    "    \n",
    "    \n",
    "\n",
    "\n",
    "\n",
    "<div class=\"alert alert-warning\">\n",
    "\n",
    "\n",
    "\n",
    "Совет: \n",
    "\n",
    "\n",
    "\n",
    "\n",
    "\n",
    "\n",
    "\n",
    "\n",
    "\n",
    "\n",
    "- обрати внимание на аргумент stratify, он позволит сохранить изначальное распределение таргетов во всех новых датасетах.  Существующий дисбаланс никуда не денется, но в каждом датасете он будет одинаковым. [Почитать](https://pythonru.com/baza-znanij/sklearn-train-test-split) можно тут\n",
    "\n",
    "\n"
   ]
  },
  {
   "cell_type": "markdown",
   "id": "f8a7f76d",
   "metadata": {},
   "source": [
    "### Подготовка признаков"
   ]
  },
  {
   "cell_type": "markdown",
   "id": "6b581710",
   "metadata": {},
   "source": [
    "#### Категориальные признаки"
   ]
  },
  {
   "cell_type": "markdown",
   "id": "dd38f22d",
   "metadata": {},
   "source": [
    "<s>Закодируем категориальные признаки методом OneHotEncoder.</s>"
   ]
  },
  {
   "cell_type": "code",
   "execution_count": 37,
   "id": "fce9b4eb",
   "metadata": {},
   "outputs": [],
   "source": [
    "# код ревьюера\n",
    "\n",
    "# cat_features = ['VehicleType', 'Gearbox', 'FuelType', 'Repaired', 'is_expensive']\n",
    "# cat_features_ohe = list(map(lambda x: x + '_ohe', cat_features))\n",
    "\n",
    "# ohe_encoder = OneHotEncoder(drop='first', sparse=False)\n",
    "# X_train[ohe_encoder.get_feature_names()] = ohe_encoder.fit_transform(X_train[cat_features])\n",
    "# X_valid[ohe_encoder.get_feature_names()] = ohe_encoder.transform(X_valid[cat_features])\n",
    "# X_test[ohe_encoder.get_feature_names()]  = ohe_encoder.transform(X_test[cat_features])\n",
    "\n",
    "# X_train = X_train.drop(cat_features, axis=1)\n",
    "# X_valid = X_valid.drop(cat_features, axis=1)\n",
    "# X_test = X_test.drop(cat_features, axis=1)"
   ]
  },
  {
   "cell_type": "markdown",
   "id": "183b2692",
   "metadata": {},
   "source": [
    "<div class=\"alert alert-danger\">\n",
    "<font size=\"5\"><b>Комментарий ревьюера</b></font>\n",
    "\n",
    "\n",
    "\n",
    "Ошибка ❌:\n",
    "\n",
    "\n",
    "- Тут опять вылетает ошибка исполнения кода, пришлось подправить на handle_unknown='error' и 'get_feature_names'. Всё-таки стоит ориентироваться на версию которая у нас в тренажёре\n",
    "    \n",
    "    \n",
    "- А во вторых данный способ кодирования отлично подошёл бы для линейных моделей (можешь обьяснить почему? почему для линейных не годится OrdinalEncoder, в отличие от деревянных), но ты их не использовал.  \n",
    "    \n",
    "    \n",
    "Для древесных моделей  не стоит использовать `OneHotEncoder()` или его упрощенный аналог `get_dummies()`, эта техника кодирования увеличивает количество признаков, в результате чего модели сложнее создавать разделяющие правила, поэтому время работы и расчётные характеристики моделей сильно страдают на больших наборах данных. \n",
    "    \n",
    "    \n",
    "Вместо этого мы можем использовать\n",
    "    \n",
    "- `OrdinalEncoder()`: Этот метод кодирования категориальных признаков назначает уникальные целочисленные значения каждой категории. Это позволяет модели работать с категориальными данными более эффективно при создании разделяющих правил.\n",
    "\n",
    "- Внутренние кодировщики: Некоторые бустинговые библиотеки, такие как CatBoost и LightGBM, имеют встроенные методы работы с категориальными признаками. Например, в CatBoost можно использовать параметр `cat_features`, чтобы указать, какие признаки являются категориальными. В LightGBM можно привести категориальные признаки к типу category, и модель будет автоматически обрабатывать их как категориальные.  Тут можно посомтреть где то с 25 минуты о [работе с категориальными признаками в catboost](https://www.youtube.com/watch?v=UYDwhuyWYSo&t=1578s&ab_channel=ComputerScienceCenter) "
   ]
  },
  {
   "cell_type": "markdown",
   "id": "ab5ef117",
   "metadata": {},
   "source": [
    "<div style=\"background: #e1cfff; padding: 5px; border: 1px solid SteelBlue; border-radius: 5px;\">\n",
    "    <font color='black'>🦋<u><b>КОММЕНТАРИЙ СТУДЕНТА</b></u></font>\n",
    "    <br />\n",
    "    <font color='black'>Спасибо. Было непросто решить, что делать с разными типами признаков.\n",
    "        <br> Убрал из кода. Добавил категориальные признаки в ординальное кодирование.</font>\n",
    "</div>"
   ]
  },
  {
   "cell_type": "markdown",
   "id": "cf392f62",
   "metadata": {},
   "source": [
    "<div class=\"alert alert-warning\">\n",
    "<font size=\"5\"><b>Комментарий ревьюераV2</b></font>\n",
    "\n",
    "\n",
    "\n",
    "Совет 🤔:\n",
    "\n",
    "    \n",
    "    \n",
    "Я бы так написал логику принятия решений работу с категориальными (и почему):    \n",
    "    \n",
    "\n",
    "Если мы используем CatBoost или LightGBM, ничего с категориальными делать не нужно, в  моделях указываешь какие признаки у нас категориальные, и модели сами знают как с ними работать. Вопрос снят\n",
    "    \n",
    "    \n",
    "Если не CatBoost или LightGBM, а например линейная модель...Кажется проще сделать    OrdinalEncoder, он позволит текст в столбце \"топливо\" поменять на цифры (допустим бензин станет 2 а электричество - 1, а гибрид 3), но проблема в том что для линейной модели окажется что бензин больше электричества, а гибрид больше бензина, и он будет стараться построить линию исходя из этих неверных предположений (ведь никакой структуры больше-меньше на самом деле нет). А если использовать OneHotEncoder, то такой проблемы нет. \n",
    "    \n",
    "    \n",
    "    \n",
    "А вот если у нас какой-нибудь Случайный лес или дерево решений, то даже если сделать OrdinalEncoder, то в силу того что модели на основе деревьев решений, делают сплиты (в отличии от линейных, которые строят линию), то не страшно что \"бензин больше электричества\". Он всё равно сможет построить нужный сплит, это не линейные модели, они могет. Поэтому для случайного леса или дерева решени можно использовать и OrdinalEncoder и OneHotEncoder (первое предпочтительней,  если OneHotEncoder создает уж очень много признаков, а деревянные модели известны тем что они очень долго обучаются)"
   ]
  },
  {
   "cell_type": "markdown",
   "id": "45af2edc",
   "metadata": {},
   "source": [
    "#### Ординальные признаки"
   ]
  },
  {
   "cell_type": "markdown",
   "id": "9f107f7d",
   "metadata": {},
   "source": [
    "Признаки ниже было решено кодироваль ординально, чтобы не \"раздувать\" в ширину набор данных для обучения."
   ]
  },
  {
   "cell_type": "code",
   "execution_count": 38,
   "id": "d7669dad",
   "metadata": {},
   "outputs": [],
   "source": [
    "ord_features = ['Brand', 'Model', 'VehicleType', 'Gearbox', 'FuelType', 'Repaired', 'Kilometer']\n",
    "ord_features_ord = list(map(lambda x: x + '_ord', ord_features))\n",
    "\n",
    "# определим категории для ординального кодирования\n",
    "ord_cats = []\n",
    "for feat in ord_features:\n",
    "    if feat == 'Kilometer':\n",
    "        ord_cats.append(np.arange(0, df1[feat].max() + 1, df1[feat].min()))\n",
    "    else:\n",
    "        ord_cats.append(df1[feat].unique())\n",
    "\n",
    "# кодирование ординальных признаков\n",
    "ord_encode = OrdinalEncoder(categories=ord_cats)\n",
    "#ord_encode = OrdinalEncoder()\n",
    "X_train[ord_features_ord] = ord_encode.fit_transform(X_train[ord_features])\n",
    "X_valid[ord_features_ord] = ord_encode.transform(X_valid[ord_features])\n",
    "X_test[ord_features_ord]  = ord_encode.transform(X_test[ord_features])\n",
    "\n",
    "X_train = X_train.drop(ord_features, axis=1)\n",
    "X_valid = X_valid.drop(ord_features, axis=1)\n",
    "X_test  = X_test.drop(ord_features, axis=1)"
   ]
  },
  {
   "cell_type": "markdown",
   "id": "0a434ba6",
   "metadata": {},
   "source": [
    "<div class=\"alert alert-danger\">\n",
    "<font size=\"5\"><b>Комментарий ревьюера</b></font>\n",
    "\n",
    "\n",
    "\n",
    "Ошибка:\n",
    "\n",
    "\n",
    "\n",
    "'RegistrationYear', 'RegistrationMonth' и вообще все даты  - кажется эти данные так же \"полезны\" как число фотографии\n"
   ]
  },
  {
   "cell_type": "markdown",
   "id": "65d88437",
   "metadata": {},
   "source": [
    "<div style=\"background: #e1cfff; padding: 5px; border: 1px solid SteelBlue; border-radius: 5px;\">\n",
    "    <font color='black'>🦋<u><b>КОММЕНТАРИЙ СТУДЕНТА</b></u></font>\n",
    "    <br />\n",
    "    <font color='black'>Согласен. Спасибо.<br> Удалил эти признаки в пункте 2.1.</font>\n",
    "</div>"
   ]
  },
  {
   "cell_type": "code",
   "execution_count": 39,
   "id": "3d8303bf",
   "metadata": {},
   "outputs": [
    {
     "name": "stdout",
     "output_type": "stream",
     "text": [
      "Train features: (204155, 8)\n",
      "Valid features: (68052, 8)\n",
      "Test features:  (68052, 8)\n"
     ]
    }
   ],
   "source": [
    "print(f'Train features: {X_train.shape}')\n",
    "print(f'Valid features: {X_valid.shape}')\n",
    "print(f'Test features:  {X_test.shape}')"
   ]
  },
  {
   "cell_type": "markdown",
   "id": "561d144a",
   "metadata": {},
   "source": [
    "<div class=\"alert alert-warning\">\n",
    "<font size=\"5\"><b>Комментарий ревьюера</b></font>\n",
    "\n",
    "\n",
    "\n",
    "Совет 🤔:\n",
    "\n",
    "\n",
    "\n",
    "- Предобработка признаков завершена. Ты поработал с категориальными данными, но ничего не сделал для количественных (для них своя техника работы - шкалирование или нормализация), не ставлю красный, потому что ты не использовал модели для которых это было бы принципиально важно\n",
    "    \n",
    "- Кстати есть красивый вариант работы с разными типами данных с использованием pipeline и ColumnTransformers:\n",
    "1. https://medium.com/mlearning-ai/neat-data-preprocessing-with-pipeline-and-columntransformer-2a0468865b6b\n",
    "2. https://towardsdatascience.com/pipelines-custom-transformers-in-scikit-learn-the-step-by-step-guide-with-python-code-4a7d9b068156\n",
    " "
   ]
  },
  {
   "cell_type": "markdown",
   "id": "27ecbd6d",
   "metadata": {},
   "source": [
    "<div style=\"background: #e1cfff; padding: 5px; border: 1px solid SteelBlue; border-radius: 5px;\">\n",
    "    <font color='black'>🦋<u><b>КОММЕНТАРИЙ СТУДЕНТА</b></u></font>\n",
    "    <br />\n",
    "    <font color='black'>Да, я не обрабатывал количественные признаки, исходя из выбранных моделей.<br> Спасибо за ссылки. Обязательно изучу.</font>\n",
    "</div>"
   ]
  },
  {
   "cell_type": "markdown",
   "id": "2b8c895f",
   "metadata": {},
   "source": [
    "<div class=\"alert alert-success\">\n",
    "<font size=\"5\"><b>Комментарий ревьюераV2</b></font>\n",
    "\n",
    "\n",
    "\n",
    "Успех 👍:\n",
    "\n",
    "\n",
    "\n",
    "здорово что это понимаешь\n",
    "\n",
    "\n",
    "\n",
    "\n",
    "</div>\n"
   ]
  },
  {
   "cell_type": "markdown",
   "id": "37b09d66",
   "metadata": {},
   "source": [
    "## Обучение моделей"
   ]
  },
  {
   "cell_type": "markdown",
   "id": "4e1a47c6",
   "metadata": {},
   "source": [
    "Самостоятельно освойте библиотеку LightGBM и её средствами постройте модели градиентного бустинга.\n",
    "Модель градиентного бустинга может долго обучаться, поэтому измените у неё только два-три параметра.\n",
    "Если перестанет работать Jupyter Notebook, удалите лишние переменные оператором del."
   ]
  },
  {
   "cell_type": "markdown",
   "id": "35307e71",
   "metadata": {},
   "source": [
    "### Простые модели"
   ]
  },
  {
   "cell_type": "markdown",
   "id": "efdde9bf",
   "metadata": {},
   "source": [
    "Сначала обучим для сравнения простые модели (решающее дерево и случайный лес) на кросс-валидации и подберём параметры."
   ]
  },
  {
   "cell_type": "code",
   "execution_count": 40,
   "id": "ec37dae8",
   "metadata": {},
   "outputs": [],
   "source": [
    "# объединённая выборка для кросс-валидации\n",
    "X_cv = pd.concat([X_train, X_valid])\n",
    "y_cv = pd.concat([y_train, y_valid])"
   ]
  },
  {
   "cell_type": "markdown",
   "id": "aa091978",
   "metadata": {},
   "source": [
    "<div class=\"alert alert-success\">\n",
    "<font size=\"5\"><b>Комментарий ревьюера</b></font>\n",
    "\n",
    "\n",
    "\n",
    "Успех 👍:\n",
    "\n",
    "\n",
    "\n",
    "Действительно, если ты используешь GridSearchCV валидационный выборку можно не создавать\n"
   ]
  },
  {
   "cell_type": "code",
   "execution_count": 41,
   "id": "df65324d",
   "metadata": {},
   "outputs": [
    {
     "name": "stdout",
     "output_type": "stream",
     "text": [
      "Решающее дерево: параметры = {'max_depth': 17} RMSE = 2525.60279792983\n"
     ]
    }
   ],
   "source": [
    "dtree_params = {'max_depth': range(1, 21)}\n",
    "\n",
    "dtree_cv = GridSearchCV(estimator=DecisionTreeRegressor(random_state=RSTATE),\n",
    "                        param_grid=dtree_params,\n",
    "                        scoring='neg_root_mean_squared_error',\n",
    "                        n_jobs=-1,\n",
    "                        cv=3\n",
    "                       )\n",
    "\n",
    "dtree_cv.fit(X_cv, y_cv)\n",
    "\n",
    "print(f'Решающее дерево: параметры = {dtree_cv.best_params_} RMSE = {-dtree_cv.best_score_}')"
   ]
  },
  {
   "cell_type": "markdown",
   "id": "54427049",
   "metadata": {},
   "source": [
    "<div class=\"alert alert-success\">\n",
    "<font size=\"5\"><b>Комментарий ревьюера</b></font>\n",
    "\n",
    "Успех:\n",
    "\n",
    "Чтобы лучше понять процесс моделирования стоит использовать циклы прописанные вручную, если ты уверен в своих знаниях то почему бы не попробовать оболочку GS    \n",
    "    \n",
    "\n",
    "- не забыт random_state\n",
    "\n",
    "\n",
    "\n",
    "\n",
    "- scoring = 'neg_root_mean_squared_error'    \n",
    "    \n",
    "\n",
    "    \n",
    "    \n",
    "<div class=\"alert alert-warning\">\n",
    "\n",
    "Совет:\n",
    "\n",
    "\n",
    "\n",
    "\n",
    "\n",
    "\n",
    "\n",
    "Молодец что используешь GridSearch, но еще лучше использовать связку [GridSearchCV + pipeline](https://towardsdatascience.com/an-introduction-to-building-pipelines-and-using-grid-searches-in-scikit-learn-92ea72f9b5b7)       (Скорее всего открывается с VPN) Особенно это важно если есть предварительный предобработка данных (заполнение пропусков средней, Scaler, перебалансировка, TFIDF итп итд). Без использования pipeline произойдёт утечка данных, а также Метрика на кроссвалидации и подбор гиперпараметров будет не корректным\n",
    "    \n",
    "    \n",
    "    \n",
    "\n",
    "    \n",
    "Объясню подробнее - когда мы используем вручную прописанный цикл для поиска гиперпарамтеров, и разбиваем на три датасета, то мы же делаем так (пусть тут будет предобработка  StandardScaler):\n",
    "    \n",
    "\n",
    "\n",
    "    scaler = StandardScaler()\n",
    "    scaler.fit(train_feat[numeric])\n",
    "\n",
    "\n",
    "    feat_train[numeric] = scaler.transform(feat_train[numeric])\n",
    "    feat_test[numeric] = scaler.transform(feat_test[numeric])\n",
    "    feat_valid[numeric] = scaler.transform(feat_valid[numeric])\n",
    "    \n",
    "    \n",
    "    \n",
    "То есть мы делаем   .fit на train, а на valid и test делаем   .transform, то есть когда мы обучаем наш StandardScaler,  мы используем только тренировочный датасет, а затем \"распростроняем\" выученное шкалирование на test/valid.  Нет подглядывания:   Мы не используем информацию из тестового и валидационного датасета, для того чтобы обучить StandardScaler(). В этом и смысл моделирования - мы как будто бы знаем только train, а тестового для нас как бы не существует.  Если мы при шкалировании начинаем использовать информацию из теста мы поступаем нечестно. \n",
    "\n",
    "    \n",
    "    \n",
    "А когда используем GridSearch\n",
    "    \n",
    "    \n",
    "Вот твой код (условно)    \n",
    "    \n",
    "    scaler = StandardScaler()\n",
    "    scaler.fit(train_feat)\n",
    "    feat_train = scaler.transform(feat_train)    \n",
    "    \n",
    "    \n",
    "    parameters = {'kernel':('linear', 'rbf'), 'C':[1, 10]}\n",
    "    svc = svm.SVC()\n",
    "    clf = GridSearchCV(svc, parameters)\n",
    "    clf.fit(feat_train, target)\n",
    "    \n",
    "    \n",
    "    \n",
    "Обрати внимание - ты подал  feat_train, из  которого   GridSearchCV сам создаст valid и train и построит циклы. И вот тут оказывается что валидационный датасет у нас с подглядыванием, потому что на всем feat_train был сделан fit.  Вот в чём заключается подглядывание.  И раз GS делает валидационные внутри себя, спрашивается как добраться до нее и избежать подглядывания в будущее? Казалось бы никак, но нет! Pipeline! ) \n",
    "    \n",
    "    \n",
    "  \n",
    "    \n",
    "И вот как надо сделать pipeline чтобы не было утечки данных при шкалировании.  Как видишь кода немного \n",
    "    \n",
    "    pipe = Pipeline([\n",
    "            ('scale', StandardScaler(random_state = 42)),\n",
    "            ('clf', SVC(kernel = 'linear', C = 1))])\n",
    "\n",
    "    parameters = {'kernel':('linear', 'rbf'), 'C':[1, 10]}\n",
    "\n",
    "    clf = GridSearchCV(pipe, parameters)\n",
    "    clf.fit(feat_train, target)\n",
    "    \n",
    "    \n",
    "И теперь    feat_train будет разбит на train и valid, но .fit будет на train, а на valid будет .transform. Такй вот хитрый pipeline - он суёт свои ручки внутрь GS и делай так чтобы не было утечки данных.\n",
    "    \n",
    "        \n",
    "    \n"
   ]
  },
  {
   "cell_type": "markdown",
   "id": "30a4786b",
   "metadata": {},
   "source": [
    "<div style=\"background: #e1cfff; padding: 5px; border: 1px solid SteelBlue; border-radius: 5px;\">\n",
    "    <font color='black'>🦋<u><b>КОММЕНТАРИЙ СТУДЕНТА</b></u></font>\n",
    "    <br />\n",
    "    <font color='black'>Спасибо большое за разбор. А то эта тема с утечками и пайплайнами была для меня смутной.<br> Изучу и буду использовать по-новому.</font>\n",
    "</div>"
   ]
  },
  {
   "cell_type": "markdown",
   "id": "65637581",
   "metadata": {},
   "source": [
    "<div class=\"alert alert-warning\">\n",
    "<font size=\"5\"><b>Комментарий ревьюераV2</b></font>\n",
    "\n",
    "\n",
    "\n",
    "Совет 🤔:\n",
    "\n",
    "\n",
    "\n",
    "Тут я привёл пример утечки данных если не использовать pipeline. А ведь может быть проблема с неадекватной метрикой на .best_score_ .  Например, ты сбалансировал X_cv, использовал GridSearchCV, а потом с помощью .best_score_ посмотрел метрику f1. Так вот она у тебя будет завышенной, потому что f1 получается гораздо выше на сбалансированных данных. А если использовать pipeline, то метрика на кросс валидации будет адекватный и когда ты будешь проводить финальное тестирование на несбалансированной тектосвой, то метрики не будут сильно отличаться.  \n"
   ]
  },
  {
   "cell_type": "code",
   "execution_count": 42,
   "id": "d76a9850",
   "metadata": {},
   "outputs": [
    {
     "name": "stdout",
     "output_type": "stream",
     "text": [
      "Случайный лес: параметры = {'max_depth': 20, 'n_estimators': 200} RMSE = 2263.940008559657\n"
     ]
    }
   ],
   "source": [
    "rforest_params = {'max_depth': [5, 10, 20],\n",
    "                  'n_estimators': [100, 200]\n",
    "                 }\n",
    "\n",
    "rforest_cv = GridSearchCV(estimator=RandomForestRegressor(random_state=RSTATE, n_jobs=-1),\n",
    "                          param_grid=rforest_params,\n",
    "                          scoring='neg_root_mean_squared_error',\n",
    "                          n_jobs=-1,\n",
    "                          cv=3\n",
    "                         )\n",
    "\n",
    "rforest_cv.fit(X_cv, y_cv)\n",
    "\n",
    "print(f'Случайный лес: параметры = {rforest_cv.best_params_} RMSE = {-rforest_cv.best_score_}')"
   ]
  },
  {
   "cell_type": "markdown",
   "id": "9d243a06",
   "metadata": {},
   "source": [
    "### LightGBM"
   ]
  },
  {
   "cell_type": "markdown",
   "id": "6ec8d96d",
   "metadata": {},
   "source": [
    "Теперь обучим модель LightGBM на кросс-валидации с подбором параметров."
   ]
  },
  {
   "cell_type": "code",
   "execution_count": 43,
   "id": "21206d1e",
   "metadata": {},
   "outputs": [
    {
     "name": "stdout",
     "output_type": "stream",
     "text": [
      "[LightGBM] [Warning] Accuracy may be bad since you didn't explicitly set num_leaves OR 2^max_depth > num_leaves. (num_leaves=31).\n",
      "[LightGBM] [Warning] Accuracy may be bad since you didn't explicitly set num_leaves OR 2^max_depth > num_leaves. (num_leaves=31).\n",
      "[LightGBM] [Info] Auto-choosing row-wise multi-threading, the overhead of testing was 0.005222 seconds.\n",
      "You can set `force_row_wise=true` to remove the overhead.\n",
      "And if memory is not enough, you can set `force_col_wise=true`.\n",
      "[LightGBM] [Info] Total Bins 567\n",
      "[LightGBM] [Info] Number of data points in the train set: 272207, number of used features: 8\n",
      "[LightGBM] [Info] Start training from score 4546.074271\n",
      "LightGBM: параметры = {'learning_rate': 0.5, 'max_depth': 20, 'n_estimators': 200} RMSE = 2255.103447743386\n"
     ]
    }
   ],
   "source": [
    "lgb_params = {'n_estimators': [100, 200],\n",
    "              'max_depth': [5, 10, 20],\n",
    "              'learning_rate': np.arange(0.1, 0.51, 0.1)\n",
    "             }\n",
    "\n",
    "lgb_cv = GridSearchCV(estimator=lgb.LGBMRegressor(random_state=RSTATE, n_jobs=-1),\n",
    "                      param_grid=lgb_params,\n",
    "                      scoring='neg_root_mean_squared_error',\n",
    "                      n_jobs=-1,\n",
    "                      cv=3\n",
    "                     )\n",
    "\n",
    "lgb_cv.fit(X_cv, y_cv)\n",
    "        \n",
    "print(f'LightGBM: параметры = {lgb_cv.best_params_} RMSE = {-lgb_cv.best_score_}')"
   ]
  },
  {
   "cell_type": "markdown",
   "id": "c957c552",
   "metadata": {},
   "source": [
    "## Анализ моделей"
   ]
  },
  {
   "cell_type": "markdown",
   "id": "f45ab045",
   "metadata": {},
   "source": [
    "Сравним выбранные модели с лучшими найденными параметрами на соответствие критериям заказчика."
   ]
  },
  {
   "cell_type": "code",
   "execution_count": 44,
   "id": "4f28e581",
   "metadata": {},
   "outputs": [],
   "source": [
    "dtree_model = DecisionTreeRegressor(max_depth=dtree_cv.best_params_['max_depth'])\n",
    "rforest_model = RandomForestRegressor(max_depth=rforest_cv.best_params_['max_depth'],\n",
    "                                      n_estimators=rforest_cv.best_params_['n_estimators'],\n",
    "                                      n_jobs=-1\n",
    "                                     )\n",
    "lgb_model = lgb.LGBMRegressor(n_estimators=lgb_cv.best_params_['n_estimators'], \n",
    "                              max_depth=lgb_cv.best_params_['max_depth'],\n",
    "                              num_leaves=41,\n",
    "                              learning_rate=lgb_cv.best_params_['learning_rate'],\n",
    "                              random_state=RSTATE, n_jobs=-1\n",
    "                             )"
   ]
  },
  {
   "cell_type": "markdown",
   "id": "f88d2d2c",
   "metadata": {},
   "source": [
    "### Время обучения"
   ]
  },
  {
   "cell_type": "code",
   "execution_count": 45,
   "id": "cfd03c88",
   "metadata": {},
   "outputs": [
    {
     "name": "stdout",
     "output_type": "stream",
     "text": [
      "451 ms ± 0 ns per loop (mean ± std. dev. of 1 run, 1 loop each)\n",
      "22.5 s ± 0 ns per loop (mean ± std. dev. of 1 run, 1 loop each)\n",
      "[LightGBM] [Info] Auto-choosing row-wise multi-threading, the overhead of testing was 0.004048 seconds.\n",
      "You can set `force_row_wise=true` to remove the overhead.\n",
      "And if memory is not enough, you can set `force_col_wise=true`.\n",
      "[LightGBM] [Info] Total Bins 570\n",
      "[LightGBM] [Info] Number of data points in the train set: 204155, number of used features: 8\n",
      "[LightGBM] [Info] Start training from score 4551.733918\n",
      "638 ms ± 0 ns per loop (mean ± std. dev. of 1 run, 1 loop each)\n"
     ]
    }
   ],
   "source": [
    "dtree_train_time = %timeit -n1 -r1 -o dtree_model.fit(X_train, y_train)\n",
    "rforest_train_time = %timeit -n1 -r1 -o rforest_model.fit(X_train, y_train)\n",
    "lgb_train_time = %timeit -n1 -r1 -o lgb_model.fit(X_train, y_train)"
   ]
  },
  {
   "cell_type": "code",
   "execution_count": 46,
   "id": "70020f50",
   "metadata": {
    "scrolled": true
   },
   "outputs": [
    {
     "name": "stdout",
     "output_type": "stream",
     "text": [
      "Решающее дерево: время обучения = 0.45 секунд\n",
      "Случайный лес:   время обучения = 22.52 секунд\n",
      "LightGBM:        время обучения = 0.64 секунд\n"
     ]
    }
   ],
   "source": [
    "print(f'Решающее дерево: время обучения = {round(dtree_train_time.best, 2)} секунд')\n",
    "print(f'Случайный лес:   время обучения = {round(rforest_train_time.best, 2)} секунд')\n",
    "print(f'LightGBM:        время обучения = {round(lgb_train_time.best, 2)} секунд')"
   ]
  },
  {
   "cell_type": "markdown",
   "id": "f7967f64",
   "metadata": {},
   "source": [
    "### Время предсказания"
   ]
  },
  {
   "cell_type": "code",
   "execution_count": 47,
   "id": "19f8df56",
   "metadata": {},
   "outputs": [
    {
     "name": "stdout",
     "output_type": "stream",
     "text": [
      "27.4 ms ± 0 ns per loop (mean ± std. dev. of 1 run, 1 loop each)\n",
      "1.05 s ± 0 ns per loop (mean ± std. dev. of 1 run, 1 loop each)\n",
      "106 ms ± 0 ns per loop (mean ± std. dev. of 1 run, 1 loop each)\n"
     ]
    }
   ],
   "source": [
    "dtree_predict_time = %timeit -n1 -r1 -o dtree_model.predict(X_valid)\n",
    "rforest_predict_time = %timeit -n1 -r1 -o rforest_model.predict(X_valid)\n",
    "lgb_predict_time = %timeit -n1 -r1 -o lgb_model.predict(X_valid)"
   ]
  },
  {
   "cell_type": "code",
   "execution_count": 48,
   "id": "72ebb61e",
   "metadata": {
    "scrolled": true
   },
   "outputs": [
    {
     "name": "stdout",
     "output_type": "stream",
     "text": [
      "Решающее дерево: время предсказания = 0.03 секунд\n",
      "Случайный лес:   время предсказания = 1.05 секунд\n",
      "LightGBM:        время предсказания = 0.11 секунд\n"
     ]
    }
   ],
   "source": [
    "print(f'Решающее дерево: время предсказания = {round(dtree_predict_time.best, 2)} секунд')\n",
    "print(f'Случайный лес:   время предсказания = {round(rforest_predict_time.best, 2)} секунд')\n",
    "print(f'LightGBM:        время предсказания = {round(lgb_predict_time.best, 2)} секунд')"
   ]
  },
  {
   "cell_type": "markdown",
   "id": "cd86210d",
   "metadata": {},
   "source": [
    "<div class=\"alert alert-success\">\n",
    "<font size=\"5\"><b>Комментарий ревьюера</b></font>\n",
    "\n",
    "\n",
    "\n",
    "Успех 👍:\n",
    "\n",
    "\n",
    "\n",
    "Здорово что обратил внимание на время прогнозирования и обучения моделей, это важный критерий при выборе модели особенно в продакшн\n",
    "\n",
    "</div>\n"
   ]
  },
  {
   "cell_type": "markdown",
   "id": "6b00bdfd",
   "metadata": {},
   "source": [
    "### Качество моделей"
   ]
  },
  {
   "cell_type": "markdown",
   "id": "14608251",
   "metadata": {},
   "source": [
    "С параметрами по умолчанию на кросс-валидации лучший результат показала модель LightGBM."
   ]
  },
  {
   "cell_type": "code",
   "execution_count": 49,
   "id": "4195238b",
   "metadata": {},
   "outputs": [
    {
     "name": "stdout",
     "output_type": "stream",
     "text": [
      "Решающее дерево: RMSE = 2493.555169513658\n",
      "Случайный лес:   RMSE = 2243.411910561895\n",
      "LightGBM:        RMSE = 2231.6026119281814\n"
     ]
    }
   ],
   "source": [
    "print(f'Решающее дерево: RMSE = {mean_squared_error(y_valid, dtree_model.predict(X_valid), squared=False)}')\n",
    "print(f'Случайный лес:   RMSE = {mean_squared_error(y_valid, rforest_model.predict(X_valid), squared=False)}')\n",
    "print(f'LightGBM:        RMSE = {mean_squared_error(y_valid, lgb_model.predict(X_valid), squared=False)}')"
   ]
  },
  {
   "cell_type": "markdown",
   "id": "01f4d5eb",
   "metadata": {},
   "source": [
    "### Выводы 2"
   ]
  },
  {
   "cell_type": "markdown",
   "id": "9da9db26",
   "metadata": {},
   "source": [
    "Анализ моделей показал, что качество моделей LightGBM чуть выше чем у RandomForest, однако, RandomForest обучается и прогнозирует значительно медленнее. Качество же DecisionTree заметно ниже, чем у этих двух моделей. Исходя из требований заказчика для тестирования выбираем модель **LightGBM**."
   ]
  },
  {
   "cell_type": "markdown",
   "id": "32a2f3c0",
   "metadata": {},
   "source": [
    "## Проверка лучшей модели"
   ]
  },
  {
   "cell_type": "markdown",
   "id": "54c971c4",
   "metadata": {},
   "source": [
    "Проверим лучшую модель на тестовой выборке и оценим её качество."
   ]
  },
  {
   "cell_type": "code",
   "execution_count": 50,
   "id": "99dad934",
   "metadata": {},
   "outputs": [
    {
     "name": "stdout",
     "output_type": "stream",
     "text": [
      "Лучшая модель: RMSE = 2219.060178459619\n"
     ]
    }
   ],
   "source": [
    "print(f'Лучшая модель: RMSE = {mean_squared_error(y_test, lgb_model.predict(X_test), squared=False)}')"
   ]
  },
  {
   "cell_type": "markdown",
   "id": "69c0dc0a",
   "metadata": {},
   "source": [
    "<div class=\"alert alert-success\">\n",
    "<font size=\"5\"><b>Комментарий ревьюера</b></font>\n",
    "\n",
    "Успех: \n",
    "\n",
    "- Все верно, логика моделирования не нарушена, тут тестируем только лучшую модель отобранную на валидации, или парочку лучших, если на валидации результаты близки\n",
    "\n",
    "\n",
    "\n",
    "\n",
    "- Если студент получил на тесте RMSE ниже 2500, это считается приемлемым результатом.\n",
    "\n",
    "\n",
    "\n",
    "<div class=\"alert alert-warning\">\n",
    "\n",
    "\n",
    "Совет: \n",
    "\n",
    "\n",
    "Можешь посмотреть какие признаки  является наиболее важными с точки зрения модели (feature_importances_)\n",
    "\n",
    "А ещё есть такая интересная библиотека shap — позволяет детально изучить работу модели, в том числе оценить важность признаков, при этом не привязана к работе конкретного алгортима прогнозирования. Вот статья с описанием ее работы — https://habr.com/ru/articles/428213/ и детальный разбор графиков - https://towardsdatascience.com/using-shap-values-to-explain-how-your-machine-learning-model-works-732b3f40e137"
   ]
  },
  {
   "cell_type": "markdown",
   "id": "788dc669",
   "metadata": {},
   "source": [
    "<div style=\"background: #e1cfff; padding: 5px; border: 1px solid SteelBlue; border-radius: 5px;\">\n",
    "    <font color='black'>🦋<u><b>КОММЕНТАРИЙ СТУДЕНТА</b></u></font>\n",
    "    <br />\n",
    "    <font color='black'>Спасибо за советы. Изучу.</font>\n",
    "</div>"
   ]
  },
  {
   "cell_type": "markdown",
   "id": "7a4b00a0",
   "metadata": {},
   "source": [
    "Оценим важность признаков в модели."
   ]
  },
  {
   "cell_type": "code",
   "execution_count": 51,
   "id": "e7d8298b",
   "metadata": {},
   "outputs": [
    {
     "data": {
      "text/plain": [
       "Power              2817\n",
       "Model_ord          1734\n",
       "Kilometer_ord      1154\n",
       "Brand_ord          1152\n",
       "VehicleType_ord     753\n",
       "Gearbox_ord         237\n",
       "Repaired_ord         90\n",
       "FuelType_ord         63\n",
       "dtype: int32"
      ]
     },
     "execution_count": 51,
     "metadata": {},
     "output_type": "execute_result"
    }
   ],
   "source": [
    "pd.Series(data=lgb_model.feature_importances_, index=lgb_model.feature_name_).sort_values(ascending=False)"
   ]
  },
  {
   "cell_type": "markdown",
   "id": "d5a48dc9",
   "metadata": {},
   "source": [
    "Оценим \"вменяемость\" модели, сравнив её dummy-моделью (среднее значение)."
   ]
  },
  {
   "cell_type": "code",
   "execution_count": 52,
   "id": "88d91d84",
   "metadata": {},
   "outputs": [
    {
     "name": "stdout",
     "output_type": "stream",
     "text": [
      "Dummy-модель: RMSE = 4501.023069020895\n"
     ]
    }
   ],
   "source": [
    "dummy_model = DummyRegressor(strategy='mean')\n",
    "dummy_model.fit(X_test, y_test)\n",
    "print(f'Dummy-модель: RMSE = {mean_squared_error(y_test, dummy_model.predict(X_test), squared=False)}')"
   ]
  },
  {
   "cell_type": "markdown",
   "id": "d7e9959e",
   "metadata": {},
   "source": [
    "<div class=\"alert alert-success\">\n",
    "<font size=\"5\"><b>Комментарий ревьюера</b></font>\n",
    "\n",
    "\n",
    "\n",
    "Успех 👍:\n",
    "\n",
    "\n",
    "\n",
    "Здорово что тспользован DummyRegressor для проверки модели на адекват\n",
    "\n",
    "\n",
    "\n",
    "\n",
    "</div>\n"
   ]
  },
  {
   "cell_type": "markdown",
   "id": "35f3a376",
   "metadata": {},
   "source": [
    "## Выводы"
   ]
  },
  {
   "cell_type": "markdown",
   "id": "ffad7a7e",
   "metadata": {},
   "source": [
    "1. Данные оказались не самого высокого качества: у части автомобилей отсутствуют значимые данные (мощность, ремонт), присутствует большое число аномалий. Всё это связано, вероятно, со способом ввода и обработки данных. Стоит ввести проверку вводимой информации для улучшения качества исходных данных. Часть пропущенных значений и аномалий была обработана, чтобы и сохранить данные и не ухудшить качество моделей.\n",
    "2. Данные были разделены и признаки были закодированы.\n",
    "3. Выбраны три модели: DecisionTree, RandomForest и LightGBM. Методом кросс-валидации были найдены лучшие параметры для них.\n",
    "4. Модели были обучены, проведено их сравнение на соответствие их требованиям заказчика (время обучения, время прогнозирования, качество). Лучшая модель - **LightGBM**.\n",
    "5. В лучшей модели наиболее важными признаками стали: мощность двигателя, бренд и модель автомобиля, пробег."
   ]
  },
  {
   "cell_type": "markdown",
   "id": "c2177d56",
   "metadata": {},
   "source": [
    "\n",
    "<div class=\"alert alert-info\">\n",
    "<font size=\"5\"><b>Комментарий ревьюера</b></font>\n",
    "\n",
    "\n",
    "Кирилл, у тебя старательно выполненная работа, все четко, осмысленно. Выводы присутствуют, они четкие и подробные, графики оформлены аккуратно. Здорово что для подбора гиперпараметров используешь GS, оставил советы по использованию его в связке с pipeline\n",
    "\n",
    "\n",
    "\n",
    "\n",
    "Я оставил небольшие советы и вопросики (если есть время и желание можешь воспользоваться/ответить)\n",
    "    \n",
    "\n",
    "\n",
    "Обязательное к исправлению:\n",
    "\n",
    "\n",
    "\n",
    "- если после удаления пропусков мы уменьшаем наш нашу выборку более чем на 10%, есть повод задуматься необходимости такого удаления\n",
    "\n",
    "  \n",
    "- я бы обратил внимание что не все неинформативные признаки удалены\n",
    "\n",
    "\n",
    "- стоит обратить внимание что верхняя граница — 2016 год - год выгрузки базы\n",
    "\n",
    "\n",
    "\n",
    "- Price это наш таргет, мы не можем использовать информацию из него для создания признаков\n",
    "\n",
    "    \n",
    "- 'petrol' и 'gasoline' то   название одного и того же в разных странах        \n",
    "    \n",
    "    \n",
    "    \n",
    "- для древесных моделей не стоит использовать OneHotEncoder()\n",
    "    \n",
    "    \n",
    "    \n",
    "- есть ошибки исполнения кода, некоторые связаны с разными версиями используемых библиотек. все же стоит ориентироваться на версии используемые в тренажере   \n",
    "    \n",
    "    \n",
    "Жду исправлений, для принятия проекта. Если какие то вопросы, то сразу спрашивай ) \n",
    "\n",
    "\n",
    "</div>\n"
   ]
  },
  {
   "cell_type": "markdown",
   "id": "00a1f15e",
   "metadata": {},
   "source": [
    "\n",
    "<div class=\"alert alert-info\">\n",
    "<font size=\"5\"><b>Комментарий ревьюераV2</b></font>\n",
    "\n",
    "Спасибо за работу!    \n",
    "\n",
    "    \n",
    "Красное исправлено Надеюсь мои советы и вопросики были полезны и в копилочку знаний упало что то новое, а проект стал лучше, и симпатичней.\n",
    "\n",
    "\n",
    "  \n",
    "Отличная работа Кирилл. Желаю успехов в дальнейшей учебе!\n",
    "\n"
   ]
  },
  {
   "cell_type": "code",
   "execution_count": null,
   "id": "fe869dc4",
   "metadata": {},
   "outputs": [],
   "source": []
  }
 ],
 "metadata": {
  "ExecuteTimeLog": [
   {
    "duration": 3453,
    "start_time": "2023-10-28T15:17:39.988Z"
   },
   {
    "duration": 1279,
    "start_time": "2023-10-28T15:17:43.444Z"
   },
   {
    "duration": 153,
    "start_time": "2023-10-28T15:17:44.724Z"
   },
   {
    "duration": 55,
    "start_time": "2023-10-28T15:17:44.879Z"
   },
   {
    "duration": 303,
    "start_time": "2023-10-28T15:17:44.936Z"
   },
   {
    "duration": 184,
    "start_time": "2023-10-28T15:17:45.241Z"
   },
   {
    "duration": 183,
    "start_time": "2023-10-28T15:17:45.427Z"
   },
   {
    "duration": 106,
    "start_time": "2023-10-28T15:17:45.612Z"
   },
   {
    "duration": 0,
    "start_time": "2023-10-28T15:17:45.721Z"
   },
   {
    "duration": 1,
    "start_time": "2023-10-28T15:17:45.721Z"
   },
   {
    "duration": 0,
    "start_time": "2023-10-28T15:17:45.723Z"
   },
   {
    "duration": 0,
    "start_time": "2023-10-28T15:17:45.724Z"
   },
   {
    "duration": 0,
    "start_time": "2023-10-28T15:17:45.725Z"
   },
   {
    "duration": 0,
    "start_time": "2023-10-28T15:17:45.726Z"
   },
   {
    "duration": 0,
    "start_time": "2023-10-28T15:17:45.727Z"
   },
   {
    "duration": 0,
    "start_time": "2023-10-28T15:17:45.727Z"
   },
   {
    "duration": 0,
    "start_time": "2023-10-28T15:17:45.728Z"
   },
   {
    "duration": 0,
    "start_time": "2023-10-28T15:17:45.729Z"
   },
   {
    "duration": 0,
    "start_time": "2023-10-28T15:17:45.730Z"
   },
   {
    "duration": 0,
    "start_time": "2023-10-28T15:17:45.731Z"
   },
   {
    "duration": 0,
    "start_time": "2023-10-28T15:17:45.732Z"
   },
   {
    "duration": 0,
    "start_time": "2023-10-28T15:17:45.733Z"
   },
   {
    "duration": 0,
    "start_time": "2023-10-28T15:17:45.734Z"
   },
   {
    "duration": 0,
    "start_time": "2023-10-28T15:17:45.735Z"
   },
   {
    "duration": 0,
    "start_time": "2023-10-28T15:17:45.736Z"
   },
   {
    "duration": 0,
    "start_time": "2023-10-28T15:17:45.737Z"
   },
   {
    "duration": 1,
    "start_time": "2023-10-28T15:17:45.738Z"
   },
   {
    "duration": 0,
    "start_time": "2023-10-28T15:17:45.740Z"
   },
   {
    "duration": 0,
    "start_time": "2023-10-28T15:17:45.741Z"
   },
   {
    "duration": 0,
    "start_time": "2023-10-28T15:17:45.742Z"
   },
   {
    "duration": 0,
    "start_time": "2023-10-28T15:17:45.742Z"
   },
   {
    "duration": 0,
    "start_time": "2023-10-28T15:17:45.744Z"
   },
   {
    "duration": 0,
    "start_time": "2023-10-28T15:17:45.745Z"
   },
   {
    "duration": 0,
    "start_time": "2023-10-28T15:17:45.746Z"
   },
   {
    "duration": 0,
    "start_time": "2023-10-28T15:17:45.747Z"
   },
   {
    "duration": 0,
    "start_time": "2023-10-28T15:17:45.748Z"
   },
   {
    "duration": 0,
    "start_time": "2023-10-28T15:17:45.749Z"
   },
   {
    "duration": 0,
    "start_time": "2023-10-28T15:17:45.750Z"
   },
   {
    "duration": 0,
    "start_time": "2023-10-28T15:17:45.751Z"
   },
   {
    "duration": 0,
    "start_time": "2023-10-28T15:17:45.810Z"
   },
   {
    "duration": 0,
    "start_time": "2023-10-28T15:17:45.811Z"
   },
   {
    "duration": 0,
    "start_time": "2023-10-28T15:17:45.813Z"
   },
   {
    "duration": 0,
    "start_time": "2023-10-28T15:17:45.813Z"
   },
   {
    "duration": 0,
    "start_time": "2023-10-28T15:17:45.815Z"
   },
   {
    "duration": 0,
    "start_time": "2023-10-28T15:17:45.817Z"
   },
   {
    "duration": 0,
    "start_time": "2023-10-28T15:17:45.819Z"
   },
   {
    "duration": 0,
    "start_time": "2023-10-28T15:17:45.820Z"
   },
   {
    "duration": 0,
    "start_time": "2023-10-28T15:17:45.822Z"
   },
   {
    "duration": 0,
    "start_time": "2023-10-28T15:17:45.823Z"
   },
   {
    "duration": 184,
    "start_time": "2023-10-28T15:18:26.760Z"
   },
   {
    "duration": 20,
    "start_time": "2023-10-28T15:18:42.177Z"
   },
   {
    "duration": 122,
    "start_time": "2023-10-28T15:18:42.199Z"
   },
   {
    "duration": 38,
    "start_time": "2023-10-28T15:18:42.323Z"
   },
   {
    "duration": 0,
    "start_time": "2023-10-28T15:18:42.364Z"
   },
   {
    "duration": 0,
    "start_time": "2023-10-28T15:18:42.366Z"
   },
   {
    "duration": 0,
    "start_time": "2023-10-28T15:18:42.368Z"
   },
   {
    "duration": 0,
    "start_time": "2023-10-28T15:18:42.369Z"
   },
   {
    "duration": 0,
    "start_time": "2023-10-28T15:18:42.370Z"
   },
   {
    "duration": 0,
    "start_time": "2023-10-28T15:18:42.372Z"
   },
   {
    "duration": 0,
    "start_time": "2023-10-28T15:18:42.373Z"
   },
   {
    "duration": 0,
    "start_time": "2023-10-28T15:18:42.375Z"
   },
   {
    "duration": 0,
    "start_time": "2023-10-28T15:18:42.406Z"
   },
   {
    "duration": 0,
    "start_time": "2023-10-28T15:18:42.407Z"
   },
   {
    "duration": 0,
    "start_time": "2023-10-28T15:18:42.408Z"
   },
   {
    "duration": 0,
    "start_time": "2023-10-28T15:18:42.410Z"
   },
   {
    "duration": 0,
    "start_time": "2023-10-28T15:18:42.411Z"
   },
   {
    "duration": 0,
    "start_time": "2023-10-28T15:18:42.412Z"
   },
   {
    "duration": 0,
    "start_time": "2023-10-28T15:18:42.413Z"
   },
   {
    "duration": 0,
    "start_time": "2023-10-28T15:18:42.414Z"
   },
   {
    "duration": 0,
    "start_time": "2023-10-28T15:18:42.415Z"
   },
   {
    "duration": 0,
    "start_time": "2023-10-28T15:18:42.417Z"
   },
   {
    "duration": 0,
    "start_time": "2023-10-28T15:18:42.418Z"
   },
   {
    "duration": 0,
    "start_time": "2023-10-28T15:18:42.419Z"
   },
   {
    "duration": 0,
    "start_time": "2023-10-28T15:18:42.420Z"
   },
   {
    "duration": 0,
    "start_time": "2023-10-28T15:18:42.421Z"
   },
   {
    "duration": 0,
    "start_time": "2023-10-28T15:18:42.422Z"
   },
   {
    "duration": 0,
    "start_time": "2023-10-28T15:18:42.423Z"
   },
   {
    "duration": 0,
    "start_time": "2023-10-28T15:18:42.424Z"
   },
   {
    "duration": 0,
    "start_time": "2023-10-28T15:18:42.425Z"
   },
   {
    "duration": 0,
    "start_time": "2023-10-28T15:18:42.426Z"
   },
   {
    "duration": 0,
    "start_time": "2023-10-28T15:18:42.427Z"
   },
   {
    "duration": 0,
    "start_time": "2023-10-28T15:18:42.429Z"
   },
   {
    "duration": 0,
    "start_time": "2023-10-28T15:18:42.430Z"
   },
   {
    "duration": 0,
    "start_time": "2023-10-28T15:18:42.431Z"
   },
   {
    "duration": 0,
    "start_time": "2023-10-28T15:18:42.432Z"
   },
   {
    "duration": 0,
    "start_time": "2023-10-28T15:18:42.433Z"
   },
   {
    "duration": 0,
    "start_time": "2023-10-28T15:18:42.434Z"
   },
   {
    "duration": 0,
    "start_time": "2023-10-28T15:18:42.435Z"
   },
   {
    "duration": 0,
    "start_time": "2023-10-28T15:18:42.437Z"
   },
   {
    "duration": 0,
    "start_time": "2023-10-28T15:18:42.438Z"
   },
   {
    "duration": 0,
    "start_time": "2023-10-28T15:18:42.440Z"
   },
   {
    "duration": 121,
    "start_time": "2023-10-28T15:19:01.423Z"
   },
   {
    "duration": 15,
    "start_time": "2023-10-28T15:19:11.654Z"
   },
   {
    "duration": 0,
    "start_time": "2023-10-28T15:19:11.671Z"
   },
   {
    "duration": 0,
    "start_time": "2023-10-28T15:19:11.672Z"
   },
   {
    "duration": 0,
    "start_time": "2023-10-28T15:19:11.673Z"
   },
   {
    "duration": 0,
    "start_time": "2023-10-28T15:19:11.674Z"
   },
   {
    "duration": 0,
    "start_time": "2023-10-28T15:19:11.675Z"
   },
   {
    "duration": 0,
    "start_time": "2023-10-28T15:19:11.676Z"
   },
   {
    "duration": 0,
    "start_time": "2023-10-28T15:19:11.677Z"
   },
   {
    "duration": 12,
    "start_time": "2023-10-28T15:19:11.679Z"
   },
   {
    "duration": 3,
    "start_time": "2023-10-28T15:19:11.693Z"
   },
   {
    "duration": 187,
    "start_time": "2023-10-28T15:19:11.698Z"
   },
   {
    "duration": 40,
    "start_time": "2023-10-28T15:19:11.887Z"
   },
   {
    "duration": 22,
    "start_time": "2023-10-28T15:19:11.928Z"
   },
   {
    "duration": 216,
    "start_time": "2023-10-28T15:19:11.952Z"
   },
   {
    "duration": 0,
    "start_time": "2023-10-28T15:19:12.170Z"
   },
   {
    "duration": 0,
    "start_time": "2023-10-28T15:19:12.172Z"
   },
   {
    "duration": 0,
    "start_time": "2023-10-28T15:19:12.173Z"
   },
   {
    "duration": 0,
    "start_time": "2023-10-28T15:19:12.174Z"
   },
   {
    "duration": 0,
    "start_time": "2023-10-28T15:19:12.175Z"
   },
   {
    "duration": 0,
    "start_time": "2023-10-28T15:19:12.176Z"
   },
   {
    "duration": 0,
    "start_time": "2023-10-28T15:19:12.177Z"
   },
   {
    "duration": 0,
    "start_time": "2023-10-28T15:19:12.178Z"
   },
   {
    "duration": 0,
    "start_time": "2023-10-28T15:19:12.179Z"
   },
   {
    "duration": 0,
    "start_time": "2023-10-28T15:19:12.180Z"
   },
   {
    "duration": 0,
    "start_time": "2023-10-28T15:19:12.181Z"
   },
   {
    "duration": 0,
    "start_time": "2023-10-28T15:19:12.182Z"
   },
   {
    "duration": 0,
    "start_time": "2023-10-28T15:19:12.207Z"
   },
   {
    "duration": 0,
    "start_time": "2023-10-28T15:19:12.208Z"
   },
   {
    "duration": 0,
    "start_time": "2023-10-28T15:19:12.209Z"
   },
   {
    "duration": 0,
    "start_time": "2023-10-28T15:19:12.210Z"
   },
   {
    "duration": 0,
    "start_time": "2023-10-28T15:19:12.211Z"
   },
   {
    "duration": 0,
    "start_time": "2023-10-28T15:19:12.212Z"
   },
   {
    "duration": 0,
    "start_time": "2023-10-28T15:19:12.213Z"
   },
   {
    "duration": 0,
    "start_time": "2023-10-28T15:19:12.214Z"
   },
   {
    "duration": 0,
    "start_time": "2023-10-28T15:19:12.215Z"
   },
   {
    "duration": 0,
    "start_time": "2023-10-28T15:19:12.216Z"
   },
   {
    "duration": 0,
    "start_time": "2023-10-28T15:19:12.218Z"
   },
   {
    "duration": 0,
    "start_time": "2023-10-28T15:19:12.218Z"
   },
   {
    "duration": 63,
    "start_time": "2023-10-28T15:20:02.223Z"
   },
   {
    "duration": 18,
    "start_time": "2023-10-28T15:20:04.529Z"
   },
   {
    "duration": 64,
    "start_time": "2023-10-28T15:20:05.914Z"
   },
   {
    "duration": 211,
    "start_time": "2023-10-28T15:20:19.052Z"
   },
   {
    "duration": 118,
    "start_time": "2023-10-28T15:20:54.506Z"
   },
   {
    "duration": 9,
    "start_time": "2023-10-28T15:20:54.914Z"
   },
   {
    "duration": 113,
    "start_time": "2023-10-28T15:21:01.468Z"
   },
   {
    "duration": 102,
    "start_time": "2023-10-28T15:21:06.066Z"
   },
   {
    "duration": 21,
    "start_time": "2023-10-28T15:21:14.389Z"
   },
   {
    "duration": 193,
    "start_time": "2023-10-28T15:21:22.806Z"
   },
   {
    "duration": 247,
    "start_time": "2023-10-28T15:21:28.704Z"
   },
   {
    "duration": 18,
    "start_time": "2023-10-28T15:21:41.352Z"
   },
   {
    "duration": 17,
    "start_time": "2023-10-28T15:21:57.681Z"
   },
   {
    "duration": 16,
    "start_time": "2023-10-28T15:23:18.908Z"
   },
   {
    "duration": 15,
    "start_time": "2023-10-28T15:23:27.514Z"
   },
   {
    "duration": 15,
    "start_time": "2023-10-28T15:23:54.994Z"
   },
   {
    "duration": 283,
    "start_time": "2023-10-28T15:23:59.575Z"
   },
   {
    "duration": 15,
    "start_time": "2023-10-28T15:24:07.970Z"
   },
   {
    "duration": 305,
    "start_time": "2023-10-28T15:27:08.387Z"
   },
   {
    "duration": 312,
    "start_time": "2023-10-28T15:28:00.774Z"
   },
   {
    "duration": 10,
    "start_time": "2023-10-28T15:28:29.259Z"
   },
   {
    "duration": 267,
    "start_time": "2023-10-28T15:31:30.336Z"
   },
   {
    "duration": 24,
    "start_time": "2023-10-28T15:33:06.973Z"
   },
   {
    "duration": 81,
    "start_time": "2023-10-28T15:35:11.713Z"
   },
   {
    "duration": 42,
    "start_time": "2023-10-28T15:35:29.875Z"
   },
   {
    "duration": 22,
    "start_time": "2023-10-28T15:35:39.113Z"
   },
   {
    "duration": 25,
    "start_time": "2023-10-28T15:35:59.432Z"
   },
   {
    "duration": 4,
    "start_time": "2023-10-28T15:36:48.377Z"
   },
   {
    "duration": 5,
    "start_time": "2023-10-28T16:01:28.461Z"
   },
   {
    "duration": 947,
    "start_time": "2023-10-28T16:01:28.468Z"
   },
   {
    "duration": 171,
    "start_time": "2023-10-28T16:01:29.417Z"
   },
   {
    "duration": 43,
    "start_time": "2023-10-28T16:01:29.591Z"
   },
   {
    "duration": 405,
    "start_time": "2023-10-28T16:01:29.636Z"
   },
   {
    "duration": 206,
    "start_time": "2023-10-28T16:01:30.044Z"
   },
   {
    "duration": 171,
    "start_time": "2023-10-28T16:01:30.252Z"
   },
   {
    "duration": 14,
    "start_time": "2023-10-28T16:01:30.425Z"
   },
   {
    "duration": 1,
    "start_time": "2023-10-28T16:01:30.441Z"
   },
   {
    "duration": 0,
    "start_time": "2023-10-28T16:01:30.443Z"
   },
   {
    "duration": 0,
    "start_time": "2023-10-28T16:01:30.444Z"
   },
   {
    "duration": 18,
    "start_time": "2023-10-28T16:01:37.208Z"
   },
   {
    "duration": 17,
    "start_time": "2023-10-28T16:01:57.638Z"
   },
   {
    "duration": 96,
    "start_time": "2023-10-28T16:02:48.850Z"
   },
   {
    "duration": 38,
    "start_time": "2023-10-28T16:03:03.076Z"
   },
   {
    "duration": 73,
    "start_time": "2023-10-28T16:03:08.008Z"
   },
   {
    "duration": 30,
    "start_time": "2023-10-28T16:03:54.023Z"
   },
   {
    "duration": 165,
    "start_time": "2023-10-28T16:04:04.657Z"
   },
   {
    "duration": 14,
    "start_time": "2023-10-28T16:04:11.888Z"
   },
   {
    "duration": 98,
    "start_time": "2023-10-28T16:04:19.651Z"
   },
   {
    "duration": 6,
    "start_time": "2023-10-28T16:04:28.462Z"
   },
   {
    "duration": 43693,
    "start_time": "2023-10-28T16:04:31.369Z"
   },
   {
    "duration": 192,
    "start_time": "2023-10-28T16:05:18.757Z"
   },
   {
    "duration": 111,
    "start_time": "2023-10-28T16:05:23.565Z"
   },
   {
    "duration": 1990,
    "start_time": "2023-10-28T16:05:24.634Z"
   },
   {
    "duration": 21,
    "start_time": "2023-10-28T16:05:31.430Z"
   },
   {
    "duration": 43,
    "start_time": "2023-10-28T16:05:32.283Z"
   },
   {
    "duration": 12,
    "start_time": "2023-10-28T16:05:35.002Z"
   },
   {
    "duration": 4,
    "start_time": "2023-10-28T16:05:35.647Z"
   },
   {
    "duration": 171,
    "start_time": "2023-10-28T16:05:37.332Z"
   },
   {
    "duration": 34,
    "start_time": "2023-10-28T16:05:38.272Z"
   },
   {
    "duration": 21,
    "start_time": "2023-10-28T16:05:40.331Z"
   },
   {
    "duration": 28189,
    "start_time": "2023-10-28T16:05:42.331Z"
   },
   {
    "duration": 36,
    "start_time": "2023-10-28T16:06:17.971Z"
   },
   {
    "duration": 17,
    "start_time": "2023-10-28T16:06:19.753Z"
   },
   {
    "duration": 39,
    "start_time": "2023-10-28T16:06:20.937Z"
   },
   {
    "duration": 204,
    "start_time": "2023-10-28T16:06:22.290Z"
   },
   {
    "duration": 107,
    "start_time": "2023-10-28T16:06:23.831Z"
   },
   {
    "duration": 10,
    "start_time": "2023-10-28T16:06:24.617Z"
   },
   {
    "duration": 131,
    "start_time": "2023-10-28T16:06:30.137Z"
   },
   {
    "duration": 72,
    "start_time": "2023-10-28T16:06:33.995Z"
   },
   {
    "duration": 123,
    "start_time": "2023-10-28T16:06:36.408Z"
   },
   {
    "duration": 154,
    "start_time": "2023-10-28T16:06:39.971Z"
   },
   {
    "duration": 18,
    "start_time": "2023-10-28T16:06:43.366Z"
   },
   {
    "duration": 248,
    "start_time": "2023-10-28T16:06:50.030Z"
   },
   {
    "duration": 6623,
    "start_time": "2023-10-28T16:07:22.863Z"
   },
   {
    "duration": 155,
    "start_time": "2023-10-28T16:07:33.540Z"
   },
   {
    "duration": 231,
    "start_time": "2023-10-28T16:07:38.942Z"
   },
   {
    "duration": 4,
    "start_time": "2023-10-28T16:08:22.656Z"
   },
   {
    "duration": 222,
    "start_time": "2023-10-28T16:08:40.497Z"
   },
   {
    "duration": 4,
    "start_time": "2023-10-28T16:10:35.230Z"
   },
   {
    "duration": 21,
    "start_time": "2023-10-28T16:10:40.909Z"
   },
   {
    "duration": 274,
    "start_time": "2023-10-28T16:10:47.629Z"
   },
   {
    "duration": 10,
    "start_time": "2023-10-28T16:12:28.390Z"
   },
   {
    "duration": 6,
    "start_time": "2023-10-28T16:12:32.319Z"
   },
   {
    "duration": 1906,
    "start_time": "2023-10-28T16:12:51.117Z"
   },
   {
    "duration": 18,
    "start_time": "2023-10-28T16:14:03.137Z"
   },
   {
    "duration": 15,
    "start_time": "2023-10-28T16:14:19.442Z"
   },
   {
    "duration": 14,
    "start_time": "2023-10-28T16:14:41.150Z"
   },
   {
    "duration": 67,
    "start_time": "2023-10-28T16:14:50.031Z"
   },
   {
    "duration": 6,
    "start_time": "2023-10-28T16:15:01.492Z"
   },
   {
    "duration": 5,
    "start_time": "2023-10-28T16:15:45.398Z"
   },
   {
    "duration": 1057,
    "start_time": "2023-10-28T16:15:45.406Z"
   },
   {
    "duration": 216,
    "start_time": "2023-10-28T16:15:46.466Z"
   },
   {
    "duration": 41,
    "start_time": "2023-10-28T16:15:46.685Z"
   },
   {
    "duration": 372,
    "start_time": "2023-10-28T16:15:46.728Z"
   },
   {
    "duration": 194,
    "start_time": "2023-10-28T16:15:47.102Z"
   },
   {
    "duration": 178,
    "start_time": "2023-10-28T16:15:47.298Z"
   },
   {
    "duration": 11,
    "start_time": "2023-10-28T16:15:47.479Z"
   },
   {
    "duration": 1,
    "start_time": "2023-10-28T16:15:47.493Z"
   },
   {
    "duration": 0,
    "start_time": "2023-10-28T16:15:47.507Z"
   },
   {
    "duration": 0,
    "start_time": "2023-10-28T16:15:47.508Z"
   },
   {
    "duration": 1,
    "start_time": "2023-10-28T16:15:47.509Z"
   },
   {
    "duration": 0,
    "start_time": "2023-10-28T16:15:47.511Z"
   },
   {
    "duration": 0,
    "start_time": "2023-10-28T16:15:47.514Z"
   },
   {
    "duration": 1,
    "start_time": "2023-10-28T16:15:47.515Z"
   },
   {
    "duration": 0,
    "start_time": "2023-10-28T16:15:47.517Z"
   },
   {
    "duration": 0,
    "start_time": "2023-10-28T16:15:47.519Z"
   },
   {
    "duration": 0,
    "start_time": "2023-10-28T16:15:47.520Z"
   },
   {
    "duration": 0,
    "start_time": "2023-10-28T16:15:47.522Z"
   },
   {
    "duration": 0,
    "start_time": "2023-10-28T16:15:47.523Z"
   },
   {
    "duration": 0,
    "start_time": "2023-10-28T16:15:47.524Z"
   },
   {
    "duration": 0,
    "start_time": "2023-10-28T16:15:47.526Z"
   },
   {
    "duration": 0,
    "start_time": "2023-10-28T16:15:47.527Z"
   },
   {
    "duration": 0,
    "start_time": "2023-10-28T16:15:47.529Z"
   },
   {
    "duration": 0,
    "start_time": "2023-10-28T16:15:47.530Z"
   },
   {
    "duration": 0,
    "start_time": "2023-10-28T16:15:47.533Z"
   },
   {
    "duration": 0,
    "start_time": "2023-10-28T16:15:47.534Z"
   },
   {
    "duration": 0,
    "start_time": "2023-10-28T16:15:47.536Z"
   },
   {
    "duration": 0,
    "start_time": "2023-10-28T16:15:47.537Z"
   },
   {
    "duration": 0,
    "start_time": "2023-10-28T16:15:47.538Z"
   },
   {
    "duration": 0,
    "start_time": "2023-10-28T16:15:47.539Z"
   },
   {
    "duration": 0,
    "start_time": "2023-10-28T16:15:47.541Z"
   },
   {
    "duration": 0,
    "start_time": "2023-10-28T16:15:47.543Z"
   },
   {
    "duration": 0,
    "start_time": "2023-10-28T16:15:47.544Z"
   },
   {
    "duration": 185,
    "start_time": "2023-10-28T16:16:53.052Z"
   },
   {
    "duration": 20,
    "start_time": "2023-10-28T16:16:59.070Z"
   },
   {
    "duration": 164,
    "start_time": "2023-10-28T16:17:00.008Z"
   },
   {
    "duration": 49,
    "start_time": "2023-10-28T16:17:01.355Z"
   },
   {
    "duration": 134,
    "start_time": "2023-10-28T16:17:05.134Z"
   },
   {
    "duration": 17,
    "start_time": "2023-10-28T16:17:09.226Z"
   },
   {
    "duration": 102,
    "start_time": "2023-10-28T16:17:23.442Z"
   },
   {
    "duration": 8,
    "start_time": "2023-10-28T16:17:32.928Z"
   },
   {
    "duration": 50783,
    "start_time": "2023-10-28T16:17:34.331Z"
   },
   {
    "duration": 236,
    "start_time": "2023-10-28T16:18:25.116Z"
   },
   {
    "duration": 90,
    "start_time": "2023-10-28T16:18:25.354Z"
   },
   {
    "duration": 1779,
    "start_time": "2023-10-28T16:18:25.447Z"
   },
   {
    "duration": 214,
    "start_time": "2023-10-28T16:18:28.100Z"
   },
   {
    "duration": 81,
    "start_time": "2023-10-28T16:18:30.150Z"
   },
   {
    "duration": 2186,
    "start_time": "2023-10-28T16:18:30.603Z"
   },
   {
    "duration": 25,
    "start_time": "2023-10-28T16:18:32.791Z"
   },
   {
    "duration": 43,
    "start_time": "2023-10-28T16:18:34.136Z"
   },
   {
    "duration": 13,
    "start_time": "2023-10-28T16:18:36.169Z"
   },
   {
    "duration": 5,
    "start_time": "2023-10-28T16:18:37.019Z"
   },
   {
    "duration": 187,
    "start_time": "2023-10-28T16:18:38.659Z"
   },
   {
    "duration": 37,
    "start_time": "2023-10-28T16:18:39.682Z"
   },
   {
    "duration": 27,
    "start_time": "2023-10-28T16:18:40.679Z"
   },
   {
    "duration": 28104,
    "start_time": "2023-10-28T16:18:42.143Z"
   },
   {
    "duration": 34,
    "start_time": "2023-10-28T16:19:10.249Z"
   },
   {
    "duration": 22,
    "start_time": "2023-10-28T16:19:15.293Z"
   },
   {
    "duration": 45,
    "start_time": "2023-10-28T16:19:16.250Z"
   },
   {
    "duration": 248,
    "start_time": "2023-10-28T16:19:17.894Z"
   },
   {
    "duration": 105,
    "start_time": "2023-10-28T16:19:20.710Z"
   },
   {
    "duration": 10,
    "start_time": "2023-10-28T16:19:22.092Z"
   },
   {
    "duration": 94,
    "start_time": "2023-10-28T16:19:27.624Z"
   },
   {
    "duration": 106,
    "start_time": "2023-10-28T16:19:34.204Z"
   },
   {
    "duration": 118,
    "start_time": "2023-10-28T16:19:36.567Z"
   },
   {
    "duration": 142,
    "start_time": "2023-10-28T16:19:38.770Z"
   },
   {
    "duration": 87,
    "start_time": "2023-10-28T16:19:44.947Z"
   },
   {
    "duration": 1942,
    "start_time": "2023-10-28T16:19:51.717Z"
   },
   {
    "duration": 583,
    "start_time": "2023-10-28T16:20:07.927Z"
   },
   {
    "duration": 4,
    "start_time": "2023-10-28T16:20:13.755Z"
   },
   {
    "duration": 16,
    "start_time": "2023-10-28T16:20:16.233Z"
   },
   {
    "duration": 55,
    "start_time": "2023-10-28T16:20:23.508Z"
   },
   {
    "duration": 17,
    "start_time": "2023-10-28T16:21:26.212Z"
   },
   {
    "duration": 29094,
    "start_time": "2023-10-28T16:21:26.879Z"
   },
   {
    "duration": 1003081,
    "start_time": "2023-10-28T16:21:55.976Z"
   },
   {
    "duration": 3297,
    "start_time": "2023-10-29T19:51:37.877Z"
   },
   {
    "duration": 1343,
    "start_time": "2023-10-29T19:51:41.176Z"
   },
   {
    "duration": 208,
    "start_time": "2023-10-29T19:51:53.186Z"
   },
   {
    "duration": 53,
    "start_time": "2023-10-29T19:51:57.948Z"
   },
   {
    "duration": 333,
    "start_time": "2023-10-29T19:51:59.902Z"
   },
   {
    "duration": 98,
    "start_time": "2023-10-29T19:52:21.544Z"
   },
   {
    "duration": 129,
    "start_time": "2023-10-29T19:52:28.860Z"
   },
   {
    "duration": 552,
    "start_time": "2023-10-29T19:52:36.086Z"
   },
   {
    "duration": 5,
    "start_time": "2023-10-29T19:53:08.041Z"
   },
   {
    "duration": 5,
    "start_time": "2023-10-29T19:53:13.757Z"
   },
   {
    "duration": 6,
    "start_time": "2023-10-29T19:53:18.790Z"
   }
  ],
  "kernelspec": {
   "display_name": "Python 3 (ipykernel)",
   "language": "python",
   "name": "python3"
  },
  "language_info": {
   "codemirror_mode": {
    "name": "ipython",
    "version": 3
   },
   "file_extension": ".py",
   "mimetype": "text/x-python",
   "name": "python",
   "nbconvert_exporter": "python",
   "pygments_lexer": "ipython3",
   "version": "3.10.9"
  },
  "toc": {
   "base_numbering": "0",
   "nav_menu": {
    "height": "517px",
    "width": "377px"
   },
   "number_sections": true,
   "sideBar": true,
   "skip_h1_title": true,
   "title_cell": "Table of Contents",
   "title_sidebar": "Contents",
   "toc_cell": true,
   "toc_position": {
    "height": "calc(100% - 180px)",
    "left": "10px",
    "top": "150px",
    "width": "288px"
   },
   "toc_section_display": true,
   "toc_window_display": false
  }
 },
 "nbformat": 4,
 "nbformat_minor": 5
}
