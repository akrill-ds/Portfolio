{
 "cells": [
  {
   "cell_type": "markdown",
   "id": "ca43bab6",
   "metadata": {},
   "source": [
    "<font size=6><b>Определение стоимости автомобилей</b></font>"
   ]
  },
  {
   "cell_type": "markdown",
   "id": "10895c83",
   "metadata": {},
   "source": [
    "---"
   ]
  },
  {
   "cell_type": "markdown",
   "id": "1ed48775",
   "metadata": {},
   "source": [
    "<font size=5><b>Описание проекта</b></font>"
   ]
  },
  {
   "cell_type": "markdown",
   "id": "8b6101ba",
   "metadata": {},
   "source": [
    "<div style=\"border:solid darkcyan 2px; padding: 20px; border-radius: 10px\">\n",
    "    \n",
    "<b>Цель</b>: Сервис по продаже автомобилей с пробегом «Не бит, не крашен» разрабатывает приложение, чтобы привлечь новых клиентов. В нём можно будет узнать рыночную стоимость своего автомобиля. Необходимо построить модель, которая умеет её определять. Критерии, которые важны заказчику: качество предсказания, время обучения модели, время предсказания модели.<br><br>\n",
    "<b>Данные</b>: Набор данных находится в файле */datasets/autos.csv*. Данные о технических характеристиках, комплектации и ценах других автомобилей. Целевой признак: цена автомобиля (евро).<br><br>\n",
    "<b>Содержание</b>:   \n",
    "1. Загрузка данных.  \n",
    "1. Изучение данных.  \n",
    "1. Подготовка выборок для обучения.  \n",
    "1. Обучение моделей.  \n",
    "1. Анализ моделей.  \n",
    "1. Проверка лучшей модели.  \n",
    "1. Выводы."
   ]
  },
  {
   "cell_type": "markdown",
   "id": "03278b4c",
   "metadata": {},
   "source": [
    "## 1. Загрузка данных"
   ]
  },
  {
   "cell_type": "code",
   "execution_count": 36,
   "id": "f691dad7",
   "metadata": {},
   "outputs": [],
   "source": [
    "import numpy as np\n",
    "import pandas as pd\n",
    "import matplotlib.pyplot as plt\n",
    "import matplotlib.colors as mcolors\n",
    "import seaborn as sns\n",
    "from IPython.display import clear_output\n",
    "import warnings\n",
    "\n",
    "from sklearn.model_selection import train_test_split, cross_val_score, GridSearchCV\n",
    "from sklearn.preprocessing import StandardScaler, OneHotEncoder, OrdinalEncoder\n",
    "from sklearn.linear_model import LinearRegression\n",
    "from sklearn.tree import DecisionTreeRegressor\n",
    "from sklearn.ensemble import RandomForestRegressor\n",
    "from sklearn.metrics import mean_squared_error\n",
    "from sklearn.dummy import DummyRegressor\n",
    "import lightgbm as lgb\n",
    "\n",
    "RSTATE = 10101\n",
    "warnings.filterwarnings('ignore')"
   ]
  },
  {
   "cell_type": "code",
   "execution_count": 2,
   "id": "369652c5",
   "metadata": {},
   "outputs": [],
   "source": [
    "df = pd.read_csv('autos.csv')"
   ]
  },
  {
   "cell_type": "code",
   "execution_count": 3,
   "id": "e354742f",
   "metadata": {
    "scrolled": false
   },
   "outputs": [
    {
     "data": {
      "text/plain": [
       "'Размеры датасета: (354369, 16)'"
      ]
     },
     "metadata": {},
     "output_type": "display_data"
    },
    {
     "name": "stdout",
     "output_type": "stream",
     "text": [
      "<class 'pandas.core.frame.DataFrame'>\n",
      "RangeIndex: 354369 entries, 0 to 354368\n",
      "Data columns (total 16 columns):\n",
      " #   Column             Non-Null Count   Dtype \n",
      "---  ------             --------------   ----- \n",
      " 0   DateCrawled        354369 non-null  object\n",
      " 1   Price              354369 non-null  int64 \n",
      " 2   VehicleType        316879 non-null  object\n",
      " 3   RegistrationYear   354369 non-null  int64 \n",
      " 4   Gearbox            334536 non-null  object\n",
      " 5   Power              354369 non-null  int64 \n",
      " 6   Model              334664 non-null  object\n",
      " 7   Kilometer          354369 non-null  int64 \n",
      " 8   RegistrationMonth  354369 non-null  int64 \n",
      " 9   FuelType           321474 non-null  object\n",
      " 10  Brand              354369 non-null  object\n",
      " 11  Repaired           283215 non-null  object\n",
      " 12  DateCreated        354369 non-null  object\n",
      " 13  NumberOfPictures   354369 non-null  int64 \n",
      " 14  PostalCode         354369 non-null  int64 \n",
      " 15  LastSeen           354369 non-null  object\n",
      "dtypes: int64(7), object(9)\n",
      "memory usage: 43.3+ MB\n"
     ]
    },
    {
     "data": {
      "text/plain": [
       "None"
      ]
     },
     "metadata": {},
     "output_type": "display_data"
    },
    {
     "data": {
      "text/html": [
       "<div>\n",
       "<style scoped>\n",
       "    .dataframe tbody tr th:only-of-type {\n",
       "        vertical-align: middle;\n",
       "    }\n",
       "\n",
       "    .dataframe tbody tr th {\n",
       "        vertical-align: top;\n",
       "    }\n",
       "\n",
       "    .dataframe thead th {\n",
       "        text-align: right;\n",
       "    }\n",
       "</style>\n",
       "<table border=\"1\" class=\"dataframe\">\n",
       "  <thead>\n",
       "    <tr style=\"text-align: right;\">\n",
       "      <th></th>\n",
       "      <th>DateCrawled</th>\n",
       "      <th>Price</th>\n",
       "      <th>VehicleType</th>\n",
       "      <th>RegistrationYear</th>\n",
       "      <th>Gearbox</th>\n",
       "      <th>Power</th>\n",
       "      <th>Model</th>\n",
       "      <th>Kilometer</th>\n",
       "      <th>RegistrationMonth</th>\n",
       "      <th>FuelType</th>\n",
       "      <th>Brand</th>\n",
       "      <th>Repaired</th>\n",
       "      <th>DateCreated</th>\n",
       "      <th>NumberOfPictures</th>\n",
       "      <th>PostalCode</th>\n",
       "      <th>LastSeen</th>\n",
       "    </tr>\n",
       "  </thead>\n",
       "  <tbody>\n",
       "    <tr>\n",
       "      <th>0</th>\n",
       "      <td>2016-03-24 11:52:17</td>\n",
       "      <td>480</td>\n",
       "      <td>NaN</td>\n",
       "      <td>1993</td>\n",
       "      <td>manual</td>\n",
       "      <td>0</td>\n",
       "      <td>golf</td>\n",
       "      <td>150000</td>\n",
       "      <td>0</td>\n",
       "      <td>petrol</td>\n",
       "      <td>volkswagen</td>\n",
       "      <td>NaN</td>\n",
       "      <td>2016-03-24 00:00:00</td>\n",
       "      <td>0</td>\n",
       "      <td>70435</td>\n",
       "      <td>2016-04-07 03:16:57</td>\n",
       "    </tr>\n",
       "    <tr>\n",
       "      <th>1</th>\n",
       "      <td>2016-03-24 10:58:45</td>\n",
       "      <td>18300</td>\n",
       "      <td>coupe</td>\n",
       "      <td>2011</td>\n",
       "      <td>manual</td>\n",
       "      <td>190</td>\n",
       "      <td>NaN</td>\n",
       "      <td>125000</td>\n",
       "      <td>5</td>\n",
       "      <td>gasoline</td>\n",
       "      <td>audi</td>\n",
       "      <td>yes</td>\n",
       "      <td>2016-03-24 00:00:00</td>\n",
       "      <td>0</td>\n",
       "      <td>66954</td>\n",
       "      <td>2016-04-07 01:46:50</td>\n",
       "    </tr>\n",
       "    <tr>\n",
       "      <th>2</th>\n",
       "      <td>2016-03-14 12:52:21</td>\n",
       "      <td>9800</td>\n",
       "      <td>suv</td>\n",
       "      <td>2004</td>\n",
       "      <td>auto</td>\n",
       "      <td>163</td>\n",
       "      <td>grand</td>\n",
       "      <td>125000</td>\n",
       "      <td>8</td>\n",
       "      <td>gasoline</td>\n",
       "      <td>jeep</td>\n",
       "      <td>NaN</td>\n",
       "      <td>2016-03-14 00:00:00</td>\n",
       "      <td>0</td>\n",
       "      <td>90480</td>\n",
       "      <td>2016-04-05 12:47:46</td>\n",
       "    </tr>\n",
       "    <tr>\n",
       "      <th>3</th>\n",
       "      <td>2016-03-17 16:54:04</td>\n",
       "      <td>1500</td>\n",
       "      <td>small</td>\n",
       "      <td>2001</td>\n",
       "      <td>manual</td>\n",
       "      <td>75</td>\n",
       "      <td>golf</td>\n",
       "      <td>150000</td>\n",
       "      <td>6</td>\n",
       "      <td>petrol</td>\n",
       "      <td>volkswagen</td>\n",
       "      <td>no</td>\n",
       "      <td>2016-03-17 00:00:00</td>\n",
       "      <td>0</td>\n",
       "      <td>91074</td>\n",
       "      <td>2016-03-17 17:40:17</td>\n",
       "    </tr>\n",
       "    <tr>\n",
       "      <th>4</th>\n",
       "      <td>2016-03-31 17:25:20</td>\n",
       "      <td>3600</td>\n",
       "      <td>small</td>\n",
       "      <td>2008</td>\n",
       "      <td>manual</td>\n",
       "      <td>69</td>\n",
       "      <td>fabia</td>\n",
       "      <td>90000</td>\n",
       "      <td>7</td>\n",
       "      <td>gasoline</td>\n",
       "      <td>skoda</td>\n",
       "      <td>no</td>\n",
       "      <td>2016-03-31 00:00:00</td>\n",
       "      <td>0</td>\n",
       "      <td>60437</td>\n",
       "      <td>2016-04-06 10:17:21</td>\n",
       "    </tr>\n",
       "  </tbody>\n",
       "</table>\n",
       "</div>"
      ],
      "text/plain": [
       "           DateCrawled  Price VehicleType  RegistrationYear Gearbox  Power  \\\n",
       "0  2016-03-24 11:52:17    480         NaN              1993  manual      0   \n",
       "1  2016-03-24 10:58:45  18300       coupe              2011  manual    190   \n",
       "2  2016-03-14 12:52:21   9800         suv              2004    auto    163   \n",
       "3  2016-03-17 16:54:04   1500       small              2001  manual     75   \n",
       "4  2016-03-31 17:25:20   3600       small              2008  manual     69   \n",
       "\n",
       "   Model  Kilometer  RegistrationMonth  FuelType       Brand Repaired  \\\n",
       "0   golf     150000                  0    petrol  volkswagen      NaN   \n",
       "1    NaN     125000                  5  gasoline        audi      yes   \n",
       "2  grand     125000                  8  gasoline        jeep      NaN   \n",
       "3   golf     150000                  6    petrol  volkswagen       no   \n",
       "4  fabia      90000                  7  gasoline       skoda       no   \n",
       "\n",
       "           DateCreated  NumberOfPictures  PostalCode             LastSeen  \n",
       "0  2016-03-24 00:00:00                 0       70435  2016-04-07 03:16:57  \n",
       "1  2016-03-24 00:00:00                 0       66954  2016-04-07 01:46:50  \n",
       "2  2016-03-14 00:00:00                 0       90480  2016-04-05 12:47:46  \n",
       "3  2016-03-17 00:00:00                 0       91074  2016-03-17 17:40:17  \n",
       "4  2016-03-31 00:00:00                 0       60437  2016-04-06 10:17:21  "
      ]
     },
     "metadata": {},
     "output_type": "display_data"
    }
   ],
   "source": [
    "display(f'Размеры датасета: {df.shape}')\n",
    "display(df.info())\n",
    "display(df.head())"
   ]
  },
  {
   "cell_type": "markdown",
   "id": "ad8d8fdf",
   "metadata": {},
   "source": [
    "<div style=\"border:solid darkcyan 2px; padding: 20px; border-radius: 10px\">\n",
    "\n",
    "Набор данных содержит 354369 объектов по 16 признаков. В данных есть пропуски. Типы: int и object."
   ]
  },
  {
   "cell_type": "markdown",
   "id": "38d3dc5e",
   "metadata": {},
   "source": [
    "## 2. Изучение данных"
   ]
  },
  {
   "cell_type": "code",
   "execution_count": 4,
   "id": "e563b1ab",
   "metadata": {},
   "outputs": [],
   "source": [
    "df1 = df.copy()"
   ]
  },
  {
   "cell_type": "markdown",
   "id": "4d23542a",
   "metadata": {},
   "source": [
    "Преобразуем даты в формат даты для дальнейшего изучения."
   ]
  },
  {
   "cell_type": "code",
   "execution_count": 5,
   "id": "f555d542",
   "metadata": {},
   "outputs": [],
   "source": [
    "df1['DateCrawled'] = pd.to_datetime(df1['DateCrawled'])#.astype(np.int64)\n",
    "df1['DateCreated'] = pd.to_datetime(df1['DateCreated'])#.astype(np.int64)\n",
    "df1['LastSeen'] = pd.to_datetime(df1['LastSeen'])#.astype(np.int64)"
   ]
  },
  {
   "cell_type": "markdown",
   "id": "c4f1018a",
   "metadata": {},
   "source": [
    "Рассмотрим, какие года и месяцы присутствуют в датах."
   ]
  },
  {
   "cell_type": "code",
   "execution_count": 6,
   "id": "79a13b87",
   "metadata": {},
   "outputs": [
    {
     "name": "stdout",
     "output_type": "stream",
     "text": [
      "DateCrawled: годы [2016], месяцы [3 4]\n",
      "DateCreated: годы [2016 2015 2014], месяцы [ 3  4  2  1 11 12  9  8  6]\n",
      "LastSeen: годы [2016], месяцы [4 3]\n"
     ]
    }
   ],
   "source": [
    "print(f'DateCrawled: годы {df1[\"DateCrawled\"].dt.year.unique()}, месяцы {df1[\"DateCrawled\"].dt.month.unique()}')\n",
    "print(f'DateCreated: годы {df1[\"DateCreated\"].dt.year.unique()}, месяцы {df1[\"DateCreated\"].dt.month.unique()}')\n",
    "print(f'LastSeen: годы {df1[\"LastSeen\"].dt.year.unique()}, месяцы {df1[\"LastSeen\"].dt.month.unique()}')"
   ]
  },
  {
   "cell_type": "markdown",
   "id": "a0d04e24",
   "metadata": {},
   "source": [
    "<div style=\"border:solid darkcyan 2px; padding: 20px; border-radius: 10px\">\n",
    "\n",
    "Выделим, как отдельные признаки: \n",
    "* месяц (3, 4) для **DateCrawled** и **LastSeen**;\n",
    "* год (2014, 2015, 2016) для **DateCreated**.\n",
    "\n",
    "А сами даты удалим."
   ]
  },
  {
   "cell_type": "code",
   "execution_count": 7,
   "id": "f6667102",
   "metadata": {},
   "outputs": [],
   "source": [
    "df1['Year_Created'] = df1['DateCreated'].dt.year\n",
    "df1['Month_Created'] = df1['DateCreated'].dt.month\n",
    "df1['Month_LastSeen'] = df1['LastSeen'].dt.month\n",
    "df1['Month_Crawled'] = df1['DateCrawled'].dt.month\n",
    "\n",
    "df1 = df1.drop(['DateCreated', 'LastSeen', 'DateCrawled'], axis=1)"
   ]
  },
  {
   "cell_type": "markdown",
   "id": "58f7dd0c",
   "metadata": {},
   "source": [
    "Построим матрицу корреляции."
   ]
  },
  {
   "cell_type": "code",
   "execution_count": 8,
   "id": "9b457c9a",
   "metadata": {
    "scrolled": true
   },
   "outputs": [
    {
     "data": {
      "text/html": [
       "<style type=\"text/css\">\n",
       "#T_d692c_row0_col0, #T_d692c_row1_col1, #T_d692c_row2_col2, #T_d692c_row3_col3, #T_d692c_row4_col4, #T_d692c_row6_col6, #T_d692c_row7_col7, #T_d692c_row8_col8, #T_d692c_row9_col9, #T_d692c_row10_col10 {\n",
       "  background-color: #5e4fa2;\n",
       "  color: #f1f1f1;\n",
       "}\n",
       "#T_d692c_row0_col1, #T_d692c_row1_col0, #T_d692c_row2_col3, #T_d692c_row3_col2 {\n",
       "  background-color: #fcfeba;\n",
       "  color: #000000;\n",
       "}\n",
       "#T_d692c_row0_col2, #T_d692c_row2_col0 {\n",
       "  background-color: #ebf7a0;\n",
       "  color: #000000;\n",
       "}\n",
       "#T_d692c_row0_col3, #T_d692c_row3_col0 {\n",
       "  background-color: #fdbf6f;\n",
       "  color: #000000;\n",
       "}\n",
       "#T_d692c_row0_col4, #T_d692c_row4_col0 {\n",
       "  background-color: #f1f9a9;\n",
       "  color: #000000;\n",
       "}\n",
       "#T_d692c_row0_col5, #T_d692c_row1_col5, #T_d692c_row2_col5, #T_d692c_row3_col5, #T_d692c_row4_col5, #T_d692c_row5_col0, #T_d692c_row5_col1, #T_d692c_row5_col2, #T_d692c_row5_col3, #T_d692c_row5_col4, #T_d692c_row5_col5, #T_d692c_row5_col6, #T_d692c_row5_col7, #T_d692c_row5_col8, #T_d692c_row5_col9, #T_d692c_row5_col10, #T_d692c_row6_col5, #T_d692c_row7_col5, #T_d692c_row8_col5, #T_d692c_row9_col5, #T_d692c_row10_col5 {\n",
       "  background-color: #000000;\n",
       "  color: #f1f1f1;\n",
       "}\n",
       "#T_d692c_row0_col6, #T_d692c_row6_col0 {\n",
       "  background-color: #f6fbb0;\n",
       "  color: #000000;\n",
       "}\n",
       "#T_d692c_row0_col7, #T_d692c_row1_col2, #T_d692c_row1_col6, #T_d692c_row1_col8, #T_d692c_row1_col9, #T_d692c_row1_col10, #T_d692c_row2_col1, #T_d692c_row3_col6, #T_d692c_row3_col8, #T_d692c_row3_col10, #T_d692c_row4_col8, #T_d692c_row4_col10, #T_d692c_row6_col1, #T_d692c_row6_col3, #T_d692c_row7_col0, #T_d692c_row7_col9, #T_d692c_row8_col1, #T_d692c_row8_col3, #T_d692c_row8_col4, #T_d692c_row9_col1, #T_d692c_row9_col7, #T_d692c_row10_col1, #T_d692c_row10_col3, #T_d692c_row10_col4 {\n",
       "  background-color: #fffebe;\n",
       "  color: #000000;\n",
       "}\n",
       "#T_d692c_row0_col8, #T_d692c_row3_col4, #T_d692c_row4_col3, #T_d692c_row4_col6, #T_d692c_row6_col4, #T_d692c_row6_col8, #T_d692c_row6_col10, #T_d692c_row8_col0, #T_d692c_row8_col6, #T_d692c_row10_col6 {\n",
       "  background-color: #fefebd;\n",
       "  color: #000000;\n",
       "}\n",
       "#T_d692c_row0_col9, #T_d692c_row9_col0 {\n",
       "  background-color: #ecf7a1;\n",
       "  color: #000000;\n",
       "}\n",
       "#T_d692c_row0_col10, #T_d692c_row2_col6, #T_d692c_row2_col9, #T_d692c_row6_col2, #T_d692c_row9_col2, #T_d692c_row10_col0 {\n",
       "  background-color: #fdfebb;\n",
       "  color: #000000;\n",
       "}\n",
       "#T_d692c_row1_col3, #T_d692c_row3_col1 {\n",
       "  background-color: #fff7b2;\n",
       "  color: #000000;\n",
       "}\n",
       "#T_d692c_row1_col4, #T_d692c_row4_col1 {\n",
       "  background-color: #fffdbc;\n",
       "  color: #000000;\n",
       "}\n",
       "#T_d692c_row1_col7, #T_d692c_row2_col7, #T_d692c_row2_col8, #T_d692c_row2_col10, #T_d692c_row3_col7, #T_d692c_row4_col7, #T_d692c_row4_col9, #T_d692c_row6_col7, #T_d692c_row7_col1, #T_d692c_row7_col2, #T_d692c_row7_col3, #T_d692c_row7_col4, #T_d692c_row7_col6, #T_d692c_row7_col10, #T_d692c_row8_col2, #T_d692c_row9_col4, #T_d692c_row10_col2, #T_d692c_row10_col7 {\n",
       "  background-color: #ffffbe;\n",
       "  color: #000000;\n",
       "}\n",
       "#T_d692c_row2_col4, #T_d692c_row4_col2, #T_d692c_row6_col9, #T_d692c_row9_col6 {\n",
       "  background-color: #fafdb7;\n",
       "  color: #000000;\n",
       "}\n",
       "#T_d692c_row3_col9, #T_d692c_row9_col3 {\n",
       "  background-color: #fff6b0;\n",
       "  color: #000000;\n",
       "}\n",
       "#T_d692c_row7_col8, #T_d692c_row8_col7 {\n",
       "  background-color: #fee797;\n",
       "  color: #000000;\n",
       "}\n",
       "#T_d692c_row8_col9, #T_d692c_row9_col8 {\n",
       "  background-color: #b1dfa3;\n",
       "  color: #000000;\n",
       "}\n",
       "#T_d692c_row8_col10, #T_d692c_row10_col8 {\n",
       "  background-color: #5956a5;\n",
       "  color: #f1f1f1;\n",
       "}\n",
       "#T_d692c_row9_col10, #T_d692c_row10_col9 {\n",
       "  background-color: #aedea3;\n",
       "  color: #000000;\n",
       "}\n",
       "</style>\n",
       "<table id=\"T_d692c\">\n",
       "  <thead>\n",
       "    <tr>\n",
       "      <th class=\"blank level0\" >&nbsp;</th>\n",
       "      <th id=\"T_d692c_level0_col0\" class=\"col_heading level0 col0\" >Price</th>\n",
       "      <th id=\"T_d692c_level0_col1\" class=\"col_heading level0 col1\" >RegistrationYear</th>\n",
       "      <th id=\"T_d692c_level0_col2\" class=\"col_heading level0 col2\" >Power</th>\n",
       "      <th id=\"T_d692c_level0_col3\" class=\"col_heading level0 col3\" >Kilometer</th>\n",
       "      <th id=\"T_d692c_level0_col4\" class=\"col_heading level0 col4\" >RegistrationMonth</th>\n",
       "      <th id=\"T_d692c_level0_col5\" class=\"col_heading level0 col5\" >NumberOfPictures</th>\n",
       "      <th id=\"T_d692c_level0_col6\" class=\"col_heading level0 col6\" >PostalCode</th>\n",
       "      <th id=\"T_d692c_level0_col7\" class=\"col_heading level0 col7\" >Year_Created</th>\n",
       "      <th id=\"T_d692c_level0_col8\" class=\"col_heading level0 col8\" >Month_Created</th>\n",
       "      <th id=\"T_d692c_level0_col9\" class=\"col_heading level0 col9\" >Month_LastSeen</th>\n",
       "      <th id=\"T_d692c_level0_col10\" class=\"col_heading level0 col10\" >Month_Crawled</th>\n",
       "    </tr>\n",
       "  </thead>\n",
       "  <tbody>\n",
       "    <tr>\n",
       "      <th id=\"T_d692c_level0_row0\" class=\"row_heading level0 row0\" >Price</th>\n",
       "      <td id=\"T_d692c_row0_col0\" class=\"data row0 col0\" >1.000000</td>\n",
       "      <td id=\"T_d692c_row0_col1\" class=\"data row0 col1\" >0.026916</td>\n",
       "      <td id=\"T_d692c_row0_col2\" class=\"data row0 col2\" >0.158872</td>\n",
       "      <td id=\"T_d692c_row0_col3\" class=\"data row0 col3\" >-0.333199</td>\n",
       "      <td id=\"T_d692c_row0_col4\" class=\"data row0 col4\" >0.110581</td>\n",
       "      <td id=\"T_d692c_row0_col5\" class=\"data row0 col5\" >nan</td>\n",
       "      <td id=\"T_d692c_row0_col6\" class=\"data row0 col6\" >0.076055</td>\n",
       "      <td id=\"T_d692c_row0_col7\" class=\"data row0 col7\" >-0.005551</td>\n",
       "      <td id=\"T_d692c_row0_col8\" class=\"data row0 col8\" >0.014367</td>\n",
       "      <td id=\"T_d692c_row0_col9\" class=\"data row0 col9\" >0.149443</td>\n",
       "      <td id=\"T_d692c_row0_col10\" class=\"data row0 col10\" >0.016530</td>\n",
       "    </tr>\n",
       "    <tr>\n",
       "      <th id=\"T_d692c_level0_row1\" class=\"row_heading level0 row1\" >RegistrationYear</th>\n",
       "      <td id=\"T_d692c_row1_col0\" class=\"data row1 col0\" >0.026916</td>\n",
       "      <td id=\"T_d692c_row1_col1\" class=\"data row1 col1\" >1.000000</td>\n",
       "      <td id=\"T_d692c_row1_col2\" class=\"data row1 col2\" >-0.000828</td>\n",
       "      <td id=\"T_d692c_row1_col3\" class=\"data row1 col3\" >-0.053447</td>\n",
       "      <td id=\"T_d692c_row1_col4\" class=\"data row1 col4\" >-0.011619</td>\n",
       "      <td id=\"T_d692c_row1_col5\" class=\"data row1 col5\" >nan</td>\n",
       "      <td id=\"T_d692c_row1_col6\" class=\"data row1 col6\" >-0.003459</td>\n",
       "      <td id=\"T_d692c_row1_col7\" class=\"data row1 col7\" >0.000056</td>\n",
       "      <td id=\"T_d692c_row1_col8\" class=\"data row1 col8\" >-0.000728</td>\n",
       "      <td id=\"T_d692c_row1_col9\" class=\"data row1 col9\" >-0.000630</td>\n",
       "      <td id=\"T_d692c_row1_col10\" class=\"data row1 col10\" >-0.000845</td>\n",
       "    </tr>\n",
       "    <tr>\n",
       "      <th id=\"T_d692c_level0_row2\" class=\"row_heading level0 row2\" >Power</th>\n",
       "      <td id=\"T_d692c_row2_col0\" class=\"data row2 col0\" >0.158872</td>\n",
       "      <td id=\"T_d692c_row2_col1\" class=\"data row2 col1\" >-0.000828</td>\n",
       "      <td id=\"T_d692c_row2_col2\" class=\"data row2 col2\" >1.000000</td>\n",
       "      <td id=\"T_d692c_row2_col3\" class=\"data row2 col3\" >0.024002</td>\n",
       "      <td id=\"T_d692c_row2_col4\" class=\"data row2 col4\" >0.043380</td>\n",
       "      <td id=\"T_d692c_row2_col5\" class=\"data row2 col5\" >nan</td>\n",
       "      <td id=\"T_d692c_row2_col6\" class=\"data row2 col6\" >0.021665</td>\n",
       "      <td id=\"T_d692c_row2_col7\" class=\"data row2 col7\" >0.000057</td>\n",
       "      <td id=\"T_d692c_row2_col8\" class=\"data row2 col8\" >0.003290</td>\n",
       "      <td id=\"T_d692c_row2_col9\" class=\"data row2 col9\" >0.020849</td>\n",
       "      <td id=\"T_d692c_row2_col10\" class=\"data row2 col10\" >0.003658</td>\n",
       "    </tr>\n",
       "    <tr>\n",
       "      <th id=\"T_d692c_level0_row3\" class=\"row_heading level0 row3\" >Kilometer</th>\n",
       "      <td id=\"T_d692c_row3_col0\" class=\"data row3 col0\" >-0.333199</td>\n",
       "      <td id=\"T_d692c_row3_col1\" class=\"data row3 col1\" >-0.053447</td>\n",
       "      <td id=\"T_d692c_row3_col2\" class=\"data row3 col2\" >0.024002</td>\n",
       "      <td id=\"T_d692c_row3_col3\" class=\"data row3 col3\" >1.000000</td>\n",
       "      <td id=\"T_d692c_row3_col4\" class=\"data row3 col4\" >0.009571</td>\n",
       "      <td id=\"T_d692c_row3_col5\" class=\"data row3 col5\" >nan</td>\n",
       "      <td id=\"T_d692c_row3_col6\" class=\"data row3 col6\" >-0.007698</td>\n",
       "      <td id=\"T_d692c_row3_col7\" class=\"data row3 col7\" >0.004664</td>\n",
       "      <td id=\"T_d692c_row3_col8\" class=\"data row3 col8\" >-0.001820</td>\n",
       "      <td id=\"T_d692c_row3_col9\" class=\"data row3 col9\" >-0.062445</td>\n",
       "      <td id=\"T_d692c_row3_col10\" class=\"data row3 col10\" >-0.002671</td>\n",
       "    </tr>\n",
       "    <tr>\n",
       "      <th id=\"T_d692c_level0_row4\" class=\"row_heading level0 row4\" >RegistrationMonth</th>\n",
       "      <td id=\"T_d692c_row4_col0\" class=\"data row4 col0\" >0.110581</td>\n",
       "      <td id=\"T_d692c_row4_col1\" class=\"data row4 col1\" >-0.011619</td>\n",
       "      <td id=\"T_d692c_row4_col2\" class=\"data row4 col2\" >0.043380</td>\n",
       "      <td id=\"T_d692c_row4_col3\" class=\"data row4 col3\" >0.009571</td>\n",
       "      <td id=\"T_d692c_row4_col4\" class=\"data row4 col4\" >1.000000</td>\n",
       "      <td id=\"T_d692c_row4_col5\" class=\"data row4 col5\" >nan</td>\n",
       "      <td id=\"T_d692c_row4_col6\" class=\"data row4 col6\" >0.013995</td>\n",
       "      <td id=\"T_d692c_row4_col7\" class=\"data row4 col7\" >0.003290</td>\n",
       "      <td id=\"T_d692c_row4_col8\" class=\"data row4 col8\" >-0.002460</td>\n",
       "      <td id=\"T_d692c_row4_col9\" class=\"data row4 col9\" >0.001433</td>\n",
       "      <td id=\"T_d692c_row4_col10\" class=\"data row4 col10\" >-0.002319</td>\n",
       "    </tr>\n",
       "    <tr>\n",
       "      <th id=\"T_d692c_level0_row5\" class=\"row_heading level0 row5\" >NumberOfPictures</th>\n",
       "      <td id=\"T_d692c_row5_col0\" class=\"data row5 col0\" >nan</td>\n",
       "      <td id=\"T_d692c_row5_col1\" class=\"data row5 col1\" >nan</td>\n",
       "      <td id=\"T_d692c_row5_col2\" class=\"data row5 col2\" >nan</td>\n",
       "      <td id=\"T_d692c_row5_col3\" class=\"data row5 col3\" >nan</td>\n",
       "      <td id=\"T_d692c_row5_col4\" class=\"data row5 col4\" >nan</td>\n",
       "      <td id=\"T_d692c_row5_col5\" class=\"data row5 col5\" >nan</td>\n",
       "      <td id=\"T_d692c_row5_col6\" class=\"data row5 col6\" >nan</td>\n",
       "      <td id=\"T_d692c_row5_col7\" class=\"data row5 col7\" >nan</td>\n",
       "      <td id=\"T_d692c_row5_col8\" class=\"data row5 col8\" >nan</td>\n",
       "      <td id=\"T_d692c_row5_col9\" class=\"data row5 col9\" >nan</td>\n",
       "      <td id=\"T_d692c_row5_col10\" class=\"data row5 col10\" >nan</td>\n",
       "    </tr>\n",
       "    <tr>\n",
       "      <th id=\"T_d692c_level0_row6\" class=\"row_heading level0 row6\" >PostalCode</th>\n",
       "      <td id=\"T_d692c_row6_col0\" class=\"data row6 col0\" >0.076055</td>\n",
       "      <td id=\"T_d692c_row6_col1\" class=\"data row6 col1\" >-0.003459</td>\n",
       "      <td id=\"T_d692c_row6_col2\" class=\"data row6 col2\" >0.021665</td>\n",
       "      <td id=\"T_d692c_row6_col3\" class=\"data row6 col3\" >-0.007698</td>\n",
       "      <td id=\"T_d692c_row6_col4\" class=\"data row6 col4\" >0.013995</td>\n",
       "      <td id=\"T_d692c_row6_col5\" class=\"data row6 col5\" >nan</td>\n",
       "      <td id=\"T_d692c_row6_col6\" class=\"data row6 col6\" >1.000000</td>\n",
       "      <td id=\"T_d692c_row6_col7\" class=\"data row6 col7\" >0.000591</td>\n",
       "      <td id=\"T_d692c_row6_col8\" class=\"data row6 col8\" >0.010182</td>\n",
       "      <td id=\"T_d692c_row6_col9\" class=\"data row6 col9\" >0.043501</td>\n",
       "      <td id=\"T_d692c_row6_col10\" class=\"data row6 col10\" >0.010526</td>\n",
       "    </tr>\n",
       "    <tr>\n",
       "      <th id=\"T_d692c_level0_row7\" class=\"row_heading level0 row7\" >Year_Created</th>\n",
       "      <td id=\"T_d692c_row7_col0\" class=\"data row7 col0\" >-0.005551</td>\n",
       "      <td id=\"T_d692c_row7_col1\" class=\"data row7 col1\" >0.000056</td>\n",
       "      <td id=\"T_d692c_row7_col2\" class=\"data row7 col2\" >0.000057</td>\n",
       "      <td id=\"T_d692c_row7_col3\" class=\"data row7 col3\" >0.004664</td>\n",
       "      <td id=\"T_d692c_row7_col4\" class=\"data row7 col4\" >0.003290</td>\n",
       "      <td id=\"T_d692c_row7_col5\" class=\"data row7 col5\" >nan</td>\n",
       "      <td id=\"T_d692c_row7_col6\" class=\"data row7 col6\" >0.000591</td>\n",
       "      <td id=\"T_d692c_row7_col7\" class=\"data row7 col7\" >1.000000</td>\n",
       "      <td id=\"T_d692c_row7_col8\" class=\"data row7 col8\" >-0.148957</td>\n",
       "      <td id=\"T_d692c_row7_col9\" class=\"data row7 col9\" >-0.001727</td>\n",
       "      <td id=\"T_d692c_row7_col10\" class=\"data row7 col10\" >0.002017</td>\n",
       "    </tr>\n",
       "    <tr>\n",
       "      <th id=\"T_d692c_level0_row8\" class=\"row_heading level0 row8\" >Month_Created</th>\n",
       "      <td id=\"T_d692c_row8_col0\" class=\"data row8 col0\" >0.014367</td>\n",
       "      <td id=\"T_d692c_row8_col1\" class=\"data row8 col1\" >-0.000728</td>\n",
       "      <td id=\"T_d692c_row8_col2\" class=\"data row8 col2\" >0.003290</td>\n",
       "      <td id=\"T_d692c_row8_col3\" class=\"data row8 col3\" >-0.001820</td>\n",
       "      <td id=\"T_d692c_row8_col4\" class=\"data row8 col4\" >-0.002460</td>\n",
       "      <td id=\"T_d692c_row8_col5\" class=\"data row8 col5\" >nan</td>\n",
       "      <td id=\"T_d692c_row8_col6\" class=\"data row8 col6\" >0.010182</td>\n",
       "      <td id=\"T_d692c_row8_col7\" class=\"data row8 col7\" >-0.148957</td>\n",
       "      <td id=\"T_d692c_row8_col8\" class=\"data row8 col8\" >1.000000</td>\n",
       "      <td id=\"T_d692c_row8_col9\" class=\"data row8 col9\" >0.376773</td>\n",
       "      <td id=\"T_d692c_row8_col10\" class=\"data row8 col10\" >0.973855</td>\n",
       "    </tr>\n",
       "    <tr>\n",
       "      <th id=\"T_d692c_level0_row9\" class=\"row_heading level0 row9\" >Month_LastSeen</th>\n",
       "      <td id=\"T_d692c_row9_col0\" class=\"data row9 col0\" >0.149443</td>\n",
       "      <td id=\"T_d692c_row9_col1\" class=\"data row9 col1\" >-0.000630</td>\n",
       "      <td id=\"T_d692c_row9_col2\" class=\"data row9 col2\" >0.020849</td>\n",
       "      <td id=\"T_d692c_row9_col3\" class=\"data row9 col3\" >-0.062445</td>\n",
       "      <td id=\"T_d692c_row9_col4\" class=\"data row9 col4\" >0.001433</td>\n",
       "      <td id=\"T_d692c_row9_col5\" class=\"data row9 col5\" >nan</td>\n",
       "      <td id=\"T_d692c_row9_col6\" class=\"data row9 col6\" >0.043501</td>\n",
       "      <td id=\"T_d692c_row9_col7\" class=\"data row9 col7\" >-0.001727</td>\n",
       "      <td id=\"T_d692c_row9_col8\" class=\"data row9 col8\" >0.376773</td>\n",
       "      <td id=\"T_d692c_row9_col9\" class=\"data row9 col9\" >1.000000</td>\n",
       "      <td id=\"T_d692c_row9_col10\" class=\"data row9 col10\" >0.386354</td>\n",
       "    </tr>\n",
       "    <tr>\n",
       "      <th id=\"T_d692c_level0_row10\" class=\"row_heading level0 row10\" >Month_Crawled</th>\n",
       "      <td id=\"T_d692c_row10_col0\" class=\"data row10 col0\" >0.016530</td>\n",
       "      <td id=\"T_d692c_row10_col1\" class=\"data row10 col1\" >-0.000845</td>\n",
       "      <td id=\"T_d692c_row10_col2\" class=\"data row10 col2\" >0.003658</td>\n",
       "      <td id=\"T_d692c_row10_col3\" class=\"data row10 col3\" >-0.002671</td>\n",
       "      <td id=\"T_d692c_row10_col4\" class=\"data row10 col4\" >-0.002319</td>\n",
       "      <td id=\"T_d692c_row10_col5\" class=\"data row10 col5\" >nan</td>\n",
       "      <td id=\"T_d692c_row10_col6\" class=\"data row10 col6\" >0.010526</td>\n",
       "      <td id=\"T_d692c_row10_col7\" class=\"data row10 col7\" >0.002017</td>\n",
       "      <td id=\"T_d692c_row10_col8\" class=\"data row10 col8\" >0.973855</td>\n",
       "      <td id=\"T_d692c_row10_col9\" class=\"data row10 col9\" >0.386354</td>\n",
       "      <td id=\"T_d692c_row10_col10\" class=\"data row10 col10\" >1.000000</td>\n",
       "    </tr>\n",
       "  </tbody>\n",
       "</table>\n"
      ],
      "text/plain": [
       "<pandas.io.formats.style.Styler at 0x1daf261c430>"
      ]
     },
     "execution_count": 8,
     "metadata": {},
     "output_type": "execute_result"
    }
   ],
   "source": [
    "df1.corr(numeric_only=True).style.background_gradient(vmin=-1, vmax=1, cmap='Spectral')"
   ]
  },
  {
   "cell_type": "markdown",
   "id": "ac828d04",
   "metadata": {},
   "source": [
    "Удалим все даты, как неинформативные признаки."
   ]
  },
  {
   "cell_type": "markdown",
   "id": "b46b9b6e",
   "metadata": {},
   "source": [
    "### 2.1 Удаление неинформативных признаков"
   ]
  },
  {
   "cell_type": "markdown",
   "id": "d2af6969",
   "metadata": {},
   "source": [
    "<div style=\"border:solid darkcyan 2px; padding: 20px; border-radius: 10px\">\n",
    "\n",
    "Признак **NumberOfPictures** содержит только нули, поэтому удалим его.\n",
    "\n",
    "Month_Crawled и Month_Created очень сильно коррелируют между собой, поэтому удалим признак **Month_Crawled**. Month_LastSeen также коррелирует с другими датами, однако, оставим его.\n",
    "\n",
    "Также удалим **PostalCode**: этот признак не несёт важной информации и слабо коррелирует с целевым признаком."
   ]
  },
  {
   "cell_type": "code",
   "execution_count": 9,
   "id": "4a50abe3",
   "metadata": {},
   "outputs": [],
   "source": [
    "df1 = df1.drop(['RegistrationYear', \n",
    "                'RegistrationMonth', \n",
    "                'Year_Created', \n",
    "                'Month_Created', \n",
    "                'Month_LastSeen', \n",
    "                'Month_Crawled',\n",
    "                'NumberOfPictures',\n",
    "                'PostalCode'\n",
    "               ], \n",
    "               axis=1\n",
    "              )"
   ]
  },
  {
   "cell_type": "markdown",
   "id": "1d0df533",
   "metadata": {},
   "source": [
    "### 2.2 Обработка пропусков"
   ]
  },
  {
   "cell_type": "code",
   "execution_count": 10,
   "id": "44dfdbcf",
   "metadata": {},
   "outputs": [
    {
     "name": "stdout",
     "output_type": "stream",
     "text": [
      "Доля пропусков по признакам(%):\n",
      "Repaired       20.08\n",
      "VehicleType    10.58\n",
      "FuelType        9.28\n",
      "Gearbox         5.60\n",
      "Model           5.56\n",
      "Price           0.00\n",
      "Power           0.00\n",
      "Kilometer       0.00\n",
      "Brand           0.00\n",
      "dtype: float64\n"
     ]
    }
   ],
   "source": [
    "print(f'Доля пропусков по признакам(%):\\n{(df1.isna().sum() / len(df1) * 100).round(2).sort_values(ascending=False)}')"
   ]
  },
  {
   "cell_type": "markdown",
   "id": "281a614a",
   "metadata": {},
   "source": [
    "Пропуски обнаружены в признаках: Repaired, VehicleType, FuelType, Gearbox, Model.<br>"
   ]
  },
  {
   "cell_type": "markdown",
   "id": "451c5a52",
   "metadata": {},
   "source": [
    "Создадим числовой бинарный признак `Repaired_bin` и исследуем его корреляцию с другими признаками."
   ]
  },
  {
   "cell_type": "code",
   "execution_count": 11,
   "id": "d080ae6f",
   "metadata": {},
   "outputs": [
    {
     "name": "stdout",
     "output_type": "stream",
     "text": [
      "Price          -0.242167\n",
      "Power          -0.031302\n",
      "Kilometer       0.087478\n",
      "Repaired_bin    1.000000\n",
      "Name: Repaired_bin, dtype: float64\n"
     ]
    }
   ],
   "source": [
    "df1['Repaired_bin'] = df1['Repaired'].map({'yes': 1, 'no': 0})\n",
    "print(df1.corr(numeric_only=True)['Repaired_bin'])\n",
    "df1 = df1.drop('Repaired_bin', axis=1)"
   ]
  },
  {
   "cell_type": "markdown",
   "id": "a21ee260",
   "metadata": {},
   "source": [
    "<div style=\"border:solid darkcyan 2px; padding: 20px; border-radius: 10px\">\n",
    "\n",
    "Так как пропусков много и признак `Repaired` важен, то попробуем заполнить их, исходя из других признаков `Brand` & `Model` & `VehicleType` etc."
   ]
  },
  {
   "cell_type": "code",
   "execution_count": 12,
   "id": "d107accb",
   "metadata": {},
   "outputs": [],
   "source": [
    "# функция возвращает самое частое значение типа коробки передач для данного типа объектов\n",
    "# проверка на тип и модель автомобиля\n",
    "def get_filling(row, grouped):\n",
    "    if row['Model'] in grouped[row['Brand']]:\n",
    "        if row['VehicleType'] in grouped[row['Brand']][row['Model']]:\n",
    "            return grouped[row['Brand']][row['Model']][row['VehicleType']].idxmax()\n",
    "        else:\n",
    "            return grouped[row['Brand']][row['Model']].idxmax()[-1]\n",
    "    else:\n",
    "        return grouped[row['Brand']].idxmax()[-1]\n",
    "\n",
    "# vehicle type filling\n",
    "def get_filling1(row, grouped):\n",
    "    if row['Model'] in grouped[row['Brand']]:\n",
    "        return grouped[row['Brand']][row['Model']].idxmax()\n",
    "    else:\n",
    "        return grouped[row['Brand']].idxmax()[-1]\n",
    "\n",
    "# model filling\n",
    "def get_filling2(row, grouped):\n",
    "    if row['VehicleType'] in grouped[row['Brand']]:\n",
    "        if row['FuelType'] in grouped[row['Brand']][row['VehicleType']]:\n",
    "            return grouped[row['Brand']][row['VehicleType']][row['FuelType']].idxmax()\n",
    "        else:\n",
    "            return grouped[row['Brand']][row['VehicleType']].idxmax()[-1]\n",
    "    else:\n",
    "        return grouped[row['Brand']].idxmax()[-1]"
   ]
  },
  {
   "cell_type": "markdown",
   "id": "d0ae6cd6",
   "metadata": {},
   "source": [
    "Заполним пропуски (кроме бренда \"sonstige_autos\" - там много пропусков в других признаках)."
   ]
  },
  {
   "cell_type": "code",
   "execution_count": 13,
   "id": "b9db0ad5",
   "metadata": {},
   "outputs": [
    {
     "name": "stdout",
     "output_type": "stream",
     "text": [
      "Repaired: было заполнено 69831 пропущенных значений.\n",
      "Gearbox: было заполнено 18730 пропущенных значений.\n",
      "FuelType: было заполнено 31791 пропущенных значений.\n",
      "VehicleType: было заполнено 36449 пропущенных значений.\n",
      "Model: было заполнено 16331 пропущенных значений.\n"
     ]
    }
   ],
   "source": [
    "# Ремонт\n",
    "repaired_group = df.groupby(['Brand', 'Model', 'VehicleType'])['Repaired'].value_counts()\n",
    "# заполнение пропусков\n",
    "repaired_na_mask = (df1['Repaired'].isna()) & (df1['Brand'] != 'sonstige_autos')\n",
    "df1.loc[repaired_na_mask, 'Repaired'] = df1[repaired_na_mask].apply(get_filling, grouped=repaired_group, axis=1)\n",
    "print(f'Repaired: было заполнено {df[\"Repaired\"].isna().sum() - df1[\"Repaired\"].isna().sum()} пропущенных значений.')\n",
    "\n",
    "# Тип коробки передач\n",
    "gearbox_group = df.groupby(['Brand', 'Model', 'VehicleType'])['Gearbox'].value_counts()\n",
    "# заполнение пропусков\n",
    "gearbox_na_mask = (df1['Gearbox'].isna()) & (df1['Brand'] != 'sonstige_autos')\n",
    "df1.loc[gearbox_na_mask, 'Gearbox'] = df1[gearbox_na_mask].apply(get_filling, grouped=gearbox_group, axis=1)\n",
    "print(f'Gearbox: было заполнено {df[\"Gearbox\"].isna().sum() - df1[\"Gearbox\"].isna().sum()} пропущенных значений.')\n",
    "\n",
    "# Тип топлива\n",
    "fueltype_group = df.groupby(['Brand', 'Model', 'VehicleType'])['FuelType'].value_counts()\n",
    "# заполнение пропусков\n",
    "fueltype_na_mask = (df1['FuelType'].isna()) & (df1['Brand'] != 'sonstige_autos')\n",
    "df1.loc[fueltype_na_mask, 'FuelType'] = df1[fueltype_na_mask].apply(get_filling, grouped=fueltype_group, axis=1)\n",
    "print(f'FuelType: было заполнено {df[\"FuelType\"].isna().sum() - df1[\"FuelType\"].isna().sum()} пропущенных значений.')\n",
    "\n",
    "# Тип автомобиля\n",
    "vehicletype_group = df.groupby(['Brand', 'Model'])['VehicleType'].value_counts()\n",
    "# заполнение пропусков\n",
    "vehicletype_na_mask = (df1['VehicleType'].isna()) & (df1['Brand'] != 'sonstige_autos')\n",
    "df1.loc[vehicletype_na_mask, 'VehicleType'] = df1[vehicletype_na_mask].apply(get_filling1, grouped=vehicletype_group, axis=1)\n",
    "print(f'VehicleType: было заполнено {df[\"VehicleType\"].isna().sum() - df1[\"VehicleType\"].isna().sum()} пропущенных значений.')\n",
    "\n",
    "# модель автомобиля\n",
    "model_group = df.groupby(['Brand', 'VehicleType', 'FuelType'])['Model'].value_counts()\n",
    "# заполнение пропусков\n",
    "model_na_mask = (df1['Model'].isna()) & (df1['Brand'] != 'sonstige_autos')\n",
    "df1.loc[model_na_mask, 'Model'] = df1[model_na_mask].apply(get_filling2, grouped=model_group, axis=1)\n",
    "print(f'Model: было заполнено {df[\"Model\"].isna().sum() - df1[\"Model\"].isna().sum()} пропущенных значений.')"
   ]
  },
  {
   "cell_type": "markdown",
   "id": "f627eaeb",
   "metadata": {},
   "source": [
    "Удалим оставшиеся пропуски."
   ]
  },
  {
   "cell_type": "code",
   "execution_count": 14,
   "id": "943f9ca5",
   "metadata": {},
   "outputs": [
    {
     "name": "stdout",
     "output_type": "stream",
     "text": [
      "Итоговое количество пропусков: 0\n",
      "Доля удалённых объектов с пропусками: 1.0%\n"
     ]
    }
   ],
   "source": [
    "df1 = df1.dropna()\n",
    "print(f'Итоговое количество пропусков: {df1.isna().sum().sum()}')\n",
    "print(f'Доля удалённых объектов с пропусками: {(df.shape[0] - df1.shape[0]) / df.shape[0]:.1%}')"
   ]
  },
  {
   "cell_type": "markdown",
   "id": "3222b0c5",
   "metadata": {},
   "source": [
    "### 2.3 Обработка аномалий"
   ]
  },
  {
   "cell_type": "code",
   "execution_count": 16,
   "id": "abc638e4",
   "metadata": {},
   "outputs": [
    {
     "data": {
      "text/html": [
       "<div>\n",
       "<style scoped>\n",
       "    .dataframe tbody tr th:only-of-type {\n",
       "        vertical-align: middle;\n",
       "    }\n",
       "\n",
       "    .dataframe tbody tr th {\n",
       "        vertical-align: top;\n",
       "    }\n",
       "\n",
       "    .dataframe thead th {\n",
       "        text-align: right;\n",
       "    }\n",
       "</style>\n",
       "<table border=\"1\" class=\"dataframe\">\n",
       "  <thead>\n",
       "    <tr style=\"text-align: right;\">\n",
       "      <th></th>\n",
       "      <th>Price</th>\n",
       "      <th>Power</th>\n",
       "      <th>Kilometer</th>\n",
       "    </tr>\n",
       "  </thead>\n",
       "  <tbody>\n",
       "    <tr>\n",
       "      <th>count</th>\n",
       "      <td>350995.000000</td>\n",
       "      <td>350995.000000</td>\n",
       "      <td>350995.000000</td>\n",
       "    </tr>\n",
       "    <tr>\n",
       "      <th>mean</th>\n",
       "      <td>4410.798795</td>\n",
       "      <td>110.267585</td>\n",
       "      <td>128574.310175</td>\n",
       "    </tr>\n",
       "    <tr>\n",
       "      <th>std</th>\n",
       "      <td>4503.345959</td>\n",
       "      <td>189.080453</td>\n",
       "      <td>37470.436390</td>\n",
       "    </tr>\n",
       "    <tr>\n",
       "      <th>min</th>\n",
       "      <td>0.000000</td>\n",
       "      <td>0.000000</td>\n",
       "      <td>5000.000000</td>\n",
       "    </tr>\n",
       "    <tr>\n",
       "      <th>25%</th>\n",
       "      <td>1099.000000</td>\n",
       "      <td>69.000000</td>\n",
       "      <td>125000.000000</td>\n",
       "    </tr>\n",
       "    <tr>\n",
       "      <th>50%</th>\n",
       "      <td>2700.000000</td>\n",
       "      <td>105.000000</td>\n",
       "      <td>150000.000000</td>\n",
       "    </tr>\n",
       "    <tr>\n",
       "      <th>75%</th>\n",
       "      <td>6399.000000</td>\n",
       "      <td>142.000000</td>\n",
       "      <td>150000.000000</td>\n",
       "    </tr>\n",
       "    <tr>\n",
       "      <th>max</th>\n",
       "      <td>20000.000000</td>\n",
       "      <td>20000.000000</td>\n",
       "      <td>150000.000000</td>\n",
       "    </tr>\n",
       "  </tbody>\n",
       "</table>\n",
       "</div>"
      ],
      "text/plain": [
       "               Price          Power      Kilometer\n",
       "count  350995.000000  350995.000000  350995.000000\n",
       "mean     4410.798795     110.267585  128574.310175\n",
       "std      4503.345959     189.080453   37470.436390\n",
       "min         0.000000       0.000000    5000.000000\n",
       "25%      1099.000000      69.000000  125000.000000\n",
       "50%      2700.000000     105.000000  150000.000000\n",
       "75%      6399.000000     142.000000  150000.000000\n",
       "max     20000.000000   20000.000000  150000.000000"
      ]
     },
     "execution_count": 16,
     "metadata": {},
     "output_type": "execute_result"
    }
   ],
   "source": [
    "df1.describe()"
   ]
  },
  {
   "cell_type": "code",
   "execution_count": 43,
   "id": "4d2c8b35",
   "metadata": {
    "scrolled": false
   },
   "outputs": [
    {
     "data": {
      "image/png": "[encoded data removed]",
      "text/plain": [
       "<Figure size 1000x1600 with 3 Axes>"
      ]
     },
     "metadata": {},
     "output_type": "display_data"
    }
   ],
   "source": [
    "numeric_columns = df1.select_dtypes(int).columns\n",
    "col_bins = [30, 30, 13]\n",
    "col_color = ['limegreen', 'coral', 'steelblue']\n",
    "is_log = [False, True, False]\n",
    "fig, axes = plt.subplots(nrows=len(numeric_columns), ncols=1, figsize=(10, 16))\n",
    "for i, ax in enumerate(axes):\n",
    "    df1[numeric_columns[i]].hist(bins=col_bins[i], color=col_color[i], log=is_log[i], edgecolor='black', ax=ax)\n",
    "    ax.set_title(numeric_columns[i])\n",
    "plt.tight_layout()\n",
    "plt.show()"
   ]
  },
  {
   "cell_type": "markdown",
   "id": "bc4ebeeb",
   "metadata": {},
   "source": [
    "#### 2.3.1 Power"
   ]
  },
  {
   "cell_type": "code",
   "execution_count": 50,
   "id": "1877a844",
   "metadata": {},
   "outputs": [
    {
     "name": "stdout",
     "output_type": "stream",
     "text": [
      "Количество объектов со слишком большой мощностью двигателя: 0.00%\n"
     ]
    },
    {
     "data": {
      "image/png": "[encoded data removed]",
      "text/plain": [
       "<Figure size 800x800 with 1 Axes>"
      ]
     },
     "metadata": {},
     "output_type": "display_data"
    }
   ],
   "source": [
    "reg_power_mask = (df1['Power'] > 1000)\n",
    "print(f'Количество объектов со слишком большой мощностью двигателя: {reg_power_mask.sum() / len(df1):.2%}')\n",
    "df1[reg_power_mask]['Power'].hist(bins=30, edgecolor='black', figsize=(8, 8))\n",
    "plt.title('Подозрительно высокая мощность двигателя')\n",
    "plt.xlabel('Мощность двигателя, л.с.')\n",
    "plt.ylabel('Количество автомобилей');"
   ]
  },
  {
   "cell_type": "markdown",
   "id": "1d7a10fd",
   "metadata": {},
   "source": [
    "<div style=\"border:solid darkcyan 2px; padding: 20px; border-radius: 10px\">\n",
    "\n",
    "Вероятно, аномалии в мощности двигателя связаны с ошибкой в конвертации или вводе данных. Мощности у некоторых автомобилей увеличены в 10-100 раз. Но этих объектов очень мало (0.08%), поэтому просто удалим их."
   ]
  },
  {
   "cell_type": "code",
   "execution_count": 47,
   "id": "6c2ca764",
   "metadata": {
    "scrolled": true
   },
   "outputs": [],
   "source": [
    "df1 = df1.drop(df1[reg_power_mask].index)"
   ]
  },
  {
   "cell_type": "markdown",
   "id": "4fa72a8c",
   "metadata": {},
   "source": [
    "<div style=\"border:solid darkcyan 2px; padding: 20px; border-radius: 10px\">\n",
    "\n",
    "В данных много объектов с мощностью равной нулю. Пользователи, вероятно, забыли заполнить это поле и по умолчанию оно стало нулём. Его можно заполнить так же, как пропущенные значения."
   ]
  },
  {
   "cell_type": "code",
   "execution_count": 48,
   "id": "92ebf12b",
   "metadata": {},
   "outputs": [
    {
     "name": "stdout",
     "output_type": "stream",
     "text": [
      "Количество объектов с нулевой мощностью двигателя: 11.07%\n"
     ]
    },
    {
     "data": {
      "text/html": [
       "<div>\n",
       "<style scoped>\n",
       "    .dataframe tbody tr th:only-of-type {\n",
       "        vertical-align: middle;\n",
       "    }\n",
       "\n",
       "    .dataframe tbody tr th {\n",
       "        vertical-align: top;\n",
       "    }\n",
       "\n",
       "    .dataframe thead th {\n",
       "        text-align: right;\n",
       "    }\n",
       "</style>\n",
       "<table border=\"1\" class=\"dataframe\">\n",
       "  <thead>\n",
       "    <tr style=\"text-align: right;\">\n",
       "      <th></th>\n",
       "      <th>Price</th>\n",
       "      <th>VehicleType</th>\n",
       "      <th>Gearbox</th>\n",
       "      <th>Power</th>\n",
       "      <th>Model</th>\n",
       "      <th>Kilometer</th>\n",
       "      <th>FuelType</th>\n",
       "      <th>Brand</th>\n",
       "      <th>Repaired</th>\n",
       "    </tr>\n",
       "  </thead>\n",
       "  <tbody>\n",
       "    <tr>\n",
       "      <th>0</th>\n",
       "      <td>480</td>\n",
       "      <td>sedan</td>\n",
       "      <td>manual</td>\n",
       "      <td>0</td>\n",
       "      <td>golf</td>\n",
       "      <td>150000</td>\n",
       "      <td>petrol</td>\n",
       "      <td>volkswagen</td>\n",
       "      <td>no</td>\n",
       "    </tr>\n",
       "    <tr>\n",
       "      <th>15</th>\n",
       "      <td>450</td>\n",
       "      <td>small</td>\n",
       "      <td>manual</td>\n",
       "      <td>0</td>\n",
       "      <td>ka</td>\n",
       "      <td>5000</td>\n",
       "      <td>petrol</td>\n",
       "      <td>ford</td>\n",
       "      <td>no</td>\n",
       "    </tr>\n",
       "    <tr>\n",
       "      <th>32</th>\n",
       "      <td>245</td>\n",
       "      <td>sedan</td>\n",
       "      <td>manual</td>\n",
       "      <td>0</td>\n",
       "      <td>golf</td>\n",
       "      <td>150000</td>\n",
       "      <td>petrol</td>\n",
       "      <td>volkswagen</td>\n",
       "      <td>no</td>\n",
       "    </tr>\n",
       "  </tbody>\n",
       "</table>\n",
       "</div>"
      ],
      "text/plain": [
       "    Price VehicleType Gearbox  Power Model  Kilometer FuelType       Brand  \\\n",
       "0     480       sedan  manual      0  golf     150000   petrol  volkswagen   \n",
       "15    450       small  manual      0    ka       5000   petrol        ford   \n",
       "32    245       sedan  manual      0  golf     150000   petrol  volkswagen   \n",
       "\n",
       "   Repaired  \n",
       "0        no  \n",
       "15       no  \n",
       "32       no  "
      ]
     },
     "execution_count": 48,
     "metadata": {},
     "output_type": "execute_result"
    }
   ],
   "source": [
    "reg_power0_mask = (df1['Power'] == 0)\n",
    "print(f'Количество объектов с нулевой мощностью двигателя: {reg_power0_mask.sum() / len(df1):.2%}')\n",
    "df1[reg_power0_mask].head(3)"
   ]
  },
  {
   "cell_type": "markdown",
   "id": "1f33d348",
   "metadata": {},
   "source": [
    "Подберём для них значение мощности по соответствующим значениям других признаков."
   ]
  },
  {
   "cell_type": "code",
   "execution_count": 49,
   "id": "63e05c3d",
   "metadata": {
    "scrolled": true
   },
   "outputs": [],
   "source": [
    "power_group = df1.groupby(['Brand', 'Model', 'VehicleType', 'FuelType'])['Power'].mean()\n",
    "\n",
    "# функция возвращает среднее значение мощности для данного типа объектов\n",
    "# проверка на тип и модель автомобиля + тип топлива\n",
    "def get_power(row):\n",
    "    if row['Model'] in power_group[row['Brand']]:\n",
    "        if row['VehicleType'] in power_group[row['Brand']][row['Model']]:\n",
    "            if row['FuelType'] in power_group[row['Brand']][row['Model']][row['VehicleType']]:\n",
    "                return power_group[row['Brand']][row['Model']][row['VehicleType']][row['FuelType']]\n",
    "            else:\n",
    "                return power_group[row['Brand']][row['Model']][row['VehicleType']].mean()\n",
    "        else:\n",
    "            return power_group[row['Brand']][row['Model']].mean()\n",
    "    else:\n",
    "        return power_group[row['Brand']].mean()\n",
    "\n",
    "df1.loc[reg_power0_mask, 'Power'] = df1[reg_power0_mask].apply(get_power, axis=1).astype(int)"
   ]
  },
  {
   "cell_type": "markdown",
   "id": "cf809eb5",
   "metadata": {},
   "source": [
    "Удалим оставшиеся необработанными значения."
   ]
  },
  {
   "cell_type": "code",
   "execution_count": 51,
   "id": "dc8bf6f3",
   "metadata": {},
   "outputs": [],
   "source": [
    "df1 = df1.drop(df1[df1['Power'] == 0].index)"
   ]
  },
  {
   "cell_type": "markdown",
   "id": "3589d6f6",
   "metadata": {},
   "source": [
    "#### 2.3.2 Price"
   ]
  },
  {
   "cell_type": "markdown",
   "id": "61870fd0",
   "metadata": {},
   "source": [
    "В наборе данных присутствуют автомобили с нулевой ценой. Рассмотрим этот случай подробнее."
   ]
  },
  {
   "cell_type": "code",
   "execution_count": 52,
   "id": "353fd757",
   "metadata": {},
   "outputs": [
    {
     "name": "stdout",
     "output_type": "stream",
     "text": [
      "Количество объектов со нулевой ценой двигателя: 2.91%\n"
     ]
    },
    {
     "data": {
      "text/html": [
       "<div>\n",
       "<style scoped>\n",
       "    .dataframe tbody tr th:only-of-type {\n",
       "        vertical-align: middle;\n",
       "    }\n",
       "\n",
       "    .dataframe tbody tr th {\n",
       "        vertical-align: top;\n",
       "    }\n",
       "\n",
       "    .dataframe thead th {\n",
       "        text-align: right;\n",
       "    }\n",
       "</style>\n",
       "<table border=\"1\" class=\"dataframe\">\n",
       "  <thead>\n",
       "    <tr style=\"text-align: right;\">\n",
       "      <th></th>\n",
       "      <th>Price</th>\n",
       "      <th>VehicleType</th>\n",
       "      <th>Gearbox</th>\n",
       "      <th>Power</th>\n",
       "      <th>Model</th>\n",
       "      <th>Kilometer</th>\n",
       "      <th>FuelType</th>\n",
       "      <th>Brand</th>\n",
       "      <th>Repaired</th>\n",
       "    </tr>\n",
       "  </thead>\n",
       "  <tbody>\n",
       "    <tr>\n",
       "      <th>7</th>\n",
       "      <td>0</td>\n",
       "      <td>sedan</td>\n",
       "      <td>manual</td>\n",
       "      <td>50</td>\n",
       "      <td>other</td>\n",
       "      <td>40000</td>\n",
       "      <td>petrol</td>\n",
       "      <td>volkswagen</td>\n",
       "      <td>no</td>\n",
       "    </tr>\n",
       "    <tr>\n",
       "      <th>40</th>\n",
       "      <td>0</td>\n",
       "      <td>small</td>\n",
       "      <td>manual</td>\n",
       "      <td>56</td>\n",
       "      <td>corsa</td>\n",
       "      <td>150000</td>\n",
       "      <td>petrol</td>\n",
       "      <td>opel</td>\n",
       "      <td>no</td>\n",
       "    </tr>\n",
       "    <tr>\n",
       "      <th>111</th>\n",
       "      <td>0</td>\n",
       "      <td>sedan</td>\n",
       "      <td>manual</td>\n",
       "      <td>92</td>\n",
       "      <td>golf</td>\n",
       "      <td>5000</td>\n",
       "      <td>petrol</td>\n",
       "      <td>volkswagen</td>\n",
       "      <td>no</td>\n",
       "    </tr>\n",
       "  </tbody>\n",
       "</table>\n",
       "</div>"
      ],
      "text/plain": [
       "     Price VehicleType Gearbox  Power  Model  Kilometer FuelType       Brand  \\\n",
       "7        0       sedan  manual     50  other      40000   petrol  volkswagen   \n",
       "40       0       small  manual     56  corsa     150000   petrol        opel   \n",
       "111      0       sedan  manual     92   golf       5000   petrol  volkswagen   \n",
       "\n",
       "    Repaired  \n",
       "7         no  \n",
       "40        no  \n",
       "111       no  "
      ]
     },
     "execution_count": 52,
     "metadata": {},
     "output_type": "execute_result"
    }
   ],
   "source": [
    "reg_price0_mask = (df1['Price'] == 0)\n",
    "print(f'Количество объектов со нулевой ценой двигателя: {reg_price0_mask.sum() / len(df1):.2%}')\n",
    "df1[reg_price0_mask].head(3)"
   ]
  },
  {
   "cell_type": "markdown",
   "id": "e632d2b4",
   "metadata": {},
   "source": [
    "<div style=\"border:solid darkcyan 2px; padding: 20px; border-radius: 10px\">\n",
    "\n",
    "Так как количество таких объектов невелико (2.82%), а обучать на нулевых значениях не имеет смысла, то просто удалим из набора эти объекты, чтобы не смещать прогноз."
   ]
  },
  {
   "cell_type": "code",
   "execution_count": 53,
   "id": "99e9464e",
   "metadata": {},
   "outputs": [],
   "source": [
    "df1 = df1[df1['Price'] != 0]"
   ]
  },
  {
   "cell_type": "markdown",
   "id": "2f2afe68",
   "metadata": {},
   "source": [
    "Рассмотрим структуру цен на гистограмме."
   ]
  },
  {
   "cell_type": "code",
   "execution_count": 55,
   "id": "af2c2c1d",
   "metadata": {},
   "outputs": [
    {
     "data": {
      "image/png": "[encoded data removed]",
      "text/plain": [
       "<Figure size 1200x800 with 1 Axes>"
      ]
     },
     "metadata": {},
     "output_type": "display_data"
    }
   ],
   "source": [
    "df1['Price'].hist(bins=40, color='limegreen', edgecolor='black', figsize=(12, 8));"
   ]
  },
  {
   "cell_type": "markdown",
   "id": "982ea66f",
   "metadata": {},
   "source": [
    "### 2.4 Выводы 1"
   ]
  },
  {
   "cell_type": "code",
   "execution_count": 56,
   "id": "d37bf6df",
   "metadata": {},
   "outputs": [
    {
     "name": "stdout",
     "output_type": "stream",
     "text": [
      "Результаты предобработки данных:\n",
      "Размер выборки: (340259, 9)\n",
      "Удалено объектов: 14110 (3.98%)\n",
      "Количество пропусков в данных: 0\n"
     ]
    }
   ],
   "source": [
    "print('Результаты предобработки данных:')\n",
    "print(f'Размер выборки: {df1.shape}')\n",
    "print(f'Удалено объектов: {len(df) - len(df1)} ({(len(df) - len(df1)) / len(df):.2%})')\n",
    "print(f'Количество пропусков в данных: {df1.isna().sum().sum()}')"
   ]
  },
  {
   "cell_type": "markdown",
   "id": "f70fc9f4",
   "metadata": {},
   "source": [
    "<div style=\"border:solid darkcyan 2px; padding: 20px; border-radius: 10px\">\n",
    "\n",
    "Данные имеют не самое лучшее качество. Особенно информация о ремонте автомобилей, которая может сильно влиять на цену. Возможно, следует улучшить сбор данных от пользователей с целью уменьшения количества пропусков и некорректно введённой информации."
   ]
  },
  {
   "cell_type": "markdown",
   "id": "6d35e106",
   "metadata": {},
   "source": [
    "## 3. Подготовка выборок для обучения"
   ]
  },
  {
   "cell_type": "markdown",
   "id": "3fe715b8",
   "metadata": {},
   "source": [
    "Так как \"petrol\" и \"gasoline\" - это по своей сути одно и то же, то приведём это к одному значению."
   ]
  },
  {
   "cell_type": "code",
   "execution_count": 57,
   "id": "db86dcd3",
   "metadata": {},
   "outputs": [],
   "source": [
    "df1.loc[df1['FuelType'] == 'petrol', 'FuelType'] = 'gasoline'"
   ]
  },
  {
   "cell_type": "code",
   "execution_count": 58,
   "id": "f9d66c9b",
   "metadata": {},
   "outputs": [
    {
     "data": {
      "text/plain": [
       "array(['gasoline', 'lpg', 'other', 'hybrid', 'cng', 'electric'],\n",
       "      dtype=object)"
      ]
     },
     "execution_count": 58,
     "metadata": {},
     "output_type": "execute_result"
    }
   ],
   "source": [
    "df1['FuelType'].unique()"
   ]
  },
  {
   "cell_type": "markdown",
   "id": "cde2b1b4",
   "metadata": {},
   "source": [
    "### 3.1 Разделение выборки"
   ]
  },
  {
   "cell_type": "markdown",
   "id": "e2b7e061",
   "metadata": {},
   "source": [
    "Разделим выборку на три части: обучающая, тестовая, валидационная - 3:1:1."
   ]
  },
  {
   "cell_type": "code",
   "execution_count": 59,
   "id": "8d7e8392",
   "metadata": {},
   "outputs": [
    {
     "name": "stdout",
     "output_type": "stream",
     "text": [
      "Train features: (204155, 8)\n",
      "Valid features: (68052, 8)\n",
      "Test  features: (68052, 8)\n",
      "Train target:   (204155,)\n",
      "Valid  target:  (68052,)\n",
      "Test  target:   (68052,)\n"
     ]
    }
   ],
   "source": [
    "features = df1.drop('Price', axis=1)\n",
    "target = df1['Price']\n",
    "\n",
    "X_train_valid, X_test, y_train_valid, y_test = train_test_split(features, target, \n",
    "                                                                test_size=0.2, \n",
    "                                                                shuffle=True, \n",
    "                                                                random_state=RSTATE)\n",
    "\n",
    "X_train, X_valid, y_train, y_valid = train_test_split(X_train_valid, y_train_valid, \n",
    "                                                      test_size=0.25, \n",
    "                                                      shuffle=True, \n",
    "                                                      random_state=RSTATE)\n",
    "print(f'Train features: {X_train.shape}')\n",
    "print(f'Valid features: {X_valid.shape}')\n",
    "print(f'Test  features: {X_test.shape}')\n",
    "print(f'Train target:   {y_train.shape}')\n",
    "print(f'Valid  target:  {y_valid.shape}')\n",
    "print(f'Test  target:   {y_test.shape}')"
   ]
  },
  {
   "cell_type": "markdown",
   "id": "f8a7f76d",
   "metadata": {},
   "source": [
    "### 3.2 Подготовка признаков"
   ]
  },
  {
   "cell_type": "markdown",
   "id": "45af2edc",
   "metadata": {},
   "source": [
    "#### 3.2.1 Ординальные признаки"
   ]
  },
  {
   "cell_type": "markdown",
   "id": "9f107f7d",
   "metadata": {},
   "source": [
    "Признаки ниже было решено кодироваль ординально, чтобы не \"раздувать\" в ширину набор данных для обучения."
   ]
  },
  {
   "cell_type": "code",
   "execution_count": 60,
   "id": "d7669dad",
   "metadata": {},
   "outputs": [],
   "source": [
    "ord_features = ['Brand', 'Model', 'VehicleType', 'Gearbox', 'FuelType', 'Repaired', 'Kilometer']\n",
    "ord_features_ord = list(map(lambda x: x + '_ord', ord_features))\n",
    "\n",
    "# определим категории для ординального кодирования\n",
    "ord_cats = []\n",
    "for feat in ord_features:\n",
    "    if feat == 'Kilometer':\n",
    "        ord_cats.append(np.arange(0, df1[feat].max() + 1, df1[feat].min()))\n",
    "    else:\n",
    "        ord_cats.append(df1[feat].unique())\n",
    "\n",
    "# кодирование ординальных признаков\n",
    "ord_encode = OrdinalEncoder(categories=ord_cats)\n",
    "#ord_encode = OrdinalEncoder()\n",
    "X_train[ord_features_ord] = ord_encode.fit_transform(X_train[ord_features])\n",
    "X_valid[ord_features_ord] = ord_encode.transform(X_valid[ord_features])\n",
    "X_test[ord_features_ord]  = ord_encode.transform(X_test[ord_features])\n",
    "\n",
    "X_train = X_train.drop(ord_features, axis=1)\n",
    "X_valid = X_valid.drop(ord_features, axis=1)\n",
    "X_test  = X_test.drop(ord_features, axis=1)"
   ]
  },
  {
   "cell_type": "code",
   "execution_count": 61,
   "id": "3d8303bf",
   "metadata": {},
   "outputs": [
    {
     "name": "stdout",
     "output_type": "stream",
     "text": [
      "Train features: (204155, 8)\n",
      "Valid features: (68052, 8)\n",
      "Test features:  (68052, 8)\n"
     ]
    }
   ],
   "source": [
    "print(f'Train features: {X_train.shape}')\n",
    "print(f'Valid features: {X_valid.shape}')\n",
    "print(f'Test features:  {X_test.shape}')"
   ]
  },
  {
   "cell_type": "markdown",
   "id": "37b09d66",
   "metadata": {},
   "source": [
    "## 4. Обучение моделей"
   ]
  },
  {
   "cell_type": "markdown",
   "id": "35307e71",
   "metadata": {},
   "source": [
    "### 4.1 Простые модели"
   ]
  },
  {
   "cell_type": "markdown",
   "id": "efdde9bf",
   "metadata": {},
   "source": [
    "Сначала обучим для сравнения простые модели (решающее дерево и случайный лес) на кросс-валидации и подберём параметры."
   ]
  },
  {
   "cell_type": "code",
   "execution_count": 62,
   "id": "ec37dae8",
   "metadata": {},
   "outputs": [],
   "source": [
    "# объединённая выборка для кросс-валидации\n",
    "X_cv = pd.concat([X_train, X_valid])\n",
    "y_cv = pd.concat([y_train, y_valid])"
   ]
  },
  {
   "cell_type": "code",
   "execution_count": 63,
   "id": "df65324d",
   "metadata": {},
   "outputs": [
    {
     "name": "stdout",
     "output_type": "stream",
     "text": [
      "Решающее дерево: параметры = {'max_depth': 17} RMSE = 2525.60279792983\n"
     ]
    }
   ],
   "source": [
    "dtree_params = {'max_depth': range(1, 21)}\n",
    "\n",
    "dtree_cv = GridSearchCV(estimator=DecisionTreeRegressor(random_state=RSTATE),\n",
    "                        param_grid=dtree_params,\n",
    "                        scoring='neg_root_mean_squared_error',\n",
    "                        n_jobs=-1,\n",
    "                        cv=3\n",
    "                       )\n",
    "\n",
    "dtree_cv.fit(X_cv, y_cv)\n",
    "\n",
    "print(f'Решающее дерево: параметры = {dtree_cv.best_params_} RMSE = {-dtree_cv.best_score_}')"
   ]
  },
  {
   "cell_type": "code",
   "execution_count": 64,
   "id": "d76a9850",
   "metadata": {},
   "outputs": [
    {
     "name": "stdout",
     "output_type": "stream",
     "text": [
      "Случайный лес: параметры = {'max_depth': 20, 'n_estimators': 200} RMSE = 2263.940008559657\n"
     ]
    }
   ],
   "source": [
    "rforest_params = {'max_depth': [5, 10, 20],\n",
    "                  'n_estimators': [100, 200]\n",
    "                 }\n",
    "\n",
    "rforest_cv = GridSearchCV(estimator=RandomForestRegressor(random_state=RSTATE, n_jobs=-1),\n",
    "                          param_grid=rforest_params,\n",
    "                          scoring='neg_root_mean_squared_error',\n",
    "                          n_jobs=-1,\n",
    "                          cv=3\n",
    "                         )\n",
    "\n",
    "rforest_cv.fit(X_cv, y_cv)\n",
    "\n",
    "print(f'Случайный лес: параметры = {rforest_cv.best_params_} RMSE = {-rforest_cv.best_score_}')"
   ]
  },
  {
   "cell_type": "markdown",
   "id": "9d243a06",
   "metadata": {},
   "source": [
    "### 4.2 LightGBM"
   ]
  },
  {
   "cell_type": "markdown",
   "id": "6ec8d96d",
   "metadata": {},
   "source": [
    "Теперь обучим модель LightGBM на кросс-валидации с подбором параметров."
   ]
  },
  {
   "cell_type": "code",
   "execution_count": 65,
   "id": "21206d1e",
   "metadata": {},
   "outputs": [
    {
     "name": "stdout",
     "output_type": "stream",
     "text": [
      "[LightGBM] [Warning] Accuracy may be bad since you didn't explicitly set num_leaves OR 2^max_depth > num_leaves. (num_leaves=31).\n",
      "[LightGBM] [Warning] Accuracy may be bad since you didn't explicitly set num_leaves OR 2^max_depth > num_leaves. (num_leaves=31).\n",
      "[LightGBM] [Info] Auto-choosing row-wise multi-threading, the overhead of testing was 0.005772 seconds.\n",
      "You can set `force_row_wise=true` to remove the overhead.\n",
      "And if memory is not enough, you can set `force_col_wise=true`.\n",
      "[LightGBM] [Info] Total Bins 567\n",
      "[LightGBM] [Info] Number of data points in the train set: 272207, number of used features: 8\n",
      "[LightGBM] [Info] Start training from score 4546.074271\n",
      "LightGBM: параметры = {'learning_rate': 0.5, 'max_depth': 20, 'n_estimators': 200} RMSE = 2255.103447743386\n"
     ]
    }
   ],
   "source": [
    "lgb_params = {'n_estimators': [100, 200],\n",
    "              'max_depth': [5, 10, 20],\n",
    "              'learning_rate': np.arange(0.1, 0.51, 0.1)\n",
    "             }\n",
    "\n",
    "lgb_cv = GridSearchCV(estimator=lgb.LGBMRegressor(random_state=RSTATE, n_jobs=-1),\n",
    "                      param_grid=lgb_params,\n",
    "                      scoring='neg_root_mean_squared_error',\n",
    "                      n_jobs=-1,\n",
    "                      cv=3\n",
    "                     )\n",
    "\n",
    "lgb_cv.fit(X_cv, y_cv)\n",
    "        \n",
    "print(f'LightGBM: параметры = {lgb_cv.best_params_} RMSE = {-lgb_cv.best_score_}')"
   ]
  },
  {
   "cell_type": "markdown",
   "id": "c957c552",
   "metadata": {},
   "source": [
    "## 5. Анализ моделей"
   ]
  },
  {
   "cell_type": "markdown",
   "id": "f45ab045",
   "metadata": {},
   "source": [
    "Сравним выбранные модели с лучшими найденными параметрами на соответствие критериям заказчика."
   ]
  },
  {
   "cell_type": "code",
   "execution_count": 66,
   "id": "4f28e581",
   "metadata": {},
   "outputs": [],
   "source": [
    "dtree_model = DecisionTreeRegressor(max_depth=dtree_cv.best_params_['max_depth'])\n",
    "rforest_model = RandomForestRegressor(max_depth=rforest_cv.best_params_['max_depth'],\n",
    "                                      n_estimators=rforest_cv.best_params_['n_estimators'],\n",
    "                                      n_jobs=-1\n",
    "                                     )\n",
    "lgb_model = lgb.LGBMRegressor(n_estimators=lgb_cv.best_params_['n_estimators'], \n",
    "                              max_depth=lgb_cv.best_params_['max_depth'],\n",
    "                              num_leaves=41,\n",
    "                              learning_rate=lgb_cv.best_params_['learning_rate'],\n",
    "                              random_state=RSTATE, n_jobs=-1\n",
    "                             )"
   ]
  },
  {
   "cell_type": "markdown",
   "id": "f88d2d2c",
   "metadata": {},
   "source": [
    "### 5.1 Время обучения"
   ]
  },
  {
   "cell_type": "code",
   "execution_count": 67,
   "id": "cfd03c88",
   "metadata": {},
   "outputs": [
    {
     "name": "stdout",
     "output_type": "stream",
     "text": [
      "491 ms ± 0 ns per loop (mean ± std. dev. of 1 run, 1 loop each)\n",
      "23.9 s ± 0 ns per loop (mean ± std. dev. of 1 run, 1 loop each)\n",
      "[LightGBM] [Info] Auto-choosing row-wise multi-threading, the overhead of testing was 0.003727 seconds.\n",
      "You can set `force_row_wise=true` to remove the overhead.\n",
      "And if memory is not enough, you can set `force_col_wise=true`.\n",
      "[LightGBM] [Info] Total Bins 570\n",
      "[LightGBM] [Info] Number of data points in the train set: 204155, number of used features: 8\n",
      "[LightGBM] [Info] Start training from score 4551.733918\n",
      "643 ms ± 0 ns per loop (mean ± std. dev. of 1 run, 1 loop each)\n"
     ]
    }
   ],
   "source": [
    "dtree_train_time = %timeit -n1 -r1 -o dtree_model.fit(X_train, y_train)\n",
    "rforest_train_time = %timeit -n1 -r1 -o rforest_model.fit(X_train, y_train)\n",
    "lgb_train_time = %timeit -n1 -r1 -o lgb_model.fit(X_train, y_train)"
   ]
  },
  {
   "cell_type": "code",
   "execution_count": 68,
   "id": "70020f50",
   "metadata": {
    "scrolled": true
   },
   "outputs": [
    {
     "name": "stdout",
     "output_type": "stream",
     "text": [
      "Решающее дерево: время обучения = 0.49 секунд\n",
      "Случайный лес:   время обучения = 23.86 секунд\n",
      "LightGBM:        время обучения = 0.64 секунд\n"
     ]
    }
   ],
   "source": [
    "print(f'Решающее дерево: время обучения = {round(dtree_train_time.best, 2)} секунд')\n",
    "print(f'Случайный лес:   время обучения = {round(rforest_train_time.best, 2)} секунд')\n",
    "print(f'LightGBM:        время обучения = {round(lgb_train_time.best, 2)} секунд')"
   ]
  },
  {
   "cell_type": "markdown",
   "id": "f7967f64",
   "metadata": {},
   "source": [
    "### 5.2 Время предсказания"
   ]
  },
  {
   "cell_type": "code",
   "execution_count": 69,
   "id": "19f8df56",
   "metadata": {},
   "outputs": [
    {
     "name": "stdout",
     "output_type": "stream",
     "text": [
      "20.7 ms ± 0 ns per loop (mean ± std. dev. of 1 run, 1 loop each)\n",
      "1.18 s ± 0 ns per loop (mean ± std. dev. of 1 run, 1 loop each)\n",
      "110 ms ± 0 ns per loop (mean ± std. dev. of 1 run, 1 loop each)\n"
     ]
    }
   ],
   "source": [
    "dtree_predict_time = %timeit -n1 -r1 -o dtree_model.predict(X_valid)\n",
    "rforest_predict_time = %timeit -n1 -r1 -o rforest_model.predict(X_valid)\n",
    "lgb_predict_time = %timeit -n1 -r1 -o lgb_model.predict(X_valid)"
   ]
  },
  {
   "cell_type": "code",
   "execution_count": 70,
   "id": "72ebb61e",
   "metadata": {
    "scrolled": true
   },
   "outputs": [
    {
     "name": "stdout",
     "output_type": "stream",
     "text": [
      "Решающее дерево: время предсказания = 0.02 секунд\n",
      "Случайный лес:   время предсказания = 1.18 секунд\n",
      "LightGBM:        время предсказания = 0.11 секунд\n"
     ]
    }
   ],
   "source": [
    "print(f'Решающее дерево: время предсказания = {round(dtree_predict_time.best, 2)} секунд')\n",
    "print(f'Случайный лес:   время предсказания = {round(rforest_predict_time.best, 2)} секунд')\n",
    "print(f'LightGBM:        время предсказания = {round(lgb_predict_time.best, 2)} секунд')"
   ]
  },
  {
   "cell_type": "markdown",
   "id": "6b00bdfd",
   "metadata": {},
   "source": [
    "### 5.3 Качество моделей"
   ]
  },
  {
   "cell_type": "markdown",
   "id": "14608251",
   "metadata": {},
   "source": [
    "С параметрами по умолчанию на кросс-валидации лучший результат показала модель LightGBM."
   ]
  },
  {
   "cell_type": "code",
   "execution_count": 71,
   "id": "4195238b",
   "metadata": {},
   "outputs": [
    {
     "name": "stdout",
     "output_type": "stream",
     "text": [
      "Решающее дерево: RMSE = 2503.789390898391\n",
      "Случайный лес:   RMSE = 2242.7630210715897\n",
      "LightGBM:        RMSE = 2231.6026119281814\n"
     ]
    }
   ],
   "source": [
    "print(f'Решающее дерево: RMSE = {mean_squared_error(y_valid, dtree_model.predict(X_valid), squared=False)}')\n",
    "print(f'Случайный лес:   RMSE = {mean_squared_error(y_valid, rforest_model.predict(X_valid), squared=False)}')\n",
    "print(f'LightGBM:        RMSE = {mean_squared_error(y_valid, lgb_model.predict(X_valid), squared=False)}')"
   ]
  },
  {
   "cell_type": "markdown",
   "id": "01f4d5eb",
   "metadata": {},
   "source": [
    "### 5.4 Выводы 2"
   ]
  },
  {
   "cell_type": "markdown",
   "id": "9da9db26",
   "metadata": {},
   "source": [
    "<div style=\"border:solid darkcyan 2px; padding: 20px; border-radius: 10px\">\n",
    "\n",
    "Анализ моделей показал, что качество моделей LightGBM чуть выше чем у RandomForest, однако, RandomForest обучается и прогнозирует значительно медленнее. Качество же DecisionTree заметно ниже, чем у этих двух моделей. Исходя из требований заказчика для тестирования выбираем модель **LightGBM**."
   ]
  },
  {
   "cell_type": "markdown",
   "id": "32a2f3c0",
   "metadata": {},
   "source": [
    "## 6. Проверка лучшей модели"
   ]
  },
  {
   "cell_type": "markdown",
   "id": "54c971c4",
   "metadata": {},
   "source": [
    "Проверим лучшую модель на тестовой выборке и оценим её качество."
   ]
  },
  {
   "cell_type": "code",
   "execution_count": 72,
   "id": "99dad934",
   "metadata": {},
   "outputs": [
    {
     "name": "stdout",
     "output_type": "stream",
     "text": [
      "Лучшая модель: RMSE = 2219.060178459619\n"
     ]
    }
   ],
   "source": [
    "print(f'Лучшая модель: RMSE = {mean_squared_error(y_test, lgb_model.predict(X_test), squared=False)}')"
   ]
  },
  {
   "cell_type": "markdown",
   "id": "7a4b00a0",
   "metadata": {},
   "source": [
    "Оценим важность признаков в модели."
   ]
  },
  {
   "cell_type": "code",
   "execution_count": 73,
   "id": "e7d8298b",
   "metadata": {},
   "outputs": [
    {
     "data": {
      "text/plain": [
       "Power              2817\n",
       "Model_ord          1734\n",
       "Kilometer_ord      1154\n",
       "Brand_ord          1152\n",
       "VehicleType_ord     753\n",
       "Gearbox_ord         237\n",
       "Repaired_ord         90\n",
       "FuelType_ord         63\n",
       "dtype: int32"
      ]
     },
     "execution_count": 73,
     "metadata": {},
     "output_type": "execute_result"
    }
   ],
   "source": [
    "pd.Series(data=lgb_model.feature_importances_, index=lgb_model.feature_name_).sort_values(ascending=False)"
   ]
  },
  {
   "cell_type": "markdown",
   "id": "d5a48dc9",
   "metadata": {},
   "source": [
    "Оценим \"вменяемость\" модели, сравнив её dummy-моделью (среднее значение)."
   ]
  },
  {
   "cell_type": "code",
   "execution_count": 74,
   "id": "88d91d84",
   "metadata": {},
   "outputs": [
    {
     "name": "stdout",
     "output_type": "stream",
     "text": [
      "Dummy-модель: RMSE = 4501.023069020895\n"
     ]
    }
   ],
   "source": [
    "dummy_model = DummyRegressor(strategy='mean')\n",
    "dummy_model.fit(X_test, y_test)\n",
    "print(f'Dummy-модель: RMSE = {mean_squared_error(y_test, dummy_model.predict(X_test), squared=False)}')"
   ]
  },
  {
   "cell_type": "markdown",
   "id": "35f3a376",
   "metadata": {},
   "source": [
    "## 7. Выводы"
   ]
  },
  {
   "cell_type": "markdown",
   "id": "ffad7a7e",
   "metadata": {},
   "source": [
    "<div style=\"border:solid darkcyan 2px; padding: 20px; border-radius: 10px\">\n",
    "\n",
    "1. Данные оказались не самого высокого качества: у части автомобилей отсутствуют значимые данные (мощность, ремонт), присутствует большое число аномалий. Всё это связано, вероятно, со способом ввода и обработки данных. Стоит ввести проверку вводимой информации для улучшения качества исходных данных. Часть пропущенных значений и аномалий была обработана, чтобы и сохранить данные и не ухудшить качество моделей.\n",
    "2. Данные были разделены и признаки были закодированы.\n",
    "3. Выбраны три модели: DecisionTree, RandomForest и LightGBM. Методом кросс-валидации были найдены лучшие параметры для них.\n",
    "4. Модели были обучены, проведено их сравнение на соответствие их требованиям заказчика (время обучения, время прогнозирования, качество). Лучшая модель - **LightGBM**.\n",
    "5. В лучшей модели наиболее важными признаками стали: мощность двигателя, бренд и модель автомобиля, пробег."
   ]
  }
 ],
 "metadata": {
  "ExecuteTimeLog": [
   {
    "duration": 3453,
    "start_time": "2023-10-28T15:17:39.988Z"
   },
   {
    "duration": 1279,
    "start_time": "2023-10-28T15:17:43.444Z"
   },
   {
    "duration": 153,
    "start_time": "2023-10-28T15:17:44.724Z"
   },
   {
    "duration": 55,
    "start_time": "2023-10-28T15:17:44.879Z"
   },
   {
    "duration": 303,
    "start_time": "2023-10-28T15:17:44.936Z"
   },
   {
    "duration": 184,
    "start_time": "2023-10-28T15:17:45.241Z"
   },
   {
    "duration": 183,
    "start_time": "2023-10-28T15:17:45.427Z"
   },
   {
    "duration": 106,
    "start_time": "2023-10-28T15:17:45.612Z"
   },
   {
    "duration": 0,
    "start_time": "2023-10-28T15:17:45.721Z"
   },
   {
    "duration": 1,
    "start_time": "2023-10-28T15:17:45.721Z"
   },
   {
    "duration": 0,
    "start_time": "2023-10-28T15:17:45.723Z"
   },
   {
    "duration": 0,
    "start_time": "2023-10-28T15:17:45.724Z"
   },
   {
    "duration": 0,
    "start_time": "2023-10-28T15:17:45.725Z"
   },
   {
    "duration": 0,
    "start_time": "2023-10-28T15:17:45.726Z"
   },
   {
    "duration": 0,
    "start_time": "2023-10-28T15:17:45.727Z"
   },
   {
    "duration": 0,
    "start_time": "2023-10-28T15:17:45.727Z"
   },
   {
    "duration": 0,
    "start_time": "2023-10-28T15:17:45.728Z"
   },
   {
    "duration": 0,
    "start_time": "2023-10-28T15:17:45.729Z"
   },
   {
    "duration": 0,
    "start_time": "2023-10-28T15:17:45.730Z"
   },
   {
    "duration": 0,
    "start_time": "2023-10-28T15:17:45.731Z"
   },
   {
    "duration": 0,
    "start_time": "2023-10-28T15:17:45.732Z"
   },
   {
    "duration": 0,
    "start_time": "2023-10-28T15:17:45.733Z"
   },
   {
    "duration": 0,
    "start_time": "2023-10-28T15:17:45.734Z"
   },
   {
    "duration": 0,
    "start_time": "2023-10-28T15:17:45.735Z"
   },
   {
    "duration": 0,
    "start_time": "2023-10-28T15:17:45.736Z"
   },
   {
    "duration": 0,
    "start_time": "2023-10-28T15:17:45.737Z"
   },
   {
    "duration": 1,
    "start_time": "2023-10-28T15:17:45.738Z"
   },
   {
    "duration": 0,
    "start_time": "2023-10-28T15:17:45.740Z"
   },
   {
    "duration": 0,
    "start_time": "2023-10-28T15:17:45.741Z"
   },
   {
    "duration": 0,
    "start_time": "2023-10-28T15:17:45.742Z"
   },
   {
    "duration": 0,
    "start_time": "2023-10-28T15:17:45.742Z"
   },
   {
    "duration": 0,
    "start_time": "2023-10-28T15:17:45.744Z"
   },
   {
    "duration": 0,
    "start_time": "2023-10-28T15:17:45.745Z"
   },
   {
    "duration": 0,
    "start_time": "2023-10-28T15:17:45.746Z"
   },
   {
    "duration": 0,
    "start_time": "2023-10-28T15:17:45.747Z"
   },
   {
    "duration": 0,
    "start_time": "2023-10-28T15:17:45.748Z"
   },
   {
    "duration": 0,
    "start_time": "2023-10-28T15:17:45.749Z"
   },
   {
    "duration": 0,
    "start_time": "2023-10-28T15:17:45.750Z"
   },
   {
    "duration": 0,
    "start_time": "2023-10-28T15:17:45.751Z"
   },
   {
    "duration": 0,
    "start_time": "2023-10-28T15:17:45.810Z"
   },
   {
    "duration": 0,
    "start_time": "2023-10-28T15:17:45.811Z"
   },
   {
    "duration": 0,
    "start_time": "2023-10-28T15:17:45.813Z"
   },
   {
    "duration": 0,
    "start_time": "2023-10-28T15:17:45.813Z"
   },
   {
    "duration": 0,
    "start_time": "2023-10-28T15:17:45.815Z"
   },
   {
    "duration": 0,
    "start_time": "2023-10-28T15:17:45.817Z"
   },
   {
    "duration": 0,
    "start_time": "2023-10-28T15:17:45.819Z"
   },
   {
    "duration": 0,
    "start_time": "2023-10-28T15:17:45.820Z"
   },
   {
    "duration": 0,
    "start_time": "2023-10-28T15:17:45.822Z"
   },
   {
    "duration": 0,
    "start_time": "2023-10-28T15:17:45.823Z"
   },
   {
    "duration": 184,
    "start_time": "2023-10-28T15:18:26.760Z"
   },
   {
    "duration": 20,
    "start_time": "2023-10-28T15:18:42.177Z"
   },
   {
    "duration": 122,
    "start_time": "2023-10-28T15:18:42.199Z"
   },
   {
    "duration": 38,
    "start_time": "2023-10-28T15:18:42.323Z"
   },
   {
    "duration": 0,
    "start_time": "2023-10-28T15:18:42.364Z"
   },
   {
    "duration": 0,
    "start_time": "2023-10-28T15:18:42.366Z"
   },
   {
    "duration": 0,
    "start_time": "2023-10-28T15:18:42.368Z"
   },
   {
    "duration": 0,
    "start_time": "2023-10-28T15:18:42.369Z"
   },
   {
    "duration": 0,
    "start_time": "2023-10-28T15:18:42.370Z"
   },
   {
    "duration": 0,
    "start_time": "2023-10-28T15:18:42.372Z"
   },
   {
    "duration": 0,
    "start_time": "2023-10-28T15:18:42.373Z"
   },
   {
    "duration": 0,
    "start_time": "2023-10-28T15:18:42.375Z"
   },
   {
    "duration": 0,
    "start_time": "2023-10-28T15:18:42.406Z"
   },
   {
    "duration": 0,
    "start_time": "2023-10-28T15:18:42.407Z"
   },
   {
    "duration": 0,
    "start_time": "2023-10-28T15:18:42.408Z"
   },
   {
    "duration": 0,
    "start_time": "2023-10-28T15:18:42.410Z"
   },
   {
    "duration": 0,
    "start_time": "2023-10-28T15:18:42.411Z"
   },
   {
    "duration": 0,
    "start_time": "2023-10-28T15:18:42.412Z"
   },
   {
    "duration": 0,
    "start_time": "2023-10-28T15:18:42.413Z"
   },
   {
    "duration": 0,
    "start_time": "2023-10-28T15:18:42.414Z"
   },
   {
    "duration": 0,
    "start_time": "2023-10-28T15:18:42.415Z"
   },
   {
    "duration": 0,
    "start_time": "2023-10-28T15:18:42.417Z"
   },
   {
    "duration": 0,
    "start_time": "2023-10-28T15:18:42.418Z"
   },
   {
    "duration": 0,
    "start_time": "2023-10-28T15:18:42.419Z"
   },
   {
    "duration": 0,
    "start_time": "2023-10-28T15:18:42.420Z"
   },
   {
    "duration": 0,
    "start_time": "2023-10-28T15:18:42.421Z"
   },
   {
    "duration": 0,
    "start_time": "2023-10-28T15:18:42.422Z"
   },
   {
    "duration": 0,
    "start_time": "2023-10-28T15:18:42.423Z"
   },
   {
    "duration": 0,
    "start_time": "2023-10-28T15:18:42.424Z"
   },
   {
    "duration": 0,
    "start_time": "2023-10-28T15:18:42.425Z"
   },
   {
    "duration": 0,
    "start_time": "2023-10-28T15:18:42.426Z"
   },
   {
    "duration": 0,
    "start_time": "2023-10-28T15:18:42.427Z"
   },
   {
    "duration": 0,
    "start_time": "2023-10-28T15:18:42.429Z"
   },
   {
    "duration": 0,
    "start_time": "2023-10-28T15:18:42.430Z"
   },
   {
    "duration": 0,
    "start_time": "2023-10-28T15:18:42.431Z"
   },
   {
    "duration": 0,
    "start_time": "2023-10-28T15:18:42.432Z"
   },
   {
    "duration": 0,
    "start_time": "2023-10-28T15:18:42.433Z"
   },
   {
    "duration": 0,
    "start_time": "2023-10-28T15:18:42.434Z"
   },
   {
    "duration": 0,
    "start_time": "2023-10-28T15:18:42.435Z"
   },
   {
    "duration": 0,
    "start_time": "2023-10-28T15:18:42.437Z"
   },
   {
    "duration": 0,
    "start_time": "2023-10-28T15:18:42.438Z"
   },
   {
    "duration": 0,
    "start_time": "2023-10-28T15:18:42.440Z"
   },
   {
    "duration": 121,
    "start_time": "2023-10-28T15:19:01.423Z"
   },
   {
    "duration": 15,
    "start_time": "2023-10-28T15:19:11.654Z"
   },
   {
    "duration": 0,
    "start_time": "2023-10-28T15:19:11.671Z"
   },
   {
    "duration": 0,
    "start_time": "2023-10-28T15:19:11.672Z"
   },
   {
    "duration": 0,
    "start_time": "2023-10-28T15:19:11.673Z"
   },
   {
    "duration": 0,
    "start_time": "2023-10-28T15:19:11.674Z"
   },
   {
    "duration": 0,
    "start_time": "2023-10-28T15:19:11.675Z"
   },
   {
    "duration": 0,
    "start_time": "2023-10-28T15:19:11.676Z"
   },
   {
    "duration": 0,
    "start_time": "2023-10-28T15:19:11.677Z"
   },
   {
    "duration": 12,
    "start_time": "2023-10-28T15:19:11.679Z"
   },
   {
    "duration": 3,
    "start_time": "2023-10-28T15:19:11.693Z"
   },
   {
    "duration": 187,
    "start_time": "2023-10-28T15:19:11.698Z"
   },
   {
    "duration": 40,
    "start_time": "2023-10-28T15:19:11.887Z"
   },
   {
    "duration": 22,
    "start_time": "2023-10-28T15:19:11.928Z"
   },
   {
    "duration": 216,
    "start_time": "2023-10-28T15:19:11.952Z"
   },
   {
    "duration": 0,
    "start_time": "2023-10-28T15:19:12.170Z"
   },
   {
    "duration": 0,
    "start_time": "2023-10-28T15:19:12.172Z"
   },
   {
    "duration": 0,
    "start_time": "2023-10-28T15:19:12.173Z"
   },
   {
    "duration": 0,
    "start_time": "2023-10-28T15:19:12.174Z"
   },
   {
    "duration": 0,
    "start_time": "2023-10-28T15:19:12.175Z"
   },
   {
    "duration": 0,
    "start_time": "2023-10-28T15:19:12.176Z"
   },
   {
    "duration": 0,
    "start_time": "2023-10-28T15:19:12.177Z"
   },
   {
    "duration": 0,
    "start_time": "2023-10-28T15:19:12.178Z"
   },
   {
    "duration": 0,
    "start_time": "2023-10-28T15:19:12.179Z"
   },
   {
    "duration": 0,
    "start_time": "2023-10-28T15:19:12.180Z"
   },
   {
    "duration": 0,
    "start_time": "2023-10-28T15:19:12.181Z"
   },
   {
    "duration": 0,
    "start_time": "2023-10-28T15:19:12.182Z"
   },
   {
    "duration": 0,
    "start_time": "2023-10-28T15:19:12.207Z"
   },
   {
    "duration": 0,
    "start_time": "2023-10-28T15:19:12.208Z"
   },
   {
    "duration": 0,
    "start_time": "2023-10-28T15:19:12.209Z"
   },
   {
    "duration": 0,
    "start_time": "2023-10-28T15:19:12.210Z"
   },
   {
    "duration": 0,
    "start_time": "2023-10-28T15:19:12.211Z"
   },
   {
    "duration": 0,
    "start_time": "2023-10-28T15:19:12.212Z"
   },
   {
    "duration": 0,
    "start_time": "2023-10-28T15:19:12.213Z"
   },
   {
    "duration": 0,
    "start_time": "2023-10-28T15:19:12.214Z"
   },
   {
    "duration": 0,
    "start_time": "2023-10-28T15:19:12.215Z"
   },
   {
    "duration": 0,
    "start_time": "2023-10-28T15:19:12.216Z"
   },
   {
    "duration": 0,
    "start_time": "2023-10-28T15:19:12.218Z"
   },
   {
    "duration": 0,
    "start_time": "2023-10-28T15:19:12.218Z"
   },
   {
    "duration": 63,
    "start_time": "2023-10-28T15:20:02.223Z"
   },
   {
    "duration": 18,
    "start_time": "2023-10-28T15:20:04.529Z"
   },
   {
    "duration": 64,
    "start_time": "2023-10-28T15:20:05.914Z"
   },
   {
    "duration": 211,
    "start_time": "2023-10-28T15:20:19.052Z"
   },
   {
    "duration": 118,
    "start_time": "2023-10-28T15:20:54.506Z"
   },
   {
    "duration": 9,
    "start_time": "2023-10-28T15:20:54.914Z"
   },
   {
    "duration": 113,
    "start_time": "2023-10-28T15:21:01.468Z"
   },
   {
    "duration": 102,
    "start_time": "2023-10-28T15:21:06.066Z"
   },
   {
    "duration": 21,
    "start_time": "2023-10-28T15:21:14.389Z"
   },
   {
    "duration": 193,
    "start_time": "2023-10-28T15:21:22.806Z"
   },
   {
    "duration": 247,
    "start_time": "2023-10-28T15:21:28.704Z"
   },
   {
    "duration": 18,
    "start_time": "2023-10-28T15:21:41.352Z"
   },
   {
    "duration": 17,
    "start_time": "2023-10-28T15:21:57.681Z"
   },
   {
    "duration": 16,
    "start_time": "2023-10-28T15:23:18.908Z"
   },
   {
    "duration": 15,
    "start_time": "2023-10-28T15:23:27.514Z"
   },
   {
    "duration": 15,
    "start_time": "2023-10-28T15:23:54.994Z"
   },
   {
    "duration": 283,
    "start_time": "2023-10-28T15:23:59.575Z"
   },
   {
    "duration": 15,
    "start_time": "2023-10-28T15:24:07.970Z"
   },
   {
    "duration": 305,
    "start_time": "2023-10-28T15:27:08.387Z"
   },
   {
    "duration": 312,
    "start_time": "2023-10-28T15:28:00.774Z"
   },
   {
    "duration": 10,
    "start_time": "2023-10-28T15:28:29.259Z"
   },
   {
    "duration": 267,
    "start_time": "2023-10-28T15:31:30.336Z"
   },
   {
    "duration": 24,
    "start_time": "2023-10-28T15:33:06.973Z"
   },
   {
    "duration": 81,
    "start_time": "2023-10-28T15:35:11.713Z"
   },
   {
    "duration": 42,
    "start_time": "2023-10-28T15:35:29.875Z"
   },
   {
    "duration": 22,
    "start_time": "2023-10-28T15:35:39.113Z"
   },
   {
    "duration": 25,
    "start_time": "2023-10-28T15:35:59.432Z"
   },
   {
    "duration": 4,
    "start_time": "2023-10-28T15:36:48.377Z"
   },
   {
    "duration": 5,
    "start_time": "2023-10-28T16:01:28.461Z"
   },
   {
    "duration": 947,
    "start_time": "2023-10-28T16:01:28.468Z"
   },
   {
    "duration": 171,
    "start_time": "2023-10-28T16:01:29.417Z"
   },
   {
    "duration": 43,
    "start_time": "2023-10-28T16:01:29.591Z"
   },
   {
    "duration": 405,
    "start_time": "2023-10-28T16:01:29.636Z"
   },
   {
    "duration": 206,
    "start_time": "2023-10-28T16:01:30.044Z"
   },
   {
    "duration": 171,
    "start_time": "2023-10-28T16:01:30.252Z"
   },
   {
    "duration": 14,
    "start_time": "2023-10-28T16:01:30.425Z"
   },
   {
    "duration": 1,
    "start_time": "2023-10-28T16:01:30.441Z"
   },
   {
    "duration": 0,
    "start_time": "2023-10-28T16:01:30.443Z"
   },
   {
    "duration": 0,
    "start_time": "2023-10-28T16:01:30.444Z"
   },
   {
    "duration": 18,
    "start_time": "2023-10-28T16:01:37.208Z"
   },
   {
    "duration": 17,
    "start_time": "2023-10-28T16:01:57.638Z"
   },
   {
    "duration": 96,
    "start_time": "2023-10-28T16:02:48.850Z"
   },
   {
    "duration": 38,
    "start_time": "2023-10-28T16:03:03.076Z"
   },
   {
    "duration": 73,
    "start_time": "2023-10-28T16:03:08.008Z"
   },
   {
    "duration": 30,
    "start_time": "2023-10-28T16:03:54.023Z"
   },
   {
    "duration": 165,
    "start_time": "2023-10-28T16:04:04.657Z"
   },
   {
    "duration": 14,
    "start_time": "2023-10-28T16:04:11.888Z"
   },
   {
    "duration": 98,
    "start_time": "2023-10-28T16:04:19.651Z"
   },
   {
    "duration": 6,
    "start_time": "2023-10-28T16:04:28.462Z"
   },
   {
    "duration": 43693,
    "start_time": "2023-10-28T16:04:31.369Z"
   },
   {
    "duration": 192,
    "start_time": "2023-10-28T16:05:18.757Z"
   },
   {
    "duration": 111,
    "start_time": "2023-10-28T16:05:23.565Z"
   },
   {
    "duration": 1990,
    "start_time": "2023-10-28T16:05:24.634Z"
   },
   {
    "duration": 21,
    "start_time": "2023-10-28T16:05:31.430Z"
   },
   {
    "duration": 43,
    "start_time": "2023-10-28T16:05:32.283Z"
   },
   {
    "duration": 12,
    "start_time": "2023-10-28T16:05:35.002Z"
   },
   {
    "duration": 4,
    "start_time": "2023-10-28T16:05:35.647Z"
   },
   {
    "duration": 171,
    "start_time": "2023-10-28T16:05:37.332Z"
   },
   {
    "duration": 34,
    "start_time": "2023-10-28T16:05:38.272Z"
   },
   {
    "duration": 21,
    "start_time": "2023-10-28T16:05:40.331Z"
   },
   {
    "duration": 28189,
    "start_time": "2023-10-28T16:05:42.331Z"
   },
   {
    "duration": 36,
    "start_time": "2023-10-28T16:06:17.971Z"
   },
   {
    "duration": 17,
    "start_time": "2023-10-28T16:06:19.753Z"
   },
   {
    "duration": 39,
    "start_time": "2023-10-28T16:06:20.937Z"
   },
   {
    "duration": 204,
    "start_time": "2023-10-28T16:06:22.290Z"
   },
   {
    "duration": 107,
    "start_time": "2023-10-28T16:06:23.831Z"
   },
   {
    "duration": 10,
    "start_time": "2023-10-28T16:06:24.617Z"
   },
   {
    "duration": 131,
    "start_time": "2023-10-28T16:06:30.137Z"
   },
   {
    "duration": 72,
    "start_time": "2023-10-28T16:06:33.995Z"
   },
   {
    "duration": 123,
    "start_time": "2023-10-28T16:06:36.408Z"
   },
   {
    "duration": 154,
    "start_time": "2023-10-28T16:06:39.971Z"
   },
   {
    "duration": 18,
    "start_time": "2023-10-28T16:06:43.366Z"
   },
   {
    "duration": 248,
    "start_time": "2023-10-28T16:06:50.030Z"
   },
   {
    "duration": 6623,
    "start_time": "2023-10-28T16:07:22.863Z"
   },
   {
    "duration": 155,
    "start_time": "2023-10-28T16:07:33.540Z"
   },
   {
    "duration": 231,
    "start_time": "2023-10-28T16:07:38.942Z"
   },
   {
    "duration": 4,
    "start_time": "2023-10-28T16:08:22.656Z"
   },
   {
    "duration": 222,
    "start_time": "2023-10-28T16:08:40.497Z"
   },
   {
    "duration": 4,
    "start_time": "2023-10-28T16:10:35.230Z"
   },
   {
    "duration": 21,
    "start_time": "2023-10-28T16:10:40.909Z"
   },
   {
    "duration": 274,
    "start_time": "2023-10-28T16:10:47.629Z"
   },
   {
    "duration": 10,
    "start_time": "2023-10-28T16:12:28.390Z"
   },
   {
    "duration": 6,
    "start_time": "2023-10-28T16:12:32.319Z"
   },
   {
    "duration": 1906,
    "start_time": "2023-10-28T16:12:51.117Z"
   },
   {
    "duration": 18,
    "start_time": "2023-10-28T16:14:03.137Z"
   },
   {
    "duration": 15,
    "start_time": "2023-10-28T16:14:19.442Z"
   },
   {
    "duration": 14,
    "start_time": "2023-10-28T16:14:41.150Z"
   },
   {
    "duration": 67,
    "start_time": "2023-10-28T16:14:50.031Z"
   },
   {
    "duration": 6,
    "start_time": "2023-10-28T16:15:01.492Z"
   },
   {
    "duration": 5,
    "start_time": "2023-10-28T16:15:45.398Z"
   },
   {
    "duration": 1057,
    "start_time": "2023-10-28T16:15:45.406Z"
   },
   {
    "duration": 216,
    "start_time": "2023-10-28T16:15:46.466Z"
   },
   {
    "duration": 41,
    "start_time": "2023-10-28T16:15:46.685Z"
   },
   {
    "duration": 372,
    "start_time": "2023-10-28T16:15:46.728Z"
   },
   {
    "duration": 194,
    "start_time": "2023-10-28T16:15:47.102Z"
   },
   {
    "duration": 178,
    "start_time": "2023-10-28T16:15:47.298Z"
   },
   {
    "duration": 11,
    "start_time": "2023-10-28T16:15:47.479Z"
   },
   {
    "duration": 1,
    "start_time": "2023-10-28T16:15:47.493Z"
   },
   {
    "duration": 0,
    "start_time": "2023-10-28T16:15:47.507Z"
   },
   {
    "duration": 0,
    "start_time": "2023-10-28T16:15:47.508Z"
   },
   {
    "duration": 1,
    "start_time": "2023-10-28T16:15:47.509Z"
   },
   {
    "duration": 0,
    "start_time": "2023-10-28T16:15:47.511Z"
   },
   {
    "duration": 0,
    "start_time": "2023-10-28T16:15:47.514Z"
   },
   {
    "duration": 1,
    "start_time": "2023-10-28T16:15:47.515Z"
   },
   {
    "duration": 0,
    "start_time": "2023-10-28T16:15:47.517Z"
   },
   {
    "duration": 0,
    "start_time": "2023-10-28T16:15:47.519Z"
   },
   {
    "duration": 0,
    "start_time": "2023-10-28T16:15:47.520Z"
   },
   {
    "duration": 0,
    "start_time": "2023-10-28T16:15:47.522Z"
   },
   {
    "duration": 0,
    "start_time": "2023-10-28T16:15:47.523Z"
   },
   {
    "duration": 0,
    "start_time": "2023-10-28T16:15:47.524Z"
   },
   {
    "duration": 0,
    "start_time": "2023-10-28T16:15:47.526Z"
   },
   {
    "duration": 0,
    "start_time": "2023-10-28T16:15:47.527Z"
   },
   {
    "duration": 0,
    "start_time": "2023-10-28T16:15:47.529Z"
   },
   {
    "duration": 0,
    "start_time": "2023-10-28T16:15:47.530Z"
   },
   {
    "duration": 0,
    "start_time": "2023-10-28T16:15:47.533Z"
   },
   {
    "duration": 0,
    "start_time": "2023-10-28T16:15:47.534Z"
   },
   {
    "duration": 0,
    "start_time": "2023-10-28T16:15:47.536Z"
   },
   {
    "duration": 0,
    "start_time": "2023-10-28T16:15:47.537Z"
   },
   {
    "duration": 0,
    "start_time": "2023-10-28T16:15:47.538Z"
   },
   {
    "duration": 0,
    "start_time": "2023-10-28T16:15:47.539Z"
   },
   {
    "duration": 0,
    "start_time": "2023-10-28T16:15:47.541Z"
   },
   {
    "duration": 0,
    "start_time": "2023-10-28T16:15:47.543Z"
   },
   {
    "duration": 0,
    "start_time": "2023-10-28T16:15:47.544Z"
   },
   {
    "duration": 185,
    "start_time": "2023-10-28T16:16:53.052Z"
   },
   {
    "duration": 20,
    "start_time": "2023-10-28T16:16:59.070Z"
   },
   {
    "duration": 164,
    "start_time": "2023-10-28T16:17:00.008Z"
   },
   {
    "duration": 49,
    "start_time": "2023-10-28T16:17:01.355Z"
   },
   {
    "duration": 134,
    "start_time": "2023-10-28T16:17:05.134Z"
   },
   {
    "duration": 17,
    "start_time": "2023-10-28T16:17:09.226Z"
   },
   {
    "duration": 102,
    "start_time": "2023-10-28T16:17:23.442Z"
   },
   {
    "duration": 8,
    "start_time": "2023-10-28T16:17:32.928Z"
   },
   {
    "duration": 50783,
    "start_time": "2023-10-28T16:17:34.331Z"
   },
   {
    "duration": 236,
    "start_time": "2023-10-28T16:18:25.116Z"
   },
   {
    "duration": 90,
    "start_time": "2023-10-28T16:18:25.354Z"
   },
   {
    "duration": 1779,
    "start_time": "2023-10-28T16:18:25.447Z"
   },
   {
    "duration": 214,
    "start_time": "2023-10-28T16:18:28.100Z"
   },
   {
    "duration": 81,
    "start_time": "2023-10-28T16:18:30.150Z"
   },
   {
    "duration": 2186,
    "start_time": "2023-10-28T16:18:30.603Z"
   },
   {
    "duration": 25,
    "start_time": "2023-10-28T16:18:32.791Z"
   },
   {
    "duration": 43,
    "start_time": "2023-10-28T16:18:34.136Z"
   },
   {
    "duration": 13,
    "start_time": "2023-10-28T16:18:36.169Z"
   },
   {
    "duration": 5,
    "start_time": "2023-10-28T16:18:37.019Z"
   },
   {
    "duration": 187,
    "start_time": "2023-10-28T16:18:38.659Z"
   },
   {
    "duration": 37,
    "start_time": "2023-10-28T16:18:39.682Z"
   },
   {
    "duration": 27,
    "start_time": "2023-10-28T16:18:40.679Z"
   },
   {
    "duration": 28104,
    "start_time": "2023-10-28T16:18:42.143Z"
   },
   {
    "duration": 34,
    "start_time": "2023-10-28T16:19:10.249Z"
   },
   {
    "duration": 22,
    "start_time": "2023-10-28T16:19:15.293Z"
   },
   {
    "duration": 45,
    "start_time": "2023-10-28T16:19:16.250Z"
   },
   {
    "duration": 248,
    "start_time": "2023-10-28T16:19:17.894Z"
   },
   {
    "duration": 105,
    "start_time": "2023-10-28T16:19:20.710Z"
   },
   {
    "duration": 10,
    "start_time": "2023-10-28T16:19:22.092Z"
   },
   {
    "duration": 94,
    "start_time": "2023-10-28T16:19:27.624Z"
   },
   {
    "duration": 106,
    "start_time": "2023-10-28T16:19:34.204Z"
   },
   {
    "duration": 118,
    "start_time": "2023-10-28T16:19:36.567Z"
   },
   {
    "duration": 142,
    "start_time": "2023-10-28T16:19:38.770Z"
   },
   {
    "duration": 87,
    "start_time": "2023-10-28T16:19:44.947Z"
   },
   {
    "duration": 1942,
    "start_time": "2023-10-28T16:19:51.717Z"
   },
   {
    "duration": 583,
    "start_time": "2023-10-28T16:20:07.927Z"
   },
   {
    "duration": 4,
    "start_time": "2023-10-28T16:20:13.755Z"
   },
   {
    "duration": 16,
    "start_time": "2023-10-28T16:20:16.233Z"
   },
   {
    "duration": 55,
    "start_time": "2023-10-28T16:20:23.508Z"
   },
   {
    "duration": 17,
    "start_time": "2023-10-28T16:21:26.212Z"
   },
   {
    "duration": 29094,
    "start_time": "2023-10-28T16:21:26.879Z"
   },
   {
    "duration": 1003081,
    "start_time": "2023-10-28T16:21:55.976Z"
   },
   {
    "duration": 3297,
    "start_time": "2023-10-29T19:51:37.877Z"
   },
   {
    "duration": 1343,
    "start_time": "2023-10-29T19:51:41.176Z"
   },
   {
    "duration": 208,
    "start_time": "2023-10-29T19:51:53.186Z"
   },
   {
    "duration": 53,
    "start_time": "2023-10-29T19:51:57.948Z"
   },
   {
    "duration": 333,
    "start_time": "2023-10-29T19:51:59.902Z"
   },
   {
    "duration": 98,
    "start_time": "2023-10-29T19:52:21.544Z"
   },
   {
    "duration": 129,
    "start_time": "2023-10-29T19:52:28.860Z"
   },
   {
    "duration": 552,
    "start_time": "2023-10-29T19:52:36.086Z"
   },
   {
    "duration": 5,
    "start_time": "2023-10-29T19:53:08.041Z"
   },
   {
    "duration": 5,
    "start_time": "2023-10-29T19:53:13.757Z"
   },
   {
    "duration": 6,
    "start_time": "2023-10-29T19:53:18.790Z"
   }
  ],
  "kernelspec": {
   "display_name": "Python 3 (ipykernel)",
   "language": "python",
   "name": "python3"
  },
  "language_info": {
   "codemirror_mode": {
    "name": "ipython",
    "version": 3
   },
   "file_extension": ".py",
   "mimetype": "text/x-python",
   "name": "python",
   "nbconvert_exporter": "python",
   "pygments_lexer": "ipython3",
   "version": "3.10.9"
  },
  "toc": {
   "base_numbering": "0",
   "nav_menu": {
    "height": "517px",
    "width": "377px"
   },
   "number_sections": false,
   "sideBar": true,
   "skip_h1_title": false,
   "title_cell": "Table of Contents",
   "title_sidebar": "Contents",
   "toc_cell": false,
   "toc_position": {
    "height": "calc(100% - 180px)",
    "left": "10px",
    "top": "150px",
    "width": "288px"
   },
   "toc_section_display": true,
   "toc_window_display": false
  }
 },
 "nbformat": 4,
 "nbformat_minor": 5
}
